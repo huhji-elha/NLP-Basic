{
  "nbformat": 4,
  "nbformat_minor": 0,
  "metadata": {
    "accelerator": "GPU",
    "colab": {
      "name": "CommonLit_NLP_Guide.ipynb",
      "provenance": [],
      "collapsed_sections": [],
      "toc_visible": true,
      "authorship_tag": "ABX9TyNWu+KW84Q9+QRt6OT2YSPK",
      "include_colab_link": true
    },
    "kernelspec": {
      "display_name": "Python 3",
      "name": "python3"
    },
    "language_info": {
      "name": "python"
    }
  },
  "cells": [
    {
      "cell_type": "markdown",
      "metadata": {
        "id": "view-in-github",
        "colab_type": "text"
      },
      "source": [
        "<a href=\"https://colab.research.google.com/github/huhji/NLP-Basic/blob/main/CommonLit_NLP_Guide.ipynb\" target=\"_parent\"><img src=\"https://colab.research.google.com/assets/colab-badge.svg\" alt=\"Open In Colab\"/></a>"
      ]
    },
    {
      "cell_type": "markdown",
      "metadata": {
        "id": "lPMG4thcAf8t"
      },
      "source": [
        "# Common Lit: Detailed Guide to Learn NLP"
      ]
    },
    {
      "cell_type": "markdown",
      "metadata": {
        "id": "Eg_qphfVBaID"
      },
      "source": [
        "## Library Importations"
      ]
    },
    {
      "cell_type": "code",
      "metadata": {
        "id": "JctTHrytn8ug"
      },
      "source": [
        "!pip install -U scikit-learn\n",
        "!python3 -m spacy download en_core_web_lg"
      ],
      "execution_count": null,
      "outputs": []
    },
    {
      "cell_type": "code",
      "metadata": {
        "colab": {
          "base_uri": "https://localhost:8080/"
        },
        "id": "PD66vZ_ZXTMx",
        "outputId": "0bc85a2f-267a-4870-8740-a08957b01dea"
      },
      "source": [
        "import gc\n",
        "gc.collect()"
      ],
      "execution_count": null,
      "outputs": [
        {
          "output_type": "execute_result",
          "data": {
            "text/plain": [
              "111"
            ]
          },
          "metadata": {
            "tags": []
          },
          "execution_count": 3
        }
      ]
    },
    {
      "cell_type": "code",
      "metadata": {
        "colab": {
          "base_uri": "https://localhost:8080/"
        },
        "id": "iChUmu1cBtmb",
        "outputId": "a6499e67-928b-44a9-9980-b33f65eb9115"
      },
      "source": [
        "import numpy as np\n",
        "import pandas as pd\n",
        "import time\n",
        "import string\n",
        "import re\n",
        "import math\n",
        "import seaborn as sns\n",
        "import matplotlib.pyplot as plt\n",
        "\n",
        "from collections import Counter\n",
        "\n",
        "from sklearn.model_selection import train_test_split, cross_val_score\n",
        "from sklearn.pipeline import make_pipeline\n",
        "from sklearn.feature_extraction.text import CountVectorizer, TfidfVectorizer\n",
        "from sklearn.linear_model import LinearRegression, Ridge, Lasso, TweedieRegressor, HuberRegressor\n",
        "from sklearn.naive_bayes import MultinomialNB\n",
        "from sklearn.metrics import mean_squared_error as mse\n",
        "\n",
        "import xgboost as xgb\n",
        "\n",
        "from bokeh.plotting import figure\n",
        "from bokeh.models import ColumnDataSource\n",
        "from bokeh.io import curdoc, show, output_notebook\n",
        "output_notebook()\n",
        "\n",
        "import nltk\n",
        "from nltk import word_tokenize\n",
        "from nltk.stem.snowball import SnowballStemmer\n",
        "from nltk.corpus import stopwords\n",
        "from nltk import pos_tag\n",
        "nltk.download('stopwords')\n",
        "nltk.download('averaged_perceptron_tagger')\n",
        "stop_words = stopwords.words('english')\n",
        "\n",
        "import spacy\n",
        "nlp = spacy.load('en_core_web_lg')\n",
        "from spacy import displacy"
      ],
      "execution_count": null,
      "outputs": [
        {
          "output_type": "stream",
          "text": [
            "[nltk_data] Downloading package stopwords to /root/nltk_data...\n",
            "[nltk_data]   Unzipping corpora/stopwords.zip.\n",
            "[nltk_data] Downloading package averaged_perceptron_tagger to\n",
            "[nltk_data]     /root/nltk_data...\n",
            "[nltk_data]   Unzipping taggers/averaged_perceptron_tagger.zip.\n"
          ],
          "name": "stdout"
        }
      ]
    },
    {
      "cell_type": "code",
      "metadata": {
        "id": "2kMfTnRQZzM1"
      },
      "source": [
        "import tensorflow as tf\n",
        "from tensorflow import keras\n",
        "from tensorflow.keras.metrics import RootMeanSquaredError\n",
        "from tensorflow.keras.preprocessing.text import Tokenizer\n",
        "from tensorflow.keras.preprocessing.sequence import pad_sequences\n",
        "from tensorflow.keras.callbacks import EarlyStopping, ModelCheckpoint, LearningRateScheduler, ReduceLROnPlateau"
      ],
      "execution_count": null,
      "outputs": []
    },
    {
      "cell_type": "code",
      "metadata": {
        "id": "NyNAjpO2epQ1"
      },
      "source": [
        "import torch\n",
        "import torch.nn as nn\n",
        "import torch.nn.functional as F\n",
        "import torch.optim as optim"
      ],
      "execution_count": 2,
      "outputs": []
    },
    {
      "cell_type": "markdown",
      "metadata": {
        "id": "cb_f-dR_Bluq"
      },
      "source": [
        "## Loading Datasets"
      ]
    },
    {
      "cell_type": "code",
      "metadata": {
        "id": "ga2n5C2oBua9"
      },
      "source": [
        "# 로컬 파일에서 업로드\n",
        "from google.colab import files\n",
        "files.upload()"
      ],
      "execution_count": null,
      "outputs": []
    },
    {
      "cell_type": "code",
      "metadata": {
        "colab": {
          "base_uri": "https://localhost:8080/"
        },
        "id": "3Zsu-kmIVZZt",
        "outputId": "510ea57f-2eeb-49cb-8d27-e698e4d5e80b"
      },
      "source": [
        "# Google Drive에서 업로드\n",
        "from google.colab import drive \n",
        "drive.mount('/content/gdrive/')"
      ],
      "execution_count": 3,
      "outputs": [
        {
          "output_type": "stream",
          "text": [
            "Mounted at /content/gdrive/\n"
          ],
          "name": "stdout"
        }
      ]
    },
    {
      "cell_type": "code",
      "metadata": {
        "id": "zp104-6eVs6D"
      },
      "source": [
        "import os\n",
        "#os.getcwd()\n",
        "data_path = \"./gdrive/MyDrive/Kaggle_CommonLit\""
      ],
      "execution_count": 4,
      "outputs": []
    },
    {
      "cell_type": "code",
      "metadata": {
        "id": "7T95zQVDHDLJ"
      },
      "source": [
        "train_data = pd.read_csv(os.path.join(data_path,\"train.csv\"))\n",
        "test_data = pd.read_csv(os.path.join(data_path, \"test.csv\"))\n",
        "sample_sub = pd.read_csv(os.path.join(data_path, \"sample_submission.csv\"))"
      ],
      "execution_count": null,
      "outputs": []
    },
    {
      "cell_type": "code",
      "metadata": {
        "colab": {
          "base_uri": "https://localhost:8080/"
        },
        "id": "Asc1QW8Ne40i",
        "outputId": "bca2fccb-ca55-45ec-8dea-e72111377f9e"
      },
      "source": [
        "os.listdir(data_path)"
      ],
      "execution_count": 6,
      "outputs": [
        {
          "output_type": "execute_result",
          "data": {
            "text/plain": [
              "['sample_submission.csv',\n",
              " 'train.csv',\n",
              " 'test.csv',\n",
              " 'cleaned_train.csv',\n",
              " 'cleaned_test.csv']"
            ]
          },
          "metadata": {
            "tags": []
          },
          "execution_count": 6
        }
      ]
    },
    {
      "cell_type": "code",
      "metadata": {
        "id": "HUBUg-BIe_9z"
      },
      "source": [
        "# load preprocessed data\n",
        "import pandas as pd\n",
        "train_data = pd.read_csv(os.path.join(data_path, \"cleaned_train.csv\"))\n",
        "test_data = pd.read_csv(os.path.join(data_path, \"cleaned_test.csv\"))"
      ],
      "execution_count": 7,
      "outputs": []
    },
    {
      "cell_type": "code",
      "metadata": {
        "colab": {
          "base_uri": "https://localhost:8080/"
        },
        "id": "OsjhZf0mHDxA",
        "outputId": "6307f64a-985c-4fef-ac54-a1c5a33a061a"
      },
      "source": [
        "print(\"Train dataset shape : \", train_data.shape)\n",
        "print(\"Test dataset shape : \", test_data.shape)"
      ],
      "execution_count": 8,
      "outputs": [
        {
          "output_type": "stream",
          "text": [
            "Train dataset shape :  (2834, 9)\n",
            "Test dataset shape :  (7, 5)\n"
          ],
          "name": "stdout"
        }
      ]
    },
    {
      "cell_type": "code",
      "metadata": {
        "colab": {
          "base_uri": "https://localhost:8080/",
          "height": 204
        },
        "id": "GzRP1sD0HtAX",
        "outputId": "26815dc6-c68c-4f8c-ffc0-d3d817cb2203"
      },
      "source": [
        "train_data.head()"
      ],
      "execution_count": null,
      "outputs": [
        {
          "output_type": "execute_result",
          "data": {
            "text/html": [
              "<div>\n",
              "<style scoped>\n",
              "    .dataframe tbody tr th:only-of-type {\n",
              "        vertical-align: middle;\n",
              "    }\n",
              "\n",
              "    .dataframe tbody tr th {\n",
              "        vertical-align: top;\n",
              "    }\n",
              "\n",
              "    .dataframe thead th {\n",
              "        text-align: right;\n",
              "    }\n",
              "</style>\n",
              "<table border=\"1\" class=\"dataframe\">\n",
              "  <thead>\n",
              "    <tr style=\"text-align: right;\">\n",
              "      <th></th>\n",
              "      <th>id</th>\n",
              "      <th>url_legal</th>\n",
              "      <th>license</th>\n",
              "      <th>excerpt</th>\n",
              "      <th>target</th>\n",
              "      <th>standard_error</th>\n",
              "    </tr>\n",
              "  </thead>\n",
              "  <tbody>\n",
              "    <tr>\n",
              "      <th>0</th>\n",
              "      <td>c12129c31</td>\n",
              "      <td>NaN</td>\n",
              "      <td>NaN</td>\n",
              "      <td>When the young people returned to the ballroom...</td>\n",
              "      <td>-0.340259</td>\n",
              "      <td>0.464009</td>\n",
              "    </tr>\n",
              "    <tr>\n",
              "      <th>1</th>\n",
              "      <td>85aa80a4c</td>\n",
              "      <td>NaN</td>\n",
              "      <td>NaN</td>\n",
              "      <td>All through dinner time, Mrs. Fayre was somewh...</td>\n",
              "      <td>-0.315372</td>\n",
              "      <td>0.480805</td>\n",
              "    </tr>\n",
              "    <tr>\n",
              "      <th>2</th>\n",
              "      <td>b69ac6792</td>\n",
              "      <td>NaN</td>\n",
              "      <td>NaN</td>\n",
              "      <td>As Roger had predicted, the snow departed as q...</td>\n",
              "      <td>-0.580118</td>\n",
              "      <td>0.476676</td>\n",
              "    </tr>\n",
              "    <tr>\n",
              "      <th>3</th>\n",
              "      <td>dd1000b26</td>\n",
              "      <td>NaN</td>\n",
              "      <td>NaN</td>\n",
              "      <td>And outside before the palace a great garden w...</td>\n",
              "      <td>-1.054013</td>\n",
              "      <td>0.450007</td>\n",
              "    </tr>\n",
              "    <tr>\n",
              "      <th>4</th>\n",
              "      <td>37c1b32fb</td>\n",
              "      <td>NaN</td>\n",
              "      <td>NaN</td>\n",
              "      <td>Once upon a time there were Three Bears who li...</td>\n",
              "      <td>0.247197</td>\n",
              "      <td>0.510845</td>\n",
              "    </tr>\n",
              "  </tbody>\n",
              "</table>\n",
              "</div>"
            ],
            "text/plain": [
              "          id url_legal  ...    target standard_error\n",
              "0  c12129c31       NaN  ... -0.340259       0.464009\n",
              "1  85aa80a4c       NaN  ... -0.315372       0.480805\n",
              "2  b69ac6792       NaN  ... -0.580118       0.476676\n",
              "3  dd1000b26       NaN  ... -1.054013       0.450007\n",
              "4  37c1b32fb       NaN  ...  0.247197       0.510845\n",
              "\n",
              "[5 rows x 6 columns]"
            ]
          },
          "metadata": {
            "tags": []
          },
          "execution_count": 9
        }
      ]
    },
    {
      "cell_type": "code",
      "metadata": {
        "colab": {
          "base_uri": "https://localhost:8080/",
          "height": 129
        },
        "id": "w5ojXtwrHtHK",
        "outputId": "c4bd78e0-a629-4b63-cbd8-0560dd527b3c"
      },
      "source": [
        "train_data[\"excerpt\"][0]"
      ],
      "execution_count": null,
      "outputs": [
        {
          "output_type": "execute_result",
          "data": {
            "application/vnd.google.colaboratory.intrinsic+json": {
              "type": "string"
            },
            "text/plain": [
              "'When the young people returned to the ballroom, it presented a decidedly changed appearance. Instead of an interior scene, it was a winter landscape.\\nThe floor was covered with snow-white canvas, not laid on smoothly, but rumpled over bumps and hillocks, like a real snow field. The numerous palms and evergreens that had decorated the room, were powdered with flour and strewn with tufts of cotton, like snow. Also diamond dust had been lightly sprinkled on them, and glittering crystal icicles hung from the branches.\\nAt each end of the room, on the wall, hung a beautiful bear-skin rug.\\nThese rugs were for prizes, one for the girls and one for the boys. And this was the game.\\nThe girls were gathered at one end of the room and the boys at the other, and one end was called the North Pole, and the other the South Pole. Each player was given a small flag which they were to plant on reaching the Pole.\\nThis would have been an easy matter, but each traveller was obliged to wear snowshoes.'"
            ]
          },
          "metadata": {
            "tags": []
          },
          "execution_count": 7
        }
      ]
    },
    {
      "cell_type": "code",
      "metadata": {
        "colab": {
          "base_uri": "https://localhost:8080/",
          "height": 204
        },
        "id": "l0c_CGw7HtMt",
        "outputId": "664d2cdb-da02-4bc2-fd43-60a39d10a4b1"
      },
      "source": [
        "test_data.head()"
      ],
      "execution_count": null,
      "outputs": [
        {
          "output_type": "execute_result",
          "data": {
            "text/html": [
              "<div>\n",
              "<style scoped>\n",
              "    .dataframe tbody tr th:only-of-type {\n",
              "        vertical-align: middle;\n",
              "    }\n",
              "\n",
              "    .dataframe tbody tr th {\n",
              "        vertical-align: top;\n",
              "    }\n",
              "\n",
              "    .dataframe thead th {\n",
              "        text-align: right;\n",
              "    }\n",
              "</style>\n",
              "<table border=\"1\" class=\"dataframe\">\n",
              "  <thead>\n",
              "    <tr style=\"text-align: right;\">\n",
              "      <th></th>\n",
              "      <th>id</th>\n",
              "      <th>url_legal</th>\n",
              "      <th>license</th>\n",
              "      <th>excerpt</th>\n",
              "    </tr>\n",
              "  </thead>\n",
              "  <tbody>\n",
              "    <tr>\n",
              "      <th>0</th>\n",
              "      <td>c0f722661</td>\n",
              "      <td>NaN</td>\n",
              "      <td>NaN</td>\n",
              "      <td>My hope lay in Jack's promise that he would ke...</td>\n",
              "    </tr>\n",
              "    <tr>\n",
              "      <th>1</th>\n",
              "      <td>f0953f0a5</td>\n",
              "      <td>NaN</td>\n",
              "      <td>NaN</td>\n",
              "      <td>Dotty continued to go to Mrs. Gray's every nig...</td>\n",
              "    </tr>\n",
              "    <tr>\n",
              "      <th>2</th>\n",
              "      <td>0df072751</td>\n",
              "      <td>NaN</td>\n",
              "      <td>NaN</td>\n",
              "      <td>It was a bright and cheerful scene that greete...</td>\n",
              "    </tr>\n",
              "    <tr>\n",
              "      <th>3</th>\n",
              "      <td>04caf4e0c</td>\n",
              "      <td>https://en.wikipedia.org/wiki/Cell_division</td>\n",
              "      <td>CC BY-SA 3.0</td>\n",
              "      <td>Cell division is the process by which a parent...</td>\n",
              "    </tr>\n",
              "    <tr>\n",
              "      <th>4</th>\n",
              "      <td>0e63f8bea</td>\n",
              "      <td>https://en.wikipedia.org/wiki/Debugging</td>\n",
              "      <td>CC BY-SA 3.0</td>\n",
              "      <td>Debugging is the process of finding and resolv...</td>\n",
              "    </tr>\n",
              "  </tbody>\n",
              "</table>\n",
              "</div>"
            ],
            "text/plain": [
              "          id  ...                                            excerpt\n",
              "0  c0f722661  ...  My hope lay in Jack's promise that he would ke...\n",
              "1  f0953f0a5  ...  Dotty continued to go to Mrs. Gray's every nig...\n",
              "2  0df072751  ...  It was a bright and cheerful scene that greete...\n",
              "3  04caf4e0c  ...  Cell division is the process by which a parent...\n",
              "4  0e63f8bea  ...  Debugging is the process of finding and resolv...\n",
              "\n",
              "[5 rows x 4 columns]"
            ]
          },
          "metadata": {
            "tags": []
          },
          "execution_count": 8
        }
      ]
    },
    {
      "cell_type": "markdown",
      "metadata": {
        "id": "BQDQi0pgMJxE"
      },
      "source": [
        "## Exploratory Data Analysis "
      ]
    },
    {
      "cell_type": "code",
      "metadata": {
        "colab": {
          "base_uri": "https://localhost:8080/"
        },
        "id": "HNdx6ihuLYQl",
        "outputId": "d39f4a19-19e5-4f21-b65b-aa70dd549e94"
      },
      "source": [
        "# 결측치 확인\n",
        "train_data.isnull().sum()"
      ],
      "execution_count": null,
      "outputs": [
        {
          "output_type": "execute_result",
          "data": {
            "text/plain": [
              "id                   0\n",
              "url_legal         2004\n",
              "license           2004\n",
              "excerpt              0\n",
              "target               0\n",
              "standard_error       0\n",
              "dtype: int64"
            ]
          },
          "metadata": {
            "tags": []
          },
          "execution_count": 12
        }
      ]
    },
    {
      "cell_type": "code",
      "metadata": {
        "colab": {
          "base_uri": "https://localhost:8080/"
        },
        "id": "U-LsdXuaLi_0",
        "outputId": "706016d0-a556-4467-c8e2-95c87298a353"
      },
      "source": [
        "test_data.isnull().sum()"
      ],
      "execution_count": null,
      "outputs": [
        {
          "output_type": "execute_result",
          "data": {
            "text/plain": [
              "id           0\n",
              "url_legal    4\n",
              "license      4\n",
              "excerpt      0\n",
              "dtype: int64"
            ]
          },
          "metadata": {
            "tags": []
          },
          "execution_count": 13
        }
      ]
    },
    {
      "cell_type": "code",
      "metadata": {
        "colab": {
          "base_uri": "https://localhost:8080/",
          "height": 204
        },
        "id": "sEXYEEX7LmUY",
        "outputId": "8f3f784a-6dc7-41e1-9b15-5b6e17ae1193"
      },
      "source": [
        "# Train Target 가장 큰값 5개 확인\n",
        "display(train_data.sort_values(by=[\"target\"], ascending=False).head())"
      ],
      "execution_count": null,
      "outputs": [
        {
          "output_type": "display_data",
          "data": {
            "text/html": [
              "<div>\n",
              "<style scoped>\n",
              "    .dataframe tbody tr th:only-of-type {\n",
              "        vertical-align: middle;\n",
              "    }\n",
              "\n",
              "    .dataframe tbody tr th {\n",
              "        vertical-align: top;\n",
              "    }\n",
              "\n",
              "    .dataframe thead th {\n",
              "        text-align: right;\n",
              "    }\n",
              "</style>\n",
              "<table border=\"1\" class=\"dataframe\">\n",
              "  <thead>\n",
              "    <tr style=\"text-align: right;\">\n",
              "      <th></th>\n",
              "      <th>id</th>\n",
              "      <th>url_legal</th>\n",
              "      <th>license</th>\n",
              "      <th>excerpt</th>\n",
              "      <th>target</th>\n",
              "      <th>standard_error</th>\n",
              "    </tr>\n",
              "  </thead>\n",
              "  <tbody>\n",
              "    <tr>\n",
              "      <th>2829</th>\n",
              "      <td>25ca8f498</td>\n",
              "      <td>https://sites.ehe.osu.edu/beyondpenguins/files...</td>\n",
              "      <td>CC BY-SA 3.0</td>\n",
              "      <td>When you think of dinosaurs and where they liv...</td>\n",
              "      <td>1.711390</td>\n",
              "      <td>0.646900</td>\n",
              "    </tr>\n",
              "    <tr>\n",
              "      <th>981</th>\n",
              "      <td>849971671</td>\n",
              "      <td>https://www.africanstorybook.org/</td>\n",
              "      <td>CC BY 4.0</td>\n",
              "      <td>For her last birthday, Sisanda had a special t...</td>\n",
              "      <td>1.597870</td>\n",
              "      <td>0.596349</td>\n",
              "    </tr>\n",
              "    <tr>\n",
              "      <th>808</th>\n",
              "      <td>8f35441e3</td>\n",
              "      <td>https://www.africanstorybook.org/#</td>\n",
              "      <td>CC BY 4.0</td>\n",
              "      <td>Every day, Emeka's father took him to school i...</td>\n",
              "      <td>1.583847</td>\n",
              "      <td>0.624776</td>\n",
              "    </tr>\n",
              "    <tr>\n",
              "      <th>1014</th>\n",
              "      <td>7a1d484be</td>\n",
              "      <td>https://www.africanstorybook.org/</td>\n",
              "      <td>CC BY 4.0</td>\n",
              "      <td>More people came to the bus stop just before 9...</td>\n",
              "      <td>1.541672</td>\n",
              "      <td>0.606997</td>\n",
              "    </tr>\n",
              "    <tr>\n",
              "      <th>1066</th>\n",
              "      <td>016913371</td>\n",
              "      <td>https://www.africanstorybook.org/</td>\n",
              "      <td>CC BY 4.0</td>\n",
              "      <td>Grandma's garden was wonderful. It was full of...</td>\n",
              "      <td>1.467665</td>\n",
              "      <td>0.599600</td>\n",
              "    </tr>\n",
              "  </tbody>\n",
              "</table>\n",
              "</div>"
            ],
            "text/plain": [
              "             id  ... standard_error\n",
              "2829  25ca8f498  ...       0.646900\n",
              "981   849971671  ...       0.596349\n",
              "808   8f35441e3  ...       0.624776\n",
              "1014  7a1d484be  ...       0.606997\n",
              "1066  016913371  ...       0.599600\n",
              "\n",
              "[5 rows x 6 columns]"
            ]
          },
          "metadata": {
            "tags": []
          }
        }
      ]
    },
    {
      "cell_type": "code",
      "metadata": {
        "colab": {
          "base_uri": "https://localhost:8080/",
          "height": 204
        },
        "id": "RhOU4PBaNUuy",
        "outputId": "aa143579-4a05-4dd2-d156-326741edc30a"
      },
      "source": [
        "# Train Target 가장 작은값 5개 확인\n",
        "display(train_data.sort_values(by=[\"target\"]).head())"
      ],
      "execution_count": null,
      "outputs": [
        {
          "output_type": "display_data",
          "data": {
            "text/html": [
              "<div>\n",
              "<style scoped>\n",
              "    .dataframe tbody tr th:only-of-type {\n",
              "        vertical-align: middle;\n",
              "    }\n",
              "\n",
              "    .dataframe tbody tr th {\n",
              "        vertical-align: top;\n",
              "    }\n",
              "\n",
              "    .dataframe thead th {\n",
              "        text-align: right;\n",
              "    }\n",
              "</style>\n",
              "<table border=\"1\" class=\"dataframe\">\n",
              "  <thead>\n",
              "    <tr style=\"text-align: right;\">\n",
              "      <th></th>\n",
              "      <th>id</th>\n",
              "      <th>url_legal</th>\n",
              "      <th>license</th>\n",
              "      <th>excerpt</th>\n",
              "      <th>target</th>\n",
              "      <th>standard_error</th>\n",
              "    </tr>\n",
              "  </thead>\n",
              "  <tbody>\n",
              "    <tr>\n",
              "      <th>1705</th>\n",
              "      <td>4626100d8</td>\n",
              "      <td>NaN</td>\n",
              "      <td>NaN</td>\n",
              "      <td>The commutator is peculiar, consisting of only...</td>\n",
              "      <td>-3.676268</td>\n",
              "      <td>0.623621</td>\n",
              "    </tr>\n",
              "    <tr>\n",
              "      <th>1128</th>\n",
              "      <td>493b80aa7</td>\n",
              "      <td>NaN</td>\n",
              "      <td>NaN</td>\n",
              "      <td>The Dunwich horror itself came between Lammas ...</td>\n",
              "      <td>-3.668360</td>\n",
              "      <td>0.571404</td>\n",
              "    </tr>\n",
              "    <tr>\n",
              "      <th>1754</th>\n",
              "      <td>fe44cbd14</td>\n",
              "      <td>NaN</td>\n",
              "      <td>NaN</td>\n",
              "      <td>The iron cylinder weighs 23 kilogrammes; but, ...</td>\n",
              "      <td>-3.642892</td>\n",
              "      <td>0.644398</td>\n",
              "    </tr>\n",
              "    <tr>\n",
              "      <th>1752</th>\n",
              "      <td>284eaa5ad</td>\n",
              "      <td>NaN</td>\n",
              "      <td>NaN</td>\n",
              "      <td>As to surface-slope its measurement—from nearl...</td>\n",
              "      <td>-3.639936</td>\n",
              "      <td>0.603819</td>\n",
              "    </tr>\n",
              "    <tr>\n",
              "      <th>1720</th>\n",
              "      <td>9e9eacb49</td>\n",
              "      <td>NaN</td>\n",
              "      <td>NaN</td>\n",
              "      <td>The tree is dioecious, bearing male catkins on...</td>\n",
              "      <td>-3.636834</td>\n",
              "      <td>0.606822</td>\n",
              "    </tr>\n",
              "  </tbody>\n",
              "</table>\n",
              "</div>"
            ],
            "text/plain": [
              "             id url_legal  ...    target standard_error\n",
              "1705  4626100d8       NaN  ... -3.676268       0.623621\n",
              "1128  493b80aa7       NaN  ... -3.668360       0.571404\n",
              "1754  fe44cbd14       NaN  ... -3.642892       0.644398\n",
              "1752  284eaa5ad       NaN  ... -3.639936       0.603819\n",
              "1720  9e9eacb49       NaN  ... -3.636834       0.606822\n",
              "\n",
              "[5 rows x 6 columns]"
            ]
          },
          "metadata": {
            "tags": []
          }
        }
      ]
    },
    {
      "cell_type": "code",
      "metadata": {
        "colab": {
          "base_uri": "https://localhost:8080/",
          "height": 371
        },
        "id": "168erlTWNa6E",
        "outputId": "8d6f89f5-6cea-4d26-81e2-368c94b4161a"
      },
      "source": [
        "# Target 분포 확인 \n",
        "\n",
        "sns.set_style(\"whitegrid\")\n",
        "plt.figure(figsize=(12,4))\n",
        "plt.title(\"Train Target Dist Plot\")\n",
        "sns.distplot(train_data[\"target\"])"
      ],
      "execution_count": null,
      "outputs": [
        {
          "output_type": "stream",
          "text": [
            "/usr/local/lib/python3.7/dist-packages/seaborn/distributions.py:2557: FutureWarning: `distplot` is a deprecated function and will be removed in a future version. Please adapt your code to use either `displot` (a figure-level function with similar flexibility) or `histplot` (an axes-level function for histograms).\n",
            "  warnings.warn(msg, FutureWarning)\n"
          ],
          "name": "stderr"
        },
        {
          "output_type": "execute_result",
          "data": {
            "text/plain": [
              "<matplotlib.axes._subplots.AxesSubplot at 0x7f4d291f3e10>"
            ]
          },
          "metadata": {
            "tags": []
          },
          "execution_count": 13
        },
        {
          "output_type": "display_data",
          "data": {
            "image/png": "[encoded data removed]",
            "text/plain": [
              "<Figure size 864x288 with 1 Axes>"
            ]
          },
          "metadata": {
            "tags": []
          }
        }
      ]
    },
    {
      "cell_type": "code",
      "metadata": {
        "colab": {
          "base_uri": "https://localhost:8080/",
          "height": 316
        },
        "id": "UgiX0TGeOnCk",
        "outputId": "d418fc59-7c1d-4d5a-d73d-5776cf026e8e"
      },
      "source": [
        "# 결측치 확인\n",
        "\n",
        "sns.set_style(\"whitegrid\")\n",
        "plt.figure(figsize=(12,4))\n",
        "null_percent = train_data.isnull().mean() * 100\n",
        "null_percent.plot.bar(color = \"green\")\n",
        "plt.title(\"Train dataset's Missing Value percentage per column\", fontsize=15, weight=\"bold\")\n",
        "plt.xlabel(\"Column\", weight=\"bold\")\n",
        "plt.xticks(rotation=0)\n",
        "plt.ylabel(\"Missing Values Percentage\", weight=\"bold\")"
      ],
      "execution_count": null,
      "outputs": [
        {
          "output_type": "execute_result",
          "data": {
            "text/plain": [
              "Text(0, 0.5, 'Missing Values Percentage')"
            ]
          },
          "metadata": {
            "tags": []
          },
          "execution_count": 32
        },
        {
          "output_type": "display_data",
          "data": {
            "image/png": "[encoded data removed]",
            "text/plain": [
              "<Figure size 864x288 with 1 Axes>"
            ]
          },
          "metadata": {
            "tags": []
          }
        }
      ]
    },
    {
      "cell_type": "code",
      "metadata": {
        "colab": {
          "base_uri": "https://localhost:8080/",
          "height": 316
        },
        "id": "5iMyHgu8NbAT",
        "outputId": "8a2bb0f2-999f-45ea-bd39-70eef58e31af"
      },
      "source": [
        "sns.set_style(\"whitegrid\")\n",
        "plt.figure(figsize=(12,4))\n",
        "test_null_percent = test_data.isnull().mean() * 100\n",
        "test_null_percent.plot.bar(color = \"slateblue\")\n",
        "plt.title(\"Test dataset's Missing Value percentage per column\", fontsize=15, weight=\"bold\")\n",
        "plt.xlabel(\"Column\", weight=\"bold\")\n",
        "plt.xticks(rotation=0)\n",
        "plt.ylabel(\"Missing Values Percentage\", weight=\"bold\")"
      ],
      "execution_count": null,
      "outputs": [
        {
          "output_type": "execute_result",
          "data": {
            "text/plain": [
              "Text(0, 0.5, 'Missing Values Percentage')"
            ]
          },
          "metadata": {
            "tags": []
          },
          "execution_count": 33
        },
        {
          "output_type": "display_data",
          "data": {
            "image/png": "[encoded data removed]",
            "text/plain": [
              "<Figure size 864x288 with 1 Axes>"
            ]
          },
          "metadata": {
            "tags": []
          }
        }
      ]
    },
    {
      "cell_type": "code",
      "metadata": {
        "colab": {
          "base_uri": "https://localhost:8080/",
          "height": 314
        },
        "id": "gTQCF7HmXV0P",
        "outputId": "c33d1e9e-08ab-418f-a0d3-2f63a425008c"
      },
      "source": [
        "# 발췌문(excerpt) 단어 개수와 길이 확인\n",
        "\n",
        "plt.figure(figsize=(12, 4))\n",
        "sns.kdeplot(train_data[\"excerpt\"].str.split().str.len())\n",
        "plt.title(\"Train data's exceprt word count KDE plot\", weight=\"bold\")"
      ],
      "execution_count": null,
      "outputs": [
        {
          "output_type": "execute_result",
          "data": {
            "text/plain": [
              "Text(0.5, 1.0, \"Train data's exceprt word count KDE plot\")"
            ]
          },
          "metadata": {
            "tags": []
          },
          "execution_count": 48
        },
        {
          "output_type": "display_data",
          "data": {
            "image/png": "[encoded data removed]",
            "text/plain": [
              "<Figure size 864x288 with 1 Axes>"
            ]
          },
          "metadata": {
            "tags": []
          }
        }
      ]
    },
    {
      "cell_type": "code",
      "metadata": {
        "colab": {
          "base_uri": "https://localhost:8080/",
          "height": 314
        },
        "id": "wUTE4bnCXV2k",
        "outputId": "931c9a4a-4c03-49cc-8727-aa92d8eb7eb3"
      },
      "source": [
        "plt.figure(figsize=(12,4))\n",
        "sns.kdeplot(train_data[\"excerpt\"].str.len())\n",
        "plt.title(\"Train data's excerpt length KDE plot\", weight=\"bold\")"
      ],
      "execution_count": null,
      "outputs": [
        {
          "output_type": "execute_result",
          "data": {
            "text/plain": [
              "Text(0.5, 1.0, \"Train data's excerpt length KDE plot\")"
            ]
          },
          "metadata": {
            "tags": []
          },
          "execution_count": 46
        },
        {
          "output_type": "display_data",
          "data": {
            "image/png": "[encoded data removed]",
            "text/plain": [
              "<Figure size 864x288 with 1 Axes>"
            ]
          },
          "metadata": {
            "tags": []
          }
        }
      ]
    },
    {
      "cell_type": "code",
      "metadata": {
        "colab": {
          "base_uri": "https://localhost:8080/",
          "height": 314
        },
        "id": "4nryqG7YXV5d",
        "outputId": "78a675e1-0e9e-4a0a-9844-e2a53e892148"
      },
      "source": [
        "# License 분포 확인\n",
        "plt.figure(figsize=(12,4))\n",
        "sns.countplot(y=\"license\", data=train_data, palette=\"crest\")\n",
        "plt.title(\"Train data's License Distribution\")"
      ],
      "execution_count": null,
      "outputs": [
        {
          "output_type": "execute_result",
          "data": {
            "text/plain": [
              "Text(0.5, 1.0, \"Train data's License Distribution\")"
            ]
          },
          "metadata": {
            "tags": []
          },
          "execution_count": 55
        },
        {
          "output_type": "display_data",
          "data": {
            "image/png": "[encoded data removed]",
            "text/plain": [
              "<Figure size 864x288 with 1 Axes>"
            ]
          },
          "metadata": {
            "tags": []
          }
        }
      ]
    },
    {
      "cell_type": "code",
      "metadata": {
        "colab": {
          "base_uri": "https://localhost:8080/"
        },
        "id": "VbFe5TAsXV8c",
        "outputId": "3e571d75-a3db-48f4-d47b-2e4971e94970"
      },
      "source": [
        "# collections의 Counter 함수를 사용한 전체 단어 개수 구하기\n",
        "\n",
        "word_count = Counter()\n",
        "train_data[\"excerpt\"].str.lower().str.split().apply(word_count.update)\n",
        "print(\"Unique Whole Word : \", len(word_count.keys()))"
      ],
      "execution_count": null,
      "outputs": [
        {
          "output_type": "stream",
          "text": [
            "Unique Whole Word :  51038\n"
          ],
          "name": "stdout"
        }
      ]
    },
    {
      "cell_type": "code",
      "metadata": {
        "colab": {
          "base_uri": "https://localhost:8080/"
        },
        "id": "JVnxCGJWdJYR",
        "outputId": "2060a8bb-e4bf-4bd8-bc83-3de111bd1657"
      },
      "source": [
        "# 가장 긴 단어와 가장 짧은 단어 확인\n",
        "longest_word = max(word_count.keys(), key=len)\n",
        "print(\"Longest word : \", longest_word)\n",
        "print(\"Length of Longest word : \", len(longest_word), \"\\n\")\n",
        "\n",
        "shortest_word = min(word_count.keys(), key=len)\n",
        "print(\"Shortest word : \", shortest_word)\n",
        "print(\"Length of Shortest word : \", len(shortest_word))"
      ],
      "execution_count": null,
      "outputs": [
        {
          "output_type": "stream",
          "text": [
            "Longest word :  doi:10.1016/j.iheduc.2008.03.001\n",
            "Length of Longest word :  32 \n",
            "\n",
            "Shortest word :  a\n",
            "Length of Shortest word :  1\n"
          ],
          "name": "stdout"
        }
      ]
    },
    {
      "cell_type": "code",
      "metadata": {
        "colab": {
          "base_uri": "https://localhost:8080/"
        },
        "id": "nayWx-Zwd_xo",
        "outputId": "9b92a912-e7ff-46e1-c5a4-ffc53f051fc9"
      },
      "source": [
        "sorted_word = sorted(word_count.keys(), key=len)\n",
        "print(\"5 Longest words : \", sorted_word[-5:])\n",
        "print(\"5 Shortest words : \", sorted_word[:5])"
      ],
      "execution_count": null,
      "outputs": [
        {
          "output_type": "stream",
          "text": [
            "5 Longest words :  ['storing/retrieval/processing', 'polyhedron(pol-ee-hee-dron).', 'doi:10.1016/j.iheduc.2008.03.001', 'scream—whew-ew-ew-ew-bang!—broke', 'hundred—going—going—going—gone!\"']\n",
            "5 Shortest words :  ['a', 'i', '—', 'o', '5']\n"
          ],
          "name": "stdout"
        }
      ]
    },
    {
      "cell_type": "code",
      "metadata": {
        "colab": {
          "base_uri": "https://localhost:8080/"
        },
        "id": "XrtYfF8ZgkfU",
        "outputId": "8f1e8f5b-be10-4262-e219-f28063948fa9"
      },
      "source": [
        "# Target 점수가 가장 낮은 excerpt 확인 (readibility score가 낮을수록 읽기 어려운 문장)\n",
        "train_data.head()\n",
        "hardest_excerpt = train_data.loc[train_data[\"target\"] == train_data[\"target\"].min()].excerpt\n",
        "list(hardest_excerpt)"
      ],
      "execution_count": null,
      "outputs": [
        {
          "output_type": "execute_result",
          "data": {
            "text/plain": [
              "['The commutator is peculiar, consisting of only three segments of a copper ring, while in the simplest of other continuous current generators several times that number exist, and frequently 120! segments are to be found. These three segments are made so as to be removable in a moment for cleaning or replacement. They are mounted upon a metal support, and are surrounded on all sides by a free air space, and cannot, therefore, lose their insulated condition. This feature of air insulation is peculiar to this system, and is very important as a factor in the durability of the commutator. Besides this, the commutator is sustained by supports carried in flanges upon the shaft, which flanges, as an additional safeguard, are coated all over with hard rubber, one of the finest known insulators. It may be stated, without fear of contradiction, that no other commutator made is so thoroughly insulated and protected. The three commutator segments virtually constitute a single copper ring, mounted in free air, and cut into three equal pieces by slots across its face.']"
            ]
          },
          "metadata": {
            "tags": []
          },
          "execution_count": 96
        }
      ]
    },
    {
      "cell_type": "code",
      "metadata": {
        "colab": {
          "base_uri": "https://localhost:8080/"
        },
        "id": "LpZW6xf1jUaw",
        "outputId": "93ff918c-7315-4890-d6c9-be4c122ac33c"
      },
      "source": [
        "# Target 점수가 가장 높은 excerpt 확인 (가장 읽기 쉬운 문장)\n",
        "easiest_excerpt = train_data.loc[train_data[\"target\"] == train_data[\"target\"].max()].excerpt\n",
        "list(easiest_excerpt)"
      ],
      "execution_count": null,
      "outputs": [
        {
          "output_type": "execute_result",
          "data": {
            "text/plain": [
              "['When you think of dinosaurs and where they lived, what do you picture? Do you see hot, steamy swamps, thick jungles, or sunny plains? Dinosaurs lived in those places, yes. But did you know that some dinosaurs lived in the cold and the darkness near the North and South Poles?\\nThis surprised scientists, too. Paleontologists used to believe that dinosaurs lived only in the warmest parts of the world. They thought that dinosaurs could only have lived in places where turtles, crocodiles, and snakes live today. Later, these dinosaur scientists began finding bones in surprising places.\\nOne of those surprising fossil beds is a place called Dinosaur Cove, Australia. One hundred million years ago, Australia was connected to Antarctica. Both continents were located near the South Pole. Today, paleontologists dig dinosaur fossils out of the ground. They think about what those ancient bones must mean.']"
            ]
          },
          "metadata": {
            "tags": []
          },
          "execution_count": 97
        }
      ]
    },
    {
      "cell_type": "markdown",
      "metadata": {
        "id": "l7tbk9a4ksYy"
      },
      "source": [
        "## Data Preprocessing"
      ]
    },
    {
      "cell_type": "markdown",
      "metadata": {
        "id": "Er8CtewTjpie"
      },
      "source": [
        "### Data Cleaning"
      ]
    },
    {
      "cell_type": "code",
      "metadata": {
        "colab": {
          "base_uri": "https://localhost:8080/"
        },
        "id": "sAlJEfA1k5Ay",
        "outputId": "1fa4848e-444c-4951-f18d-f8d26475ccec"
      },
      "source": [
        "# stop word 제거\n",
        "def removeStopwords(text):\n",
        "    document = nlp(text)\n",
        "    clean_text = ' '\n",
        "    for txt in document:\n",
        "        if (txt.is_stop == False):\n",
        "            clean_text += \" \" + str(txt)        \n",
        "    return clean_text\n",
        "\n",
        "print(\"\\033[1mText before removeStopwords function: \\033[0m\" + train_data['excerpt'][1] + \"\\n\")\n",
        "print(\"\\033[1mText after removeStopwords function: \\033[0m\" + removeStopwords(train_data['excerpt'][1]))"
      ],
      "execution_count": null,
      "outputs": [
        {
          "output_type": "stream",
          "text": [
            "\u001b[1mText before removeStopwords function: \u001b[0mAll through dinner time, Mrs. Fayre was somewhat silent, her eyes resting on Dolly with a wistful, uncertain expression. She wanted to give the child the pleasure she craved, but she had hard work to bring herself to the point of overcoming her own objections.\n",
            "At last, however, when the meal was nearly over, she smiled at her little daughter, and said, \"All right, Dolly, you may go.\"\n",
            "\"Oh, mother!\" Dolly cried, overwhelmed with sudden delight. \"Really?\n",
            "Oh, I am so glad! Are you sure you're willing?\"\n",
            "\"I've persuaded myself to be willing, against my will,\" returned Mrs. Fayre, whimsically. \"I confess I just hate to have you go, but I can't bear to deprive you of the pleasure trip. And, as you say, it would also keep Dotty at home, and so, altogether, I think I shall have to give in.\"\n",
            "\"Oh, you angel mother! You blessed lady! How good you are!\" And Dolly flew around the table and gave her mother a hug that nearly suffocated her.\n",
            "\n",
            "\u001b[1mText after removeStopwords function: \u001b[0m  dinner time , Mrs. Fayre somewhat silent , eyes resting Dolly wistful , uncertain expression . wanted child pleasure craved , hard work bring point overcoming objections . \n",
            " , , meal nearly , smiled little daughter , said , \" right , Dolly , . \" \n",
            " \" Oh , mother ! \" Dolly cried , overwhelmed sudden delight . \" ? \n",
            " Oh , glad ! sure willing ? \" \n",
            " \" persuaded willing , , \" returned Mrs. Fayre , whimsically . \" confess hate , bear deprive pleasure trip . , , Dotty home , , altogether , think shall . \" \n",
            " \" Oh , angel mother ! blessed lady ! good ! \" Dolly flew table gave mother hug nearly suffocated .\n"
          ],
          "name": "stdout"
        }
      ]
    },
    {
      "cell_type": "code",
      "metadata": {
        "colab": {
          "base_uri": "https://localhost:8080/"
        },
        "id": "CookqAK1qs07",
        "outputId": "ed83ae99-59c5-4ed3-9972-d5eeebf341fe"
      },
      "source": [
        "# 문장기호 제거(. , ! ? \" ')\n",
        "def removePunctuations(text):\n",
        "    return text.translate(str.maketrans('', '', string.punctuation))\n",
        "\n",
        "print(\"\\033[1mText before removePunctuations function: \\033[0m\" + train_data['excerpt'][1] + \"\\n\")\n",
        "print(\"\\033[1mText after removePunctuations function: \\033[0m\" + removePunctuations(train_data['excerpt'][1]))"
      ],
      "execution_count": null,
      "outputs": [
        {
          "output_type": "stream",
          "text": [
            "\u001b[1mText before removePunctuations function: \u001b[0mAll through dinner time, Mrs. Fayre was somewhat silent, her eyes resting on Dolly with a wistful, uncertain expression. She wanted to give the child the pleasure she craved, but she had hard work to bring herself to the point of overcoming her own objections.\n",
            "At last, however, when the meal was nearly over, she smiled at her little daughter, and said, \"All right, Dolly, you may go.\"\n",
            "\"Oh, mother!\" Dolly cried, overwhelmed with sudden delight. \"Really?\n",
            "Oh, I am so glad! Are you sure you're willing?\"\n",
            "\"I've persuaded myself to be willing, against my will,\" returned Mrs. Fayre, whimsically. \"I confess I just hate to have you go, but I can't bear to deprive you of the pleasure trip. And, as you say, it would also keep Dotty at home, and so, altogether, I think I shall have to give in.\"\n",
            "\"Oh, you angel mother! You blessed lady! How good you are!\" And Dolly flew around the table and gave her mother a hug that nearly suffocated her.\n",
            "\n",
            "\u001b[1mText after removePunctuations function: \u001b[0mAll through dinner time Mrs Fayre was somewhat silent her eyes resting on Dolly with a wistful uncertain expression She wanted to give the child the pleasure she craved but she had hard work to bring herself to the point of overcoming her own objections\n",
            "At last however when the meal was nearly over she smiled at her little daughter and said All right Dolly you may go\n",
            "Oh mother Dolly cried overwhelmed with sudden delight Really\n",
            "Oh I am so glad Are you sure youre willing\n",
            "Ive persuaded myself to be willing against my will returned Mrs Fayre whimsically I confess I just hate to have you go but I cant bear to deprive you of the pleasure trip And as you say it would also keep Dotty at home and so altogether I think I shall have to give in\n",
            "Oh you angel mother You blessed lady How good you are And Dolly flew around the table and gave her mother a hug that nearly suffocated her\n"
          ],
          "name": "stdout"
        }
      ]
    },
    {
      "cell_type": "markdown",
      "metadata": {
        "id": "Ak4HFweaqs7m"
      },
      "source": [
        "thinking...\n",
        "\n",
        "* 문장기호와 readibility score와의 관계? 문장기호가 더 많으면 상대적으로 읽기 쉬운 문장이지 않을까?\n",
        "* 문장 길이/문자 길이와 score의 관계? 문장 길이가 길수록 읽기 힘드니까, 긴 글자도 마찬가지 (안녕! vs 안녕하셨습니까)\n",
        "* "
      ]
    },
    {
      "cell_type": "code",
      "metadata": {
        "colab": {
          "base_uri": "https://localhost:8080/"
        },
        "id": "-_2xGptiqtBo",
        "outputId": "0c4f6f35-1fc5-4e71-8a15-49e45dbd6133"
      },
      "source": [
        "# 링크 주소 제거\n",
        "def removeLinks(text):\n",
        "    clean_text = re.sub('https?://\\S+|www\\.\\S+', '', text)\n",
        "    return clean_text\n",
        "\n",
        "test_string = \"http://www.youtube.com/ and https://www.youtube.com/ should be removed \"\n",
        "(test_string,removeLinks(test_string))"
      ],
      "execution_count": null,
      "outputs": [
        {
          "output_type": "execute_result",
          "data": {
            "text/plain": [
              "('http://www.youtube.com/ and https://www.youtube.com/ should be removed ',\n",
              " ' and  should be removed ')"
            ]
          },
          "metadata": {
            "tags": []
          },
          "execution_count": 12
        }
      ]
    },
    {
      "cell_type": "code",
      "metadata": {
        "colab": {
          "base_uri": "https://localhost:8080/"
        },
        "id": "T5NuBmhutIMk",
        "outputId": "93d95f0b-51aa-4f6e-d52e-a6f7b3228cb9"
      },
      "source": [
        "# 숫자 제거\n",
        "def removeNumbers(text):\n",
        "    clean_text = re.sub(r'\\d+', '', text)\n",
        "    return clean_text\n",
        "\n",
        "test_string = \"Hi 🙈 99 girls are running\"\n",
        "(test_string,removeNumbers(test_string))"
      ],
      "execution_count": null,
      "outputs": [
        {
          "output_type": "execute_result",
          "data": {
            "text/plain": [
              "('Hi 🙈 99 girls are running', 'Hi 🙈  girls are running')"
            ]
          },
          "metadata": {
            "tags": []
          },
          "execution_count": 13
        }
      ]
    },
    {
      "cell_type": "code",
      "metadata": {
        "id": "cUJJ3U6stIQD"
      },
      "source": [
        "# 함수 하나로 통합\n",
        "def clean(text):\n",
        "    text = text.lower() #Lets make it lowercase\n",
        "    text = removeStopwords(text)\n",
        "    text = removePunctuations(text)\n",
        "    text = removeNumbers(text)\n",
        "    text = removeLinks(text)\n",
        "    return text"
      ],
      "execution_count": null,
      "outputs": []
    },
    {
      "cell_type": "code",
      "metadata": {
        "colab": {
          "base_uri": "https://localhost:8080/",
          "height": 288
        },
        "id": "TRUBozLptITi",
        "outputId": "241862a9-0875-46ce-cc71-0fb69f0c485f"
      },
      "source": [
        "# train 데이터에 정보 추가\n",
        "\n",
        "train_data['excerpt_len'] = train_data['excerpt'].apply(\n",
        "    lambda x : len(x)\n",
        ")\n",
        "train_data['excerpt_word_count'] = train_data['excerpt'].apply(\n",
        "    lambda x : len(x.split(' '))\n",
        ")\n",
        "train_data['excerpt_clean'] = train_data['excerpt'].apply(clean)\n",
        "train_data.head()"
      ],
      "execution_count": null,
      "outputs": [
        {
          "output_type": "execute_result",
          "data": {
            "text/html": [
              "<div>\n",
              "<style scoped>\n",
              "    .dataframe tbody tr th:only-of-type {\n",
              "        vertical-align: middle;\n",
              "    }\n",
              "\n",
              "    .dataframe tbody tr th {\n",
              "        vertical-align: top;\n",
              "    }\n",
              "\n",
              "    .dataframe thead th {\n",
              "        text-align: right;\n",
              "    }\n",
              "</style>\n",
              "<table border=\"1\" class=\"dataframe\">\n",
              "  <thead>\n",
              "    <tr style=\"text-align: right;\">\n",
              "      <th></th>\n",
              "      <th>id</th>\n",
              "      <th>url_legal</th>\n",
              "      <th>license</th>\n",
              "      <th>excerpt</th>\n",
              "      <th>target</th>\n",
              "      <th>standard_error</th>\n",
              "      <th>excerpt_len</th>\n",
              "      <th>excerpt_word_count</th>\n",
              "      <th>excerpt_clean</th>\n",
              "    </tr>\n",
              "  </thead>\n",
              "  <tbody>\n",
              "    <tr>\n",
              "      <th>0</th>\n",
              "      <td>c12129c31</td>\n",
              "      <td>NaN</td>\n",
              "      <td>NaN</td>\n",
              "      <td>When the young people returned to the ballroom...</td>\n",
              "      <td>-0.340259</td>\n",
              "      <td>0.464009</td>\n",
              "      <td>992</td>\n",
              "      <td>174</td>\n",
              "      <td>young people returned ballroom  presented de...</td>\n",
              "    </tr>\n",
              "    <tr>\n",
              "      <th>1</th>\n",
              "      <td>85aa80a4c</td>\n",
              "      <td>NaN</td>\n",
              "      <td>NaN</td>\n",
              "      <td>All through dinner time, Mrs. Fayre was somewh...</td>\n",
              "      <td>-0.315372</td>\n",
              "      <td>0.480805</td>\n",
              "      <td>937</td>\n",
              "      <td>164</td>\n",
              "      <td>dinner time  mrs  fayre somewhat silent  eye...</td>\n",
              "    </tr>\n",
              "    <tr>\n",
              "      <th>2</th>\n",
              "      <td>b69ac6792</td>\n",
              "      <td>NaN</td>\n",
              "      <td>NaN</td>\n",
              "      <td>As Roger had predicted, the snow departed as q...</td>\n",
              "      <td>-0.580118</td>\n",
              "      <td>0.476676</td>\n",
              "      <td>908</td>\n",
              "      <td>162</td>\n",
              "      <td>roger predicted  snow departed quickly came ...</td>\n",
              "    </tr>\n",
              "    <tr>\n",
              "      <th>3</th>\n",
              "      <td>dd1000b26</td>\n",
              "      <td>NaN</td>\n",
              "      <td>NaN</td>\n",
              "      <td>And outside before the palace a great garden w...</td>\n",
              "      <td>-1.054013</td>\n",
              "      <td>0.450007</td>\n",
              "      <td>909</td>\n",
              "      <td>163</td>\n",
              "      <td>outside palace great garden walled round  fi...</td>\n",
              "    </tr>\n",
              "    <tr>\n",
              "      <th>4</th>\n",
              "      <td>37c1b32fb</td>\n",
              "      <td>NaN</td>\n",
              "      <td>NaN</td>\n",
              "      <td>Once upon a time there were Three Bears who li...</td>\n",
              "      <td>0.247197</td>\n",
              "      <td>0.510845</td>\n",
              "      <td>723</td>\n",
              "      <td>147</td>\n",
              "      <td>time bears lived house wood  little  small  ...</td>\n",
              "    </tr>\n",
              "  </tbody>\n",
              "</table>\n",
              "</div>"
            ],
            "text/plain": [
              "          id  ...                                      excerpt_clean\n",
              "0  c12129c31  ...    young people returned ballroom  presented de...\n",
              "1  85aa80a4c  ...    dinner time  mrs  fayre somewhat silent  eye...\n",
              "2  b69ac6792  ...    roger predicted  snow departed quickly came ...\n",
              "3  dd1000b26  ...    outside palace great garden walled round  fi...\n",
              "4  37c1b32fb  ...    time bears lived house wood  little  small  ...\n",
              "\n",
              "[5 rows x 9 columns]"
            ]
          },
          "metadata": {
            "tags": []
          },
          "execution_count": 15
        }
      ]
    },
    {
      "cell_type": "code",
      "metadata": {
        "colab": {
          "base_uri": "https://localhost:8080/",
          "height": 204
        },
        "id": "UtU6Pe5NxM4y",
        "outputId": "b9f74785-efdf-4765-9c4b-55af77286064"
      },
      "source": [
        "# test 데이터에도 똑같이 적용 \n",
        "test_data['excerpt_clean'] = test_data['excerpt'].apply(clean)\n",
        "test_data.head()"
      ],
      "execution_count": null,
      "outputs": [
        {
          "output_type": "execute_result",
          "data": {
            "text/html": [
              "<div>\n",
              "<style scoped>\n",
              "    .dataframe tbody tr th:only-of-type {\n",
              "        vertical-align: middle;\n",
              "    }\n",
              "\n",
              "    .dataframe tbody tr th {\n",
              "        vertical-align: top;\n",
              "    }\n",
              "\n",
              "    .dataframe thead th {\n",
              "        text-align: right;\n",
              "    }\n",
              "</style>\n",
              "<table border=\"1\" class=\"dataframe\">\n",
              "  <thead>\n",
              "    <tr style=\"text-align: right;\">\n",
              "      <th></th>\n",
              "      <th>id</th>\n",
              "      <th>url_legal</th>\n",
              "      <th>license</th>\n",
              "      <th>excerpt</th>\n",
              "      <th>excerpt_clean</th>\n",
              "    </tr>\n",
              "  </thead>\n",
              "  <tbody>\n",
              "    <tr>\n",
              "      <th>0</th>\n",
              "      <td>c0f722661</td>\n",
              "      <td>NaN</td>\n",
              "      <td>NaN</td>\n",
              "      <td>My hope lay in Jack's promise that he would ke...</td>\n",
              "      <td>hope lay jack promise bright light burning u...</td>\n",
              "    </tr>\n",
              "    <tr>\n",
              "      <th>1</th>\n",
              "      <td>f0953f0a5</td>\n",
              "      <td>NaN</td>\n",
              "      <td>NaN</td>\n",
              "      <td>Dotty continued to go to Mrs. Gray's every nig...</td>\n",
              "      <td>dotty continued mrs  gray night milk  katie ...</td>\n",
              "    </tr>\n",
              "    <tr>\n",
              "      <th>2</th>\n",
              "      <td>0df072751</td>\n",
              "      <td>NaN</td>\n",
              "      <td>NaN</td>\n",
              "      <td>It was a bright and cheerful scene that greete...</td>\n",
              "      <td>bright cheerful scene greeted eyes captain r...</td>\n",
              "    </tr>\n",
              "    <tr>\n",
              "      <th>3</th>\n",
              "      <td>04caf4e0c</td>\n",
              "      <td>https://en.wikipedia.org/wiki/Cell_division</td>\n",
              "      <td>CC BY-SA 3.0</td>\n",
              "      <td>Cell division is the process by which a parent...</td>\n",
              "      <td>cell division process parent cell divides da...</td>\n",
              "    </tr>\n",
              "    <tr>\n",
              "      <th>4</th>\n",
              "      <td>0e63f8bea</td>\n",
              "      <td>https://en.wikipedia.org/wiki/Debugging</td>\n",
              "      <td>CC BY-SA 3.0</td>\n",
              "      <td>Debugging is the process of finding and resolv...</td>\n",
              "      <td>debugging process finding resolving defects ...</td>\n",
              "    </tr>\n",
              "  </tbody>\n",
              "</table>\n",
              "</div>"
            ],
            "text/plain": [
              "          id  ...                                      excerpt_clean\n",
              "0  c0f722661  ...    hope lay jack promise bright light burning u...\n",
              "1  f0953f0a5  ...    dotty continued mrs  gray night milk  katie ...\n",
              "2  0df072751  ...    bright cheerful scene greeted eyes captain r...\n",
              "3  04caf4e0c  ...    cell division process parent cell divides da...\n",
              "4  0e63f8bea  ...    debugging process finding resolving defects ...\n",
              "\n",
              "[5 rows x 5 columns]"
            ]
          },
          "metadata": {
            "tags": []
          },
          "execution_count": 16
        }
      ]
    },
    {
      "cell_type": "code",
      "metadata": {
        "id": "ksF7hoM-Za9H"
      },
      "source": [
        "train_data.to_csv(os.path.join(data_path, \"cleaned_train.csv\"), index=False)\n",
        "test_data.to_csv(os.path.join(data_path, \"cleaned_test.csv\"), index=False)"
      ],
      "execution_count": null,
      "outputs": []
    },
    {
      "cell_type": "code",
      "metadata": {
        "colab": {
          "base_uri": "https://localhost:8080/"
        },
        "id": "aq5cJKxNuOls",
        "outputId": "856c8f08-bfd2-4f3e-ec93-7276a806f9ce"
      },
      "source": [
        "# cleaning 된 excerpt의 단어 개수 확인\n",
        "results = Counter()\n",
        "train_data['excerpt_clean'].str.lower().str.split().apply(results.update)\n",
        "print(len(results.keys()))"
      ],
      "execution_count": null,
      "outputs": [
        {
          "output_type": "stream",
          "text": [
            "26154\n"
          ],
          "name": "stdout"
        }
      ]
    },
    {
      "cell_type": "code",
      "metadata": {
        "colab": {
          "base_uri": "https://localhost:8080/"
        },
        "id": "gBo69ba0uOyj",
        "outputId": "2897f3ef-2f53-4371-d3f9-3d30182f6ac6"
      },
      "source": [
        "train_data.excerpt_clean"
      ],
      "execution_count": null,
      "outputs": [
        {
          "output_type": "execute_result",
          "data": {
            "text/plain": [
              "0         young people returned ballroom  presented de...\n",
              "1         dinner time  mrs  fayre somewhat silent  eye...\n",
              "2         roger predicted  snow departed quickly came ...\n",
              "3         outside palace great garden walled round  fi...\n",
              "4         time bears lived house wood  little  small  ...\n",
              "                              ...                        \n",
              "2829      think dinosaurs lived  picture  hot  steamy ...\n",
              "2830      solid  solids usually hard molecules packed ...\n",
              "2831      second state matter discuss liquid  solids h...\n",
              "2832      solids shapes actually touch  dimensions  me...\n",
              "2833      animals cells  eat things digest inside  ani...\n",
              "Name: excerpt_clean, Length: 2834, dtype: object"
            ]
          },
          "metadata": {
            "tags": []
          },
          "execution_count": 19
        }
      ]
    },
    {
      "cell_type": "markdown",
      "metadata": {
        "id": "mCE41St0EjnD"
      },
      "source": [
        "### N-gram preprocessing"
      ]
    },
    {
      "cell_type": "code",
      "metadata": {
        "id": "8yzfyn5Xm1N1"
      },
      "source": [
        "# sklearn의 CountVectorizer를 사용해 단어 빈도수 구하기 (Unigram)\n",
        "\n",
        "vec = CountVectorizer().fit(train_data['excerpt_clean'])\n",
        "bag_of_words = vec.transform(train_data['excerpt_clean'])\n",
        "sum_words = bag_of_words.sum(axis=0) # sum_words: (1, 26040) matrix"
      ],
      "execution_count": null,
      "outputs": []
    },
    {
      "cell_type": "code",
      "metadata": {
        "colab": {
          "base_uri": "https://localhost:8080/"
        },
        "id": "gwvVLj6VnRDE",
        "outputId": "c19d7a59-2b67-4023-efb5-de464d664dfc"
      },
      "source": [
        "# train dataset의 전체 단어 빈도수 상위 10개 출력\n",
        "\n",
        "words_freq = [(word, sum_words[0, idx]) for word, idx in vec.vocabulary_.items()]\n",
        "freq_sorted = sorted(words_freq, key = lambda x: x[1], reverse=True)\n",
        "freq_sorted[:10]"
      ],
      "execution_count": null,
      "outputs": [
        {
          "output_type": "execute_result",
          "data": {
            "text/plain": [
              "[('little', 1137),\n",
              " ('said', 1112),\n",
              " ('time', 919),\n",
              " ('like', 837),\n",
              " ('people', 750),\n",
              " ('great', 702),\n",
              " ('water', 672),\n",
              " ('day', 662),\n",
              " ('called', 647),\n",
              " ('old', 625)]"
            ]
          },
          "metadata": {
            "tags": []
          },
          "execution_count": 42
        }
      ]
    },
    {
      "cell_type": "code",
      "metadata": {
        "id": "t7LXJWx_oZOB"
      },
      "source": [
        "# sklearn의 CountVectorizer를 사용해 Bi-gram 빈도수 구하기 \n",
        "\n",
        "vec_bigram = CountVectorizer(ngram_range = (2,2)).fit(train_data['excerpt_clean']) # bigram\n",
        "bag_of_bigram = vec_bigram.transform(train_data['excerpt_clean'])\n",
        "sum_bigram = bag_of_bigram.sum(axis=0) # sum_bigram: (1, 192993) matrix"
      ],
      "execution_count": null,
      "outputs": []
    },
    {
      "cell_type": "code",
      "metadata": {
        "colab": {
          "base_uri": "https://localhost:8080/"
        },
        "id": "qO_XYWpxpvn1",
        "outputId": "eb1a55b8-619e-43ce-f50b-06135459945f"
      },
      "source": [
        "# unigram --> bigram으로 바뀌며 Ngram 개수 변화\n",
        "np.shape(sum_bigram)"
      ],
      "execution_count": null,
      "outputs": [
        {
          "output_type": "execute_result",
          "data": {
            "text/plain": [
              "(1, 192993)"
            ]
          },
          "metadata": {
            "tags": []
          },
          "execution_count": 45
        }
      ]
    },
    {
      "cell_type": "code",
      "metadata": {
        "colab": {
          "base_uri": "https://localhost:8080/"
        },
        "id": "hA9nBKp-pcyw",
        "outputId": "76c5ec09-7361-4255-b304-ba62e06b118e"
      },
      "source": [
        "# bigram 빈도수 상위 10개 출력 \n",
        "bigram_freq = [(word, sum_bigram[0, idx]) for word, idx in vec_bigram.vocabulary_.items()]\n",
        "bigram_freq_sorted = sorted(bigram_freq, key = lambda x: x[1], reverse=True)\n",
        "bigram_freq_sorted[:10]"
      ],
      "execution_count": null,
      "outputs": [
        {
          "output_type": "execute_result",
          "data": {
            "text/plain": [
              "[('united states', 100),\n",
              " ('years ago', 77),\n",
              " ('years old', 58),\n",
              " ('long time', 58),\n",
              " ('little girl', 56),\n",
              " ('th century', 55),\n",
              " ('old man', 49),\n",
              " ('new york', 46),\n",
              " ('little boy', 44),\n",
              " ('carbon dioxide', 38)]"
            ]
          },
          "metadata": {
            "tags": []
          },
          "execution_count": 48
        }
      ]
    },
    {
      "cell_type": "code",
      "metadata": {
        "id": "5tzsd9GQvEnV"
      },
      "source": [
        "# Top N개 Unigram, Bigram 빈도수 구하는 함수\n",
        "def get_top_n_words(corpus, n = None):\n",
        "    \"\"\"\n",
        "    A function that returns the top 'n' unigrams used in the corpus\n",
        "    \"\"\"\n",
        "    vec = CountVectorizer().fit(corpus)\n",
        "    bag_of_words = vec.transform(corpus) \n",
        "    sum_words = bag_of_words.sum(axis=0) \n",
        "    words_freq = [(word, sum_words[0, idx]) for word, idx in vec.vocabulary_.items()] \n",
        "    freq_sorted = sorted(words_freq, key = lambda x: x[1], reverse = True)\n",
        "    return freq_sorted[:n]\n",
        "\n",
        "def get_top_n_bigram(corpus, n = None):\n",
        "    \"\"\"\n",
        "    A function that returns the top 'n' bigrams used in the corpus\n",
        "    \"\"\"\n",
        "    vec = CountVectorizer(ngram_range = (2, 2)).fit(corpus)\n",
        "    bag_of_words = vec.transform(corpus)\n",
        "    sum_words = bag_of_words.sum(axis = 0) \n",
        "    words_freq = [(word, sum_words[0, idx]) for word, idx in vec.vocabulary_.items()]\n",
        "    freq_sorted = sorted(words_freq, key = lambda x: x[1], reverse=True)\n",
        "    return freq_sorted[:n]"
      ],
      "execution_count": null,
      "outputs": []
    },
    {
      "cell_type": "code",
      "metadata": {
        "colab": {
          "base_uri": "https://localhost:8080/",
          "height": 417
        },
        "id": "G6AhLqyKuaV7",
        "outputId": "699977af-0113-4654-8423-6df18e6e1f72"
      },
      "source": [
        "top_unigram = get_top_n_words(train_data['excerpt_clean'], 20)\n",
        "words = [i[0] for i in top_unigram]\n",
        "count = [i[1] for i in top_unigram]\n",
        "source = ColumnDataSource(data = dict(Word = words, counts = count, color = ['#6baed6'] * 20))\n",
        "\n",
        "p = figure(x_range = words, plot_height = 400, plot_width = 800, title = \"Top Unigrams\", tools = \"hover\", tooltips = \"@Word: @counts\")\n",
        "p.vbar(x = 'Word', top = 'counts', width = 0.8, source = source, color = 'color')\n",
        "curdoc().theme = 'dark_minimal'\n",
        "p.xgrid.grid_line_color = None\n",
        "p.y_range.start = 0\n",
        "p.title.align = 'center'\n",
        "p.xaxis.major_label_orientation = \"vertical\"\n",
        "show(p)"
      ],
      "execution_count": null,
      "outputs": [
        {
          "output_type": "display_data",
          "data": {
            "application/javascript": [
              "\n",
              "(function(root) {\n",
              "  function now() {\n",
              "    return new Date();\n",
              "  }\n",
              "\n",
              "  var force = true;\n",
              "\n",
              "  if (typeof root._bokeh_onload_callbacks === \"undefined\" || force === true) {\n",
              "    root._bokeh_onload_callbacks = [];\n",
              "    root._bokeh_is_loading = undefined;\n",
              "  }\n",
              "\n",
              "  var JS_MIME_TYPE = 'application/javascript';\n",
              "  var HTML_MIME_TYPE = 'text/html';\n",
              "  var EXEC_MIME_TYPE = 'application/vnd.bokehjs_exec.v0+json';\n",
              "  var CLASS_NAME = 'output_bokeh rendered_html';\n",
              "\n",
              "  /**\n",
              "   * Render data to the DOM node\n",
              "   */\n",
              "  function render(props, node) {\n",
              "    var script = document.createElement(\"script\");\n",
              "    node.appendChild(script);\n",
              "  }\n",
              "\n",
              "  /**\n",
              "   * Handle when an output is cleared or removed\n",
              "   */\n",
              "  function handleClearOutput(event, handle) {\n",
              "    var cell = handle.cell;\n",
              "\n",
              "    var id = cell.output_area._bokeh_element_id;\n",
              "    var server_id = cell.output_area._bokeh_server_id;\n",
              "    // Clean up Bokeh references\n",
              "    if (id != null && id in Bokeh.index) {\n",
              "      Bokeh.index[id].model.document.clear();\n",
              "      delete Bokeh.index[id];\n",
              "    }\n",
              "\n",
              "    if (server_id !== undefined) {\n",
              "      // Clean up Bokeh references\n",
              "      var cmd = \"from bokeh.io.state import curstate; print(curstate().uuid_to_server['\" + server_id + \"'].get_sessions()[0].document.roots[0]._id)\";\n",
              "      cell.notebook.kernel.execute(cmd, {\n",
              "        iopub: {\n",
              "          output: function(msg) {\n",
              "            var id = msg.content.text.trim();\n",
              "            if (id in Bokeh.index) {\n",
              "              Bokeh.index[id].model.document.clear();\n",
              "              delete Bokeh.index[id];\n",
              "            }\n",
              "          }\n",
              "        }\n",
              "      });\n",
              "      // Destroy server and session\n",
              "      var cmd = \"import bokeh.io.notebook as ion; ion.destroy_server('\" + server_id + \"')\";\n",
              "      cell.notebook.kernel.execute(cmd);\n",
              "    }\n",
              "  }\n",
              "\n",
              "  /**\n",
              "   * Handle when a new output is added\n",
              "   */\n",
              "  function handleAddOutput(event, handle) {\n",
              "    var output_area = handle.output_area;\n",
              "    var output = handle.output;\n",
              "\n",
              "    // limit handleAddOutput to display_data with EXEC_MIME_TYPE content only\n",
              "    if ((output.output_type != \"display_data\") || (!Object.prototype.hasOwnProperty.call(output.data, EXEC_MIME_TYPE))) {\n",
              "      return\n",
              "    }\n",
              "\n",
              "    var toinsert = output_area.element.find(\".\" + CLASS_NAME.split(' ')[0]);\n",
              "\n",
              "    if (output.metadata[EXEC_MIME_TYPE][\"id\"] !== undefined) {\n",
              "      toinsert[toinsert.length - 1].firstChild.textContent = output.data[JS_MIME_TYPE];\n",
              "      // store reference to embed id on output_area\n",
              "      output_area._bokeh_element_id = output.metadata[EXEC_MIME_TYPE][\"id\"];\n",
              "    }\n",
              "    if (output.metadata[EXEC_MIME_TYPE][\"server_id\"] !== undefined) {\n",
              "      var bk_div = document.createElement(\"div\");\n",
              "      bk_div.innerHTML = output.data[HTML_MIME_TYPE];\n",
              "      var script_attrs = bk_div.children[0].attributes;\n",
              "      for (var i = 0; i < script_attrs.length; i++) {\n",
              "        toinsert[toinsert.length - 1].firstChild.setAttribute(script_attrs[i].name, script_attrs[i].value);\n",
              "        toinsert[toinsert.length - 1].firstChild.textContent = bk_div.children[0].textContent\n",
              "      }\n",
              "      // store reference to server id on output_area\n",
              "      output_area._bokeh_server_id = output.metadata[EXEC_MIME_TYPE][\"server_id\"];\n",
              "    }\n",
              "  }\n",
              "\n",
              "  function register_renderer(events, OutputArea) {\n",
              "\n",
              "    function append_mime(data, metadata, element) {\n",
              "      // create a DOM node to render to\n",
              "      var toinsert = this.create_output_subarea(\n",
              "        metadata,\n",
              "        CLASS_NAME,\n",
              "        EXEC_MIME_TYPE\n",
              "      );\n",
              "      this.keyboard_manager.register_events(toinsert);\n",
              "      // Render to node\n",
              "      var props = {data: data, metadata: metadata[EXEC_MIME_TYPE]};\n",
              "      render(props, toinsert[toinsert.length - 1]);\n",
              "      element.append(toinsert);\n",
              "      return toinsert\n",
              "    }\n",
              "\n",
              "    /* Handle when an output is cleared or removed */\n",
              "    events.on('clear_output.CodeCell', handleClearOutput);\n",
              "    events.on('delete.Cell', handleClearOutput);\n",
              "\n",
              "    /* Handle when a new output is added */\n",
              "    events.on('output_added.OutputArea', handleAddOutput);\n",
              "\n",
              "    /**\n",
              "     * Register the mime type and append_mime function with output_area\n",
              "     */\n",
              "    OutputArea.prototype.register_mime_type(EXEC_MIME_TYPE, append_mime, {\n",
              "      /* Is output safe? */\n",
              "      safe: true,\n",
              "      /* Index of renderer in `output_area.display_order` */\n",
              "      index: 0\n",
              "    });\n",
              "  }\n",
              "\n",
              "  // register the mime type if in Jupyter Notebook environment and previously unregistered\n",
              "  if (root.Jupyter !== undefined) {\n",
              "    var events = require('base/js/events');\n",
              "    var OutputArea = require('notebook/js/outputarea').OutputArea;\n",
              "\n",
              "    if (OutputArea.prototype.mime_types().indexOf(EXEC_MIME_TYPE) == -1) {\n",
              "      register_renderer(events, OutputArea);\n",
              "    }\n",
              "  }\n",
              "\n",
              "  \n",
              "  if (typeof (root._bokeh_timeout) === \"undefined\" || force === true) {\n",
              "    root._bokeh_timeout = Date.now() + 5000;\n",
              "    root._bokeh_failed_load = false;\n",
              "  }\n",
              "\n",
              "  var NB_LOAD_WARNING = {'data': {'text/html':\n",
              "     \"<div style='background-color: #fdd'>\\n\"+\n",
              "     \"<p>\\n\"+\n",
              "     \"BokehJS does not appear to have successfully loaded. If loading BokehJS from CDN, this \\n\"+\n",
              "     \"may be due to a slow or bad network connection. Possible fixes:\\n\"+\n",
              "     \"</p>\\n\"+\n",
              "     \"<ul>\\n\"+\n",
              "     \"<li>re-rerun `output_notebook()` to attempt to load from CDN again, or</li>\\n\"+\n",
              "     \"<li>use INLINE resources instead, as so:</li>\\n\"+\n",
              "     \"</ul>\\n\"+\n",
              "     \"<code>\\n\"+\n",
              "     \"from bokeh.resources import INLINE\\n\"+\n",
              "     \"output_notebook(resources=INLINE)\\n\"+\n",
              "     \"</code>\\n\"+\n",
              "     \"</div>\"}};\n",
              "\n",
              "  function display_loaded() {\n",
              "    var el = document.getElementById(null);\n",
              "    if (el != null) {\n",
              "      el.textContent = \"BokehJS is loading...\";\n",
              "    }\n",
              "    if (root.Bokeh !== undefined) {\n",
              "      if (el != null) {\n",
              "        el.textContent = \"BokehJS \" + root.Bokeh.version + \" successfully loaded.\";\n",
              "      }\n",
              "    } else if (Date.now() < root._bokeh_timeout) {\n",
              "      setTimeout(display_loaded, 100)\n",
              "    }\n",
              "  }\n",
              "\n",
              "\n",
              "  function run_callbacks() {\n",
              "    try {\n",
              "      root._bokeh_onload_callbacks.forEach(function(callback) {\n",
              "        if (callback != null)\n",
              "          callback();\n",
              "      });\n",
              "    } finally {\n",
              "      delete root._bokeh_onload_callbacks\n",
              "    }\n",
              "    console.debug(\"Bokeh: all callbacks have finished\");\n",
              "  }\n",
              "\n",
              "  function load_libs(css_urls, js_urls, callback) {\n",
              "    if (css_urls == null) css_urls = [];\n",
              "    if (js_urls == null) js_urls = [];\n",
              "\n",
              "    root._bokeh_onload_callbacks.push(callback);\n",
              "    if (root._bokeh_is_loading > 0) {\n",
              "      console.debug(\"Bokeh: BokehJS is being loaded, scheduling callback at\", now());\n",
              "      return null;\n",
              "    }\n",
              "    if (js_urls == null || js_urls.length === 0) {\n",
              "      run_callbacks();\n",
              "      return null;\n",
              "    }\n",
              "    console.debug(\"Bokeh: BokehJS not loaded, scheduling load and callback at\", now());\n",
              "    root._bokeh_is_loading = css_urls.length + js_urls.length;\n",
              "\n",
              "    function on_load() {\n",
              "      root._bokeh_is_loading--;\n",
              "      if (root._bokeh_is_loading === 0) {\n",
              "        console.debug(\"Bokeh: all BokehJS libraries/stylesheets loaded\");\n",
              "        run_callbacks()\n",
              "      }\n",
              "    }\n",
              "\n",
              "    function on_error(url) {\n",
              "      console.error(\"failed to load \" + url);\n",
              "    }\n",
              "\n",
              "    for (let i = 0; i < css_urls.length; i++) {\n",
              "      const url = css_urls[i];\n",
              "      const element = document.createElement(\"link\");\n",
              "      element.onload = on_load;\n",
              "      element.onerror = on_error.bind(null, url);\n",
              "      element.rel = \"stylesheet\";\n",
              "      element.type = \"text/css\";\n",
              "      element.href = url;\n",
              "      console.debug(\"Bokeh: injecting link tag for BokehJS stylesheet: \", url);\n",
              "      document.body.appendChild(element);\n",
              "    }\n",
              "\n",
              "    const hashes = {\"https://cdn.bokeh.org/bokeh/release/bokeh-2.3.2.min.js\": \"XypntL49z55iwGVUW4qsEu83zKL3XEcz0MjuGOQ9SlaaQ68X/g+k1FcioZi7oQAc\", \"https://cdn.bokeh.org/bokeh/release/bokeh-tables-2.3.2.min.js\": \"bEsM86IHGDTLCS0Zod8a8WM6Y4+lafAL/eSiyQcuPzinmWNgNO2/olUF0Z2Dkn5i\", \"https://cdn.bokeh.org/bokeh/release/bokeh-widgets-2.3.2.min.js\": \"TX0gSQTdXTTeScqxj6PVQxTiRW8DOoGVwinyi1D3kxv7wuxQ02XkOxv0xwiypcAH\"};\n",
              "\n",
              "    for (let i = 0; i < js_urls.length; i++) {\n",
              "      const url = js_urls[i];\n",
              "      const element = document.createElement('script');\n",
              "      element.onload = on_load;\n",
              "      element.onerror = on_error.bind(null, url);\n",
              "      element.async = false;\n",
              "      element.src = url;\n",
              "      if (url in hashes) {\n",
              "        element.crossOrigin = \"anonymous\";\n",
              "        element.integrity = \"sha384-\" + hashes[url];\n",
              "      }\n",
              "      console.debug(\"Bokeh: injecting script tag for BokehJS library: \", url);\n",
              "      document.head.appendChild(element);\n",
              "    }\n",
              "  };\n",
              "\n",
              "  function inject_raw_css(css) {\n",
              "    const element = document.createElement(\"style\");\n",
              "    element.appendChild(document.createTextNode(css));\n",
              "    document.body.appendChild(element);\n",
              "  }\n",
              "\n",
              "  \n",
              "  var js_urls = [\"https://cdn.bokeh.org/bokeh/release/bokeh-2.3.2.min.js\", \"https://cdn.bokeh.org/bokeh/release/bokeh-widgets-2.3.2.min.js\", \"https://cdn.bokeh.org/bokeh/release/bokeh-tables-2.3.2.min.js\"];\n",
              "  var css_urls = [];\n",
              "  \n",
              "\n",
              "  var inline_js = [\n",
              "    function(Bokeh) {\n",
              "      Bokeh.set_log_level(\"info\");\n",
              "    },\n",
              "    function(Bokeh) {\n",
              "    \n",
              "    \n",
              "    }\n",
              "  ];\n",
              "\n",
              "  function run_inline_js() {\n",
              "    \n",
              "    if (root.Bokeh !== undefined || force === true) {\n",
              "      \n",
              "    for (var i = 0; i < inline_js.length; i++) {\n",
              "      inline_js[i].call(root, root.Bokeh);\n",
              "    }\n",
              "    } else if (Date.now() < root._bokeh_timeout) {\n",
              "      setTimeout(run_inline_js, 100);\n",
              "    } else if (!root._bokeh_failed_load) {\n",
              "      console.log(\"Bokeh: BokehJS failed to load within specified timeout.\");\n",
              "      root._bokeh_failed_load = true;\n",
              "    } else if (force !== true) {\n",
              "      var cell = $(document.getElementById(null)).parents('.cell').data().cell;\n",
              "      cell.output_area.append_execute_result(NB_LOAD_WARNING)\n",
              "    }\n",
              "\n",
              "  }\n",
              "\n",
              "  if (root._bokeh_is_loading === 0) {\n",
              "    console.debug(\"Bokeh: BokehJS loaded, going straight to plotting\");\n",
              "    run_inline_js();\n",
              "  } else {\n",
              "    load_libs(css_urls, js_urls, function() {\n",
              "      console.debug(\"Bokeh: BokehJS plotting callback run at\", now());\n",
              "      run_inline_js();\n",
              "    });\n",
              "  }\n",
              "}(window));"
            ],
            "application/vnd.bokehjs_load.v0+json": "\n(function(root) {\n  function now() {\n    return new Date();\n  }\n\n  var force = true;\n\n  if (typeof root._bokeh_onload_callbacks === \"undefined\" || force === true) {\n    root._bokeh_onload_callbacks = [];\n    root._bokeh_is_loading = undefined;\n  }\n\n  \n\n  \n  if (typeof (root._bokeh_timeout) === \"undefined\" || force === true) {\n    root._bokeh_timeout = Date.now() + 5000;\n    root._bokeh_failed_load = false;\n  }\n\n  var NB_LOAD_WARNING = {'data': {'text/html':\n     \"<div style='background-color: #fdd'>\\n\"+\n     \"<p>\\n\"+\n     \"BokehJS does not appear to have successfully loaded. If loading BokehJS from CDN, this \\n\"+\n     \"may be due to a slow or bad network connection. Possible fixes:\\n\"+\n     \"</p>\\n\"+\n     \"<ul>\\n\"+\n     \"<li>re-rerun `output_notebook()` to attempt to load from CDN again, or</li>\\n\"+\n     \"<li>use INLINE resources instead, as so:</li>\\n\"+\n     \"</ul>\\n\"+\n     \"<code>\\n\"+\n     \"from bokeh.resources import INLINE\\n\"+\n     \"output_notebook(resources=INLINE)\\n\"+\n     \"</code>\\n\"+\n     \"</div>\"}};\n\n  function display_loaded() {\n    var el = document.getElementById(null);\n    if (el != null) {\n      el.textContent = \"BokehJS is loading...\";\n    }\n    if (root.Bokeh !== undefined) {\n      if (el != null) {\n        el.textContent = \"BokehJS \" + root.Bokeh.version + \" successfully loaded.\";\n      }\n    } else if (Date.now() < root._bokeh_timeout) {\n      setTimeout(display_loaded, 100)\n    }\n  }\n\n\n  function run_callbacks() {\n    try {\n      root._bokeh_onload_callbacks.forEach(function(callback) {\n        if (callback != null)\n          callback();\n      });\n    } finally {\n      delete root._bokeh_onload_callbacks\n    }\n    console.debug(\"Bokeh: all callbacks have finished\");\n  }\n\n  function load_libs(css_urls, js_urls, callback) {\n    if (css_urls == null) css_urls = [];\n    if (js_urls == null) js_urls = [];\n\n    root._bokeh_onload_callbacks.push(callback);\n    if (root._bokeh_is_loading > 0) {\n      console.debug(\"Bokeh: BokehJS is being loaded, scheduling callback at\", now());\n      return null;\n    }\n    if (js_urls == null || js_urls.length === 0) {\n      run_callbacks();\n      return null;\n    }\n    console.debug(\"Bokeh: BokehJS not loaded, scheduling load and callback at\", now());\n    root._bokeh_is_loading = css_urls.length + js_urls.length;\n\n    function on_load() {\n      root._bokeh_is_loading--;\n      if (root._bokeh_is_loading === 0) {\n        console.debug(\"Bokeh: all BokehJS libraries/stylesheets loaded\");\n        run_callbacks()\n      }\n    }\n\n    function on_error(url) {\n      console.error(\"failed to load \" + url);\n    }\n\n    for (let i = 0; i < css_urls.length; i++) {\n      const url = css_urls[i];\n      const element = document.createElement(\"link\");\n      element.onload = on_load;\n      element.onerror = on_error.bind(null, url);\n      element.rel = \"stylesheet\";\n      element.type = \"text/css\";\n      element.href = url;\n      console.debug(\"Bokeh: injecting link tag for BokehJS stylesheet: \", url);\n      document.body.appendChild(element);\n    }\n\n    const hashes = {\"https://cdn.bokeh.org/bokeh/release/bokeh-2.3.2.min.js\": \"XypntL49z55iwGVUW4qsEu83zKL3XEcz0MjuGOQ9SlaaQ68X/g+k1FcioZi7oQAc\", \"https://cdn.bokeh.org/bokeh/release/bokeh-tables-2.3.2.min.js\": \"bEsM86IHGDTLCS0Zod8a8WM6Y4+lafAL/eSiyQcuPzinmWNgNO2/olUF0Z2Dkn5i\", \"https://cdn.bokeh.org/bokeh/release/bokeh-widgets-2.3.2.min.js\": \"TX0gSQTdXTTeScqxj6PVQxTiRW8DOoGVwinyi1D3kxv7wuxQ02XkOxv0xwiypcAH\"};\n\n    for (let i = 0; i < js_urls.length; i++) {\n      const url = js_urls[i];\n      const element = document.createElement('script');\n      element.onload = on_load;\n      element.onerror = on_error.bind(null, url);\n      element.async = false;\n      element.src = url;\n      if (url in hashes) {\n        element.crossOrigin = \"anonymous\";\n        element.integrity = \"sha384-\" + hashes[url];\n      }\n      console.debug(\"Bokeh: injecting script tag for BokehJS library: \", url);\n      document.head.appendChild(element);\n    }\n  };\n\n  function inject_raw_css(css) {\n    const element = document.createElement(\"style\");\n    element.appendChild(document.createTextNode(css));\n    document.body.appendChild(element);\n  }\n\n  \n  var js_urls = [\"https://cdn.bokeh.org/bokeh/release/bokeh-2.3.2.min.js\", \"https://cdn.bokeh.org/bokeh/release/bokeh-widgets-2.3.2.min.js\", \"https://cdn.bokeh.org/bokeh/release/bokeh-tables-2.3.2.min.js\"];\n  var css_urls = [];\n  \n\n  var inline_js = [\n    function(Bokeh) {\n      Bokeh.set_log_level(\"info\");\n    },\n    function(Bokeh) {\n    \n    \n    }\n  ];\n\n  function run_inline_js() {\n    \n    if (root.Bokeh !== undefined || force === true) {\n      \n    for (var i = 0; i < inline_js.length; i++) {\n      inline_js[i].call(root, root.Bokeh);\n    }\n    } else if (Date.now() < root._bokeh_timeout) {\n      setTimeout(run_inline_js, 100);\n    } else if (!root._bokeh_failed_load) {\n      console.log(\"Bokeh: BokehJS failed to load within specified timeout.\");\n      root._bokeh_failed_load = true;\n    } else if (force !== true) {\n      var cell = $(document.getElementById(null)).parents('.cell').data().cell;\n      cell.output_area.append_execute_result(NB_LOAD_WARNING)\n    }\n\n  }\n\n  if (root._bokeh_is_loading === 0) {\n    console.debug(\"Bokeh: BokehJS loaded, going straight to plotting\");\n    run_inline_js();\n  } else {\n    load_libs(css_urls, js_urls, function() {\n      console.debug(\"Bokeh: BokehJS plotting callback run at\", now());\n      run_inline_js();\n    });\n  }\n}(window));"
          },
          "metadata": {
            "tags": []
          }
        },
        {
          "output_type": "display_data",
          "data": {
            "text/html": [
              "\n",
              "\n",
              "\n",
              "\n",
              "\n",
              "\n",
              "  <div class=\"bk-root\" id=\"a6e34313-a920-45ef-897b-0443462aee77\" data-root-id=\"1084\"></div>\n"
            ]
          },
          "metadata": {
            "tags": []
          }
        },
        {
          "output_type": "display_data",
          "data": {
            "application/javascript": [
              "(function(root) {\n",
              "  function embed_document(root) {\n",
              "    \n",
              "  var docs_json = {\"43d61c25-f4a3-4ac7-b20c-44244a0a3d0f\":{\"defs\":[],\"roots\":{\"references\":[{\"attributes\":{\"background_fill_color\":\"#20262B\",\"below\":[{\"id\":\"1095\"}],\"border_fill_color\":\"#15191C\",\"center\":[{\"id\":\"1097\"},{\"id\":\"1101\"}],\"height\":400,\"left\":[{\"id\":\"1098\"}],\"outline_line_alpha\":0.25,\"outline_line_color\":\"#E0E0E0\",\"renderers\":[{\"id\":\"1108\"}],\"title\":{\"id\":\"1085\"},\"toolbar\":{\"id\":\"1103\"},\"width\":800,\"x_range\":{\"id\":\"1087\"},\"x_scale\":{\"id\":\"1091\"},\"y_range\":{\"id\":\"1089\"},\"y_scale\":{\"id\":\"1093\"}},\"id\":\"1084\",\"subtype\":\"Figure\",\"type\":\"Plot\"},{\"attributes\":{\"active_multi\":null,\"tools\":[{\"id\":\"1102\"}]},\"id\":\"1103\",\"type\":\"Toolbar\"},{\"attributes\":{\"callback\":null,\"tooltips\":\"@Word: @counts\"},\"id\":\"1102\",\"type\":\"HoverTool\"},{\"attributes\":{\"start\":0},\"id\":\"1089\",\"type\":\"DataRange1d\"},{\"attributes\":{},\"id\":\"1091\",\"type\":\"CategoricalScale\"},{\"attributes\":{},\"id\":\"1099\",\"type\":\"BasicTicker\"},{\"attributes\":{},\"id\":\"1096\",\"type\":\"CategoricalTicker\"},{\"attributes\":{\"axis_label_standoff\":10,\"axis_label_text_color\":\"#E0E0E0\",\"axis_label_text_font\":\"Helvetica\",\"axis_label_text_font_size\":\"1.25em\",\"axis_label_text_font_style\":\"normal\",\"axis_line_alpha\":0,\"axis_line_color\":\"#E0E0E0\",\"formatter\":{\"id\":\"1122\"},\"major_label_policy\":{\"id\":\"1121\"},\"major_label_text_color\":\"#E0E0E0\",\"major_label_text_font\":\"Helvetica\",\"major_label_text_font_size\":\"1.025em\",\"major_tick_line_alpha\":0,\"major_tick_line_color\":\"#E0E0E0\",\"minor_tick_line_alpha\":0,\"minor_tick_line_color\":\"#E0E0E0\",\"ticker\":{\"id\":\"1099\"}},\"id\":\"1098\",\"type\":\"LinearAxis\"},{\"attributes\":{},\"id\":\"1121\",\"type\":\"AllLabels\"},{\"attributes\":{},\"id\":\"1125\",\"type\":\"CategoricalTickFormatter\"},{\"attributes\":{\"data_source\":{\"id\":\"1083\"},\"glyph\":{\"id\":\"1106\"},\"hover_glyph\":null,\"muted_glyph\":null,\"nonselection_glyph\":{\"id\":\"1107\"},\"view\":{\"id\":\"1109\"}},\"id\":\"1108\",\"type\":\"GlyphRenderer\"},{\"attributes\":{\"axis\":{\"id\":\"1098\"},\"dimension\":1,\"grid_line_alpha\":0.25,\"grid_line_color\":\"#E0E0E0\",\"ticker\":null},\"id\":\"1101\",\"type\":\"Grid\"},{\"attributes\":{\"fill_color\":{\"field\":\"color\"},\"line_color\":{\"field\":\"color\"},\"top\":{\"field\":\"counts\"},\"width\":{\"value\":0.8},\"x\":{\"field\":\"Word\"}},\"id\":\"1106\",\"type\":\"VBar\"},{\"attributes\":{\"data\":{\"Word\":[\"little\",\"said\",\"time\",\"like\",\"people\",\"great\",\"water\",\"day\",\"called\",\"old\",\"came\",\"way\",\"went\",\"long\",\"man\",\"good\",\"new\",\"come\",\"found\",\"away\"],\"color\":[\"#6baed6\",\"#6baed6\",\"#6baed6\",\"#6baed6\",\"#6baed6\",\"#6baed6\",\"#6baed6\",\"#6baed6\",\"#6baed6\",\"#6baed6\",\"#6baed6\",\"#6baed6\",\"#6baed6\",\"#6baed6\",\"#6baed6\",\"#6baed6\",\"#6baed6\",\"#6baed6\",\"#6baed6\",\"#6baed6\"],\"counts\":[1137,1112,919,837,750,702,672,662,647,625,609,589,578,576,548,542,459,450,439,439]},\"selected\":{\"id\":\"1127\"},\"selection_policy\":{\"id\":\"1126\"}},\"id\":\"1083\",\"type\":\"ColumnDataSource\"},{\"attributes\":{\"fill_alpha\":{\"value\":0.1},\"fill_color\":{\"field\":\"color\"},\"line_alpha\":{\"value\":0.1},\"line_color\":{\"field\":\"color\"},\"top\":{\"field\":\"counts\"},\"width\":{\"value\":0.8},\"x\":{\"field\":\"Word\"}},\"id\":\"1107\",\"type\":\"VBar\"},{\"attributes\":{\"factors\":[\"little\",\"said\",\"time\",\"like\",\"people\",\"great\",\"water\",\"day\",\"called\",\"old\",\"came\",\"way\",\"went\",\"long\",\"man\",\"good\",\"new\",\"come\",\"found\",\"away\"]},\"id\":\"1087\",\"type\":\"FactorRange\"},{\"attributes\":{},\"id\":\"1093\",\"type\":\"LinearScale\"},{\"attributes\":{\"axis_label_standoff\":10,\"axis_label_text_color\":\"#E0E0E0\",\"axis_label_text_font\":\"Helvetica\",\"axis_label_text_font_size\":\"1.25em\",\"axis_label_text_font_style\":\"normal\",\"axis_line_alpha\":0,\"axis_line_color\":\"#E0E0E0\",\"formatter\":{\"id\":\"1125\"},\"major_label_orientation\":\"vertical\",\"major_label_policy\":{\"id\":\"1124\"},\"major_label_text_color\":\"#E0E0E0\",\"major_label_text_font\":\"Helvetica\",\"major_label_text_font_size\":\"1.025em\",\"major_tick_line_alpha\":0,\"major_tick_line_color\":\"#E0E0E0\",\"minor_tick_line_alpha\":0,\"minor_tick_line_color\":\"#E0E0E0\",\"ticker\":{\"id\":\"1096\"}},\"id\":\"1095\",\"type\":\"CategoricalAxis\"},{\"attributes\":{\"axis\":{\"id\":\"1095\"},\"grid_line_alpha\":0.25,\"grid_line_color\":null,\"ticker\":null},\"id\":\"1097\",\"type\":\"Grid\"},{\"attributes\":{},\"id\":\"1127\",\"type\":\"Selection\"},{\"attributes\":{},\"id\":\"1126\",\"type\":\"UnionRenderers\"},{\"attributes\":{},\"id\":\"1124\",\"type\":\"AllLabels\"},{\"attributes\":{\"source\":{\"id\":\"1083\"}},\"id\":\"1109\",\"type\":\"CDSView\"},{\"attributes\":{\"align\":\"center\",\"text\":\"Top Unigrams\",\"text_color\":\"#E0E0E0\",\"text_font\":\"Helvetica\",\"text_font_size\":\"1.15em\"},\"id\":\"1085\",\"type\":\"Title\"},{\"attributes\":{},\"id\":\"1122\",\"type\":\"BasicTickFormatter\"}],\"root_ids\":[\"1084\"]},\"title\":\"Bokeh Application\",\"version\":\"2.3.2\"}};\n",
              "  var render_items = [{\"docid\":\"43d61c25-f4a3-4ac7-b20c-44244a0a3d0f\",\"root_ids\":[\"1084\"],\"roots\":{\"1084\":\"a6e34313-a920-45ef-897b-0443462aee77\"}}];\n",
              "  root.Bokeh.embed.embed_items_notebook(docs_json, render_items);\n",
              "\n",
              "  }\n",
              "  if (root.Bokeh !== undefined) {\n",
              "    embed_document(root);\n",
              "  } else {\n",
              "    var attempts = 0;\n",
              "    var timer = setInterval(function(root) {\n",
              "      if (root.Bokeh !== undefined) {\n",
              "        clearInterval(timer);\n",
              "        embed_document(root);\n",
              "      } else {\n",
              "        attempts++;\n",
              "        if (attempts > 100) {\n",
              "          clearInterval(timer);\n",
              "          console.log(\"Bokeh: ERROR: Unable to run BokehJS code because BokehJS library is missing\");\n",
              "        }\n",
              "      }\n",
              "    }, 10, root)\n",
              "  }\n",
              "})(window);"
            ],
            "application/vnd.bokehjs_exec.v0+json": ""
          },
          "metadata": {
            "tags": [],
            "application/vnd.bokehjs_exec.v0+json": {
              "id": "1084"
            }
          }
        }
      ]
    },
    {
      "cell_type": "code",
      "metadata": {
        "colab": {
          "base_uri": "https://localhost:8080/",
          "height": 417
        },
        "id": "YYrWnTY0uaYg",
        "outputId": "d56a1c60-8195-48b8-c763-9cc687832010"
      },
      "source": [
        "top_bigram = get_top_n_bigram(train_data['excerpt_clean'], 20)\n",
        "words = [i[0] for i in top_bigram]\n",
        "count = [i[1] for i in top_bigram]\n",
        "source = ColumnDataSource(data = dict(Word = words, counts = count, color = ['#a1dab4'] * 20))\n",
        "\n",
        "p1 = figure(x_range = words, plot_height = 400, plot_width = 800, title = \"Top Bigrams\", tools = \"hover\", tooltips = \"@Word: @counts\")\n",
        "p1.vbar(x = 'Word', top = 'counts', width = 0.8, source = source, color = 'color')\n",
        "# curdoc().theme = 'dark_minimal'\n",
        "p1.xgrid.grid_line_color = None\n",
        "p1.title.align = 'center'\n",
        "p1.y_range.start = 0\n",
        "p1.xaxis.major_label_orientation = \"vertical\"\n",
        "show(p1)"
      ],
      "execution_count": null,
      "outputs": [
        {
          "output_type": "display_data",
          "data": {
            "application/javascript": [
              "\n",
              "(function(root) {\n",
              "  function now() {\n",
              "    return new Date();\n",
              "  }\n",
              "\n",
              "  var force = true;\n",
              "\n",
              "  if (typeof root._bokeh_onload_callbacks === \"undefined\" || force === true) {\n",
              "    root._bokeh_onload_callbacks = [];\n",
              "    root._bokeh_is_loading = undefined;\n",
              "  }\n",
              "\n",
              "  var JS_MIME_TYPE = 'application/javascript';\n",
              "  var HTML_MIME_TYPE = 'text/html';\n",
              "  var EXEC_MIME_TYPE = 'application/vnd.bokehjs_exec.v0+json';\n",
              "  var CLASS_NAME = 'output_bokeh rendered_html';\n",
              "\n",
              "  /**\n",
              "   * Render data to the DOM node\n",
              "   */\n",
              "  function render(props, node) {\n",
              "    var script = document.createElement(\"script\");\n",
              "    node.appendChild(script);\n",
              "  }\n",
              "\n",
              "  /**\n",
              "   * Handle when an output is cleared or removed\n",
              "   */\n",
              "  function handleClearOutput(event, handle) {\n",
              "    var cell = handle.cell;\n",
              "\n",
              "    var id = cell.output_area._bokeh_element_id;\n",
              "    var server_id = cell.output_area._bokeh_server_id;\n",
              "    // Clean up Bokeh references\n",
              "    if (id != null && id in Bokeh.index) {\n",
              "      Bokeh.index[id].model.document.clear();\n",
              "      delete Bokeh.index[id];\n",
              "    }\n",
              "\n",
              "    if (server_id !== undefined) {\n",
              "      // Clean up Bokeh references\n",
              "      var cmd = \"from bokeh.io.state import curstate; print(curstate().uuid_to_server['\" + server_id + \"'].get_sessions()[0].document.roots[0]._id)\";\n",
              "      cell.notebook.kernel.execute(cmd, {\n",
              "        iopub: {\n",
              "          output: function(msg) {\n",
              "            var id = msg.content.text.trim();\n",
              "            if (id in Bokeh.index) {\n",
              "              Bokeh.index[id].model.document.clear();\n",
              "              delete Bokeh.index[id];\n",
              "            }\n",
              "          }\n",
              "        }\n",
              "      });\n",
              "      // Destroy server and session\n",
              "      var cmd = \"import bokeh.io.notebook as ion; ion.destroy_server('\" + server_id + \"')\";\n",
              "      cell.notebook.kernel.execute(cmd);\n",
              "    }\n",
              "  }\n",
              "\n",
              "  /**\n",
              "   * Handle when a new output is added\n",
              "   */\n",
              "  function handleAddOutput(event, handle) {\n",
              "    var output_area = handle.output_area;\n",
              "    var output = handle.output;\n",
              "\n",
              "    // limit handleAddOutput to display_data with EXEC_MIME_TYPE content only\n",
              "    if ((output.output_type != \"display_data\") || (!Object.prototype.hasOwnProperty.call(output.data, EXEC_MIME_TYPE))) {\n",
              "      return\n",
              "    }\n",
              "\n",
              "    var toinsert = output_area.element.find(\".\" + CLASS_NAME.split(' ')[0]);\n",
              "\n",
              "    if (output.metadata[EXEC_MIME_TYPE][\"id\"] !== undefined) {\n",
              "      toinsert[toinsert.length - 1].firstChild.textContent = output.data[JS_MIME_TYPE];\n",
              "      // store reference to embed id on output_area\n",
              "      output_area._bokeh_element_id = output.metadata[EXEC_MIME_TYPE][\"id\"];\n",
              "    }\n",
              "    if (output.metadata[EXEC_MIME_TYPE][\"server_id\"] !== undefined) {\n",
              "      var bk_div = document.createElement(\"div\");\n",
              "      bk_div.innerHTML = output.data[HTML_MIME_TYPE];\n",
              "      var script_attrs = bk_div.children[0].attributes;\n",
              "      for (var i = 0; i < script_attrs.length; i++) {\n",
              "        toinsert[toinsert.length - 1].firstChild.setAttribute(script_attrs[i].name, script_attrs[i].value);\n",
              "        toinsert[toinsert.length - 1].firstChild.textContent = bk_div.children[0].textContent\n",
              "      }\n",
              "      // store reference to server id on output_area\n",
              "      output_area._bokeh_server_id = output.metadata[EXEC_MIME_TYPE][\"server_id\"];\n",
              "    }\n",
              "  }\n",
              "\n",
              "  function register_renderer(events, OutputArea) {\n",
              "\n",
              "    function append_mime(data, metadata, element) {\n",
              "      // create a DOM node to render to\n",
              "      var toinsert = this.create_output_subarea(\n",
              "        metadata,\n",
              "        CLASS_NAME,\n",
              "        EXEC_MIME_TYPE\n",
              "      );\n",
              "      this.keyboard_manager.register_events(toinsert);\n",
              "      // Render to node\n",
              "      var props = {data: data, metadata: metadata[EXEC_MIME_TYPE]};\n",
              "      render(props, toinsert[toinsert.length - 1]);\n",
              "      element.append(toinsert);\n",
              "      return toinsert\n",
              "    }\n",
              "\n",
              "    /* Handle when an output is cleared or removed */\n",
              "    events.on('clear_output.CodeCell', handleClearOutput);\n",
              "    events.on('delete.Cell', handleClearOutput);\n",
              "\n",
              "    /* Handle when a new output is added */\n",
              "    events.on('output_added.OutputArea', handleAddOutput);\n",
              "\n",
              "    /**\n",
              "     * Register the mime type and append_mime function with output_area\n",
              "     */\n",
              "    OutputArea.prototype.register_mime_type(EXEC_MIME_TYPE, append_mime, {\n",
              "      /* Is output safe? */\n",
              "      safe: true,\n",
              "      /* Index of renderer in `output_area.display_order` */\n",
              "      index: 0\n",
              "    });\n",
              "  }\n",
              "\n",
              "  // register the mime type if in Jupyter Notebook environment and previously unregistered\n",
              "  if (root.Jupyter !== undefined) {\n",
              "    var events = require('base/js/events');\n",
              "    var OutputArea = require('notebook/js/outputarea').OutputArea;\n",
              "\n",
              "    if (OutputArea.prototype.mime_types().indexOf(EXEC_MIME_TYPE) == -1) {\n",
              "      register_renderer(events, OutputArea);\n",
              "    }\n",
              "  }\n",
              "\n",
              "  \n",
              "  if (typeof (root._bokeh_timeout) === \"undefined\" || force === true) {\n",
              "    root._bokeh_timeout = Date.now() + 5000;\n",
              "    root._bokeh_failed_load = false;\n",
              "  }\n",
              "\n",
              "  var NB_LOAD_WARNING = {'data': {'text/html':\n",
              "     \"<div style='background-color: #fdd'>\\n\"+\n",
              "     \"<p>\\n\"+\n",
              "     \"BokehJS does not appear to have successfully loaded. If loading BokehJS from CDN, this \\n\"+\n",
              "     \"may be due to a slow or bad network connection. Possible fixes:\\n\"+\n",
              "     \"</p>\\n\"+\n",
              "     \"<ul>\\n\"+\n",
              "     \"<li>re-rerun `output_notebook()` to attempt to load from CDN again, or</li>\\n\"+\n",
              "     \"<li>use INLINE resources instead, as so:</li>\\n\"+\n",
              "     \"</ul>\\n\"+\n",
              "     \"<code>\\n\"+\n",
              "     \"from bokeh.resources import INLINE\\n\"+\n",
              "     \"output_notebook(resources=INLINE)\\n\"+\n",
              "     \"</code>\\n\"+\n",
              "     \"</div>\"}};\n",
              "\n",
              "  function display_loaded() {\n",
              "    var el = document.getElementById(null);\n",
              "    if (el != null) {\n",
              "      el.textContent = \"BokehJS is loading...\";\n",
              "    }\n",
              "    if (root.Bokeh !== undefined) {\n",
              "      if (el != null) {\n",
              "        el.textContent = \"BokehJS \" + root.Bokeh.version + \" successfully loaded.\";\n",
              "      }\n",
              "    } else if (Date.now() < root._bokeh_timeout) {\n",
              "      setTimeout(display_loaded, 100)\n",
              "    }\n",
              "  }\n",
              "\n",
              "\n",
              "  function run_callbacks() {\n",
              "    try {\n",
              "      root._bokeh_onload_callbacks.forEach(function(callback) {\n",
              "        if (callback != null)\n",
              "          callback();\n",
              "      });\n",
              "    } finally {\n",
              "      delete root._bokeh_onload_callbacks\n",
              "    }\n",
              "    console.debug(\"Bokeh: all callbacks have finished\");\n",
              "  }\n",
              "\n",
              "  function load_libs(css_urls, js_urls, callback) {\n",
              "    if (css_urls == null) css_urls = [];\n",
              "    if (js_urls == null) js_urls = [];\n",
              "\n",
              "    root._bokeh_onload_callbacks.push(callback);\n",
              "    if (root._bokeh_is_loading > 0) {\n",
              "      console.debug(\"Bokeh: BokehJS is being loaded, scheduling callback at\", now());\n",
              "      return null;\n",
              "    }\n",
              "    if (js_urls == null || js_urls.length === 0) {\n",
              "      run_callbacks();\n",
              "      return null;\n",
              "    }\n",
              "    console.debug(\"Bokeh: BokehJS not loaded, scheduling load and callback at\", now());\n",
              "    root._bokeh_is_loading = css_urls.length + js_urls.length;\n",
              "\n",
              "    function on_load() {\n",
              "      root._bokeh_is_loading--;\n",
              "      if (root._bokeh_is_loading === 0) {\n",
              "        console.debug(\"Bokeh: all BokehJS libraries/stylesheets loaded\");\n",
              "        run_callbacks()\n",
              "      }\n",
              "    }\n",
              "\n",
              "    function on_error(url) {\n",
              "      console.error(\"failed to load \" + url);\n",
              "    }\n",
              "\n",
              "    for (let i = 0; i < css_urls.length; i++) {\n",
              "      const url = css_urls[i];\n",
              "      const element = document.createElement(\"link\");\n",
              "      element.onload = on_load;\n",
              "      element.onerror = on_error.bind(null, url);\n",
              "      element.rel = \"stylesheet\";\n",
              "      element.type = \"text/css\";\n",
              "      element.href = url;\n",
              "      console.debug(\"Bokeh: injecting link tag for BokehJS stylesheet: \", url);\n",
              "      document.body.appendChild(element);\n",
              "    }\n",
              "\n",
              "    const hashes = {\"https://cdn.bokeh.org/bokeh/release/bokeh-2.3.2.min.js\": \"XypntL49z55iwGVUW4qsEu83zKL3XEcz0MjuGOQ9SlaaQ68X/g+k1FcioZi7oQAc\", \"https://cdn.bokeh.org/bokeh/release/bokeh-tables-2.3.2.min.js\": \"bEsM86IHGDTLCS0Zod8a8WM6Y4+lafAL/eSiyQcuPzinmWNgNO2/olUF0Z2Dkn5i\", \"https://cdn.bokeh.org/bokeh/release/bokeh-widgets-2.3.2.min.js\": \"TX0gSQTdXTTeScqxj6PVQxTiRW8DOoGVwinyi1D3kxv7wuxQ02XkOxv0xwiypcAH\"};\n",
              "\n",
              "    for (let i = 0; i < js_urls.length; i++) {\n",
              "      const url = js_urls[i];\n",
              "      const element = document.createElement('script');\n",
              "      element.onload = on_load;\n",
              "      element.onerror = on_error.bind(null, url);\n",
              "      element.async = false;\n",
              "      element.src = url;\n",
              "      if (url in hashes) {\n",
              "        element.crossOrigin = \"anonymous\";\n",
              "        element.integrity = \"sha384-\" + hashes[url];\n",
              "      }\n",
              "      console.debug(\"Bokeh: injecting script tag for BokehJS library: \", url);\n",
              "      document.head.appendChild(element);\n",
              "    }\n",
              "  };\n",
              "\n",
              "  function inject_raw_css(css) {\n",
              "    const element = document.createElement(\"style\");\n",
              "    element.appendChild(document.createTextNode(css));\n",
              "    document.body.appendChild(element);\n",
              "  }\n",
              "\n",
              "  \n",
              "  var js_urls = [\"https://cdn.bokeh.org/bokeh/release/bokeh-2.3.2.min.js\", \"https://cdn.bokeh.org/bokeh/release/bokeh-widgets-2.3.2.min.js\", \"https://cdn.bokeh.org/bokeh/release/bokeh-tables-2.3.2.min.js\"];\n",
              "  var css_urls = [];\n",
              "  \n",
              "\n",
              "  var inline_js = [\n",
              "    function(Bokeh) {\n",
              "      Bokeh.set_log_level(\"info\");\n",
              "    },\n",
              "    function(Bokeh) {\n",
              "    \n",
              "    \n",
              "    }\n",
              "  ];\n",
              "\n",
              "  function run_inline_js() {\n",
              "    \n",
              "    if (root.Bokeh !== undefined || force === true) {\n",
              "      \n",
              "    for (var i = 0; i < inline_js.length; i++) {\n",
              "      inline_js[i].call(root, root.Bokeh);\n",
              "    }\n",
              "    } else if (Date.now() < root._bokeh_timeout) {\n",
              "      setTimeout(run_inline_js, 100);\n",
              "    } else if (!root._bokeh_failed_load) {\n",
              "      console.log(\"Bokeh: BokehJS failed to load within specified timeout.\");\n",
              "      root._bokeh_failed_load = true;\n",
              "    } else if (force !== true) {\n",
              "      var cell = $(document.getElementById(null)).parents('.cell').data().cell;\n",
              "      cell.output_area.append_execute_result(NB_LOAD_WARNING)\n",
              "    }\n",
              "\n",
              "  }\n",
              "\n",
              "  if (root._bokeh_is_loading === 0) {\n",
              "    console.debug(\"Bokeh: BokehJS loaded, going straight to plotting\");\n",
              "    run_inline_js();\n",
              "  } else {\n",
              "    load_libs(css_urls, js_urls, function() {\n",
              "      console.debug(\"Bokeh: BokehJS plotting callback run at\", now());\n",
              "      run_inline_js();\n",
              "    });\n",
              "  }\n",
              "}(window));"
            ],
            "application/vnd.bokehjs_load.v0+json": "\n(function(root) {\n  function now() {\n    return new Date();\n  }\n\n  var force = true;\n\n  if (typeof root._bokeh_onload_callbacks === \"undefined\" || force === true) {\n    root._bokeh_onload_callbacks = [];\n    root._bokeh_is_loading = undefined;\n  }\n\n  \n\n  \n  if (typeof (root._bokeh_timeout) === \"undefined\" || force === true) {\n    root._bokeh_timeout = Date.now() + 5000;\n    root._bokeh_failed_load = false;\n  }\n\n  var NB_LOAD_WARNING = {'data': {'text/html':\n     \"<div style='background-color: #fdd'>\\n\"+\n     \"<p>\\n\"+\n     \"BokehJS does not appear to have successfully loaded. If loading BokehJS from CDN, this \\n\"+\n     \"may be due to a slow or bad network connection. Possible fixes:\\n\"+\n     \"</p>\\n\"+\n     \"<ul>\\n\"+\n     \"<li>re-rerun `output_notebook()` to attempt to load from CDN again, or</li>\\n\"+\n     \"<li>use INLINE resources instead, as so:</li>\\n\"+\n     \"</ul>\\n\"+\n     \"<code>\\n\"+\n     \"from bokeh.resources import INLINE\\n\"+\n     \"output_notebook(resources=INLINE)\\n\"+\n     \"</code>\\n\"+\n     \"</div>\"}};\n\n  function display_loaded() {\n    var el = document.getElementById(null);\n    if (el != null) {\n      el.textContent = \"BokehJS is loading...\";\n    }\n    if (root.Bokeh !== undefined) {\n      if (el != null) {\n        el.textContent = \"BokehJS \" + root.Bokeh.version + \" successfully loaded.\";\n      }\n    } else if (Date.now() < root._bokeh_timeout) {\n      setTimeout(display_loaded, 100)\n    }\n  }\n\n\n  function run_callbacks() {\n    try {\n      root._bokeh_onload_callbacks.forEach(function(callback) {\n        if (callback != null)\n          callback();\n      });\n    } finally {\n      delete root._bokeh_onload_callbacks\n    }\n    console.debug(\"Bokeh: all callbacks have finished\");\n  }\n\n  function load_libs(css_urls, js_urls, callback) {\n    if (css_urls == null) css_urls = [];\n    if (js_urls == null) js_urls = [];\n\n    root._bokeh_onload_callbacks.push(callback);\n    if (root._bokeh_is_loading > 0) {\n      console.debug(\"Bokeh: BokehJS is being loaded, scheduling callback at\", now());\n      return null;\n    }\n    if (js_urls == null || js_urls.length === 0) {\n      run_callbacks();\n      return null;\n    }\n    console.debug(\"Bokeh: BokehJS not loaded, scheduling load and callback at\", now());\n    root._bokeh_is_loading = css_urls.length + js_urls.length;\n\n    function on_load() {\n      root._bokeh_is_loading--;\n      if (root._bokeh_is_loading === 0) {\n        console.debug(\"Bokeh: all BokehJS libraries/stylesheets loaded\");\n        run_callbacks()\n      }\n    }\n\n    function on_error(url) {\n      console.error(\"failed to load \" + url);\n    }\n\n    for (let i = 0; i < css_urls.length; i++) {\n      const url = css_urls[i];\n      const element = document.createElement(\"link\");\n      element.onload = on_load;\n      element.onerror = on_error.bind(null, url);\n      element.rel = \"stylesheet\";\n      element.type = \"text/css\";\n      element.href = url;\n      console.debug(\"Bokeh: injecting link tag for BokehJS stylesheet: \", url);\n      document.body.appendChild(element);\n    }\n\n    const hashes = {\"https://cdn.bokeh.org/bokeh/release/bokeh-2.3.2.min.js\": \"XypntL49z55iwGVUW4qsEu83zKL3XEcz0MjuGOQ9SlaaQ68X/g+k1FcioZi7oQAc\", \"https://cdn.bokeh.org/bokeh/release/bokeh-tables-2.3.2.min.js\": \"bEsM86IHGDTLCS0Zod8a8WM6Y4+lafAL/eSiyQcuPzinmWNgNO2/olUF0Z2Dkn5i\", \"https://cdn.bokeh.org/bokeh/release/bokeh-widgets-2.3.2.min.js\": \"TX0gSQTdXTTeScqxj6PVQxTiRW8DOoGVwinyi1D3kxv7wuxQ02XkOxv0xwiypcAH\"};\n\n    for (let i = 0; i < js_urls.length; i++) {\n      const url = js_urls[i];\n      const element = document.createElement('script');\n      element.onload = on_load;\n      element.onerror = on_error.bind(null, url);\n      element.async = false;\n      element.src = url;\n      if (url in hashes) {\n        element.crossOrigin = \"anonymous\";\n        element.integrity = \"sha384-\" + hashes[url];\n      }\n      console.debug(\"Bokeh: injecting script tag for BokehJS library: \", url);\n      document.head.appendChild(element);\n    }\n  };\n\n  function inject_raw_css(css) {\n    const element = document.createElement(\"style\");\n    element.appendChild(document.createTextNode(css));\n    document.body.appendChild(element);\n  }\n\n  \n  var js_urls = [\"https://cdn.bokeh.org/bokeh/release/bokeh-2.3.2.min.js\", \"https://cdn.bokeh.org/bokeh/release/bokeh-widgets-2.3.2.min.js\", \"https://cdn.bokeh.org/bokeh/release/bokeh-tables-2.3.2.min.js\"];\n  var css_urls = [];\n  \n\n  var inline_js = [\n    function(Bokeh) {\n      Bokeh.set_log_level(\"info\");\n    },\n    function(Bokeh) {\n    \n    \n    }\n  ];\n\n  function run_inline_js() {\n    \n    if (root.Bokeh !== undefined || force === true) {\n      \n    for (var i = 0; i < inline_js.length; i++) {\n      inline_js[i].call(root, root.Bokeh);\n    }\n    } else if (Date.now() < root._bokeh_timeout) {\n      setTimeout(run_inline_js, 100);\n    } else if (!root._bokeh_failed_load) {\n      console.log(\"Bokeh: BokehJS failed to load within specified timeout.\");\n      root._bokeh_failed_load = true;\n    } else if (force !== true) {\n      var cell = $(document.getElementById(null)).parents('.cell').data().cell;\n      cell.output_area.append_execute_result(NB_LOAD_WARNING)\n    }\n\n  }\n\n  if (root._bokeh_is_loading === 0) {\n    console.debug(\"Bokeh: BokehJS loaded, going straight to plotting\");\n    run_inline_js();\n  } else {\n    load_libs(css_urls, js_urls, function() {\n      console.debug(\"Bokeh: BokehJS plotting callback run at\", now());\n      run_inline_js();\n    });\n  }\n}(window));"
          },
          "metadata": {
            "tags": []
          }
        },
        {
          "output_type": "display_data",
          "data": {
            "text/html": [
              "\n",
              "\n",
              "\n",
              "\n",
              "\n",
              "\n",
              "  <div class=\"bk-root\" id=\"2cb626b8-1df9-4f46-8d22-7769328f26d3\" data-root-id=\"1174\"></div>\n"
            ]
          },
          "metadata": {
            "tags": []
          }
        },
        {
          "output_type": "display_data",
          "data": {
            "application/javascript": [
              "(function(root) {\n",
              "  function embed_document(root) {\n",
              "    \n",
              "  var docs_json = {\"fb19327d-f1bc-4ca9-96aa-7b311da438bd\":{\"defs\":[],\"roots\":{\"references\":[{\"attributes\":{\"background_fill_color\":\"#20262B\",\"below\":[{\"id\":\"1185\"}],\"border_fill_color\":\"#15191C\",\"center\":[{\"id\":\"1187\"},{\"id\":\"1191\"}],\"height\":400,\"left\":[{\"id\":\"1188\"}],\"outline_line_alpha\":0.25,\"outline_line_color\":\"#E0E0E0\",\"renderers\":[{\"id\":\"1198\"}],\"title\":{\"id\":\"1175\"},\"toolbar\":{\"id\":\"1193\"},\"width\":800,\"x_range\":{\"id\":\"1177\"},\"x_scale\":{\"id\":\"1181\"},\"y_range\":{\"id\":\"1179\"},\"y_scale\":{\"id\":\"1183\"}},\"id\":\"1174\",\"subtype\":\"Figure\",\"type\":\"Plot\"},{\"attributes\":{\"axis_label_standoff\":10,\"axis_label_text_color\":\"#E0E0E0\",\"axis_label_text_font\":\"Helvetica\",\"axis_label_text_font_size\":\"1.25em\",\"axis_label_text_font_style\":\"normal\",\"axis_line_alpha\":0,\"axis_line_color\":\"#E0E0E0\",\"formatter\":{\"id\":\"1224\"},\"major_label_orientation\":\"vertical\",\"major_label_policy\":{\"id\":\"1223\"},\"major_label_text_color\":\"#E0E0E0\",\"major_label_text_font\":\"Helvetica\",\"major_label_text_font_size\":\"1.025em\",\"major_tick_line_alpha\":0,\"major_tick_line_color\":\"#E0E0E0\",\"minor_tick_line_alpha\":0,\"minor_tick_line_color\":\"#E0E0E0\",\"ticker\":{\"id\":\"1186\"}},\"id\":\"1185\",\"type\":\"CategoricalAxis\"},{\"attributes\":{},\"id\":\"1226\",\"type\":\"Selection\"},{\"attributes\":{\"data_source\":{\"id\":\"1173\"},\"glyph\":{\"id\":\"1196\"},\"hover_glyph\":null,\"muted_glyph\":null,\"nonselection_glyph\":{\"id\":\"1197\"},\"view\":{\"id\":\"1199\"}},\"id\":\"1198\",\"type\":\"GlyphRenderer\"},{\"attributes\":{\"start\":0},\"id\":\"1179\",\"type\":\"DataRange1d\"},{\"attributes\":{},\"id\":\"1189\",\"type\":\"BasicTicker\"},{\"attributes\":{},\"id\":\"1186\",\"type\":\"CategoricalTicker\"},{\"attributes\":{},\"id\":\"1183\",\"type\":\"LinearScale\"},{\"attributes\":{},\"id\":\"1223\",\"type\":\"AllLabels\"},{\"attributes\":{\"factors\":[\"united states\",\"years ago\",\"years old\",\"long time\",\"little girl\",\"th century\",\"old man\",\"new york\",\"little boy\",\"carbon dioxide\",\"old woman\",\"young man\",\"far away\",\"world war\",\"poor little\",\"living things\",\"great deal\",\"great britain\",\"solar system\",\"said mother\"]},\"id\":\"1177\",\"type\":\"FactorRange\"},{\"attributes\":{\"axis_label_standoff\":10,\"axis_label_text_color\":\"#E0E0E0\",\"axis_label_text_font\":\"Helvetica\",\"axis_label_text_font_size\":\"1.25em\",\"axis_label_text_font_style\":\"normal\",\"axis_line_alpha\":0,\"axis_line_color\":\"#E0E0E0\",\"formatter\":{\"id\":\"1221\"},\"major_label_policy\":{\"id\":\"1220\"},\"major_label_text_color\":\"#E0E0E0\",\"major_label_text_font\":\"Helvetica\",\"major_label_text_font_size\":\"1.025em\",\"major_tick_line_alpha\":0,\"major_tick_line_color\":\"#E0E0E0\",\"minor_tick_line_alpha\":0,\"minor_tick_line_color\":\"#E0E0E0\",\"ticker\":{\"id\":\"1189\"}},\"id\":\"1188\",\"type\":\"LinearAxis\"},{\"attributes\":{\"active_multi\":null,\"tools\":[{\"id\":\"1192\"}]},\"id\":\"1193\",\"type\":\"Toolbar\"},{\"attributes\":{},\"id\":\"1220\",\"type\":\"AllLabels\"},{\"attributes\":{\"fill_alpha\":{\"value\":0.1},\"fill_color\":{\"field\":\"color\"},\"line_alpha\":{\"value\":0.1},\"line_color\":{\"field\":\"color\"},\"top\":{\"field\":\"counts\"},\"width\":{\"value\":0.8},\"x\":{\"field\":\"Word\"}},\"id\":\"1197\",\"type\":\"VBar\"},{\"attributes\":{\"align\":\"center\",\"text\":\"Top Bigrams\",\"text_color\":\"#E0E0E0\",\"text_font\":\"Helvetica\",\"text_font_size\":\"1.15em\"},\"id\":\"1175\",\"type\":\"Title\"},{\"attributes\":{},\"id\":\"1221\",\"type\":\"BasicTickFormatter\"},{\"attributes\":{},\"id\":\"1181\",\"type\":\"CategoricalScale\"},{\"attributes\":{\"fill_color\":{\"field\":\"color\"},\"line_color\":{\"field\":\"color\"},\"top\":{\"field\":\"counts\"},\"width\":{\"value\":0.8},\"x\":{\"field\":\"Word\"}},\"id\":\"1196\",\"type\":\"VBar\"},{\"attributes\":{},\"id\":\"1224\",\"type\":\"CategoricalTickFormatter\"},{\"attributes\":{\"callback\":null,\"tooltips\":\"@Word: @counts\"},\"id\":\"1192\",\"type\":\"HoverTool\"},{\"attributes\":{\"axis\":{\"id\":\"1185\"},\"grid_line_alpha\":0.25,\"grid_line_color\":null,\"ticker\":null},\"id\":\"1187\",\"type\":\"Grid\"},{\"attributes\":{\"source\":{\"id\":\"1173\"}},\"id\":\"1199\",\"type\":\"CDSView\"},{\"attributes\":{},\"id\":\"1225\",\"type\":\"UnionRenderers\"},{\"attributes\":{\"data\":{\"Word\":[\"united states\",\"years ago\",\"years old\",\"long time\",\"little girl\",\"th century\",\"old man\",\"new york\",\"little boy\",\"carbon dioxide\",\"old woman\",\"young man\",\"far away\",\"world war\",\"poor little\",\"living things\",\"great deal\",\"great britain\",\"solar system\",\"said mother\"],\"color\":[\"#a1dab4\",\"#a1dab4\",\"#a1dab4\",\"#a1dab4\",\"#a1dab4\",\"#a1dab4\",\"#a1dab4\",\"#a1dab4\",\"#a1dab4\",\"#a1dab4\",\"#a1dab4\",\"#a1dab4\",\"#a1dab4\",\"#a1dab4\",\"#a1dab4\",\"#a1dab4\",\"#a1dab4\",\"#a1dab4\",\"#a1dab4\",\"#a1dab4\"],\"counts\":[100,77,58,58,56,55,49,46,44,38,31,30,29,29,27,27,26,26,26,25]},\"selected\":{\"id\":\"1226\"},\"selection_policy\":{\"id\":\"1225\"}},\"id\":\"1173\",\"type\":\"ColumnDataSource\"},{\"attributes\":{\"axis\":{\"id\":\"1188\"},\"dimension\":1,\"grid_line_alpha\":0.25,\"grid_line_color\":\"#E0E0E0\",\"ticker\":null},\"id\":\"1191\",\"type\":\"Grid\"}],\"root_ids\":[\"1174\"]},\"title\":\"Bokeh Application\",\"version\":\"2.3.2\"}};\n",
              "  var render_items = [{\"docid\":\"fb19327d-f1bc-4ca9-96aa-7b311da438bd\",\"root_ids\":[\"1174\"],\"roots\":{\"1174\":\"2cb626b8-1df9-4f46-8d22-7769328f26d3\"}}];\n",
              "  root.Bokeh.embed.embed_items_notebook(docs_json, render_items);\n",
              "\n",
              "  }\n",
              "  if (root.Bokeh !== undefined) {\n",
              "    embed_document(root);\n",
              "  } else {\n",
              "    var attempts = 0;\n",
              "    var timer = setInterval(function(root) {\n",
              "      if (root.Bokeh !== undefined) {\n",
              "        clearInterval(timer);\n",
              "        embed_document(root);\n",
              "      } else {\n",
              "        attempts++;\n",
              "        if (attempts > 100) {\n",
              "          clearInterval(timer);\n",
              "          console.log(\"Bokeh: ERROR: Unable to run BokehJS code because BokehJS library is missing\");\n",
              "        }\n",
              "      }\n",
              "    }, 10, root)\n",
              "  }\n",
              "})(window);"
            ],
            "application/vnd.bokehjs_exec.v0+json": ""
          },
          "metadata": {
            "tags": [],
            "application/vnd.bokehjs_exec.v0+json": {
              "id": "1174"
            }
          }
        }
      ]
    },
    {
      "cell_type": "markdown",
      "metadata": {
        "id": "e7CGJ0EqunXl"
      },
      "source": [
        "### Stemming"
      ]
    },
    {
      "cell_type": "markdown",
      "metadata": {
        "id": "sOtC27bdrKsi"
      },
      "source": [
        "Stemming : 어간 추출\n",
        "* Stemming은 정해진 규칙만 보고 단어의 어미를 자르는 어림짐작의 작업입니다.  \n",
        "* 섬세한 작업이 아닌 룰베이스에 기반한 작업이기 때문에, 어간 추출 후에 나오는 결과 단어는 사전에 존재하지 않는 단어일 수도 있습니다.\n",
        "* NLTK의 Stemmer에는 Porter Stemmer 와 Snowball stemmer가 있는데, Snowball stemmer가 Porter보다 살짝 높은 버전이고, 보다 많이 사용되는 Stemmer이기 때문에 이번 전처리 작업에서는 Snowball을 사용했습니다.\n",
        "* Stemming과 Lemmatization은 둘 다 변형된 단어를 원래 형태로 바꿔줍니다. 차이점은, Stemming은 속도가 빠르나 간혹 존재하지 않는 단어가 나올 수 있고, Lemmatization은 실제 단어 원형을 가져온다는 점입니다.\n",
        "\n"
      ]
    },
    {
      "cell_type": "code",
      "metadata": {
        "colab": {
          "base_uri": "https://localhost:8080/"
        },
        "id": "QcWaWjXwunbQ",
        "outputId": "578fb8df-f559-417d-b180-b51b6c236812"
      },
      "source": [
        "stemmer = SnowballStemmer(language='english')\n",
        "\n",
        "tokens = train_data['excerpt'][1].split()\n",
        "clean_text = ' '\n",
        "\n",
        "for token in tokens[:20]:\n",
        "    print(token + ' --> ' + stemmer.stem(token))"
      ],
      "execution_count": null,
      "outputs": [
        {
          "output_type": "stream",
          "text": [
            "All --> all\n",
            "through --> through\n",
            "dinner --> dinner\n",
            "time, --> time,\n",
            "Mrs. --> mrs.\n",
            "Fayre --> fayr\n",
            "was --> was\n",
            "somewhat --> somewhat\n",
            "silent, --> silent,\n",
            "her --> her\n",
            "eyes --> eye\n",
            "resting --> rest\n",
            "on --> on\n",
            "Dolly --> dolli\n",
            "with --> with\n",
            "a --> a\n",
            "wistful, --> wistful,\n",
            "uncertain --> uncertain\n",
            "expression. --> expression.\n",
            "She --> she\n"
          ],
          "name": "stdout"
        }
      ]
    },
    {
      "cell_type": "code",
      "metadata": {
        "colab": {
          "base_uri": "https://localhost:8080/"
        },
        "id": "Akyz5PDquneW",
        "outputId": "8b48597a-ac9d-45f9-fdf4-875679f01f09"
      },
      "source": [
        "def stemWord(text):\n",
        "    stemmer = SnowballStemmer(language='english')\n",
        "    tokens = text.split()\n",
        "    clean_text = ' '\n",
        "    for token in tokens:\n",
        "        clean_text = clean_text + \" \" + stemmer.stem(token)      \n",
        "    \n",
        "    return clean_text\n",
        "\n",
        "print(\"\\033[1mText before stemWord function: \\033[0m\" + train_data['excerpt'][1] + \"\\n\")\n",
        "print(\"\\033[1mText after stemWord function: \\033[0m\" + stemWord(train_data['excerpt'][1]))"
      ],
      "execution_count": null,
      "outputs": [
        {
          "output_type": "stream",
          "text": [
            "\u001b[1mText before stemWord function: \u001b[0mAll through dinner time, Mrs. Fayre was somewhat silent, her eyes resting on Dolly with a wistful, uncertain expression. She wanted to give the child the pleasure she craved, but she had hard work to bring herself to the point of overcoming her own objections.\n",
            "At last, however, when the meal was nearly over, she smiled at her little daughter, and said, \"All right, Dolly, you may go.\"\n",
            "\"Oh, mother!\" Dolly cried, overwhelmed with sudden delight. \"Really?\n",
            "Oh, I am so glad! Are you sure you're willing?\"\n",
            "\"I've persuaded myself to be willing, against my will,\" returned Mrs. Fayre, whimsically. \"I confess I just hate to have you go, but I can't bear to deprive you of the pleasure trip. And, as you say, it would also keep Dotty at home, and so, altogether, I think I shall have to give in.\"\n",
            "\"Oh, you angel mother! You blessed lady! How good you are!\" And Dolly flew around the table and gave her mother a hug that nearly suffocated her.\n",
            "\n",
            "\u001b[1mText after stemWord function: \u001b[0m  all through dinner time, mrs. fayr was somewhat silent, her eye rest on dolli with a wistful, uncertain expression. she want to give the child the pleasur she craved, but she had hard work to bring herself to the point of overcom her own objections. at last, however, when the meal was near over, she smile at her littl daughter, and said, \"all right, dolly, you may go.\" \"oh, mother!\" dolli cried, overwhelm with sudden delight. \"really? oh, i am so glad! are you sure you'r willing?\" \"i'v persuad myself to be willing, against my will,\" return mrs. fayre, whimsically. \"i confess i just hate to have you go, but i can't bear to depriv you of the pleasur trip. and, as you say, it would also keep dotti at home, and so, altogether, i think i shall have to give in.\" \"oh, you angel mother! you bless lady! how good you are!\" and dolli flew around the tabl and gave her mother a hug that near suffoc her.\n"
          ],
          "name": "stdout"
        }
      ]
    },
    {
      "cell_type": "code",
      "metadata": {
        "id": "BYvI_eVNpBk3"
      },
      "source": [
        "train_data['excerpt_clean'] = train_data['excerpt_clean'].apply(stemWord)\n",
        "test_data['excerpt_clean'] = test_data['excerpt_clean'].apply(stemWord)"
      ],
      "execution_count": null,
      "outputs": []
    },
    {
      "cell_type": "code",
      "metadata": {
        "id": "L2OlFE81Z3Ie"
      },
      "source": [
        "train_data.to_csv(os.path.join(data_path, \"cleaned_train.csv\"), index=False)\n",
        "test_data.to_csv(os.path.join(data_path, \"cleaned_test.csv\"), index=False)"
      ],
      "execution_count": null,
      "outputs": []
    },
    {
      "cell_type": "code",
      "metadata": {
        "colab": {
          "base_uri": "https://localhost:8080/"
        },
        "id": "6IEwxMYvpE_M",
        "outputId": "233f445f-9173-4268-9d97-28de83584a15"
      },
      "source": [
        "results = Counter()\n",
        "train_data['excerpt_clean'].str.lower().str.split().apply(results.update)\n",
        "print(len(results.keys()))"
      ],
      "execution_count": null,
      "outputs": [
        {
          "output_type": "stream",
          "text": [
            "16539\n"
          ],
          "name": "stdout"
        }
      ]
    },
    {
      "cell_type": "markdown",
      "metadata": {
        "id": "uPRnXy26o59j"
      },
      "source": [
        "### Lemmatization"
      ]
    },
    {
      "cell_type": "code",
      "metadata": {
        "colab": {
          "base_uri": "https://localhost:8080/"
        },
        "id": "IfbHET98o6Ek",
        "outputId": "5bb6a72f-47f8-4725-8186-d1912936c8de"
      },
      "source": [
        "# Lemmatization: 표제어 추출\n",
        "\n",
        "oc = nlp(\"Apple is looking at buying U.K. startup for $1 billion\")\n",
        "#for token in doc:\n",
        "   # print(token.lemma_)\n",
        "for noun in doc.noun_chunks:\n",
        "    print(noun.text)"
      ],
      "execution_count": null,
      "outputs": [
        {
          "output_type": "stream",
          "text": [
            "Apple\n",
            "U.K. startup\n"
          ],
          "name": "stdout"
        }
      ]
    },
    {
      "cell_type": "code",
      "metadata": {
        "colab": {
          "base_uri": "https://localhost:8080/"
        },
        "id": "n5ecmOw4o6Jb",
        "outputId": "1db9cc30-2990-4c7f-a4b8-ad56e2080e43"
      },
      "source": [
        "# origin text vs after lemma\n",
        "for word in doc:\n",
        "    print(word.text, word.lemma_)"
      ],
      "execution_count": null,
      "outputs": [
        {
          "output_type": "stream",
          "text": [
            "Apple Apple\n",
            "is be\n",
            "looking look\n",
            "at at\n",
            "buying buy\n",
            "U.K. U.K.\n",
            "startup startup\n",
            "for for\n",
            "$ $\n",
            "1 1\n",
            "billion billion\n"
          ],
          "name": "stdout"
        }
      ]
    },
    {
      "cell_type": "code",
      "metadata": {
        "colab": {
          "base_uri": "https://localhost:8080/",
          "height": 298
        },
        "id": "AfXcI2oyo6RO",
        "outputId": "91909cd7-5598-4e0e-b340-9a3204cd7613"
      },
      "source": [
        "# 원본 발췌문과 표제어 변환 후 비교\n",
        "def lemmatizeWord(text):\n",
        "    tokens=nlp(text)\n",
        "    clean_text = ' '\n",
        "    for token in tokens:\n",
        "        clean_text = clean_text + \" \" + token.lemma_      \n",
        "    \n",
        "    return clean_text\n",
        "\n",
        "print(\"Text before lemmatizeWord function: \" + train_data['excerpt'][1] + \"\\n\")\n",
        "print(\"Text after lemmatizeWord function: \" + lemmatizeWord(train_data['excerpt'][1]))\n",
        "\n",
        "doc = \"Apple is looking at buying U.K. startup for $1 billion\"\n",
        "lemmatizeWord(doc)"
      ],
      "execution_count": null,
      "outputs": [
        {
          "output_type": "stream",
          "text": [
            "Text before lemmatizeWord function: All through dinner time, Mrs. Fayre was somewhat silent, her eyes resting on Dolly with a wistful, uncertain expression. She wanted to give the child the pleasure she craved, but she had hard work to bring herself to the point of overcoming her own objections.\n",
            "At last, however, when the meal was nearly over, she smiled at her little daughter, and said, \"All right, Dolly, you may go.\"\n",
            "\"Oh, mother!\" Dolly cried, overwhelmed with sudden delight. \"Really?\n",
            "Oh, I am so glad! Are you sure you're willing?\"\n",
            "\"I've persuaded myself to be willing, against my will,\" returned Mrs. Fayre, whimsically. \"I confess I just hate to have you go, but I can't bear to deprive you of the pleasure trip. And, as you say, it would also keep Dotty at home, and so, altogether, I think I shall have to give in.\"\n",
            "\"Oh, you angel mother! You blessed lady! How good you are!\" And Dolly flew around the table and gave her mother a hug that nearly suffocated her.\n",
            "\n",
            "Text after lemmatizeWord function:   all through dinner time , Mrs. Fayre be somewhat silent , -PRON- eye rest on Dolly with a wistful , uncertain expression . -PRON- want to give the child the pleasure -PRON- crave , but -PRON- have hard work to bring -PRON- to the point of overcome -PRON- own objection . \n",
            " at last , however , when the meal be nearly over , -PRON- smile at -PRON- little daughter , and say , \" all right , Dolly , -PRON- may go . \" \n",
            " \" oh , mother ! \" Dolly cry , overwhelm with sudden delight . \" really ? \n",
            " oh , -PRON- be so glad ! be -PRON- sure -PRON- be willing ? \" \n",
            " \" -PRON- have persuade -PRON- to be willing , against -PRON- will , \" return Mrs. Fayre , whimsically . \" -PRON- confess -PRON- just hate to have -PRON- go , but -PRON- can not bear to deprive -PRON- of the pleasure trip . and , as -PRON- say , -PRON- would also keep Dotty at home , and so , altogether , -PRON- think -PRON- shall have to give in . \" \n",
            " \" oh , -PRON- angel mother ! -PRON- bless lady ! how good -PRON- be ! \" and Dolly fly around the table and give -PRON- mother a hug that nearly suffocate -PRON- .\n"
          ],
          "name": "stdout"
        },
        {
          "output_type": "execute_result",
          "data": {
            "application/vnd.google.colaboratory.intrinsic+json": {
              "type": "string"
            },
            "text/plain": [
              "'  Apple be look at buy U.K. startup for $ 1 billion'"
            ]
          },
          "metadata": {
            "tags": []
          },
          "execution_count": 73
        }
      ]
    },
    {
      "cell_type": "markdown",
      "metadata": {
        "id": "dF391DJCv2EM"
      },
      "source": [
        "### Part-Of-Speech Tagging"
      ]
    },
    {
      "cell_type": "markdown",
      "metadata": {
        "id": "c_lYq0MXv5lF"
      },
      "source": [
        "POS 태그는 단어의 정의와 맥락을 기반으로 말뭉치에 명사, 동사, 형용사 등의 명칭을 태그하는 방법이다."
      ]
    },
    {
      "cell_type": "code",
      "metadata": {
        "id": "rs2F_ZEMwpnm"
      },
      "source": [
        "# 전처리된 excerpt_clean에 pos_tag 라이브러리 매핑하기\n",
        "\n",
        "train_data['pos_tags'] = train_data['excerpt_clean'].str.split().map(pos_tag)"
      ],
      "execution_count": null,
      "outputs": []
    },
    {
      "cell_type": "code",
      "metadata": {
        "colab": {
          "base_uri": "https://localhost:8080/"
        },
        "id": "SokWvlCOxJjL",
        "outputId": "7982b766-63bb-4fed-9e65-47bc453566a6"
      },
      "source": [
        "train_data['pos_tags']"
      ],
      "execution_count": null,
      "outputs": [
        {
          "output_type": "execute_result",
          "data": {
            "text/plain": [
              "0       [(young, JJ), (peopl, VBP), (return, NN), (bal...\n",
              "1       [(dinner, NN), (time, NN), (mrs, JJ), (fayr, N...\n",
              "2       [(roger, NN), (predict, NN), (snow, VBP), (dep...\n",
              "3       [(outsid, NN), (palac, NN), (great, JJ), (gard...\n",
              "4       [(time, NN), (bear, JJ), (live, VBP), (hous, J...\n",
              "                              ...                        \n",
              "2829    [(think, VB), (dinosaur, NNS), (live, VBP), (p...\n",
              "2830    [(solid, JJ), (solid, JJ), (usual, JJ), (hard,...\n",
              "2831    [(second, JJ), (state, NN), (matter, NN), (dis...\n",
              "2832    [(solid, JJ), (shape, NN), (actual, JJ), (touc...\n",
              "2833    [(anim, NN), (cell, NN), (eat, JJ), (thing, NN...\n",
              "Name: pos_tags, Length: 2834, dtype: object"
            ]
          },
          "metadata": {
            "tags": []
          },
          "execution_count": 84
        }
      ]
    },
    {
      "cell_type": "code",
      "metadata": {
        "id": "UN0ACxYNxWG2"
      },
      "source": [
        "# 학습 데이터에 POS 태깅 컬럼 추가\n",
        "def count_tags(pos_tags):\n",
        "    tag_count = {}\n",
        "    for word,tag in pos_tags:\n",
        "        if tag in tag_count:\n",
        "            tag_count[tag] += 1\n",
        "        else:\n",
        "            tag_count[tag] = 1\n",
        "    return tag_count\n",
        "\n",
        "train_data['tag_counts'] = train_data['pos_tags'].map(count_tags)"
      ],
      "execution_count": null,
      "outputs": []
    },
    {
      "cell_type": "code",
      "metadata": {
        "colab": {
          "base_uri": "https://localhost:8080/"
        },
        "id": "a35U_lg-xanJ",
        "outputId": "123ed418-cf1c-4ed3-b720-43659892cfde"
      },
      "source": [
        "train_data['tag_counts']"
      ],
      "execution_count": null,
      "outputs": [
        {
          "output_type": "execute_result",
          "data": {
            "text/plain": [
              "0       {'JJ': 27, 'VBP': 3, 'NN': 46, 'RB': 1, 'VBD':...\n",
              "1       {'NN': 37, 'JJ': 13, 'RB': 2, 'VBP': 5, 'NNS':...\n",
              "2       {'NN': 40, 'VBP': 4, 'JJ': 16, 'VBD': 2, 'IN':...\n",
              "3       {'NN': 54, 'JJ': 17, 'VBP': 3, 'IN': 3, 'RB': ...\n",
              "4       {'NN': 32, 'JJ': 26, 'VBP': 5, 'NNS': 2, 'IN':...\n",
              "                              ...                        \n",
              "2829    {'VB': 2, 'NNS': 4, 'VBP': 6, 'NN': 36, 'JJ': ...\n",
              "2830    {'JJ': 19, 'NN': 37, 'RBR': 1, 'VBP': 4, 'IN':...\n",
              "2831    {'JJ': 15, 'NN': 45, 'VB': 2, 'VBD': 2, 'VBP':...\n",
              "2832    {'JJ': 17, 'NN': 44, 'NNS': 2, 'VBP': 3, 'VBD'...\n",
              "2833    {'NN': 46, 'JJ': 16, 'JJS': 1, 'VBD': 3, 'IN':...\n",
              "Name: tag_counts, Length: 2834, dtype: object"
            ]
          },
          "metadata": {
            "tags": []
          },
          "execution_count": 86
        }
      ]
    },
    {
      "cell_type": "code",
      "metadata": {
        "id": "2KbzyF0YxpCw"
      },
      "source": [
        "# 각 품사 태그 컬럼 생성, 빈도수 추가\n",
        "\n",
        "set_pos = set([tag for tags in train_data['tag_counts'] for tag in tags])\n",
        "tag_cols = list(set_pos)\n",
        "\n",
        "for tag in tag_cols:\n",
        "    train_data[tag] = train_data['tag_counts'].map(lambda x: x.get(tag, 0))"
      ],
      "execution_count": null,
      "outputs": []
    },
    {
      "cell_type": "code",
      "metadata": {
        "colab": {
          "base_uri": "https://localhost:8080/"
        },
        "id": "CI7yQSjJx0BQ",
        "outputId": "59a47ae6-e458-425d-9dd3-a0413d8e1b33"
      },
      "source": [
        "# tagging된 데이터 확인\n",
        "train_data.loc[0]"
      ],
      "execution_count": null,
      "outputs": [
        {
          "output_type": "execute_result",
          "data": {
            "text/plain": [
              "id                                                            c12129c31\n",
              "url_legal                                                           NaN\n",
              "license                                                             NaN\n",
              "excerpt               When the young people returned to the ballroom...\n",
              "target                                                        -0.340259\n",
              "standard_error                                                 0.464009\n",
              "excerpt_len                                                         992\n",
              "excerpt_word_count                                                  174\n",
              "excerpt_clean           young peopl return ballroom present decid ch...\n",
              "pos_tags              [(young, JJ), (peopl, VBP), (return, NN), (bal...\n",
              "tag_counts            {'JJ': 27, 'VBP': 3, 'NN': 46, 'RB': 1, 'VBD':...\n",
              "JJ                                                                   27\n",
              "PDT                                                                   0\n",
              "JJS                                                                   0\n",
              "VBD                                                                   2\n",
              "PRP                                                                   0\n",
              "TO                                                                    0\n",
              "CC                                                                    0\n",
              "VB                                                                    2\n",
              "PRP$                                                                  0\n",
              "VBN                                                                   1\n",
              "VBZ                                                                   0\n",
              "RP                                                                    0\n",
              "NNP                                                                   0\n",
              "NNS                                                                   0\n",
              "FW                                                                    0\n",
              "POS                                                                   0\n",
              "''                                                                    0\n",
              "VBP                                                                   3\n",
              "WRB                                                                   0\n",
              "EX                                                                    0\n",
              "RBR                                                                   0\n",
              "DT                                                                    0\n",
              "IN                                                                    3\n",
              "JJR                                                                   0\n",
              "UH                                                                    0\n",
              "WP                                                                    0\n",
              "CD                                                                    0\n",
              "WDT                                                                   0\n",
              "NN                                                                   46\n",
              "SYM                                                                   0\n",
              "RB                                                                    1\n",
              "RBS                                                                   0\n",
              "MD                                                                    0\n",
              "VBG                                                                   0\n",
              "Name: 0, dtype: object"
            ]
          },
          "metadata": {
            "tags": []
          },
          "execution_count": 96
        }
      ]
    },
    {
      "cell_type": "code",
      "metadata": {
        "colab": {
          "base_uri": "https://localhost:8080/",
          "height": 623
        },
        "id": "LEMlL-EsyjHr",
        "outputId": "0d098b69-a025-42c2-fe0e-d5db9ef06b89"
      },
      "source": [
        "# POS 빈도 그래프\n",
        "pos = train_data[tag_cols].sum().sort_values(ascending = False)\n",
        "sns.set_style(\"whitegrid\")\n",
        "plt.figure(figsize=(16,10))\n",
        "ax = sns.barplot(x=pos.index, y=pos.values,palette=\"flare\")\n",
        "plt.xticks(rotation = 50)\n",
        "ax.set_yscale('log')\n",
        "plt.title('Part-Of-Speech tags frequency')\n",
        "plt.show()"
      ],
      "execution_count": null,
      "outputs": [
        {
          "output_type": "display_data",
          "data": {
            "image/png": "[encoded data removed]",
            "text/plain": [
              "<Figure size 1152x720 with 1 Axes>"
            ]
          },
          "metadata": {
            "tags": []
          }
        }
      ]
    },
    {
      "cell_type": "code",
      "metadata": {
        "colab": {
          "base_uri": "https://localhost:8080/",
          "height": 36
        },
        "id": "ZZvPQIFFy5DY",
        "outputId": "29caa483-a089-417a-9eb3-64a42b9c21a7"
      },
      "source": [
        "train_data.loc[train_data['target'] == train_data['target'].max()].excerpt.to_string()"
      ],
      "execution_count": null,
      "outputs": [
        {
          "output_type": "execute_result",
          "data": {
            "application/vnd.google.colaboratory.intrinsic+json": {
              "type": "string"
            },
            "text/plain": [
              "'2829    When you think of dinosaurs and where they liv...'"
            ]
          },
          "metadata": {
            "tags": []
          },
          "execution_count": 100
        }
      ]
    },
    {
      "cell_type": "code",
      "metadata": {
        "id": "f3ZOpw4DzNYh"
      },
      "source": [
        "# target 점수가 가장 높은(가장 읽기 쉬운) 발췌문으로 품사 태깅 확인하기\n",
        "sent = str()\n",
        "for word in train_data.loc[train_data['target'] == train_data['target'].max()].excerpt:\n",
        "    sent += word"
      ],
      "execution_count": null,
      "outputs": []
    },
    {
      "cell_type": "code",
      "metadata": {
        "colab": {
          "base_uri": "https://localhost:8080/",
          "height": 110
        },
        "id": "o0meTSRU2pFg",
        "outputId": "5410ffba-d480-4ae2-db5b-dd305ba4e0a0"
      },
      "source": [
        "sent"
      ],
      "execution_count": null,
      "outputs": [
        {
          "output_type": "execute_result",
          "data": {
            "application/vnd.google.colaboratory.intrinsic+json": {
              "type": "string"
            },
            "text/plain": [
              "'When you think of dinosaurs and where they lived, what do you picture? Do you see hot, steamy swamps, thick jungles, or sunny plains? Dinosaurs lived in those places, yes. But did you know that some dinosaurs lived in the cold and the darkness near the North and South Poles?\\nThis surprised scientists, too. Paleontologists used to believe that dinosaurs lived only in the warmest parts of the world. They thought that dinosaurs could only have lived in places where turtles, crocodiles, and snakes live today. Later, these dinosaur scientists began finding bones in surprising places.\\nOne of those surprising fossil beds is a place called Dinosaur Cove, Australia. One hundred million years ago, Australia was connected to Antarctica. Both continents were located near the South Pole. Today, paleontologists dig dinosaur fossils out of the ground. They think about what those ancient bones must mean.'"
            ]
          },
          "metadata": {
            "tags": []
          },
          "execution_count": 102
        }
      ]
    },
    {
      "cell_type": "code",
      "metadata": {
        "id": "QspIIBfy3QMB"
      },
      "source": [
        "doc1 = nlp(sent)"
      ],
      "execution_count": null,
      "outputs": []
    },
    {
      "cell_type": "code",
      "metadata": {
        "colab": {
          "base_uri": "https://localhost:8080/",
          "height": 1000
        },
        "id": "gAlECxJe328r",
        "outputId": "883fa6ca-8654-4d9a-c935-c97ce9b48226"
      },
      "source": [
        "# 단어들간의 관계와 품사 시각화\n",
        "displacy.render(doc1, style=\"dep\", jupyter=\"True\")"
      ],
      "execution_count": null,
      "outputs": [
        {
          "output_type": "display_data",
          "data": {
            "text/html": [
              "<span class=\"tex2jax_ignore\"><svg xmlns=\"http://www.w3.org/2000/svg\" xmlns:xlink=\"http://www.w3.org/1999/xlink\" xml:lang=\"en\" id=\"462b7d6f9ce44bfa8745565c0a8301ea-0\" class=\"displacy\" width=\"35050\" height=\"1362.0\" direction=\"ltr\" style=\"max-width: none; height: 1362.0px; color: #000000; background: #ffffff; font-family: Arial; direction: ltr\">\n",
              "<text class=\"displacy-token\" fill=\"currentColor\" text-anchor=\"middle\" y=\"1272.0\">\n",
              "    <tspan class=\"displacy-word\" fill=\"currentColor\" x=\"50\">Were</tspan>\n",
              "    <tspan class=\"displacy-tag\" dy=\"2em\" fill=\"currentColor\" x=\"50\">AUX</tspan>\n",
              "</text>\n",
              "\n",
              "<text class=\"displacy-token\" fill=\"currentColor\" text-anchor=\"middle\" y=\"1272.0\">\n",
              "    <tspan class=\"displacy-word\" fill=\"currentColor\" x=\"225\">you</tspan>\n",
              "    <tspan class=\"displacy-tag\" dy=\"2em\" fill=\"currentColor\" x=\"225\">PRON</tspan>\n",
              "</text>\n",
              "\n",
              "<text class=\"displacy-token\" fill=\"currentColor\" text-anchor=\"middle\" y=\"1272.0\">\n",
              "    <tspan class=\"displacy-word\" fill=\"currentColor\" x=\"400\">ever</tspan>\n",
              "    <tspan class=\"displacy-tag\" dy=\"2em\" fill=\"currentColor\" x=\"400\">ADV</tspan>\n",
              "</text>\n",
              "\n",
              "<text class=\"displacy-token\" fill=\"currentColor\" text-anchor=\"middle\" y=\"1272.0\">\n",
              "    <tspan class=\"displacy-word\" fill=\"currentColor\" x=\"575\">on</tspan>\n",
              "    <tspan class=\"displacy-tag\" dy=\"2em\" fill=\"currentColor\" x=\"575\">ADP</tspan>\n",
              "</text>\n",
              "\n",
              "<text class=\"displacy-token\" fill=\"currentColor\" text-anchor=\"middle\" y=\"1272.0\">\n",
              "    <tspan class=\"displacy-word\" fill=\"currentColor\" x=\"750\">the</tspan>\n",
              "    <tspan class=\"displacy-tag\" dy=\"2em\" fill=\"currentColor\" x=\"750\">DET</tspan>\n",
              "</text>\n",
              "\n",
              "<text class=\"displacy-token\" fill=\"currentColor\" text-anchor=\"middle\" y=\"1272.0\">\n",
              "    <tspan class=\"displacy-word\" fill=\"currentColor\" x=\"925\">coast</tspan>\n",
              "    <tspan class=\"displacy-tag\" dy=\"2em\" fill=\"currentColor\" x=\"925\">NOUN</tspan>\n",
              "</text>\n",
              "\n",
              "<text class=\"displacy-token\" fill=\"currentColor\" text-anchor=\"middle\" y=\"1272.0\">\n",
              "    <tspan class=\"displacy-word\" fill=\"currentColor\" x=\"1100\">of</tspan>\n",
              "    <tspan class=\"displacy-tag\" dy=\"2em\" fill=\"currentColor\" x=\"1100\">ADP</tspan>\n",
              "</text>\n",
              "\n",
              "<text class=\"displacy-token\" fill=\"currentColor\" text-anchor=\"middle\" y=\"1272.0\">\n",
              "    <tspan class=\"displacy-word\" fill=\"currentColor\" x=\"1275\">Maine?</tspan>\n",
              "    <tspan class=\"displacy-tag\" dy=\"2em\" fill=\"currentColor\" x=\"1275\">PROPN</tspan>\n",
              "</text>\n",
              "\n",
              "<text class=\"displacy-token\" fill=\"currentColor\" text-anchor=\"middle\" y=\"1272.0\">\n",
              "    <tspan class=\"displacy-word\" fill=\"currentColor\" x=\"1450\">If</tspan>\n",
              "    <tspan class=\"displacy-tag\" dy=\"2em\" fill=\"currentColor\" x=\"1450\">SCONJ</tspan>\n",
              "</text>\n",
              "\n",
              "<text class=\"displacy-token\" fill=\"currentColor\" text-anchor=\"middle\" y=\"1272.0\">\n",
              "    <tspan class=\"displacy-word\" fill=\"currentColor\" x=\"1625\">so,</tspan>\n",
              "    <tspan class=\"displacy-tag\" dy=\"2em\" fill=\"currentColor\" x=\"1625\">ADV</tspan>\n",
              "</text>\n",
              "\n",
              "<text class=\"displacy-token\" fill=\"currentColor\" text-anchor=\"middle\" y=\"1272.0\">\n",
              "    <tspan class=\"displacy-word\" fill=\"currentColor\" x=\"1800\">you</tspan>\n",
              "    <tspan class=\"displacy-tag\" dy=\"2em\" fill=\"currentColor\" x=\"1800\">PRON</tspan>\n",
              "</text>\n",
              "\n",
              "<text class=\"displacy-token\" fill=\"currentColor\" text-anchor=\"middle\" y=\"1272.0\">\n",
              "    <tspan class=\"displacy-word\" fill=\"currentColor\" x=\"1975\">know</tspan>\n",
              "    <tspan class=\"displacy-tag\" dy=\"2em\" fill=\"currentColor\" x=\"1975\">VERB</tspan>\n",
              "</text>\n",
              "\n",
              "<text class=\"displacy-token\" fill=\"currentColor\" text-anchor=\"middle\" y=\"1272.0\">\n",
              "    <tspan class=\"displacy-word\" fill=\"currentColor\" x=\"2150\">how</tspan>\n",
              "    <tspan class=\"displacy-tag\" dy=\"2em\" fill=\"currentColor\" x=\"2150\">ADV</tspan>\n",
              "</text>\n",
              "\n",
              "<text class=\"displacy-token\" fill=\"currentColor\" text-anchor=\"middle\" y=\"1272.0\">\n",
              "    <tspan class=\"displacy-word\" fill=\"currentColor\" x=\"2325\">the</tspan>\n",
              "    <tspan class=\"displacy-tag\" dy=\"2em\" fill=\"currentColor\" x=\"2325\">DET</tspan>\n",
              "</text>\n",
              "\n",
              "<text class=\"displacy-token\" fill=\"currentColor\" text-anchor=\"middle\" y=\"1272.0\">\n",
              "    <tspan class=\"displacy-word\" fill=\"currentColor\" x=\"2500\">rocky</tspan>\n",
              "    <tspan class=\"displacy-tag\" dy=\"2em\" fill=\"currentColor\" x=\"2500\">PROPN</tspan>\n",
              "</text>\n",
              "\n",
              "<text class=\"displacy-token\" fill=\"currentColor\" text-anchor=\"middle\" y=\"1272.0\">\n",
              "    <tspan class=\"displacy-word\" fill=\"currentColor\" x=\"2675\">shores</tspan>\n",
              "    <tspan class=\"displacy-tag\" dy=\"2em\" fill=\"currentColor\" x=\"2675\">NOUN</tspan>\n",
              "</text>\n",
              "\n",
              "<text class=\"displacy-token\" fill=\"currentColor\" text-anchor=\"middle\" y=\"1272.0\">\n",
              "    <tspan class=\"displacy-word\" fill=\"currentColor\" x=\"2850\">stretch</tspan>\n",
              "    <tspan class=\"displacy-tag\" dy=\"2em\" fill=\"currentColor\" x=\"2850\">VERB</tspan>\n",
              "</text>\n",
              "\n",
              "<text class=\"displacy-token\" fill=\"currentColor\" text-anchor=\"middle\" y=\"1272.0\">\n",
              "    <tspan class=\"displacy-word\" fill=\"currentColor\" x=\"3025\">out</tspan>\n",
              "    <tspan class=\"displacy-tag\" dy=\"2em\" fill=\"currentColor\" x=\"3025\">ADP</tspan>\n",
              "</text>\n",
              "\n",
              "<text class=\"displacy-token\" fill=\"currentColor\" text-anchor=\"middle\" y=\"1272.0\">\n",
              "    <tspan class=\"displacy-word\" fill=\"currentColor\" x=\"3200\">now</tspan>\n",
              "    <tspan class=\"displacy-tag\" dy=\"2em\" fill=\"currentColor\" x=\"3200\">ADV</tspan>\n",
              "</text>\n",
              "\n",
              "<text class=\"displacy-token\" fill=\"currentColor\" text-anchor=\"middle\" y=\"1272.0\">\n",
              "    <tspan class=\"displacy-word\" fill=\"currentColor\" x=\"3375\">and</tspan>\n",
              "    <tspan class=\"displacy-tag\" dy=\"2em\" fill=\"currentColor\" x=\"3375\">CCONJ</tspan>\n",
              "</text>\n",
              "\n",
              "<text class=\"displacy-token\" fill=\"currentColor\" text-anchor=\"middle\" y=\"1272.0\">\n",
              "    <tspan class=\"displacy-word\" fill=\"currentColor\" x=\"3550\">then</tspan>\n",
              "    <tspan class=\"displacy-tag\" dy=\"2em\" fill=\"currentColor\" x=\"3550\">ADV</tspan>\n",
              "</text>\n",
              "\n",
              "<text class=\"displacy-token\" fill=\"currentColor\" text-anchor=\"middle\" y=\"1272.0\">\n",
              "    <tspan class=\"displacy-word\" fill=\"currentColor\" x=\"3725\">clear</tspan>\n",
              "    <tspan class=\"displacy-tag\" dy=\"2em\" fill=\"currentColor\" x=\"3725\">ADJ</tspan>\n",
              "</text>\n",
              "\n",
              "<text class=\"displacy-token\" fill=\"currentColor\" text-anchor=\"middle\" y=\"1272.0\">\n",
              "    <tspan class=\"displacy-word\" fill=\"currentColor\" x=\"3900\">into</tspan>\n",
              "    <tspan class=\"displacy-tag\" dy=\"2em\" fill=\"currentColor\" x=\"3900\">ADP</tspan>\n",
              "</text>\n",
              "\n",
              "<text class=\"displacy-token\" fill=\"currentColor\" text-anchor=\"middle\" y=\"1272.0\">\n",
              "    <tspan class=\"displacy-word\" fill=\"currentColor\" x=\"4075\">the</tspan>\n",
              "    <tspan class=\"displacy-tag\" dy=\"2em\" fill=\"currentColor\" x=\"4075\">DET</tspan>\n",
              "</text>\n",
              "\n",
              "<text class=\"displacy-token\" fill=\"currentColor\" text-anchor=\"middle\" y=\"1272.0\">\n",
              "    <tspan class=\"displacy-word\" fill=\"currentColor\" x=\"4250\">ocean,</tspan>\n",
              "    <tspan class=\"displacy-tag\" dy=\"2em\" fill=\"currentColor\" x=\"4250\">NOUN</tspan>\n",
              "</text>\n",
              "\n",
              "<text class=\"displacy-token\" fill=\"currentColor\" text-anchor=\"middle\" y=\"1272.0\">\n",
              "    <tspan class=\"displacy-word\" fill=\"currentColor\" x=\"4425\">and</tspan>\n",
              "    <tspan class=\"displacy-tag\" dy=\"2em\" fill=\"currentColor\" x=\"4425\">CCONJ</tspan>\n",
              "</text>\n",
              "\n",
              "<text class=\"displacy-token\" fill=\"currentColor\" text-anchor=\"middle\" y=\"1272.0\">\n",
              "    <tspan class=\"displacy-word\" fill=\"currentColor\" x=\"4600\">fret</tspan>\n",
              "    <tspan class=\"displacy-tag\" dy=\"2em\" fill=\"currentColor\" x=\"4600\">VERB</tspan>\n",
              "</text>\n",
              "\n",
              "<text class=\"displacy-token\" fill=\"currentColor\" text-anchor=\"middle\" y=\"1272.0\">\n",
              "    <tspan class=\"displacy-word\" fill=\"currentColor\" x=\"4775\">the</tspan>\n",
              "    <tspan class=\"displacy-tag\" dy=\"2em\" fill=\"currentColor\" x=\"4775\">DET</tspan>\n",
              "</text>\n",
              "\n",
              "<text class=\"displacy-token\" fill=\"currentColor\" text-anchor=\"middle\" y=\"1272.0\">\n",
              "    <tspan class=\"displacy-word\" fill=\"currentColor\" x=\"4950\">salt</tspan>\n",
              "    <tspan class=\"displacy-tag\" dy=\"2em\" fill=\"currentColor\" x=\"4950\">NOUN</tspan>\n",
              "</text>\n",
              "\n",
              "<text class=\"displacy-token\" fill=\"currentColor\" text-anchor=\"middle\" y=\"1272.0\">\n",
              "    <tspan class=\"displacy-word\" fill=\"currentColor\" x=\"5125\">waves</tspan>\n",
              "    <tspan class=\"displacy-tag\" dy=\"2em\" fill=\"currentColor\" x=\"5125\">NOUN</tspan>\n",
              "</text>\n",
              "\n",
              "<text class=\"displacy-token\" fill=\"currentColor\" text-anchor=\"middle\" y=\"1272.0\">\n",
              "    <tspan class=\"displacy-word\" fill=\"currentColor\" x=\"5300\">till</tspan>\n",
              "    <tspan class=\"displacy-tag\" dy=\"2em\" fill=\"currentColor\" x=\"5300\">SCONJ</tspan>\n",
              "</text>\n",
              "\n",
              "<text class=\"displacy-token\" fill=\"currentColor\" text-anchor=\"middle\" y=\"1272.0\">\n",
              "    <tspan class=\"displacy-word\" fill=\"currentColor\" x=\"5475\">they</tspan>\n",
              "    <tspan class=\"displacy-tag\" dy=\"2em\" fill=\"currentColor\" x=\"5475\">PRON</tspan>\n",
              "</text>\n",
              "\n",
              "<text class=\"displacy-token\" fill=\"currentColor\" text-anchor=\"middle\" y=\"1272.0\">\n",
              "    <tspan class=\"displacy-word\" fill=\"currentColor\" x=\"5650\">are</tspan>\n",
              "    <tspan class=\"displacy-tag\" dy=\"2em\" fill=\"currentColor\" x=\"5650\">AUX</tspan>\n",
              "</text>\n",
              "\n",
              "<text class=\"displacy-token\" fill=\"currentColor\" text-anchor=\"middle\" y=\"1272.0\">\n",
              "    <tspan class=\"displacy-word\" fill=\"currentColor\" x=\"5825\">all</tspan>\n",
              "    <tspan class=\"displacy-tag\" dy=\"2em\" fill=\"currentColor\" x=\"5825\">ADV</tspan>\n",
              "</text>\n",
              "\n",
              "<text class=\"displacy-token\" fill=\"currentColor\" text-anchor=\"middle\" y=\"1272.0\">\n",
              "    <tspan class=\"displacy-word\" fill=\"currentColor\" x=\"6000\">in</tspan>\n",
              "    <tspan class=\"displacy-tag\" dy=\"2em\" fill=\"currentColor\" x=\"6000\">ADP</tspan>\n",
              "</text>\n",
              "\n",
              "<text class=\"displacy-token\" fill=\"currentColor\" text-anchor=\"middle\" y=\"1272.0\">\n",
              "    <tspan class=\"displacy-word\" fill=\"currentColor\" x=\"6175\">a</tspan>\n",
              "    <tspan class=\"displacy-tag\" dy=\"2em\" fill=\"currentColor\" x=\"6175\">DET</tspan>\n",
              "</text>\n",
              "\n",
              "<text class=\"displacy-token\" fill=\"currentColor\" text-anchor=\"middle\" y=\"1272.0\">\n",
              "    <tspan class=\"displacy-word\" fill=\"currentColor\" x=\"6350\">foam.</tspan>\n",
              "    <tspan class=\"displacy-tag\" dy=\"2em\" fill=\"currentColor\" x=\"6350\">NOUN</tspan>\n",
              "</text>\n",
              "\n",
              "<text class=\"displacy-token\" fill=\"currentColor\" text-anchor=\"middle\" y=\"1272.0\">\n",
              "    <tspan class=\"displacy-word\" fill=\"currentColor\" x=\"6525\">Old</tspan>\n",
              "    <tspan class=\"displacy-tag\" dy=\"2em\" fill=\"currentColor\" x=\"6525\">PROPN</tspan>\n",
              "</text>\n",
              "\n",
              "<text class=\"displacy-token\" fill=\"currentColor\" text-anchor=\"middle\" y=\"1272.0\">\n",
              "    <tspan class=\"displacy-word\" fill=\"currentColor\" x=\"6700\">Ocean</tspan>\n",
              "    <tspan class=\"displacy-tag\" dy=\"2em\" fill=\"currentColor\" x=\"6700\">PROPN</tspan>\n",
              "</text>\n",
              "\n",
              "<text class=\"displacy-token\" fill=\"currentColor\" text-anchor=\"middle\" y=\"1272.0\">\n",
              "    <tspan class=\"displacy-word\" fill=\"currentColor\" x=\"6875\">is</tspan>\n",
              "    <tspan class=\"displacy-tag\" dy=\"2em\" fill=\"currentColor\" x=\"6875\">AUX</tspan>\n",
              "</text>\n",
              "\n",
              "<text class=\"displacy-token\" fill=\"currentColor\" text-anchor=\"middle\" y=\"1272.0\">\n",
              "    <tspan class=\"displacy-word\" fill=\"currentColor\" x=\"7050\">not</tspan>\n",
              "    <tspan class=\"displacy-tag\" dy=\"2em\" fill=\"currentColor\" x=\"7050\">PART</tspan>\n",
              "</text>\n",
              "\n",
              "<text class=\"displacy-token\" fill=\"currentColor\" text-anchor=\"middle\" y=\"1272.0\">\n",
              "    <tspan class=\"displacy-word\" fill=\"currentColor\" x=\"7225\">to</tspan>\n",
              "    <tspan class=\"displacy-tag\" dy=\"2em\" fill=\"currentColor\" x=\"7225\">PART</tspan>\n",
              "</text>\n",
              "\n",
              "<text class=\"displacy-token\" fill=\"currentColor\" text-anchor=\"middle\" y=\"1272.0\">\n",
              "    <tspan class=\"displacy-word\" fill=\"currentColor\" x=\"7400\">be</tspan>\n",
              "    <tspan class=\"displacy-tag\" dy=\"2em\" fill=\"currentColor\" x=\"7400\">AUX</tspan>\n",
              "</text>\n",
              "\n",
              "<text class=\"displacy-token\" fill=\"currentColor\" text-anchor=\"middle\" y=\"1272.0\">\n",
              "    <tspan class=\"displacy-word\" fill=\"currentColor\" x=\"7575\">so</tspan>\n",
              "    <tspan class=\"displacy-tag\" dy=\"2em\" fill=\"currentColor\" x=\"7575\">ADV</tspan>\n",
              "</text>\n",
              "\n",
              "<text class=\"displacy-token\" fill=\"currentColor\" text-anchor=\"middle\" y=\"1272.0\">\n",
              "    <tspan class=\"displacy-word\" fill=\"currentColor\" x=\"7750\">set</tspan>\n",
              "    <tspan class=\"displacy-tag\" dy=\"2em\" fill=\"currentColor\" x=\"7750\">VERB</tspan>\n",
              "</text>\n",
              "\n",
              "<text class=\"displacy-token\" fill=\"currentColor\" text-anchor=\"middle\" y=\"1272.0\">\n",
              "    <tspan class=\"displacy-word\" fill=\"currentColor\" x=\"7925\">at</tspan>\n",
              "    <tspan class=\"displacy-tag\" dy=\"2em\" fill=\"currentColor\" x=\"7925\">ADP</tspan>\n",
              "</text>\n",
              "\n",
              "<text class=\"displacy-token\" fill=\"currentColor\" text-anchor=\"middle\" y=\"1272.0\">\n",
              "    <tspan class=\"displacy-word\" fill=\"currentColor\" x=\"8100\">defiance</tspan>\n",
              "    <tspan class=\"displacy-tag\" dy=\"2em\" fill=\"currentColor\" x=\"8100\">NOUN</tspan>\n",
              "</text>\n",
              "\n",
              "<text class=\"displacy-token\" fill=\"currentColor\" text-anchor=\"middle\" y=\"1272.0\">\n",
              "    <tspan class=\"displacy-word\" fill=\"currentColor\" x=\"8275\">and</tspan>\n",
              "    <tspan class=\"displacy-tag\" dy=\"2em\" fill=\"currentColor\" x=\"8275\">CCONJ</tspan>\n",
              "</text>\n",
              "\n",
              "<text class=\"displacy-token\" fill=\"currentColor\" text-anchor=\"middle\" y=\"1272.0\">\n",
              "    <tspan class=\"displacy-word\" fill=\"currentColor\" x=\"8450\">have</tspan>\n",
              "    <tspan class=\"displacy-tag\" dy=\"2em\" fill=\"currentColor\" x=\"8450\">AUX</tspan>\n",
              "</text>\n",
              "\n",
              "<text class=\"displacy-token\" fill=\"currentColor\" text-anchor=\"middle\" y=\"1272.0\">\n",
              "    <tspan class=\"displacy-word\" fill=\"currentColor\" x=\"8625\">his</tspan>\n",
              "    <tspan class=\"displacy-tag\" dy=\"2em\" fill=\"currentColor\" x=\"8625\">DET</tspan>\n",
              "</text>\n",
              "\n",
              "<text class=\"displacy-token\" fill=\"currentColor\" text-anchor=\"middle\" y=\"1272.0\">\n",
              "    <tspan class=\"displacy-word\" fill=\"currentColor\" x=\"8800\">rightful</tspan>\n",
              "    <tspan class=\"displacy-tag\" dy=\"2em\" fill=\"currentColor\" x=\"8800\">ADJ</tspan>\n",
              "</text>\n",
              "\n",
              "<text class=\"displacy-token\" fill=\"currentColor\" text-anchor=\"middle\" y=\"1272.0\">\n",
              "    <tspan class=\"displacy-word\" fill=\"currentColor\" x=\"8975\">territory</tspan>\n",
              "    <tspan class=\"displacy-tag\" dy=\"2em\" fill=\"currentColor\" x=\"8975\">NOUN</tspan>\n",
              "</text>\n",
              "\n",
              "<text class=\"displacy-token\" fill=\"currentColor\" text-anchor=\"middle\" y=\"1272.0\">\n",
              "    <tspan class=\"displacy-word\" fill=\"currentColor\" x=\"9150\">wrung</tspan>\n",
              "    <tspan class=\"displacy-tag\" dy=\"2em\" fill=\"currentColor\" x=\"9150\">VERB</tspan>\n",
              "</text>\n",
              "\n",
              "<text class=\"displacy-token\" fill=\"currentColor\" text-anchor=\"middle\" y=\"1272.0\">\n",
              "    <tspan class=\"displacy-word\" fill=\"currentColor\" x=\"9325\">from</tspan>\n",
              "    <tspan class=\"displacy-tag\" dy=\"2em\" fill=\"currentColor\" x=\"9325\">ADP</tspan>\n",
              "</text>\n",
              "\n",
              "<text class=\"displacy-token\" fill=\"currentColor\" text-anchor=\"middle\" y=\"1272.0\">\n",
              "    <tspan class=\"displacy-word\" fill=\"currentColor\" x=\"9500\">him,</tspan>\n",
              "    <tspan class=\"displacy-tag\" dy=\"2em\" fill=\"currentColor\" x=\"9500\">PRON</tspan>\n",
              "</text>\n",
              "\n",
              "<text class=\"displacy-token\" fill=\"currentColor\" text-anchor=\"middle\" y=\"1272.0\">\n",
              "    <tspan class=\"displacy-word\" fill=\"currentColor\" x=\"9675\">without</tspan>\n",
              "    <tspan class=\"displacy-tag\" dy=\"2em\" fill=\"currentColor\" x=\"9675\">ADP</tspan>\n",
              "</text>\n",
              "\n",
              "<text class=\"displacy-token\" fill=\"currentColor\" text-anchor=\"middle\" y=\"1272.0\">\n",
              "    <tspan class=\"displacy-word\" fill=\"currentColor\" x=\"9850\">taking</tspan>\n",
              "    <tspan class=\"displacy-tag\" dy=\"2em\" fill=\"currentColor\" x=\"9850\">VERB</tspan>\n",
              "</text>\n",
              "\n",
              "<text class=\"displacy-token\" fill=\"currentColor\" text-anchor=\"middle\" y=\"1272.0\">\n",
              "    <tspan class=\"displacy-word\" fill=\"currentColor\" x=\"10025\">his</tspan>\n",
              "    <tspan class=\"displacy-tag\" dy=\"2em\" fill=\"currentColor\" x=\"10025\">DET</tspan>\n",
              "</text>\n",
              "\n",
              "<text class=\"displacy-token\" fill=\"currentColor\" text-anchor=\"middle\" y=\"1272.0\">\n",
              "    <tspan class=\"displacy-word\" fill=\"currentColor\" x=\"10200\">revenge</tspan>\n",
              "    <tspan class=\"displacy-tag\" dy=\"2em\" fill=\"currentColor\" x=\"10200\">NOUN</tspan>\n",
              "</text>\n",
              "\n",
              "<text class=\"displacy-token\" fill=\"currentColor\" text-anchor=\"middle\" y=\"1272.0\">\n",
              "    <tspan class=\"displacy-word\" fill=\"currentColor\" x=\"10375\">after</tspan>\n",
              "    <tspan class=\"displacy-tag\" dy=\"2em\" fill=\"currentColor\" x=\"10375\">ADP</tspan>\n",
              "</text>\n",
              "\n",
              "<text class=\"displacy-token\" fill=\"currentColor\" text-anchor=\"middle\" y=\"1272.0\">\n",
              "    <tspan class=\"displacy-word\" fill=\"currentColor\" x=\"10550\">his</tspan>\n",
              "    <tspan class=\"displacy-tag\" dy=\"2em\" fill=\"currentColor\" x=\"10550\">DET</tspan>\n",
              "</text>\n",
              "\n",
              "<text class=\"displacy-token\" fill=\"currentColor\" text-anchor=\"middle\" y=\"1272.0\">\n",
              "    <tspan class=\"displacy-word\" fill=\"currentColor\" x=\"10725\">own</tspan>\n",
              "    <tspan class=\"displacy-tag\" dy=\"2em\" fill=\"currentColor\" x=\"10725\">ADJ</tspan>\n",
              "</text>\n",
              "\n",
              "<text class=\"displacy-token\" fill=\"currentColor\" text-anchor=\"middle\" y=\"1272.0\">\n",
              "    <tspan class=\"displacy-word\" fill=\"currentColor\" x=\"10900\">fashion.</tspan>\n",
              "    <tspan class=\"displacy-tag\" dy=\"2em\" fill=\"currentColor\" x=\"10900\">NOUN</tspan>\n",
              "</text>\n",
              "\n",
              "<text class=\"displacy-token\" fill=\"currentColor\" text-anchor=\"middle\" y=\"1272.0\">\n",
              "    <tspan class=\"displacy-word\" fill=\"currentColor\" x=\"11075\">Far</tspan>\n",
              "    <tspan class=\"displacy-tag\" dy=\"2em\" fill=\"currentColor\" x=\"11075\">ADV</tspan>\n",
              "</text>\n",
              "\n",
              "<text class=\"displacy-token\" fill=\"currentColor\" text-anchor=\"middle\" y=\"1272.0\">\n",
              "    <tspan class=\"displacy-word\" fill=\"currentColor\" x=\"11250\">up</tspan>\n",
              "    <tspan class=\"displacy-tag\" dy=\"2em\" fill=\"currentColor\" x=\"11250\">ADV</tspan>\n",
              "</text>\n",
              "\n",
              "<text class=\"displacy-token\" fill=\"currentColor\" text-anchor=\"middle\" y=\"1272.0\">\n",
              "    <tspan class=\"displacy-word\" fill=\"currentColor\" x=\"11425\">into</tspan>\n",
              "    <tspan class=\"displacy-tag\" dy=\"2em\" fill=\"currentColor\" x=\"11425\">ADP</tspan>\n",
              "</text>\n",
              "\n",
              "<text class=\"displacy-token\" fill=\"currentColor\" text-anchor=\"middle\" y=\"1272.0\">\n",
              "    <tspan class=\"displacy-word\" fill=\"currentColor\" x=\"11600\">the</tspan>\n",
              "    <tspan class=\"displacy-tag\" dy=\"2em\" fill=\"currentColor\" x=\"11600\">DET</tspan>\n",
              "</text>\n",
              "\n",
              "<text class=\"displacy-token\" fill=\"currentColor\" text-anchor=\"middle\" y=\"1272.0\">\n",
              "    <tspan class=\"displacy-word\" fill=\"currentColor\" x=\"11775\">land</tspan>\n",
              "    <tspan class=\"displacy-tag\" dy=\"2em\" fill=\"currentColor\" x=\"11775\">NOUN</tspan>\n",
              "</text>\n",
              "\n",
              "<text class=\"displacy-token\" fill=\"currentColor\" text-anchor=\"middle\" y=\"1272.0\">\n",
              "    <tspan class=\"displacy-word\" fill=\"currentColor\" x=\"11950\">he</tspan>\n",
              "    <tspan class=\"displacy-tag\" dy=\"2em\" fill=\"currentColor\" x=\"11950\">PRON</tspan>\n",
              "</text>\n",
              "\n",
              "<text class=\"displacy-token\" fill=\"currentColor\" text-anchor=\"middle\" y=\"1272.0\">\n",
              "    <tspan class=\"displacy-word\" fill=\"currentColor\" x=\"12125\">sends</tspan>\n",
              "    <tspan class=\"displacy-tag\" dy=\"2em\" fill=\"currentColor\" x=\"12125\">VERB</tspan>\n",
              "</text>\n",
              "\n",
              "<text class=\"displacy-token\" fill=\"currentColor\" text-anchor=\"middle\" y=\"1272.0\">\n",
              "    <tspan class=\"displacy-word\" fill=\"currentColor\" x=\"12300\">his</tspan>\n",
              "    <tspan class=\"displacy-tag\" dy=\"2em\" fill=\"currentColor\" x=\"12300\">DET</tspan>\n",
              "</text>\n",
              "\n",
              "<text class=\"displacy-token\" fill=\"currentColor\" text-anchor=\"middle\" y=\"1272.0\">\n",
              "    <tspan class=\"displacy-word\" fill=\"currentColor\" x=\"12475\">arms,</tspan>\n",
              "    <tspan class=\"displacy-tag\" dy=\"2em\" fill=\"currentColor\" x=\"12475\">NOUN</tspan>\n",
              "</text>\n",
              "\n",
              "<text class=\"displacy-token\" fill=\"currentColor\" text-anchor=\"middle\" y=\"1272.0\">\n",
              "    <tspan class=\"displacy-word\" fill=\"currentColor\" x=\"12650\">and</tspan>\n",
              "    <tspan class=\"displacy-tag\" dy=\"2em\" fill=\"currentColor\" x=\"12650\">CCONJ</tspan>\n",
              "</text>\n",
              "\n",
              "<text class=\"displacy-token\" fill=\"currentColor\" text-anchor=\"middle\" y=\"1272.0\">\n",
              "    <tspan class=\"displacy-word\" fill=\"currentColor\" x=\"12825\">crooks</tspan>\n",
              "    <tspan class=\"displacy-tag\" dy=\"2em\" fill=\"currentColor\" x=\"12825\">NOUN</tspan>\n",
              "</text>\n",
              "\n",
              "<text class=\"displacy-token\" fill=\"currentColor\" text-anchor=\"middle\" y=\"1272.0\">\n",
              "    <tspan class=\"displacy-word\" fill=\"currentColor\" x=\"13000\">and</tspan>\n",
              "    <tspan class=\"displacy-tag\" dy=\"2em\" fill=\"currentColor\" x=\"13000\">CCONJ</tspan>\n",
              "</text>\n",
              "\n",
              "<text class=\"displacy-token\" fill=\"currentColor\" text-anchor=\"middle\" y=\"1272.0\">\n",
              "    <tspan class=\"displacy-word\" fill=\"currentColor\" x=\"13175\">bends</tspan>\n",
              "    <tspan class=\"displacy-tag\" dy=\"2em\" fill=\"currentColor\" x=\"13175\">NOUN</tspan>\n",
              "</text>\n",
              "\n",
              "<text class=\"displacy-token\" fill=\"currentColor\" text-anchor=\"middle\" y=\"1272.0\">\n",
              "    <tspan class=\"displacy-word\" fill=\"currentColor\" x=\"13350\">and</tspan>\n",
              "    <tspan class=\"displacy-tag\" dy=\"2em\" fill=\"currentColor\" x=\"13350\">CCONJ</tspan>\n",
              "</text>\n",
              "\n",
              "<text class=\"displacy-token\" fill=\"currentColor\" text-anchor=\"middle\" y=\"1272.0\">\n",
              "    <tspan class=\"displacy-word\" fill=\"currentColor\" x=\"13525\">makes</tspan>\n",
              "    <tspan class=\"displacy-tag\" dy=\"2em\" fill=\"currentColor\" x=\"13525\">VERB</tspan>\n",
              "</text>\n",
              "\n",
              "<text class=\"displacy-token\" fill=\"currentColor\" text-anchor=\"middle\" y=\"1272.0\">\n",
              "    <tspan class=\"displacy-word\" fill=\"currentColor\" x=\"13700\">his</tspan>\n",
              "    <tspan class=\"displacy-tag\" dy=\"2em\" fill=\"currentColor\" x=\"13700\">DET</tspan>\n",
              "</text>\n",
              "\n",
              "<text class=\"displacy-token\" fill=\"currentColor\" text-anchor=\"middle\" y=\"1272.0\">\n",
              "    <tspan class=\"displacy-word\" fill=\"currentColor\" x=\"13875\">way</tspan>\n",
              "    <tspan class=\"displacy-tag\" dy=\"2em\" fill=\"currentColor\" x=\"13875\">NOUN</tspan>\n",
              "</text>\n",
              "\n",
              "<text class=\"displacy-token\" fill=\"currentColor\" text-anchor=\"middle\" y=\"1272.0\">\n",
              "    <tspan class=\"displacy-word\" fill=\"currentColor\" x=\"14050\">amid</tspan>\n",
              "    <tspan class=\"displacy-tag\" dy=\"2em\" fill=\"currentColor\" x=\"14050\">ADP</tspan>\n",
              "</text>\n",
              "\n",
              "<text class=\"displacy-token\" fill=\"currentColor\" text-anchor=\"middle\" y=\"1272.0\">\n",
              "    <tspan class=\"displacy-word\" fill=\"currentColor\" x=\"14225\">the</tspan>\n",
              "    <tspan class=\"displacy-tag\" dy=\"2em\" fill=\"currentColor\" x=\"14225\">DET</tspan>\n",
              "</text>\n",
              "\n",
              "<text class=\"displacy-token\" fill=\"currentColor\" text-anchor=\"middle\" y=\"1272.0\">\n",
              "    <tspan class=\"displacy-word\" fill=\"currentColor\" x=\"14400\">rocks,</tspan>\n",
              "    <tspan class=\"displacy-tag\" dy=\"2em\" fill=\"currentColor\" x=\"14400\">NOUN</tspan>\n",
              "</text>\n",
              "\n",
              "<text class=\"displacy-token\" fill=\"currentColor\" text-anchor=\"middle\" y=\"1272.0\">\n",
              "    <tspan class=\"displacy-word\" fill=\"currentColor\" x=\"14575\">and</tspan>\n",
              "    <tspan class=\"displacy-tag\" dy=\"2em\" fill=\"currentColor\" x=\"14575\">CCONJ</tspan>\n",
              "</text>\n",
              "\n",
              "<text class=\"displacy-token\" fill=\"currentColor\" text-anchor=\"middle\" y=\"1272.0\">\n",
              "    <tspan class=\"displacy-word\" fill=\"currentColor\" x=\"14750\">finally</tspan>\n",
              "    <tspan class=\"displacy-tag\" dy=\"2em\" fill=\"currentColor\" x=\"14750\">ADV</tspan>\n",
              "</text>\n",
              "\n",
              "<text class=\"displacy-token\" fill=\"currentColor\" text-anchor=\"middle\" y=\"1272.0\">\n",
              "    <tspan class=\"displacy-word\" fill=\"currentColor\" x=\"14925\">falls</tspan>\n",
              "    <tspan class=\"displacy-tag\" dy=\"2em\" fill=\"currentColor\" x=\"14925\">VERB</tspan>\n",
              "</text>\n",
              "\n",
              "<text class=\"displacy-token\" fill=\"currentColor\" text-anchor=\"middle\" y=\"1272.0\">\n",
              "    <tspan class=\"displacy-word\" fill=\"currentColor\" x=\"15100\">asleep</tspan>\n",
              "    <tspan class=\"displacy-tag\" dy=\"2em\" fill=\"currentColor\" x=\"15100\">ADJ</tspan>\n",
              "</text>\n",
              "\n",
              "<text class=\"displacy-token\" fill=\"currentColor\" text-anchor=\"middle\" y=\"1272.0\">\n",
              "    <tspan class=\"displacy-word\" fill=\"currentColor\" x=\"15275\">in</tspan>\n",
              "    <tspan class=\"displacy-tag\" dy=\"2em\" fill=\"currentColor\" x=\"15275\">ADP</tspan>\n",
              "</text>\n",
              "\n",
              "<text class=\"displacy-token\" fill=\"currentColor\" text-anchor=\"middle\" y=\"1272.0\">\n",
              "    <tspan class=\"displacy-word\" fill=\"currentColor\" x=\"15450\">some</tspan>\n",
              "    <tspan class=\"displacy-tag\" dy=\"2em\" fill=\"currentColor\" x=\"15450\">DET</tspan>\n",
              "</text>\n",
              "\n",
              "<text class=\"displacy-token\" fill=\"currentColor\" text-anchor=\"middle\" y=\"1272.0\">\n",
              "    <tspan class=\"displacy-word\" fill=\"currentColor\" x=\"15625\">quiet</tspan>\n",
              "    <tspan class=\"displacy-tag\" dy=\"2em\" fill=\"currentColor\" x=\"15625\">ADJ</tspan>\n",
              "</text>\n",
              "\n",
              "<text class=\"displacy-token\" fill=\"currentColor\" text-anchor=\"middle\" y=\"1272.0\">\n",
              "    <tspan class=\"displacy-word\" fill=\"currentColor\" x=\"15800\">harbor,</tspan>\n",
              "    <tspan class=\"displacy-tag\" dy=\"2em\" fill=\"currentColor\" x=\"15800\">NOUN</tspan>\n",
              "</text>\n",
              "\n",
              "<text class=\"displacy-token\" fill=\"currentColor\" text-anchor=\"middle\" y=\"1272.0\">\n",
              "    <tspan class=\"displacy-word\" fill=\"currentColor\" x=\"15975\">where</tspan>\n",
              "    <tspan class=\"displacy-tag\" dy=\"2em\" fill=\"currentColor\" x=\"15975\">ADV</tspan>\n",
              "</text>\n",
              "\n",
              "<text class=\"displacy-token\" fill=\"currentColor\" text-anchor=\"middle\" y=\"1272.0\">\n",
              "    <tspan class=\"displacy-word\" fill=\"currentColor\" x=\"16150\">the</tspan>\n",
              "    <tspan class=\"displacy-tag\" dy=\"2em\" fill=\"currentColor\" x=\"16150\">DET</tspan>\n",
              "</text>\n",
              "\n",
              "<text class=\"displacy-token\" fill=\"currentColor\" text-anchor=\"middle\" y=\"1272.0\">\n",
              "    <tspan class=\"displacy-word\" fill=\"currentColor\" x=\"16325\">tall</tspan>\n",
              "    <tspan class=\"displacy-tag\" dy=\"2em\" fill=\"currentColor\" x=\"16325\">ADJ</tspan>\n",
              "</text>\n",
              "\n",
              "<text class=\"displacy-token\" fill=\"currentColor\" text-anchor=\"middle\" y=\"1272.0\">\n",
              "    <tspan class=\"displacy-word\" fill=\"currentColor\" x=\"16500\">pines</tspan>\n",
              "    <tspan class=\"displacy-tag\" dy=\"2em\" fill=\"currentColor\" x=\"16500\">NOUN</tspan>\n",
              "</text>\n",
              "\n",
              "<text class=\"displacy-token\" fill=\"currentColor\" text-anchor=\"middle\" y=\"1272.0\">\n",
              "    <tspan class=\"displacy-word\" fill=\"currentColor\" x=\"16675\">stand</tspan>\n",
              "    <tspan class=\"displacy-tag\" dy=\"2em\" fill=\"currentColor\" x=\"16675\">VERB</tspan>\n",
              "</text>\n",
              "\n",
              "<text class=\"displacy-token\" fill=\"currentColor\" text-anchor=\"middle\" y=\"1272.0\">\n",
              "    <tspan class=\"displacy-word\" fill=\"currentColor\" x=\"16850\">by</tspan>\n",
              "    <tspan class=\"displacy-tag\" dy=\"2em\" fill=\"currentColor\" x=\"16850\">ADP</tspan>\n",
              "</text>\n",
              "\n",
              "<text class=\"displacy-token\" fill=\"currentColor\" text-anchor=\"middle\" y=\"1272.0\">\n",
              "    <tspan class=\"displacy-word\" fill=\"currentColor\" x=\"17025\">the</tspan>\n",
              "    <tspan class=\"displacy-tag\" dy=\"2em\" fill=\"currentColor\" x=\"17025\">DET</tspan>\n",
              "</text>\n",
              "\n",
              "<text class=\"displacy-token\" fill=\"currentColor\" text-anchor=\"middle\" y=\"1272.0\">\n",
              "    <tspan class=\"displacy-word\" fill=\"currentColor\" x=\"17200\">shore</tspan>\n",
              "    <tspan class=\"displacy-tag\" dy=\"2em\" fill=\"currentColor\" x=\"17200\">NOUN</tspan>\n",
              "</text>\n",
              "\n",
              "<text class=\"displacy-token\" fill=\"currentColor\" text-anchor=\"middle\" y=\"1272.0\">\n",
              "    <tspan class=\"displacy-word\" fill=\"currentColor\" x=\"17375\">to</tspan>\n",
              "    <tspan class=\"displacy-tag\" dy=\"2em\" fill=\"currentColor\" x=\"17375\">PART</tspan>\n",
              "</text>\n",
              "\n",
              "<text class=\"displacy-token\" fill=\"currentColor\" text-anchor=\"middle\" y=\"1272.0\">\n",
              "    <tspan class=\"displacy-word\" fill=\"currentColor\" x=\"17550\">sing</tspan>\n",
              "    <tspan class=\"displacy-tag\" dy=\"2em\" fill=\"currentColor\" x=\"17550\">VERB</tspan>\n",
              "</text>\n",
              "\n",
              "<text class=\"displacy-token\" fill=\"currentColor\" text-anchor=\"middle\" y=\"1272.0\">\n",
              "    <tspan class=\"displacy-word\" fill=\"currentColor\" x=\"17725\">him</tspan>\n",
              "    <tspan class=\"displacy-tag\" dy=\"2em\" fill=\"currentColor\" x=\"17725\">PRON</tspan>\n",
              "</text>\n",
              "\n",
              "<text class=\"displacy-token\" fill=\"currentColor\" text-anchor=\"middle\" y=\"1272.0\">\n",
              "    <tspan class=\"displacy-word\" fill=\"currentColor\" x=\"17900\">a</tspan>\n",
              "    <tspan class=\"displacy-tag\" dy=\"2em\" fill=\"currentColor\" x=\"17900\">DET</tspan>\n",
              "</text>\n",
              "\n",
              "<text class=\"displacy-token\" fill=\"currentColor\" text-anchor=\"middle\" y=\"1272.0\">\n",
              "    <tspan class=\"displacy-word\" fill=\"currentColor\" x=\"18075\">lullaby.</tspan>\n",
              "    <tspan class=\"displacy-tag\" dy=\"2em\" fill=\"currentColor\" x=\"18075\">NOUN</tspan>\n",
              "</text>\n",
              "\n",
              "<text class=\"displacy-token\" fill=\"currentColor\" text-anchor=\"middle\" y=\"1272.0\">\n",
              "    <tspan class=\"displacy-word\" fill=\"currentColor\" x=\"18250\">\n",
              "</tspan>\n",
              "    <tspan class=\"displacy-tag\" dy=\"2em\" fill=\"currentColor\" x=\"18250\">SPACE</tspan>\n",
              "</text>\n",
              "\n",
              "<text class=\"displacy-token\" fill=\"currentColor\" text-anchor=\"middle\" y=\"1272.0\">\n",
              "    <tspan class=\"displacy-word\" fill=\"currentColor\" x=\"18425\">In</tspan>\n",
              "    <tspan class=\"displacy-tag\" dy=\"2em\" fill=\"currentColor\" x=\"18425\">ADP</tspan>\n",
              "</text>\n",
              "\n",
              "<text class=\"displacy-token\" fill=\"currentColor\" text-anchor=\"middle\" y=\"1272.0\">\n",
              "    <tspan class=\"displacy-word\" fill=\"currentColor\" x=\"18600\">just</tspan>\n",
              "    <tspan class=\"displacy-tag\" dy=\"2em\" fill=\"currentColor\" x=\"18600\">ADV</tspan>\n",
              "</text>\n",
              "\n",
              "<text class=\"displacy-token\" fill=\"currentColor\" text-anchor=\"middle\" y=\"1272.0\">\n",
              "    <tspan class=\"displacy-word\" fill=\"currentColor\" x=\"18775\">such</tspan>\n",
              "    <tspan class=\"displacy-tag\" dy=\"2em\" fill=\"currentColor\" x=\"18775\">DET</tspan>\n",
              "</text>\n",
              "\n",
              "<text class=\"displacy-token\" fill=\"currentColor\" text-anchor=\"middle\" y=\"1272.0\">\n",
              "    <tspan class=\"displacy-word\" fill=\"currentColor\" x=\"18950\">a</tspan>\n",
              "    <tspan class=\"displacy-tag\" dy=\"2em\" fill=\"currentColor\" x=\"18950\">DET</tspan>\n",
              "</text>\n",
              "\n",
              "<text class=\"displacy-token\" fill=\"currentColor\" text-anchor=\"middle\" y=\"1272.0\">\n",
              "    <tspan class=\"displacy-word\" fill=\"currentColor\" x=\"19125\">spot</tspan>\n",
              "    <tspan class=\"displacy-tag\" dy=\"2em\" fill=\"currentColor\" x=\"19125\">NOUN</tspan>\n",
              "</text>\n",
              "\n",
              "<text class=\"displacy-token\" fill=\"currentColor\" text-anchor=\"middle\" y=\"1272.0\">\n",
              "    <tspan class=\"displacy-word\" fill=\"currentColor\" x=\"19300\">as</tspan>\n",
              "    <tspan class=\"displacy-tag\" dy=\"2em\" fill=\"currentColor\" x=\"19300\">SCONJ</tspan>\n",
              "</text>\n",
              "\n",
              "<text class=\"displacy-token\" fill=\"currentColor\" text-anchor=\"middle\" y=\"1272.0\">\n",
              "    <tspan class=\"displacy-word\" fill=\"currentColor\" x=\"19475\">this</tspan>\n",
              "    <tspan class=\"displacy-tag\" dy=\"2em\" fill=\"currentColor\" x=\"19475\">DET</tspan>\n",
              "</text>\n",
              "\n",
              "<text class=\"displacy-token\" fill=\"currentColor\" text-anchor=\"middle\" y=\"1272.0\">\n",
              "    <tspan class=\"displacy-word\" fill=\"currentColor\" x=\"19650\">the</tspan>\n",
              "    <tspan class=\"displacy-tag\" dy=\"2em\" fill=\"currentColor\" x=\"19650\">DET</tspan>\n",
              "</text>\n",
              "\n",
              "<text class=\"displacy-token\" fill=\"currentColor\" text-anchor=\"middle\" y=\"1272.0\">\n",
              "    <tspan class=\"displacy-word\" fill=\"currentColor\" x=\"19825\">town</tspan>\n",
              "    <tspan class=\"displacy-tag\" dy=\"2em\" fill=\"currentColor\" x=\"19825\">NOUN</tspan>\n",
              "</text>\n",
              "\n",
              "<text class=\"displacy-token\" fill=\"currentColor\" text-anchor=\"middle\" y=\"1272.0\">\n",
              "    <tspan class=\"displacy-word\" fill=\"currentColor\" x=\"20000\">we</tspan>\n",
              "    <tspan class=\"displacy-tag\" dy=\"2em\" fill=\"currentColor\" x=\"20000\">PRON</tspan>\n",
              "</text>\n",
              "\n",
              "<text class=\"displacy-token\" fill=\"currentColor\" text-anchor=\"middle\" y=\"1272.0\">\n",
              "    <tspan class=\"displacy-word\" fill=\"currentColor\" x=\"20175\">shall</tspan>\n",
              "    <tspan class=\"displacy-tag\" dy=\"2em\" fill=\"currentColor\" x=\"20175\">VERB</tspan>\n",
              "</text>\n",
              "\n",
              "<text class=\"displacy-token\" fill=\"currentColor\" text-anchor=\"middle\" y=\"1272.0\">\n",
              "    <tspan class=\"displacy-word\" fill=\"currentColor\" x=\"20350\">call</tspan>\n",
              "    <tspan class=\"displacy-tag\" dy=\"2em\" fill=\"currentColor\" x=\"20350\">VERB</tspan>\n",
              "</text>\n",
              "\n",
              "<text class=\"displacy-token\" fill=\"currentColor\" text-anchor=\"middle\" y=\"1272.0\">\n",
              "    <tspan class=\"displacy-word\" fill=\"currentColor\" x=\"20525\">Fairport</tspan>\n",
              "    <tspan class=\"displacy-tag\" dy=\"2em\" fill=\"currentColor\" x=\"20525\">PROPN</tspan>\n",
              "</text>\n",
              "\n",
              "<text class=\"displacy-token\" fill=\"currentColor\" text-anchor=\"middle\" y=\"1272.0\">\n",
              "    <tspan class=\"displacy-word\" fill=\"currentColor\" x=\"20700\">was</tspan>\n",
              "    <tspan class=\"displacy-tag\" dy=\"2em\" fill=\"currentColor\" x=\"20700\">AUX</tspan>\n",
              "</text>\n",
              "\n",
              "<text class=\"displacy-token\" fill=\"currentColor\" text-anchor=\"middle\" y=\"1272.0\">\n",
              "    <tspan class=\"displacy-word\" fill=\"currentColor\" x=\"20875\">built.</tspan>\n",
              "    <tspan class=\"displacy-tag\" dy=\"2em\" fill=\"currentColor\" x=\"20875\">VERB</tspan>\n",
              "</text>\n",
              "\n",
              "<text class=\"displacy-token\" fill=\"currentColor\" text-anchor=\"middle\" y=\"1272.0\">\n",
              "    <tspan class=\"displacy-word\" fill=\"currentColor\" x=\"21050\">Axe</tspan>\n",
              "    <tspan class=\"displacy-tag\" dy=\"2em\" fill=\"currentColor\" x=\"21050\">VERB</tspan>\n",
              "</text>\n",
              "\n",
              "<text class=\"displacy-token\" fill=\"currentColor\" text-anchor=\"middle\" y=\"1272.0\">\n",
              "    <tspan class=\"displacy-word\" fill=\"currentColor\" x=\"21225\">in</tspan>\n",
              "    <tspan class=\"displacy-tag\" dy=\"2em\" fill=\"currentColor\" x=\"21225\">ADP</tspan>\n",
              "</text>\n",
              "\n",
              "<text class=\"displacy-token\" fill=\"currentColor\" text-anchor=\"middle\" y=\"1272.0\">\n",
              "    <tspan class=\"displacy-word\" fill=\"currentColor\" x=\"21400\">one</tspan>\n",
              "    <tspan class=\"displacy-tag\" dy=\"2em\" fill=\"currentColor\" x=\"21400\">NUM</tspan>\n",
              "</text>\n",
              "\n",
              "<text class=\"displacy-token\" fill=\"currentColor\" text-anchor=\"middle\" y=\"1272.0\">\n",
              "    <tspan class=\"displacy-word\" fill=\"currentColor\" x=\"21575\">hand</tspan>\n",
              "    <tspan class=\"displacy-tag\" dy=\"2em\" fill=\"currentColor\" x=\"21575\">NOUN</tspan>\n",
              "</text>\n",
              "\n",
              "<text class=\"displacy-token\" fill=\"currentColor\" text-anchor=\"middle\" y=\"1272.0\">\n",
              "    <tspan class=\"displacy-word\" fill=\"currentColor\" x=\"21750\">and</tspan>\n",
              "    <tspan class=\"displacy-tag\" dy=\"2em\" fill=\"currentColor\" x=\"21750\">CCONJ</tspan>\n",
              "</text>\n",
              "\n",
              "<text class=\"displacy-token\" fill=\"currentColor\" text-anchor=\"middle\" y=\"1272.0\">\n",
              "    <tspan class=\"displacy-word\" fill=\"currentColor\" x=\"21925\">Bible</tspan>\n",
              "    <tspan class=\"displacy-tag\" dy=\"2em\" fill=\"currentColor\" x=\"21925\">PROPN</tspan>\n",
              "</text>\n",
              "\n",
              "<text class=\"displacy-token\" fill=\"currentColor\" text-anchor=\"middle\" y=\"1272.0\">\n",
              "    <tspan class=\"displacy-word\" fill=\"currentColor\" x=\"22100\">in</tspan>\n",
              "    <tspan class=\"displacy-tag\" dy=\"2em\" fill=\"currentColor\" x=\"22100\">ADP</tspan>\n",
              "</text>\n",
              "\n",
              "<text class=\"displacy-token\" fill=\"currentColor\" text-anchor=\"middle\" y=\"1272.0\">\n",
              "    <tspan class=\"displacy-word\" fill=\"currentColor\" x=\"22275\">the</tspan>\n",
              "    <tspan class=\"displacy-tag\" dy=\"2em\" fill=\"currentColor\" x=\"22275\">DET</tspan>\n",
              "</text>\n",
              "\n",
              "<text class=\"displacy-token\" fill=\"currentColor\" text-anchor=\"middle\" y=\"1272.0\">\n",
              "    <tspan class=\"displacy-word\" fill=\"currentColor\" x=\"22450\">other,</tspan>\n",
              "    <tspan class=\"displacy-tag\" dy=\"2em\" fill=\"currentColor\" x=\"22450\">ADJ</tspan>\n",
              "</text>\n",
              "\n",
              "<text class=\"displacy-token\" fill=\"currentColor\" text-anchor=\"middle\" y=\"1272.0\">\n",
              "    <tspan class=\"displacy-word\" fill=\"currentColor\" x=\"22625\">stern</tspan>\n",
              "    <tspan class=\"displacy-tag\" dy=\"2em\" fill=\"currentColor\" x=\"22625\">ADJ</tspan>\n",
              "</text>\n",
              "\n",
              "<text class=\"displacy-token\" fill=\"currentColor\" text-anchor=\"middle\" y=\"1272.0\">\n",
              "    <tspan class=\"displacy-word\" fill=\"currentColor\" x=\"22800\">settlers</tspan>\n",
              "    <tspan class=\"displacy-tag\" dy=\"2em\" fill=\"currentColor\" x=\"22800\">NOUN</tspan>\n",
              "</text>\n",
              "\n",
              "<text class=\"displacy-token\" fill=\"currentColor\" text-anchor=\"middle\" y=\"1272.0\">\n",
              "    <tspan class=\"displacy-word\" fill=\"currentColor\" x=\"22975\">here</tspan>\n",
              "    <tspan class=\"displacy-tag\" dy=\"2em\" fill=\"currentColor\" x=\"22975\">ADV</tspan>\n",
              "</text>\n",
              "\n",
              "<text class=\"displacy-token\" fill=\"currentColor\" text-anchor=\"middle\" y=\"1272.0\">\n",
              "    <tspan class=\"displacy-word\" fill=\"currentColor\" x=\"23150\">found</tspan>\n",
              "    <tspan class=\"displacy-tag\" dy=\"2em\" fill=\"currentColor\" x=\"23150\">VERB</tspan>\n",
              "</text>\n",
              "\n",
              "<text class=\"displacy-token\" fill=\"currentColor\" text-anchor=\"middle\" y=\"1272.0\">\n",
              "    <tspan class=\"displacy-word\" fill=\"currentColor\" x=\"23325\">a</tspan>\n",
              "    <tspan class=\"displacy-tag\" dy=\"2em\" fill=\"currentColor\" x=\"23325\">DET</tspan>\n",
              "</text>\n",
              "\n",
              "<text class=\"displacy-token\" fill=\"currentColor\" text-anchor=\"middle\" y=\"1272.0\">\n",
              "    <tspan class=\"displacy-word\" fill=\"currentColor\" x=\"23500\">home.</tspan>\n",
              "    <tspan class=\"displacy-tag\" dy=\"2em\" fill=\"currentColor\" x=\"23500\">NOUN</tspan>\n",
              "</text>\n",
              "\n",
              "<text class=\"displacy-token\" fill=\"currentColor\" text-anchor=\"middle\" y=\"1272.0\">\n",
              "    <tspan class=\"displacy-word\" fill=\"currentColor\" x=\"23675\">Strong</tspan>\n",
              "    <tspan class=\"displacy-tag\" dy=\"2em\" fill=\"currentColor\" x=\"23675\">ADJ</tspan>\n",
              "</text>\n",
              "\n",
              "<text class=\"displacy-token\" fill=\"currentColor\" text-anchor=\"middle\" y=\"1272.0\">\n",
              "    <tspan class=\"displacy-word\" fill=\"currentColor\" x=\"23850\">hard-</tspan>\n",
              "    <tspan class=\"displacy-tag\" dy=\"2em\" fill=\"currentColor\" x=\"23850\">ADV</tspan>\n",
              "</text>\n",
              "\n",
              "<text class=\"displacy-token\" fill=\"currentColor\" text-anchor=\"middle\" y=\"1272.0\">\n",
              "    <tspan class=\"displacy-word\" fill=\"currentColor\" x=\"24025\">featured</tspan>\n",
              "    <tspan class=\"displacy-tag\" dy=\"2em\" fill=\"currentColor\" x=\"24025\">VERB</tspan>\n",
              "</text>\n",
              "\n",
              "<text class=\"displacy-token\" fill=\"currentColor\" text-anchor=\"middle\" y=\"1272.0\">\n",
              "    <tspan class=\"displacy-word\" fill=\"currentColor\" x=\"24200\">sons,</tspan>\n",
              "    <tspan class=\"displacy-tag\" dy=\"2em\" fill=\"currentColor\" x=\"24200\">NOUN</tspan>\n",
              "</text>\n",
              "\n",
              "<text class=\"displacy-token\" fill=\"currentColor\" text-anchor=\"middle\" y=\"1272.0\">\n",
              "    <tspan class=\"displacy-word\" fill=\"currentColor\" x=\"24375\">and</tspan>\n",
              "    <tspan class=\"displacy-tag\" dy=\"2em\" fill=\"currentColor\" x=\"24375\">CCONJ</tspan>\n",
              "</text>\n",
              "\n",
              "<text class=\"displacy-token\" fill=\"currentColor\" text-anchor=\"middle\" y=\"1272.0\">\n",
              "    <tspan class=\"displacy-word\" fill=\"currentColor\" x=\"24550\">fair</tspan>\n",
              "    <tspan class=\"displacy-tag\" dy=\"2em\" fill=\"currentColor\" x=\"24550\">ADJ</tspan>\n",
              "</text>\n",
              "\n",
              "<text class=\"displacy-token\" fill=\"currentColor\" text-anchor=\"middle\" y=\"1272.0\">\n",
              "    <tspan class=\"displacy-word\" fill=\"currentColor\" x=\"24725\">rosy-</tspan>\n",
              "    <tspan class=\"displacy-tag\" dy=\"2em\" fill=\"currentColor\" x=\"24725\">ADJ</tspan>\n",
              "</text>\n",
              "\n",
              "<text class=\"displacy-token\" fill=\"currentColor\" text-anchor=\"middle\" y=\"1272.0\">\n",
              "    <tspan class=\"displacy-word\" fill=\"currentColor\" x=\"24900\">cheeked</tspan>\n",
              "    <tspan class=\"displacy-tag\" dy=\"2em\" fill=\"currentColor\" x=\"24900\">ADJ</tspan>\n",
              "</text>\n",
              "\n",
              "<text class=\"displacy-token\" fill=\"currentColor\" text-anchor=\"middle\" y=\"1272.0\">\n",
              "    <tspan class=\"displacy-word\" fill=\"currentColor\" x=\"25075\">daughters</tspan>\n",
              "    <tspan class=\"displacy-tag\" dy=\"2em\" fill=\"currentColor\" x=\"25075\">NOUN</tspan>\n",
              "</text>\n",
              "\n",
              "<text class=\"displacy-token\" fill=\"currentColor\" text-anchor=\"middle\" y=\"1272.0\">\n",
              "    <tspan class=\"displacy-word\" fill=\"currentColor\" x=\"25250\">made</tspan>\n",
              "    <tspan class=\"displacy-tag\" dy=\"2em\" fill=\"currentColor\" x=\"25250\">VERB</tspan>\n",
              "</text>\n",
              "\n",
              "<text class=\"displacy-token\" fill=\"currentColor\" text-anchor=\"middle\" y=\"1272.0\">\n",
              "    <tspan class=\"displacy-word\" fill=\"currentColor\" x=\"25425\">glad</tspan>\n",
              "    <tspan class=\"displacy-tag\" dy=\"2em\" fill=\"currentColor\" x=\"25425\">ADJ</tspan>\n",
              "</text>\n",
              "\n",
              "<text class=\"displacy-token\" fill=\"currentColor\" text-anchor=\"middle\" y=\"1272.0\">\n",
              "    <tspan class=\"displacy-word\" fill=\"currentColor\" x=\"25600\">the</tspan>\n",
              "    <tspan class=\"displacy-tag\" dy=\"2em\" fill=\"currentColor\" x=\"25600\">DET</tspan>\n",
              "</text>\n",
              "\n",
              "<text class=\"displacy-token\" fill=\"currentColor\" text-anchor=\"middle\" y=\"1272.0\">\n",
              "    <tspan class=\"displacy-word\" fill=\"currentColor\" x=\"25775\">rude</tspan>\n",
              "    <tspan class=\"displacy-tag\" dy=\"2em\" fill=\"currentColor\" x=\"25775\">ADJ</tspan>\n",
              "</text>\n",
              "\n",
              "<text class=\"displacy-token\" fill=\"currentColor\" text-anchor=\"middle\" y=\"1272.0\">\n",
              "    <tspan class=\"displacy-word\" fill=\"currentColor\" x=\"25950\">cabins</tspan>\n",
              "    <tspan class=\"displacy-tag\" dy=\"2em\" fill=\"currentColor\" x=\"25950\">NOUN</tspan>\n",
              "</text>\n",
              "\n",
              "<text class=\"displacy-token\" fill=\"currentColor\" text-anchor=\"middle\" y=\"1272.0\">\n",
              "    <tspan class=\"displacy-word\" fill=\"currentColor\" x=\"26125\">that</tspan>\n",
              "    <tspan class=\"displacy-tag\" dy=\"2em\" fill=\"currentColor\" x=\"26125\">DET</tspan>\n",
              "</text>\n",
              "\n",
              "<text class=\"displacy-token\" fill=\"currentColor\" text-anchor=\"middle\" y=\"1272.0\">\n",
              "    <tspan class=\"displacy-word\" fill=\"currentColor\" x=\"26300\">were</tspan>\n",
              "    <tspan class=\"displacy-tag\" dy=\"2em\" fill=\"currentColor\" x=\"26300\">AUX</tspan>\n",
              "</text>\n",
              "\n",
              "<text class=\"displacy-token\" fill=\"currentColor\" text-anchor=\"middle\" y=\"1272.0\">\n",
              "    <tspan class=\"displacy-word\" fill=\"currentColor\" x=\"26475\">soon</tspan>\n",
              "    <tspan class=\"displacy-tag\" dy=\"2em\" fill=\"currentColor\" x=\"26475\">ADV</tspan>\n",
              "</text>\n",
              "\n",
              "<text class=\"displacy-token\" fill=\"currentColor\" text-anchor=\"middle\" y=\"1272.0\">\n",
              "    <tspan class=\"displacy-word\" fill=\"currentColor\" x=\"26650\">scattered</tspan>\n",
              "    <tspan class=\"displacy-tag\" dy=\"2em\" fill=\"currentColor\" x=\"26650\">VERB</tspan>\n",
              "</text>\n",
              "\n",
              "<text class=\"displacy-token\" fill=\"currentColor\" text-anchor=\"middle\" y=\"1272.0\">\n",
              "    <tspan class=\"displacy-word\" fill=\"currentColor\" x=\"26825\">along</tspan>\n",
              "    <tspan class=\"displacy-tag\" dy=\"2em\" fill=\"currentColor\" x=\"26825\">ADP</tspan>\n",
              "</text>\n",
              "\n",
              "<text class=\"displacy-token\" fill=\"currentColor\" text-anchor=\"middle\" y=\"1272.0\">\n",
              "    <tspan class=\"displacy-word\" fill=\"currentColor\" x=\"27000\">the</tspan>\n",
              "    <tspan class=\"displacy-tag\" dy=\"2em\" fill=\"currentColor\" x=\"27000\">DET</tspan>\n",
              "</text>\n",
              "\n",
              "<text class=\"displacy-token\" fill=\"currentColor\" text-anchor=\"middle\" y=\"1272.0\">\n",
              "    <tspan class=\"displacy-word\" fill=\"currentColor\" x=\"27175\">shore.</tspan>\n",
              "    <tspan class=\"displacy-tag\" dy=\"2em\" fill=\"currentColor\" x=\"27175\">NOUN</tspan>\n",
              "</text>\n",
              "\n",
              "<text class=\"displacy-token\" fill=\"currentColor\" text-anchor=\"middle\" y=\"1272.0\">\n",
              "    <tspan class=\"displacy-word\" fill=\"currentColor\" x=\"27350\">The</tspan>\n",
              "    <tspan class=\"displacy-tag\" dy=\"2em\" fill=\"currentColor\" x=\"27350\">DET</tspan>\n",
              "</text>\n",
              "\n",
              "<text class=\"displacy-token\" fill=\"currentColor\" text-anchor=\"middle\" y=\"1272.0\">\n",
              "    <tspan class=\"displacy-word\" fill=\"currentColor\" x=\"27525\">axe</tspan>\n",
              "    <tspan class=\"displacy-tag\" dy=\"2em\" fill=\"currentColor\" x=\"27525\">NOUN</tspan>\n",
              "</text>\n",
              "\n",
              "<text class=\"displacy-token\" fill=\"currentColor\" text-anchor=\"middle\" y=\"1272.0\">\n",
              "    <tspan class=\"displacy-word\" fill=\"currentColor\" x=\"27700\">was</tspan>\n",
              "    <tspan class=\"displacy-tag\" dy=\"2em\" fill=\"currentColor\" x=\"27700\">AUX</tspan>\n",
              "</text>\n",
              "\n",
              "<text class=\"displacy-token\" fill=\"currentColor\" text-anchor=\"middle\" y=\"1272.0\">\n",
              "    <tspan class=\"displacy-word\" fill=\"currentColor\" x=\"27875\">plied</tspan>\n",
              "    <tspan class=\"displacy-tag\" dy=\"2em\" fill=\"currentColor\" x=\"27875\">VERB</tspan>\n",
              "</text>\n",
              "\n",
              "<text class=\"displacy-token\" fill=\"currentColor\" text-anchor=\"middle\" y=\"1272.0\">\n",
              "    <tspan class=\"displacy-word\" fill=\"currentColor\" x=\"28050\">in</tspan>\n",
              "    <tspan class=\"displacy-tag\" dy=\"2em\" fill=\"currentColor\" x=\"28050\">ADP</tspan>\n",
              "</text>\n",
              "\n",
              "<text class=\"displacy-token\" fill=\"currentColor\" text-anchor=\"middle\" y=\"1272.0\">\n",
              "    <tspan class=\"displacy-word\" fill=\"currentColor\" x=\"28225\">the</tspan>\n",
              "    <tspan class=\"displacy-tag\" dy=\"2em\" fill=\"currentColor\" x=\"28225\">DET</tspan>\n",
              "</text>\n",
              "\n",
              "<text class=\"displacy-token\" fill=\"currentColor\" text-anchor=\"middle\" y=\"1272.0\">\n",
              "    <tspan class=\"displacy-word\" fill=\"currentColor\" x=\"28400\">woods,</tspan>\n",
              "    <tspan class=\"displacy-tag\" dy=\"2em\" fill=\"currentColor\" x=\"28400\">NOUN</tspan>\n",
              "</text>\n",
              "\n",
              "<text class=\"displacy-token\" fill=\"currentColor\" text-anchor=\"middle\" y=\"1272.0\">\n",
              "    <tspan class=\"displacy-word\" fill=\"currentColor\" x=\"28575\">and</tspan>\n",
              "    <tspan class=\"displacy-tag\" dy=\"2em\" fill=\"currentColor\" x=\"28575\">CCONJ</tspan>\n",
              "</text>\n",
              "\n",
              "<text class=\"displacy-token\" fill=\"currentColor\" text-anchor=\"middle\" y=\"1272.0\">\n",
              "    <tspan class=\"displacy-word\" fill=\"currentColor\" x=\"28750\">the</tspan>\n",
              "    <tspan class=\"displacy-tag\" dy=\"2em\" fill=\"currentColor\" x=\"28750\">DET</tspan>\n",
              "</text>\n",
              "\n",
              "<text class=\"displacy-token\" fill=\"currentColor\" text-anchor=\"middle\" y=\"1272.0\">\n",
              "    <tspan class=\"displacy-word\" fill=\"currentColor\" x=\"28925\">needle</tspan>\n",
              "    <tspan class=\"displacy-tag\" dy=\"2em\" fill=\"currentColor\" x=\"28925\">NOUN</tspan>\n",
              "</text>\n",
              "\n",
              "<text class=\"displacy-token\" fill=\"currentColor\" text-anchor=\"middle\" y=\"1272.0\">\n",
              "    <tspan class=\"displacy-word\" fill=\"currentColor\" x=\"29100\">by</tspan>\n",
              "    <tspan class=\"displacy-tag\" dy=\"2em\" fill=\"currentColor\" x=\"29100\">ADP</tspan>\n",
              "</text>\n",
              "\n",
              "<text class=\"displacy-token\" fill=\"currentColor\" text-anchor=\"middle\" y=\"1272.0\">\n",
              "    <tspan class=\"displacy-word\" fill=\"currentColor\" x=\"29275\">the</tspan>\n",
              "    <tspan class=\"displacy-tag\" dy=\"2em\" fill=\"currentColor\" x=\"29275\">DET</tspan>\n",
              "</text>\n",
              "\n",
              "<text class=\"displacy-token\" fill=\"currentColor\" text-anchor=\"middle\" y=\"1272.0\">\n",
              "    <tspan class=\"displacy-word\" fill=\"currentColor\" x=\"29450\">fireside,</tspan>\n",
              "    <tspan class=\"displacy-tag\" dy=\"2em\" fill=\"currentColor\" x=\"29450\">NOUN</tspan>\n",
              "</text>\n",
              "\n",
              "<text class=\"displacy-token\" fill=\"currentColor\" text-anchor=\"middle\" y=\"1272.0\">\n",
              "    <tspan class=\"displacy-word\" fill=\"currentColor\" x=\"29625\">and</tspan>\n",
              "    <tspan class=\"displacy-tag\" dy=\"2em\" fill=\"currentColor\" x=\"29625\">CCONJ</tspan>\n",
              "</text>\n",
              "\n",
              "<text class=\"displacy-token\" fill=\"currentColor\" text-anchor=\"middle\" y=\"1272.0\">\n",
              "    <tspan class=\"displacy-word\" fill=\"currentColor\" x=\"29800\">yet</tspan>\n",
              "    <tspan class=\"displacy-tag\" dy=\"2em\" fill=\"currentColor\" x=\"29800\">ADV</tspan>\n",
              "</text>\n",
              "\n",
              "<text class=\"displacy-token\" fill=\"currentColor\" text-anchor=\"middle\" y=\"1272.0\">\n",
              "    <tspan class=\"displacy-word\" fill=\"currentColor\" x=\"29975\">grim</tspan>\n",
              "    <tspan class=\"displacy-tag\" dy=\"2em\" fill=\"currentColor\" x=\"29975\">ADJ</tspan>\n",
              "</text>\n",
              "\n",
              "<text class=\"displacy-token\" fill=\"currentColor\" text-anchor=\"middle\" y=\"1272.0\">\n",
              "    <tspan class=\"displacy-word\" fill=\"currentColor\" x=\"30150\">Poverty</tspan>\n",
              "    <tspan class=\"displacy-tag\" dy=\"2em\" fill=\"currentColor\" x=\"30150\">NOUN</tspan>\n",
              "</text>\n",
              "\n",
              "<text class=\"displacy-token\" fill=\"currentColor\" text-anchor=\"middle\" y=\"1272.0\">\n",
              "    <tspan class=\"displacy-word\" fill=\"currentColor\" x=\"30325\">was</tspan>\n",
              "    <tspan class=\"displacy-tag\" dy=\"2em\" fill=\"currentColor\" x=\"30325\">AUX</tspan>\n",
              "</text>\n",
              "\n",
              "<text class=\"displacy-token\" fill=\"currentColor\" text-anchor=\"middle\" y=\"1272.0\">\n",
              "    <tspan class=\"displacy-word\" fill=\"currentColor\" x=\"30500\">ever</tspan>\n",
              "    <tspan class=\"displacy-tag\" dy=\"2em\" fill=\"currentColor\" x=\"30500\">ADV</tspan>\n",
              "</text>\n",
              "\n",
              "<text class=\"displacy-token\" fill=\"currentColor\" text-anchor=\"middle\" y=\"1272.0\">\n",
              "    <tspan class=\"displacy-word\" fill=\"currentColor\" x=\"30675\">shaking</tspan>\n",
              "    <tspan class=\"displacy-tag\" dy=\"2em\" fill=\"currentColor\" x=\"30675\">VERB</tspan>\n",
              "</text>\n",
              "\n",
              "<text class=\"displacy-token\" fill=\"currentColor\" text-anchor=\"middle\" y=\"1272.0\">\n",
              "    <tspan class=\"displacy-word\" fill=\"currentColor\" x=\"30850\">her</tspan>\n",
              "    <tspan class=\"displacy-tag\" dy=\"2em\" fill=\"currentColor\" x=\"30850\">DET</tspan>\n",
              "</text>\n",
              "\n",
              "<text class=\"displacy-token\" fill=\"currentColor\" text-anchor=\"middle\" y=\"1272.0\">\n",
              "    <tspan class=\"displacy-word\" fill=\"currentColor\" x=\"31025\">fist</tspan>\n",
              "    <tspan class=\"displacy-tag\" dy=\"2em\" fill=\"currentColor\" x=\"31025\">NOUN</tspan>\n",
              "</text>\n",
              "\n",
              "<text class=\"displacy-token\" fill=\"currentColor\" text-anchor=\"middle\" y=\"1272.0\">\n",
              "    <tspan class=\"displacy-word\" fill=\"currentColor\" x=\"31200\">in</tspan>\n",
              "    <tspan class=\"displacy-tag\" dy=\"2em\" fill=\"currentColor\" x=\"31200\">ADP</tspan>\n",
              "</text>\n",
              "\n",
              "<text class=\"displacy-token\" fill=\"currentColor\" text-anchor=\"middle\" y=\"1272.0\">\n",
              "    <tspan class=\"displacy-word\" fill=\"currentColor\" x=\"31375\">the</tspan>\n",
              "    <tspan class=\"displacy-tag\" dy=\"2em\" fill=\"currentColor\" x=\"31375\">DET</tspan>\n",
              "</text>\n",
              "\n",
              "<text class=\"displacy-token\" fill=\"currentColor\" text-anchor=\"middle\" y=\"1272.0\">\n",
              "    <tspan class=\"displacy-word\" fill=\"currentColor\" x=\"31550\">very</tspan>\n",
              "    <tspan class=\"displacy-tag\" dy=\"2em\" fill=\"currentColor\" x=\"31550\">ADJ</tspan>\n",
              "</text>\n",
              "\n",
              "<text class=\"displacy-token\" fill=\"currentColor\" text-anchor=\"middle\" y=\"1272.0\">\n",
              "    <tspan class=\"displacy-word\" fill=\"currentColor\" x=\"31725\">faces</tspan>\n",
              "    <tspan class=\"displacy-tag\" dy=\"2em\" fill=\"currentColor\" x=\"31725\">NOUN</tspan>\n",
              "</text>\n",
              "\n",
              "<text class=\"displacy-token\" fill=\"currentColor\" text-anchor=\"middle\" y=\"1272.0\">\n",
              "    <tspan class=\"displacy-word\" fill=\"currentColor\" x=\"31900\">of</tspan>\n",
              "    <tspan class=\"displacy-tag\" dy=\"2em\" fill=\"currentColor\" x=\"31900\">ADP</tspan>\n",
              "</text>\n",
              "\n",
              "<text class=\"displacy-token\" fill=\"currentColor\" text-anchor=\"middle\" y=\"1272.0\">\n",
              "    <tspan class=\"displacy-word\" fill=\"currentColor\" x=\"32075\">the</tspan>\n",
              "    <tspan class=\"displacy-tag\" dy=\"2em\" fill=\"currentColor\" x=\"32075\">DET</tspan>\n",
              "</text>\n",
              "\n",
              "<text class=\"displacy-token\" fill=\"currentColor\" text-anchor=\"middle\" y=\"1272.0\">\n",
              "    <tspan class=\"displacy-word\" fill=\"currentColor\" x=\"32250\">settlers,</tspan>\n",
              "    <tspan class=\"displacy-tag\" dy=\"2em\" fill=\"currentColor\" x=\"32250\">NOUN</tspan>\n",
              "</text>\n",
              "\n",
              "<text class=\"displacy-token\" fill=\"currentColor\" text-anchor=\"middle\" y=\"1272.0\">\n",
              "    <tspan class=\"displacy-word\" fill=\"currentColor\" x=\"32425\">and</tspan>\n",
              "    <tspan class=\"displacy-tag\" dy=\"2em\" fill=\"currentColor\" x=\"32425\">CCONJ</tspan>\n",
              "</text>\n",
              "\n",
              "<text class=\"displacy-token\" fill=\"currentColor\" text-anchor=\"middle\" y=\"1272.0\">\n",
              "    <tspan class=\"displacy-word\" fill=\"currentColor\" x=\"32600\">whispering</tspan>\n",
              "    <tspan class=\"displacy-tag\" dy=\"2em\" fill=\"currentColor\" x=\"32600\">VERB</tspan>\n",
              "</text>\n",
              "\n",
              "<text class=\"displacy-token\" fill=\"currentColor\" text-anchor=\"middle\" y=\"1272.0\">\n",
              "    <tspan class=\"displacy-word\" fill=\"currentColor\" x=\"32775\">sad</tspan>\n",
              "    <tspan class=\"displacy-tag\" dy=\"2em\" fill=\"currentColor\" x=\"32775\">ADJ</tspan>\n",
              "</text>\n",
              "\n",
              "<text class=\"displacy-token\" fill=\"currentColor\" text-anchor=\"middle\" y=\"1272.0\">\n",
              "    <tspan class=\"displacy-word\" fill=\"currentColor\" x=\"32950\">things</tspan>\n",
              "    <tspan class=\"displacy-tag\" dy=\"2em\" fill=\"currentColor\" x=\"32950\">NOUN</tspan>\n",
              "</text>\n",
              "\n",
              "<text class=\"displacy-token\" fill=\"currentColor\" text-anchor=\"middle\" y=\"1272.0\">\n",
              "    <tspan class=\"displacy-word\" fill=\"currentColor\" x=\"33125\">of</tspan>\n",
              "    <tspan class=\"displacy-tag\" dy=\"2em\" fill=\"currentColor\" x=\"33125\">ADP</tspan>\n",
              "</text>\n",
              "\n",
              "<text class=\"displacy-token\" fill=\"currentColor\" text-anchor=\"middle\" y=\"1272.0\">\n",
              "    <tspan class=\"displacy-word\" fill=\"currentColor\" x=\"33300\">what</tspan>\n",
              "    <tspan class=\"displacy-tag\" dy=\"2em\" fill=\"currentColor\" x=\"33300\">PRON</tspan>\n",
              "</text>\n",
              "\n",
              "<text class=\"displacy-token\" fill=\"currentColor\" text-anchor=\"middle\" y=\"1272.0\">\n",
              "    <tspan class=\"displacy-word\" fill=\"currentColor\" x=\"33475\">the</tspan>\n",
              "    <tspan class=\"displacy-tag\" dy=\"2em\" fill=\"currentColor\" x=\"33475\">DET</tspan>\n",
              "</text>\n",
              "\n",
              "<text class=\"displacy-token\" fill=\"currentColor\" text-anchor=\"middle\" y=\"1272.0\">\n",
              "    <tspan class=\"displacy-word\" fill=\"currentColor\" x=\"33650\">uncertain</tspan>\n",
              "    <tspan class=\"displacy-tag\" dy=\"2em\" fill=\"currentColor\" x=\"33650\">ADJ</tspan>\n",
              "</text>\n",
              "\n",
              "<text class=\"displacy-token\" fill=\"currentColor\" text-anchor=\"middle\" y=\"1272.0\">\n",
              "    <tspan class=\"displacy-word\" fill=\"currentColor\" x=\"33825\">future</tspan>\n",
              "    <tspan class=\"displacy-tag\" dy=\"2em\" fill=\"currentColor\" x=\"33825\">NOUN</tspan>\n",
              "</text>\n",
              "\n",
              "<text class=\"displacy-token\" fill=\"currentColor\" text-anchor=\"middle\" y=\"1272.0\">\n",
              "    <tspan class=\"displacy-word\" fill=\"currentColor\" x=\"34000\">might</tspan>\n",
              "    <tspan class=\"displacy-tag\" dy=\"2em\" fill=\"currentColor\" x=\"34000\">VERB</tspan>\n",
              "</text>\n",
              "\n",
              "<text class=\"displacy-token\" fill=\"currentColor\" text-anchor=\"middle\" y=\"1272.0\">\n",
              "    <tspan class=\"displacy-word\" fill=\"currentColor\" x=\"34175\">have</tspan>\n",
              "    <tspan class=\"displacy-tag\" dy=\"2em\" fill=\"currentColor\" x=\"34175\">AUX</tspan>\n",
              "</text>\n",
              "\n",
              "<text class=\"displacy-token\" fill=\"currentColor\" text-anchor=\"middle\" y=\"1272.0\">\n",
              "    <tspan class=\"displacy-word\" fill=\"currentColor\" x=\"34350\">in</tspan>\n",
              "    <tspan class=\"displacy-tag\" dy=\"2em\" fill=\"currentColor\" x=\"34350\">ADP</tspan>\n",
              "</text>\n",
              "\n",
              "<text class=\"displacy-token\" fill=\"currentColor\" text-anchor=\"middle\" y=\"1272.0\">\n",
              "    <tspan class=\"displacy-word\" fill=\"currentColor\" x=\"34525\">store</tspan>\n",
              "    <tspan class=\"displacy-tag\" dy=\"2em\" fill=\"currentColor\" x=\"34525\">NOUN</tspan>\n",
              "</text>\n",
              "\n",
              "<text class=\"displacy-token\" fill=\"currentColor\" text-anchor=\"middle\" y=\"1272.0\">\n",
              "    <tspan class=\"displacy-word\" fill=\"currentColor\" x=\"34700\">for</tspan>\n",
              "    <tspan class=\"displacy-tag\" dy=\"2em\" fill=\"currentColor\" x=\"34700\">ADP</tspan>\n",
              "</text>\n",
              "\n",
              "<text class=\"displacy-token\" fill=\"currentColor\" text-anchor=\"middle\" y=\"1272.0\">\n",
              "    <tspan class=\"displacy-word\" fill=\"currentColor\" x=\"34875\">them.</tspan>\n",
              "    <tspan class=\"displacy-tag\" dy=\"2em\" fill=\"currentColor\" x=\"34875\">PRON</tspan>\n",
              "</text>\n",
              "\n",
              "<g class=\"displacy-arrow\">\n",
              "    <path class=\"displacy-arc\" id=\"arrow-462b7d6f9ce44bfa8745565c0a8301ea-0-0\" stroke-width=\"2px\" d=\"M70,1227.0 C70,1139.5 160.0,1139.5 160.0,1227.0\" fill=\"none\" stroke=\"currentColor\"/>\n",
              "    <text dy=\"1.25em\" style=\"font-size: 0.8em; letter-spacing: 1px\">\n",
              "        <textPath xlink:href=\"#arrow-462b7d6f9ce44bfa8745565c0a8301ea-0-0\" class=\"displacy-label\" startOffset=\"50%\" side=\"left\" fill=\"currentColor\" text-anchor=\"middle\">nsubj</textPath>\n",
              "    </text>\n",
              "    <path class=\"displacy-arrowhead\" d=\"M160.0,1229.0 L168.0,1217.0 152.0,1217.0\" fill=\"currentColor\"/>\n",
              "</g>\n",
              "\n",
              "<g class=\"displacy-arrow\">\n",
              "    <path class=\"displacy-arc\" id=\"arrow-462b7d6f9ce44bfa8745565c0a8301ea-0-1\" stroke-width=\"2px\" d=\"M70,1227.0 C70,1052.0 340.0,1052.0 340.0,1227.0\" fill=\"none\" stroke=\"currentColor\"/>\n",
              "    <text dy=\"1.25em\" style=\"font-size: 0.8em; letter-spacing: 1px\">\n",
              "        <textPath xlink:href=\"#arrow-462b7d6f9ce44bfa8745565c0a8301ea-0-1\" class=\"displacy-label\" startOffset=\"50%\" side=\"left\" fill=\"currentColor\" text-anchor=\"middle\">advmod</textPath>\n",
              "    </text>\n",
              "    <path class=\"displacy-arrowhead\" d=\"M340.0,1229.0 L348.0,1217.0 332.0,1217.0\" fill=\"currentColor\"/>\n",
              "</g>\n",
              "\n",
              "<g class=\"displacy-arrow\">\n",
              "    <path class=\"displacy-arc\" id=\"arrow-462b7d6f9ce44bfa8745565c0a8301ea-0-2\" stroke-width=\"2px\" d=\"M70,1227.0 C70,964.5 520.0,964.5 520.0,1227.0\" fill=\"none\" stroke=\"currentColor\"/>\n",
              "    <text dy=\"1.25em\" style=\"font-size: 0.8em; letter-spacing: 1px\">\n",
              "        <textPath xlink:href=\"#arrow-462b7d6f9ce44bfa8745565c0a8301ea-0-2\" class=\"displacy-label\" startOffset=\"50%\" side=\"left\" fill=\"currentColor\" text-anchor=\"middle\">prep</textPath>\n",
              "    </text>\n",
              "    <path class=\"displacy-arrowhead\" d=\"M520.0,1229.0 L528.0,1217.0 512.0,1217.0\" fill=\"currentColor\"/>\n",
              "</g>\n",
              "\n",
              "<g class=\"displacy-arrow\">\n",
              "    <path class=\"displacy-arc\" id=\"arrow-462b7d6f9ce44bfa8745565c0a8301ea-0-3\" stroke-width=\"2px\" d=\"M770,1227.0 C770,1139.5 860.0,1139.5 860.0,1227.0\" fill=\"none\" stroke=\"currentColor\"/>\n",
              "    <text dy=\"1.25em\" style=\"font-size: 0.8em; letter-spacing: 1px\">\n",
              "        <textPath xlink:href=\"#arrow-462b7d6f9ce44bfa8745565c0a8301ea-0-3\" class=\"displacy-label\" startOffset=\"50%\" side=\"left\" fill=\"currentColor\" text-anchor=\"middle\">det</textPath>\n",
              "    </text>\n",
              "    <path class=\"displacy-arrowhead\" d=\"M770,1229.0 L762,1217.0 778,1217.0\" fill=\"currentColor\"/>\n",
              "</g>\n",
              "\n",
              "<g class=\"displacy-arrow\">\n",
              "    <path class=\"displacy-arc\" id=\"arrow-462b7d6f9ce44bfa8745565c0a8301ea-0-4\" stroke-width=\"2px\" d=\"M595,1227.0 C595,1052.0 865.0,1052.0 865.0,1227.0\" fill=\"none\" stroke=\"currentColor\"/>\n",
              "    <text dy=\"1.25em\" style=\"font-size: 0.8em; letter-spacing: 1px\">\n",
              "        <textPath xlink:href=\"#arrow-462b7d6f9ce44bfa8745565c0a8301ea-0-4\" class=\"displacy-label\" startOffset=\"50%\" side=\"left\" fill=\"currentColor\" text-anchor=\"middle\">pobj</textPath>\n",
              "    </text>\n",
              "    <path class=\"displacy-arrowhead\" d=\"M865.0,1229.0 L873.0,1217.0 857.0,1217.0\" fill=\"currentColor\"/>\n",
              "</g>\n",
              "\n",
              "<g class=\"displacy-arrow\">\n",
              "    <path class=\"displacy-arc\" id=\"arrow-462b7d6f9ce44bfa8745565c0a8301ea-0-5\" stroke-width=\"2px\" d=\"M945,1227.0 C945,1139.5 1035.0,1139.5 1035.0,1227.0\" fill=\"none\" stroke=\"currentColor\"/>\n",
              "    <text dy=\"1.25em\" style=\"font-size: 0.8em; letter-spacing: 1px\">\n",
              "        <textPath xlink:href=\"#arrow-462b7d6f9ce44bfa8745565c0a8301ea-0-5\" class=\"displacy-label\" startOffset=\"50%\" side=\"left\" fill=\"currentColor\" text-anchor=\"middle\">prep</textPath>\n",
              "    </text>\n",
              "    <path class=\"displacy-arrowhead\" d=\"M1035.0,1229.0 L1043.0,1217.0 1027.0,1217.0\" fill=\"currentColor\"/>\n",
              "</g>\n",
              "\n",
              "<g class=\"displacy-arrow\">\n",
              "    <path class=\"displacy-arc\" id=\"arrow-462b7d6f9ce44bfa8745565c0a8301ea-0-6\" stroke-width=\"2px\" d=\"M1120,1227.0 C1120,1139.5 1210.0,1139.5 1210.0,1227.0\" fill=\"none\" stroke=\"currentColor\"/>\n",
              "    <text dy=\"1.25em\" style=\"font-size: 0.8em; letter-spacing: 1px\">\n",
              "        <textPath xlink:href=\"#arrow-462b7d6f9ce44bfa8745565c0a8301ea-0-6\" class=\"displacy-label\" startOffset=\"50%\" side=\"left\" fill=\"currentColor\" text-anchor=\"middle\">pobj</textPath>\n",
              "    </text>\n",
              "    <path class=\"displacy-arrowhead\" d=\"M1210.0,1229.0 L1218.0,1217.0 1202.0,1217.0\" fill=\"currentColor\"/>\n",
              "</g>\n",
              "\n",
              "<g class=\"displacy-arrow\">\n",
              "    <path class=\"displacy-arc\" id=\"arrow-462b7d6f9ce44bfa8745565c0a8301ea-0-7\" stroke-width=\"2px\" d=\"M1470,1227.0 C1470,1139.5 1560.0,1139.5 1560.0,1227.0\" fill=\"none\" stroke=\"currentColor\"/>\n",
              "    <text dy=\"1.25em\" style=\"font-size: 0.8em; letter-spacing: 1px\">\n",
              "        <textPath xlink:href=\"#arrow-462b7d6f9ce44bfa8745565c0a8301ea-0-7\" class=\"displacy-label\" startOffset=\"50%\" side=\"left\" fill=\"currentColor\" text-anchor=\"middle\">mark</textPath>\n",
              "    </text>\n",
              "    <path class=\"displacy-arrowhead\" d=\"M1470,1229.0 L1462,1217.0 1478,1217.0\" fill=\"currentColor\"/>\n",
              "</g>\n",
              "\n",
              "<g class=\"displacy-arrow\">\n",
              "    <path class=\"displacy-arc\" id=\"arrow-462b7d6f9ce44bfa8745565c0a8301ea-0-8\" stroke-width=\"2px\" d=\"M1645,1227.0 C1645,1052.0 1915.0,1052.0 1915.0,1227.0\" fill=\"none\" stroke=\"currentColor\"/>\n",
              "    <text dy=\"1.25em\" style=\"font-size: 0.8em; letter-spacing: 1px\">\n",
              "        <textPath xlink:href=\"#arrow-462b7d6f9ce44bfa8745565c0a8301ea-0-8\" class=\"displacy-label\" startOffset=\"50%\" side=\"left\" fill=\"currentColor\" text-anchor=\"middle\">advcl</textPath>\n",
              "    </text>\n",
              "    <path class=\"displacy-arrowhead\" d=\"M1645,1229.0 L1637,1217.0 1653,1217.0\" fill=\"currentColor\"/>\n",
              "</g>\n",
              "\n",
              "<g class=\"displacy-arrow\">\n",
              "    <path class=\"displacy-arc\" id=\"arrow-462b7d6f9ce44bfa8745565c0a8301ea-0-9\" stroke-width=\"2px\" d=\"M1820,1227.0 C1820,1139.5 1910.0,1139.5 1910.0,1227.0\" fill=\"none\" stroke=\"currentColor\"/>\n",
              "    <text dy=\"1.25em\" style=\"font-size: 0.8em; letter-spacing: 1px\">\n",
              "        <textPath xlink:href=\"#arrow-462b7d6f9ce44bfa8745565c0a8301ea-0-9\" class=\"displacy-label\" startOffset=\"50%\" side=\"left\" fill=\"currentColor\" text-anchor=\"middle\">nsubj</textPath>\n",
              "    </text>\n",
              "    <path class=\"displacy-arrowhead\" d=\"M1820,1229.0 L1812,1217.0 1828,1217.0\" fill=\"currentColor\"/>\n",
              "</g>\n",
              "\n",
              "<g class=\"displacy-arrow\">\n",
              "    <path class=\"displacy-arc\" id=\"arrow-462b7d6f9ce44bfa8745565c0a8301ea-0-10\" stroke-width=\"2px\" d=\"M2170,1227.0 C2170,877.0 2800.0,877.0 2800.0,1227.0\" fill=\"none\" stroke=\"currentColor\"/>\n",
              "    <text dy=\"1.25em\" style=\"font-size: 0.8em; letter-spacing: 1px\">\n",
              "        <textPath xlink:href=\"#arrow-462b7d6f9ce44bfa8745565c0a8301ea-0-10\" class=\"displacy-label\" startOffset=\"50%\" side=\"left\" fill=\"currentColor\" text-anchor=\"middle\">advmod</textPath>\n",
              "    </text>\n",
              "    <path class=\"displacy-arrowhead\" d=\"M2170,1229.0 L2162,1217.0 2178,1217.0\" fill=\"currentColor\"/>\n",
              "</g>\n",
              "\n",
              "<g class=\"displacy-arrow\">\n",
              "    <path class=\"displacy-arc\" id=\"arrow-462b7d6f9ce44bfa8745565c0a8301ea-0-11\" stroke-width=\"2px\" d=\"M2345,1227.0 C2345,1052.0 2615.0,1052.0 2615.0,1227.0\" fill=\"none\" stroke=\"currentColor\"/>\n",
              "    <text dy=\"1.25em\" style=\"font-size: 0.8em; letter-spacing: 1px\">\n",
              "        <textPath xlink:href=\"#arrow-462b7d6f9ce44bfa8745565c0a8301ea-0-11\" class=\"displacy-label\" startOffset=\"50%\" side=\"left\" fill=\"currentColor\" text-anchor=\"middle\">det</textPath>\n",
              "    </text>\n",
              "    <path class=\"displacy-arrowhead\" d=\"M2345,1229.0 L2337,1217.0 2353,1217.0\" fill=\"currentColor\"/>\n",
              "</g>\n",
              "\n",
              "<g class=\"displacy-arrow\">\n",
              "    <path class=\"displacy-arc\" id=\"arrow-462b7d6f9ce44bfa8745565c0a8301ea-0-12\" stroke-width=\"2px\" d=\"M2520,1227.0 C2520,1139.5 2610.0,1139.5 2610.0,1227.0\" fill=\"none\" stroke=\"currentColor\"/>\n",
              "    <text dy=\"1.25em\" style=\"font-size: 0.8em; letter-spacing: 1px\">\n",
              "        <textPath xlink:href=\"#arrow-462b7d6f9ce44bfa8745565c0a8301ea-0-12\" class=\"displacy-label\" startOffset=\"50%\" side=\"left\" fill=\"currentColor\" text-anchor=\"middle\">amod</textPath>\n",
              "    </text>\n",
              "    <path class=\"displacy-arrowhead\" d=\"M2520,1229.0 L2512,1217.0 2528,1217.0\" fill=\"currentColor\"/>\n",
              "</g>\n",
              "\n",
              "<g class=\"displacy-arrow\">\n",
              "    <path class=\"displacy-arc\" id=\"arrow-462b7d6f9ce44bfa8745565c0a8301ea-0-13\" stroke-width=\"2px\" d=\"M2695,1227.0 C2695,1139.5 2785.0,1139.5 2785.0,1227.0\" fill=\"none\" stroke=\"currentColor\"/>\n",
              "    <text dy=\"1.25em\" style=\"font-size: 0.8em; letter-spacing: 1px\">\n",
              "        <textPath xlink:href=\"#arrow-462b7d6f9ce44bfa8745565c0a8301ea-0-13\" class=\"displacy-label\" startOffset=\"50%\" side=\"left\" fill=\"currentColor\" text-anchor=\"middle\">nsubj</textPath>\n",
              "    </text>\n",
              "    <path class=\"displacy-arrowhead\" d=\"M2695,1229.0 L2687,1217.0 2703,1217.0\" fill=\"currentColor\"/>\n",
              "</g>\n",
              "\n",
              "<g class=\"displacy-arrow\">\n",
              "    <path class=\"displacy-arc\" id=\"arrow-462b7d6f9ce44bfa8745565c0a8301ea-0-14\" stroke-width=\"2px\" d=\"M1995,1227.0 C1995,789.5 2805.0,789.5 2805.0,1227.0\" fill=\"none\" stroke=\"currentColor\"/>\n",
              "    <text dy=\"1.25em\" style=\"font-size: 0.8em; letter-spacing: 1px\">\n",
              "        <textPath xlink:href=\"#arrow-462b7d6f9ce44bfa8745565c0a8301ea-0-14\" class=\"displacy-label\" startOffset=\"50%\" side=\"left\" fill=\"currentColor\" text-anchor=\"middle\">ccomp</textPath>\n",
              "    </text>\n",
              "    <path class=\"displacy-arrowhead\" d=\"M2805.0,1229.0 L2813.0,1217.0 2797.0,1217.0\" fill=\"currentColor\"/>\n",
              "</g>\n",
              "\n",
              "<g class=\"displacy-arrow\">\n",
              "    <path class=\"displacy-arc\" id=\"arrow-462b7d6f9ce44bfa8745565c0a8301ea-0-15\" stroke-width=\"2px\" d=\"M2870,1227.0 C2870,1139.5 2960.0,1139.5 2960.0,1227.0\" fill=\"none\" stroke=\"currentColor\"/>\n",
              "    <text dy=\"1.25em\" style=\"font-size: 0.8em; letter-spacing: 1px\">\n",
              "        <textPath xlink:href=\"#arrow-462b7d6f9ce44bfa8745565c0a8301ea-0-15\" class=\"displacy-label\" startOffset=\"50%\" side=\"left\" fill=\"currentColor\" text-anchor=\"middle\">prt</textPath>\n",
              "    </text>\n",
              "    <path class=\"displacy-arrowhead\" d=\"M2960.0,1229.0 L2968.0,1217.0 2952.0,1217.0\" fill=\"currentColor\"/>\n",
              "</g>\n",
              "\n",
              "<g class=\"displacy-arrow\">\n",
              "    <path class=\"displacy-arc\" id=\"arrow-462b7d6f9ce44bfa8745565c0a8301ea-0-16\" stroke-width=\"2px\" d=\"M2870,1227.0 C2870,1052.0 3140.0,1052.0 3140.0,1227.0\" fill=\"none\" stroke=\"currentColor\"/>\n",
              "    <text dy=\"1.25em\" style=\"font-size: 0.8em; letter-spacing: 1px\">\n",
              "        <textPath xlink:href=\"#arrow-462b7d6f9ce44bfa8745565c0a8301ea-0-16\" class=\"displacy-label\" startOffset=\"50%\" side=\"left\" fill=\"currentColor\" text-anchor=\"middle\">advmod</textPath>\n",
              "    </text>\n",
              "    <path class=\"displacy-arrowhead\" d=\"M3140.0,1229.0 L3148.0,1217.0 3132.0,1217.0\" fill=\"currentColor\"/>\n",
              "</g>\n",
              "\n",
              "<g class=\"displacy-arrow\">\n",
              "    <path class=\"displacy-arc\" id=\"arrow-462b7d6f9ce44bfa8745565c0a8301ea-0-17\" stroke-width=\"2px\" d=\"M2870,1227.0 C2870,964.5 3320.0,964.5 3320.0,1227.0\" fill=\"none\" stroke=\"currentColor\"/>\n",
              "    <text dy=\"1.25em\" style=\"font-size: 0.8em; letter-spacing: 1px\">\n",
              "        <textPath xlink:href=\"#arrow-462b7d6f9ce44bfa8745565c0a8301ea-0-17\" class=\"displacy-label\" startOffset=\"50%\" side=\"left\" fill=\"currentColor\" text-anchor=\"middle\">cc</textPath>\n",
              "    </text>\n",
              "    <path class=\"displacy-arrowhead\" d=\"M3320.0,1229.0 L3328.0,1217.0 3312.0,1217.0\" fill=\"currentColor\"/>\n",
              "</g>\n",
              "\n",
              "<g class=\"displacy-arrow\">\n",
              "    <path class=\"displacy-arc\" id=\"arrow-462b7d6f9ce44bfa8745565c0a8301ea-0-18\" stroke-width=\"2px\" d=\"M3570,1227.0 C3570,1139.5 3660.0,1139.5 3660.0,1227.0\" fill=\"none\" stroke=\"currentColor\"/>\n",
              "    <text dy=\"1.25em\" style=\"font-size: 0.8em; letter-spacing: 1px\">\n",
              "        <textPath xlink:href=\"#arrow-462b7d6f9ce44bfa8745565c0a8301ea-0-18\" class=\"displacy-label\" startOffset=\"50%\" side=\"left\" fill=\"currentColor\" text-anchor=\"middle\">advmod</textPath>\n",
              "    </text>\n",
              "    <path class=\"displacy-arrowhead\" d=\"M3570,1229.0 L3562,1217.0 3578,1217.0\" fill=\"currentColor\"/>\n",
              "</g>\n",
              "\n",
              "<g class=\"displacy-arrow\">\n",
              "    <path class=\"displacy-arc\" id=\"arrow-462b7d6f9ce44bfa8745565c0a8301ea-0-19\" stroke-width=\"2px\" d=\"M2870,1227.0 C2870,789.5 3680.0,789.5 3680.0,1227.0\" fill=\"none\" stroke=\"currentColor\"/>\n",
              "    <text dy=\"1.25em\" style=\"font-size: 0.8em; letter-spacing: 1px\">\n",
              "        <textPath xlink:href=\"#arrow-462b7d6f9ce44bfa8745565c0a8301ea-0-19\" class=\"displacy-label\" startOffset=\"50%\" side=\"left\" fill=\"currentColor\" text-anchor=\"middle\">conj</textPath>\n",
              "    </text>\n",
              "    <path class=\"displacy-arrowhead\" d=\"M3680.0,1229.0 L3688.0,1217.0 3672.0,1217.0\" fill=\"currentColor\"/>\n",
              "</g>\n",
              "\n",
              "<g class=\"displacy-arrow\">\n",
              "    <path class=\"displacy-arc\" id=\"arrow-462b7d6f9ce44bfa8745565c0a8301ea-0-20\" stroke-width=\"2px\" d=\"M3745,1227.0 C3745,1139.5 3835.0,1139.5 3835.0,1227.0\" fill=\"none\" stroke=\"currentColor\"/>\n",
              "    <text dy=\"1.25em\" style=\"font-size: 0.8em; letter-spacing: 1px\">\n",
              "        <textPath xlink:href=\"#arrow-462b7d6f9ce44bfa8745565c0a8301ea-0-20\" class=\"displacy-label\" startOffset=\"50%\" side=\"left\" fill=\"currentColor\" text-anchor=\"middle\">prep</textPath>\n",
              "    </text>\n",
              "    <path class=\"displacy-arrowhead\" d=\"M3835.0,1229.0 L3843.0,1217.0 3827.0,1217.0\" fill=\"currentColor\"/>\n",
              "</g>\n",
              "\n",
              "<g class=\"displacy-arrow\">\n",
              "    <path class=\"displacy-arc\" id=\"arrow-462b7d6f9ce44bfa8745565c0a8301ea-0-21\" stroke-width=\"2px\" d=\"M4095,1227.0 C4095,1139.5 4185.0,1139.5 4185.0,1227.0\" fill=\"none\" stroke=\"currentColor\"/>\n",
              "    <text dy=\"1.25em\" style=\"font-size: 0.8em; letter-spacing: 1px\">\n",
              "        <textPath xlink:href=\"#arrow-462b7d6f9ce44bfa8745565c0a8301ea-0-21\" class=\"displacy-label\" startOffset=\"50%\" side=\"left\" fill=\"currentColor\" text-anchor=\"middle\">det</textPath>\n",
              "    </text>\n",
              "    <path class=\"displacy-arrowhead\" d=\"M4095,1229.0 L4087,1217.0 4103,1217.0\" fill=\"currentColor\"/>\n",
              "</g>\n",
              "\n",
              "<g class=\"displacy-arrow\">\n",
              "    <path class=\"displacy-arc\" id=\"arrow-462b7d6f9ce44bfa8745565c0a8301ea-0-22\" stroke-width=\"2px\" d=\"M3920,1227.0 C3920,1052.0 4190.0,1052.0 4190.0,1227.0\" fill=\"none\" stroke=\"currentColor\"/>\n",
              "    <text dy=\"1.25em\" style=\"font-size: 0.8em; letter-spacing: 1px\">\n",
              "        <textPath xlink:href=\"#arrow-462b7d6f9ce44bfa8745565c0a8301ea-0-22\" class=\"displacy-label\" startOffset=\"50%\" side=\"left\" fill=\"currentColor\" text-anchor=\"middle\">pobj</textPath>\n",
              "    </text>\n",
              "    <path class=\"displacy-arrowhead\" d=\"M4190.0,1229.0 L4198.0,1217.0 4182.0,1217.0\" fill=\"currentColor\"/>\n",
              "</g>\n",
              "\n",
              "<g class=\"displacy-arrow\">\n",
              "    <path class=\"displacy-arc\" id=\"arrow-462b7d6f9ce44bfa8745565c0a8301ea-0-23\" stroke-width=\"2px\" d=\"M2870,1227.0 C2870,439.5 4400.0,439.5 4400.0,1227.0\" fill=\"none\" stroke=\"currentColor\"/>\n",
              "    <text dy=\"1.25em\" style=\"font-size: 0.8em; letter-spacing: 1px\">\n",
              "        <textPath xlink:href=\"#arrow-462b7d6f9ce44bfa8745565c0a8301ea-0-23\" class=\"displacy-label\" startOffset=\"50%\" side=\"left\" fill=\"currentColor\" text-anchor=\"middle\">cc</textPath>\n",
              "    </text>\n",
              "    <path class=\"displacy-arrowhead\" d=\"M4400.0,1229.0 L4408.0,1217.0 4392.0,1217.0\" fill=\"currentColor\"/>\n",
              "</g>\n",
              "\n",
              "<g class=\"displacy-arrow\">\n",
              "    <path class=\"displacy-arc\" id=\"arrow-462b7d6f9ce44bfa8745565c0a8301ea-0-24\" stroke-width=\"2px\" d=\"M2870,1227.0 C2870,352.0 4580.0,352.0 4580.0,1227.0\" fill=\"none\" stroke=\"currentColor\"/>\n",
              "    <text dy=\"1.25em\" style=\"font-size: 0.8em; letter-spacing: 1px\">\n",
              "        <textPath xlink:href=\"#arrow-462b7d6f9ce44bfa8745565c0a8301ea-0-24\" class=\"displacy-label\" startOffset=\"50%\" side=\"left\" fill=\"currentColor\" text-anchor=\"middle\">conj</textPath>\n",
              "    </text>\n",
              "    <path class=\"displacy-arrowhead\" d=\"M4580.0,1229.0 L4588.0,1217.0 4572.0,1217.0\" fill=\"currentColor\"/>\n",
              "</g>\n",
              "\n",
              "<g class=\"displacy-arrow\">\n",
              "    <path class=\"displacy-arc\" id=\"arrow-462b7d6f9ce44bfa8745565c0a8301ea-0-25\" stroke-width=\"2px\" d=\"M4795,1227.0 C4795,1052.0 5065.0,1052.0 5065.0,1227.0\" fill=\"none\" stroke=\"currentColor\"/>\n",
              "    <text dy=\"1.25em\" style=\"font-size: 0.8em; letter-spacing: 1px\">\n",
              "        <textPath xlink:href=\"#arrow-462b7d6f9ce44bfa8745565c0a8301ea-0-25\" class=\"displacy-label\" startOffset=\"50%\" side=\"left\" fill=\"currentColor\" text-anchor=\"middle\">det</textPath>\n",
              "    </text>\n",
              "    <path class=\"displacy-arrowhead\" d=\"M4795,1229.0 L4787,1217.0 4803,1217.0\" fill=\"currentColor\"/>\n",
              "</g>\n",
              "\n",
              "<g class=\"displacy-arrow\">\n",
              "    <path class=\"displacy-arc\" id=\"arrow-462b7d6f9ce44bfa8745565c0a8301ea-0-26\" stroke-width=\"2px\" d=\"M4970,1227.0 C4970,1139.5 5060.0,1139.5 5060.0,1227.0\" fill=\"none\" stroke=\"currentColor\"/>\n",
              "    <text dy=\"1.25em\" style=\"font-size: 0.8em; letter-spacing: 1px\">\n",
              "        <textPath xlink:href=\"#arrow-462b7d6f9ce44bfa8745565c0a8301ea-0-26\" class=\"displacy-label\" startOffset=\"50%\" side=\"left\" fill=\"currentColor\" text-anchor=\"middle\">compound</textPath>\n",
              "    </text>\n",
              "    <path class=\"displacy-arrowhead\" d=\"M4970,1229.0 L4962,1217.0 4978,1217.0\" fill=\"currentColor\"/>\n",
              "</g>\n",
              "\n",
              "<g class=\"displacy-arrow\">\n",
              "    <path class=\"displacy-arc\" id=\"arrow-462b7d6f9ce44bfa8745565c0a8301ea-0-27\" stroke-width=\"2px\" d=\"M4620,1227.0 C4620,964.5 5070.0,964.5 5070.0,1227.0\" fill=\"none\" stroke=\"currentColor\"/>\n",
              "    <text dy=\"1.25em\" style=\"font-size: 0.8em; letter-spacing: 1px\">\n",
              "        <textPath xlink:href=\"#arrow-462b7d6f9ce44bfa8745565c0a8301ea-0-27\" class=\"displacy-label\" startOffset=\"50%\" side=\"left\" fill=\"currentColor\" text-anchor=\"middle\">dobj</textPath>\n",
              "    </text>\n",
              "    <path class=\"displacy-arrowhead\" d=\"M5070.0,1229.0 L5078.0,1217.0 5062.0,1217.0\" fill=\"currentColor\"/>\n",
              "</g>\n",
              "\n",
              "<g class=\"displacy-arrow\">\n",
              "    <path class=\"displacy-arc\" id=\"arrow-462b7d6f9ce44bfa8745565c0a8301ea-0-28\" stroke-width=\"2px\" d=\"M5320,1227.0 C5320,1052.0 5590.0,1052.0 5590.0,1227.0\" fill=\"none\" stroke=\"currentColor\"/>\n",
              "    <text dy=\"1.25em\" style=\"font-size: 0.8em; letter-spacing: 1px\">\n",
              "        <textPath xlink:href=\"#arrow-462b7d6f9ce44bfa8745565c0a8301ea-0-28\" class=\"displacy-label\" startOffset=\"50%\" side=\"left\" fill=\"currentColor\" text-anchor=\"middle\">mark</textPath>\n",
              "    </text>\n",
              "    <path class=\"displacy-arrowhead\" d=\"M5320,1229.0 L5312,1217.0 5328,1217.0\" fill=\"currentColor\"/>\n",
              "</g>\n",
              "\n",
              "<g class=\"displacy-arrow\">\n",
              "    <path class=\"displacy-arc\" id=\"arrow-462b7d6f9ce44bfa8745565c0a8301ea-0-29\" stroke-width=\"2px\" d=\"M5495,1227.0 C5495,1139.5 5585.0,1139.5 5585.0,1227.0\" fill=\"none\" stroke=\"currentColor\"/>\n",
              "    <text dy=\"1.25em\" style=\"font-size: 0.8em; letter-spacing: 1px\">\n",
              "        <textPath xlink:href=\"#arrow-462b7d6f9ce44bfa8745565c0a8301ea-0-29\" class=\"displacy-label\" startOffset=\"50%\" side=\"left\" fill=\"currentColor\" text-anchor=\"middle\">nsubj</textPath>\n",
              "    </text>\n",
              "    <path class=\"displacy-arrowhead\" d=\"M5495,1229.0 L5487,1217.0 5503,1217.0\" fill=\"currentColor\"/>\n",
              "</g>\n",
              "\n",
              "<g class=\"displacy-arrow\">\n",
              "    <path class=\"displacy-arc\" id=\"arrow-462b7d6f9ce44bfa8745565c0a8301ea-0-30\" stroke-width=\"2px\" d=\"M4620,1227.0 C4620,702.0 5610.0,702.0 5610.0,1227.0\" fill=\"none\" stroke=\"currentColor\"/>\n",
              "    <text dy=\"1.25em\" style=\"font-size: 0.8em; letter-spacing: 1px\">\n",
              "        <textPath xlink:href=\"#arrow-462b7d6f9ce44bfa8745565c0a8301ea-0-30\" class=\"displacy-label\" startOffset=\"50%\" side=\"left\" fill=\"currentColor\" text-anchor=\"middle\">advcl</textPath>\n",
              "    </text>\n",
              "    <path class=\"displacy-arrowhead\" d=\"M5610.0,1229.0 L5618.0,1217.0 5602.0,1217.0\" fill=\"currentColor\"/>\n",
              "</g>\n",
              "\n",
              "<g class=\"displacy-arrow\">\n",
              "    <path class=\"displacy-arc\" id=\"arrow-462b7d6f9ce44bfa8745565c0a8301ea-0-31\" stroke-width=\"2px\" d=\"M5670,1227.0 C5670,1139.5 5760.0,1139.5 5760.0,1227.0\" fill=\"none\" stroke=\"currentColor\"/>\n",
              "    <text dy=\"1.25em\" style=\"font-size: 0.8em; letter-spacing: 1px\">\n",
              "        <textPath xlink:href=\"#arrow-462b7d6f9ce44bfa8745565c0a8301ea-0-31\" class=\"displacy-label\" startOffset=\"50%\" side=\"left\" fill=\"currentColor\" text-anchor=\"middle\">advmod</textPath>\n",
              "    </text>\n",
              "    <path class=\"displacy-arrowhead\" d=\"M5760.0,1229.0 L5768.0,1217.0 5752.0,1217.0\" fill=\"currentColor\"/>\n",
              "</g>\n",
              "\n",
              "<g class=\"displacy-arrow\">\n",
              "    <path class=\"displacy-arc\" id=\"arrow-462b7d6f9ce44bfa8745565c0a8301ea-0-32\" stroke-width=\"2px\" d=\"M5670,1227.0 C5670,1052.0 5940.0,1052.0 5940.0,1227.0\" fill=\"none\" stroke=\"currentColor\"/>\n",
              "    <text dy=\"1.25em\" style=\"font-size: 0.8em; letter-spacing: 1px\">\n",
              "        <textPath xlink:href=\"#arrow-462b7d6f9ce44bfa8745565c0a8301ea-0-32\" class=\"displacy-label\" startOffset=\"50%\" side=\"left\" fill=\"currentColor\" text-anchor=\"middle\">prep</textPath>\n",
              "    </text>\n",
              "    <path class=\"displacy-arrowhead\" d=\"M5940.0,1229.0 L5948.0,1217.0 5932.0,1217.0\" fill=\"currentColor\"/>\n",
              "</g>\n",
              "\n",
              "<g class=\"displacy-arrow\">\n",
              "    <path class=\"displacy-arc\" id=\"arrow-462b7d6f9ce44bfa8745565c0a8301ea-0-33\" stroke-width=\"2px\" d=\"M6195,1227.0 C6195,1139.5 6285.0,1139.5 6285.0,1227.0\" fill=\"none\" stroke=\"currentColor\"/>\n",
              "    <text dy=\"1.25em\" style=\"font-size: 0.8em; letter-spacing: 1px\">\n",
              "        <textPath xlink:href=\"#arrow-462b7d6f9ce44bfa8745565c0a8301ea-0-33\" class=\"displacy-label\" startOffset=\"50%\" side=\"left\" fill=\"currentColor\" text-anchor=\"middle\">det</textPath>\n",
              "    </text>\n",
              "    <path class=\"displacy-arrowhead\" d=\"M6195,1229.0 L6187,1217.0 6203,1217.0\" fill=\"currentColor\"/>\n",
              "</g>\n",
              "\n",
              "<g class=\"displacy-arrow\">\n",
              "    <path class=\"displacy-arc\" id=\"arrow-462b7d6f9ce44bfa8745565c0a8301ea-0-34\" stroke-width=\"2px\" d=\"M6020,1227.0 C6020,1052.0 6290.0,1052.0 6290.0,1227.0\" fill=\"none\" stroke=\"currentColor\"/>\n",
              "    <text dy=\"1.25em\" style=\"font-size: 0.8em; letter-spacing: 1px\">\n",
              "        <textPath xlink:href=\"#arrow-462b7d6f9ce44bfa8745565c0a8301ea-0-34\" class=\"displacy-label\" startOffset=\"50%\" side=\"left\" fill=\"currentColor\" text-anchor=\"middle\">pobj</textPath>\n",
              "    </text>\n",
              "    <path class=\"displacy-arrowhead\" d=\"M6290.0,1229.0 L6298.0,1217.0 6282.0,1217.0\" fill=\"currentColor\"/>\n",
              "</g>\n",
              "\n",
              "<g class=\"displacy-arrow\">\n",
              "    <path class=\"displacy-arc\" id=\"arrow-462b7d6f9ce44bfa8745565c0a8301ea-0-35\" stroke-width=\"2px\" d=\"M6545,1227.0 C6545,1139.5 6635.0,1139.5 6635.0,1227.0\" fill=\"none\" stroke=\"currentColor\"/>\n",
              "    <text dy=\"1.25em\" style=\"font-size: 0.8em; letter-spacing: 1px\">\n",
              "        <textPath xlink:href=\"#arrow-462b7d6f9ce44bfa8745565c0a8301ea-0-35\" class=\"displacy-label\" startOffset=\"50%\" side=\"left\" fill=\"currentColor\" text-anchor=\"middle\">compound</textPath>\n",
              "    </text>\n",
              "    <path class=\"displacy-arrowhead\" d=\"M6545,1229.0 L6537,1217.0 6553,1217.0\" fill=\"currentColor\"/>\n",
              "</g>\n",
              "\n",
              "<g class=\"displacy-arrow\">\n",
              "    <path class=\"displacy-arc\" id=\"arrow-462b7d6f9ce44bfa8745565c0a8301ea-0-36\" stroke-width=\"2px\" d=\"M6720,1227.0 C6720,1139.5 6810.0,1139.5 6810.0,1227.0\" fill=\"none\" stroke=\"currentColor\"/>\n",
              "    <text dy=\"1.25em\" style=\"font-size: 0.8em; letter-spacing: 1px\">\n",
              "        <textPath xlink:href=\"#arrow-462b7d6f9ce44bfa8745565c0a8301ea-0-36\" class=\"displacy-label\" startOffset=\"50%\" side=\"left\" fill=\"currentColor\" text-anchor=\"middle\">nsubj</textPath>\n",
              "    </text>\n",
              "    <path class=\"displacy-arrowhead\" d=\"M6720,1229.0 L6712,1217.0 6728,1217.0\" fill=\"currentColor\"/>\n",
              "</g>\n",
              "\n",
              "<g class=\"displacy-arrow\">\n",
              "    <path class=\"displacy-arc\" id=\"arrow-462b7d6f9ce44bfa8745565c0a8301ea-0-37\" stroke-width=\"2px\" d=\"M7070,1227.0 C7070,877.0 7700.0,877.0 7700.0,1227.0\" fill=\"none\" stroke=\"currentColor\"/>\n",
              "    <text dy=\"1.25em\" style=\"font-size: 0.8em; letter-spacing: 1px\">\n",
              "        <textPath xlink:href=\"#arrow-462b7d6f9ce44bfa8745565c0a8301ea-0-37\" class=\"displacy-label\" startOffset=\"50%\" side=\"left\" fill=\"currentColor\" text-anchor=\"middle\">neg</textPath>\n",
              "    </text>\n",
              "    <path class=\"displacy-arrowhead\" d=\"M7070,1229.0 L7062,1217.0 7078,1217.0\" fill=\"currentColor\"/>\n",
              "</g>\n",
              "\n",
              "<g class=\"displacy-arrow\">\n",
              "    <path class=\"displacy-arc\" id=\"arrow-462b7d6f9ce44bfa8745565c0a8301ea-0-38\" stroke-width=\"2px\" d=\"M7245,1227.0 C7245,964.5 7695.0,964.5 7695.0,1227.0\" fill=\"none\" stroke=\"currentColor\"/>\n",
              "    <text dy=\"1.25em\" style=\"font-size: 0.8em; letter-spacing: 1px\">\n",
              "        <textPath xlink:href=\"#arrow-462b7d6f9ce44bfa8745565c0a8301ea-0-38\" class=\"displacy-label\" startOffset=\"50%\" side=\"left\" fill=\"currentColor\" text-anchor=\"middle\">aux</textPath>\n",
              "    </text>\n",
              "    <path class=\"displacy-arrowhead\" d=\"M7245,1229.0 L7237,1217.0 7253,1217.0\" fill=\"currentColor\"/>\n",
              "</g>\n",
              "\n",
              "<g class=\"displacy-arrow\">\n",
              "    <path class=\"displacy-arc\" id=\"arrow-462b7d6f9ce44bfa8745565c0a8301ea-0-39\" stroke-width=\"2px\" d=\"M7420,1227.0 C7420,1052.0 7690.0,1052.0 7690.0,1227.0\" fill=\"none\" stroke=\"currentColor\"/>\n",
              "    <text dy=\"1.25em\" style=\"font-size: 0.8em; letter-spacing: 1px\">\n",
              "        <textPath xlink:href=\"#arrow-462b7d6f9ce44bfa8745565c0a8301ea-0-39\" class=\"displacy-label\" startOffset=\"50%\" side=\"left\" fill=\"currentColor\" text-anchor=\"middle\">auxpass</textPath>\n",
              "    </text>\n",
              "    <path class=\"displacy-arrowhead\" d=\"M7420,1229.0 L7412,1217.0 7428,1217.0\" fill=\"currentColor\"/>\n",
              "</g>\n",
              "\n",
              "<g class=\"displacy-arrow\">\n",
              "    <path class=\"displacy-arc\" id=\"arrow-462b7d6f9ce44bfa8745565c0a8301ea-0-40\" stroke-width=\"2px\" d=\"M7595,1227.0 C7595,1139.5 7685.0,1139.5 7685.0,1227.0\" fill=\"none\" stroke=\"currentColor\"/>\n",
              "    <text dy=\"1.25em\" style=\"font-size: 0.8em; letter-spacing: 1px\">\n",
              "        <textPath xlink:href=\"#arrow-462b7d6f9ce44bfa8745565c0a8301ea-0-40\" class=\"displacy-label\" startOffset=\"50%\" side=\"left\" fill=\"currentColor\" text-anchor=\"middle\">advmod</textPath>\n",
              "    </text>\n",
              "    <path class=\"displacy-arrowhead\" d=\"M7595,1229.0 L7587,1217.0 7603,1217.0\" fill=\"currentColor\"/>\n",
              "</g>\n",
              "\n",
              "<g class=\"displacy-arrow\">\n",
              "    <path class=\"displacy-arc\" id=\"arrow-462b7d6f9ce44bfa8745565c0a8301ea-0-41\" stroke-width=\"2px\" d=\"M6895,1227.0 C6895,789.5 7705.0,789.5 7705.0,1227.0\" fill=\"none\" stroke=\"currentColor\"/>\n",
              "    <text dy=\"1.25em\" style=\"font-size: 0.8em; letter-spacing: 1px\">\n",
              "        <textPath xlink:href=\"#arrow-462b7d6f9ce44bfa8745565c0a8301ea-0-41\" class=\"displacy-label\" startOffset=\"50%\" side=\"left\" fill=\"currentColor\" text-anchor=\"middle\">xcomp</textPath>\n",
              "    </text>\n",
              "    <path class=\"displacy-arrowhead\" d=\"M7705.0,1229.0 L7713.0,1217.0 7697.0,1217.0\" fill=\"currentColor\"/>\n",
              "</g>\n",
              "\n",
              "<g class=\"displacy-arrow\">\n",
              "    <path class=\"displacy-arc\" id=\"arrow-462b7d6f9ce44bfa8745565c0a8301ea-0-42\" stroke-width=\"2px\" d=\"M7770,1227.0 C7770,1139.5 7860.0,1139.5 7860.0,1227.0\" fill=\"none\" stroke=\"currentColor\"/>\n",
              "    <text dy=\"1.25em\" style=\"font-size: 0.8em; letter-spacing: 1px\">\n",
              "        <textPath xlink:href=\"#arrow-462b7d6f9ce44bfa8745565c0a8301ea-0-42\" class=\"displacy-label\" startOffset=\"50%\" side=\"left\" fill=\"currentColor\" text-anchor=\"middle\">prep</textPath>\n",
              "    </text>\n",
              "    <path class=\"displacy-arrowhead\" d=\"M7860.0,1229.0 L7868.0,1217.0 7852.0,1217.0\" fill=\"currentColor\"/>\n",
              "</g>\n",
              "\n",
              "<g class=\"displacy-arrow\">\n",
              "    <path class=\"displacy-arc\" id=\"arrow-462b7d6f9ce44bfa8745565c0a8301ea-0-43\" stroke-width=\"2px\" d=\"M7945,1227.0 C7945,1139.5 8035.0,1139.5 8035.0,1227.0\" fill=\"none\" stroke=\"currentColor\"/>\n",
              "    <text dy=\"1.25em\" style=\"font-size: 0.8em; letter-spacing: 1px\">\n",
              "        <textPath xlink:href=\"#arrow-462b7d6f9ce44bfa8745565c0a8301ea-0-43\" class=\"displacy-label\" startOffset=\"50%\" side=\"left\" fill=\"currentColor\" text-anchor=\"middle\">pobj</textPath>\n",
              "    </text>\n",
              "    <path class=\"displacy-arrowhead\" d=\"M8035.0,1229.0 L8043.0,1217.0 8027.0,1217.0\" fill=\"currentColor\"/>\n",
              "</g>\n",
              "\n",
              "<g class=\"displacy-arrow\">\n",
              "    <path class=\"displacy-arc\" id=\"arrow-462b7d6f9ce44bfa8745565c0a8301ea-0-44\" stroke-width=\"2px\" d=\"M7770,1227.0 C7770,964.5 8220.0,964.5 8220.0,1227.0\" fill=\"none\" stroke=\"currentColor\"/>\n",
              "    <text dy=\"1.25em\" style=\"font-size: 0.8em; letter-spacing: 1px\">\n",
              "        <textPath xlink:href=\"#arrow-462b7d6f9ce44bfa8745565c0a8301ea-0-44\" class=\"displacy-label\" startOffset=\"50%\" side=\"left\" fill=\"currentColor\" text-anchor=\"middle\">cc</textPath>\n",
              "    </text>\n",
              "    <path class=\"displacy-arrowhead\" d=\"M8220.0,1229.0 L8228.0,1217.0 8212.0,1217.0\" fill=\"currentColor\"/>\n",
              "</g>\n",
              "\n",
              "<g class=\"displacy-arrow\">\n",
              "    <path class=\"displacy-arc\" id=\"arrow-462b7d6f9ce44bfa8745565c0a8301ea-0-45\" stroke-width=\"2px\" d=\"M7770,1227.0 C7770,877.0 8400.0,877.0 8400.0,1227.0\" fill=\"none\" stroke=\"currentColor\"/>\n",
              "    <text dy=\"1.25em\" style=\"font-size: 0.8em; letter-spacing: 1px\">\n",
              "        <textPath xlink:href=\"#arrow-462b7d6f9ce44bfa8745565c0a8301ea-0-45\" class=\"displacy-label\" startOffset=\"50%\" side=\"left\" fill=\"currentColor\" text-anchor=\"middle\">conj</textPath>\n",
              "    </text>\n",
              "    <path class=\"displacy-arrowhead\" d=\"M8400.0,1229.0 L8408.0,1217.0 8392.0,1217.0\" fill=\"currentColor\"/>\n",
              "</g>\n",
              "\n",
              "<g class=\"displacy-arrow\">\n",
              "    <path class=\"displacy-arc\" id=\"arrow-462b7d6f9ce44bfa8745565c0a8301ea-0-46\" stroke-width=\"2px\" d=\"M8645,1227.0 C8645,1052.0 8915.0,1052.0 8915.0,1227.0\" fill=\"none\" stroke=\"currentColor\"/>\n",
              "    <text dy=\"1.25em\" style=\"font-size: 0.8em; letter-spacing: 1px\">\n",
              "        <textPath xlink:href=\"#arrow-462b7d6f9ce44bfa8745565c0a8301ea-0-46\" class=\"displacy-label\" startOffset=\"50%\" side=\"left\" fill=\"currentColor\" text-anchor=\"middle\">poss</textPath>\n",
              "    </text>\n",
              "    <path class=\"displacy-arrowhead\" d=\"M8645,1229.0 L8637,1217.0 8653,1217.0\" fill=\"currentColor\"/>\n",
              "</g>\n",
              "\n",
              "<g class=\"displacy-arrow\">\n",
              "    <path class=\"displacy-arc\" id=\"arrow-462b7d6f9ce44bfa8745565c0a8301ea-0-47\" stroke-width=\"2px\" d=\"M8820,1227.0 C8820,1139.5 8910.0,1139.5 8910.0,1227.0\" fill=\"none\" stroke=\"currentColor\"/>\n",
              "    <text dy=\"1.25em\" style=\"font-size: 0.8em; letter-spacing: 1px\">\n",
              "        <textPath xlink:href=\"#arrow-462b7d6f9ce44bfa8745565c0a8301ea-0-47\" class=\"displacy-label\" startOffset=\"50%\" side=\"left\" fill=\"currentColor\" text-anchor=\"middle\">amod</textPath>\n",
              "    </text>\n",
              "    <path class=\"displacy-arrowhead\" d=\"M8820,1229.0 L8812,1217.0 8828,1217.0\" fill=\"currentColor\"/>\n",
              "</g>\n",
              "\n",
              "<g class=\"displacy-arrow\">\n",
              "    <path class=\"displacy-arc\" id=\"arrow-462b7d6f9ce44bfa8745565c0a8301ea-0-48\" stroke-width=\"2px\" d=\"M8995,1227.0 C8995,1139.5 9085.0,1139.5 9085.0,1227.0\" fill=\"none\" stroke=\"currentColor\"/>\n",
              "    <text dy=\"1.25em\" style=\"font-size: 0.8em; letter-spacing: 1px\">\n",
              "        <textPath xlink:href=\"#arrow-462b7d6f9ce44bfa8745565c0a8301ea-0-48\" class=\"displacy-label\" startOffset=\"50%\" side=\"left\" fill=\"currentColor\" text-anchor=\"middle\">nsubj</textPath>\n",
              "    </text>\n",
              "    <path class=\"displacy-arrowhead\" d=\"M8995,1229.0 L8987,1217.0 9003,1217.0\" fill=\"currentColor\"/>\n",
              "</g>\n",
              "\n",
              "<g class=\"displacy-arrow\">\n",
              "    <path class=\"displacy-arc\" id=\"arrow-462b7d6f9ce44bfa8745565c0a8301ea-0-49\" stroke-width=\"2px\" d=\"M8470,1227.0 C8470,877.0 9100.0,877.0 9100.0,1227.0\" fill=\"none\" stroke=\"currentColor\"/>\n",
              "    <text dy=\"1.25em\" style=\"font-size: 0.8em; letter-spacing: 1px\">\n",
              "        <textPath xlink:href=\"#arrow-462b7d6f9ce44bfa8745565c0a8301ea-0-49\" class=\"displacy-label\" startOffset=\"50%\" side=\"left\" fill=\"currentColor\" text-anchor=\"middle\">ccomp</textPath>\n",
              "    </text>\n",
              "    <path class=\"displacy-arrowhead\" d=\"M9100.0,1229.0 L9108.0,1217.0 9092.0,1217.0\" fill=\"currentColor\"/>\n",
              "</g>\n",
              "\n",
              "<g class=\"displacy-arrow\">\n",
              "    <path class=\"displacy-arc\" id=\"arrow-462b7d6f9ce44bfa8745565c0a8301ea-0-50\" stroke-width=\"2px\" d=\"M9170,1227.0 C9170,1139.5 9260.0,1139.5 9260.0,1227.0\" fill=\"none\" stroke=\"currentColor\"/>\n",
              "    <text dy=\"1.25em\" style=\"font-size: 0.8em; letter-spacing: 1px\">\n",
              "        <textPath xlink:href=\"#arrow-462b7d6f9ce44bfa8745565c0a8301ea-0-50\" class=\"displacy-label\" startOffset=\"50%\" side=\"left\" fill=\"currentColor\" text-anchor=\"middle\">prep</textPath>\n",
              "    </text>\n",
              "    <path class=\"displacy-arrowhead\" d=\"M9260.0,1229.0 L9268.0,1217.0 9252.0,1217.0\" fill=\"currentColor\"/>\n",
              "</g>\n",
              "\n",
              "<g class=\"displacy-arrow\">\n",
              "    <path class=\"displacy-arc\" id=\"arrow-462b7d6f9ce44bfa8745565c0a8301ea-0-51\" stroke-width=\"2px\" d=\"M9345,1227.0 C9345,1139.5 9435.0,1139.5 9435.0,1227.0\" fill=\"none\" stroke=\"currentColor\"/>\n",
              "    <text dy=\"1.25em\" style=\"font-size: 0.8em; letter-spacing: 1px\">\n",
              "        <textPath xlink:href=\"#arrow-462b7d6f9ce44bfa8745565c0a8301ea-0-51\" class=\"displacy-label\" startOffset=\"50%\" side=\"left\" fill=\"currentColor\" text-anchor=\"middle\">pobj</textPath>\n",
              "    </text>\n",
              "    <path class=\"displacy-arrowhead\" d=\"M9435.0,1229.0 L9443.0,1217.0 9427.0,1217.0\" fill=\"currentColor\"/>\n",
              "</g>\n",
              "\n",
              "<g class=\"displacy-arrow\">\n",
              "    <path class=\"displacy-arc\" id=\"arrow-462b7d6f9ce44bfa8745565c0a8301ea-0-52\" stroke-width=\"2px\" d=\"M9170,1227.0 C9170,964.5 9620.0,964.5 9620.0,1227.0\" fill=\"none\" stroke=\"currentColor\"/>\n",
              "    <text dy=\"1.25em\" style=\"font-size: 0.8em; letter-spacing: 1px\">\n",
              "        <textPath xlink:href=\"#arrow-462b7d6f9ce44bfa8745565c0a8301ea-0-52\" class=\"displacy-label\" startOffset=\"50%\" side=\"left\" fill=\"currentColor\" text-anchor=\"middle\">prep</textPath>\n",
              "    </text>\n",
              "    <path class=\"displacy-arrowhead\" d=\"M9620.0,1229.0 L9628.0,1217.0 9612.0,1217.0\" fill=\"currentColor\"/>\n",
              "</g>\n",
              "\n",
              "<g class=\"displacy-arrow\">\n",
              "    <path class=\"displacy-arc\" id=\"arrow-462b7d6f9ce44bfa8745565c0a8301ea-0-53\" stroke-width=\"2px\" d=\"M9695,1227.0 C9695,1139.5 9785.0,1139.5 9785.0,1227.0\" fill=\"none\" stroke=\"currentColor\"/>\n",
              "    <text dy=\"1.25em\" style=\"font-size: 0.8em; letter-spacing: 1px\">\n",
              "        <textPath xlink:href=\"#arrow-462b7d6f9ce44bfa8745565c0a8301ea-0-53\" class=\"displacy-label\" startOffset=\"50%\" side=\"left\" fill=\"currentColor\" text-anchor=\"middle\">pcomp</textPath>\n",
              "    </text>\n",
              "    <path class=\"displacy-arrowhead\" d=\"M9785.0,1229.0 L9793.0,1217.0 9777.0,1217.0\" fill=\"currentColor\"/>\n",
              "</g>\n",
              "\n",
              "<g class=\"displacy-arrow\">\n",
              "    <path class=\"displacy-arc\" id=\"arrow-462b7d6f9ce44bfa8745565c0a8301ea-0-54\" stroke-width=\"2px\" d=\"M10045,1227.0 C10045,1139.5 10135.0,1139.5 10135.0,1227.0\" fill=\"none\" stroke=\"currentColor\"/>\n",
              "    <text dy=\"1.25em\" style=\"font-size: 0.8em; letter-spacing: 1px\">\n",
              "        <textPath xlink:href=\"#arrow-462b7d6f9ce44bfa8745565c0a8301ea-0-54\" class=\"displacy-label\" startOffset=\"50%\" side=\"left\" fill=\"currentColor\" text-anchor=\"middle\">poss</textPath>\n",
              "    </text>\n",
              "    <path class=\"displacy-arrowhead\" d=\"M10045,1229.0 L10037,1217.0 10053,1217.0\" fill=\"currentColor\"/>\n",
              "</g>\n",
              "\n",
              "<g class=\"displacy-arrow\">\n",
              "    <path class=\"displacy-arc\" id=\"arrow-462b7d6f9ce44bfa8745565c0a8301ea-0-55\" stroke-width=\"2px\" d=\"M9870,1227.0 C9870,1052.0 10140.0,1052.0 10140.0,1227.0\" fill=\"none\" stroke=\"currentColor\"/>\n",
              "    <text dy=\"1.25em\" style=\"font-size: 0.8em; letter-spacing: 1px\">\n",
              "        <textPath xlink:href=\"#arrow-462b7d6f9ce44bfa8745565c0a8301ea-0-55\" class=\"displacy-label\" startOffset=\"50%\" side=\"left\" fill=\"currentColor\" text-anchor=\"middle\">dobj</textPath>\n",
              "    </text>\n",
              "    <path class=\"displacy-arrowhead\" d=\"M10140.0,1229.0 L10148.0,1217.0 10132.0,1217.0\" fill=\"currentColor\"/>\n",
              "</g>\n",
              "\n",
              "<g class=\"displacy-arrow\">\n",
              "    <path class=\"displacy-arc\" id=\"arrow-462b7d6f9ce44bfa8745565c0a8301ea-0-56\" stroke-width=\"2px\" d=\"M9870,1227.0 C9870,964.5 10320.0,964.5 10320.0,1227.0\" fill=\"none\" stroke=\"currentColor\"/>\n",
              "    <text dy=\"1.25em\" style=\"font-size: 0.8em; letter-spacing: 1px\">\n",
              "        <textPath xlink:href=\"#arrow-462b7d6f9ce44bfa8745565c0a8301ea-0-56\" class=\"displacy-label\" startOffset=\"50%\" side=\"left\" fill=\"currentColor\" text-anchor=\"middle\">prep</textPath>\n",
              "    </text>\n",
              "    <path class=\"displacy-arrowhead\" d=\"M10320.0,1229.0 L10328.0,1217.0 10312.0,1217.0\" fill=\"currentColor\"/>\n",
              "</g>\n",
              "\n",
              "<g class=\"displacy-arrow\">\n",
              "    <path class=\"displacy-arc\" id=\"arrow-462b7d6f9ce44bfa8745565c0a8301ea-0-57\" stroke-width=\"2px\" d=\"M10570,1227.0 C10570,1052.0 10840.0,1052.0 10840.0,1227.0\" fill=\"none\" stroke=\"currentColor\"/>\n",
              "    <text dy=\"1.25em\" style=\"font-size: 0.8em; letter-spacing: 1px\">\n",
              "        <textPath xlink:href=\"#arrow-462b7d6f9ce44bfa8745565c0a8301ea-0-57\" class=\"displacy-label\" startOffset=\"50%\" side=\"left\" fill=\"currentColor\" text-anchor=\"middle\">poss</textPath>\n",
              "    </text>\n",
              "    <path class=\"displacy-arrowhead\" d=\"M10570,1229.0 L10562,1217.0 10578,1217.0\" fill=\"currentColor\"/>\n",
              "</g>\n",
              "\n",
              "<g class=\"displacy-arrow\">\n",
              "    <path class=\"displacy-arc\" id=\"arrow-462b7d6f9ce44bfa8745565c0a8301ea-0-58\" stroke-width=\"2px\" d=\"M10745,1227.0 C10745,1139.5 10835.0,1139.5 10835.0,1227.0\" fill=\"none\" stroke=\"currentColor\"/>\n",
              "    <text dy=\"1.25em\" style=\"font-size: 0.8em; letter-spacing: 1px\">\n",
              "        <textPath xlink:href=\"#arrow-462b7d6f9ce44bfa8745565c0a8301ea-0-58\" class=\"displacy-label\" startOffset=\"50%\" side=\"left\" fill=\"currentColor\" text-anchor=\"middle\">amod</textPath>\n",
              "    </text>\n",
              "    <path class=\"displacy-arrowhead\" d=\"M10745,1229.0 L10737,1217.0 10753,1217.0\" fill=\"currentColor\"/>\n",
              "</g>\n",
              "\n",
              "<g class=\"displacy-arrow\">\n",
              "    <path class=\"displacy-arc\" id=\"arrow-462b7d6f9ce44bfa8745565c0a8301ea-0-59\" stroke-width=\"2px\" d=\"M10395,1227.0 C10395,964.5 10845.0,964.5 10845.0,1227.0\" fill=\"none\" stroke=\"currentColor\"/>\n",
              "    <text dy=\"1.25em\" style=\"font-size: 0.8em; letter-spacing: 1px\">\n",
              "        <textPath xlink:href=\"#arrow-462b7d6f9ce44bfa8745565c0a8301ea-0-59\" class=\"displacy-label\" startOffset=\"50%\" side=\"left\" fill=\"currentColor\" text-anchor=\"middle\">pobj</textPath>\n",
              "    </text>\n",
              "    <path class=\"displacy-arrowhead\" d=\"M10845.0,1229.0 L10853.0,1217.0 10837.0,1217.0\" fill=\"currentColor\"/>\n",
              "</g>\n",
              "\n",
              "<g class=\"displacy-arrow\">\n",
              "    <path class=\"displacy-arc\" id=\"arrow-462b7d6f9ce44bfa8745565c0a8301ea-0-60\" stroke-width=\"2px\" d=\"M11095,1227.0 C11095,1139.5 11185.0,1139.5 11185.0,1227.0\" fill=\"none\" stroke=\"currentColor\"/>\n",
              "    <text dy=\"1.25em\" style=\"font-size: 0.8em; letter-spacing: 1px\">\n",
              "        <textPath xlink:href=\"#arrow-462b7d6f9ce44bfa8745565c0a8301ea-0-60\" class=\"displacy-label\" startOffset=\"50%\" side=\"left\" fill=\"currentColor\" text-anchor=\"middle\">advmod</textPath>\n",
              "    </text>\n",
              "    <path class=\"displacy-arrowhead\" d=\"M11095,1229.0 L11087,1217.0 11103,1217.0\" fill=\"currentColor\"/>\n",
              "</g>\n",
              "\n",
              "<g class=\"displacy-arrow\">\n",
              "    <path class=\"displacy-arc\" id=\"arrow-462b7d6f9ce44bfa8745565c0a8301ea-0-61\" stroke-width=\"2px\" d=\"M11270,1227.0 C11270,1139.5 11360.0,1139.5 11360.0,1227.0\" fill=\"none\" stroke=\"currentColor\"/>\n",
              "    <text dy=\"1.25em\" style=\"font-size: 0.8em; letter-spacing: 1px\">\n",
              "        <textPath xlink:href=\"#arrow-462b7d6f9ce44bfa8745565c0a8301ea-0-61\" class=\"displacy-label\" startOffset=\"50%\" side=\"left\" fill=\"currentColor\" text-anchor=\"middle\">prep</textPath>\n",
              "    </text>\n",
              "    <path class=\"displacy-arrowhead\" d=\"M11360.0,1229.0 L11368.0,1217.0 11352.0,1217.0\" fill=\"currentColor\"/>\n",
              "</g>\n",
              "\n",
              "<g class=\"displacy-arrow\">\n",
              "    <path class=\"displacy-arc\" id=\"arrow-462b7d6f9ce44bfa8745565c0a8301ea-0-62\" stroke-width=\"2px\" d=\"M11620,1227.0 C11620,1139.5 11710.0,1139.5 11710.0,1227.0\" fill=\"none\" stroke=\"currentColor\"/>\n",
              "    <text dy=\"1.25em\" style=\"font-size: 0.8em; letter-spacing: 1px\">\n",
              "        <textPath xlink:href=\"#arrow-462b7d6f9ce44bfa8745565c0a8301ea-0-62\" class=\"displacy-label\" startOffset=\"50%\" side=\"left\" fill=\"currentColor\" text-anchor=\"middle\">det</textPath>\n",
              "    </text>\n",
              "    <path class=\"displacy-arrowhead\" d=\"M11620,1229.0 L11612,1217.0 11628,1217.0\" fill=\"currentColor\"/>\n",
              "</g>\n",
              "\n",
              "<g class=\"displacy-arrow\">\n",
              "    <path class=\"displacy-arc\" id=\"arrow-462b7d6f9ce44bfa8745565c0a8301ea-0-63\" stroke-width=\"2px\" d=\"M11445,1227.0 C11445,1052.0 11715.0,1052.0 11715.0,1227.0\" fill=\"none\" stroke=\"currentColor\"/>\n",
              "    <text dy=\"1.25em\" style=\"font-size: 0.8em; letter-spacing: 1px\">\n",
              "        <textPath xlink:href=\"#arrow-462b7d6f9ce44bfa8745565c0a8301ea-0-63\" class=\"displacy-label\" startOffset=\"50%\" side=\"left\" fill=\"currentColor\" text-anchor=\"middle\">pobj</textPath>\n",
              "    </text>\n",
              "    <path class=\"displacy-arrowhead\" d=\"M11715.0,1229.0 L11723.0,1217.0 11707.0,1217.0\" fill=\"currentColor\"/>\n",
              "</g>\n",
              "\n",
              "<g class=\"displacy-arrow\">\n",
              "    <path class=\"displacy-arc\" id=\"arrow-462b7d6f9ce44bfa8745565c0a8301ea-0-64\" stroke-width=\"2px\" d=\"M11970,1227.0 C11970,1139.5 12060.0,1139.5 12060.0,1227.0\" fill=\"none\" stroke=\"currentColor\"/>\n",
              "    <text dy=\"1.25em\" style=\"font-size: 0.8em; letter-spacing: 1px\">\n",
              "        <textPath xlink:href=\"#arrow-462b7d6f9ce44bfa8745565c0a8301ea-0-64\" class=\"displacy-label\" startOffset=\"50%\" side=\"left\" fill=\"currentColor\" text-anchor=\"middle\">nsubj</textPath>\n",
              "    </text>\n",
              "    <path class=\"displacy-arrowhead\" d=\"M11970,1229.0 L11962,1217.0 11978,1217.0\" fill=\"currentColor\"/>\n",
              "</g>\n",
              "\n",
              "<g class=\"displacy-arrow\">\n",
              "    <path class=\"displacy-arc\" id=\"arrow-462b7d6f9ce44bfa8745565c0a8301ea-0-65\" stroke-width=\"2px\" d=\"M11795,1227.0 C11795,1052.0 12065.0,1052.0 12065.0,1227.0\" fill=\"none\" stroke=\"currentColor\"/>\n",
              "    <text dy=\"1.25em\" style=\"font-size: 0.8em; letter-spacing: 1px\">\n",
              "        <textPath xlink:href=\"#arrow-462b7d6f9ce44bfa8745565c0a8301ea-0-65\" class=\"displacy-label\" startOffset=\"50%\" side=\"left\" fill=\"currentColor\" text-anchor=\"middle\">relcl</textPath>\n",
              "    </text>\n",
              "    <path class=\"displacy-arrowhead\" d=\"M12065.0,1229.0 L12073.0,1217.0 12057.0,1217.0\" fill=\"currentColor\"/>\n",
              "</g>\n",
              "\n",
              "<g class=\"displacy-arrow\">\n",
              "    <path class=\"displacy-arc\" id=\"arrow-462b7d6f9ce44bfa8745565c0a8301ea-0-66\" stroke-width=\"2px\" d=\"M12320,1227.0 C12320,1139.5 12410.0,1139.5 12410.0,1227.0\" fill=\"none\" stroke=\"currentColor\"/>\n",
              "    <text dy=\"1.25em\" style=\"font-size: 0.8em; letter-spacing: 1px\">\n",
              "        <textPath xlink:href=\"#arrow-462b7d6f9ce44bfa8745565c0a8301ea-0-66\" class=\"displacy-label\" startOffset=\"50%\" side=\"left\" fill=\"currentColor\" text-anchor=\"middle\">poss</textPath>\n",
              "    </text>\n",
              "    <path class=\"displacy-arrowhead\" d=\"M12320,1229.0 L12312,1217.0 12328,1217.0\" fill=\"currentColor\"/>\n",
              "</g>\n",
              "\n",
              "<g class=\"displacy-arrow\">\n",
              "    <path class=\"displacy-arc\" id=\"arrow-462b7d6f9ce44bfa8745565c0a8301ea-0-67\" stroke-width=\"2px\" d=\"M12145,1227.0 C12145,1052.0 12415.0,1052.0 12415.0,1227.0\" fill=\"none\" stroke=\"currentColor\"/>\n",
              "    <text dy=\"1.25em\" style=\"font-size: 0.8em; letter-spacing: 1px\">\n",
              "        <textPath xlink:href=\"#arrow-462b7d6f9ce44bfa8745565c0a8301ea-0-67\" class=\"displacy-label\" startOffset=\"50%\" side=\"left\" fill=\"currentColor\" text-anchor=\"middle\">dobj</textPath>\n",
              "    </text>\n",
              "    <path class=\"displacy-arrowhead\" d=\"M12415.0,1229.0 L12423.0,1217.0 12407.0,1217.0\" fill=\"currentColor\"/>\n",
              "</g>\n",
              "\n",
              "<g class=\"displacy-arrow\">\n",
              "    <path class=\"displacy-arc\" id=\"arrow-462b7d6f9ce44bfa8745565c0a8301ea-0-68\" stroke-width=\"2px\" d=\"M11795,1227.0 C11795,789.5 12605.0,789.5 12605.0,1227.0\" fill=\"none\" stroke=\"currentColor\"/>\n",
              "    <text dy=\"1.25em\" style=\"font-size: 0.8em; letter-spacing: 1px\">\n",
              "        <textPath xlink:href=\"#arrow-462b7d6f9ce44bfa8745565c0a8301ea-0-68\" class=\"displacy-label\" startOffset=\"50%\" side=\"left\" fill=\"currentColor\" text-anchor=\"middle\">cc</textPath>\n",
              "    </text>\n",
              "    <path class=\"displacy-arrowhead\" d=\"M12605.0,1229.0 L12613.0,1217.0 12597.0,1217.0\" fill=\"currentColor\"/>\n",
              "</g>\n",
              "\n",
              "<g class=\"displacy-arrow\">\n",
              "    <path class=\"displacy-arc\" id=\"arrow-462b7d6f9ce44bfa8745565c0a8301ea-0-69\" stroke-width=\"2px\" d=\"M11795,1227.0 C11795,702.0 12785.0,702.0 12785.0,1227.0\" fill=\"none\" stroke=\"currentColor\"/>\n",
              "    <text dy=\"1.25em\" style=\"font-size: 0.8em; letter-spacing: 1px\">\n",
              "        <textPath xlink:href=\"#arrow-462b7d6f9ce44bfa8745565c0a8301ea-0-69\" class=\"displacy-label\" startOffset=\"50%\" side=\"left\" fill=\"currentColor\" text-anchor=\"middle\">conj</textPath>\n",
              "    </text>\n",
              "    <path class=\"displacy-arrowhead\" d=\"M12785.0,1229.0 L12793.0,1217.0 12777.0,1217.0\" fill=\"currentColor\"/>\n",
              "</g>\n",
              "\n",
              "<g class=\"displacy-arrow\">\n",
              "    <path class=\"displacy-arc\" id=\"arrow-462b7d6f9ce44bfa8745565c0a8301ea-0-70\" stroke-width=\"2px\" d=\"M11270,1227.0 C11270,352.0 12980.0,352.0 12980.0,1227.0\" fill=\"none\" stroke=\"currentColor\"/>\n",
              "    <text dy=\"1.25em\" style=\"font-size: 0.8em; letter-spacing: 1px\">\n",
              "        <textPath xlink:href=\"#arrow-462b7d6f9ce44bfa8745565c0a8301ea-0-70\" class=\"displacy-label\" startOffset=\"50%\" side=\"left\" fill=\"currentColor\" text-anchor=\"middle\">cc</textPath>\n",
              "    </text>\n",
              "    <path class=\"displacy-arrowhead\" d=\"M12980.0,1229.0 L12988.0,1217.0 12972.0,1217.0\" fill=\"currentColor\"/>\n",
              "</g>\n",
              "\n",
              "<g class=\"displacy-arrow\">\n",
              "    <path class=\"displacy-arc\" id=\"arrow-462b7d6f9ce44bfa8745565c0a8301ea-0-71\" stroke-width=\"2px\" d=\"M11270,1227.0 C11270,264.5 13160.0,264.5 13160.0,1227.0\" fill=\"none\" stroke=\"currentColor\"/>\n",
              "    <text dy=\"1.25em\" style=\"font-size: 0.8em; letter-spacing: 1px\">\n",
              "        <textPath xlink:href=\"#arrow-462b7d6f9ce44bfa8745565c0a8301ea-0-71\" class=\"displacy-label\" startOffset=\"50%\" side=\"left\" fill=\"currentColor\" text-anchor=\"middle\">conj</textPath>\n",
              "    </text>\n",
              "    <path class=\"displacy-arrowhead\" d=\"M13160.0,1229.0 L13168.0,1217.0 13152.0,1217.0\" fill=\"currentColor\"/>\n",
              "</g>\n",
              "\n",
              "<g class=\"displacy-arrow\">\n",
              "    <path class=\"displacy-arc\" id=\"arrow-462b7d6f9ce44bfa8745565c0a8301ea-0-72\" stroke-width=\"2px\" d=\"M13195,1227.0 C13195,1139.5 13285.0,1139.5 13285.0,1227.0\" fill=\"none\" stroke=\"currentColor\"/>\n",
              "    <text dy=\"1.25em\" style=\"font-size: 0.8em; letter-spacing: 1px\">\n",
              "        <textPath xlink:href=\"#arrow-462b7d6f9ce44bfa8745565c0a8301ea-0-72\" class=\"displacy-label\" startOffset=\"50%\" side=\"left\" fill=\"currentColor\" text-anchor=\"middle\">cc</textPath>\n",
              "    </text>\n",
              "    <path class=\"displacy-arrowhead\" d=\"M13285.0,1229.0 L13293.0,1217.0 13277.0,1217.0\" fill=\"currentColor\"/>\n",
              "</g>\n",
              "\n",
              "<g class=\"displacy-arrow\">\n",
              "    <path class=\"displacy-arc\" id=\"arrow-462b7d6f9ce44bfa8745565c0a8301ea-0-73\" stroke-width=\"2px\" d=\"M13195,1227.0 C13195,1052.0 13465.0,1052.0 13465.0,1227.0\" fill=\"none\" stroke=\"currentColor\"/>\n",
              "    <text dy=\"1.25em\" style=\"font-size: 0.8em; letter-spacing: 1px\">\n",
              "        <textPath xlink:href=\"#arrow-462b7d6f9ce44bfa8745565c0a8301ea-0-73\" class=\"displacy-label\" startOffset=\"50%\" side=\"left\" fill=\"currentColor\" text-anchor=\"middle\">conj</textPath>\n",
              "    </text>\n",
              "    <path class=\"displacy-arrowhead\" d=\"M13465.0,1229.0 L13473.0,1217.0 13457.0,1217.0\" fill=\"currentColor\"/>\n",
              "</g>\n",
              "\n",
              "<g class=\"displacy-arrow\">\n",
              "    <path class=\"displacy-arc\" id=\"arrow-462b7d6f9ce44bfa8745565c0a8301ea-0-74\" stroke-width=\"2px\" d=\"M13720,1227.0 C13720,1139.5 13810.0,1139.5 13810.0,1227.0\" fill=\"none\" stroke=\"currentColor\"/>\n",
              "    <text dy=\"1.25em\" style=\"font-size: 0.8em; letter-spacing: 1px\">\n",
              "        <textPath xlink:href=\"#arrow-462b7d6f9ce44bfa8745565c0a8301ea-0-74\" class=\"displacy-label\" startOffset=\"50%\" side=\"left\" fill=\"currentColor\" text-anchor=\"middle\">poss</textPath>\n",
              "    </text>\n",
              "    <path class=\"displacy-arrowhead\" d=\"M13720,1229.0 L13712,1217.0 13728,1217.0\" fill=\"currentColor\"/>\n",
              "</g>\n",
              "\n",
              "<g class=\"displacy-arrow\">\n",
              "    <path class=\"displacy-arc\" id=\"arrow-462b7d6f9ce44bfa8745565c0a8301ea-0-75\" stroke-width=\"2px\" d=\"M13545,1227.0 C13545,1052.0 13815.0,1052.0 13815.0,1227.0\" fill=\"none\" stroke=\"currentColor\"/>\n",
              "    <text dy=\"1.25em\" style=\"font-size: 0.8em; letter-spacing: 1px\">\n",
              "        <textPath xlink:href=\"#arrow-462b7d6f9ce44bfa8745565c0a8301ea-0-75\" class=\"displacy-label\" startOffset=\"50%\" side=\"left\" fill=\"currentColor\" text-anchor=\"middle\">dobj</textPath>\n",
              "    </text>\n",
              "    <path class=\"displacy-arrowhead\" d=\"M13815.0,1229.0 L13823.0,1217.0 13807.0,1217.0\" fill=\"currentColor\"/>\n",
              "</g>\n",
              "\n",
              "<g class=\"displacy-arrow\">\n",
              "    <path class=\"displacy-arc\" id=\"arrow-462b7d6f9ce44bfa8745565c0a8301ea-0-76\" stroke-width=\"2px\" d=\"M13545,1227.0 C13545,964.5 13995.0,964.5 13995.0,1227.0\" fill=\"none\" stroke=\"currentColor\"/>\n",
              "    <text dy=\"1.25em\" style=\"font-size: 0.8em; letter-spacing: 1px\">\n",
              "        <textPath xlink:href=\"#arrow-462b7d6f9ce44bfa8745565c0a8301ea-0-76\" class=\"displacy-label\" startOffset=\"50%\" side=\"left\" fill=\"currentColor\" text-anchor=\"middle\">prep</textPath>\n",
              "    </text>\n",
              "    <path class=\"displacy-arrowhead\" d=\"M13995.0,1229.0 L14003.0,1217.0 13987.0,1217.0\" fill=\"currentColor\"/>\n",
              "</g>\n",
              "\n",
              "<g class=\"displacy-arrow\">\n",
              "    <path class=\"displacy-arc\" id=\"arrow-462b7d6f9ce44bfa8745565c0a8301ea-0-77\" stroke-width=\"2px\" d=\"M14245,1227.0 C14245,1139.5 14335.0,1139.5 14335.0,1227.0\" fill=\"none\" stroke=\"currentColor\"/>\n",
              "    <text dy=\"1.25em\" style=\"font-size: 0.8em; letter-spacing: 1px\">\n",
              "        <textPath xlink:href=\"#arrow-462b7d6f9ce44bfa8745565c0a8301ea-0-77\" class=\"displacy-label\" startOffset=\"50%\" side=\"left\" fill=\"currentColor\" text-anchor=\"middle\">det</textPath>\n",
              "    </text>\n",
              "    <path class=\"displacy-arrowhead\" d=\"M14245,1229.0 L14237,1217.0 14253,1217.0\" fill=\"currentColor\"/>\n",
              "</g>\n",
              "\n",
              "<g class=\"displacy-arrow\">\n",
              "    <path class=\"displacy-arc\" id=\"arrow-462b7d6f9ce44bfa8745565c0a8301ea-0-78\" stroke-width=\"2px\" d=\"M14070,1227.0 C14070,1052.0 14340.0,1052.0 14340.0,1227.0\" fill=\"none\" stroke=\"currentColor\"/>\n",
              "    <text dy=\"1.25em\" style=\"font-size: 0.8em; letter-spacing: 1px\">\n",
              "        <textPath xlink:href=\"#arrow-462b7d6f9ce44bfa8745565c0a8301ea-0-78\" class=\"displacy-label\" startOffset=\"50%\" side=\"left\" fill=\"currentColor\" text-anchor=\"middle\">pobj</textPath>\n",
              "    </text>\n",
              "    <path class=\"displacy-arrowhead\" d=\"M14340.0,1229.0 L14348.0,1217.0 14332.0,1217.0\" fill=\"currentColor\"/>\n",
              "</g>\n",
              "\n",
              "<g class=\"displacy-arrow\">\n",
              "    <path class=\"displacy-arc\" id=\"arrow-462b7d6f9ce44bfa8745565c0a8301ea-0-79\" stroke-width=\"2px\" d=\"M13195,1227.0 C13195,527.0 14545.0,527.0 14545.0,1227.0\" fill=\"none\" stroke=\"currentColor\"/>\n",
              "    <text dy=\"1.25em\" style=\"font-size: 0.8em; letter-spacing: 1px\">\n",
              "        <textPath xlink:href=\"#arrow-462b7d6f9ce44bfa8745565c0a8301ea-0-79\" class=\"displacy-label\" startOffset=\"50%\" side=\"left\" fill=\"currentColor\" text-anchor=\"middle\">cc</textPath>\n",
              "    </text>\n",
              "    <path class=\"displacy-arrowhead\" d=\"M14545.0,1229.0 L14553.0,1217.0 14537.0,1217.0\" fill=\"currentColor\"/>\n",
              "</g>\n",
              "\n",
              "<g class=\"displacy-arrow\">\n",
              "    <path class=\"displacy-arc\" id=\"arrow-462b7d6f9ce44bfa8745565c0a8301ea-0-80\" stroke-width=\"2px\" d=\"M14770,1227.0 C14770,1139.5 14860.0,1139.5 14860.0,1227.0\" fill=\"none\" stroke=\"currentColor\"/>\n",
              "    <text dy=\"1.25em\" style=\"font-size: 0.8em; letter-spacing: 1px\">\n",
              "        <textPath xlink:href=\"#arrow-462b7d6f9ce44bfa8745565c0a8301ea-0-80\" class=\"displacy-label\" startOffset=\"50%\" side=\"left\" fill=\"currentColor\" text-anchor=\"middle\">advmod</textPath>\n",
              "    </text>\n",
              "    <path class=\"displacy-arrowhead\" d=\"M14770,1229.0 L14762,1217.0 14778,1217.0\" fill=\"currentColor\"/>\n",
              "</g>\n",
              "\n",
              "<g class=\"displacy-arrow\">\n",
              "    <path class=\"displacy-arc\" id=\"arrow-462b7d6f9ce44bfa8745565c0a8301ea-0-81\" stroke-width=\"2px\" d=\"M13195,1227.0 C13195,352.0 14905.0,352.0 14905.0,1227.0\" fill=\"none\" stroke=\"currentColor\"/>\n",
              "    <text dy=\"1.25em\" style=\"font-size: 0.8em; letter-spacing: 1px\">\n",
              "        <textPath xlink:href=\"#arrow-462b7d6f9ce44bfa8745565c0a8301ea-0-81\" class=\"displacy-label\" startOffset=\"50%\" side=\"left\" fill=\"currentColor\" text-anchor=\"middle\">conj</textPath>\n",
              "    </text>\n",
              "    <path class=\"displacy-arrowhead\" d=\"M14905.0,1229.0 L14913.0,1217.0 14897.0,1217.0\" fill=\"currentColor\"/>\n",
              "</g>\n",
              "\n",
              "<g class=\"displacy-arrow\">\n",
              "    <path class=\"displacy-arc\" id=\"arrow-462b7d6f9ce44bfa8745565c0a8301ea-0-82\" stroke-width=\"2px\" d=\"M14945,1227.0 C14945,1139.5 15035.0,1139.5 15035.0,1227.0\" fill=\"none\" stroke=\"currentColor\"/>\n",
              "    <text dy=\"1.25em\" style=\"font-size: 0.8em; letter-spacing: 1px\">\n",
              "        <textPath xlink:href=\"#arrow-462b7d6f9ce44bfa8745565c0a8301ea-0-82\" class=\"displacy-label\" startOffset=\"50%\" side=\"left\" fill=\"currentColor\" text-anchor=\"middle\">acomp</textPath>\n",
              "    </text>\n",
              "    <path class=\"displacy-arrowhead\" d=\"M15035.0,1229.0 L15043.0,1217.0 15027.0,1217.0\" fill=\"currentColor\"/>\n",
              "</g>\n",
              "\n",
              "<g class=\"displacy-arrow\">\n",
              "    <path class=\"displacy-arc\" id=\"arrow-462b7d6f9ce44bfa8745565c0a8301ea-0-83\" stroke-width=\"2px\" d=\"M14945,1227.0 C14945,1052.0 15215.0,1052.0 15215.0,1227.0\" fill=\"none\" stroke=\"currentColor\"/>\n",
              "    <text dy=\"1.25em\" style=\"font-size: 0.8em; letter-spacing: 1px\">\n",
              "        <textPath xlink:href=\"#arrow-462b7d6f9ce44bfa8745565c0a8301ea-0-83\" class=\"displacy-label\" startOffset=\"50%\" side=\"left\" fill=\"currentColor\" text-anchor=\"middle\">prep</textPath>\n",
              "    </text>\n",
              "    <path class=\"displacy-arrowhead\" d=\"M15215.0,1229.0 L15223.0,1217.0 15207.0,1217.0\" fill=\"currentColor\"/>\n",
              "</g>\n",
              "\n",
              "<g class=\"displacy-arrow\">\n",
              "    <path class=\"displacy-arc\" id=\"arrow-462b7d6f9ce44bfa8745565c0a8301ea-0-84\" stroke-width=\"2px\" d=\"M15470,1227.0 C15470,1052.0 15740.0,1052.0 15740.0,1227.0\" fill=\"none\" stroke=\"currentColor\"/>\n",
              "    <text dy=\"1.25em\" style=\"font-size: 0.8em; letter-spacing: 1px\">\n",
              "        <textPath xlink:href=\"#arrow-462b7d6f9ce44bfa8745565c0a8301ea-0-84\" class=\"displacy-label\" startOffset=\"50%\" side=\"left\" fill=\"currentColor\" text-anchor=\"middle\">det</textPath>\n",
              "    </text>\n",
              "    <path class=\"displacy-arrowhead\" d=\"M15470,1229.0 L15462,1217.0 15478,1217.0\" fill=\"currentColor\"/>\n",
              "</g>\n",
              "\n",
              "<g class=\"displacy-arrow\">\n",
              "    <path class=\"displacy-arc\" id=\"arrow-462b7d6f9ce44bfa8745565c0a8301ea-0-85\" stroke-width=\"2px\" d=\"M15645,1227.0 C15645,1139.5 15735.0,1139.5 15735.0,1227.0\" fill=\"none\" stroke=\"currentColor\"/>\n",
              "    <text dy=\"1.25em\" style=\"font-size: 0.8em; letter-spacing: 1px\">\n",
              "        <textPath xlink:href=\"#arrow-462b7d6f9ce44bfa8745565c0a8301ea-0-85\" class=\"displacy-label\" startOffset=\"50%\" side=\"left\" fill=\"currentColor\" text-anchor=\"middle\">amod</textPath>\n",
              "    </text>\n",
              "    <path class=\"displacy-arrowhead\" d=\"M15645,1229.0 L15637,1217.0 15653,1217.0\" fill=\"currentColor\"/>\n",
              "</g>\n",
              "\n",
              "<g class=\"displacy-arrow\">\n",
              "    <path class=\"displacy-arc\" id=\"arrow-462b7d6f9ce44bfa8745565c0a8301ea-0-86\" stroke-width=\"2px\" d=\"M15295,1227.0 C15295,964.5 15745.0,964.5 15745.0,1227.0\" fill=\"none\" stroke=\"currentColor\"/>\n",
              "    <text dy=\"1.25em\" style=\"font-size: 0.8em; letter-spacing: 1px\">\n",
              "        <textPath xlink:href=\"#arrow-462b7d6f9ce44bfa8745565c0a8301ea-0-86\" class=\"displacy-label\" startOffset=\"50%\" side=\"left\" fill=\"currentColor\" text-anchor=\"middle\">pobj</textPath>\n",
              "    </text>\n",
              "    <path class=\"displacy-arrowhead\" d=\"M15745.0,1229.0 L15753.0,1217.0 15737.0,1217.0\" fill=\"currentColor\"/>\n",
              "</g>\n",
              "\n",
              "<g class=\"displacy-arrow\">\n",
              "    <path class=\"displacy-arc\" id=\"arrow-462b7d6f9ce44bfa8745565c0a8301ea-0-87\" stroke-width=\"2px\" d=\"M15995,1227.0 C15995,877.0 16625.0,877.0 16625.0,1227.0\" fill=\"none\" stroke=\"currentColor\"/>\n",
              "    <text dy=\"1.25em\" style=\"font-size: 0.8em; letter-spacing: 1px\">\n",
              "        <textPath xlink:href=\"#arrow-462b7d6f9ce44bfa8745565c0a8301ea-0-87\" class=\"displacy-label\" startOffset=\"50%\" side=\"left\" fill=\"currentColor\" text-anchor=\"middle\">advmod</textPath>\n",
              "    </text>\n",
              "    <path class=\"displacy-arrowhead\" d=\"M15995,1229.0 L15987,1217.0 16003,1217.0\" fill=\"currentColor\"/>\n",
              "</g>\n",
              "\n",
              "<g class=\"displacy-arrow\">\n",
              "    <path class=\"displacy-arc\" id=\"arrow-462b7d6f9ce44bfa8745565c0a8301ea-0-88\" stroke-width=\"2px\" d=\"M16170,1227.0 C16170,1052.0 16440.0,1052.0 16440.0,1227.0\" fill=\"none\" stroke=\"currentColor\"/>\n",
              "    <text dy=\"1.25em\" style=\"font-size: 0.8em; letter-spacing: 1px\">\n",
              "        <textPath xlink:href=\"#arrow-462b7d6f9ce44bfa8745565c0a8301ea-0-88\" class=\"displacy-label\" startOffset=\"50%\" side=\"left\" fill=\"currentColor\" text-anchor=\"middle\">det</textPath>\n",
              "    </text>\n",
              "    <path class=\"displacy-arrowhead\" d=\"M16170,1229.0 L16162,1217.0 16178,1217.0\" fill=\"currentColor\"/>\n",
              "</g>\n",
              "\n",
              "<g class=\"displacy-arrow\">\n",
              "    <path class=\"displacy-arc\" id=\"arrow-462b7d6f9ce44bfa8745565c0a8301ea-0-89\" stroke-width=\"2px\" d=\"M16345,1227.0 C16345,1139.5 16435.0,1139.5 16435.0,1227.0\" fill=\"none\" stroke=\"currentColor\"/>\n",
              "    <text dy=\"1.25em\" style=\"font-size: 0.8em; letter-spacing: 1px\">\n",
              "        <textPath xlink:href=\"#arrow-462b7d6f9ce44bfa8745565c0a8301ea-0-89\" class=\"displacy-label\" startOffset=\"50%\" side=\"left\" fill=\"currentColor\" text-anchor=\"middle\">amod</textPath>\n",
              "    </text>\n",
              "    <path class=\"displacy-arrowhead\" d=\"M16345,1229.0 L16337,1217.0 16353,1217.0\" fill=\"currentColor\"/>\n",
              "</g>\n",
              "\n",
              "<g class=\"displacy-arrow\">\n",
              "    <path class=\"displacy-arc\" id=\"arrow-462b7d6f9ce44bfa8745565c0a8301ea-0-90\" stroke-width=\"2px\" d=\"M16520,1227.0 C16520,1139.5 16610.0,1139.5 16610.0,1227.0\" fill=\"none\" stroke=\"currentColor\"/>\n",
              "    <text dy=\"1.25em\" style=\"font-size: 0.8em; letter-spacing: 1px\">\n",
              "        <textPath xlink:href=\"#arrow-462b7d6f9ce44bfa8745565c0a8301ea-0-90\" class=\"displacy-label\" startOffset=\"50%\" side=\"left\" fill=\"currentColor\" text-anchor=\"middle\">nsubj</textPath>\n",
              "    </text>\n",
              "    <path class=\"displacy-arrowhead\" d=\"M16520,1229.0 L16512,1217.0 16528,1217.0\" fill=\"currentColor\"/>\n",
              "</g>\n",
              "\n",
              "<g class=\"displacy-arrow\">\n",
              "    <path class=\"displacy-arc\" id=\"arrow-462b7d6f9ce44bfa8745565c0a8301ea-0-91\" stroke-width=\"2px\" d=\"M15820,1227.0 C15820,789.5 16630.0,789.5 16630.0,1227.0\" fill=\"none\" stroke=\"currentColor\"/>\n",
              "    <text dy=\"1.25em\" style=\"font-size: 0.8em; letter-spacing: 1px\">\n",
              "        <textPath xlink:href=\"#arrow-462b7d6f9ce44bfa8745565c0a8301ea-0-91\" class=\"displacy-label\" startOffset=\"50%\" side=\"left\" fill=\"currentColor\" text-anchor=\"middle\">relcl</textPath>\n",
              "    </text>\n",
              "    <path class=\"displacy-arrowhead\" d=\"M16630.0,1229.0 L16638.0,1217.0 16622.0,1217.0\" fill=\"currentColor\"/>\n",
              "</g>\n",
              "\n",
              "<g class=\"displacy-arrow\">\n",
              "    <path class=\"displacy-arc\" id=\"arrow-462b7d6f9ce44bfa8745565c0a8301ea-0-92\" stroke-width=\"2px\" d=\"M16695,1227.0 C16695,1139.5 16785.0,1139.5 16785.0,1227.0\" fill=\"none\" stroke=\"currentColor\"/>\n",
              "    <text dy=\"1.25em\" style=\"font-size: 0.8em; letter-spacing: 1px\">\n",
              "        <textPath xlink:href=\"#arrow-462b7d6f9ce44bfa8745565c0a8301ea-0-92\" class=\"displacy-label\" startOffset=\"50%\" side=\"left\" fill=\"currentColor\" text-anchor=\"middle\">agent</textPath>\n",
              "    </text>\n",
              "    <path class=\"displacy-arrowhead\" d=\"M16785.0,1229.0 L16793.0,1217.0 16777.0,1217.0\" fill=\"currentColor\"/>\n",
              "</g>\n",
              "\n",
              "<g class=\"displacy-arrow\">\n",
              "    <path class=\"displacy-arc\" id=\"arrow-462b7d6f9ce44bfa8745565c0a8301ea-0-93\" stroke-width=\"2px\" d=\"M17045,1227.0 C17045,1139.5 17135.0,1139.5 17135.0,1227.0\" fill=\"none\" stroke=\"currentColor\"/>\n",
              "    <text dy=\"1.25em\" style=\"font-size: 0.8em; letter-spacing: 1px\">\n",
              "        <textPath xlink:href=\"#arrow-462b7d6f9ce44bfa8745565c0a8301ea-0-93\" class=\"displacy-label\" startOffset=\"50%\" side=\"left\" fill=\"currentColor\" text-anchor=\"middle\">det</textPath>\n",
              "    </text>\n",
              "    <path class=\"displacy-arrowhead\" d=\"M17045,1229.0 L17037,1217.0 17053,1217.0\" fill=\"currentColor\"/>\n",
              "</g>\n",
              "\n",
              "<g class=\"displacy-arrow\">\n",
              "    <path class=\"displacy-arc\" id=\"arrow-462b7d6f9ce44bfa8745565c0a8301ea-0-94\" stroke-width=\"2px\" d=\"M16870,1227.0 C16870,1052.0 17140.0,1052.0 17140.0,1227.0\" fill=\"none\" stroke=\"currentColor\"/>\n",
              "    <text dy=\"1.25em\" style=\"font-size: 0.8em; letter-spacing: 1px\">\n",
              "        <textPath xlink:href=\"#arrow-462b7d6f9ce44bfa8745565c0a8301ea-0-94\" class=\"displacy-label\" startOffset=\"50%\" side=\"left\" fill=\"currentColor\" text-anchor=\"middle\">pobj</textPath>\n",
              "    </text>\n",
              "    <path class=\"displacy-arrowhead\" d=\"M17140.0,1229.0 L17148.0,1217.0 17132.0,1217.0\" fill=\"currentColor\"/>\n",
              "</g>\n",
              "\n",
              "<g class=\"displacy-arrow\">\n",
              "    <path class=\"displacy-arc\" id=\"arrow-462b7d6f9ce44bfa8745565c0a8301ea-0-95\" stroke-width=\"2px\" d=\"M17395,1227.0 C17395,1139.5 17485.0,1139.5 17485.0,1227.0\" fill=\"none\" stroke=\"currentColor\"/>\n",
              "    <text dy=\"1.25em\" style=\"font-size: 0.8em; letter-spacing: 1px\">\n",
              "        <textPath xlink:href=\"#arrow-462b7d6f9ce44bfa8745565c0a8301ea-0-95\" class=\"displacy-label\" startOffset=\"50%\" side=\"left\" fill=\"currentColor\" text-anchor=\"middle\">aux</textPath>\n",
              "    </text>\n",
              "    <path class=\"displacy-arrowhead\" d=\"M17395,1229.0 L17387,1217.0 17403,1217.0\" fill=\"currentColor\"/>\n",
              "</g>\n",
              "\n",
              "<g class=\"displacy-arrow\">\n",
              "    <path class=\"displacy-arc\" id=\"arrow-462b7d6f9ce44bfa8745565c0a8301ea-0-96\" stroke-width=\"2px\" d=\"M16695,1227.0 C16695,789.5 17505.0,789.5 17505.0,1227.0\" fill=\"none\" stroke=\"currentColor\"/>\n",
              "    <text dy=\"1.25em\" style=\"font-size: 0.8em; letter-spacing: 1px\">\n",
              "        <textPath xlink:href=\"#arrow-462b7d6f9ce44bfa8745565c0a8301ea-0-96\" class=\"displacy-label\" startOffset=\"50%\" side=\"left\" fill=\"currentColor\" text-anchor=\"middle\">advcl</textPath>\n",
              "    </text>\n",
              "    <path class=\"displacy-arrowhead\" d=\"M17505.0,1229.0 L17513.0,1217.0 17497.0,1217.0\" fill=\"currentColor\"/>\n",
              "</g>\n",
              "\n",
              "<g class=\"displacy-arrow\">\n",
              "    <path class=\"displacy-arc\" id=\"arrow-462b7d6f9ce44bfa8745565c0a8301ea-0-97\" stroke-width=\"2px\" d=\"M17570,1227.0 C17570,1139.5 17660.0,1139.5 17660.0,1227.0\" fill=\"none\" stroke=\"currentColor\"/>\n",
              "    <text dy=\"1.25em\" style=\"font-size: 0.8em; letter-spacing: 1px\">\n",
              "        <textPath xlink:href=\"#arrow-462b7d6f9ce44bfa8745565c0a8301ea-0-97\" class=\"displacy-label\" startOffset=\"50%\" side=\"left\" fill=\"currentColor\" text-anchor=\"middle\">dative</textPath>\n",
              "    </text>\n",
              "    <path class=\"displacy-arrowhead\" d=\"M17660.0,1229.0 L17668.0,1217.0 17652.0,1217.0\" fill=\"currentColor\"/>\n",
              "</g>\n",
              "\n",
              "<g class=\"displacy-arrow\">\n",
              "    <path class=\"displacy-arc\" id=\"arrow-462b7d6f9ce44bfa8745565c0a8301ea-0-98\" stroke-width=\"2px\" d=\"M17920,1227.0 C17920,1139.5 18010.0,1139.5 18010.0,1227.0\" fill=\"none\" stroke=\"currentColor\"/>\n",
              "    <text dy=\"1.25em\" style=\"font-size: 0.8em; letter-spacing: 1px\">\n",
              "        <textPath xlink:href=\"#arrow-462b7d6f9ce44bfa8745565c0a8301ea-0-98\" class=\"displacy-label\" startOffset=\"50%\" side=\"left\" fill=\"currentColor\" text-anchor=\"middle\">det</textPath>\n",
              "    </text>\n",
              "    <path class=\"displacy-arrowhead\" d=\"M17920,1229.0 L17912,1217.0 17928,1217.0\" fill=\"currentColor\"/>\n",
              "</g>\n",
              "\n",
              "<g class=\"displacy-arrow\">\n",
              "    <path class=\"displacy-arc\" id=\"arrow-462b7d6f9ce44bfa8745565c0a8301ea-0-99\" stroke-width=\"2px\" d=\"M11270,1227.0 C11270,2.0 18075.0,2.0 18075.0,1227.0\" fill=\"none\" stroke=\"currentColor\"/>\n",
              "    <text dy=\"1.25em\" style=\"font-size: 0.8em; letter-spacing: 1px\">\n",
              "        <textPath xlink:href=\"#arrow-462b7d6f9ce44bfa8745565c0a8301ea-0-99\" class=\"displacy-label\" startOffset=\"50%\" side=\"left\" fill=\"currentColor\" text-anchor=\"middle\">punct</textPath>\n",
              "    </text>\n",
              "    <path class=\"displacy-arrowhead\" d=\"M18075.0,1229.0 L18083.0,1217.0 18067.0,1217.0\" fill=\"currentColor\"/>\n",
              "</g>\n",
              "\n",
              "<g class=\"displacy-arrow\">\n",
              "    <path class=\"displacy-arc\" id=\"arrow-462b7d6f9ce44bfa8745565c0a8301ea-0-100\" stroke-width=\"2px\" d=\"M18095,1227.0 C18095,1139.5 18185.0,1139.5 18185.0,1227.0\" fill=\"none\" stroke=\"currentColor\"/>\n",
              "    <text dy=\"1.25em\" style=\"font-size: 0.8em; letter-spacing: 1px\">\n",
              "        <textPath xlink:href=\"#arrow-462b7d6f9ce44bfa8745565c0a8301ea-0-100\" class=\"displacy-label\" startOffset=\"50%\" side=\"left\" fill=\"currentColor\" text-anchor=\"middle\"></textPath>\n",
              "    </text>\n",
              "    <path class=\"displacy-arrowhead\" d=\"M18185.0,1229.0 L18193.0,1217.0 18177.0,1217.0\" fill=\"currentColor\"/>\n",
              "</g>\n",
              "\n",
              "<g class=\"displacy-arrow\">\n",
              "    <path class=\"displacy-arc\" id=\"arrow-462b7d6f9ce44bfa8745565c0a8301ea-0-101\" stroke-width=\"2px\" d=\"M18620,1227.0 C18620,964.5 19070.0,964.5 19070.0,1227.0\" fill=\"none\" stroke=\"currentColor\"/>\n",
              "    <text dy=\"1.25em\" style=\"font-size: 0.8em; letter-spacing: 1px\">\n",
              "        <textPath xlink:href=\"#arrow-462b7d6f9ce44bfa8745565c0a8301ea-0-101\" class=\"displacy-label\" startOffset=\"50%\" side=\"left\" fill=\"currentColor\" text-anchor=\"middle\">advmod</textPath>\n",
              "    </text>\n",
              "    <path class=\"displacy-arrowhead\" d=\"M18620,1229.0 L18612,1217.0 18628,1217.0\" fill=\"currentColor\"/>\n",
              "</g>\n",
              "\n",
              "<g class=\"displacy-arrow\">\n",
              "    <path class=\"displacy-arc\" id=\"arrow-462b7d6f9ce44bfa8745565c0a8301ea-0-102\" stroke-width=\"2px\" d=\"M18795,1227.0 C18795,1052.0 19065.0,1052.0 19065.0,1227.0\" fill=\"none\" stroke=\"currentColor\"/>\n",
              "    <text dy=\"1.25em\" style=\"font-size: 0.8em; letter-spacing: 1px\">\n",
              "        <textPath xlink:href=\"#arrow-462b7d6f9ce44bfa8745565c0a8301ea-0-102\" class=\"displacy-label\" startOffset=\"50%\" side=\"left\" fill=\"currentColor\" text-anchor=\"middle\">predet</textPath>\n",
              "    </text>\n",
              "    <path class=\"displacy-arrowhead\" d=\"M18795,1229.0 L18787,1217.0 18803,1217.0\" fill=\"currentColor\"/>\n",
              "</g>\n",
              "\n",
              "<g class=\"displacy-arrow\">\n",
              "    <path class=\"displacy-arc\" id=\"arrow-462b7d6f9ce44bfa8745565c0a8301ea-0-103\" stroke-width=\"2px\" d=\"M18970,1227.0 C18970,1139.5 19060.0,1139.5 19060.0,1227.0\" fill=\"none\" stroke=\"currentColor\"/>\n",
              "    <text dy=\"1.25em\" style=\"font-size: 0.8em; letter-spacing: 1px\">\n",
              "        <textPath xlink:href=\"#arrow-462b7d6f9ce44bfa8745565c0a8301ea-0-103\" class=\"displacy-label\" startOffset=\"50%\" side=\"left\" fill=\"currentColor\" text-anchor=\"middle\">det</textPath>\n",
              "    </text>\n",
              "    <path class=\"displacy-arrowhead\" d=\"M18970,1229.0 L18962,1217.0 18978,1217.0\" fill=\"currentColor\"/>\n",
              "</g>\n",
              "\n",
              "<g class=\"displacy-arrow\">\n",
              "    <path class=\"displacy-arc\" id=\"arrow-462b7d6f9ce44bfa8745565c0a8301ea-0-104\" stroke-width=\"2px\" d=\"M18445,1227.0 C18445,877.0 19075.0,877.0 19075.0,1227.0\" fill=\"none\" stroke=\"currentColor\"/>\n",
              "    <text dy=\"1.25em\" style=\"font-size: 0.8em; letter-spacing: 1px\">\n",
              "        <textPath xlink:href=\"#arrow-462b7d6f9ce44bfa8745565c0a8301ea-0-104\" class=\"displacy-label\" startOffset=\"50%\" side=\"left\" fill=\"currentColor\" text-anchor=\"middle\">pobj</textPath>\n",
              "    </text>\n",
              "    <path class=\"displacy-arrowhead\" d=\"M19075.0,1229.0 L19083.0,1217.0 19067.0,1217.0\" fill=\"currentColor\"/>\n",
              "</g>\n",
              "\n",
              "<g class=\"displacy-arrow\">\n",
              "    <path class=\"displacy-arc\" id=\"arrow-462b7d6f9ce44bfa8745565c0a8301ea-0-105\" stroke-width=\"2px\" d=\"M19320,1227.0 C19320,439.5 20850.0,439.5 20850.0,1227.0\" fill=\"none\" stroke=\"currentColor\"/>\n",
              "    <text dy=\"1.25em\" style=\"font-size: 0.8em; letter-spacing: 1px\">\n",
              "        <textPath xlink:href=\"#arrow-462b7d6f9ce44bfa8745565c0a8301ea-0-105\" class=\"displacy-label\" startOffset=\"50%\" side=\"left\" fill=\"currentColor\" text-anchor=\"middle\">mark</textPath>\n",
              "    </text>\n",
              "    <path class=\"displacy-arrowhead\" d=\"M19320,1229.0 L19312,1217.0 19328,1217.0\" fill=\"currentColor\"/>\n",
              "</g>\n",
              "\n",
              "<g class=\"displacy-arrow\">\n",
              "    <path class=\"displacy-arc\" id=\"arrow-462b7d6f9ce44bfa8745565c0a8301ea-0-106\" stroke-width=\"2px\" d=\"M19495,1227.0 C19495,1052.0 19765.0,1052.0 19765.0,1227.0\" fill=\"none\" stroke=\"currentColor\"/>\n",
              "    <text dy=\"1.25em\" style=\"font-size: 0.8em; letter-spacing: 1px\">\n",
              "        <textPath xlink:href=\"#arrow-462b7d6f9ce44bfa8745565c0a8301ea-0-106\" class=\"displacy-label\" startOffset=\"50%\" side=\"left\" fill=\"currentColor\" text-anchor=\"middle\">det</textPath>\n",
              "    </text>\n",
              "    <path class=\"displacy-arrowhead\" d=\"M19495,1229.0 L19487,1217.0 19503,1217.0\" fill=\"currentColor\"/>\n",
              "</g>\n",
              "\n",
              "<g class=\"displacy-arrow\">\n",
              "    <path class=\"displacy-arc\" id=\"arrow-462b7d6f9ce44bfa8745565c0a8301ea-0-107\" stroke-width=\"2px\" d=\"M19670,1227.0 C19670,1139.5 19760.0,1139.5 19760.0,1227.0\" fill=\"none\" stroke=\"currentColor\"/>\n",
              "    <text dy=\"1.25em\" style=\"font-size: 0.8em; letter-spacing: 1px\">\n",
              "        <textPath xlink:href=\"#arrow-462b7d6f9ce44bfa8745565c0a8301ea-0-107\" class=\"displacy-label\" startOffset=\"50%\" side=\"left\" fill=\"currentColor\" text-anchor=\"middle\">det</textPath>\n",
              "    </text>\n",
              "    <path class=\"displacy-arrowhead\" d=\"M19670,1229.0 L19662,1217.0 19678,1217.0\" fill=\"currentColor\"/>\n",
              "</g>\n",
              "\n",
              "<g class=\"displacy-arrow\">\n",
              "    <path class=\"displacy-arc\" id=\"arrow-462b7d6f9ce44bfa8745565c0a8301ea-0-108\" stroke-width=\"2px\" d=\"M19845,1227.0 C19845,702.0 20835.0,702.0 20835.0,1227.0\" fill=\"none\" stroke=\"currentColor\"/>\n",
              "    <text dy=\"1.25em\" style=\"font-size: 0.8em; letter-spacing: 1px\">\n",
              "        <textPath xlink:href=\"#arrow-462b7d6f9ce44bfa8745565c0a8301ea-0-108\" class=\"displacy-label\" startOffset=\"50%\" side=\"left\" fill=\"currentColor\" text-anchor=\"middle\">nsubjpass</textPath>\n",
              "    </text>\n",
              "    <path class=\"displacy-arrowhead\" d=\"M19845,1229.0 L19837,1217.0 19853,1217.0\" fill=\"currentColor\"/>\n",
              "</g>\n",
              "\n",
              "<g class=\"displacy-arrow\">\n",
              "    <path class=\"displacy-arc\" id=\"arrow-462b7d6f9ce44bfa8745565c0a8301ea-0-109\" stroke-width=\"2px\" d=\"M20020,1227.0 C20020,1052.0 20290.0,1052.0 20290.0,1227.0\" fill=\"none\" stroke=\"currentColor\"/>\n",
              "    <text dy=\"1.25em\" style=\"font-size: 0.8em; letter-spacing: 1px\">\n",
              "        <textPath xlink:href=\"#arrow-462b7d6f9ce44bfa8745565c0a8301ea-0-109\" class=\"displacy-label\" startOffset=\"50%\" side=\"left\" fill=\"currentColor\" text-anchor=\"middle\">nsubj</textPath>\n",
              "    </text>\n",
              "    <path class=\"displacy-arrowhead\" d=\"M20020,1229.0 L20012,1217.0 20028,1217.0\" fill=\"currentColor\"/>\n",
              "</g>\n",
              "\n",
              "<g class=\"displacy-arrow\">\n",
              "    <path class=\"displacy-arc\" id=\"arrow-462b7d6f9ce44bfa8745565c0a8301ea-0-110\" stroke-width=\"2px\" d=\"M20195,1227.0 C20195,1139.5 20285.0,1139.5 20285.0,1227.0\" fill=\"none\" stroke=\"currentColor\"/>\n",
              "    <text dy=\"1.25em\" style=\"font-size: 0.8em; letter-spacing: 1px\">\n",
              "        <textPath xlink:href=\"#arrow-462b7d6f9ce44bfa8745565c0a8301ea-0-110\" class=\"displacy-label\" startOffset=\"50%\" side=\"left\" fill=\"currentColor\" text-anchor=\"middle\">aux</textPath>\n",
              "    </text>\n",
              "    <path class=\"displacy-arrowhead\" d=\"M20195,1229.0 L20187,1217.0 20203,1217.0\" fill=\"currentColor\"/>\n",
              "</g>\n",
              "\n",
              "<g class=\"displacy-arrow\">\n",
              "    <path class=\"displacy-arc\" id=\"arrow-462b7d6f9ce44bfa8745565c0a8301ea-0-111\" stroke-width=\"2px\" d=\"M19845,1227.0 C19845,964.5 20295.0,964.5 20295.0,1227.0\" fill=\"none\" stroke=\"currentColor\"/>\n",
              "    <text dy=\"1.25em\" style=\"font-size: 0.8em; letter-spacing: 1px\">\n",
              "        <textPath xlink:href=\"#arrow-462b7d6f9ce44bfa8745565c0a8301ea-0-111\" class=\"displacy-label\" startOffset=\"50%\" side=\"left\" fill=\"currentColor\" text-anchor=\"middle\">relcl</textPath>\n",
              "    </text>\n",
              "    <path class=\"displacy-arrowhead\" d=\"M20295.0,1229.0 L20303.0,1217.0 20287.0,1217.0\" fill=\"currentColor\"/>\n",
              "</g>\n",
              "\n",
              "<g class=\"displacy-arrow\">\n",
              "    <path class=\"displacy-arc\" id=\"arrow-462b7d6f9ce44bfa8745565c0a8301ea-0-112\" stroke-width=\"2px\" d=\"M20370,1227.0 C20370,1139.5 20460.0,1139.5 20460.0,1227.0\" fill=\"none\" stroke=\"currentColor\"/>\n",
              "    <text dy=\"1.25em\" style=\"font-size: 0.8em; letter-spacing: 1px\">\n",
              "        <textPath xlink:href=\"#arrow-462b7d6f9ce44bfa8745565c0a8301ea-0-112\" class=\"displacy-label\" startOffset=\"50%\" side=\"left\" fill=\"currentColor\" text-anchor=\"middle\">dobj</textPath>\n",
              "    </text>\n",
              "    <path class=\"displacy-arrowhead\" d=\"M20460.0,1229.0 L20468.0,1217.0 20452.0,1217.0\" fill=\"currentColor\"/>\n",
              "</g>\n",
              "\n",
              "<g class=\"displacy-arrow\">\n",
              "    <path class=\"displacy-arc\" id=\"arrow-462b7d6f9ce44bfa8745565c0a8301ea-0-113\" stroke-width=\"2px\" d=\"M20720,1227.0 C20720,1139.5 20810.0,1139.5 20810.0,1227.0\" fill=\"none\" stroke=\"currentColor\"/>\n",
              "    <text dy=\"1.25em\" style=\"font-size: 0.8em; letter-spacing: 1px\">\n",
              "        <textPath xlink:href=\"#arrow-462b7d6f9ce44bfa8745565c0a8301ea-0-113\" class=\"displacy-label\" startOffset=\"50%\" side=\"left\" fill=\"currentColor\" text-anchor=\"middle\">auxpass</textPath>\n",
              "    </text>\n",
              "    <path class=\"displacy-arrowhead\" d=\"M20720,1229.0 L20712,1217.0 20728,1217.0\" fill=\"currentColor\"/>\n",
              "</g>\n",
              "\n",
              "<g class=\"displacy-arrow\">\n",
              "    <path class=\"displacy-arc\" id=\"arrow-462b7d6f9ce44bfa8745565c0a8301ea-0-114\" stroke-width=\"2px\" d=\"M19145,1227.0 C19145,352.0 20855.0,352.0 20855.0,1227.0\" fill=\"none\" stroke=\"currentColor\"/>\n",
              "    <text dy=\"1.25em\" style=\"font-size: 0.8em; letter-spacing: 1px\">\n",
              "        <textPath xlink:href=\"#arrow-462b7d6f9ce44bfa8745565c0a8301ea-0-114\" class=\"displacy-label\" startOffset=\"50%\" side=\"left\" fill=\"currentColor\" text-anchor=\"middle\">advcl</textPath>\n",
              "    </text>\n",
              "    <path class=\"displacy-arrowhead\" d=\"M20855.0,1229.0 L20863.0,1217.0 20847.0,1217.0\" fill=\"currentColor\"/>\n",
              "</g>\n",
              "\n",
              "<g class=\"displacy-arrow\">\n",
              "    <path class=\"displacy-arc\" id=\"arrow-462b7d6f9ce44bfa8745565c0a8301ea-0-115\" stroke-width=\"2px\" d=\"M21070,1227.0 C21070,177.0 23140.0,177.0 23140.0,1227.0\" fill=\"none\" stroke=\"currentColor\"/>\n",
              "    <text dy=\"1.25em\" style=\"font-size: 0.8em; letter-spacing: 1px\">\n",
              "        <textPath xlink:href=\"#arrow-462b7d6f9ce44bfa8745565c0a8301ea-0-115\" class=\"displacy-label\" startOffset=\"50%\" side=\"left\" fill=\"currentColor\" text-anchor=\"middle\">dep</textPath>\n",
              "    </text>\n",
              "    <path class=\"displacy-arrowhead\" d=\"M21070,1229.0 L21062,1217.0 21078,1217.0\" fill=\"currentColor\"/>\n",
              "</g>\n",
              "\n",
              "<g class=\"displacy-arrow\">\n",
              "    <path class=\"displacy-arc\" id=\"arrow-462b7d6f9ce44bfa8745565c0a8301ea-0-116\" stroke-width=\"2px\" d=\"M21070,1227.0 C21070,1139.5 21160.0,1139.5 21160.0,1227.0\" fill=\"none\" stroke=\"currentColor\"/>\n",
              "    <text dy=\"1.25em\" style=\"font-size: 0.8em; letter-spacing: 1px\">\n",
              "        <textPath xlink:href=\"#arrow-462b7d6f9ce44bfa8745565c0a8301ea-0-116\" class=\"displacy-label\" startOffset=\"50%\" side=\"left\" fill=\"currentColor\" text-anchor=\"middle\">prep</textPath>\n",
              "    </text>\n",
              "    <path class=\"displacy-arrowhead\" d=\"M21160.0,1229.0 L21168.0,1217.0 21152.0,1217.0\" fill=\"currentColor\"/>\n",
              "</g>\n",
              "\n",
              "<g class=\"displacy-arrow\">\n",
              "    <path class=\"displacy-arc\" id=\"arrow-462b7d6f9ce44bfa8745565c0a8301ea-0-117\" stroke-width=\"2px\" d=\"M21420,1227.0 C21420,1139.5 21510.0,1139.5 21510.0,1227.0\" fill=\"none\" stroke=\"currentColor\"/>\n",
              "    <text dy=\"1.25em\" style=\"font-size: 0.8em; letter-spacing: 1px\">\n",
              "        <textPath xlink:href=\"#arrow-462b7d6f9ce44bfa8745565c0a8301ea-0-117\" class=\"displacy-label\" startOffset=\"50%\" side=\"left\" fill=\"currentColor\" text-anchor=\"middle\">nummod</textPath>\n",
              "    </text>\n",
              "    <path class=\"displacy-arrowhead\" d=\"M21420,1229.0 L21412,1217.0 21428,1217.0\" fill=\"currentColor\"/>\n",
              "</g>\n",
              "\n",
              "<g class=\"displacy-arrow\">\n",
              "    <path class=\"displacy-arc\" id=\"arrow-462b7d6f9ce44bfa8745565c0a8301ea-0-118\" stroke-width=\"2px\" d=\"M21245,1227.0 C21245,1052.0 21515.0,1052.0 21515.0,1227.0\" fill=\"none\" stroke=\"currentColor\"/>\n",
              "    <text dy=\"1.25em\" style=\"font-size: 0.8em; letter-spacing: 1px\">\n",
              "        <textPath xlink:href=\"#arrow-462b7d6f9ce44bfa8745565c0a8301ea-0-118\" class=\"displacy-label\" startOffset=\"50%\" side=\"left\" fill=\"currentColor\" text-anchor=\"middle\">pobj</textPath>\n",
              "    </text>\n",
              "    <path class=\"displacy-arrowhead\" d=\"M21515.0,1229.0 L21523.0,1217.0 21507.0,1217.0\" fill=\"currentColor\"/>\n",
              "</g>\n",
              "\n",
              "<g class=\"displacy-arrow\">\n",
              "    <path class=\"displacy-arc\" id=\"arrow-462b7d6f9ce44bfa8745565c0a8301ea-0-119\" stroke-width=\"2px\" d=\"M21070,1227.0 C21070,877.0 21700.0,877.0 21700.0,1227.0\" fill=\"none\" stroke=\"currentColor\"/>\n",
              "    <text dy=\"1.25em\" style=\"font-size: 0.8em; letter-spacing: 1px\">\n",
              "        <textPath xlink:href=\"#arrow-462b7d6f9ce44bfa8745565c0a8301ea-0-119\" class=\"displacy-label\" startOffset=\"50%\" side=\"left\" fill=\"currentColor\" text-anchor=\"middle\">cc</textPath>\n",
              "    </text>\n",
              "    <path class=\"displacy-arrowhead\" d=\"M21700.0,1229.0 L21708.0,1217.0 21692.0,1217.0\" fill=\"currentColor\"/>\n",
              "</g>\n",
              "\n",
              "<g class=\"displacy-arrow\">\n",
              "    <path class=\"displacy-arc\" id=\"arrow-462b7d6f9ce44bfa8745565c0a8301ea-0-120\" stroke-width=\"2px\" d=\"M21070,1227.0 C21070,789.5 21880.0,789.5 21880.0,1227.0\" fill=\"none\" stroke=\"currentColor\"/>\n",
              "    <text dy=\"1.25em\" style=\"font-size: 0.8em; letter-spacing: 1px\">\n",
              "        <textPath xlink:href=\"#arrow-462b7d6f9ce44bfa8745565c0a8301ea-0-120\" class=\"displacy-label\" startOffset=\"50%\" side=\"left\" fill=\"currentColor\" text-anchor=\"middle\">conj</textPath>\n",
              "    </text>\n",
              "    <path class=\"displacy-arrowhead\" d=\"M21880.0,1229.0 L21888.0,1217.0 21872.0,1217.0\" fill=\"currentColor\"/>\n",
              "</g>\n",
              "\n",
              "<g class=\"displacy-arrow\">\n",
              "    <path class=\"displacy-arc\" id=\"arrow-462b7d6f9ce44bfa8745565c0a8301ea-0-121\" stroke-width=\"2px\" d=\"M21945,1227.0 C21945,1139.5 22035.0,1139.5 22035.0,1227.0\" fill=\"none\" stroke=\"currentColor\"/>\n",
              "    <text dy=\"1.25em\" style=\"font-size: 0.8em; letter-spacing: 1px\">\n",
              "        <textPath xlink:href=\"#arrow-462b7d6f9ce44bfa8745565c0a8301ea-0-121\" class=\"displacy-label\" startOffset=\"50%\" side=\"left\" fill=\"currentColor\" text-anchor=\"middle\">prep</textPath>\n",
              "    </text>\n",
              "    <path class=\"displacy-arrowhead\" d=\"M22035.0,1229.0 L22043.0,1217.0 22027.0,1217.0\" fill=\"currentColor\"/>\n",
              "</g>\n",
              "\n",
              "<g class=\"displacy-arrow\">\n",
              "    <path class=\"displacy-arc\" id=\"arrow-462b7d6f9ce44bfa8745565c0a8301ea-0-122\" stroke-width=\"2px\" d=\"M22295,1227.0 C22295,1139.5 22385.0,1139.5 22385.0,1227.0\" fill=\"none\" stroke=\"currentColor\"/>\n",
              "    <text dy=\"1.25em\" style=\"font-size: 0.8em; letter-spacing: 1px\">\n",
              "        <textPath xlink:href=\"#arrow-462b7d6f9ce44bfa8745565c0a8301ea-0-122\" class=\"displacy-label\" startOffset=\"50%\" side=\"left\" fill=\"currentColor\" text-anchor=\"middle\">det</textPath>\n",
              "    </text>\n",
              "    <path class=\"displacy-arrowhead\" d=\"M22295,1229.0 L22287,1217.0 22303,1217.0\" fill=\"currentColor\"/>\n",
              "</g>\n",
              "\n",
              "<g class=\"displacy-arrow\">\n",
              "    <path class=\"displacy-arc\" id=\"arrow-462b7d6f9ce44bfa8745565c0a8301ea-0-123\" stroke-width=\"2px\" d=\"M22120,1227.0 C22120,1052.0 22390.0,1052.0 22390.0,1227.0\" fill=\"none\" stroke=\"currentColor\"/>\n",
              "    <text dy=\"1.25em\" style=\"font-size: 0.8em; letter-spacing: 1px\">\n",
              "        <textPath xlink:href=\"#arrow-462b7d6f9ce44bfa8745565c0a8301ea-0-123\" class=\"displacy-label\" startOffset=\"50%\" side=\"left\" fill=\"currentColor\" text-anchor=\"middle\">pobj</textPath>\n",
              "    </text>\n",
              "    <path class=\"displacy-arrowhead\" d=\"M22390.0,1229.0 L22398.0,1217.0 22382.0,1217.0\" fill=\"currentColor\"/>\n",
              "</g>\n",
              "\n",
              "<g class=\"displacy-arrow\">\n",
              "    <path class=\"displacy-arc\" id=\"arrow-462b7d6f9ce44bfa8745565c0a8301ea-0-124\" stroke-width=\"2px\" d=\"M22645,1227.0 C22645,1139.5 22735.0,1139.5 22735.0,1227.0\" fill=\"none\" stroke=\"currentColor\"/>\n",
              "    <text dy=\"1.25em\" style=\"font-size: 0.8em; letter-spacing: 1px\">\n",
              "        <textPath xlink:href=\"#arrow-462b7d6f9ce44bfa8745565c0a8301ea-0-124\" class=\"displacy-label\" startOffset=\"50%\" side=\"left\" fill=\"currentColor\" text-anchor=\"middle\">amod</textPath>\n",
              "    </text>\n",
              "    <path class=\"displacy-arrowhead\" d=\"M22645,1229.0 L22637,1217.0 22653,1217.0\" fill=\"currentColor\"/>\n",
              "</g>\n",
              "\n",
              "<g class=\"displacy-arrow\">\n",
              "    <path class=\"displacy-arc\" id=\"arrow-462b7d6f9ce44bfa8745565c0a8301ea-0-125\" stroke-width=\"2px\" d=\"M22820,1227.0 C22820,1052.0 23090.0,1052.0 23090.0,1227.0\" fill=\"none\" stroke=\"currentColor\"/>\n",
              "    <text dy=\"1.25em\" style=\"font-size: 0.8em; letter-spacing: 1px\">\n",
              "        <textPath xlink:href=\"#arrow-462b7d6f9ce44bfa8745565c0a8301ea-0-125\" class=\"displacy-label\" startOffset=\"50%\" side=\"left\" fill=\"currentColor\" text-anchor=\"middle\">nsubj</textPath>\n",
              "    </text>\n",
              "    <path class=\"displacy-arrowhead\" d=\"M22820,1229.0 L22812,1217.0 22828,1217.0\" fill=\"currentColor\"/>\n",
              "</g>\n",
              "\n",
              "<g class=\"displacy-arrow\">\n",
              "    <path class=\"displacy-arc\" id=\"arrow-462b7d6f9ce44bfa8745565c0a8301ea-0-126\" stroke-width=\"2px\" d=\"M22820,1227.0 C22820,1139.5 22910.0,1139.5 22910.0,1227.0\" fill=\"none\" stroke=\"currentColor\"/>\n",
              "    <text dy=\"1.25em\" style=\"font-size: 0.8em; letter-spacing: 1px\">\n",
              "        <textPath xlink:href=\"#arrow-462b7d6f9ce44bfa8745565c0a8301ea-0-126\" class=\"displacy-label\" startOffset=\"50%\" side=\"left\" fill=\"currentColor\" text-anchor=\"middle\">advmod</textPath>\n",
              "    </text>\n",
              "    <path class=\"displacy-arrowhead\" d=\"M22910.0,1229.0 L22918.0,1217.0 22902.0,1217.0\" fill=\"currentColor\"/>\n",
              "</g>\n",
              "\n",
              "<g class=\"displacy-arrow\">\n",
              "    <path class=\"displacy-arc\" id=\"arrow-462b7d6f9ce44bfa8745565c0a8301ea-0-127\" stroke-width=\"2px\" d=\"M23345,1227.0 C23345,1139.5 23435.0,1139.5 23435.0,1227.0\" fill=\"none\" stroke=\"currentColor\"/>\n",
              "    <text dy=\"1.25em\" style=\"font-size: 0.8em; letter-spacing: 1px\">\n",
              "        <textPath xlink:href=\"#arrow-462b7d6f9ce44bfa8745565c0a8301ea-0-127\" class=\"displacy-label\" startOffset=\"50%\" side=\"left\" fill=\"currentColor\" text-anchor=\"middle\">det</textPath>\n",
              "    </text>\n",
              "    <path class=\"displacy-arrowhead\" d=\"M23345,1229.0 L23337,1217.0 23353,1217.0\" fill=\"currentColor\"/>\n",
              "</g>\n",
              "\n",
              "<g class=\"displacy-arrow\">\n",
              "    <path class=\"displacy-arc\" id=\"arrow-462b7d6f9ce44bfa8745565c0a8301ea-0-128\" stroke-width=\"2px\" d=\"M23170,1227.0 C23170,1052.0 23440.0,1052.0 23440.0,1227.0\" fill=\"none\" stroke=\"currentColor\"/>\n",
              "    <text dy=\"1.25em\" style=\"font-size: 0.8em; letter-spacing: 1px\">\n",
              "        <textPath xlink:href=\"#arrow-462b7d6f9ce44bfa8745565c0a8301ea-0-128\" class=\"displacy-label\" startOffset=\"50%\" side=\"left\" fill=\"currentColor\" text-anchor=\"middle\">dobj</textPath>\n",
              "    </text>\n",
              "    <path class=\"displacy-arrowhead\" d=\"M23440.0,1229.0 L23448.0,1217.0 23432.0,1217.0\" fill=\"currentColor\"/>\n",
              "</g>\n",
              "\n",
              "<g class=\"displacy-arrow\">\n",
              "    <path class=\"displacy-arc\" id=\"arrow-462b7d6f9ce44bfa8745565c0a8301ea-0-129\" stroke-width=\"2px\" d=\"M23695,1227.0 C23695,964.5 24145.0,964.5 24145.0,1227.0\" fill=\"none\" stroke=\"currentColor\"/>\n",
              "    <text dy=\"1.25em\" style=\"font-size: 0.8em; letter-spacing: 1px\">\n",
              "        <textPath xlink:href=\"#arrow-462b7d6f9ce44bfa8745565c0a8301ea-0-129\" class=\"displacy-label\" startOffset=\"50%\" side=\"left\" fill=\"currentColor\" text-anchor=\"middle\">amod</textPath>\n",
              "    </text>\n",
              "    <path class=\"displacy-arrowhead\" d=\"M23695,1229.0 L23687,1217.0 23703,1217.0\" fill=\"currentColor\"/>\n",
              "</g>\n",
              "\n",
              "<g class=\"displacy-arrow\">\n",
              "    <path class=\"displacy-arc\" id=\"arrow-462b7d6f9ce44bfa8745565c0a8301ea-0-130\" stroke-width=\"2px\" d=\"M23870,1227.0 C23870,1139.5 23960.0,1139.5 23960.0,1227.0\" fill=\"none\" stroke=\"currentColor\"/>\n",
              "    <text dy=\"1.25em\" style=\"font-size: 0.8em; letter-spacing: 1px\">\n",
              "        <textPath xlink:href=\"#arrow-462b7d6f9ce44bfa8745565c0a8301ea-0-130\" class=\"displacy-label\" startOffset=\"50%\" side=\"left\" fill=\"currentColor\" text-anchor=\"middle\">advmod</textPath>\n",
              "    </text>\n",
              "    <path class=\"displacy-arrowhead\" d=\"M23870,1229.0 L23862,1217.0 23878,1217.0\" fill=\"currentColor\"/>\n",
              "</g>\n",
              "\n",
              "<g class=\"displacy-arrow\">\n",
              "    <path class=\"displacy-arc\" id=\"arrow-462b7d6f9ce44bfa8745565c0a8301ea-0-131\" stroke-width=\"2px\" d=\"M24045,1227.0 C24045,1139.5 24135.0,1139.5 24135.0,1227.0\" fill=\"none\" stroke=\"currentColor\"/>\n",
              "    <text dy=\"1.25em\" style=\"font-size: 0.8em; letter-spacing: 1px\">\n",
              "        <textPath xlink:href=\"#arrow-462b7d6f9ce44bfa8745565c0a8301ea-0-131\" class=\"displacy-label\" startOffset=\"50%\" side=\"left\" fill=\"currentColor\" text-anchor=\"middle\">amod</textPath>\n",
              "    </text>\n",
              "    <path class=\"displacy-arrowhead\" d=\"M24045,1229.0 L24037,1217.0 24053,1217.0\" fill=\"currentColor\"/>\n",
              "</g>\n",
              "\n",
              "<g class=\"displacy-arrow\">\n",
              "    <path class=\"displacy-arc\" id=\"arrow-462b7d6f9ce44bfa8745565c0a8301ea-0-132\" stroke-width=\"2px\" d=\"M24220,1227.0 C24220,702.0 25210.0,702.0 25210.0,1227.0\" fill=\"none\" stroke=\"currentColor\"/>\n",
              "    <text dy=\"1.25em\" style=\"font-size: 0.8em; letter-spacing: 1px\">\n",
              "        <textPath xlink:href=\"#arrow-462b7d6f9ce44bfa8745565c0a8301ea-0-132\" class=\"displacy-label\" startOffset=\"50%\" side=\"left\" fill=\"currentColor\" text-anchor=\"middle\">nsubj</textPath>\n",
              "    </text>\n",
              "    <path class=\"displacy-arrowhead\" d=\"M24220,1229.0 L24212,1217.0 24228,1217.0\" fill=\"currentColor\"/>\n",
              "</g>\n",
              "\n",
              "<g class=\"displacy-arrow\">\n",
              "    <path class=\"displacy-arc\" id=\"arrow-462b7d6f9ce44bfa8745565c0a8301ea-0-133\" stroke-width=\"2px\" d=\"M24220,1227.0 C24220,1139.5 24310.0,1139.5 24310.0,1227.0\" fill=\"none\" stroke=\"currentColor\"/>\n",
              "    <text dy=\"1.25em\" style=\"font-size: 0.8em; letter-spacing: 1px\">\n",
              "        <textPath xlink:href=\"#arrow-462b7d6f9ce44bfa8745565c0a8301ea-0-133\" class=\"displacy-label\" startOffset=\"50%\" side=\"left\" fill=\"currentColor\" text-anchor=\"middle\">cc</textPath>\n",
              "    </text>\n",
              "    <path class=\"displacy-arrowhead\" d=\"M24310.0,1229.0 L24318.0,1217.0 24302.0,1217.0\" fill=\"currentColor\"/>\n",
              "</g>\n",
              "\n",
              "<g class=\"displacy-arrow\">\n",
              "    <path class=\"displacy-arc\" id=\"arrow-462b7d6f9ce44bfa8745565c0a8301ea-0-134\" stroke-width=\"2px\" d=\"M24570,1227.0 C24570,964.5 25020.0,964.5 25020.0,1227.0\" fill=\"none\" stroke=\"currentColor\"/>\n",
              "    <text dy=\"1.25em\" style=\"font-size: 0.8em; letter-spacing: 1px\">\n",
              "        <textPath xlink:href=\"#arrow-462b7d6f9ce44bfa8745565c0a8301ea-0-134\" class=\"displacy-label\" startOffset=\"50%\" side=\"left\" fill=\"currentColor\" text-anchor=\"middle\">amod</textPath>\n",
              "    </text>\n",
              "    <path class=\"displacy-arrowhead\" d=\"M24570,1229.0 L24562,1217.0 24578,1217.0\" fill=\"currentColor\"/>\n",
              "</g>\n",
              "\n",
              "<g class=\"displacy-arrow\">\n",
              "    <path class=\"displacy-arc\" id=\"arrow-462b7d6f9ce44bfa8745565c0a8301ea-0-135\" stroke-width=\"2px\" d=\"M24745,1227.0 C24745,1139.5 24835.0,1139.5 24835.0,1227.0\" fill=\"none\" stroke=\"currentColor\"/>\n",
              "    <text dy=\"1.25em\" style=\"font-size: 0.8em; letter-spacing: 1px\">\n",
              "        <textPath xlink:href=\"#arrow-462b7d6f9ce44bfa8745565c0a8301ea-0-135\" class=\"displacy-label\" startOffset=\"50%\" side=\"left\" fill=\"currentColor\" text-anchor=\"middle\">amod</textPath>\n",
              "    </text>\n",
              "    <path class=\"displacy-arrowhead\" d=\"M24745,1229.0 L24737,1217.0 24753,1217.0\" fill=\"currentColor\"/>\n",
              "</g>\n",
              "\n",
              "<g class=\"displacy-arrow\">\n",
              "    <path class=\"displacy-arc\" id=\"arrow-462b7d6f9ce44bfa8745565c0a8301ea-0-136\" stroke-width=\"2px\" d=\"M24920,1227.0 C24920,1139.5 25010.0,1139.5 25010.0,1227.0\" fill=\"none\" stroke=\"currentColor\"/>\n",
              "    <text dy=\"1.25em\" style=\"font-size: 0.8em; letter-spacing: 1px\">\n",
              "        <textPath xlink:href=\"#arrow-462b7d6f9ce44bfa8745565c0a8301ea-0-136\" class=\"displacy-label\" startOffset=\"50%\" side=\"left\" fill=\"currentColor\" text-anchor=\"middle\">amod</textPath>\n",
              "    </text>\n",
              "    <path class=\"displacy-arrowhead\" d=\"M24920,1229.0 L24912,1217.0 24928,1217.0\" fill=\"currentColor\"/>\n",
              "</g>\n",
              "\n",
              "<g class=\"displacy-arrow\">\n",
              "    <path class=\"displacy-arc\" id=\"arrow-462b7d6f9ce44bfa8745565c0a8301ea-0-137\" stroke-width=\"2px\" d=\"M24220,1227.0 C24220,789.5 25030.0,789.5 25030.0,1227.0\" fill=\"none\" stroke=\"currentColor\"/>\n",
              "    <text dy=\"1.25em\" style=\"font-size: 0.8em; letter-spacing: 1px\">\n",
              "        <textPath xlink:href=\"#arrow-462b7d6f9ce44bfa8745565c0a8301ea-0-137\" class=\"displacy-label\" startOffset=\"50%\" side=\"left\" fill=\"currentColor\" text-anchor=\"middle\">conj</textPath>\n",
              "    </text>\n",
              "    <path class=\"displacy-arrowhead\" d=\"M25030.0,1229.0 L25038.0,1217.0 25022.0,1217.0\" fill=\"currentColor\"/>\n",
              "</g>\n",
              "\n",
              "<g class=\"displacy-arrow\">\n",
              "    <path class=\"displacy-arc\" id=\"arrow-462b7d6f9ce44bfa8745565c0a8301ea-0-138\" stroke-width=\"2px\" d=\"M25270,1227.0 C25270,1139.5 25360.0,1139.5 25360.0,1227.0\" fill=\"none\" stroke=\"currentColor\"/>\n",
              "    <text dy=\"1.25em\" style=\"font-size: 0.8em; letter-spacing: 1px\">\n",
              "        <textPath xlink:href=\"#arrow-462b7d6f9ce44bfa8745565c0a8301ea-0-138\" class=\"displacy-label\" startOffset=\"50%\" side=\"left\" fill=\"currentColor\" text-anchor=\"middle\">ccomp</textPath>\n",
              "    </text>\n",
              "    <path class=\"displacy-arrowhead\" d=\"M25360.0,1229.0 L25368.0,1217.0 25352.0,1217.0\" fill=\"currentColor\"/>\n",
              "</g>\n",
              "\n",
              "<g class=\"displacy-arrow\">\n",
              "    <path class=\"displacy-arc\" id=\"arrow-462b7d6f9ce44bfa8745565c0a8301ea-0-139\" stroke-width=\"2px\" d=\"M25620,1227.0 C25620,1052.0 25890.0,1052.0 25890.0,1227.0\" fill=\"none\" stroke=\"currentColor\"/>\n",
              "    <text dy=\"1.25em\" style=\"font-size: 0.8em; letter-spacing: 1px\">\n",
              "        <textPath xlink:href=\"#arrow-462b7d6f9ce44bfa8745565c0a8301ea-0-139\" class=\"displacy-label\" startOffset=\"50%\" side=\"left\" fill=\"currentColor\" text-anchor=\"middle\">det</textPath>\n",
              "    </text>\n",
              "    <path class=\"displacy-arrowhead\" d=\"M25620,1229.0 L25612,1217.0 25628,1217.0\" fill=\"currentColor\"/>\n",
              "</g>\n",
              "\n",
              "<g class=\"displacy-arrow\">\n",
              "    <path class=\"displacy-arc\" id=\"arrow-462b7d6f9ce44bfa8745565c0a8301ea-0-140\" stroke-width=\"2px\" d=\"M25795,1227.0 C25795,1139.5 25885.0,1139.5 25885.0,1227.0\" fill=\"none\" stroke=\"currentColor\"/>\n",
              "    <text dy=\"1.25em\" style=\"font-size: 0.8em; letter-spacing: 1px\">\n",
              "        <textPath xlink:href=\"#arrow-462b7d6f9ce44bfa8745565c0a8301ea-0-140\" class=\"displacy-label\" startOffset=\"50%\" side=\"left\" fill=\"currentColor\" text-anchor=\"middle\">amod</textPath>\n",
              "    </text>\n",
              "    <path class=\"displacy-arrowhead\" d=\"M25795,1229.0 L25787,1217.0 25803,1217.0\" fill=\"currentColor\"/>\n",
              "</g>\n",
              "\n",
              "<g class=\"displacy-arrow\">\n",
              "    <path class=\"displacy-arc\" id=\"arrow-462b7d6f9ce44bfa8745565c0a8301ea-0-141\" stroke-width=\"2px\" d=\"M25445,1227.0 C25445,964.5 25895.0,964.5 25895.0,1227.0\" fill=\"none\" stroke=\"currentColor\"/>\n",
              "    <text dy=\"1.25em\" style=\"font-size: 0.8em; letter-spacing: 1px\">\n",
              "        <textPath xlink:href=\"#arrow-462b7d6f9ce44bfa8745565c0a8301ea-0-141\" class=\"displacy-label\" startOffset=\"50%\" side=\"left\" fill=\"currentColor\" text-anchor=\"middle\">nsubj</textPath>\n",
              "    </text>\n",
              "    <path class=\"displacy-arrowhead\" d=\"M25895.0,1229.0 L25903.0,1217.0 25887.0,1217.0\" fill=\"currentColor\"/>\n",
              "</g>\n",
              "\n",
              "<g class=\"displacy-arrow\">\n",
              "    <path class=\"displacy-arc\" id=\"arrow-462b7d6f9ce44bfa8745565c0a8301ea-0-142\" stroke-width=\"2px\" d=\"M26145,1227.0 C26145,964.5 26595.0,964.5 26595.0,1227.0\" fill=\"none\" stroke=\"currentColor\"/>\n",
              "    <text dy=\"1.25em\" style=\"font-size: 0.8em; letter-spacing: 1px\">\n",
              "        <textPath xlink:href=\"#arrow-462b7d6f9ce44bfa8745565c0a8301ea-0-142\" class=\"displacy-label\" startOffset=\"50%\" side=\"left\" fill=\"currentColor\" text-anchor=\"middle\">nsubjpass</textPath>\n",
              "    </text>\n",
              "    <path class=\"displacy-arrowhead\" d=\"M26145,1229.0 L26137,1217.0 26153,1217.0\" fill=\"currentColor\"/>\n",
              "</g>\n",
              "\n",
              "<g class=\"displacy-arrow\">\n",
              "    <path class=\"displacy-arc\" id=\"arrow-462b7d6f9ce44bfa8745565c0a8301ea-0-143\" stroke-width=\"2px\" d=\"M26320,1227.0 C26320,1052.0 26590.0,1052.0 26590.0,1227.0\" fill=\"none\" stroke=\"currentColor\"/>\n",
              "    <text dy=\"1.25em\" style=\"font-size: 0.8em; letter-spacing: 1px\">\n",
              "        <textPath xlink:href=\"#arrow-462b7d6f9ce44bfa8745565c0a8301ea-0-143\" class=\"displacy-label\" startOffset=\"50%\" side=\"left\" fill=\"currentColor\" text-anchor=\"middle\">auxpass</textPath>\n",
              "    </text>\n",
              "    <path class=\"displacy-arrowhead\" d=\"M26320,1229.0 L26312,1217.0 26328,1217.0\" fill=\"currentColor\"/>\n",
              "</g>\n",
              "\n",
              "<g class=\"displacy-arrow\">\n",
              "    <path class=\"displacy-arc\" id=\"arrow-462b7d6f9ce44bfa8745565c0a8301ea-0-144\" stroke-width=\"2px\" d=\"M26495,1227.0 C26495,1139.5 26585.0,1139.5 26585.0,1227.0\" fill=\"none\" stroke=\"currentColor\"/>\n",
              "    <text dy=\"1.25em\" style=\"font-size: 0.8em; letter-spacing: 1px\">\n",
              "        <textPath xlink:href=\"#arrow-462b7d6f9ce44bfa8745565c0a8301ea-0-144\" class=\"displacy-label\" startOffset=\"50%\" side=\"left\" fill=\"currentColor\" text-anchor=\"middle\">advmod</textPath>\n",
              "    </text>\n",
              "    <path class=\"displacy-arrowhead\" d=\"M26495,1229.0 L26487,1217.0 26503,1217.0\" fill=\"currentColor\"/>\n",
              "</g>\n",
              "\n",
              "<g class=\"displacy-arrow\">\n",
              "    <path class=\"displacy-arc\" id=\"arrow-462b7d6f9ce44bfa8745565c0a8301ea-0-145\" stroke-width=\"2px\" d=\"M25970,1227.0 C25970,877.0 26600.0,877.0 26600.0,1227.0\" fill=\"none\" stroke=\"currentColor\"/>\n",
              "    <text dy=\"1.25em\" style=\"font-size: 0.8em; letter-spacing: 1px\">\n",
              "        <textPath xlink:href=\"#arrow-462b7d6f9ce44bfa8745565c0a8301ea-0-145\" class=\"displacy-label\" startOffset=\"50%\" side=\"left\" fill=\"currentColor\" text-anchor=\"middle\">relcl</textPath>\n",
              "    </text>\n",
              "    <path class=\"displacy-arrowhead\" d=\"M26600.0,1229.0 L26608.0,1217.0 26592.0,1217.0\" fill=\"currentColor\"/>\n",
              "</g>\n",
              "\n",
              "<g class=\"displacy-arrow\">\n",
              "    <path class=\"displacy-arc\" id=\"arrow-462b7d6f9ce44bfa8745565c0a8301ea-0-146\" stroke-width=\"2px\" d=\"M26670,1227.0 C26670,1139.5 26760.0,1139.5 26760.0,1227.0\" fill=\"none\" stroke=\"currentColor\"/>\n",
              "    <text dy=\"1.25em\" style=\"font-size: 0.8em; letter-spacing: 1px\">\n",
              "        <textPath xlink:href=\"#arrow-462b7d6f9ce44bfa8745565c0a8301ea-0-146\" class=\"displacy-label\" startOffset=\"50%\" side=\"left\" fill=\"currentColor\" text-anchor=\"middle\">prep</textPath>\n",
              "    </text>\n",
              "    <path class=\"displacy-arrowhead\" d=\"M26760.0,1229.0 L26768.0,1217.0 26752.0,1217.0\" fill=\"currentColor\"/>\n",
              "</g>\n",
              "\n",
              "<g class=\"displacy-arrow\">\n",
              "    <path class=\"displacy-arc\" id=\"arrow-462b7d6f9ce44bfa8745565c0a8301ea-0-147\" stroke-width=\"2px\" d=\"M27020,1227.0 C27020,1139.5 27110.0,1139.5 27110.0,1227.0\" fill=\"none\" stroke=\"currentColor\"/>\n",
              "    <text dy=\"1.25em\" style=\"font-size: 0.8em; letter-spacing: 1px\">\n",
              "        <textPath xlink:href=\"#arrow-462b7d6f9ce44bfa8745565c0a8301ea-0-147\" class=\"displacy-label\" startOffset=\"50%\" side=\"left\" fill=\"currentColor\" text-anchor=\"middle\">det</textPath>\n",
              "    </text>\n",
              "    <path class=\"displacy-arrowhead\" d=\"M27020,1229.0 L27012,1217.0 27028,1217.0\" fill=\"currentColor\"/>\n",
              "</g>\n",
              "\n",
              "<g class=\"displacy-arrow\">\n",
              "    <path class=\"displacy-arc\" id=\"arrow-462b7d6f9ce44bfa8745565c0a8301ea-0-148\" stroke-width=\"2px\" d=\"M26845,1227.0 C26845,1052.0 27115.0,1052.0 27115.0,1227.0\" fill=\"none\" stroke=\"currentColor\"/>\n",
              "    <text dy=\"1.25em\" style=\"font-size: 0.8em; letter-spacing: 1px\">\n",
              "        <textPath xlink:href=\"#arrow-462b7d6f9ce44bfa8745565c0a8301ea-0-148\" class=\"displacy-label\" startOffset=\"50%\" side=\"left\" fill=\"currentColor\" text-anchor=\"middle\">pobj</textPath>\n",
              "    </text>\n",
              "    <path class=\"displacy-arrowhead\" d=\"M27115.0,1229.0 L27123.0,1217.0 27107.0,1217.0\" fill=\"currentColor\"/>\n",
              "</g>\n",
              "\n",
              "<g class=\"displacy-arrow\">\n",
              "    <path class=\"displacy-arc\" id=\"arrow-462b7d6f9ce44bfa8745565c0a8301ea-0-149\" stroke-width=\"2px\" d=\"M27370,1227.0 C27370,1139.5 27460.0,1139.5 27460.0,1227.0\" fill=\"none\" stroke=\"currentColor\"/>\n",
              "    <text dy=\"1.25em\" style=\"font-size: 0.8em; letter-spacing: 1px\">\n",
              "        <textPath xlink:href=\"#arrow-462b7d6f9ce44bfa8745565c0a8301ea-0-149\" class=\"displacy-label\" startOffset=\"50%\" side=\"left\" fill=\"currentColor\" text-anchor=\"middle\">det</textPath>\n",
              "    </text>\n",
              "    <path class=\"displacy-arrowhead\" d=\"M27370,1229.0 L27362,1217.0 27378,1217.0\" fill=\"currentColor\"/>\n",
              "</g>\n",
              "\n",
              "<g class=\"displacy-arrow\">\n",
              "    <path class=\"displacy-arc\" id=\"arrow-462b7d6f9ce44bfa8745565c0a8301ea-0-150\" stroke-width=\"2px\" d=\"M27545,1227.0 C27545,1052.0 27815.0,1052.0 27815.0,1227.0\" fill=\"none\" stroke=\"currentColor\"/>\n",
              "    <text dy=\"1.25em\" style=\"font-size: 0.8em; letter-spacing: 1px\">\n",
              "        <textPath xlink:href=\"#arrow-462b7d6f9ce44bfa8745565c0a8301ea-0-150\" class=\"displacy-label\" startOffset=\"50%\" side=\"left\" fill=\"currentColor\" text-anchor=\"middle\">nsubjpass</textPath>\n",
              "    </text>\n",
              "    <path class=\"displacy-arrowhead\" d=\"M27545,1229.0 L27537,1217.0 27553,1217.0\" fill=\"currentColor\"/>\n",
              "</g>\n",
              "\n",
              "<g class=\"displacy-arrow\">\n",
              "    <path class=\"displacy-arc\" id=\"arrow-462b7d6f9ce44bfa8745565c0a8301ea-0-151\" stroke-width=\"2px\" d=\"M27720,1227.0 C27720,1139.5 27810.0,1139.5 27810.0,1227.0\" fill=\"none\" stroke=\"currentColor\"/>\n",
              "    <text dy=\"1.25em\" style=\"font-size: 0.8em; letter-spacing: 1px\">\n",
              "        <textPath xlink:href=\"#arrow-462b7d6f9ce44bfa8745565c0a8301ea-0-151\" class=\"displacy-label\" startOffset=\"50%\" side=\"left\" fill=\"currentColor\" text-anchor=\"middle\">auxpass</textPath>\n",
              "    </text>\n",
              "    <path class=\"displacy-arrowhead\" d=\"M27720,1229.0 L27712,1217.0 27728,1217.0\" fill=\"currentColor\"/>\n",
              "</g>\n",
              "\n",
              "<g class=\"displacy-arrow\">\n",
              "    <path class=\"displacy-arc\" id=\"arrow-462b7d6f9ce44bfa8745565c0a8301ea-0-152\" stroke-width=\"2px\" d=\"M27895,1227.0 C27895,1139.5 27985.0,1139.5 27985.0,1227.0\" fill=\"none\" stroke=\"currentColor\"/>\n",
              "    <text dy=\"1.25em\" style=\"font-size: 0.8em; letter-spacing: 1px\">\n",
              "        <textPath xlink:href=\"#arrow-462b7d6f9ce44bfa8745565c0a8301ea-0-152\" class=\"displacy-label\" startOffset=\"50%\" side=\"left\" fill=\"currentColor\" text-anchor=\"middle\">prep</textPath>\n",
              "    </text>\n",
              "    <path class=\"displacy-arrowhead\" d=\"M27985.0,1229.0 L27993.0,1217.0 27977.0,1217.0\" fill=\"currentColor\"/>\n",
              "</g>\n",
              "\n",
              "<g class=\"displacy-arrow\">\n",
              "    <path class=\"displacy-arc\" id=\"arrow-462b7d6f9ce44bfa8745565c0a8301ea-0-153\" stroke-width=\"2px\" d=\"M28245,1227.0 C28245,1139.5 28335.0,1139.5 28335.0,1227.0\" fill=\"none\" stroke=\"currentColor\"/>\n",
              "    <text dy=\"1.25em\" style=\"font-size: 0.8em; letter-spacing: 1px\">\n",
              "        <textPath xlink:href=\"#arrow-462b7d6f9ce44bfa8745565c0a8301ea-0-153\" class=\"displacy-label\" startOffset=\"50%\" side=\"left\" fill=\"currentColor\" text-anchor=\"middle\">det</textPath>\n",
              "    </text>\n",
              "    <path class=\"displacy-arrowhead\" d=\"M28245,1229.0 L28237,1217.0 28253,1217.0\" fill=\"currentColor\"/>\n",
              "</g>\n",
              "\n",
              "<g class=\"displacy-arrow\">\n",
              "    <path class=\"displacy-arc\" id=\"arrow-462b7d6f9ce44bfa8745565c0a8301ea-0-154\" stroke-width=\"2px\" d=\"M28070,1227.0 C28070,1052.0 28340.0,1052.0 28340.0,1227.0\" fill=\"none\" stroke=\"currentColor\"/>\n",
              "    <text dy=\"1.25em\" style=\"font-size: 0.8em; letter-spacing: 1px\">\n",
              "        <textPath xlink:href=\"#arrow-462b7d6f9ce44bfa8745565c0a8301ea-0-154\" class=\"displacy-label\" startOffset=\"50%\" side=\"left\" fill=\"currentColor\" text-anchor=\"middle\">pobj</textPath>\n",
              "    </text>\n",
              "    <path class=\"displacy-arrowhead\" d=\"M28340.0,1229.0 L28348.0,1217.0 28332.0,1217.0\" fill=\"currentColor\"/>\n",
              "</g>\n",
              "\n",
              "<g class=\"displacy-arrow\">\n",
              "    <path class=\"displacy-arc\" id=\"arrow-462b7d6f9ce44bfa8745565c0a8301ea-0-155\" stroke-width=\"2px\" d=\"M27895,1227.0 C27895,877.0 28525.0,877.0 28525.0,1227.0\" fill=\"none\" stroke=\"currentColor\"/>\n",
              "    <text dy=\"1.25em\" style=\"font-size: 0.8em; letter-spacing: 1px\">\n",
              "        <textPath xlink:href=\"#arrow-462b7d6f9ce44bfa8745565c0a8301ea-0-155\" class=\"displacy-label\" startOffset=\"50%\" side=\"left\" fill=\"currentColor\" text-anchor=\"middle\">cc</textPath>\n",
              "    </text>\n",
              "    <path class=\"displacy-arrowhead\" d=\"M28525.0,1229.0 L28533.0,1217.0 28517.0,1217.0\" fill=\"currentColor\"/>\n",
              "</g>\n",
              "\n",
              "<g class=\"displacy-arrow\">\n",
              "    <path class=\"displacy-arc\" id=\"arrow-462b7d6f9ce44bfa8745565c0a8301ea-0-156\" stroke-width=\"2px\" d=\"M28770,1227.0 C28770,1139.5 28860.0,1139.5 28860.0,1227.0\" fill=\"none\" stroke=\"currentColor\"/>\n",
              "    <text dy=\"1.25em\" style=\"font-size: 0.8em; letter-spacing: 1px\">\n",
              "        <textPath xlink:href=\"#arrow-462b7d6f9ce44bfa8745565c0a8301ea-0-156\" class=\"displacy-label\" startOffset=\"50%\" side=\"left\" fill=\"currentColor\" text-anchor=\"middle\">det</textPath>\n",
              "    </text>\n",
              "    <path class=\"displacy-arrowhead\" d=\"M28770,1229.0 L28762,1217.0 28778,1217.0\" fill=\"currentColor\"/>\n",
              "</g>\n",
              "\n",
              "<g class=\"displacy-arrow\">\n",
              "    <path class=\"displacy-arc\" id=\"arrow-462b7d6f9ce44bfa8745565c0a8301ea-0-157\" stroke-width=\"2px\" d=\"M28945,1227.0 C28945,352.0 30655.0,352.0 30655.0,1227.0\" fill=\"none\" stroke=\"currentColor\"/>\n",
              "    <text dy=\"1.25em\" style=\"font-size: 0.8em; letter-spacing: 1px\">\n",
              "        <textPath xlink:href=\"#arrow-462b7d6f9ce44bfa8745565c0a8301ea-0-157\" class=\"displacy-label\" startOffset=\"50%\" side=\"left\" fill=\"currentColor\" text-anchor=\"middle\">nsubj</textPath>\n",
              "    </text>\n",
              "    <path class=\"displacy-arrowhead\" d=\"M28945,1229.0 L28937,1217.0 28953,1217.0\" fill=\"currentColor\"/>\n",
              "</g>\n",
              "\n",
              "<g class=\"displacy-arrow\">\n",
              "    <path class=\"displacy-arc\" id=\"arrow-462b7d6f9ce44bfa8745565c0a8301ea-0-158\" stroke-width=\"2px\" d=\"M28945,1227.0 C28945,1139.5 29035.0,1139.5 29035.0,1227.0\" fill=\"none\" stroke=\"currentColor\"/>\n",
              "    <text dy=\"1.25em\" style=\"font-size: 0.8em; letter-spacing: 1px\">\n",
              "        <textPath xlink:href=\"#arrow-462b7d6f9ce44bfa8745565c0a8301ea-0-158\" class=\"displacy-label\" startOffset=\"50%\" side=\"left\" fill=\"currentColor\" text-anchor=\"middle\">prep</textPath>\n",
              "    </text>\n",
              "    <path class=\"displacy-arrowhead\" d=\"M29035.0,1229.0 L29043.0,1217.0 29027.0,1217.0\" fill=\"currentColor\"/>\n",
              "</g>\n",
              "\n",
              "<g class=\"displacy-arrow\">\n",
              "    <path class=\"displacy-arc\" id=\"arrow-462b7d6f9ce44bfa8745565c0a8301ea-0-159\" stroke-width=\"2px\" d=\"M29295,1227.0 C29295,1139.5 29385.0,1139.5 29385.0,1227.0\" fill=\"none\" stroke=\"currentColor\"/>\n",
              "    <text dy=\"1.25em\" style=\"font-size: 0.8em; letter-spacing: 1px\">\n",
              "        <textPath xlink:href=\"#arrow-462b7d6f9ce44bfa8745565c0a8301ea-0-159\" class=\"displacy-label\" startOffset=\"50%\" side=\"left\" fill=\"currentColor\" text-anchor=\"middle\">det</textPath>\n",
              "    </text>\n",
              "    <path class=\"displacy-arrowhead\" d=\"M29295,1229.0 L29287,1217.0 29303,1217.0\" fill=\"currentColor\"/>\n",
              "</g>\n",
              "\n",
              "<g class=\"displacy-arrow\">\n",
              "    <path class=\"displacy-arc\" id=\"arrow-462b7d6f9ce44bfa8745565c0a8301ea-0-160\" stroke-width=\"2px\" d=\"M29120,1227.0 C29120,1052.0 29390.0,1052.0 29390.0,1227.0\" fill=\"none\" stroke=\"currentColor\"/>\n",
              "    <text dy=\"1.25em\" style=\"font-size: 0.8em; letter-spacing: 1px\">\n",
              "        <textPath xlink:href=\"#arrow-462b7d6f9ce44bfa8745565c0a8301ea-0-160\" class=\"displacy-label\" startOffset=\"50%\" side=\"left\" fill=\"currentColor\" text-anchor=\"middle\">pobj</textPath>\n",
              "    </text>\n",
              "    <path class=\"displacy-arrowhead\" d=\"M29390.0,1229.0 L29398.0,1217.0 29382.0,1217.0\" fill=\"currentColor\"/>\n",
              "</g>\n",
              "\n",
              "<g class=\"displacy-arrow\">\n",
              "    <path class=\"displacy-arc\" id=\"arrow-462b7d6f9ce44bfa8745565c0a8301ea-0-161\" stroke-width=\"2px\" d=\"M28945,1227.0 C28945,877.0 29575.0,877.0 29575.0,1227.0\" fill=\"none\" stroke=\"currentColor\"/>\n",
              "    <text dy=\"1.25em\" style=\"font-size: 0.8em; letter-spacing: 1px\">\n",
              "        <textPath xlink:href=\"#arrow-462b7d6f9ce44bfa8745565c0a8301ea-0-161\" class=\"displacy-label\" startOffset=\"50%\" side=\"left\" fill=\"currentColor\" text-anchor=\"middle\">cc</textPath>\n",
              "    </text>\n",
              "    <path class=\"displacy-arrowhead\" d=\"M29575.0,1229.0 L29583.0,1217.0 29567.0,1217.0\" fill=\"currentColor\"/>\n",
              "</g>\n",
              "\n",
              "<g class=\"displacy-arrow\">\n",
              "    <path class=\"displacy-arc\" id=\"arrow-462b7d6f9ce44bfa8745565c0a8301ea-0-162\" stroke-width=\"2px\" d=\"M29820,1227.0 C29820,1139.5 29910.0,1139.5 29910.0,1227.0\" fill=\"none\" stroke=\"currentColor\"/>\n",
              "    <text dy=\"1.25em\" style=\"font-size: 0.8em; letter-spacing: 1px\">\n",
              "        <textPath xlink:href=\"#arrow-462b7d6f9ce44bfa8745565c0a8301ea-0-162\" class=\"displacy-label\" startOffset=\"50%\" side=\"left\" fill=\"currentColor\" text-anchor=\"middle\">advmod</textPath>\n",
              "    </text>\n",
              "    <path class=\"displacy-arrowhead\" d=\"M29820,1229.0 L29812,1217.0 29828,1217.0\" fill=\"currentColor\"/>\n",
              "</g>\n",
              "\n",
              "<g class=\"displacy-arrow\">\n",
              "    <path class=\"displacy-arc\" id=\"arrow-462b7d6f9ce44bfa8745565c0a8301ea-0-163\" stroke-width=\"2px\" d=\"M29995,1227.0 C29995,1139.5 30085.0,1139.5 30085.0,1227.0\" fill=\"none\" stroke=\"currentColor\"/>\n",
              "    <text dy=\"1.25em\" style=\"font-size: 0.8em; letter-spacing: 1px\">\n",
              "        <textPath xlink:href=\"#arrow-462b7d6f9ce44bfa8745565c0a8301ea-0-163\" class=\"displacy-label\" startOffset=\"50%\" side=\"left\" fill=\"currentColor\" text-anchor=\"middle\">amod</textPath>\n",
              "    </text>\n",
              "    <path class=\"displacy-arrowhead\" d=\"M29995,1229.0 L29987,1217.0 30003,1217.0\" fill=\"currentColor\"/>\n",
              "</g>\n",
              "\n",
              "<g class=\"displacy-arrow\">\n",
              "    <path class=\"displacy-arc\" id=\"arrow-462b7d6f9ce44bfa8745565c0a8301ea-0-164\" stroke-width=\"2px\" d=\"M28945,1227.0 C28945,614.5 30115.0,614.5 30115.0,1227.0\" fill=\"none\" stroke=\"currentColor\"/>\n",
              "    <text dy=\"1.25em\" style=\"font-size: 0.8em; letter-spacing: 1px\">\n",
              "        <textPath xlink:href=\"#arrow-462b7d6f9ce44bfa8745565c0a8301ea-0-164\" class=\"displacy-label\" startOffset=\"50%\" side=\"left\" fill=\"currentColor\" text-anchor=\"middle\">conj</textPath>\n",
              "    </text>\n",
              "    <path class=\"displacy-arrowhead\" d=\"M30115.0,1229.0 L30123.0,1217.0 30107.0,1217.0\" fill=\"currentColor\"/>\n",
              "</g>\n",
              "\n",
              "<g class=\"displacy-arrow\">\n",
              "    <path class=\"displacy-arc\" id=\"arrow-462b7d6f9ce44bfa8745565c0a8301ea-0-165\" stroke-width=\"2px\" d=\"M30345,1227.0 C30345,1052.0 30615.0,1052.0 30615.0,1227.0\" fill=\"none\" stroke=\"currentColor\"/>\n",
              "    <text dy=\"1.25em\" style=\"font-size: 0.8em; letter-spacing: 1px\">\n",
              "        <textPath xlink:href=\"#arrow-462b7d6f9ce44bfa8745565c0a8301ea-0-165\" class=\"displacy-label\" startOffset=\"50%\" side=\"left\" fill=\"currentColor\" text-anchor=\"middle\">aux</textPath>\n",
              "    </text>\n",
              "    <path class=\"displacy-arrowhead\" d=\"M30345,1229.0 L30337,1217.0 30353,1217.0\" fill=\"currentColor\"/>\n",
              "</g>\n",
              "\n",
              "<g class=\"displacy-arrow\">\n",
              "    <path class=\"displacy-arc\" id=\"arrow-462b7d6f9ce44bfa8745565c0a8301ea-0-166\" stroke-width=\"2px\" d=\"M30520,1227.0 C30520,1139.5 30610.0,1139.5 30610.0,1227.0\" fill=\"none\" stroke=\"currentColor\"/>\n",
              "    <text dy=\"1.25em\" style=\"font-size: 0.8em; letter-spacing: 1px\">\n",
              "        <textPath xlink:href=\"#arrow-462b7d6f9ce44bfa8745565c0a8301ea-0-166\" class=\"displacy-label\" startOffset=\"50%\" side=\"left\" fill=\"currentColor\" text-anchor=\"middle\">advmod</textPath>\n",
              "    </text>\n",
              "    <path class=\"displacy-arrowhead\" d=\"M30520,1229.0 L30512,1217.0 30528,1217.0\" fill=\"currentColor\"/>\n",
              "</g>\n",
              "\n",
              "<g class=\"displacy-arrow\">\n",
              "    <path class=\"displacy-arc\" id=\"arrow-462b7d6f9ce44bfa8745565c0a8301ea-0-167\" stroke-width=\"2px\" d=\"M27895,1227.0 C27895,89.5 30670.0,89.5 30670.0,1227.0\" fill=\"none\" stroke=\"currentColor\"/>\n",
              "    <text dy=\"1.25em\" style=\"font-size: 0.8em; letter-spacing: 1px\">\n",
              "        <textPath xlink:href=\"#arrow-462b7d6f9ce44bfa8745565c0a8301ea-0-167\" class=\"displacy-label\" startOffset=\"50%\" side=\"left\" fill=\"currentColor\" text-anchor=\"middle\">conj</textPath>\n",
              "    </text>\n",
              "    <path class=\"displacy-arrowhead\" d=\"M30670.0,1229.0 L30678.0,1217.0 30662.0,1217.0\" fill=\"currentColor\"/>\n",
              "</g>\n",
              "\n",
              "<g class=\"displacy-arrow\">\n",
              "    <path class=\"displacy-arc\" id=\"arrow-462b7d6f9ce44bfa8745565c0a8301ea-0-168\" stroke-width=\"2px\" d=\"M30870,1227.0 C30870,1139.5 30960.0,1139.5 30960.0,1227.0\" fill=\"none\" stroke=\"currentColor\"/>\n",
              "    <text dy=\"1.25em\" style=\"font-size: 0.8em; letter-spacing: 1px\">\n",
              "        <textPath xlink:href=\"#arrow-462b7d6f9ce44bfa8745565c0a8301ea-0-168\" class=\"displacy-label\" startOffset=\"50%\" side=\"left\" fill=\"currentColor\" text-anchor=\"middle\">poss</textPath>\n",
              "    </text>\n",
              "    <path class=\"displacy-arrowhead\" d=\"M30870,1229.0 L30862,1217.0 30878,1217.0\" fill=\"currentColor\"/>\n",
              "</g>\n",
              "\n",
              "<g class=\"displacy-arrow\">\n",
              "    <path class=\"displacy-arc\" id=\"arrow-462b7d6f9ce44bfa8745565c0a8301ea-0-169\" stroke-width=\"2px\" d=\"M30695,1227.0 C30695,1052.0 30965.0,1052.0 30965.0,1227.0\" fill=\"none\" stroke=\"currentColor\"/>\n",
              "    <text dy=\"1.25em\" style=\"font-size: 0.8em; letter-spacing: 1px\">\n",
              "        <textPath xlink:href=\"#arrow-462b7d6f9ce44bfa8745565c0a8301ea-0-169\" class=\"displacy-label\" startOffset=\"50%\" side=\"left\" fill=\"currentColor\" text-anchor=\"middle\">dobj</textPath>\n",
              "    </text>\n",
              "    <path class=\"displacy-arrowhead\" d=\"M30965.0,1229.0 L30973.0,1217.0 30957.0,1217.0\" fill=\"currentColor\"/>\n",
              "</g>\n",
              "\n",
              "<g class=\"displacy-arrow\">\n",
              "    <path class=\"displacy-arc\" id=\"arrow-462b7d6f9ce44bfa8745565c0a8301ea-0-170\" stroke-width=\"2px\" d=\"M30695,1227.0 C30695,964.5 31145.0,964.5 31145.0,1227.0\" fill=\"none\" stroke=\"currentColor\"/>\n",
              "    <text dy=\"1.25em\" style=\"font-size: 0.8em; letter-spacing: 1px\">\n",
              "        <textPath xlink:href=\"#arrow-462b7d6f9ce44bfa8745565c0a8301ea-0-170\" class=\"displacy-label\" startOffset=\"50%\" side=\"left\" fill=\"currentColor\" text-anchor=\"middle\">prep</textPath>\n",
              "    </text>\n",
              "    <path class=\"displacy-arrowhead\" d=\"M31145.0,1229.0 L31153.0,1217.0 31137.0,1217.0\" fill=\"currentColor\"/>\n",
              "</g>\n",
              "\n",
              "<g class=\"displacy-arrow\">\n",
              "    <path class=\"displacy-arc\" id=\"arrow-462b7d6f9ce44bfa8745565c0a8301ea-0-171\" stroke-width=\"2px\" d=\"M31395,1227.0 C31395,1052.0 31665.0,1052.0 31665.0,1227.0\" fill=\"none\" stroke=\"currentColor\"/>\n",
              "    <text dy=\"1.25em\" style=\"font-size: 0.8em; letter-spacing: 1px\">\n",
              "        <textPath xlink:href=\"#arrow-462b7d6f9ce44bfa8745565c0a8301ea-0-171\" class=\"displacy-label\" startOffset=\"50%\" side=\"left\" fill=\"currentColor\" text-anchor=\"middle\">det</textPath>\n",
              "    </text>\n",
              "    <path class=\"displacy-arrowhead\" d=\"M31395,1229.0 L31387,1217.0 31403,1217.0\" fill=\"currentColor\"/>\n",
              "</g>\n",
              "\n",
              "<g class=\"displacy-arrow\">\n",
              "    <path class=\"displacy-arc\" id=\"arrow-462b7d6f9ce44bfa8745565c0a8301ea-0-172\" stroke-width=\"2px\" d=\"M31570,1227.0 C31570,1139.5 31660.0,1139.5 31660.0,1227.0\" fill=\"none\" stroke=\"currentColor\"/>\n",
              "    <text dy=\"1.25em\" style=\"font-size: 0.8em; letter-spacing: 1px\">\n",
              "        <textPath xlink:href=\"#arrow-462b7d6f9ce44bfa8745565c0a8301ea-0-172\" class=\"displacy-label\" startOffset=\"50%\" side=\"left\" fill=\"currentColor\" text-anchor=\"middle\">amod</textPath>\n",
              "    </text>\n",
              "    <path class=\"displacy-arrowhead\" d=\"M31570,1229.0 L31562,1217.0 31578,1217.0\" fill=\"currentColor\"/>\n",
              "</g>\n",
              "\n",
              "<g class=\"displacy-arrow\">\n",
              "    <path class=\"displacy-arc\" id=\"arrow-462b7d6f9ce44bfa8745565c0a8301ea-0-173\" stroke-width=\"2px\" d=\"M31220,1227.0 C31220,964.5 31670.0,964.5 31670.0,1227.0\" fill=\"none\" stroke=\"currentColor\"/>\n",
              "    <text dy=\"1.25em\" style=\"font-size: 0.8em; letter-spacing: 1px\">\n",
              "        <textPath xlink:href=\"#arrow-462b7d6f9ce44bfa8745565c0a8301ea-0-173\" class=\"displacy-label\" startOffset=\"50%\" side=\"left\" fill=\"currentColor\" text-anchor=\"middle\">pobj</textPath>\n",
              "    </text>\n",
              "    <path class=\"displacy-arrowhead\" d=\"M31670.0,1229.0 L31678.0,1217.0 31662.0,1217.0\" fill=\"currentColor\"/>\n",
              "</g>\n",
              "\n",
              "<g class=\"displacy-arrow\">\n",
              "    <path class=\"displacy-arc\" id=\"arrow-462b7d6f9ce44bfa8745565c0a8301ea-0-174\" stroke-width=\"2px\" d=\"M31745,1227.0 C31745,1139.5 31835.0,1139.5 31835.0,1227.0\" fill=\"none\" stroke=\"currentColor\"/>\n",
              "    <text dy=\"1.25em\" style=\"font-size: 0.8em; letter-spacing: 1px\">\n",
              "        <textPath xlink:href=\"#arrow-462b7d6f9ce44bfa8745565c0a8301ea-0-174\" class=\"displacy-label\" startOffset=\"50%\" side=\"left\" fill=\"currentColor\" text-anchor=\"middle\">prep</textPath>\n",
              "    </text>\n",
              "    <path class=\"displacy-arrowhead\" d=\"M31835.0,1229.0 L31843.0,1217.0 31827.0,1217.0\" fill=\"currentColor\"/>\n",
              "</g>\n",
              "\n",
              "<g class=\"displacy-arrow\">\n",
              "    <path class=\"displacy-arc\" id=\"arrow-462b7d6f9ce44bfa8745565c0a8301ea-0-175\" stroke-width=\"2px\" d=\"M32095,1227.0 C32095,1139.5 32185.0,1139.5 32185.0,1227.0\" fill=\"none\" stroke=\"currentColor\"/>\n",
              "    <text dy=\"1.25em\" style=\"font-size: 0.8em; letter-spacing: 1px\">\n",
              "        <textPath xlink:href=\"#arrow-462b7d6f9ce44bfa8745565c0a8301ea-0-175\" class=\"displacy-label\" startOffset=\"50%\" side=\"left\" fill=\"currentColor\" text-anchor=\"middle\">det</textPath>\n",
              "    </text>\n",
              "    <path class=\"displacy-arrowhead\" d=\"M32095,1229.0 L32087,1217.0 32103,1217.0\" fill=\"currentColor\"/>\n",
              "</g>\n",
              "\n",
              "<g class=\"displacy-arrow\">\n",
              "    <path class=\"displacy-arc\" id=\"arrow-462b7d6f9ce44bfa8745565c0a8301ea-0-176\" stroke-width=\"2px\" d=\"M31920,1227.0 C31920,1052.0 32190.0,1052.0 32190.0,1227.0\" fill=\"none\" stroke=\"currentColor\"/>\n",
              "    <text dy=\"1.25em\" style=\"font-size: 0.8em; letter-spacing: 1px\">\n",
              "        <textPath xlink:href=\"#arrow-462b7d6f9ce44bfa8745565c0a8301ea-0-176\" class=\"displacy-label\" startOffset=\"50%\" side=\"left\" fill=\"currentColor\" text-anchor=\"middle\">pobj</textPath>\n",
              "    </text>\n",
              "    <path class=\"displacy-arrowhead\" d=\"M32190.0,1229.0 L32198.0,1217.0 32182.0,1217.0\" fill=\"currentColor\"/>\n",
              "</g>\n",
              "\n",
              "<g class=\"displacy-arrow\">\n",
              "    <path class=\"displacy-arc\" id=\"arrow-462b7d6f9ce44bfa8745565c0a8301ea-0-177\" stroke-width=\"2px\" d=\"M30695,1227.0 C30695,352.0 32405.0,352.0 32405.0,1227.0\" fill=\"none\" stroke=\"currentColor\"/>\n",
              "    <text dy=\"1.25em\" style=\"font-size: 0.8em; letter-spacing: 1px\">\n",
              "        <textPath xlink:href=\"#arrow-462b7d6f9ce44bfa8745565c0a8301ea-0-177\" class=\"displacy-label\" startOffset=\"50%\" side=\"left\" fill=\"currentColor\" text-anchor=\"middle\">cc</textPath>\n",
              "    </text>\n",
              "    <path class=\"displacy-arrowhead\" d=\"M32405.0,1229.0 L32413.0,1217.0 32397.0,1217.0\" fill=\"currentColor\"/>\n",
              "</g>\n",
              "\n",
              "<g class=\"displacy-arrow\">\n",
              "    <path class=\"displacy-arc\" id=\"arrow-462b7d6f9ce44bfa8745565c0a8301ea-0-178\" stroke-width=\"2px\" d=\"M30695,1227.0 C30695,264.5 32585.0,264.5 32585.0,1227.0\" fill=\"none\" stroke=\"currentColor\"/>\n",
              "    <text dy=\"1.25em\" style=\"font-size: 0.8em; letter-spacing: 1px\">\n",
              "        <textPath xlink:href=\"#arrow-462b7d6f9ce44bfa8745565c0a8301ea-0-178\" class=\"displacy-label\" startOffset=\"50%\" side=\"left\" fill=\"currentColor\" text-anchor=\"middle\">conj</textPath>\n",
              "    </text>\n",
              "    <path class=\"displacy-arrowhead\" d=\"M32585.0,1229.0 L32593.0,1217.0 32577.0,1217.0\" fill=\"currentColor\"/>\n",
              "</g>\n",
              "\n",
              "<g class=\"displacy-arrow\">\n",
              "    <path class=\"displacy-arc\" id=\"arrow-462b7d6f9ce44bfa8745565c0a8301ea-0-179\" stroke-width=\"2px\" d=\"M32795,1227.0 C32795,1139.5 32885.0,1139.5 32885.0,1227.0\" fill=\"none\" stroke=\"currentColor\"/>\n",
              "    <text dy=\"1.25em\" style=\"font-size: 0.8em; letter-spacing: 1px\">\n",
              "        <textPath xlink:href=\"#arrow-462b7d6f9ce44bfa8745565c0a8301ea-0-179\" class=\"displacy-label\" startOffset=\"50%\" side=\"left\" fill=\"currentColor\" text-anchor=\"middle\">amod</textPath>\n",
              "    </text>\n",
              "    <path class=\"displacy-arrowhead\" d=\"M32795,1229.0 L32787,1217.0 32803,1217.0\" fill=\"currentColor\"/>\n",
              "</g>\n",
              "\n",
              "<g class=\"displacy-arrow\">\n",
              "    <path class=\"displacy-arc\" id=\"arrow-462b7d6f9ce44bfa8745565c0a8301ea-0-180\" stroke-width=\"2px\" d=\"M32620,1227.0 C32620,1052.0 32890.0,1052.0 32890.0,1227.0\" fill=\"none\" stroke=\"currentColor\"/>\n",
              "    <text dy=\"1.25em\" style=\"font-size: 0.8em; letter-spacing: 1px\">\n",
              "        <textPath xlink:href=\"#arrow-462b7d6f9ce44bfa8745565c0a8301ea-0-180\" class=\"displacy-label\" startOffset=\"50%\" side=\"left\" fill=\"currentColor\" text-anchor=\"middle\">dobj</textPath>\n",
              "    </text>\n",
              "    <path class=\"displacy-arrowhead\" d=\"M32890.0,1229.0 L32898.0,1217.0 32882.0,1217.0\" fill=\"currentColor\"/>\n",
              "</g>\n",
              "\n",
              "<g class=\"displacy-arrow\">\n",
              "    <path class=\"displacy-arc\" id=\"arrow-462b7d6f9ce44bfa8745565c0a8301ea-0-181\" stroke-width=\"2px\" d=\"M32970,1227.0 C32970,1139.5 33060.0,1139.5 33060.0,1227.0\" fill=\"none\" stroke=\"currentColor\"/>\n",
              "    <text dy=\"1.25em\" style=\"font-size: 0.8em; letter-spacing: 1px\">\n",
              "        <textPath xlink:href=\"#arrow-462b7d6f9ce44bfa8745565c0a8301ea-0-181\" class=\"displacy-label\" startOffset=\"50%\" side=\"left\" fill=\"currentColor\" text-anchor=\"middle\">prep</textPath>\n",
              "    </text>\n",
              "    <path class=\"displacy-arrowhead\" d=\"M33060.0,1229.0 L33068.0,1217.0 33052.0,1217.0\" fill=\"currentColor\"/>\n",
              "</g>\n",
              "\n",
              "<g class=\"displacy-arrow\">\n",
              "    <path class=\"displacy-arc\" id=\"arrow-462b7d6f9ce44bfa8745565c0a8301ea-0-182\" stroke-width=\"2px\" d=\"M33320,1227.0 C33320,789.5 34130.0,789.5 34130.0,1227.0\" fill=\"none\" stroke=\"currentColor\"/>\n",
              "    <text dy=\"1.25em\" style=\"font-size: 0.8em; letter-spacing: 1px\">\n",
              "        <textPath xlink:href=\"#arrow-462b7d6f9ce44bfa8745565c0a8301ea-0-182\" class=\"displacy-label\" startOffset=\"50%\" side=\"left\" fill=\"currentColor\" text-anchor=\"middle\">dobj</textPath>\n",
              "    </text>\n",
              "    <path class=\"displacy-arrowhead\" d=\"M33320,1229.0 L33312,1217.0 33328,1217.0\" fill=\"currentColor\"/>\n",
              "</g>\n",
              "\n",
              "<g class=\"displacy-arrow\">\n",
              "    <path class=\"displacy-arc\" id=\"arrow-462b7d6f9ce44bfa8745565c0a8301ea-0-183\" stroke-width=\"2px\" d=\"M33495,1227.0 C33495,1052.0 33765.0,1052.0 33765.0,1227.0\" fill=\"none\" stroke=\"currentColor\"/>\n",
              "    <text dy=\"1.25em\" style=\"font-size: 0.8em; letter-spacing: 1px\">\n",
              "        <textPath xlink:href=\"#arrow-462b7d6f9ce44bfa8745565c0a8301ea-0-183\" class=\"displacy-label\" startOffset=\"50%\" side=\"left\" fill=\"currentColor\" text-anchor=\"middle\">det</textPath>\n",
              "    </text>\n",
              "    <path class=\"displacy-arrowhead\" d=\"M33495,1229.0 L33487,1217.0 33503,1217.0\" fill=\"currentColor\"/>\n",
              "</g>\n",
              "\n",
              "<g class=\"displacy-arrow\">\n",
              "    <path class=\"displacy-arc\" id=\"arrow-462b7d6f9ce44bfa8745565c0a8301ea-0-184\" stroke-width=\"2px\" d=\"M33670,1227.0 C33670,1139.5 33760.0,1139.5 33760.0,1227.0\" fill=\"none\" stroke=\"currentColor\"/>\n",
              "    <text dy=\"1.25em\" style=\"font-size: 0.8em; letter-spacing: 1px\">\n",
              "        <textPath xlink:href=\"#arrow-462b7d6f9ce44bfa8745565c0a8301ea-0-184\" class=\"displacy-label\" startOffset=\"50%\" side=\"left\" fill=\"currentColor\" text-anchor=\"middle\">amod</textPath>\n",
              "    </text>\n",
              "    <path class=\"displacy-arrowhead\" d=\"M33670,1229.0 L33662,1217.0 33678,1217.0\" fill=\"currentColor\"/>\n",
              "</g>\n",
              "\n",
              "<g class=\"displacy-arrow\">\n",
              "    <path class=\"displacy-arc\" id=\"arrow-462b7d6f9ce44bfa8745565c0a8301ea-0-185\" stroke-width=\"2px\" d=\"M33845,1227.0 C33845,1052.0 34115.0,1052.0 34115.0,1227.0\" fill=\"none\" stroke=\"currentColor\"/>\n",
              "    <text dy=\"1.25em\" style=\"font-size: 0.8em; letter-spacing: 1px\">\n",
              "        <textPath xlink:href=\"#arrow-462b7d6f9ce44bfa8745565c0a8301ea-0-185\" class=\"displacy-label\" startOffset=\"50%\" side=\"left\" fill=\"currentColor\" text-anchor=\"middle\">nsubj</textPath>\n",
              "    </text>\n",
              "    <path class=\"displacy-arrowhead\" d=\"M33845,1229.0 L33837,1217.0 33853,1217.0\" fill=\"currentColor\"/>\n",
              "</g>\n",
              "\n",
              "<g class=\"displacy-arrow\">\n",
              "    <path class=\"displacy-arc\" id=\"arrow-462b7d6f9ce44bfa8745565c0a8301ea-0-186\" stroke-width=\"2px\" d=\"M34020,1227.0 C34020,1139.5 34110.0,1139.5 34110.0,1227.0\" fill=\"none\" stroke=\"currentColor\"/>\n",
              "    <text dy=\"1.25em\" style=\"font-size: 0.8em; letter-spacing: 1px\">\n",
              "        <textPath xlink:href=\"#arrow-462b7d6f9ce44bfa8745565c0a8301ea-0-186\" class=\"displacy-label\" startOffset=\"50%\" side=\"left\" fill=\"currentColor\" text-anchor=\"middle\">aux</textPath>\n",
              "    </text>\n",
              "    <path class=\"displacy-arrowhead\" d=\"M34020,1229.0 L34012,1217.0 34028,1217.0\" fill=\"currentColor\"/>\n",
              "</g>\n",
              "\n",
              "<g class=\"displacy-arrow\">\n",
              "    <path class=\"displacy-arc\" id=\"arrow-462b7d6f9ce44bfa8745565c0a8301ea-0-187\" stroke-width=\"2px\" d=\"M33145,1227.0 C33145,702.0 34135.0,702.0 34135.0,1227.0\" fill=\"none\" stroke=\"currentColor\"/>\n",
              "    <text dy=\"1.25em\" style=\"font-size: 0.8em; letter-spacing: 1px\">\n",
              "        <textPath xlink:href=\"#arrow-462b7d6f9ce44bfa8745565c0a8301ea-0-187\" class=\"displacy-label\" startOffset=\"50%\" side=\"left\" fill=\"currentColor\" text-anchor=\"middle\">pcomp</textPath>\n",
              "    </text>\n",
              "    <path class=\"displacy-arrowhead\" d=\"M34135.0,1229.0 L34143.0,1217.0 34127.0,1217.0\" fill=\"currentColor\"/>\n",
              "</g>\n",
              "\n",
              "<g class=\"displacy-arrow\">\n",
              "    <path class=\"displacy-arc\" id=\"arrow-462b7d6f9ce44bfa8745565c0a8301ea-0-188\" stroke-width=\"2px\" d=\"M34195,1227.0 C34195,1139.5 34285.0,1139.5 34285.0,1227.0\" fill=\"none\" stroke=\"currentColor\"/>\n",
              "    <text dy=\"1.25em\" style=\"font-size: 0.8em; letter-spacing: 1px\">\n",
              "        <textPath xlink:href=\"#arrow-462b7d6f9ce44bfa8745565c0a8301ea-0-188\" class=\"displacy-label\" startOffset=\"50%\" side=\"left\" fill=\"currentColor\" text-anchor=\"middle\">prep</textPath>\n",
              "    </text>\n",
              "    <path class=\"displacy-arrowhead\" d=\"M34285.0,1229.0 L34293.0,1217.0 34277.0,1217.0\" fill=\"currentColor\"/>\n",
              "</g>\n",
              "\n",
              "<g class=\"displacy-arrow\">\n",
              "    <path class=\"displacy-arc\" id=\"arrow-462b7d6f9ce44bfa8745565c0a8301ea-0-189\" stroke-width=\"2px\" d=\"M34370,1227.0 C34370,1139.5 34460.0,1139.5 34460.0,1227.0\" fill=\"none\" stroke=\"currentColor\"/>\n",
              "    <text dy=\"1.25em\" style=\"font-size: 0.8em; letter-spacing: 1px\">\n",
              "        <textPath xlink:href=\"#arrow-462b7d6f9ce44bfa8745565c0a8301ea-0-189\" class=\"displacy-label\" startOffset=\"50%\" side=\"left\" fill=\"currentColor\" text-anchor=\"middle\">pobj</textPath>\n",
              "    </text>\n",
              "    <path class=\"displacy-arrowhead\" d=\"M34460.0,1229.0 L34468.0,1217.0 34452.0,1217.0\" fill=\"currentColor\"/>\n",
              "</g>\n",
              "\n",
              "<g class=\"displacy-arrow\">\n",
              "    <path class=\"displacy-arc\" id=\"arrow-462b7d6f9ce44bfa8745565c0a8301ea-0-190\" stroke-width=\"2px\" d=\"M34545,1227.0 C34545,1139.5 34635.0,1139.5 34635.0,1227.0\" fill=\"none\" stroke=\"currentColor\"/>\n",
              "    <text dy=\"1.25em\" style=\"font-size: 0.8em; letter-spacing: 1px\">\n",
              "        <textPath xlink:href=\"#arrow-462b7d6f9ce44bfa8745565c0a8301ea-0-190\" class=\"displacy-label\" startOffset=\"50%\" side=\"left\" fill=\"currentColor\" text-anchor=\"middle\">prep</textPath>\n",
              "    </text>\n",
              "    <path class=\"displacy-arrowhead\" d=\"M34635.0,1229.0 L34643.0,1217.0 34627.0,1217.0\" fill=\"currentColor\"/>\n",
              "</g>\n",
              "\n",
              "<g class=\"displacy-arrow\">\n",
              "    <path class=\"displacy-arc\" id=\"arrow-462b7d6f9ce44bfa8745565c0a8301ea-0-191\" stroke-width=\"2px\" d=\"M34720,1227.0 C34720,1139.5 34810.0,1139.5 34810.0,1227.0\" fill=\"none\" stroke=\"currentColor\"/>\n",
              "    <text dy=\"1.25em\" style=\"font-size: 0.8em; letter-spacing: 1px\">\n",
              "        <textPath xlink:href=\"#arrow-462b7d6f9ce44bfa8745565c0a8301ea-0-191\" class=\"displacy-label\" startOffset=\"50%\" side=\"left\" fill=\"currentColor\" text-anchor=\"middle\">pobj</textPath>\n",
              "    </text>\n",
              "    <path class=\"displacy-arrowhead\" d=\"M34810.0,1229.0 L34818.0,1217.0 34802.0,1217.0\" fill=\"currentColor\"/>\n",
              "</g>\n",
              "</svg></span>"
            ],
            "text/plain": [
              "<IPython.core.display.HTML object>"
            ]
          },
          "metadata": {
            "tags": []
          }
        }
      ]
    },
    {
      "cell_type": "markdown",
      "metadata": {
        "id": "Hbx92JXO6R17"
      },
      "source": [
        "### Named Entity Recognition"
      ]
    },
    {
      "cell_type": "markdown",
      "metadata": {
        "id": "OWyzADD46X86"
      },
      "source": [
        "**spaCy** 는 자연어를 처리하는 매우 빠른 통계 기반 라이브러리이다.\n",
        "\n",
        "회사, 장소, 조직, 제품 등의 고유명사를 식별하여 태깅할 수 있다. 통계 기반 프로세스이기 때문에 학습된 데이터에 따라 식별하는 정도가 달라질 수 있으며 필요한 경우 튜닝도 가능하다.\n",
        "\n",
        "spaCy에 의해 명명된 단어는 문서의 ents 속성으로 사용한다."
      ]
    },
    {
      "cell_type": "code",
      "metadata": {
        "colab": {
          "base_uri": "https://localhost:8080/"
        },
        "id": "9vN3cYXX6YGh",
        "outputId": "77a18b05-b50a-4e08-d31f-0ae3cc52b5ab"
      },
      "source": [
        "doc1 = nlp(train_data['excerpt'][22]);doc1"
      ],
      "execution_count": null,
      "outputs": [
        {
          "output_type": "execute_result",
          "data": {
            "text/plain": [
              "Were you ever on the coast of Maine? If so, you know how the rocky shores stretch out now and then clear into the ocean, and fret the salt waves till they are all in a foam. Old Ocean is not to be so set at defiance and have his rightful territory wrung from him, without taking his revenge after his own fashion. Far up into the land he sends his arms, and crooks and bends and makes his way amid the rocks, and finally falls asleep in some quiet harbor, where the tall pines stand by the shore to sing him a lullaby.\n",
              "In just such a spot as this the town we shall call Fairport was built. Axe in one hand and Bible in the other, stern settlers here found a home. Strong hard-featured sons, and fair rosy-cheeked daughters made glad the rude cabins that were soon scattered along the shore. The axe was plied in the woods, and the needle by the fireside, and yet grim Poverty was ever shaking her fist in the very faces of the settlers, and whispering sad things of what the uncertain future might have in store for them."
            ]
          },
          "metadata": {
            "tags": []
          },
          "execution_count": 115
        }
      ]
    },
    {
      "cell_type": "code",
      "metadata": {
        "colab": {
          "base_uri": "https://localhost:8080/"
        },
        "id": "Tg-IppeA8I1K",
        "outputId": "159bc04b-0fa1-4729-9a7f-33b2e8c0778b"
      },
      "source": [
        "# doc1에 속한 ents(Entity) 단어 확인\n",
        "doc1.ents"
      ],
      "execution_count": null,
      "outputs": [
        {
          "output_type": "execute_result",
          "data": {
            "text/plain": [
              "(Maine, Ocean, Fairport, Bible)"
            ]
          },
          "metadata": {
            "tags": []
          },
          "execution_count": 117
        }
      ]
    },
    {
      "cell_type": "code",
      "metadata": {
        "colab": {
          "base_uri": "https://localhost:8080/",
          "height": 225
        },
        "id": "o9UeYJuJ6YMv",
        "outputId": "6efd9ec2-5cd7-4fcd-bbb0-0ed7f1fbb050"
      },
      "source": [
        "# spacy를 사용하여 고유명사 태깅하기\n",
        "\n",
        "displacy.render(doc1, style=\"ent\", jupyter=\"True\")\n",
        "# gpe = Geopolitical Entity\n",
        "# org = Organization"
      ],
      "execution_count": null,
      "outputs": [
        {
          "output_type": "display_data",
          "data": {
            "text/html": [
              "<span class=\"tex2jax_ignore\"><div class=\"entities\" style=\"line-height: 2.5; direction: ltr\">Were you ever on the coast of \n",
              "<mark class=\"entity\" style=\"background: #feca74; padding: 0.45em 0.6em; margin: 0 0.25em; line-height: 1; border-radius: 0.35em;\">\n",
              "    Maine\n",
              "    <span style=\"font-size: 0.8em; font-weight: bold; line-height: 1; border-radius: 0.35em; text-transform: uppercase; vertical-align: middle; margin-left: 0.5rem\">GPE</span>\n",
              "</mark>\n",
              "? If so, you know how the rocky shores stretch out now and then clear into the ocean, and fret the salt waves till they are all in a foam. Old \n",
              "<mark class=\"entity\" style=\"background: #ff9561; padding: 0.45em 0.6em; margin: 0 0.25em; line-height: 1; border-radius: 0.35em;\">\n",
              "    Ocean\n",
              "    <span style=\"font-size: 0.8em; font-weight: bold; line-height: 1; border-radius: 0.35em; text-transform: uppercase; vertical-align: middle; margin-left: 0.5rem\">LOC</span>\n",
              "</mark>\n",
              " is not to be so set at defiance and have his rightful territory wrung from him, without taking his revenge after his own fashion. Far up into the land he sends his arms, and crooks and bends and makes his way amid the rocks, and finally falls asleep in some quiet harbor, where the tall pines stand by the shore to sing him a lullaby.</br>In just such a spot as this the town we shall call \n",
              "<mark class=\"entity\" style=\"background: #7aecec; padding: 0.45em 0.6em; margin: 0 0.25em; line-height: 1; border-radius: 0.35em;\">\n",
              "    Fairport\n",
              "    <span style=\"font-size: 0.8em; font-weight: bold; line-height: 1; border-radius: 0.35em; text-transform: uppercase; vertical-align: middle; margin-left: 0.5rem\">ORG</span>\n",
              "</mark>\n",
              " was built. Axe in one hand and \n",
              "<mark class=\"entity\" style=\"background: #f0d0ff; padding: 0.45em 0.6em; margin: 0 0.25em; line-height: 1; border-radius: 0.35em;\">\n",
              "    Bible\n",
              "    <span style=\"font-size: 0.8em; font-weight: bold; line-height: 1; border-radius: 0.35em; text-transform: uppercase; vertical-align: middle; margin-left: 0.5rem\">WORK_OF_ART</span>\n",
              "</mark>\n",
              " in the other, stern settlers here found a home. Strong hard-featured sons, and fair rosy-cheeked daughters made glad the rude cabins that were soon scattered along the shore. The axe was plied in the woods, and the needle by the fireside, and yet grim Poverty was ever shaking her fist in the very faces of the settlers, and whispering sad things of what the uncertain future might have in store for them.</div></span>"
            ],
            "text/plain": [
              "<IPython.core.display.HTML object>"
            ]
          },
          "metadata": {
            "tags": []
          }
        }
      ]
    },
    {
      "cell_type": "code",
      "metadata": {
        "colab": {
          "base_uri": "https://localhost:8080/"
        },
        "id": "HvXlU4Ui8p6A",
        "outputId": "f9e5aa08-464b-47cd-b707-cb0554a0d36d"
      },
      "source": [
        "for e in doc1.ents:\n",
        "  print(e.text, e.start_char, e.end_char, e.label_)"
      ],
      "execution_count": null,
      "outputs": [
        {
          "output_type": "stream",
          "text": [
            "Maine 30 35 GPE\n",
            "Ocean 178 183 LOC\n",
            "Fairport 570 578 ORG\n",
            "Bible 610 615 WORK_OF_ART\n"
          ],
          "name": "stdout"
        }
      ]
    },
    {
      "cell_type": "markdown",
      "metadata": {
        "id": "9voyb8MXsaZr"
      },
      "source": [
        "## Bag of Words + Model"
      ]
    },
    {
      "cell_type": "markdown",
      "metadata": {
        "id": "40PsbMFu9uRJ"
      },
      "source": [
        "Bag of Words는 문서 내 단어의 발생 빈도를 표현하는 방식. BoW를 만드는 과정은 다음과 같다.\n",
        "1. 문장의 각 단어에 고유한 인덱스를 부여한다.\n",
        "2. 각 인덱스의 단어에 해당 단어의 출현 횟수를 기록한 벡터를 생성한다."
      ]
    },
    {
      "cell_type": "code",
      "metadata": {
        "colab": {
          "base_uri": "https://localhost:8080/"
        },
        "id": "ge1FxfnGvG9t",
        "outputId": "2d5555ae-98d2-41dc-dc9d-98c0c6dd28f8"
      },
      "source": [
        "# Define Root Mean Squred Error\n",
        "rmse = lambda y_true, y_pred: np.sqrt(mse(y_true, y_pred))\n",
        "rmse_loss = lambda Estimator, X, y: rmse(y, Estimator.predict(X))\n",
        "\n",
        "# Split data into Train and Test sets\n",
        "x = train_data['excerpt_clean']\n",
        "y = train_data['target']\n",
        "\n",
        "print(len(x), len(y))\n",
        "\n",
        "x_train, x_test, y_train, y_test = train_test_split(x, y, random_state=42)\n",
        "print(len(x_train), len(y_train))\n",
        "print(len(x_test), len(y_test))"
      ],
      "execution_count": null,
      "outputs": [
        {
          "output_type": "stream",
          "text": [
            "2834 2834\n",
            "2125 2125\n",
            "709 709\n"
          ],
          "name": "stdout"
        }
      ]
    },
    {
      "cell_type": "markdown",
      "metadata": {
        "id": "4ZwIs-Zbsaf8"
      },
      "source": [
        "### Linear Regression"
      ]
    },
    {
      "cell_type": "code",
      "metadata": {
        "colab": {
          "base_uri": "https://localhost:8080/"
        },
        "id": "HU021Kmgsios",
        "outputId": "835686e5-bd81-4971-e2a0-fb4bf55f24d9"
      },
      "source": [
        "# Unigram only\n",
        "# CountVectorizer(...ngram_range=(min_n, max_n))\n",
        "# only unigram: (1,1)\n",
        "# unigram & bigram: (1,2)\n",
        "# only bigram: (2,2)\n",
        "\n",
        "# 단어에 대한 빈도수를 이용하여 Target 점수 선형회귀 계산\n",
        "\n",
        "model = make_pipeline(\n",
        "    CountVectorizer(ngram_range=(1,1)), # unigram only\n",
        "    LinearRegression(),\n",
        ")\n",
        "\n",
        "val_score = cross_val_score(\n",
        "    model, \n",
        "    train_data['excerpt_clean'], \n",
        "    train_data['target'], \n",
        "    scoring=rmse_loss\n",
        ").mean()\n",
        "\n",
        "print(f'Train Score for CountVectorizer(1,1): {val_score}')"
      ],
      "execution_count": null,
      "outputs": [
        {
          "output_type": "stream",
          "text": [
            "Train Score for CountVectorizer(1,1): 0.9262068130921135\n"
          ],
          "name": "stdout"
        }
      ]
    },
    {
      "cell_type": "code",
      "metadata": {
        "colab": {
          "base_uri": "https://localhost:8080/"
        },
        "id": "k-UGLRLovpnL",
        "outputId": "207f8cb7-b7a5-44d6-860a-f37cb183146e"
      },
      "source": [
        "# Bi-grams only\n",
        "\n",
        "model = make_pipeline(\n",
        "    CountVectorizer(ngram_range=(2,2)), # Bigram only\n",
        "    LinearRegression(),\n",
        ")\n",
        "\n",
        "val_score = cross_val_score(\n",
        "    model, \n",
        "    train_data['excerpt_clean'], \n",
        "    train_data['target'], \n",
        "    scoring=rmse_loss\n",
        ").mean()\n",
        "\n",
        "print(f'Train Score for CountVectorizer(2,2): {val_score}')"
      ],
      "execution_count": null,
      "outputs": [
        {
          "output_type": "stream",
          "text": [
            "Train Score for CountVectorizer(2,2): 0.9869933820566695\n"
          ],
          "name": "stdout"
        }
      ]
    },
    {
      "cell_type": "code",
      "metadata": {
        "colab": {
          "base_uri": "https://localhost:8080/"
        },
        "id": "CdBvErGuvw5g",
        "outputId": "db28685d-c8d8-432a-ffbb-b33ecf7440b5"
      },
      "source": [
        "# Unigram + Bigram\n",
        "\n",
        "model = make_pipeline(\n",
        "    CountVectorizer(ngram_range=(1,2)), # Unigram + Bigram\n",
        "    LinearRegression(),\n",
        ")\n",
        "\n",
        "val_score = cross_val_score(\n",
        "    model, \n",
        "    train_data['excerpt_clean'], \n",
        "    train_data['target'], \n",
        "    scoring=rmse_loss\n",
        ").mean()\n",
        "\n",
        "print(f'Train Score for CountVectorizer(1,2): {val_score}')"
      ],
      "execution_count": null,
      "outputs": [
        {
          "output_type": "stream",
          "text": [
            "Train Score for CountVectorizer(1,2): 0.8056790248654074\n"
          ],
          "name": "stdout"
        }
      ]
    },
    {
      "cell_type": "code",
      "metadata": {
        "colab": {
          "base_uri": "https://localhost:8080/"
        },
        "id": "hT1u9oStAt4K",
        "outputId": "f4e16233-c9c5-49d5-843c-3baf5093ba62"
      },
      "source": [
        "model"
      ],
      "execution_count": null,
      "outputs": [
        {
          "output_type": "execute_result",
          "data": {
            "text/plain": [
              "Pipeline(steps=[('countvectorizer', CountVectorizer(ngram_range=(1, 2))),\n",
              "                ('linearregression', LinearRegression())])"
            ]
          },
          "metadata": {
            "tags": []
          },
          "execution_count": 130
        }
      ]
    },
    {
      "cell_type": "code",
      "metadata": {
        "colab": {
          "base_uri": "https://localhost:8080/"
        },
        "id": "nb6_Pgoqv817",
        "outputId": "5a976604-9619-400e-e412-4d4128c02094"
      },
      "source": [
        "# Unigram + Bigram + Trigram\n",
        "\n",
        "model = make_pipeline(\n",
        "    CountVectorizer(ngram_range=(1,3)),\n",
        "    LinearRegression(),\n",
        ")\n",
        "\n",
        "val_score = cross_val_score(\n",
        "    model, \n",
        "    train_data['excerpt_clean'], \n",
        "    train_data['target'], \n",
        "    scoring=rmse_loss\n",
        ").mean()\n",
        "\n",
        "print(f'Train Score for CountVectorizer(1,3): {val_score}')"
      ],
      "execution_count": null,
      "outputs": [
        {
          "output_type": "stream",
          "text": [
            "Train Score for CountVectorizer(1,3): 0.80029988147739\n"
          ],
          "name": "stdout"
        }
      ]
    },
    {
      "cell_type": "markdown",
      "metadata": {
        "id": "nXZmdR7qsjQh"
      },
      "source": [
        "### Ridge Regression"
      ]
    },
    {
      "cell_type": "code",
      "metadata": {
        "colab": {
          "base_uri": "https://localhost:8080/"
        },
        "id": "M4e8suQrsvV9",
        "outputId": "aed3b41f-65a7-44b4-8e9a-fd1e86546e1e"
      },
      "source": [
        "# Ridge Regression with Unigram\n",
        "\n",
        "model = make_pipeline(\n",
        "    CountVectorizer(ngram_range=(1,1)),\n",
        "    Ridge(),\n",
        ")\n",
        "\n",
        "val_score = cross_val_score(\n",
        "    model, \n",
        "    train_data['excerpt_clean'], \n",
        "    train_data['target'], \n",
        "    scoring=rmse_loss\n",
        ").mean()\n",
        "\n",
        "print(f'Train Score for Ridge Regression: {val_score}')"
      ],
      "execution_count": null,
      "outputs": [
        {
          "output_type": "stream",
          "text": [
            "Train Score for Ridge Regression: 0.9171236575608557\n"
          ],
          "name": "stdout"
        }
      ]
    },
    {
      "cell_type": "code",
      "metadata": {
        "colab": {
          "base_uri": "https://localhost:8080/"
        },
        "id": "62prUZVKsmrM",
        "outputId": "f9269fe4-fab3-4006-c165-7dc25f8b41bd"
      },
      "source": [
        "# Ridge Regression with Unigram + Bigram + Trigram\n",
        "\n",
        "model = make_pipeline(\n",
        "    CountVectorizer(ngram_range=(1,3)),\n",
        "    Ridge(),\n",
        ")\n",
        "\n",
        "val_score = cross_val_score(\n",
        "    model, \n",
        "    train_data['excerpt_clean'], \n",
        "    train_data['target'], \n",
        "    scoring=rmse_loss\n",
        ").mean()\n",
        "\n",
        "print(f'Train Score for Ridge Regression: {val_score}')"
      ],
      "execution_count": null,
      "outputs": [
        {
          "output_type": "stream",
          "text": [
            "Train Score for Ridge Regression: 0.800328631450076\n"
          ],
          "name": "stdout"
        }
      ]
    },
    {
      "cell_type": "markdown",
      "metadata": {
        "id": "jVxC9HHwsn9d"
      },
      "source": [
        "### Extreme Gradient Boosting"
      ]
    },
    {
      "cell_type": "code",
      "metadata": {
        "colab": {
          "base_uri": "https://localhost:8080/"
        },
        "id": "zwGI3MtMsrWI",
        "outputId": "b88c0b76-fe50-458f-de23-9382f98b08c1"
      },
      "source": [
        "# xgb with Unigram\n",
        "\n",
        "model = make_pipeline(\n",
        "    CountVectorizer(ngram_range=(1,1)),\n",
        "    xgb.XGBRegressor() ,\n",
        ")\n",
        "\n",
        "val_score = cross_val_score(\n",
        "    model, \n",
        "    train_data['excerpt_clean'], \n",
        "    train_data['target'], \n",
        "    scoring=rmse_loss\n",
        ").mean()\n",
        "\n",
        "print(f'Train Score for Extreme Gradient Boosting: {val_score}')"
      ],
      "execution_count": null,
      "outputs": [
        {
          "output_type": "stream",
          "text": [
            "[03:45:43] WARNING: /workspace/src/objective/regression_obj.cu:152: reg:linear is now deprecated in favor of reg:squarederror.\n",
            "[03:45:46] WARNING: /workspace/src/objective/regression_obj.cu:152: reg:linear is now deprecated in favor of reg:squarederror.\n",
            "[03:45:49] WARNING: /workspace/src/objective/regression_obj.cu:152: reg:linear is now deprecated in favor of reg:squarederror.\n",
            "[03:45:51] WARNING: /workspace/src/objective/regression_obj.cu:152: reg:linear is now deprecated in favor of reg:squarederror.\n",
            "[03:45:53] WARNING: /workspace/src/objective/regression_obj.cu:152: reg:linear is now deprecated in favor of reg:squarederror.\n",
            "Train Score for Extreme Gradient Boosting: 0.8917063633326539\n"
          ],
          "name": "stdout"
        }
      ]
    },
    {
      "cell_type": "code",
      "metadata": {
        "colab": {
          "base_uri": "https://localhost:8080/"
        },
        "id": "9HCkLszLBtVe",
        "outputId": "9bc14f4f-3703-4a13-fc14-c78e83293a1f"
      },
      "source": [
        "# xgb with Unigram + Bigram\n",
        "\n",
        "model = make_pipeline(\n",
        "    CountVectorizer(ngram_range=(1,2)),\n",
        "    xgb.XGBRegressor() ,\n",
        ")\n",
        "\n",
        "val_score = cross_val_score(\n",
        "    model, \n",
        "    train_data['excerpt_clean'], \n",
        "    train_data['target'], \n",
        "    scoring=rmse_loss\n",
        ").mean()\n",
        "\n",
        "print(f'Train Score for Extreme Gradient Boosting: {val_score}')"
      ],
      "execution_count": null,
      "outputs": [
        {
          "output_type": "stream",
          "text": [
            "[03:52:08] WARNING: /workspace/src/objective/regression_obj.cu:152: reg:linear is now deprecated in favor of reg:squarederror.\n",
            "[03:52:23] WARNING: /workspace/src/objective/regression_obj.cu:152: reg:linear is now deprecated in favor of reg:squarederror.\n",
            "[03:52:37] WARNING: /workspace/src/objective/regression_obj.cu:152: reg:linear is now deprecated in favor of reg:squarederror.\n",
            "[03:52:52] WARNING: /workspace/src/objective/regression_obj.cu:152: reg:linear is now deprecated in favor of reg:squarederror.\n",
            "[03:53:07] WARNING: /workspace/src/objective/regression_obj.cu:152: reg:linear is now deprecated in favor of reg:squarederror.\n",
            "Train Score for Extreme Gradient Boosting: 0.8924020415154391\n"
          ],
          "name": "stdout"
        }
      ]
    },
    {
      "cell_type": "markdown",
      "metadata": {
        "id": "hcd1VZkUsr6d"
      },
      "source": [
        "## TF-IDF + Model"
      ]
    },
    {
      "cell_type": "code",
      "metadata": {
        "id": "jDExm4xQagJy"
      },
      "source": [
        "# TF-IDF 적용\n",
        "from sklearn.feature_extraction.text import CountVectorizer, TfidfVectorizer\n",
        "\n",
        "vectorizer = TfidfVectorizer()\n",
        "vectorizer.fit(train_data['excerpt_clean'])\n",
        "tfidf_train = vectorizer.transform(train_data['excerpt_clean'])"
      ],
      "execution_count": 79,
      "outputs": []
    },
    {
      "cell_type": "code",
      "metadata": {
        "colab": {
          "base_uri": "https://localhost:8080/"
        },
        "id": "6Cm_VIBVaufM",
        "outputId": "f0f2ea6c-9a5d-466f-9b4a-7d19e52014ab"
      },
      "source": [
        "# TF-IDF 적용 후 데이터 형태 \n",
        "tfidf_train.shape # (단어 수, 발췌문 수)"
      ],
      "execution_count": 80,
      "outputs": [
        {
          "output_type": "execute_result",
          "data": {
            "text/plain": [
              "(2834, 16569)"
            ]
          },
          "metadata": {
            "tags": []
          },
          "execution_count": 80
        }
      ]
    },
    {
      "cell_type": "code",
      "metadata": {
        "colab": {
          "base_uri": "https://localhost:8080/",
          "height": 438
        },
        "id": "z7PyBOQubGo-",
        "outputId": "24e5c81e-6b7a-420a-b7ef-a2cde06dac68"
      },
      "source": [
        "# Row: excerpt, Col: word\n",
        "pd.DataFrame(tfidf_train.toarray())"
      ],
      "execution_count": 81,
      "outputs": [
        {
          "output_type": "execute_result",
          "data": {
            "text/html": [
              "<div>\n",
              "<style scoped>\n",
              "    .dataframe tbody tr th:only-of-type {\n",
              "        vertical-align: middle;\n",
              "    }\n",
              "\n",
              "    .dataframe tbody tr th {\n",
              "        vertical-align: top;\n",
              "    }\n",
              "\n",
              "    .dataframe thead th {\n",
              "        text-align: right;\n",
              "    }\n",
              "</style>\n",
              "<table border=\"1\" class=\"dataframe\">\n",
              "  <thead>\n",
              "    <tr style=\"text-align: right;\">\n",
              "      <th></th>\n",
              "      <th>0</th>\n",
              "      <th>1</th>\n",
              "      <th>2</th>\n",
              "      <th>3</th>\n",
              "      <th>4</th>\n",
              "      <th>5</th>\n",
              "      <th>6</th>\n",
              "      <th>7</th>\n",
              "      <th>8</th>\n",
              "      <th>9</th>\n",
              "      <th>10</th>\n",
              "      <th>11</th>\n",
              "      <th>12</th>\n",
              "      <th>13</th>\n",
              "      <th>14</th>\n",
              "      <th>15</th>\n",
              "      <th>16</th>\n",
              "      <th>17</th>\n",
              "      <th>18</th>\n",
              "      <th>19</th>\n",
              "      <th>20</th>\n",
              "      <th>21</th>\n",
              "      <th>22</th>\n",
              "      <th>23</th>\n",
              "      <th>24</th>\n",
              "      <th>25</th>\n",
              "      <th>26</th>\n",
              "      <th>27</th>\n",
              "      <th>28</th>\n",
              "      <th>29</th>\n",
              "      <th>30</th>\n",
              "      <th>31</th>\n",
              "      <th>32</th>\n",
              "      <th>33</th>\n",
              "      <th>34</th>\n",
              "      <th>35</th>\n",
              "      <th>36</th>\n",
              "      <th>37</th>\n",
              "      <th>38</th>\n",
              "      <th>39</th>\n",
              "      <th>...</th>\n",
              "      <th>16529</th>\n",
              "      <th>16530</th>\n",
              "      <th>16531</th>\n",
              "      <th>16532</th>\n",
              "      <th>16533</th>\n",
              "      <th>16534</th>\n",
              "      <th>16535</th>\n",
              "      <th>16536</th>\n",
              "      <th>16537</th>\n",
              "      <th>16538</th>\n",
              "      <th>16539</th>\n",
              "      <th>16540</th>\n",
              "      <th>16541</th>\n",
              "      <th>16542</th>\n",
              "      <th>16543</th>\n",
              "      <th>16544</th>\n",
              "      <th>16545</th>\n",
              "      <th>16546</th>\n",
              "      <th>16547</th>\n",
              "      <th>16548</th>\n",
              "      <th>16549</th>\n",
              "      <th>16550</th>\n",
              "      <th>16551</th>\n",
              "      <th>16552</th>\n",
              "      <th>16553</th>\n",
              "      <th>16554</th>\n",
              "      <th>16555</th>\n",
              "      <th>16556</th>\n",
              "      <th>16557</th>\n",
              "      <th>16558</th>\n",
              "      <th>16559</th>\n",
              "      <th>16560</th>\n",
              "      <th>16561</th>\n",
              "      <th>16562</th>\n",
              "      <th>16563</th>\n",
              "      <th>16564</th>\n",
              "      <th>16565</th>\n",
              "      <th>16566</th>\n",
              "      <th>16567</th>\n",
              "      <th>16568</th>\n",
              "    </tr>\n",
              "  </thead>\n",
              "  <tbody>\n",
              "    <tr>\n",
              "      <th>0</th>\n",
              "      <td>0.0</td>\n",
              "      <td>0.0</td>\n",
              "      <td>0.0</td>\n",
              "      <td>0.0</td>\n",
              "      <td>0.0</td>\n",
              "      <td>0.0</td>\n",
              "      <td>0.0</td>\n",
              "      <td>0.0</td>\n",
              "      <td>0.0</td>\n",
              "      <td>0.0</td>\n",
              "      <td>0.0</td>\n",
              "      <td>0.0</td>\n",
              "      <td>0.0</td>\n",
              "      <td>0.0</td>\n",
              "      <td>0.0</td>\n",
              "      <td>0.0</td>\n",
              "      <td>0.0</td>\n",
              "      <td>0.0</td>\n",
              "      <td>0.0</td>\n",
              "      <td>0.0</td>\n",
              "      <td>0.0</td>\n",
              "      <td>0.0</td>\n",
              "      <td>0.0</td>\n",
              "      <td>0.0</td>\n",
              "      <td>0.0</td>\n",
              "      <td>0.0</td>\n",
              "      <td>0.0</td>\n",
              "      <td>0.0</td>\n",
              "      <td>0.0</td>\n",
              "      <td>0.0</td>\n",
              "      <td>0.0</td>\n",
              "      <td>0.0</td>\n",
              "      <td>0.0</td>\n",
              "      <td>0.0</td>\n",
              "      <td>0.0</td>\n",
              "      <td>0.0</td>\n",
              "      <td>0.0</td>\n",
              "      <td>0.0</td>\n",
              "      <td>0.0</td>\n",
              "      <td>0.0</td>\n",
              "      <td>...</td>\n",
              "      <td>0.0</td>\n",
              "      <td>0.0</td>\n",
              "      <td>0.0</td>\n",
              "      <td>0.0</td>\n",
              "      <td>0.0</td>\n",
              "      <td>0.0</td>\n",
              "      <td>0.0</td>\n",
              "      <td>0.0</td>\n",
              "      <td>0.0</td>\n",
              "      <td>0.0</td>\n",
              "      <td>0.0</td>\n",
              "      <td>0.0</td>\n",
              "      <td>0.0</td>\n",
              "      <td>0.0</td>\n",
              "      <td>0.0</td>\n",
              "      <td>0.0</td>\n",
              "      <td>0.0</td>\n",
              "      <td>0.0</td>\n",
              "      <td>0.0</td>\n",
              "      <td>0.0</td>\n",
              "      <td>0.0</td>\n",
              "      <td>0.0</td>\n",
              "      <td>0.0</td>\n",
              "      <td>0.0</td>\n",
              "      <td>0.0</td>\n",
              "      <td>0.0</td>\n",
              "      <td>0.0</td>\n",
              "      <td>0.0</td>\n",
              "      <td>0.0</td>\n",
              "      <td>0.0</td>\n",
              "      <td>0.0</td>\n",
              "      <td>0.0</td>\n",
              "      <td>0.0</td>\n",
              "      <td>0.0</td>\n",
              "      <td>0.0</td>\n",
              "      <td>0.0</td>\n",
              "      <td>0.0</td>\n",
              "      <td>0.0</td>\n",
              "      <td>0.0</td>\n",
              "      <td>0.0</td>\n",
              "    </tr>\n",
              "    <tr>\n",
              "      <th>1</th>\n",
              "      <td>0.0</td>\n",
              "      <td>0.0</td>\n",
              "      <td>0.0</td>\n",
              "      <td>0.0</td>\n",
              "      <td>0.0</td>\n",
              "      <td>0.0</td>\n",
              "      <td>0.0</td>\n",
              "      <td>0.0</td>\n",
              "      <td>0.0</td>\n",
              "      <td>0.0</td>\n",
              "      <td>0.0</td>\n",
              "      <td>0.0</td>\n",
              "      <td>0.0</td>\n",
              "      <td>0.0</td>\n",
              "      <td>0.0</td>\n",
              "      <td>0.0</td>\n",
              "      <td>0.0</td>\n",
              "      <td>0.0</td>\n",
              "      <td>0.0</td>\n",
              "      <td>0.0</td>\n",
              "      <td>0.0</td>\n",
              "      <td>0.0</td>\n",
              "      <td>0.0</td>\n",
              "      <td>0.0</td>\n",
              "      <td>0.0</td>\n",
              "      <td>0.0</td>\n",
              "      <td>0.0</td>\n",
              "      <td>0.0</td>\n",
              "      <td>0.0</td>\n",
              "      <td>0.0</td>\n",
              "      <td>0.0</td>\n",
              "      <td>0.0</td>\n",
              "      <td>0.0</td>\n",
              "      <td>0.0</td>\n",
              "      <td>0.0</td>\n",
              "      <td>0.0</td>\n",
              "      <td>0.0</td>\n",
              "      <td>0.0</td>\n",
              "      <td>0.0</td>\n",
              "      <td>0.0</td>\n",
              "      <td>...</td>\n",
              "      <td>0.0</td>\n",
              "      <td>0.0</td>\n",
              "      <td>0.0</td>\n",
              "      <td>0.0</td>\n",
              "      <td>0.0</td>\n",
              "      <td>0.0</td>\n",
              "      <td>0.0</td>\n",
              "      <td>0.0</td>\n",
              "      <td>0.0</td>\n",
              "      <td>0.0</td>\n",
              "      <td>0.0</td>\n",
              "      <td>0.0</td>\n",
              "      <td>0.0</td>\n",
              "      <td>0.0</td>\n",
              "      <td>0.0</td>\n",
              "      <td>0.0</td>\n",
              "      <td>0.0</td>\n",
              "      <td>0.0</td>\n",
              "      <td>0.0</td>\n",
              "      <td>0.0</td>\n",
              "      <td>0.0</td>\n",
              "      <td>0.0</td>\n",
              "      <td>0.0</td>\n",
              "      <td>0.0</td>\n",
              "      <td>0.0</td>\n",
              "      <td>0.0</td>\n",
              "      <td>0.0</td>\n",
              "      <td>0.0</td>\n",
              "      <td>0.0</td>\n",
              "      <td>0.0</td>\n",
              "      <td>0.0</td>\n",
              "      <td>0.0</td>\n",
              "      <td>0.0</td>\n",
              "      <td>0.0</td>\n",
              "      <td>0.0</td>\n",
              "      <td>0.0</td>\n",
              "      <td>0.0</td>\n",
              "      <td>0.0</td>\n",
              "      <td>0.0</td>\n",
              "      <td>0.0</td>\n",
              "    </tr>\n",
              "    <tr>\n",
              "      <th>2</th>\n",
              "      <td>0.0</td>\n",
              "      <td>0.0</td>\n",
              "      <td>0.0</td>\n",
              "      <td>0.0</td>\n",
              "      <td>0.0</td>\n",
              "      <td>0.0</td>\n",
              "      <td>0.0</td>\n",
              "      <td>0.0</td>\n",
              "      <td>0.0</td>\n",
              "      <td>0.0</td>\n",
              "      <td>0.0</td>\n",
              "      <td>0.0</td>\n",
              "      <td>0.0</td>\n",
              "      <td>0.0</td>\n",
              "      <td>0.0</td>\n",
              "      <td>0.0</td>\n",
              "      <td>0.0</td>\n",
              "      <td>0.0</td>\n",
              "      <td>0.0</td>\n",
              "      <td>0.0</td>\n",
              "      <td>0.0</td>\n",
              "      <td>0.0</td>\n",
              "      <td>0.0</td>\n",
              "      <td>0.0</td>\n",
              "      <td>0.0</td>\n",
              "      <td>0.0</td>\n",
              "      <td>0.0</td>\n",
              "      <td>0.0</td>\n",
              "      <td>0.0</td>\n",
              "      <td>0.0</td>\n",
              "      <td>0.0</td>\n",
              "      <td>0.0</td>\n",
              "      <td>0.0</td>\n",
              "      <td>0.0</td>\n",
              "      <td>0.0</td>\n",
              "      <td>0.0</td>\n",
              "      <td>0.0</td>\n",
              "      <td>0.0</td>\n",
              "      <td>0.0</td>\n",
              "      <td>0.0</td>\n",
              "      <td>...</td>\n",
              "      <td>0.0</td>\n",
              "      <td>0.0</td>\n",
              "      <td>0.0</td>\n",
              "      <td>0.0</td>\n",
              "      <td>0.0</td>\n",
              "      <td>0.0</td>\n",
              "      <td>0.0</td>\n",
              "      <td>0.0</td>\n",
              "      <td>0.0</td>\n",
              "      <td>0.0</td>\n",
              "      <td>0.0</td>\n",
              "      <td>0.0</td>\n",
              "      <td>0.0</td>\n",
              "      <td>0.0</td>\n",
              "      <td>0.0</td>\n",
              "      <td>0.0</td>\n",
              "      <td>0.0</td>\n",
              "      <td>0.0</td>\n",
              "      <td>0.0</td>\n",
              "      <td>0.0</td>\n",
              "      <td>0.0</td>\n",
              "      <td>0.0</td>\n",
              "      <td>0.0</td>\n",
              "      <td>0.0</td>\n",
              "      <td>0.0</td>\n",
              "      <td>0.0</td>\n",
              "      <td>0.0</td>\n",
              "      <td>0.0</td>\n",
              "      <td>0.0</td>\n",
              "      <td>0.0</td>\n",
              "      <td>0.0</td>\n",
              "      <td>0.0</td>\n",
              "      <td>0.0</td>\n",
              "      <td>0.0</td>\n",
              "      <td>0.0</td>\n",
              "      <td>0.0</td>\n",
              "      <td>0.0</td>\n",
              "      <td>0.0</td>\n",
              "      <td>0.0</td>\n",
              "      <td>0.0</td>\n",
              "    </tr>\n",
              "    <tr>\n",
              "      <th>3</th>\n",
              "      <td>0.0</td>\n",
              "      <td>0.0</td>\n",
              "      <td>0.0</td>\n",
              "      <td>0.0</td>\n",
              "      <td>0.0</td>\n",
              "      <td>0.0</td>\n",
              "      <td>0.0</td>\n",
              "      <td>0.0</td>\n",
              "      <td>0.0</td>\n",
              "      <td>0.0</td>\n",
              "      <td>0.0</td>\n",
              "      <td>0.0</td>\n",
              "      <td>0.0</td>\n",
              "      <td>0.0</td>\n",
              "      <td>0.0</td>\n",
              "      <td>0.0</td>\n",
              "      <td>0.0</td>\n",
              "      <td>0.0</td>\n",
              "      <td>0.0</td>\n",
              "      <td>0.0</td>\n",
              "      <td>0.0</td>\n",
              "      <td>0.0</td>\n",
              "      <td>0.0</td>\n",
              "      <td>0.0</td>\n",
              "      <td>0.0</td>\n",
              "      <td>0.0</td>\n",
              "      <td>0.0</td>\n",
              "      <td>0.0</td>\n",
              "      <td>0.0</td>\n",
              "      <td>0.0</td>\n",
              "      <td>0.0</td>\n",
              "      <td>0.0</td>\n",
              "      <td>0.0</td>\n",
              "      <td>0.0</td>\n",
              "      <td>0.0</td>\n",
              "      <td>0.0</td>\n",
              "      <td>0.0</td>\n",
              "      <td>0.0</td>\n",
              "      <td>0.0</td>\n",
              "      <td>0.0</td>\n",
              "      <td>...</td>\n",
              "      <td>0.0</td>\n",
              "      <td>0.0</td>\n",
              "      <td>0.0</td>\n",
              "      <td>0.0</td>\n",
              "      <td>0.0</td>\n",
              "      <td>0.0</td>\n",
              "      <td>0.0</td>\n",
              "      <td>0.0</td>\n",
              "      <td>0.0</td>\n",
              "      <td>0.0</td>\n",
              "      <td>0.0</td>\n",
              "      <td>0.0</td>\n",
              "      <td>0.0</td>\n",
              "      <td>0.0</td>\n",
              "      <td>0.0</td>\n",
              "      <td>0.0</td>\n",
              "      <td>0.0</td>\n",
              "      <td>0.0</td>\n",
              "      <td>0.0</td>\n",
              "      <td>0.0</td>\n",
              "      <td>0.0</td>\n",
              "      <td>0.0</td>\n",
              "      <td>0.0</td>\n",
              "      <td>0.0</td>\n",
              "      <td>0.0</td>\n",
              "      <td>0.0</td>\n",
              "      <td>0.0</td>\n",
              "      <td>0.0</td>\n",
              "      <td>0.0</td>\n",
              "      <td>0.0</td>\n",
              "      <td>0.0</td>\n",
              "      <td>0.0</td>\n",
              "      <td>0.0</td>\n",
              "      <td>0.0</td>\n",
              "      <td>0.0</td>\n",
              "      <td>0.0</td>\n",
              "      <td>0.0</td>\n",
              "      <td>0.0</td>\n",
              "      <td>0.0</td>\n",
              "      <td>0.0</td>\n",
              "    </tr>\n",
              "    <tr>\n",
              "      <th>4</th>\n",
              "      <td>0.0</td>\n",
              "      <td>0.0</td>\n",
              "      <td>0.0</td>\n",
              "      <td>0.0</td>\n",
              "      <td>0.0</td>\n",
              "      <td>0.0</td>\n",
              "      <td>0.0</td>\n",
              "      <td>0.0</td>\n",
              "      <td>0.0</td>\n",
              "      <td>0.0</td>\n",
              "      <td>0.0</td>\n",
              "      <td>0.0</td>\n",
              "      <td>0.0</td>\n",
              "      <td>0.0</td>\n",
              "      <td>0.0</td>\n",
              "      <td>0.0</td>\n",
              "      <td>0.0</td>\n",
              "      <td>0.0</td>\n",
              "      <td>0.0</td>\n",
              "      <td>0.0</td>\n",
              "      <td>0.0</td>\n",
              "      <td>0.0</td>\n",
              "      <td>0.0</td>\n",
              "      <td>0.0</td>\n",
              "      <td>0.0</td>\n",
              "      <td>0.0</td>\n",
              "      <td>0.0</td>\n",
              "      <td>0.0</td>\n",
              "      <td>0.0</td>\n",
              "      <td>0.0</td>\n",
              "      <td>0.0</td>\n",
              "      <td>0.0</td>\n",
              "      <td>0.0</td>\n",
              "      <td>0.0</td>\n",
              "      <td>0.0</td>\n",
              "      <td>0.0</td>\n",
              "      <td>0.0</td>\n",
              "      <td>0.0</td>\n",
              "      <td>0.0</td>\n",
              "      <td>0.0</td>\n",
              "      <td>...</td>\n",
              "      <td>0.0</td>\n",
              "      <td>0.0</td>\n",
              "      <td>0.0</td>\n",
              "      <td>0.0</td>\n",
              "      <td>0.0</td>\n",
              "      <td>0.0</td>\n",
              "      <td>0.0</td>\n",
              "      <td>0.0</td>\n",
              "      <td>0.0</td>\n",
              "      <td>0.0</td>\n",
              "      <td>0.0</td>\n",
              "      <td>0.0</td>\n",
              "      <td>0.0</td>\n",
              "      <td>0.0</td>\n",
              "      <td>0.0</td>\n",
              "      <td>0.0</td>\n",
              "      <td>0.0</td>\n",
              "      <td>0.0</td>\n",
              "      <td>0.0</td>\n",
              "      <td>0.0</td>\n",
              "      <td>0.0</td>\n",
              "      <td>0.0</td>\n",
              "      <td>0.0</td>\n",
              "      <td>0.0</td>\n",
              "      <td>0.0</td>\n",
              "      <td>0.0</td>\n",
              "      <td>0.0</td>\n",
              "      <td>0.0</td>\n",
              "      <td>0.0</td>\n",
              "      <td>0.0</td>\n",
              "      <td>0.0</td>\n",
              "      <td>0.0</td>\n",
              "      <td>0.0</td>\n",
              "      <td>0.0</td>\n",
              "      <td>0.0</td>\n",
              "      <td>0.0</td>\n",
              "      <td>0.0</td>\n",
              "      <td>0.0</td>\n",
              "      <td>0.0</td>\n",
              "      <td>0.0</td>\n",
              "    </tr>\n",
              "    <tr>\n",
              "      <th>...</th>\n",
              "      <td>...</td>\n",
              "      <td>...</td>\n",
              "      <td>...</td>\n",
              "      <td>...</td>\n",
              "      <td>...</td>\n",
              "      <td>...</td>\n",
              "      <td>...</td>\n",
              "      <td>...</td>\n",
              "      <td>...</td>\n",
              "      <td>...</td>\n",
              "      <td>...</td>\n",
              "      <td>...</td>\n",
              "      <td>...</td>\n",
              "      <td>...</td>\n",
              "      <td>...</td>\n",
              "      <td>...</td>\n",
              "      <td>...</td>\n",
              "      <td>...</td>\n",
              "      <td>...</td>\n",
              "      <td>...</td>\n",
              "      <td>...</td>\n",
              "      <td>...</td>\n",
              "      <td>...</td>\n",
              "      <td>...</td>\n",
              "      <td>...</td>\n",
              "      <td>...</td>\n",
              "      <td>...</td>\n",
              "      <td>...</td>\n",
              "      <td>...</td>\n",
              "      <td>...</td>\n",
              "      <td>...</td>\n",
              "      <td>...</td>\n",
              "      <td>...</td>\n",
              "      <td>...</td>\n",
              "      <td>...</td>\n",
              "      <td>...</td>\n",
              "      <td>...</td>\n",
              "      <td>...</td>\n",
              "      <td>...</td>\n",
              "      <td>...</td>\n",
              "      <td>...</td>\n",
              "      <td>...</td>\n",
              "      <td>...</td>\n",
              "      <td>...</td>\n",
              "      <td>...</td>\n",
              "      <td>...</td>\n",
              "      <td>...</td>\n",
              "      <td>...</td>\n",
              "      <td>...</td>\n",
              "      <td>...</td>\n",
              "      <td>...</td>\n",
              "      <td>...</td>\n",
              "      <td>...</td>\n",
              "      <td>...</td>\n",
              "      <td>...</td>\n",
              "      <td>...</td>\n",
              "      <td>...</td>\n",
              "      <td>...</td>\n",
              "      <td>...</td>\n",
              "      <td>...</td>\n",
              "      <td>...</td>\n",
              "      <td>...</td>\n",
              "      <td>...</td>\n",
              "      <td>...</td>\n",
              "      <td>...</td>\n",
              "      <td>...</td>\n",
              "      <td>...</td>\n",
              "      <td>...</td>\n",
              "      <td>...</td>\n",
              "      <td>...</td>\n",
              "      <td>...</td>\n",
              "      <td>...</td>\n",
              "      <td>...</td>\n",
              "      <td>...</td>\n",
              "      <td>...</td>\n",
              "      <td>...</td>\n",
              "      <td>...</td>\n",
              "      <td>...</td>\n",
              "      <td>...</td>\n",
              "      <td>...</td>\n",
              "      <td>...</td>\n",
              "    </tr>\n",
              "    <tr>\n",
              "      <th>2829</th>\n",
              "      <td>0.0</td>\n",
              "      <td>0.0</td>\n",
              "      <td>0.0</td>\n",
              "      <td>0.0</td>\n",
              "      <td>0.0</td>\n",
              "      <td>0.0</td>\n",
              "      <td>0.0</td>\n",
              "      <td>0.0</td>\n",
              "      <td>0.0</td>\n",
              "      <td>0.0</td>\n",
              "      <td>0.0</td>\n",
              "      <td>0.0</td>\n",
              "      <td>0.0</td>\n",
              "      <td>0.0</td>\n",
              "      <td>0.0</td>\n",
              "      <td>0.0</td>\n",
              "      <td>0.0</td>\n",
              "      <td>0.0</td>\n",
              "      <td>0.0</td>\n",
              "      <td>0.0</td>\n",
              "      <td>0.0</td>\n",
              "      <td>0.0</td>\n",
              "      <td>0.0</td>\n",
              "      <td>0.0</td>\n",
              "      <td>0.0</td>\n",
              "      <td>0.0</td>\n",
              "      <td>0.0</td>\n",
              "      <td>0.0</td>\n",
              "      <td>0.0</td>\n",
              "      <td>0.0</td>\n",
              "      <td>0.0</td>\n",
              "      <td>0.0</td>\n",
              "      <td>0.0</td>\n",
              "      <td>0.0</td>\n",
              "      <td>0.0</td>\n",
              "      <td>0.0</td>\n",
              "      <td>0.0</td>\n",
              "      <td>0.0</td>\n",
              "      <td>0.0</td>\n",
              "      <td>0.0</td>\n",
              "      <td>...</td>\n",
              "      <td>0.0</td>\n",
              "      <td>0.0</td>\n",
              "      <td>0.0</td>\n",
              "      <td>0.0</td>\n",
              "      <td>0.0</td>\n",
              "      <td>0.0</td>\n",
              "      <td>0.0</td>\n",
              "      <td>0.0</td>\n",
              "      <td>0.0</td>\n",
              "      <td>0.0</td>\n",
              "      <td>0.0</td>\n",
              "      <td>0.0</td>\n",
              "      <td>0.0</td>\n",
              "      <td>0.0</td>\n",
              "      <td>0.0</td>\n",
              "      <td>0.0</td>\n",
              "      <td>0.0</td>\n",
              "      <td>0.0</td>\n",
              "      <td>0.0</td>\n",
              "      <td>0.0</td>\n",
              "      <td>0.0</td>\n",
              "      <td>0.0</td>\n",
              "      <td>0.0</td>\n",
              "      <td>0.0</td>\n",
              "      <td>0.0</td>\n",
              "      <td>0.0</td>\n",
              "      <td>0.0</td>\n",
              "      <td>0.0</td>\n",
              "      <td>0.0</td>\n",
              "      <td>0.0</td>\n",
              "      <td>0.0</td>\n",
              "      <td>0.0</td>\n",
              "      <td>0.0</td>\n",
              "      <td>0.0</td>\n",
              "      <td>0.0</td>\n",
              "      <td>0.0</td>\n",
              "      <td>0.0</td>\n",
              "      <td>0.0</td>\n",
              "      <td>0.0</td>\n",
              "      <td>0.0</td>\n",
              "    </tr>\n",
              "    <tr>\n",
              "      <th>2830</th>\n",
              "      <td>0.0</td>\n",
              "      <td>0.0</td>\n",
              "      <td>0.0</td>\n",
              "      <td>0.0</td>\n",
              "      <td>0.0</td>\n",
              "      <td>0.0</td>\n",
              "      <td>0.0</td>\n",
              "      <td>0.0</td>\n",
              "      <td>0.0</td>\n",
              "      <td>0.0</td>\n",
              "      <td>0.0</td>\n",
              "      <td>0.0</td>\n",
              "      <td>0.0</td>\n",
              "      <td>0.0</td>\n",
              "      <td>0.0</td>\n",
              "      <td>0.0</td>\n",
              "      <td>0.0</td>\n",
              "      <td>0.0</td>\n",
              "      <td>0.0</td>\n",
              "      <td>0.0</td>\n",
              "      <td>0.0</td>\n",
              "      <td>0.0</td>\n",
              "      <td>0.0</td>\n",
              "      <td>0.0</td>\n",
              "      <td>0.0</td>\n",
              "      <td>0.0</td>\n",
              "      <td>0.0</td>\n",
              "      <td>0.0</td>\n",
              "      <td>0.0</td>\n",
              "      <td>0.0</td>\n",
              "      <td>0.0</td>\n",
              "      <td>0.0</td>\n",
              "      <td>0.0</td>\n",
              "      <td>0.0</td>\n",
              "      <td>0.0</td>\n",
              "      <td>0.0</td>\n",
              "      <td>0.0</td>\n",
              "      <td>0.0</td>\n",
              "      <td>0.0</td>\n",
              "      <td>0.0</td>\n",
              "      <td>...</td>\n",
              "      <td>0.0</td>\n",
              "      <td>0.0</td>\n",
              "      <td>0.0</td>\n",
              "      <td>0.0</td>\n",
              "      <td>0.0</td>\n",
              "      <td>0.0</td>\n",
              "      <td>0.0</td>\n",
              "      <td>0.0</td>\n",
              "      <td>0.0</td>\n",
              "      <td>0.0</td>\n",
              "      <td>0.0</td>\n",
              "      <td>0.0</td>\n",
              "      <td>0.0</td>\n",
              "      <td>0.0</td>\n",
              "      <td>0.0</td>\n",
              "      <td>0.0</td>\n",
              "      <td>0.0</td>\n",
              "      <td>0.0</td>\n",
              "      <td>0.0</td>\n",
              "      <td>0.0</td>\n",
              "      <td>0.0</td>\n",
              "      <td>0.0</td>\n",
              "      <td>0.0</td>\n",
              "      <td>0.0</td>\n",
              "      <td>0.0</td>\n",
              "      <td>0.0</td>\n",
              "      <td>0.0</td>\n",
              "      <td>0.0</td>\n",
              "      <td>0.0</td>\n",
              "      <td>0.0</td>\n",
              "      <td>0.0</td>\n",
              "      <td>0.0</td>\n",
              "      <td>0.0</td>\n",
              "      <td>0.0</td>\n",
              "      <td>0.0</td>\n",
              "      <td>0.0</td>\n",
              "      <td>0.0</td>\n",
              "      <td>0.0</td>\n",
              "      <td>0.0</td>\n",
              "      <td>0.0</td>\n",
              "    </tr>\n",
              "    <tr>\n",
              "      <th>2831</th>\n",
              "      <td>0.0</td>\n",
              "      <td>0.0</td>\n",
              "      <td>0.0</td>\n",
              "      <td>0.0</td>\n",
              "      <td>0.0</td>\n",
              "      <td>0.0</td>\n",
              "      <td>0.0</td>\n",
              "      <td>0.0</td>\n",
              "      <td>0.0</td>\n",
              "      <td>0.0</td>\n",
              "      <td>0.0</td>\n",
              "      <td>0.0</td>\n",
              "      <td>0.0</td>\n",
              "      <td>0.0</td>\n",
              "      <td>0.0</td>\n",
              "      <td>0.0</td>\n",
              "      <td>0.0</td>\n",
              "      <td>0.0</td>\n",
              "      <td>0.0</td>\n",
              "      <td>0.0</td>\n",
              "      <td>0.0</td>\n",
              "      <td>0.0</td>\n",
              "      <td>0.0</td>\n",
              "      <td>0.0</td>\n",
              "      <td>0.0</td>\n",
              "      <td>0.0</td>\n",
              "      <td>0.0</td>\n",
              "      <td>0.0</td>\n",
              "      <td>0.0</td>\n",
              "      <td>0.0</td>\n",
              "      <td>0.0</td>\n",
              "      <td>0.0</td>\n",
              "      <td>0.0</td>\n",
              "      <td>0.0</td>\n",
              "      <td>0.0</td>\n",
              "      <td>0.0</td>\n",
              "      <td>0.0</td>\n",
              "      <td>0.0</td>\n",
              "      <td>0.0</td>\n",
              "      <td>0.0</td>\n",
              "      <td>...</td>\n",
              "      <td>0.0</td>\n",
              "      <td>0.0</td>\n",
              "      <td>0.0</td>\n",
              "      <td>0.0</td>\n",
              "      <td>0.0</td>\n",
              "      <td>0.0</td>\n",
              "      <td>0.0</td>\n",
              "      <td>0.0</td>\n",
              "      <td>0.0</td>\n",
              "      <td>0.0</td>\n",
              "      <td>0.0</td>\n",
              "      <td>0.0</td>\n",
              "      <td>0.0</td>\n",
              "      <td>0.0</td>\n",
              "      <td>0.0</td>\n",
              "      <td>0.0</td>\n",
              "      <td>0.0</td>\n",
              "      <td>0.0</td>\n",
              "      <td>0.0</td>\n",
              "      <td>0.0</td>\n",
              "      <td>0.0</td>\n",
              "      <td>0.0</td>\n",
              "      <td>0.0</td>\n",
              "      <td>0.0</td>\n",
              "      <td>0.0</td>\n",
              "      <td>0.0</td>\n",
              "      <td>0.0</td>\n",
              "      <td>0.0</td>\n",
              "      <td>0.0</td>\n",
              "      <td>0.0</td>\n",
              "      <td>0.0</td>\n",
              "      <td>0.0</td>\n",
              "      <td>0.0</td>\n",
              "      <td>0.0</td>\n",
              "      <td>0.0</td>\n",
              "      <td>0.0</td>\n",
              "      <td>0.0</td>\n",
              "      <td>0.0</td>\n",
              "      <td>0.0</td>\n",
              "      <td>0.0</td>\n",
              "    </tr>\n",
              "    <tr>\n",
              "      <th>2832</th>\n",
              "      <td>0.0</td>\n",
              "      <td>0.0</td>\n",
              "      <td>0.0</td>\n",
              "      <td>0.0</td>\n",
              "      <td>0.0</td>\n",
              "      <td>0.0</td>\n",
              "      <td>0.0</td>\n",
              "      <td>0.0</td>\n",
              "      <td>0.0</td>\n",
              "      <td>0.0</td>\n",
              "      <td>0.0</td>\n",
              "      <td>0.0</td>\n",
              "      <td>0.0</td>\n",
              "      <td>0.0</td>\n",
              "      <td>0.0</td>\n",
              "      <td>0.0</td>\n",
              "      <td>0.0</td>\n",
              "      <td>0.0</td>\n",
              "      <td>0.0</td>\n",
              "      <td>0.0</td>\n",
              "      <td>0.0</td>\n",
              "      <td>0.0</td>\n",
              "      <td>0.0</td>\n",
              "      <td>0.0</td>\n",
              "      <td>0.0</td>\n",
              "      <td>0.0</td>\n",
              "      <td>0.0</td>\n",
              "      <td>0.0</td>\n",
              "      <td>0.0</td>\n",
              "      <td>0.0</td>\n",
              "      <td>0.0</td>\n",
              "      <td>0.0</td>\n",
              "      <td>0.0</td>\n",
              "      <td>0.0</td>\n",
              "      <td>0.0</td>\n",
              "      <td>0.0</td>\n",
              "      <td>0.0</td>\n",
              "      <td>0.0</td>\n",
              "      <td>0.0</td>\n",
              "      <td>0.0</td>\n",
              "      <td>...</td>\n",
              "      <td>0.0</td>\n",
              "      <td>0.0</td>\n",
              "      <td>0.0</td>\n",
              "      <td>0.0</td>\n",
              "      <td>0.0</td>\n",
              "      <td>0.0</td>\n",
              "      <td>0.0</td>\n",
              "      <td>0.0</td>\n",
              "      <td>0.0</td>\n",
              "      <td>0.0</td>\n",
              "      <td>0.0</td>\n",
              "      <td>0.0</td>\n",
              "      <td>0.0</td>\n",
              "      <td>0.0</td>\n",
              "      <td>0.0</td>\n",
              "      <td>0.0</td>\n",
              "      <td>0.0</td>\n",
              "      <td>0.0</td>\n",
              "      <td>0.0</td>\n",
              "      <td>0.0</td>\n",
              "      <td>0.0</td>\n",
              "      <td>0.0</td>\n",
              "      <td>0.0</td>\n",
              "      <td>0.0</td>\n",
              "      <td>0.0</td>\n",
              "      <td>0.0</td>\n",
              "      <td>0.0</td>\n",
              "      <td>0.0</td>\n",
              "      <td>0.0</td>\n",
              "      <td>0.0</td>\n",
              "      <td>0.0</td>\n",
              "      <td>0.0</td>\n",
              "      <td>0.0</td>\n",
              "      <td>0.0</td>\n",
              "      <td>0.0</td>\n",
              "      <td>0.0</td>\n",
              "      <td>0.0</td>\n",
              "      <td>0.0</td>\n",
              "      <td>0.0</td>\n",
              "      <td>0.0</td>\n",
              "    </tr>\n",
              "    <tr>\n",
              "      <th>2833</th>\n",
              "      <td>0.0</td>\n",
              "      <td>0.0</td>\n",
              "      <td>0.0</td>\n",
              "      <td>0.0</td>\n",
              "      <td>0.0</td>\n",
              "      <td>0.0</td>\n",
              "      <td>0.0</td>\n",
              "      <td>0.0</td>\n",
              "      <td>0.0</td>\n",
              "      <td>0.0</td>\n",
              "      <td>0.0</td>\n",
              "      <td>0.0</td>\n",
              "      <td>0.0</td>\n",
              "      <td>0.0</td>\n",
              "      <td>0.0</td>\n",
              "      <td>0.0</td>\n",
              "      <td>0.0</td>\n",
              "      <td>0.0</td>\n",
              "      <td>0.0</td>\n",
              "      <td>0.0</td>\n",
              "      <td>0.0</td>\n",
              "      <td>0.0</td>\n",
              "      <td>0.0</td>\n",
              "      <td>0.0</td>\n",
              "      <td>0.0</td>\n",
              "      <td>0.0</td>\n",
              "      <td>0.0</td>\n",
              "      <td>0.0</td>\n",
              "      <td>0.0</td>\n",
              "      <td>0.0</td>\n",
              "      <td>0.0</td>\n",
              "      <td>0.0</td>\n",
              "      <td>0.0</td>\n",
              "      <td>0.0</td>\n",
              "      <td>0.0</td>\n",
              "      <td>0.0</td>\n",
              "      <td>0.0</td>\n",
              "      <td>0.0</td>\n",
              "      <td>0.0</td>\n",
              "      <td>0.0</td>\n",
              "      <td>...</td>\n",
              "      <td>0.0</td>\n",
              "      <td>0.0</td>\n",
              "      <td>0.0</td>\n",
              "      <td>0.0</td>\n",
              "      <td>0.0</td>\n",
              "      <td>0.0</td>\n",
              "      <td>0.0</td>\n",
              "      <td>0.0</td>\n",
              "      <td>0.0</td>\n",
              "      <td>0.0</td>\n",
              "      <td>0.0</td>\n",
              "      <td>0.0</td>\n",
              "      <td>0.0</td>\n",
              "      <td>0.0</td>\n",
              "      <td>0.0</td>\n",
              "      <td>0.0</td>\n",
              "      <td>0.0</td>\n",
              "      <td>0.0</td>\n",
              "      <td>0.0</td>\n",
              "      <td>0.0</td>\n",
              "      <td>0.0</td>\n",
              "      <td>0.0</td>\n",
              "      <td>0.0</td>\n",
              "      <td>0.0</td>\n",
              "      <td>0.0</td>\n",
              "      <td>0.0</td>\n",
              "      <td>0.0</td>\n",
              "      <td>0.0</td>\n",
              "      <td>0.0</td>\n",
              "      <td>0.0</td>\n",
              "      <td>0.0</td>\n",
              "      <td>0.0</td>\n",
              "      <td>0.0</td>\n",
              "      <td>0.0</td>\n",
              "      <td>0.0</td>\n",
              "      <td>0.0</td>\n",
              "      <td>0.0</td>\n",
              "      <td>0.0</td>\n",
              "      <td>0.0</td>\n",
              "      <td>0.0</td>\n",
              "    </tr>\n",
              "  </tbody>\n",
              "</table>\n",
              "<p>2834 rows × 16569 columns</p>\n",
              "</div>"
            ],
            "text/plain": [
              "      0      1      2      3      4      ...  16564  16565  16566  16567  16568\n",
              "0       0.0    0.0    0.0    0.0    0.0  ...    0.0    0.0    0.0    0.0    0.0\n",
              "1       0.0    0.0    0.0    0.0    0.0  ...    0.0    0.0    0.0    0.0    0.0\n",
              "2       0.0    0.0    0.0    0.0    0.0  ...    0.0    0.0    0.0    0.0    0.0\n",
              "3       0.0    0.0    0.0    0.0    0.0  ...    0.0    0.0    0.0    0.0    0.0\n",
              "4       0.0    0.0    0.0    0.0    0.0  ...    0.0    0.0    0.0    0.0    0.0\n",
              "...     ...    ...    ...    ...    ...  ...    ...    ...    ...    ...    ...\n",
              "2829    0.0    0.0    0.0    0.0    0.0  ...    0.0    0.0    0.0    0.0    0.0\n",
              "2830    0.0    0.0    0.0    0.0    0.0  ...    0.0    0.0    0.0    0.0    0.0\n",
              "2831    0.0    0.0    0.0    0.0    0.0  ...    0.0    0.0    0.0    0.0    0.0\n",
              "2832    0.0    0.0    0.0    0.0    0.0  ...    0.0    0.0    0.0    0.0    0.0\n",
              "2833    0.0    0.0    0.0    0.0    0.0  ...    0.0    0.0    0.0    0.0    0.0\n",
              "\n",
              "[2834 rows x 16569 columns]"
            ]
          },
          "metadata": {
            "tags": []
          },
          "execution_count": 81
        }
      ]
    },
    {
      "cell_type": "code",
      "metadata": {
        "id": "AmTeDBs2bnWy"
      },
      "source": [
        "# Linear Regression 적용\n",
        "import torch\n",
        "import torch.nn as nn\n",
        "import torch.nn.functional as F\n",
        "import torch.optim as optim"
      ],
      "execution_count": null,
      "outputs": []
    },
    {
      "cell_type": "code",
      "metadata": {
        "colab": {
          "base_uri": "https://localhost:8080/"
        },
        "id": "feDhYfaOc4k4",
        "outputId": "9aeccea7-eadb-4eaf-81c1-c7c177a4dd43"
      },
      "source": [
        "torch.FloatTensor([[1], [2], [3]])"
      ],
      "execution_count": null,
      "outputs": [
        {
          "output_type": "execute_result",
          "data": {
            "text/plain": [
              "tensor([[1.],\n",
              "        [2.],\n",
              "        [3.]])"
            ]
          },
          "metadata": {
            "tags": []
          },
          "execution_count": 33
        }
      ]
    },
    {
      "cell_type": "code",
      "metadata": {
        "id": "Z7u4VJqyc2dh"
      },
      "source": [
        "x_train = torch.FloatTensor(tfidf_train.toarray())\n",
        "y_train = torch.FloatTensor(train_data['target'])"
      ],
      "execution_count": 50,
      "outputs": []
    },
    {
      "cell_type": "code",
      "metadata": {
        "colab": {
          "base_uri": "https://localhost:8080/"
        },
        "id": "kGMywxEDjSjO",
        "outputId": "c1f92973-f03d-4981-fee7-18e05851df4e"
      },
      "source": [
        "y_train"
      ],
      "execution_count": 46,
      "outputs": [
        {
          "output_type": "execute_result",
          "data": {
            "text/plain": [
              "tensor([-0.3403, -0.3154, -0.5801,  ...,  0.2552, -0.2153,  0.3008])"
            ]
          },
          "metadata": {
            "tags": []
          },
          "execution_count": 46
        }
      ]
    },
    {
      "cell_type": "code",
      "metadata": {
        "colab": {
          "base_uri": "https://localhost:8080/"
        },
        "id": "9YSrB7GKduKl",
        "outputId": "033d550e-c012-43c9-cf6b-dfee433a0f1d"
      },
      "source": [
        "x_train.shape"
      ],
      "execution_count": 28,
      "outputs": [
        {
          "output_type": "execute_result",
          "data": {
            "text/plain": [
              "torch.Size([2834, 16569])"
            ]
          },
          "metadata": {
            "tags": []
          },
          "execution_count": 28
        }
      ]
    },
    {
      "cell_type": "code",
      "metadata": {
        "colab": {
          "base_uri": "https://localhost:8080/"
        },
        "id": "h2Osa1fSdqSO",
        "outputId": "2d8ea6be-1b67-401d-b0e0-c6c38610b8f2"
      },
      "source": [
        "y_train = torch.reshape(y_train, (2834,1)) \n",
        "y_train.shape"
      ],
      "execution_count": 51,
      "outputs": [
        {
          "output_type": "execute_result",
          "data": {
            "text/plain": [
              "torch.Size([2834, 1])"
            ]
          },
          "metadata": {
            "tags": []
          },
          "execution_count": 51
        }
      ]
    },
    {
      "cell_type": "markdown",
      "metadata": {
        "id": "a_LzGra8edMV"
      },
      "source": [
        "기본적으로 pyTorch는 NCHW형태로 데이터를 입력받는다.\n",
        "\n",
        "NVIDIA 또한 GPU Accelerator의 최적 입력값으로 NCHW 형식을 사용한다. 최적의 성능을 위해서는 NCHW 형태로 변환하는 것을 권장한다."
      ]
    },
    {
      "cell_type": "code",
      "metadata": {
        "id": "UN30FezBeLZ1"
      },
      "source": [
        "# 다중 회귀 모델 정의\n",
        "\n",
        "class MultivariateLinearRegression(nn.Module):\n",
        "  def __init__(self):\n",
        "    super().__init__()\n",
        "    self.linear = nn.Linear(16569,1) # 다항 개수 \n",
        "\n",
        "  def forward(self, x):\n",
        "    return self.linear(x)"
      ],
      "execution_count": 72,
      "outputs": []
    },
    {
      "cell_type": "code",
      "metadata": {
        "id": "8-559SH_ei0C"
      },
      "source": [
        "torch.manual_seed(42)\n",
        "model = MultivariateLinearRegression()"
      ],
      "execution_count": 73,
      "outputs": []
    },
    {
      "cell_type": "code",
      "metadata": {
        "id": "RL74MUXYfvUO"
      },
      "source": [
        "hypothesis = model(x_train)"
      ],
      "execution_count": 74,
      "outputs": []
    },
    {
      "cell_type": "code",
      "metadata": {
        "colab": {
          "base_uri": "https://localhost:8080/"
        },
        "id": "iPN3haLVf_0N",
        "outputId": "c19dd277-0b53-46d8-91ab-c02f7856f4b2"
      },
      "source": [
        "print(hypothesis.shape)\n",
        "print(y_train.shape)"
      ],
      "execution_count": 75,
      "outputs": [
        {
          "output_type": "stream",
          "text": [
            "torch.Size([2834, 1])\n",
            "torch.Size([2834, 1])\n"
          ],
          "name": "stdout"
        }
      ]
    },
    {
      "cell_type": "code",
      "metadata": {
        "colab": {
          "base_uri": "https://localhost:8080/"
        },
        "id": "hJSXU_VirLe1",
        "outputId": "9600e24f-2cde-41a0-b2ff-9d054ceba15a"
      },
      "source": [
        "x_train"
      ],
      "execution_count": 76,
      "outputs": [
        {
          "output_type": "execute_result",
          "data": {
            "text/plain": [
              "tensor([[0., 0., 0.,  ..., 0., 0., 0.],\n",
              "        [0., 0., 0.,  ..., 0., 0., 0.],\n",
              "        [0., 0., 0.,  ..., 0., 0., 0.],\n",
              "        ...,\n",
              "        [0., 0., 0.,  ..., 0., 0., 0.],\n",
              "        [0., 0., 0.,  ..., 0., 0., 0.],\n",
              "        [0., 0., 0.,  ..., 0., 0., 0.]])"
            ]
          },
          "metadata": {
            "tags": []
          },
          "execution_count": 76
        }
      ]
    },
    {
      "cell_type": "code",
      "metadata": {
        "colab": {
          "base_uri": "https://localhost:8080/"
        },
        "id": "arPsy7perOFt",
        "outputId": "1c5a2d60-e42a-44ac-e4d5-b2ca3a9b2ef9"
      },
      "source": [
        "y_train"
      ],
      "execution_count": 77,
      "outputs": [
        {
          "output_type": "execute_result",
          "data": {
            "text/plain": [
              "tensor([[-0.3403],\n",
              "        [-0.3154],\n",
              "        [-0.5801],\n",
              "        ...,\n",
              "        [ 0.2552],\n",
              "        [-0.2153],\n",
              "        [ 0.3008]])"
            ]
          },
          "metadata": {
            "tags": []
          },
          "execution_count": 77
        }
      ]
    },
    {
      "cell_type": "code",
      "metadata": {
        "id": "CE1H4-rWglY_"
      },
      "source": [
        "# RMSE loss function 정의\n",
        "class RMSELoss(nn.Module):\n",
        "  def __init__(self):\n",
        "    super().__init__()\n",
        "    self.mse = nn.MSELoss()\n",
        "\n",
        "  def forward(self, y_hat, y):\n",
        "    return torch.sqrt(self.mse(y_hat, y))"
      ],
      "execution_count": 61,
      "outputs": []
    },
    {
      "cell_type": "code",
      "metadata": {
        "colab": {
          "base_uri": "https://localhost:8080/"
        },
        "id": "tMDRLrDCkTPh",
        "outputId": "a6fcf229-ddd3-461b-c53b-ed154d6abfdf"
      },
      "source": [
        "epochs = 1000\n",
        "hypothesis = model(x_train)\n",
        "rmse_loss = RMSELoss()\n",
        "optimizer = optim.SGD(model.parameters(), lr=0.001)\n",
        "\n",
        "for epoch in range(epochs+1):\n",
        "\n",
        "  prediction = model(x_train)\n",
        "  cost = rmse_loss(prediction, y_train)\n",
        "\n",
        "  optimizer.zero_grad()\n",
        "  cost.backward(retain_graph=True)\n",
        "  optimizer.step()\n",
        "\n",
        "  if epoch%100 == 0:\n",
        "    print(f\"Epoch: {epoch}/{epochs}  Cost: {cost.item()}\")"
      ],
      "execution_count": 78,
      "outputs": [
        {
          "output_type": "stream",
          "text": [
            "Epoch: 0/1000  Cost: 1.415529489517212\n",
            "Epoch: 100/1000  Cost: 1.3699359893798828\n",
            "Epoch: 200/1000  Cost: 1.3280140161514282\n",
            "Epoch: 300/1000  Cost: 1.289779543876648\n",
            "Epoch: 400/1000  Cost: 1.2551976442337036\n",
            "Epoch: 500/1000  Cost: 1.2241817712783813\n",
            "Epoch: 600/1000  Cost: 1.1965950727462769\n",
            "Epoch: 700/1000  Cost: 1.1722571849822998\n",
            "Epoch: 800/1000  Cost: 1.150951862335205\n",
            "Epoch: 900/1000  Cost: 1.1324365139007568\n",
            "Epoch: 1000/1000  Cost: 1.1164535284042358\n"
          ],
          "name": "stdout"
        }
      ]
    },
    {
      "cell_type": "code",
      "metadata": {
        "id": "NPbFNBASsw4c"
      },
      "source": [
        "# TF-IDF + 여러 model 함수 작성\n",
        "\n",
        "def training(model, X_train, y_train, X_test, y_test, model_name, ngram_range):\n",
        "    t1 = time.time()\n",
        "    \n",
        "    model = make_pipeline(\n",
        "        TfidfVectorizer(binary=True, ngram_range=ngram_range),\n",
        "        model,\n",
        "    )\n",
        "    model.fit(X_train, y_train)\n",
        "    y_pred = model.predict(X_test)\n",
        "    RMSE = rmse(y_test, y_pred)\n",
        "    \n",
        "    t2 = time.time()\n",
        "    training_time = t2-t1 \n",
        "    return RMSE, training_time"
      ],
      "execution_count": null,
      "outputs": []
    },
    {
      "cell_type": "code",
      "metadata": {
        "id": "g2Bneo4esxJC"
      },
      "source": [
        "# 모델 선언하기\n",
        "ridge = Ridge(fit_intercept = True, normalize = False)\n",
        "lr = LinearRegression()\n",
        "xgbr = xgb.XGBRegressor()\n",
        "lasso = Lasso(alpha=0.1)\n",
        "tr = TweedieRegressor()\n",
        "hr = HuberRegressor(max_iter = 300)\n",
        "models = [ridge,lr,xgbr,lasso,tr,hr]\n",
        "\n",
        "modelnames = [\"Ridge Regression\",\"Linear Regression\",\"Extreme Gradient Boosting\", \"Lasso Regression\",\"Tweedie Regressor\",\"Huber Regressor\"]"
      ],
      "execution_count": null,
      "outputs": []
    },
    {
      "cell_type": "code",
      "metadata": {
        "id": "SG89vBgqs6xZ"
      },
      "source": [
        "X = train_data[\"excerpt_clean\"]\n",
        "y = train_data['target']\n",
        "\n",
        "X_train, X_test, y_train, y_test = train_test_split(X, y, test_size=0.33, random_state=42)\n",
        "\n",
        "n_gram_dict = { \"Unigram\" : (1,1), \"Unigrams + Bigrams\": (1,2), \"Bigrams alone\": (2,2), \"Unigrams + Bigrams + Trigrams\": (1,3)}\n",
        "rmse_dict = collections.defaultdict(list)\n",
        "time_dict = collections.defaultdict(list)\n",
        "for n_gram in n_gram_dict.keys():\n",
        "    for i in range(0,len(models)):\n",
        "        result = training(model=models[i], X_train=X_train, y_train=y_train, X_test=X_test,y_test=y_test, model_name=modelnames[i],ngram_range=n_gram_dict[n_gram])\n",
        "        rmse_dict[n_gram] += [result[0]] \n",
        "        time_dict[n_gram] += [result[1]]"
      ],
      "execution_count": null,
      "outputs": []
    },
    {
      "cell_type": "code",
      "metadata": {
        "colab": {
          "base_uri": "https://localhost:8080/",
          "height": 172
        },
        "id": "xltDDjIJUP8-",
        "outputId": "3b7197d2-0678-4d66-c846-921932ed8505"
      },
      "source": [
        "# N-gram & Regression 조합 훈련 결과 테이블(RMSE)\n",
        "pd.DataFrame.from_dict(rmse_dict, orient='index', columns=modelnames)"
      ],
      "execution_count": null,
      "outputs": [
        {
          "output_type": "execute_result",
          "data": {
            "text/html": [
              "<div>\n",
              "<style scoped>\n",
              "    .dataframe tbody tr th:only-of-type {\n",
              "        vertical-align: middle;\n",
              "    }\n",
              "\n",
              "    .dataframe tbody tr th {\n",
              "        vertical-align: top;\n",
              "    }\n",
              "\n",
              "    .dataframe thead th {\n",
              "        text-align: right;\n",
              "    }\n",
              "</style>\n",
              "<table border=\"1\" class=\"dataframe\">\n",
              "  <thead>\n",
              "    <tr style=\"text-align: right;\">\n",
              "      <th></th>\n",
              "      <th>Ridge Regression</th>\n",
              "      <th>Linear Regression</th>\n",
              "      <th>Extreme Gradient Boosting</th>\n",
              "      <th>Lasso Regression</th>\n",
              "      <th>Tweedie Regressor</th>\n",
              "      <th>Huber Regressor</th>\n",
              "    </tr>\n",
              "  </thead>\n",
              "  <tbody>\n",
              "    <tr>\n",
              "      <th>Unigram</th>\n",
              "      <td>0.735756</td>\n",
              "      <td>0.790700</td>\n",
              "      <td>0.840579</td>\n",
              "      <td>1.039898</td>\n",
              "      <td>1.037362</td>\n",
              "      <td>0.785778</td>\n",
              "    </tr>\n",
              "    <tr>\n",
              "      <th>Unigrams + Bigrams</th>\n",
              "      <td>0.757662</td>\n",
              "      <td>0.762766</td>\n",
              "      <td>0.954453</td>\n",
              "      <td>1.039898</td>\n",
              "      <td>1.038875</td>\n",
              "      <td>0.762204</td>\n",
              "    </tr>\n",
              "    <tr>\n",
              "      <th>Bigrams alone</th>\n",
              "      <td>0.959778</td>\n",
              "      <td>0.910347</td>\n",
              "      <td>1.009035</td>\n",
              "      <td>1.039898</td>\n",
              "      <td>1.039794</td>\n",
              "      <td>0.910826</td>\n",
              "    </tr>\n",
              "    <tr>\n",
              "      <th>Unigrams + Bigrams + Trigrams</th>\n",
              "      <td>0.774075</td>\n",
              "      <td>0.791178</td>\n",
              "      <td>0.934292</td>\n",
              "      <td>1.039898</td>\n",
              "      <td>1.039138</td>\n",
              "      <td>0.790582</td>\n",
              "    </tr>\n",
              "  </tbody>\n",
              "</table>\n",
              "</div>"
            ],
            "text/plain": [
              "                               Ridge Regression  ...  Huber Regressor\n",
              "Unigram                                0.735756  ...         0.785778\n",
              "Unigrams + Bigrams                     0.757662  ...         0.762204\n",
              "Bigrams alone                          0.959778  ...         0.910826\n",
              "Unigrams + Bigrams + Trigrams          0.774075  ...         0.790582\n",
              "\n",
              "[4 rows x 6 columns]"
            ]
          },
          "metadata": {
            "tags": []
          },
          "execution_count": 174
        }
      ]
    },
    {
      "cell_type": "code",
      "metadata": {
        "colab": {
          "base_uri": "https://localhost:8080/",
          "height": 172
        },
        "id": "9mmB8Ej8Uugf",
        "outputId": "0bd47067-4474-4128-d96c-ffd7e8ed372b"
      },
      "source": [
        "# N-gram & Regression 조합 훈련 시간 테이블\n",
        "pd.DataFrame.from_dict(time_dict, orient='index', columns=modelnames)"
      ],
      "execution_count": null,
      "outputs": [
        {
          "output_type": "execute_result",
          "data": {
            "text/html": [
              "<div>\n",
              "<style scoped>\n",
              "    .dataframe tbody tr th:only-of-type {\n",
              "        vertical-align: middle;\n",
              "    }\n",
              "\n",
              "    .dataframe tbody tr th {\n",
              "        vertical-align: top;\n",
              "    }\n",
              "\n",
              "    .dataframe thead th {\n",
              "        text-align: right;\n",
              "    }\n",
              "</style>\n",
              "<table border=\"1\" class=\"dataframe\">\n",
              "  <thead>\n",
              "    <tr style=\"text-align: right;\">\n",
              "      <th></th>\n",
              "      <th>Ridge Regression</th>\n",
              "      <th>Linear Regression</th>\n",
              "      <th>Extreme Gradient Boosting</th>\n",
              "      <th>Lasso Regression</th>\n",
              "      <th>Tweedie Regressor</th>\n",
              "      <th>Huber Regressor</th>\n",
              "    </tr>\n",
              "  </thead>\n",
              "  <tbody>\n",
              "    <tr>\n",
              "      <th>Unigram</th>\n",
              "      <td>0.208725</td>\n",
              "      <td>0.266625</td>\n",
              "      <td>2.578120</td>\n",
              "      <td>0.245677</td>\n",
              "      <td>0.236214</td>\n",
              "      <td>2.534675</td>\n",
              "    </tr>\n",
              "    <tr>\n",
              "      <th>Unigrams + Bigrams</th>\n",
              "      <td>0.807815</td>\n",
              "      <td>0.814527</td>\n",
              "      <td>13.700701</td>\n",
              "      <td>1.236704</td>\n",
              "      <td>0.831710</td>\n",
              "      <td>17.717422</td>\n",
              "    </tr>\n",
              "    <tr>\n",
              "      <th>Bigrams alone</th>\n",
              "      <td>0.616868</td>\n",
              "      <td>0.664402</td>\n",
              "      <td>11.145128</td>\n",
              "      <td>1.038310</td>\n",
              "      <td>0.654560</td>\n",
              "      <td>15.476595</td>\n",
              "    </tr>\n",
              "    <tr>\n",
              "      <th>Unigrams + Bigrams + Trigrams</th>\n",
              "      <td>1.408142</td>\n",
              "      <td>1.535167</td>\n",
              "      <td>25.302221</td>\n",
              "      <td>2.370634</td>\n",
              "      <td>1.622828</td>\n",
              "      <td>35.308658</td>\n",
              "    </tr>\n",
              "  </tbody>\n",
              "</table>\n",
              "</div>"
            ],
            "text/plain": [
              "                               Ridge Regression  ...  Huber Regressor\n",
              "Unigram                                0.208725  ...         2.534675\n",
              "Unigrams + Bigrams                     0.807815  ...        17.717422\n",
              "Bigrams alone                          0.616868  ...        15.476595\n",
              "Unigrams + Bigrams + Trigrams          1.408142  ...        35.308658\n",
              "\n",
              "[4 rows x 6 columns]"
            ]
          },
          "metadata": {
            "tags": []
          },
          "execution_count": 175
        }
      ]
    },
    {
      "cell_type": "markdown",
      "metadata": {
        "id": "o8ZaGO3itB2d"
      },
      "source": [
        "## Embedding + Model"
      ]
    },
    {
      "cell_type": "code",
      "metadata": {
        "id": "8Rp7Hw5Zw4CU"
      },
      "source": [
        "!pip install transformers"
      ],
      "execution_count": null,
      "outputs": []
    },
    {
      "cell_type": "code",
      "metadata": {
        "id": "hNkXf_a1wvtB"
      },
      "source": [
        "import pandas as pd\n",
        "\n",
        "import warnings\n",
        "warnings.filterwarnings('ignore')\n",
        "\n",
        "from transformers import (AutoModel,AutoModelForMaskedLM, AutoTokenizer, LineByLineTextDataset,\n",
        "                         DataCollatorForLanguageModeling,Trainer, TrainingArguments,)"
      ],
      "execution_count": 84,
      "outputs": []
    },
    {
      "cell_type": "code",
      "metadata": {
        "id": "hQTL8hfNw-iH"
      },
      "source": [
        "train_data = pd.read_csv(os.path.join(data_path,\"train.csv\"))\n",
        "test_data = pd.read_csv(os.path.join(data_path, \"test.csv\"))\n",
        "sample_sub = pd.read_csv(os.path.join(data_path, \"sample_submission.csv\"))"
      ],
      "execution_count": 85,
      "outputs": []
    },
    {
      "cell_type": "code",
      "metadata": {
        "id": "oFOqm5oKxDb8"
      },
      "source": [
        "text  = '.'.join(train_data.excerpt.tolist() + test_data.excerpt.tolist())\n",
        "\n",
        "with open(os.path.join(data_path,'text.txt'),'w') as f:\n",
        "    f.write(text)"
      ],
      "execution_count": 86,
      "outputs": []
    },
    {
      "cell_type": "code",
      "metadata": {
        "id": "fzifFr4kxTzc"
      },
      "source": [
        "model_name = 'roberta-base'\n",
        "model = AutoModelForMaskedLM.from_pretrained(model_name)\n",
        "tokenizer = AutoTokenizer.from_pretrained(model_name)"
      ],
      "execution_count": null,
      "outputs": []
    },
    {
      "cell_type": "code",
      "metadata": {
        "id": "f_V-zffTxdTi"
      },
      "source": [
        "dataset = LineByLineTextDataset(\n",
        "    tokenizer=tokenizer,\n",
        "    file_path=os.path.join(data_path,'text.txt'), #mention text file here\n",
        "    block_size=128,\n",
        ")\n",
        "\n",
        "data_collator = DataCollatorForLanguageModeling(\n",
        "    tokenizer=tokenizer, mlm=True, mlm_probability=0.15\n",
        ")\n",
        "\n",
        "training_args = TrainingArguments(\n",
        "    output_dir=\"./clrp_roberta_base_chk\", #select model path\n",
        "    overwrite_output_dir=True,\n",
        "    num_train_epochs=3,\n",
        "    per_device_train_batch_size=16,\n",
        "    eval_steps=20,\n",
        "    metric_for_best_model = 'eval_loss',\n",
        "    greater_is_better=False,\n",
        "    load_best_model_at_end =True,\n",
        "    prediction_loss_only=True,\n",
        "    report_to = \"none\" \n",
        ")\n",
        "\n",
        "trainer = Trainer(\n",
        "    model=model,\n",
        "    args=training_args,\n",
        "    data_collator=data_collator,\n",
        "    train_dataset=dataset)"
      ],
      "execution_count": 94,
      "outputs": []
    },
    {
      "cell_type": "code",
      "metadata": {
        "colab": {
          "base_uri": "https://localhost:8080/",
          "height": 145
        },
        "id": "xT7m32o9xvz9",
        "outputId": "4cc469f5-1d49-4b16-cb6f-1d15e2ceed81"
      },
      "source": [
        "trainer.train()"
      ],
      "execution_count": 95,
      "outputs": [
        {
          "output_type": "display_data",
          "data": {
            "text/html": [
              "\n",
              "    <div>\n",
              "      \n",
              "      <progress value='804' max='804' style='width:300px; height:20px; vertical-align: middle;'></progress>\n",
              "      [804/804 09:45, Epoch 3/3]\n",
              "    </div>\n",
              "    <table border=\"1\" class=\"dataframe\">\n",
              "  <thead>\n",
              "    <tr style=\"text-align: left;\">\n",
              "      <th>Step</th>\n",
              "      <th>Training Loss</th>\n",
              "    </tr>\n",
              "  </thead>\n",
              "  <tbody>\n",
              "    <tr>\n",
              "      <td>500</td>\n",
              "      <td>1.798800</td>\n",
              "    </tr>\n",
              "  </tbody>\n",
              "</table><p>"
            ],
            "text/plain": [
              "<IPython.core.display.HTML object>"
            ]
          },
          "metadata": {
            "tags": []
          }
        },
        {
          "output_type": "execute_result",
          "data": {
            "text/plain": [
              "TrainOutput(global_step=804, training_loss=1.7318643218842311, metrics={'train_runtime': 585.8344, 'train_samples_per_second': 1.372, 'total_flos': 1228010344389360.0, 'epoch': 3.0, 'init_mem_cpu_alloc_delta': 0, 'init_mem_gpu_alloc_delta': 0, 'init_mem_cpu_peaked_delta': 0, 'init_mem_gpu_peaked_delta': 0, 'train_mem_cpu_alloc_delta': 0, 'train_mem_gpu_alloc_delta': 1004658176, 'train_mem_cpu_peaked_delta': 0, 'train_mem_gpu_peaked_delta': 3423351808})"
            ]
          },
          "metadata": {
            "tags": []
          },
          "execution_count": 95
        }
      ]
    },
    {
      "cell_type": "markdown",
      "metadata": {
        "id": "vBAPR2tztB5g"
      },
      "source": [
        "### Simple Embedding"
      ]
    },
    {
      "cell_type": "code",
      "metadata": {
        "id": "mF3h1At3tB7t"
      },
      "source": [
        "# ReductLROnPlateau는 모델의 성능이 더이상 나아지지 않을때 callback하는 함수이다.\n",
        "\n",
        "learning_rate_reduction = ReduceLROnPlateau(monitor='val_root_mean_squared_error', \n",
        "                                            patience=3, \n",
        "                                            verbose=1, \n",
        "                                            factor=0.5, \n",
        "                                            min_lr=0.00001)\n",
        "\n",
        "early_stopping = EarlyStopping(\n",
        "    min_delta=0.001, # minimium amount of change to count as an improvement\n",
        "    patience=5, # how many epochs to wait before stopping\n",
        "    restore_best_weights=True,\n",
        ")"
      ],
      "execution_count": null,
      "outputs": []
    },
    {
      "cell_type": "code",
      "metadata": {
        "id": "4AegLjQP020k"
      },
      "source": [
        "def plot_graphs(history, string):\n",
        "  plt.plot(history.history[string])\n",
        "  plt.plot(history.history['val_'+string])\n",
        "  plt.xlabel(\"Epochs\")\n",
        "  plt.ylabel(string)\n",
        "  plt.legend([string, 'val_'+string])\n",
        "  plt.show()"
      ],
      "execution_count": null,
      "outputs": []
    },
    {
      "cell_type": "code",
      "metadata": {
        "id": "3YUiJO9m023I"
      },
      "source": [
        "def predict_complexity(model, excerpt):\n",
        "  # Create the sequences\n",
        "  padding_type='post'\n",
        "  sample_sequences = tokenizer.texts_to_sequences(excerpt)\n",
        "  excerpt_padded = pad_sequences(sample_sequences, padding=padding_type, \n",
        "                                 maxlen=max_length) \n",
        "  classes = model.predict(excerpt_padded)\n",
        "  for x in range(len(excerpt_padded)):\n",
        "    print(excerpt[x])\n",
        "    print(classes[x])\n",
        "    print('\\n')"
      ],
      "execution_count": null,
      "outputs": []
    },
    {
      "cell_type": "code",
      "metadata": {
        "id": "057Me3Jq025X"
      },
      "source": [
        "text = train_data.excerpt_clean\n",
        "vocab_size = 51038\n",
        "embedding_dim = 64\n",
        "max_length = 50\n",
        "trunc_type='post'\n",
        "pad_type='post'\n",
        "oov_tok = \"<OOV>\""
      ],
      "execution_count": null,
      "outputs": []
    },
    {
      "cell_type": "code",
      "metadata": {
        "id": "SGxy4QUT028u"
      },
      "source": [
        "tokenizer = Tokenizer(num_words = vocab_size, oov_token=oov_tok)\n",
        "tokenizer.fit_on_texts(text)\n",
        "word_index = tokenizer.word_index"
      ],
      "execution_count": null,
      "outputs": []
    },
    {
      "cell_type": "code",
      "metadata": {
        "id": "LLbr9DHv0_sP"
      },
      "source": [
        "training_sequences = tokenizer.texts_to_sequences(text)\n",
        "training_padded = pad_sequences(training_sequences,maxlen=max_length, \n",
        "                                truncating=trunc_type, padding=pad_type)\n",
        "\n",
        "#validation_sequences = tokenizer.texts_to_sequences(text[800:])\n",
        "#validation_padded = pad_sequences(validation_sequences,maxlen=max_length)\n",
        "\n",
        "training_labels_final = np.array(train_data.target)\n",
        "#validation_labels_final = np.array(df_train[800:].target)"
      ],
      "execution_count": null,
      "outputs": []
    },
    {
      "cell_type": "code",
      "metadata": {
        "colab": {
          "base_uri": "https://localhost:8080/"
        },
        "id": "f1PkYvy40_vJ",
        "outputId": "8b17d756-a313-40d9-b428-bbbf6b7c432b"
      },
      "source": [
        "# Simple Model\n",
        "\n",
        "model = tf.keras.Sequential([\n",
        "    tf.keras.layers.Embedding(vocab_size, embedding_dim, input_length=max_length),\n",
        "    tf.keras.layers.GlobalAveragePooling1D(),  \n",
        "    tf.keras.layers.Dense(1)\n",
        "])\n",
        "model.compile(loss='mean_squared_error', metrics=[RootMeanSquaredError()])\n",
        "model.summary()"
      ],
      "execution_count": null,
      "outputs": [
        {
          "output_type": "stream",
          "text": [
            "Model: \"sequential\"\n",
            "_________________________________________________________________\n",
            "Layer (type)                 Output Shape              Param #   \n",
            "=================================================================\n",
            "embedding (Embedding)        (None, 50, 64)            3266432   \n",
            "_________________________________________________________________\n",
            "global_average_pooling1d (Gl (None, 64)                0         \n",
            "_________________________________________________________________\n",
            "dense (Dense)                (None, 1)                 65        \n",
            "=================================================================\n",
            "Total params: 3,266,497\n",
            "Trainable params: 3,266,497\n",
            "Non-trainable params: 0\n",
            "_________________________________________________________________\n"
          ],
          "name": "stdout"
        }
      ]
    },
    {
      "cell_type": "code",
      "metadata": {
        "colab": {
          "base_uri": "https://localhost:8080/"
        },
        "id": "lMTMXZDR0_xu",
        "outputId": "61f69723-6c93-439a-f02e-75b92b5b0e21"
      },
      "source": [
        "num_epochs = 35\n",
        "history = model.fit(training_padded, training_labels_final, epochs=num_epochs, \n",
        "                    validation_split=0.1,\n",
        "                    #validation_data=(validation_padded, validation_labels_final),\n",
        "                   callbacks=[early_stopping,learning_rate_reduction])"
      ],
      "execution_count": null,
      "outputs": [
        {
          "output_type": "stream",
          "text": [
            "Epoch 1/35\n",
            "80/80 [==============================] - 5s 17ms/step - loss: 1.5955 - root_mean_squared_error: 1.2631 - val_loss: 1.3860 - val_root_mean_squared_error: 1.1773\n",
            "Epoch 2/35\n",
            "80/80 [==============================] - 1s 12ms/step - loss: 1.0635 - root_mean_squared_error: 1.0313 - val_loss: 1.0358 - val_root_mean_squared_error: 1.0178\n",
            "Epoch 3/35\n",
            "80/80 [==============================] - 1s 13ms/step - loss: 0.7902 - root_mean_squared_error: 0.8889 - val_loss: 0.8517 - val_root_mean_squared_error: 0.9229\n",
            "Epoch 4/35\n",
            "80/80 [==============================] - 1s 13ms/step - loss: 0.6154 - root_mean_squared_error: 0.7844 - val_loss: 0.7503 - val_root_mean_squared_error: 0.8662\n",
            "Epoch 5/35\n",
            "80/80 [==============================] - 1s 12ms/step - loss: 0.4948 - root_mean_squared_error: 0.7034 - val_loss: 0.7057 - val_root_mean_squared_error: 0.8400\n",
            "Epoch 6/35\n",
            "80/80 [==============================] - 1s 12ms/step - loss: 0.4106 - root_mean_squared_error: 0.6408 - val_loss: 0.6920 - val_root_mean_squared_error: 0.8318\n",
            "Epoch 7/35\n",
            "80/80 [==============================] - 1s 13ms/step - loss: 0.3447 - root_mean_squared_error: 0.5872 - val_loss: 0.6827 - val_root_mean_squared_error: 0.8262\n",
            "Epoch 8/35\n",
            "80/80 [==============================] - 1s 12ms/step - loss: 0.2896 - root_mean_squared_error: 0.5382 - val_loss: 0.6923 - val_root_mean_squared_error: 0.8320\n",
            "Epoch 9/35\n",
            "80/80 [==============================] - 1s 12ms/step - loss: 0.2441 - root_mean_squared_error: 0.4941 - val_loss: 0.6963 - val_root_mean_squared_error: 0.8345\n",
            "Epoch 10/35\n",
            "80/80 [==============================] - 1s 12ms/step - loss: 0.2037 - root_mean_squared_error: 0.4513 - val_loss: 0.7095 - val_root_mean_squared_error: 0.8423\n",
            "\n",
            "Epoch 00010: ReduceLROnPlateau reducing learning rate to 0.0005000000237487257.\n",
            "Epoch 11/35\n",
            "80/80 [==============================] - 1s 13ms/step - loss: 0.1676 - root_mean_squared_error: 0.4094 - val_loss: 0.7162 - val_root_mean_squared_error: 0.8463\n",
            "Epoch 12/35\n",
            "80/80 [==============================] - 1s 12ms/step - loss: 0.1515 - root_mean_squared_error: 0.3892 - val_loss: 0.7249 - val_root_mean_squared_error: 0.8514\n"
          ],
          "name": "stdout"
        }
      ]
    },
    {
      "cell_type": "code",
      "metadata": {
        "id": "rw3Oyf8E1LXa"
      },
      "source": [
        "def f(num):\n",
        "    return math.sqrt(math.sqrt(num))\n",
        "\n",
        "f(51308)"
      ],
      "execution_count": null,
      "outputs": []
    },
    {
      "cell_type": "code",
      "metadata": {
        "colab": {
          "base_uri": "https://localhost:8080/",
          "height": 295
        },
        "id": "VQ5pHHqa1O2r",
        "outputId": "044cf3f6-3297-4bed-86ee-c35c6cadc4f5"
      },
      "source": [
        "xs=[]\n",
        "ys=[]\n",
        "current_item=1\n",
        "for item in text:\n",
        " xs.append(current_item)\n",
        " current_item=current_item+1\n",
        " ys.append(len(item))\n",
        "newys = sorted(ys)\n",
        "plt.xlabel('Excerpt')\n",
        "plt.ylabel('Word Length')\n",
        "plt.title('Length of Words in Excerpt')\n",
        "plt.plot(xs,newys)\n",
        "\n",
        "plt.show()"
      ],
      "execution_count": null,
      "outputs": [
        {
          "output_type": "display_data",
          "data": {
            "image/png": "[encoded data removed]",
            "text/plain": [
              "<Figure size 432x288 with 1 Axes>"
            ]
          },
          "metadata": {
            "tags": []
          }
        }
      ]
    },
    {
      "cell_type": "code",
      "metadata": {
        "colab": {
          "base_uri": "https://localhost:8080/"
        },
        "id": "Rq-G9xj51T0X",
        "outputId": "93d548e7-543f-4ccc-d225-778833457e14"
      },
      "source": [
        "# Create model with Embedding\n",
        "\n",
        "model = tf.keras.Sequential([\n",
        "    tf.keras.layers.Embedding(vocab_size, embedding_dim, input_length=max_length),\n",
        "    tf.keras.layers.GlobalAveragePooling1D(),\n",
        "    tf.keras.layers.Dense(24, activation='relu', kernel_regularizer = tf.keras.regularizers.l2(0.01)),\n",
        "    tf.keras.layers.Dense(1)\n",
        "])\n",
        "model.compile(loss='mean_squared_error',optimizer='adam', metrics=[RootMeanSquaredError()])\n",
        "model.summary()"
      ],
      "execution_count": null,
      "outputs": [
        {
          "output_type": "stream",
          "text": [
            "Model: \"sequential_1\"\n",
            "_________________________________________________________________\n",
            "Layer (type)                 Output Shape              Param #   \n",
            "=================================================================\n",
            "embedding_1 (Embedding)      (None, 50, 64)            3266432   \n",
            "_________________________________________________________________\n",
            "global_average_pooling1d_1 ( (None, 64)                0         \n",
            "_________________________________________________________________\n",
            "dense_1 (Dense)              (None, 24)                1560      \n",
            "_________________________________________________________________\n",
            "dense_2 (Dense)              (None, 1)                 25        \n",
            "=================================================================\n",
            "Total params: 3,268,017\n",
            "Trainable params: 3,268,017\n",
            "Non-trainable params: 0\n",
            "_________________________________________________________________\n"
          ],
          "name": "stdout"
        }
      ]
    },
    {
      "cell_type": "code",
      "metadata": {
        "colab": {
          "base_uri": "https://localhost:8080/"
        },
        "id": "go1tFH-q1T3f",
        "outputId": "78014454-9b22-4480-af12-26b229916994"
      },
      "source": [
        "num_epochs = 100\n",
        "history = model.fit(training_padded, training_labels_final, epochs=num_epochs, \n",
        "                    validation_split=0.1,\n",
        "                    #validation_data=(validation_padded, validation_labels_final),\n",
        "                   callbacks=[early_stopping,learning_rate_reduction])"
      ],
      "execution_count": null,
      "outputs": [
        {
          "output_type": "stream",
          "text": [
            "Epoch 1/100\n",
            "80/80 [==============================] - 3s 33ms/step - loss: 1.7929 - root_mean_squared_error: 1.2371 - val_loss: 1.3707 - val_root_mean_squared_error: 1.0813\n",
            "Epoch 2/100\n",
            "80/80 [==============================] - 2s 31ms/step - loss: 1.0053 - root_mean_squared_error: 0.9135 - val_loss: 0.9478 - val_root_mean_squared_error: 0.8958\n",
            "Epoch 3/100\n",
            "80/80 [==============================] - 3s 32ms/step - loss: 0.6483 - root_mean_squared_error: 0.7170 - val_loss: 0.8019 - val_root_mean_squared_error: 0.8215\n",
            "Epoch 4/100\n",
            "80/80 [==============================] - 2s 30ms/step - loss: 0.4498 - root_mean_squared_error: 0.5745 - val_loss: 0.7558 - val_root_mean_squared_error: 0.8044\n",
            "Epoch 5/100\n",
            "80/80 [==============================] - 2s 31ms/step - loss: 0.3266 - root_mean_squared_error: 0.4701 - val_loss: 0.7473 - val_root_mean_squared_error: 0.8033\n",
            "Epoch 6/100\n",
            "80/80 [==============================] - 2s 31ms/step - loss: 0.2484 - root_mean_squared_error: 0.3910 - val_loss: 0.7583 - val_root_mean_squared_error: 0.8162\n",
            "Epoch 7/100\n",
            "80/80 [==============================] - 2s 31ms/step - loss: 0.1944 - root_mean_squared_error: 0.3258 - val_loss: 0.7597 - val_root_mean_squared_error: 0.8241\n",
            "Epoch 8/100\n",
            "80/80 [==============================] - 2s 31ms/step - loss: 0.1569 - root_mean_squared_error: 0.2789 - val_loss: 0.7679 - val_root_mean_squared_error: 0.8322\n",
            "\n",
            "Epoch 00008: ReduceLROnPlateau reducing learning rate to 0.0005000000237487257.\n",
            "Epoch 9/100\n",
            "80/80 [==============================] - 2s 31ms/step - loss: 0.1295 - root_mean_squared_error: 0.2349 - val_loss: 0.7692 - val_root_mean_squared_error: 0.8343\n",
            "Epoch 10/100\n",
            "80/80 [==============================] - 2s 31ms/step - loss: 0.1189 - root_mean_squared_error: 0.2193 - val_loss: 0.7723 - val_root_mean_squared_error: 0.8377\n"
          ],
          "name": "stdout"
        }
      ]
    },
    {
      "cell_type": "code",
      "metadata": {
        "colab": {
          "base_uri": "https://localhost:8080/",
          "height": 1000
        },
        "id": "tgT8f0qC1ZCw",
        "outputId": "bc9aa4f3-29b0-45f0-b65d-605205c507c6"
      },
      "source": [
        "predict_complexity(model, test_data['excerpt_clean'])\n",
        "plot_graphs(history, \"root_mean_squared_error\")\n",
        "plot_graphs(history, \"loss\")"
      ],
      "execution_count": null,
      "outputs": [
        {
          "output_type": "stream",
          "text": [
            "  hope lay jack promise bright light burning upper story guide course  clear night light visible village  failed account state weather  air eddying flakes  render headlight locomotive invisible yards distant  strange important fact occurred fully fourth mile village   looking vain beacon light  danger situation struck  halted  \n",
            "  certain wrong   said  \n",
            "  power follow direct course serve compass  village wait till morning  \n",
            "[-1.2793456]\n",
            "\n",
            "\n",
            "  dotty continued mrs  gray night milk  katie went  paused acorn  tree played  king queen   dotty said wished remember bring nipperkins  case milk taste great deal like nectar   nipperkins  pair handled cups children supposed silver  table  \n",
            " dotty knew wrong time played  king queen   knew milk  mrs  gray  said   ruthie need measure  pressed run  queenie drink great deal  quart left  yes  know   \n",
            " mrs  gray said milk  merely poured pan  gave pail dotty  asking time questions child stay hear \n",
            "[-0.24161443]\n",
            "\n",
            "\n",
            "  bright cheerful scene greeted eyes captain raymond son entered parlor adjacent cottage  \n",
            " strictly family gathering  room  mr  dinsmore wife  daughter elsie children  edward zoe  elsie leland husband babe  violet raymond husband little girls  lulu grace  lastly rosie walter  \n",
            " everybody kindly greeting captain  violet bright face grew brighter room sofa  \n",
            "  beginning wonder keeping   said  \n",
            "  yes  afraid time   returned   hope delayed tea  mrs  dinsmore   \n",
            "   ready   said   ah  bell   walk   \n",
            " meal returned parlor  spent hour desultory chat \n",
            "[0.13953659]\n",
            "\n",
            "\n",
            "  cell division process parent cell divides daughter cells  cell division usually occurs larger cell cycle  \n",
            "  eukaryotes  distinct types cell division  vegetative division  daughter cell genetically identical parent cell  mitosis   reproductive cell division  number chromosomes daughter cells reduced half  produce haploid gametes  meiosis   \n",
            " meiosis results haploid daughter cells undergoing round dna replication followed divisions  homologous chromosomes separated division  sister chromatids separated second division  \n",
            " cell division cycles sexually reproducing organisms point life cycle  believed present eukaryotic common ancestor  prokaryotes undergo vegetative cell division known binary fission  genetic material segregated equally daughter cells  cell divisions  regardless organism  preceded single round dna replication \n",
            "[-0.78889626]\n",
            "\n",
            "\n",
            "  debugging process finding resolving defects prevent correct operation computer software system  debugging tends harder subsystems tightly coupled  changes cause bugs emerge  \n",
            " numerous books written debugging  involves numerous aspects  including interactive debugging  control flow  integration testing  log files  monitoring  application  system   memory dumps  profiling  statistical process control  special design tactics improve detection simplifying changes  terms  bug   debugging  popularly attributed admiral grace hopper s  working mark ii computer harvard university  associates discovered moth stuck relay impeding operation  remarked  debugging  system  term  bug  meaning technical error dates  thomas edison   debugging  term aeronautics entering world computers \n",
            "[-0.3229109]\n",
            "\n",
            "\n",
            "  explain transitivity  let look totally different example lot transitivity rationality  combination choices rational observer deduce preferences   learn person likes best  medium   observing choices  suppose friends adam ben   adam taller ben  ben charlie   ben taller charlie  tell taller  adam charlie  adam  course  know  simply use transitivity  adam taller ben  ben taller charlie  adam taller charlie  means rank friends height  tallest  adam  shortest  charlie  \n",
            "[-0.3243838]\n",
            "\n",
            "\n",
            "  milka john playing garden  little sister playing  milka ready start classes week term school  morning  milka gets early bath  puts school uniform carries school bag  mother gives thousand shillings school fees shillings transport   quickly goes school   big brother stays home  bed sleeps  grows graduates school  milka dreams build beautiful house family  school  active participates activities  teachers love attitude  milka listens carefully teacher  classmates admire  kind girl  break time tries help classmates practical exercies homeworks \n",
            "[0.29766095]\n",
            "\n",
            "\n"
          ],
          "name": "stdout"
        },
        {
          "output_type": "display_data",
          "data": {
            "image/png": "[encoded data removed]",
            "text/plain": [
              "<Figure size 432x288 with 1 Axes>"
            ]
          },
          "metadata": {
            "tags": []
          }
        },
        {
          "output_type": "display_data",
          "data": {
            "image/png": "[encoded data removed]",
            "text/plain": [
              "<Figure size 432x288 with 1 Axes>"
            ]
          },
          "metadata": {
            "tags": []
          }
        }
      ]
    },
    {
      "cell_type": "markdown",
      "metadata": {
        "id": "lGuEWKTMtM93"
      },
      "source": [
        "### Convolution Neural Networks"
      ]
    },
    {
      "cell_type": "code",
      "metadata": {
        "colab": {
          "base_uri": "https://localhost:8080/"
        },
        "id": "5m6xM7JQtNBZ",
        "outputId": "a6566c00-124f-431a-f66f-722a2533e490"
      },
      "source": [
        "model = tf.keras.Sequential([\n",
        "    tf.keras.layers.Embedding(vocab_size, embedding_dim, input_length=max_length),\n",
        "    tf.keras.layers.Conv1D(embedding_dim, 5, activation='relu'),\n",
        "    tf.keras.layers.GlobalMaxPooling1D(), \n",
        "    tf.keras.layers.Dense(24, activation='relu', kernel_regularizer = tf.keras.regularizers.l2(0.01)),\n",
        "    tf.keras.layers.Dense(1)\n",
        "])\n",
        "\n",
        "# Default learning rate for the Adam optimizer is 0.001\n",
        "# Let's slow down the learning rate by 10.\n",
        "learning_rate = 0.0001\n",
        "model.compile(loss='mean_squared_error',optimizer=tf.keras.optimizers.Adam(learning_rate), metrics=[RootMeanSquaredError()])\n",
        "model.summary()\n"
      ],
      "execution_count": null,
      "outputs": [
        {
          "output_type": "stream",
          "text": [
            "Model: \"sequential_2\"\n",
            "_________________________________________________________________\n",
            "Layer (type)                 Output Shape              Param #   \n",
            "=================================================================\n",
            "embedding_2 (Embedding)      (None, 50, 64)            3266432   \n",
            "_________________________________________________________________\n",
            "conv1d (Conv1D)              (None, 46, 64)            20544     \n",
            "_________________________________________________________________\n",
            "global_max_pooling1d (Global (None, 64)                0         \n",
            "_________________________________________________________________\n",
            "dense_3 (Dense)              (None, 24)                1560      \n",
            "_________________________________________________________________\n",
            "dense_4 (Dense)              (None, 1)                 25        \n",
            "=================================================================\n",
            "Total params: 3,288,561\n",
            "Trainable params: 3,288,561\n",
            "Non-trainable params: 0\n",
            "_________________________________________________________________\n"
          ],
          "name": "stdout"
        }
      ]
    },
    {
      "cell_type": "code",
      "metadata": {
        "colab": {
          "base_uri": "https://localhost:8080/"
        },
        "id": "T_7sEKZn1eRz",
        "outputId": "6de85c71-35b5-452e-ca10-0c5b1044f736"
      },
      "source": [
        "num_epochs = 100\n",
        "history = model.fit(training_padded, training_labels_final, epochs=num_epochs, \n",
        "                    validation_split=0.1,\n",
        "                    #validation_data=(validation_padded, validation_labels_final),\n",
        "                   callbacks=[early_stopping,learning_rate_reduction])"
      ],
      "execution_count": null,
      "outputs": [
        {
          "output_type": "stream",
          "text": [
            "Epoch 1/100\n",
            "80/80 [==============================] - 31s 35ms/step - loss: 2.2381 - root_mean_squared_error: 1.3800 - val_loss: 2.1815 - val_root_mean_squared_error: 1.3621\n",
            "Epoch 2/100\n",
            "80/80 [==============================] - 3s 32ms/step - loss: 1.9427 - root_mean_squared_error: 1.2741 - val_loss: 1.9162 - val_root_mean_squared_error: 1.2662\n",
            "Epoch 3/100\n",
            "80/80 [==============================] - 3s 32ms/step - loss: 1.6452 - root_mean_squared_error: 1.1566 - val_loss: 1.6345 - val_root_mean_squared_error: 1.1543\n",
            "Epoch 4/100\n",
            "80/80 [==============================] - 3s 32ms/step - loss: 1.3928 - root_mean_squared_error: 1.0469 - val_loss: 1.4925 - val_root_mean_squared_error: 1.0961\n",
            "Epoch 5/100\n",
            "80/80 [==============================] - 3s 32ms/step - loss: 1.2597 - root_mean_squared_error: 0.9870 - val_loss: 1.4248 - val_root_mean_squared_error: 1.0701\n",
            "Epoch 6/100\n",
            "80/80 [==============================] - 2s 31ms/step - loss: 1.1756 - root_mean_squared_error: 0.9496 - val_loss: 1.3795 - val_root_mean_squared_error: 1.0543\n",
            "Epoch 7/100\n",
            "80/80 [==============================] - 3s 32ms/step - loss: 1.1023 - root_mean_squared_error: 0.9165 - val_loss: 1.3379 - val_root_mean_squared_error: 1.0399\n",
            "Epoch 8/100\n",
            "80/80 [==============================] - 3s 32ms/step - loss: 1.0281 - root_mean_squared_error: 0.8812 - val_loss: 1.2916 - val_root_mean_squared_error: 1.0224\n",
            "Epoch 9/100\n",
            "80/80 [==============================] - 3s 32ms/step - loss: 0.9481 - root_mean_squared_error: 0.8405 - val_loss: 1.2396 - val_root_mean_squared_error: 1.0013\n",
            "Epoch 10/100\n",
            "80/80 [==============================] - 3s 31ms/step - loss: 0.8610 - root_mean_squared_error: 0.7923 - val_loss: 1.1790 - val_root_mean_squared_error: 0.9746\n",
            "Epoch 11/100\n",
            "80/80 [==============================] - 3s 33ms/step - loss: 0.7661 - root_mean_squared_error: 0.7350 - val_loss: 1.1107 - val_root_mean_squared_error: 0.9423\n",
            "Epoch 12/100\n",
            "80/80 [==============================] - 3s 32ms/step - loss: 0.6691 - root_mean_squared_error: 0.6701 - val_loss: 1.0430 - val_root_mean_squared_error: 0.9087\n",
            "Epoch 13/100\n",
            "80/80 [==============================] - 3s 32ms/step - loss: 0.5765 - root_mean_squared_error: 0.6014 - val_loss: 0.9867 - val_root_mean_squared_error: 0.8800\n",
            "Epoch 14/100\n",
            "80/80 [==============================] - 3s 32ms/step - loss: 0.4959 - root_mean_squared_error: 0.5346 - val_loss: 0.9443 - val_root_mean_squared_error: 0.8583\n",
            "Epoch 15/100\n",
            "80/80 [==============================] - 3s 32ms/step - loss: 0.4283 - root_mean_squared_error: 0.4722 - val_loss: 0.9171 - val_root_mean_squared_error: 0.8451\n",
            "Epoch 16/100\n",
            "80/80 [==============================] - 3s 32ms/step - loss: 0.3732 - root_mean_squared_error: 0.4156 - val_loss: 0.8935 - val_root_mean_squared_error: 0.8340\n",
            "Epoch 17/100\n",
            "80/80 [==============================] - 3s 31ms/step - loss: 0.3283 - root_mean_squared_error: 0.3644 - val_loss: 0.8762 - val_root_mean_squared_error: 0.8266\n",
            "Epoch 18/100\n",
            "80/80 [==============================] - 3s 32ms/step - loss: 0.2912 - root_mean_squared_error: 0.3176 - val_loss: 0.8642 - val_root_mean_squared_error: 0.8225\n",
            "Epoch 19/100\n",
            "80/80 [==============================] - 3s 31ms/step - loss: 0.2615 - root_mean_squared_error: 0.2767 - val_loss: 0.8566 - val_root_mean_squared_error: 0.8213\n",
            "Epoch 20/100\n",
            "80/80 [==============================] - 3s 32ms/step - loss: 0.2376 - root_mean_squared_error: 0.2411 - val_loss: 0.8501 - val_root_mean_squared_error: 0.8207\n",
            "Epoch 21/100\n",
            "80/80 [==============================] - 3s 31ms/step - loss: 0.2183 - root_mean_squared_error: 0.2111 - val_loss: 0.8405 - val_root_mean_squared_error: 0.8183\n",
            "Epoch 22/100\n",
            "80/80 [==============================] - 3s 33ms/step - loss: 0.2021 - root_mean_squared_error: 0.1845 - val_loss: 0.8346 - val_root_mean_squared_error: 0.8183\n",
            "Epoch 23/100\n",
            "80/80 [==============================] - 3s 32ms/step - loss: 0.1886 - root_mean_squared_error: 0.1622 - val_loss: 0.8278 - val_root_mean_squared_error: 0.8176\n",
            "Epoch 24/100\n",
            "80/80 [==============================] - 3s 32ms/step - loss: 0.1769 - root_mean_squared_error: 0.1433 - val_loss: 0.8223 - val_root_mean_squared_error: 0.8179\n",
            "Epoch 25/100\n",
            "80/80 [==============================] - 3s 32ms/step - loss: 0.1668 - root_mean_squared_error: 0.1273 - val_loss: 0.8157 - val_root_mean_squared_error: 0.8173\n",
            "Epoch 26/100\n",
            "80/80 [==============================] - 3s 32ms/step - loss: 0.1578 - root_mean_squared_error: 0.1135 - val_loss: 0.8097 - val_root_mean_squared_error: 0.8171\n",
            "Epoch 27/100\n",
            "80/80 [==============================] - 3s 33ms/step - loss: 0.1496 - root_mean_squared_error: 0.1016 - val_loss: 0.8026 - val_root_mean_squared_error: 0.8162\n",
            "Epoch 28/100\n",
            "80/80 [==============================] - 3s 32ms/step - loss: 0.1422 - root_mean_squared_error: 0.0918 - val_loss: 0.7975 - val_root_mean_squared_error: 0.8164\n",
            "Epoch 29/100\n",
            "80/80 [==============================] - 3s 32ms/step - loss: 0.1352 - root_mean_squared_error: 0.0830 - val_loss: 0.7906 - val_root_mean_squared_error: 0.8155\n",
            "Epoch 30/100\n",
            "80/80 [==============================] - 3s 32ms/step - loss: 0.1288 - root_mean_squared_error: 0.0757 - val_loss: 0.7857 - val_root_mean_squared_error: 0.8156\n",
            "Epoch 31/100\n",
            "80/80 [==============================] - 3s 32ms/step - loss: 0.1227 - root_mean_squared_error: 0.0693 - val_loss: 0.7818 - val_root_mean_squared_error: 0.8164\n",
            "Epoch 32/100\n",
            "80/80 [==============================] - 3s 31ms/step - loss: 0.1168 - root_mean_squared_error: 0.0629 - val_loss: 0.7758 - val_root_mean_squared_error: 0.8157\n",
            "\n",
            "Epoch 00032: ReduceLROnPlateau reducing learning rate to 4.999999873689376e-05.\n",
            "Epoch 33/100\n",
            "80/80 [==============================] - 3s 32ms/step - loss: 0.1124 - root_mean_squared_error: 0.0565 - val_loss: 0.7724 - val_root_mean_squared_error: 0.8152\n",
            "Epoch 34/100\n",
            "80/80 [==============================] - 3s 31ms/step - loss: 0.1097 - root_mean_squared_error: 0.0548 - val_loss: 0.7711 - val_root_mean_squared_error: 0.8159\n",
            "Epoch 35/100\n",
            "80/80 [==============================] - 3s 32ms/step - loss: 0.1070 - root_mean_squared_error: 0.0527 - val_loss: 0.7681 - val_root_mean_squared_error: 0.8156\n",
            "Epoch 36/100\n",
            "80/80 [==============================] - 3s 31ms/step - loss: 0.1044 - root_mean_squared_error: 0.0510 - val_loss: 0.7667 - val_root_mean_squared_error: 0.8162\n",
            "\n",
            "Epoch 00036: ReduceLROnPlateau reducing learning rate to 2.499999936844688e-05.\n",
            "Epoch 37/100\n",
            "80/80 [==============================] - 3s 32ms/step - loss: 0.1023 - root_mean_squared_error: 0.0490 - val_loss: 0.7649 - val_root_mean_squared_error: 0.8158\n",
            "Epoch 38/100\n",
            "80/80 [==============================] - 3s 31ms/step - loss: 0.1010 - root_mean_squared_error: 0.0481 - val_loss: 0.7636 - val_root_mean_squared_error: 0.8158\n",
            "Epoch 39/100\n",
            "80/80 [==============================] - 3s 32ms/step - loss: 0.0997 - root_mean_squared_error: 0.0473 - val_loss: 0.7617 - val_root_mean_squared_error: 0.8154\n",
            "\n",
            "Epoch 00039: ReduceLROnPlateau reducing learning rate to 1.249999968422344e-05.\n",
            "Epoch 40/100\n",
            "80/80 [==============================] - 3s 32ms/step - loss: 0.0987 - root_mean_squared_error: 0.0463 - val_loss: 0.7612 - val_root_mean_squared_error: 0.8155\n",
            "Epoch 41/100\n",
            "80/80 [==============================] - 3s 32ms/step - loss: 0.0980 - root_mean_squared_error: 0.0460 - val_loss: 0.7607 - val_root_mean_squared_error: 0.8156\n",
            "Epoch 42/100\n",
            "80/80 [==============================] - 3s 32ms/step - loss: 0.0973 - root_mean_squared_error: 0.0456 - val_loss: 0.7599 - val_root_mean_squared_error: 0.8155\n",
            "\n",
            "Epoch 00042: ReduceLROnPlateau reducing learning rate to 1e-05.\n",
            "Epoch 43/100\n",
            "80/80 [==============================] - 3s 32ms/step - loss: 0.0966 - root_mean_squared_error: 0.0452 - val_loss: 0.7594 - val_root_mean_squared_error: 0.8155\n",
            "Epoch 44/100\n",
            "80/80 [==============================] - 3s 32ms/step - loss: 0.0961 - root_mean_squared_error: 0.0449 - val_loss: 0.7589 - val_root_mean_squared_error: 0.8156\n",
            "Epoch 45/100\n",
            "80/80 [==============================] - 3s 32ms/step - loss: 0.0955 - root_mean_squared_error: 0.0446 - val_loss: 0.7583 - val_root_mean_squared_error: 0.8155\n",
            "Epoch 46/100\n",
            "80/80 [==============================] - 3s 32ms/step - loss: 0.0949 - root_mean_squared_error: 0.0443 - val_loss: 0.7574 - val_root_mean_squared_error: 0.8153\n",
            "Epoch 47/100\n",
            "80/80 [==============================] - 3s 32ms/step - loss: 0.0943 - root_mean_squared_error: 0.0440 - val_loss: 0.7569 - val_root_mean_squared_error: 0.8154\n",
            "Epoch 48/100\n",
            "80/80 [==============================] - 3s 32ms/step - loss: 0.0937 - root_mean_squared_error: 0.0435 - val_loss: 0.7562 - val_root_mean_squared_error: 0.8153\n",
            "Epoch 49/100\n",
            "80/80 [==============================] - 3s 32ms/step - loss: 0.0931 - root_mean_squared_error: 0.0433 - val_loss: 0.7556 - val_root_mean_squared_error: 0.8153\n",
            "Epoch 50/100\n",
            "80/80 [==============================] - 3s 32ms/step - loss: 0.0924 - root_mean_squared_error: 0.0429 - val_loss: 0.7549 - val_root_mean_squared_error: 0.8153\n",
            "Epoch 51/100\n",
            "80/80 [==============================] - 3s 32ms/step - loss: 0.0918 - root_mean_squared_error: 0.0426 - val_loss: 0.7541 - val_root_mean_squared_error: 0.8151\n",
            "Epoch 52/100\n",
            "80/80 [==============================] - 3s 32ms/step - loss: 0.0911 - root_mean_squared_error: 0.0422 - val_loss: 0.7533 - val_root_mean_squared_error: 0.8150\n",
            "Epoch 53/100\n",
            "80/80 [==============================] - 3s 32ms/step - loss: 0.0905 - root_mean_squared_error: 0.0418 - val_loss: 0.7529 - val_root_mean_squared_error: 0.8151\n",
            "Epoch 54/100\n",
            "80/80 [==============================] - 3s 32ms/step - loss: 0.0898 - root_mean_squared_error: 0.0414 - val_loss: 0.7523 - val_root_mean_squared_error: 0.8152\n",
            "Epoch 55/100\n",
            "80/80 [==============================] - 3s 32ms/step - loss: 0.0891 - root_mean_squared_error: 0.0410 - val_loss: 0.7513 - val_root_mean_squared_error: 0.8149\n",
            "Epoch 56/100\n",
            "80/80 [==============================] - 3s 32ms/step - loss: 0.0885 - root_mean_squared_error: 0.0407 - val_loss: 0.7509 - val_root_mean_squared_error: 0.8151\n",
            "Epoch 57/100\n",
            "80/80 [==============================] - 3s 32ms/step - loss: 0.0878 - root_mean_squared_error: 0.0402 - val_loss: 0.7502 - val_root_mean_squared_error: 0.8151\n",
            "Epoch 58/100\n",
            "80/80 [==============================] - 3s 32ms/step - loss: 0.0871 - root_mean_squared_error: 0.0398 - val_loss: 0.7492 - val_root_mean_squared_error: 0.8149\n",
            "Epoch 59/100\n",
            "80/80 [==============================] - 3s 32ms/step - loss: 0.0864 - root_mean_squared_error: 0.0395 - val_loss: 0.7484 - val_root_mean_squared_error: 0.8148\n",
            "Epoch 60/100\n",
            "80/80 [==============================] - 3s 32ms/step - loss: 0.0857 - root_mean_squared_error: 0.0390 - val_loss: 0.7475 - val_root_mean_squared_error: 0.8147\n",
            "Epoch 61/100\n",
            "80/80 [==============================] - 3s 32ms/step - loss: 0.0850 - root_mean_squared_error: 0.0386 - val_loss: 0.7468 - val_root_mean_squared_error: 0.8147\n",
            "Epoch 62/100\n",
            "80/80 [==============================] - 3s 32ms/step - loss: 0.0842 - root_mean_squared_error: 0.0382 - val_loss: 0.7465 - val_root_mean_squared_error: 0.8149\n",
            "Epoch 63/100\n",
            "80/80 [==============================] - 3s 32ms/step - loss: 0.0835 - root_mean_squared_error: 0.0379 - val_loss: 0.7457 - val_root_mean_squared_error: 0.8148\n",
            "Epoch 64/100\n",
            "80/80 [==============================] - 3s 32ms/step - loss: 0.0828 - root_mean_squared_error: 0.0375 - val_loss: 0.7450 - val_root_mean_squared_error: 0.8148\n",
            "Epoch 65/100\n",
            "80/80 [==============================] - 3s 33ms/step - loss: 0.0821 - root_mean_squared_error: 0.0369 - val_loss: 0.7436 - val_root_mean_squared_error: 0.8144\n",
            "Epoch 66/100\n",
            "80/80 [==============================] - 3s 32ms/step - loss: 0.0813 - root_mean_squared_error: 0.0365 - val_loss: 0.7429 - val_root_mean_squared_error: 0.8144\n",
            "Epoch 67/100\n",
            "80/80 [==============================] - 3s 32ms/step - loss: 0.0806 - root_mean_squared_error: 0.0362 - val_loss: 0.7425 - val_root_mean_squared_error: 0.8146\n",
            "Epoch 68/100\n",
            "80/80 [==============================] - 3s 32ms/step - loss: 0.0799 - root_mean_squared_error: 0.0356 - val_loss: 0.7413 - val_root_mean_squared_error: 0.8143\n",
            "Epoch 69/100\n",
            "80/80 [==============================] - 3s 32ms/step - loss: 0.0791 - root_mean_squared_error: 0.0352 - val_loss: 0.7405 - val_root_mean_squared_error: 0.8143\n",
            "Epoch 70/100\n",
            "80/80 [==============================] - 3s 32ms/step - loss: 0.0784 - root_mean_squared_error: 0.0349 - val_loss: 0.7398 - val_root_mean_squared_error: 0.8142\n",
            "Epoch 71/100\n",
            "80/80 [==============================] - 3s 32ms/step - loss: 0.0776 - root_mean_squared_error: 0.0343 - val_loss: 0.7391 - val_root_mean_squared_error: 0.8143\n",
            "Epoch 72/100\n",
            "80/80 [==============================] - 3s 32ms/step - loss: 0.0769 - root_mean_squared_error: 0.0340 - val_loss: 0.7383 - val_root_mean_squared_error: 0.8142\n",
            "Epoch 73/100\n",
            "80/80 [==============================] - 3s 32ms/step - loss: 0.0761 - root_mean_squared_error: 0.0337 - val_loss: 0.7375 - val_root_mean_squared_error: 0.8142\n",
            "Epoch 74/100\n",
            "80/80 [==============================] - 3s 32ms/step - loss: 0.0754 - root_mean_squared_error: 0.0333 - val_loss: 0.7367 - val_root_mean_squared_error: 0.8141\n",
            "Epoch 75/100\n",
            "80/80 [==============================] - 3s 32ms/step - loss: 0.0747 - root_mean_squared_error: 0.0329 - val_loss: 0.7359 - val_root_mean_squared_error: 0.8140\n",
            "Epoch 76/100\n",
            "80/80 [==============================] - 3s 32ms/step - loss: 0.0739 - root_mean_squared_error: 0.0324 - val_loss: 0.7353 - val_root_mean_squared_error: 0.8141\n",
            "Epoch 77/100\n",
            "80/80 [==============================] - 3s 32ms/step - loss: 0.0732 - root_mean_squared_error: 0.0320 - val_loss: 0.7343 - val_root_mean_squared_error: 0.8140\n",
            "Epoch 78/100\n",
            "80/80 [==============================] - 3s 32ms/step - loss: 0.0724 - root_mean_squared_error: 0.0316 - val_loss: 0.7335 - val_root_mean_squared_error: 0.8139\n",
            "Epoch 79/100\n",
            "80/80 [==============================] - 3s 32ms/step - loss: 0.0717 - root_mean_squared_error: 0.0312 - val_loss: 0.7327 - val_root_mean_squared_error: 0.8139\n",
            "Epoch 80/100\n",
            "80/80 [==============================] - 3s 32ms/step - loss: 0.0709 - root_mean_squared_error: 0.0308 - val_loss: 0.7319 - val_root_mean_squared_error: 0.8138\n",
            "Epoch 81/100\n",
            "80/80 [==============================] - 3s 32ms/step - loss: 0.0702 - root_mean_squared_error: 0.0305 - val_loss: 0.7313 - val_root_mean_squared_error: 0.8138\n",
            "Epoch 82/100\n",
            "80/80 [==============================] - 3s 32ms/step - loss: 0.0695 - root_mean_squared_error: 0.0301 - val_loss: 0.7302 - val_root_mean_squared_error: 0.8136\n",
            "Epoch 83/100\n",
            "80/80 [==============================] - 3s 33ms/step - loss: 0.0687 - root_mean_squared_error: 0.0298 - val_loss: 0.7295 - val_root_mean_squared_error: 0.8137\n",
            "Epoch 84/100\n",
            "80/80 [==============================] - 3s 32ms/step - loss: 0.0680 - root_mean_squared_error: 0.0294 - val_loss: 0.7288 - val_root_mean_squared_error: 0.8136\n",
            "Epoch 85/100\n",
            "80/80 [==============================] - 3s 32ms/step - loss: 0.0673 - root_mean_squared_error: 0.0290 - val_loss: 0.7276 - val_root_mean_squared_error: 0.8134\n",
            "Epoch 86/100\n",
            "80/80 [==============================] - 3s 32ms/step - loss: 0.0666 - root_mean_squared_error: 0.0288 - val_loss: 0.7273 - val_root_mean_squared_error: 0.8136\n",
            "Epoch 87/100\n",
            "80/80 [==============================] - 3s 32ms/step - loss: 0.0658 - root_mean_squared_error: 0.0284 - val_loss: 0.7263 - val_root_mean_squared_error: 0.8134\n",
            "Epoch 88/100\n",
            "80/80 [==============================] - 3s 32ms/step - loss: 0.0651 - root_mean_squared_error: 0.0282 - val_loss: 0.7255 - val_root_mean_squared_error: 0.8134\n",
            "Epoch 89/100\n",
            "80/80 [==============================] - 3s 32ms/step - loss: 0.0644 - root_mean_squared_error: 0.0278 - val_loss: 0.7249 - val_root_mean_squared_error: 0.8134\n",
            "Epoch 90/100\n",
            "80/80 [==============================] - 3s 32ms/step - loss: 0.0637 - root_mean_squared_error: 0.0273 - val_loss: 0.7244 - val_root_mean_squared_error: 0.8135\n",
            "Epoch 91/100\n",
            "80/80 [==============================] - 3s 32ms/step - loss: 0.0630 - root_mean_squared_error: 0.0272 - val_loss: 0.7234 - val_root_mean_squared_error: 0.8133\n",
            "Epoch 92/100\n",
            "80/80 [==============================] - 3s 32ms/step - loss: 0.0623 - root_mean_squared_error: 0.0268 - val_loss: 0.7229 - val_root_mean_squared_error: 0.8134\n",
            "Epoch 93/100\n",
            "80/80 [==============================] - 3s 32ms/step - loss: 0.0616 - root_mean_squared_error: 0.0267 - val_loss: 0.7219 - val_root_mean_squared_error: 0.8132\n",
            "Epoch 94/100\n",
            "80/80 [==============================] - 3s 33ms/step - loss: 0.0609 - root_mean_squared_error: 0.0263 - val_loss: 0.7211 - val_root_mean_squared_error: 0.8132\n",
            "Epoch 95/100\n",
            "80/80 [==============================] - 3s 33ms/step - loss: 0.0602 - root_mean_squared_error: 0.0259 - val_loss: 0.7204 - val_root_mean_squared_error: 0.8131\n",
            "Epoch 96/100\n",
            "80/80 [==============================] - 3s 33ms/step - loss: 0.0595 - root_mean_squared_error: 0.0256 - val_loss: 0.7195 - val_root_mean_squared_error: 0.8130\n",
            "Epoch 97/100\n",
            "80/80 [==============================] - 3s 32ms/step - loss: 0.0588 - root_mean_squared_error: 0.0253 - val_loss: 0.7194 - val_root_mean_squared_error: 0.8134\n",
            "Epoch 98/100\n",
            "80/80 [==============================] - 3s 32ms/step - loss: 0.0582 - root_mean_squared_error: 0.0251 - val_loss: 0.7184 - val_root_mean_squared_error: 0.8131\n",
            "Epoch 99/100\n",
            "80/80 [==============================] - 3s 32ms/step - loss: 0.0575 - root_mean_squared_error: 0.0249 - val_loss: 0.7176 - val_root_mean_squared_error: 0.8130\n",
            "Epoch 100/100\n",
            "80/80 [==============================] - 3s 32ms/step - loss: 0.0568 - root_mean_squared_error: 0.0246 - val_loss: 0.7169 - val_root_mean_squared_error: 0.8130\n"
          ],
          "name": "stdout"
        }
      ]
    },
    {
      "cell_type": "code",
      "metadata": {
        "id": "xBFOu8Dr1hDl"
      },
      "source": [
        "model.save(\"commonlitmodel.h5\")"
      ],
      "execution_count": null,
      "outputs": []
    },
    {
      "cell_type": "markdown",
      "metadata": {
        "id": "utm_GX61tNF1"
      },
      "source": [
        "### Gated Recurrent Units"
      ]
    },
    {
      "cell_type": "code",
      "metadata": {
        "id": "3XmAfOzZtNHz"
      },
      "source": [
        "model = tf.keras.Sequential([\n",
        "    tf.keras.layers.Embedding(vocab_size, embedding_dim, input_length=max_length),\n",
        "    tf.keras.layers.Bidirectional(tf.keras.layers.GRU(32)),\n",
        "    tf.keras.layers.Dense(1)\n",
        "])\n",
        "\n",
        "# Default learning rate for the Adam optimizer is 0.001\n",
        "# Let's slow down the learning rate by 10.\n",
        "learning_rate = 0.00003\n",
        "model.compile(loss='mean_squared_error',optimizer=tf.keras.optimizers.Adam(learning_rate), metrics=[RootMeanSquaredError()])\n",
        "model.summary()"
      ],
      "execution_count": null,
      "outputs": []
    },
    {
      "cell_type": "code",
      "metadata": {
        "id": "HHpWBywc1lUP"
      },
      "source": [
        "num_epochs = 35\n",
        "history = model.fit(training_padded, training_labels_final, epochs=num_epochs, \n",
        "                    validation_split=0.1,\n",
        "                    #validation_data=(validation_padded, validation_labels_final),\n",
        "                   callbacks=[early_stopping,learning_rate_reduction])"
      ],
      "execution_count": null,
      "outputs": []
    },
    {
      "cell_type": "markdown",
      "metadata": {
        "id": "l0Ca1oqxtNKh"
      },
      "source": [
        "### Simple Bi-derectional Long Short Term Memory"
      ]
    },
    {
      "cell_type": "code",
      "metadata": {
        "id": "bnifunY7tdrX"
      },
      "source": [
        "model = tf.keras.Sequential([\n",
        "    tf.keras.layers.Embedding(vocab_size, embedding_dim, input_length=max_length),\n",
        "    tf.keras.layers.Bidirectional(tf.keras.layers.LSTM(embedding_dim)), \n",
        "    tf.keras.layers.Dense(1)\n",
        "])\n",
        "\n",
        "# Default learning rate for the Adam optimizer is 0.001\n",
        "# Let's slow down the learning rate by 10.\n",
        "learning_rate = 0.00003\n",
        "model.compile(loss='mean_squared_error',optimizer=tf.keras.optimizers.Adam(learning_rate), metrics=[RootMeanSquaredError()])\n",
        "model.summary()"
      ],
      "execution_count": null,
      "outputs": []
    },
    {
      "cell_type": "code",
      "metadata": {
        "id": "nzWPDx1M1sH7"
      },
      "source": [
        "num_epochs = 35\n",
        "history = model.fit(training_padded, training_labels_final, epochs=num_epochs, \n",
        "                    validation_split=0.1,\n",
        "                    #validation_data=(validation_padded, validation_labels_final),\n",
        "                   callbacks=[early_stopping,learning_rate_reduction])"
      ],
      "execution_count": null,
      "outputs": []
    },
    {
      "cell_type": "markdown",
      "metadata": {
        "id": "UgMxvhLPtdvp"
      },
      "source": [
        "### Multiple Bi-derectional Long Short Term Memory"
      ]
    },
    {
      "cell_type": "code",
      "metadata": {
        "id": "KQtlqW6ytd0y"
      },
      "source": [
        "model = tf.keras.Sequential([\n",
        "    tf.keras.layers.Embedding(vocab_size, embedding_dim, input_length=max_length),\n",
        "    tf.keras.layers.Bidirectional(tf.keras.layers.LSTM(embedding_dim, \n",
        "                                                       return_sequences=True)),\n",
        "    tf.keras.layers.Bidirectional(tf.keras.layers.LSTM(embedding_dim)),\n",
        "    tf.keras.layers.Dense(1)\n",
        "])\n",
        "\n",
        "# Default learning rate for the Adam optimizer is 0.001\n",
        "# Let's slow down the learning rate by 10.\n",
        "learning_rate = 0.00003\n",
        "model.compile(loss='mean_squared_error',optimizer=tf.keras.optimizers.Adam(learning_rate), metrics=[RootMeanSquaredError()])\n",
        "model.summary()"
      ],
      "execution_count": null,
      "outputs": []
    },
    {
      "cell_type": "code",
      "metadata": {
        "id": "lo5bzags19dd"
      },
      "source": [
        "num_epochs = 35\n",
        "history = model.fit(training_padded, training_labels_final, epochs=num_epochs, \n",
        "                    validation_split=0.1,\n",
        "                    #validation_data=(validation_padded, validation_labels_final),\n",
        "                   callbacks=[early_stopping,learning_rate_reduction])"
      ],
      "execution_count": null,
      "outputs": []
    },
    {
      "cell_type": "markdown",
      "metadata": {
        "id": "YBMKhd_etd4Z"
      },
      "source": [
        "## Hyper Parameters Tuning"
      ]
    },
    {
      "cell_type": "code",
      "metadata": {
        "id": "pdyVXU69tmw1"
      },
      "source": [
        "def model_builder(hp):\n",
        "  model = keras.Sequential()\n",
        "  model.add(tf.keras.layers.Embedding(vocab_size, embedding_dim, input_length=max_length))\n",
        "\n",
        "  # Tune the number of units in the first Dense layer\n",
        "  # Choose an optimal value between 32-512\n",
        "  hp_units = hp.Int('units', min_value=16, max_value=256, step=8)\n",
        "  model.add(keras.layers.Dense(units=hp_units, activation='relu'))\n",
        "  model.add(keras.layers.Dense(1))\n",
        "\n",
        "  # Tune the learning rate for the optimizer\n",
        "  # Choose an optimal value from 0.01, 0.001, or 0.0001\n",
        "  hp_learning_rate = hp.Choice('learning_rate', values=[1e-3, 1e-4])\n",
        "\n",
        "  model.compile(optimizer=keras.optimizers.Adam(learning_rate=hp_learning_rate),\n",
        "                loss=keras.losses.MeanSquaredError(),\n",
        "                metrics=[RootMeanSquaredError()])\n",
        "\n",
        "  return model"
      ],
      "execution_count": null,
      "outputs": []
    },
    {
      "cell_type": "markdown",
      "metadata": {
        "id": "EfFJz5_EtmtB"
      },
      "source": [
        "### Random Search"
      ]
    },
    {
      "cell_type": "code",
      "metadata": {
        "id": "Uw862VZd2Csz"
      },
      "source": [
        "tuner_search=kt.RandomSearch(model_builder,\n",
        "                       objective = kt.Objective(\"val_root_mean_squared_error\", direction=\"min\"),\n",
        "                       max_trials=5,directory='output',project_name=\"nlp\")\n"
      ],
      "execution_count": null,
      "outputs": []
    },
    {
      "cell_type": "markdown",
      "metadata": {
        "id": "rZiyHRmstm2e"
      },
      "source": [
        "### Hyperband"
      ]
    },
    {
      "cell_type": "code",
      "metadata": {
        "id": "ByCvhA7rtm4V"
      },
      "source": [
        "tuner = kt.Hyperband(model_builder,\n",
        "                     max_epochs=10,\n",
        "                     objective = kt.Objective(\"val_root_mean_squared_error\", direction=\"min\"),\n",
        "                     factor=3,\n",
        "                     directory='my_dir',\n",
        "                     project_name='intro_to_kt')"
      ],
      "execution_count": null,
      "outputs": []
    },
    {
      "cell_type": "code",
      "metadata": {
        "id": "lFHFT0WV2HnX"
      },
      "source": [
        "stop_early = tf.keras.callbacks.EarlyStopping(monitor='val_loss', patience=5)"
      ],
      "execution_count": null,
      "outputs": []
    },
    {
      "cell_type": "markdown",
      "metadata": {
        "id": "upaZD_94tt68"
      },
      "source": [
        "## Glove Embeddings"
      ]
    },
    {
      "cell_type": "code",
      "metadata": {
        "id": "LTJkv81s2LxQ"
      },
      "source": [
        "glove_embeddings = dict()\n",
        "f = open('/kaggle/input/glove6b/glove.6B.50d.txt')\n",
        "for line in f:\n",
        " values = line.split()\n",
        " word = values[0]\n",
        " coefs = np.asarray(values[1:], dtype='float32')\n",
        " glove_embeddings[word] = coefs\n",
        "f.close()"
      ],
      "execution_count": null,
      "outputs": []
    },
    {
      "cell_type": "code",
      "metadata": {
        "id": "KIeRoUdg2Mw5"
      },
      "source": [
        "glove_embeddings['frog']"
      ],
      "execution_count": null,
      "outputs": []
    },
    {
      "cell_type": "code",
      "metadata": {
        "id": "2YSJAP742P6K"
      },
      "source": [
        "# this function creates a normalized vector for the whole sentence\n",
        "def sent2vec(s):\n",
        "    words = str(s).lower()\n",
        "    words = word_tokenize(words)\n",
        "    words = [w for w in words if not w in stop_words]\n",
        "    words = [w for w in words if w.isalpha()]\n",
        "    M = []\n",
        "    for w in words:\n",
        "        try:\n",
        "            M.append(glove_embeddings[w])\n",
        "        except:\n",
        "            continue\n",
        "    M = np.array(M)\n",
        "    v = M.sum(axis=0)\n",
        "    if type(v) != np.ndarray:\n",
        "        return np.zeros(50)\n",
        "    return v / np.sqrt((v ** 2).sum())"
      ],
      "execution_count": null,
      "outputs": []
    },
    {
      "cell_type": "markdown",
      "metadata": {
        "id": "09yjFHXdtt-G"
      },
      "source": [
        "### Extreme Gradient Boosting"
      ]
    },
    {
      "cell_type": "code",
      "metadata": {
        "id": "qs6a-g7NtuBV"
      },
      "source": [
        "xtrain, xvalid, ytrain, yvalid = train_test_split(df_train.excerpt_clean, df_train.target, \n",
        " \n",
        "                                                  random_state=42, \n",
        "                                                  test_size=0.1, shuffle=True)"
      ],
      "execution_count": null,
      "outputs": []
    },
    {
      "cell_type": "code",
      "metadata": {
        "id": "t1AJ1hRl2Tui"
      },
      "source": [
        "# create sentence vectors using the above function for training and validation set\n",
        "xtrain_glove = [sent2vec(x) for x in xtrain]\n",
        "xvalid_glove = [sent2vec(x) for x in xvalid]"
      ],
      "execution_count": null,
      "outputs": []
    },
    {
      "cell_type": "code",
      "metadata": {
        "id": "6NSdjj112Vbr"
      },
      "source": [
        "xtrain_glove = np.array(xtrain_glove)\n",
        "xvalid_glove = np.array(xvalid_glove)"
      ],
      "execution_count": null,
      "outputs": []
    },
    {
      "cell_type": "code",
      "metadata": {
        "id": "Voot5apM2XPX"
      },
      "source": [
        "# Fitting a simple xgboost on glove features\n",
        "clf = xgb.XGBRegressor(max_depth=7, n_estimators=200, colsample_bytree=0.8, \n",
        "                        subsample=0.8, nthread=10, learning_rate=0.1, silent=False)\n",
        "clf.fit(xtrain_glove, ytrain)\n",
        "predictions = clf.predict(xvalid_glove)\n",
        "\n",
        "print (\"MSE: %f \" % mse(yvalid, predictions))"
      ],
      "execution_count": null,
      "outputs": []
    },
    {
      "cell_type": "markdown",
      "metadata": {
        "id": "uz5t8ZLUtuGY"
      },
      "source": [
        "### Stacked LSTM"
      ]
    },
    {
      "cell_type": "code",
      "metadata": {
        "id": "dmGtHrlzt8NA"
      },
      "source": [
        "embedding_dim = 50\n",
        "vocab_size = 51308"
      ],
      "execution_count": null,
      "outputs": []
    },
    {
      "cell_type": "code",
      "metadata": {
        "id": "RWMWEs8B2Z4j"
      },
      "source": [
        "embedding_matrix = np.zeros((vocab_size, embedding_dim))\n",
        "for word, index in tokenizer.word_index.items():\n",
        " if index > vocab_size - 1:\n",
        "     break\n",
        " else:\n",
        "     embedding_vector = glove_embeddings.get(word)\n",
        " if embedding_vector is not None:\n",
        "     embedding_matrix[index] = embedding_vector"
      ],
      "execution_count": null,
      "outputs": []
    },
    {
      "cell_type": "code",
      "metadata": {
        "id": "k_hHjjJ-2Z9p"
      },
      "source": [
        "model = tf.keras.Sequential([\n",
        " tf.keras.layers.Embedding(vocab_size, embedding_dim, weights=[embedding_matrix], trainable=False),\n",
        " tf.keras.layers.Bidirectional(tf.keras.layers.LSTM(embedding_dim,\n",
        " return_sequences=True)),\n",
        " tf.keras.layers.Bidirectional(tf.keras.layers.LSTM(embedding_dim)),\n",
        " tf.keras.layers.Dense(24, activation='relu'),\n",
        " tf.keras.layers.Dense(1)\n",
        "])"
      ],
      "execution_count": null,
      "outputs": []
    },
    {
      "cell_type": "code",
      "metadata": {
        "id": "B-0VMeFC2aBj"
      },
      "source": [
        "learning_rate = 0.00003\n",
        "model.compile(loss='mean_squared_error',optimizer=tf.keras.optimizers.Adam(learning_rate), metrics=[RootMeanSquaredError()])\n",
        "model.summary()"
      ],
      "execution_count": null,
      "outputs": []
    },
    {
      "cell_type": "code",
      "metadata": {
        "id": "de6RKOSR2gQh"
      },
      "source": [
        "num_epochs = 100\n",
        "history = model.fit(training_padded, training_labels_final, epochs=num_epochs, \n",
        "                    validation_split=0.3,\n",
        "                    #validation_data=(validation_padded, validation_labels_final),\n",
        "                   callbacks=[early_stopping,learning_rate_reduction])"
      ],
      "execution_count": null,
      "outputs": []
    },
    {
      "cell_type": "code",
      "metadata": {
        "id": "0hHf5s6Q2jBY"
      },
      "source": [
        "xs=[]\n",
        "ys=[]\n",
        "cumulative_x=[]\n",
        "cumulative_y=[]\n",
        "total_y=0\n",
        "for word, index in tokenizer.word_index.items():\n",
        " xs.append(index)\n",
        " cumulative_x.append(index)\n",
        " if glove_embeddings.get(word) is not None:\n",
        "     total_y = total_y + 1\n",
        "     ys.append(1)\n",
        " else:\n",
        "     ys.append(0)\n",
        " cumulative_y.append(total_y / index)"
      ],
      "execution_count": null,
      "outputs": []
    },
    {
      "cell_type": "code",
      "metadata": {
        "id": "NLz8nH5I2lPM"
      },
      "source": [
        "fig, ax = plt.subplots(figsize=(12,2))\n",
        "ax.spines['top'].set_visible(False)\n",
        "plt.margins(x=0, y=None, tight=True)\n",
        "#plt.axis([13000, 14000, 0, 1])\n",
        "plt.fill(ys)"
      ],
      "execution_count": null,
      "outputs": []
    },
    {
      "cell_type": "code",
      "metadata": {
        "id": "QhgjWs9F2np5"
      },
      "source": [
        "plt.plot(cumulative_x, cumulative_y)\n",
        "plt.axis([0, 25000, .915, .985])\n"
      ],
      "execution_count": null,
      "outputs": []
    },
    {
      "cell_type": "markdown",
      "metadata": {
        "id": "Kz4M-qPNt9FR"
      },
      "source": [
        "## BERT HuggingFace Transformer"
      ]
    },
    {
      "cell_type": "code",
      "metadata": {
        "id": "LideTQBBt9Jc"
      },
      "source": [
        "tokenizer = BertTokenizer.from_pretrained('bert-large-uncased', do_lower_case=True)"
      ],
      "execution_count": null,
      "outputs": []
    },
    {
      "cell_type": "code",
      "metadata": {
        "id": "CV6RfZqc2xfE"
      },
      "source": [
        "def bert_encode(data,maximum_length) :\n",
        "  input_ids = []\n",
        "  attention_masks = []\n",
        "  \n",
        "\n",
        "  for i in range(len(data.excerpt)):\n",
        "      encoded = tokenizer.encode_plus(\n",
        "        \n",
        "        data.excerpt[i],\n",
        "        add_special_tokens=True,\n",
        "        max_length=maximum_length,\n",
        "        pad_to_max_length=True,\n",
        "        \n",
        "        return_attention_mask=True,\n",
        "        \n",
        "      )\n",
        "      \n",
        "      input_ids.append(encoded['input_ids'])\n",
        "      attention_masks.append(encoded['attention_mask'])\n",
        "  return np.array(input_ids),np.array(attention_masks)\n"
      ],
      "execution_count": null,
      "outputs": []
    },
    {
      "cell_type": "code",
      "metadata": {
        "id": "4ShyvBCI2zqQ"
      },
      "source": [
        "train_input_ids,train_attention_masks = bert_encode(df_train,60)\n",
        "test_input_ids,test_attention_masks = bert_encode(df_test,60)"
      ],
      "execution_count": null,
      "outputs": []
    },
    {
      "cell_type": "code",
      "metadata": {
        "id": "Z91_4z4r22Ox"
      },
      "source": [
        "def create_model(bert_model):\n",
        "  input_ids = tf.keras.Input(shape=(60,),dtype='int32')\n",
        "  attention_masks = tf.keras.Input(shape=(60,),dtype='int32')\n",
        "  \n",
        "  output = bert_model([input_ids,attention_masks])\n",
        "  output = output[1]\n",
        "  #output = tf.keras.layers.Dense(32,activation='relu')(output)\n",
        "  #output = tf.keras.layers.Dropout(0.2)(output)\n",
        "\n",
        "  output = tf.keras.layers.Dense(1)(output)\n",
        "  model = tf.keras.models.Model(inputs = [input_ids,attention_masks],outputs = output)\n",
        "  model.compile(tf.keras.optimizers.Adam(lr=6e-6), loss='mean_squared_error', metrics=[RootMeanSquaredError()])\n",
        "  return model"
      ],
      "execution_count": null,
      "outputs": []
    },
    {
      "cell_type": "code",
      "metadata": {
        "id": "9jP0MH4u24sX"
      },
      "source": [
        "bert_model = TFBertModel.from_pretrained('bert-large-uncased')"
      ],
      "execution_count": null,
      "outputs": []
    },
    {
      "cell_type": "code",
      "metadata": {
        "id": "TgKnjzR426Fm"
      },
      "source": [
        "model = create_model(bert_model)\n",
        "model.summary()"
      ],
      "execution_count": null,
      "outputs": []
    },
    {
      "cell_type": "code",
      "metadata": {
        "id": "reOkzsnn27ul"
      },
      "source": [
        "history = model.fit([train_input_ids,train_attention_masks],df_train.target,validation_split=0.3, epochs=2,batch_size=10)"
      ],
      "execution_count": null,
      "outputs": []
    },
    {
      "cell_type": "code",
      "metadata": {
        "id": "TiUMq3Fx29Uz"
      },
      "source": [
        "plt.plot(history.history['loss'])\n",
        "plt.plot(history.history['val_loss'])\n",
        "plt.title('model loss')\n",
        "plt.ylabel('loss')\n",
        "plt.xlabel('epoch')\n",
        "plt.legend(['train', 'test'], loc='upper left')\n",
        "plt.show()"
      ],
      "execution_count": null,
      "outputs": []
    },
    {
      "cell_type": "markdown",
      "metadata": {
        "id": "KnHoqUYjt9Pa"
      },
      "source": [
        "## RoBerta HuggingFace Transformer"
      ]
    },
    {
      "cell_type": "code",
      "metadata": {
        "id": "qCwRhVESt9Ro"
      },
      "source": [
        "tokenizer = RobertaTokenizer.from_pretrained('roberta-base')\n",
        "BASE_MODEL = TFRobertaModel.from_pretrained('roberta-base')"
      ],
      "execution_count": null,
      "outputs": []
    },
    {
      "cell_type": "code",
      "metadata": {
        "id": "yKYArR7juMOh"
      },
      "source": [
        "def create_model(bert_model):\n",
        "  input_ids = tf.keras.Input(shape=(60,),dtype='int32')\n",
        "  attention_masks = tf.keras.Input(shape=(60,),dtype='int32')\n",
        "  \n",
        "  output = bert_model([input_ids,attention_masks])\n",
        "  output = output[1]\n",
        "  output = tf.keras.layers.Dense(32,activation='relu')(output)\n",
        "  output = tf.keras.layers.Dropout(0.2)(output)\n",
        "\n",
        "  output = tf.keras.layers.Dense(1)(output)\n",
        "  model = tf.keras.models.Model(inputs = [input_ids,attention_masks],outputs = output)\n",
        "  \n",
        "  return model\n",
        "\n",
        "\n",
        "\n",
        "model = create_model(BASE_MODEL)\n",
        "model.compile(tf.keras.optimizers.Adam(lr=6e-6), loss='mean_squared_error', metrics=[RootMeanSquaredError()])\n",
        "    \n",
        "model.summary()"
      ],
      "execution_count": null,
      "outputs": []
    },
    {
      "cell_type": "code",
      "metadata": {
        "id": "y8GipvUeuMUZ"
      },
      "source": [
        "history = model.fit([train_input_ids,train_attention_masks],df_train.target,validation_split=0.3, epochs=2,batch_size=10)"
      ],
      "execution_count": null,
      "outputs": []
    },
    {
      "cell_type": "code",
      "metadata": {
        "id": "d2Dz80w13DaZ"
      },
      "source": [
        ""
      ],
      "execution_count": null,
      "outputs": []
    },
    {
      "cell_type": "code",
      "metadata": {
        "id": "wv0H9NyS3Ddf"
      },
      "source": [
        ""
      ],
      "execution_count": null,
      "outputs": []
    },
    {
      "cell_type": "code",
      "metadata": {
        "id": "awBt1xTB3DgW"
      },
      "source": [
        ""
      ],
      "execution_count": null,
      "outputs": []
    }
  ]
}