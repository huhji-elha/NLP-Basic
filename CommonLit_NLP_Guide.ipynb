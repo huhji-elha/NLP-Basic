{
  "nbformat": 4,
  "nbformat_minor": 0,
  "metadata": {
    "colab": {
      "name": "CommonLit_NLP_Guide.ipynb",
      "provenance": [],
      "collapsed_sections": [],
      "toc_visible": true,
      "authorship_tag": "ABX9TyOk5CAwAcekj8OBmDtMZ0b7",
      "include_colab_link": true
    },
    "kernelspec": {
      "name": "python3",
      "display_name": "Python 3"
    },
    "language_info": {
      "name": "python"
    },
    "accelerator": "GPU"
  },
  "cells": [
    {
      "cell_type": "markdown",
      "metadata": {
        "id": "view-in-github",
        "colab_type": "text"
      },
      "source": [
        "<a href=\"https://colab.research.google.com/github/huhji/NLP-Basic/blob/main/CommonLit_NLP_Guide.ipynb\" target=\"_parent\"><img src=\"https://colab.research.google.com/assets/colab-badge.svg\" alt=\"Open In Colab\"/></a>"
      ]
    },
    {
      "cell_type": "markdown",
      "metadata": {
        "id": "lPMG4thcAf8t"
      },
      "source": [
        "# Common Lit: Detailed Guide to Learn NLP"
      ]
    },
    {
      "cell_type": "markdown",
      "metadata": {
        "id": "Eg_qphfVBaID"
      },
      "source": [
        "## Library Importations"
      ]
    },
    {
      "cell_type": "code",
      "metadata": {
        "id": "JctTHrytn8ug"
      },
      "source": [
        "!pip install -U scikit-learn\n",
        "!python3 -m spacy download en_core_web_lg"
      ],
      "execution_count": null,
      "outputs": []
    },
    {
      "cell_type": "code",
      "metadata": {
        "id": "iChUmu1cBtmb",
        "colab": {
          "base_uri": "https://localhost:8080/"
        },
        "outputId": "8451dc87-9038-4dfb-e126-c0e88dff5793"
      },
      "source": [
        "import numpy as np\n",
        "import pandas as pd\n",
        "import time\n",
        "import string\n",
        "import re\n",
        "import math\n",
        "import seaborn as sns\n",
        "import matplotlib.pyplot as plt\n",
        "\n",
        "from collections import Counter\n",
        "\n",
        "from sklearn.model_selection import train_test_split, cross_val_score\n",
        "from sklearn.pipeline import make_pipeline\n",
        "from sklearn.feature_extraction.text import CountVectorizer, TfidfVectorizer\n",
        "from sklearn.linear_model import LinearRegression, Ridge, Lasso, TweedieRegressor, HuberRegressor\n",
        "from sklearn.naive_bayes import MultinomialNB\n",
        "from sklearn.metrics import mean_squared_error as mse\n",
        "\n",
        "import xgboost as xgb\n",
        "\n",
        "from bokeh.plotting import figure\n",
        "from bokeh.models import ColumnDataSource\n",
        "from bokeh.io import curdoc, show, output_notebook\n",
        "output_notebook()\n",
        "\n",
        "import nltk\n",
        "from nltk import word_tokenize\n",
        "from nltk.stem.snowball import SnowballStemmer\n",
        "from nltk.corpus import stopwords\n",
        "from nltk import pos_tag\n",
        "nltk.download('stopwords')\n",
        "nltk.download('averaged_perceptron_tagger')\n",
        "stop_words = stopwords.words('english')\n",
        "\n",
        "import spacy\n",
        "nlp = spacy.load('en_core_web_lg')\n",
        "from spacy import displacy"
      ],
      "execution_count": 104,
      "outputs": [
        {
          "output_type": "stream",
          "text": [
            "[nltk_data] Downloading package stopwords to /root/nltk_data...\n",
            "[nltk_data]   Package stopwords is already up-to-date!\n"
          ],
          "name": "stdout"
        }
      ]
    },
    {
      "cell_type": "markdown",
      "metadata": {
        "id": "cb_f-dR_Bluq"
      },
      "source": [
        "## Loading Datasets"
      ]
    },
    {
      "cell_type": "code",
      "metadata": {
        "id": "ga2n5C2oBua9"
      },
      "source": [
        "from google.colab import files\n",
        "files.upload()"
      ],
      "execution_count": null,
      "outputs": []
    },
    {
      "cell_type": "code",
      "metadata": {
        "id": "7T95zQVDHDLJ"
      },
      "source": [
        "train_data = pd.read_csv(\"train.csv\")\n",
        "test_data = pd.read_csv(\"test.csv\")\n",
        "sample_sub = pd.read_csv(\"sample_submission.csv\")"
      ],
      "execution_count": 5,
      "outputs": []
    },
    {
      "cell_type": "code",
      "metadata": {
        "colab": {
          "base_uri": "https://localhost:8080/"
        },
        "id": "OsjhZf0mHDxA",
        "outputId": "dd57eb7f-d654-49d9-a02d-23a468846780"
      },
      "source": [
        "print(\"Train dataset shape : \", train_data.shape)\n",
        "print(\"Test dataset shape : \", test_data.shape)"
      ],
      "execution_count": 6,
      "outputs": [
        {
          "output_type": "stream",
          "text": [
            "Train dataset shape :  (2834, 6)\n",
            "Test dataset shape :  (7, 4)\n"
          ],
          "name": "stdout"
        }
      ]
    },
    {
      "cell_type": "code",
      "metadata": {
        "colab": {
          "base_uri": "https://localhost:8080/",
          "height": 204
        },
        "id": "GzRP1sD0HtAX",
        "outputId": "c4f0383e-519d-449b-d4aa-2938d38d83a3"
      },
      "source": [
        "train_data.head()"
      ],
      "execution_count": 7,
      "outputs": [
        {
          "output_type": "execute_result",
          "data": {
            "text/html": [
              "<div>\n",
              "<style scoped>\n",
              "    .dataframe tbody tr th:only-of-type {\n",
              "        vertical-align: middle;\n",
              "    }\n",
              "\n",
              "    .dataframe tbody tr th {\n",
              "        vertical-align: top;\n",
              "    }\n",
              "\n",
              "    .dataframe thead th {\n",
              "        text-align: right;\n",
              "    }\n",
              "</style>\n",
              "<table border=\"1\" class=\"dataframe\">\n",
              "  <thead>\n",
              "    <tr style=\"text-align: right;\">\n",
              "      <th></th>\n",
              "      <th>id</th>\n",
              "      <th>url_legal</th>\n",
              "      <th>license</th>\n",
              "      <th>excerpt</th>\n",
              "      <th>target</th>\n",
              "      <th>standard_error</th>\n",
              "    </tr>\n",
              "  </thead>\n",
              "  <tbody>\n",
              "    <tr>\n",
              "      <th>0</th>\n",
              "      <td>c12129c31</td>\n",
              "      <td>NaN</td>\n",
              "      <td>NaN</td>\n",
              "      <td>When the young people returned to the ballroom...</td>\n",
              "      <td>-0.340259</td>\n",
              "      <td>0.464009</td>\n",
              "    </tr>\n",
              "    <tr>\n",
              "      <th>1</th>\n",
              "      <td>85aa80a4c</td>\n",
              "      <td>NaN</td>\n",
              "      <td>NaN</td>\n",
              "      <td>All through dinner time, Mrs. Fayre was somewh...</td>\n",
              "      <td>-0.315372</td>\n",
              "      <td>0.480805</td>\n",
              "    </tr>\n",
              "    <tr>\n",
              "      <th>2</th>\n",
              "      <td>b69ac6792</td>\n",
              "      <td>NaN</td>\n",
              "      <td>NaN</td>\n",
              "      <td>As Roger had predicted, the snow departed as q...</td>\n",
              "      <td>-0.580118</td>\n",
              "      <td>0.476676</td>\n",
              "    </tr>\n",
              "    <tr>\n",
              "      <th>3</th>\n",
              "      <td>dd1000b26</td>\n",
              "      <td>NaN</td>\n",
              "      <td>NaN</td>\n",
              "      <td>And outside before the palace a great garden w...</td>\n",
              "      <td>-1.054013</td>\n",
              "      <td>0.450007</td>\n",
              "    </tr>\n",
              "    <tr>\n",
              "      <th>4</th>\n",
              "      <td>37c1b32fb</td>\n",
              "      <td>NaN</td>\n",
              "      <td>NaN</td>\n",
              "      <td>Once upon a time there were Three Bears who li...</td>\n",
              "      <td>0.247197</td>\n",
              "      <td>0.510845</td>\n",
              "    </tr>\n",
              "  </tbody>\n",
              "</table>\n",
              "</div>"
            ],
            "text/plain": [
              "          id url_legal  ...    target standard_error\n",
              "0  c12129c31       NaN  ... -0.340259       0.464009\n",
              "1  85aa80a4c       NaN  ... -0.315372       0.480805\n",
              "2  b69ac6792       NaN  ... -0.580118       0.476676\n",
              "3  dd1000b26       NaN  ... -1.054013       0.450007\n",
              "4  37c1b32fb       NaN  ...  0.247197       0.510845\n",
              "\n",
              "[5 rows x 6 columns]"
            ]
          },
          "metadata": {
            "tags": []
          },
          "execution_count": 7
        }
      ]
    },
    {
      "cell_type": "code",
      "metadata": {
        "colab": {
          "base_uri": "https://localhost:8080/",
          "height": 129
        },
        "id": "w5ojXtwrHtHK",
        "outputId": "c4bd78e0-a629-4b63-cbd8-0560dd527b3c"
      },
      "source": [
        "train_data[\"excerpt\"][0]"
      ],
      "execution_count": null,
      "outputs": [
        {
          "output_type": "execute_result",
          "data": {
            "application/vnd.google.colaboratory.intrinsic+json": {
              "type": "string"
            },
            "text/plain": [
              "'When the young people returned to the ballroom, it presented a decidedly changed appearance. Instead of an interior scene, it was a winter landscape.\\nThe floor was covered with snow-white canvas, not laid on smoothly, but rumpled over bumps and hillocks, like a real snow field. The numerous palms and evergreens that had decorated the room, were powdered with flour and strewn with tufts of cotton, like snow. Also diamond dust had been lightly sprinkled on them, and glittering crystal icicles hung from the branches.\\nAt each end of the room, on the wall, hung a beautiful bear-skin rug.\\nThese rugs were for prizes, one for the girls and one for the boys. And this was the game.\\nThe girls were gathered at one end of the room and the boys at the other, and one end was called the North Pole, and the other the South Pole. Each player was given a small flag which they were to plant on reaching the Pole.\\nThis would have been an easy matter, but each traveller was obliged to wear snowshoes.'"
            ]
          },
          "metadata": {
            "tags": []
          },
          "execution_count": 7
        }
      ]
    },
    {
      "cell_type": "code",
      "metadata": {
        "colab": {
          "base_uri": "https://localhost:8080/",
          "height": 204
        },
        "id": "l0c_CGw7HtMt",
        "outputId": "664d2cdb-da02-4bc2-fd43-60a39d10a4b1"
      },
      "source": [
        "test_data.head()"
      ],
      "execution_count": null,
      "outputs": [
        {
          "output_type": "execute_result",
          "data": {
            "text/html": [
              "<div>\n",
              "<style scoped>\n",
              "    .dataframe tbody tr th:only-of-type {\n",
              "        vertical-align: middle;\n",
              "    }\n",
              "\n",
              "    .dataframe tbody tr th {\n",
              "        vertical-align: top;\n",
              "    }\n",
              "\n",
              "    .dataframe thead th {\n",
              "        text-align: right;\n",
              "    }\n",
              "</style>\n",
              "<table border=\"1\" class=\"dataframe\">\n",
              "  <thead>\n",
              "    <tr style=\"text-align: right;\">\n",
              "      <th></th>\n",
              "      <th>id</th>\n",
              "      <th>url_legal</th>\n",
              "      <th>license</th>\n",
              "      <th>excerpt</th>\n",
              "    </tr>\n",
              "  </thead>\n",
              "  <tbody>\n",
              "    <tr>\n",
              "      <th>0</th>\n",
              "      <td>c0f722661</td>\n",
              "      <td>NaN</td>\n",
              "      <td>NaN</td>\n",
              "      <td>My hope lay in Jack's promise that he would ke...</td>\n",
              "    </tr>\n",
              "    <tr>\n",
              "      <th>1</th>\n",
              "      <td>f0953f0a5</td>\n",
              "      <td>NaN</td>\n",
              "      <td>NaN</td>\n",
              "      <td>Dotty continued to go to Mrs. Gray's every nig...</td>\n",
              "    </tr>\n",
              "    <tr>\n",
              "      <th>2</th>\n",
              "      <td>0df072751</td>\n",
              "      <td>NaN</td>\n",
              "      <td>NaN</td>\n",
              "      <td>It was a bright and cheerful scene that greete...</td>\n",
              "    </tr>\n",
              "    <tr>\n",
              "      <th>3</th>\n",
              "      <td>04caf4e0c</td>\n",
              "      <td>https://en.wikipedia.org/wiki/Cell_division</td>\n",
              "      <td>CC BY-SA 3.0</td>\n",
              "      <td>Cell division is the process by which a parent...</td>\n",
              "    </tr>\n",
              "    <tr>\n",
              "      <th>4</th>\n",
              "      <td>0e63f8bea</td>\n",
              "      <td>https://en.wikipedia.org/wiki/Debugging</td>\n",
              "      <td>CC BY-SA 3.0</td>\n",
              "      <td>Debugging is the process of finding and resolv...</td>\n",
              "    </tr>\n",
              "  </tbody>\n",
              "</table>\n",
              "</div>"
            ],
            "text/plain": [
              "          id  ...                                            excerpt\n",
              "0  c0f722661  ...  My hope lay in Jack's promise that he would ke...\n",
              "1  f0953f0a5  ...  Dotty continued to go to Mrs. Gray's every nig...\n",
              "2  0df072751  ...  It was a bright and cheerful scene that greete...\n",
              "3  04caf4e0c  ...  Cell division is the process by which a parent...\n",
              "4  0e63f8bea  ...  Debugging is the process of finding and resolv...\n",
              "\n",
              "[5 rows x 4 columns]"
            ]
          },
          "metadata": {
            "tags": []
          },
          "execution_count": 8
        }
      ]
    },
    {
      "cell_type": "markdown",
      "metadata": {
        "id": "BQDQi0pgMJxE"
      },
      "source": [
        "## Exploratory Data Analysis "
      ]
    },
    {
      "cell_type": "code",
      "metadata": {
        "colab": {
          "base_uri": "https://localhost:8080/"
        },
        "id": "HNdx6ihuLYQl",
        "outputId": "d39f4a19-19e5-4f21-b65b-aa70dd549e94"
      },
      "source": [
        "# 결측치 확인\n",
        "train_data.isnull().sum()"
      ],
      "execution_count": null,
      "outputs": [
        {
          "output_type": "execute_result",
          "data": {
            "text/plain": [
              "id                   0\n",
              "url_legal         2004\n",
              "license           2004\n",
              "excerpt              0\n",
              "target               0\n",
              "standard_error       0\n",
              "dtype: int64"
            ]
          },
          "metadata": {
            "tags": []
          },
          "execution_count": 12
        }
      ]
    },
    {
      "cell_type": "code",
      "metadata": {
        "colab": {
          "base_uri": "https://localhost:8080/"
        },
        "id": "U-LsdXuaLi_0",
        "outputId": "706016d0-a556-4467-c8e2-95c87298a353"
      },
      "source": [
        "test_data.isnull().sum()"
      ],
      "execution_count": null,
      "outputs": [
        {
          "output_type": "execute_result",
          "data": {
            "text/plain": [
              "id           0\n",
              "url_legal    4\n",
              "license      4\n",
              "excerpt      0\n",
              "dtype: int64"
            ]
          },
          "metadata": {
            "tags": []
          },
          "execution_count": 13
        }
      ]
    },
    {
      "cell_type": "code",
      "metadata": {
        "colab": {
          "base_uri": "https://localhost:8080/",
          "height": 204
        },
        "id": "sEXYEEX7LmUY",
        "outputId": "8f3f784a-6dc7-41e1-9b15-5b6e17ae1193"
      },
      "source": [
        "# Train Target 가장 큰값 5개 확인\n",
        "display(train_data.sort_values(by=[\"target\"], ascending=False).head())"
      ],
      "execution_count": null,
      "outputs": [
        {
          "output_type": "display_data",
          "data": {
            "text/html": [
              "<div>\n",
              "<style scoped>\n",
              "    .dataframe tbody tr th:only-of-type {\n",
              "        vertical-align: middle;\n",
              "    }\n",
              "\n",
              "    .dataframe tbody tr th {\n",
              "        vertical-align: top;\n",
              "    }\n",
              "\n",
              "    .dataframe thead th {\n",
              "        text-align: right;\n",
              "    }\n",
              "</style>\n",
              "<table border=\"1\" class=\"dataframe\">\n",
              "  <thead>\n",
              "    <tr style=\"text-align: right;\">\n",
              "      <th></th>\n",
              "      <th>id</th>\n",
              "      <th>url_legal</th>\n",
              "      <th>license</th>\n",
              "      <th>excerpt</th>\n",
              "      <th>target</th>\n",
              "      <th>standard_error</th>\n",
              "    </tr>\n",
              "  </thead>\n",
              "  <tbody>\n",
              "    <tr>\n",
              "      <th>2829</th>\n",
              "      <td>25ca8f498</td>\n",
              "      <td>https://sites.ehe.osu.edu/beyondpenguins/files...</td>\n",
              "      <td>CC BY-SA 3.0</td>\n",
              "      <td>When you think of dinosaurs and where they liv...</td>\n",
              "      <td>1.711390</td>\n",
              "      <td>0.646900</td>\n",
              "    </tr>\n",
              "    <tr>\n",
              "      <th>981</th>\n",
              "      <td>849971671</td>\n",
              "      <td>https://www.africanstorybook.org/</td>\n",
              "      <td>CC BY 4.0</td>\n",
              "      <td>For her last birthday, Sisanda had a special t...</td>\n",
              "      <td>1.597870</td>\n",
              "      <td>0.596349</td>\n",
              "    </tr>\n",
              "    <tr>\n",
              "      <th>808</th>\n",
              "      <td>8f35441e3</td>\n",
              "      <td>https://www.africanstorybook.org/#</td>\n",
              "      <td>CC BY 4.0</td>\n",
              "      <td>Every day, Emeka's father took him to school i...</td>\n",
              "      <td>1.583847</td>\n",
              "      <td>0.624776</td>\n",
              "    </tr>\n",
              "    <tr>\n",
              "      <th>1014</th>\n",
              "      <td>7a1d484be</td>\n",
              "      <td>https://www.africanstorybook.org/</td>\n",
              "      <td>CC BY 4.0</td>\n",
              "      <td>More people came to the bus stop just before 9...</td>\n",
              "      <td>1.541672</td>\n",
              "      <td>0.606997</td>\n",
              "    </tr>\n",
              "    <tr>\n",
              "      <th>1066</th>\n",
              "      <td>016913371</td>\n",
              "      <td>https://www.africanstorybook.org/</td>\n",
              "      <td>CC BY 4.0</td>\n",
              "      <td>Grandma's garden was wonderful. It was full of...</td>\n",
              "      <td>1.467665</td>\n",
              "      <td>0.599600</td>\n",
              "    </tr>\n",
              "  </tbody>\n",
              "</table>\n",
              "</div>"
            ],
            "text/plain": [
              "             id  ... standard_error\n",
              "2829  25ca8f498  ...       0.646900\n",
              "981   849971671  ...       0.596349\n",
              "808   8f35441e3  ...       0.624776\n",
              "1014  7a1d484be  ...       0.606997\n",
              "1066  016913371  ...       0.599600\n",
              "\n",
              "[5 rows x 6 columns]"
            ]
          },
          "metadata": {
            "tags": []
          }
        }
      ]
    },
    {
      "cell_type": "code",
      "metadata": {
        "colab": {
          "base_uri": "https://localhost:8080/",
          "height": 204
        },
        "id": "RhOU4PBaNUuy",
        "outputId": "aa143579-4a05-4dd2-d156-326741edc30a"
      },
      "source": [
        "# Train Target 가장 작은값 5개 확인\n",
        "display(train_data.sort_values(by=[\"target\"]).head())"
      ],
      "execution_count": null,
      "outputs": [
        {
          "output_type": "display_data",
          "data": {
            "text/html": [
              "<div>\n",
              "<style scoped>\n",
              "    .dataframe tbody tr th:only-of-type {\n",
              "        vertical-align: middle;\n",
              "    }\n",
              "\n",
              "    .dataframe tbody tr th {\n",
              "        vertical-align: top;\n",
              "    }\n",
              "\n",
              "    .dataframe thead th {\n",
              "        text-align: right;\n",
              "    }\n",
              "</style>\n",
              "<table border=\"1\" class=\"dataframe\">\n",
              "  <thead>\n",
              "    <tr style=\"text-align: right;\">\n",
              "      <th></th>\n",
              "      <th>id</th>\n",
              "      <th>url_legal</th>\n",
              "      <th>license</th>\n",
              "      <th>excerpt</th>\n",
              "      <th>target</th>\n",
              "      <th>standard_error</th>\n",
              "    </tr>\n",
              "  </thead>\n",
              "  <tbody>\n",
              "    <tr>\n",
              "      <th>1705</th>\n",
              "      <td>4626100d8</td>\n",
              "      <td>NaN</td>\n",
              "      <td>NaN</td>\n",
              "      <td>The commutator is peculiar, consisting of only...</td>\n",
              "      <td>-3.676268</td>\n",
              "      <td>0.623621</td>\n",
              "    </tr>\n",
              "    <tr>\n",
              "      <th>1128</th>\n",
              "      <td>493b80aa7</td>\n",
              "      <td>NaN</td>\n",
              "      <td>NaN</td>\n",
              "      <td>The Dunwich horror itself came between Lammas ...</td>\n",
              "      <td>-3.668360</td>\n",
              "      <td>0.571404</td>\n",
              "    </tr>\n",
              "    <tr>\n",
              "      <th>1754</th>\n",
              "      <td>fe44cbd14</td>\n",
              "      <td>NaN</td>\n",
              "      <td>NaN</td>\n",
              "      <td>The iron cylinder weighs 23 kilogrammes; but, ...</td>\n",
              "      <td>-3.642892</td>\n",
              "      <td>0.644398</td>\n",
              "    </tr>\n",
              "    <tr>\n",
              "      <th>1752</th>\n",
              "      <td>284eaa5ad</td>\n",
              "      <td>NaN</td>\n",
              "      <td>NaN</td>\n",
              "      <td>As to surface-slope its measurement—from nearl...</td>\n",
              "      <td>-3.639936</td>\n",
              "      <td>0.603819</td>\n",
              "    </tr>\n",
              "    <tr>\n",
              "      <th>1720</th>\n",
              "      <td>9e9eacb49</td>\n",
              "      <td>NaN</td>\n",
              "      <td>NaN</td>\n",
              "      <td>The tree is dioecious, bearing male catkins on...</td>\n",
              "      <td>-3.636834</td>\n",
              "      <td>0.606822</td>\n",
              "    </tr>\n",
              "  </tbody>\n",
              "</table>\n",
              "</div>"
            ],
            "text/plain": [
              "             id url_legal  ...    target standard_error\n",
              "1705  4626100d8       NaN  ... -3.676268       0.623621\n",
              "1128  493b80aa7       NaN  ... -3.668360       0.571404\n",
              "1754  fe44cbd14       NaN  ... -3.642892       0.644398\n",
              "1752  284eaa5ad       NaN  ... -3.639936       0.603819\n",
              "1720  9e9eacb49       NaN  ... -3.636834       0.606822\n",
              "\n",
              "[5 rows x 6 columns]"
            ]
          },
          "metadata": {
            "tags": []
          }
        }
      ]
    },
    {
      "cell_type": "code",
      "metadata": {
        "colab": {
          "base_uri": "https://localhost:8080/",
          "height": 371
        },
        "id": "168erlTWNa6E",
        "outputId": "8d6f89f5-6cea-4d26-81e2-368c94b4161a"
      },
      "source": [
        "# Target 분포 확인 \n",
        "\n",
        "sns.set_style(\"whitegrid\")\n",
        "plt.figure(figsize=(12,4))\n",
        "plt.title(\"Train Target Dist Plot\")\n",
        "sns.distplot(train_data[\"target\"])"
      ],
      "execution_count": null,
      "outputs": [
        {
          "output_type": "stream",
          "text": [
            "/usr/local/lib/python3.7/dist-packages/seaborn/distributions.py:2557: FutureWarning: `distplot` is a deprecated function and will be removed in a future version. Please adapt your code to use either `displot` (a figure-level function with similar flexibility) or `histplot` (an axes-level function for histograms).\n",
            "  warnings.warn(msg, FutureWarning)\n"
          ],
          "name": "stderr"
        },
        {
          "output_type": "execute_result",
          "data": {
            "text/plain": [
              "<matplotlib.axes._subplots.AxesSubplot at 0x7f4d291f3e10>"
            ]
          },
          "metadata": {
            "tags": []
          },
          "execution_count": 13
        },
        {
          "output_type": "display_data",
          "data": {
            "image/png": "[encoded data removed]",
            "text/plain": [
              "<Figure size 864x288 with 1 Axes>"
            ]
          },
          "metadata": {
            "tags": []
          }
        }
      ]
    },
    {
      "cell_type": "code",
      "metadata": {
        "colab": {
          "base_uri": "https://localhost:8080/",
          "height": 316
        },
        "id": "UgiX0TGeOnCk",
        "outputId": "d418fc59-7c1d-4d5a-d73d-5776cf026e8e"
      },
      "source": [
        "# 결측치 확인\n",
        "\n",
        "sns.set_style(\"whitegrid\")\n",
        "plt.figure(figsize=(12,4))\n",
        "null_percent = train_data.isnull().mean() * 100\n",
        "null_percent.plot.bar(color = \"green\")\n",
        "plt.title(\"Train dataset's Missing Value percentage per column\", fontsize=15, weight=\"bold\")\n",
        "plt.xlabel(\"Column\", weight=\"bold\")\n",
        "plt.xticks(rotation=0)\n",
        "plt.ylabel(\"Missing Values Percentage\", weight=\"bold\")"
      ],
      "execution_count": null,
      "outputs": [
        {
          "output_type": "execute_result",
          "data": {
            "text/plain": [
              "Text(0, 0.5, 'Missing Values Percentage')"
            ]
          },
          "metadata": {
            "tags": []
          },
          "execution_count": 32
        },
        {
          "output_type": "display_data",
          "data": {
            "image/png": "[encoded data removed]",
            "text/plain": [
              "<Figure size 864x288 with 1 Axes>"
            ]
          },
          "metadata": {
            "tags": []
          }
        }
      ]
    },
    {
      "cell_type": "code",
      "metadata": {
        "colab": {
          "base_uri": "https://localhost:8080/",
          "height": 316
        },
        "id": "5iMyHgu8NbAT",
        "outputId": "8a2bb0f2-999f-45ea-bd39-70eef58e31af"
      },
      "source": [
        "sns.set_style(\"whitegrid\")\n",
        "plt.figure(figsize=(12,4))\n",
        "test_null_percent = test_data.isnull().mean() * 100\n",
        "test_null_percent.plot.bar(color = \"slateblue\")\n",
        "plt.title(\"Test dataset's Missing Value percentage per column\", fontsize=15, weight=\"bold\")\n",
        "plt.xlabel(\"Column\", weight=\"bold\")\n",
        "plt.xticks(rotation=0)\n",
        "plt.ylabel(\"Missing Values Percentage\", weight=\"bold\")"
      ],
      "execution_count": null,
      "outputs": [
        {
          "output_type": "execute_result",
          "data": {
            "text/plain": [
              "Text(0, 0.5, 'Missing Values Percentage')"
            ]
          },
          "metadata": {
            "tags": []
          },
          "execution_count": 33
        },
        {
          "output_type": "display_data",
          "data": {
            "image/png": "[encoded data removed]",
            "text/plain": [
              "<Figure size 864x288 with 1 Axes>"
            ]
          },
          "metadata": {
            "tags": []
          }
        }
      ]
    },
    {
      "cell_type": "code",
      "metadata": {
        "colab": {
          "base_uri": "https://localhost:8080/",
          "height": 314
        },
        "id": "gTQCF7HmXV0P",
        "outputId": "c33d1e9e-08ab-418f-a0d3-2f63a425008c"
      },
      "source": [
        "# 발췌문(excerpt) 단어 개수와 길이 확인\n",
        "\n",
        "plt.figure(figsize=(12, 4))\n",
        "sns.kdeplot(train_data[\"excerpt\"].str.split().str.len())\n",
        "plt.title(\"Train data's exceprt word count KDE plot\", weight=\"bold\")"
      ],
      "execution_count": null,
      "outputs": [
        {
          "output_type": "execute_result",
          "data": {
            "text/plain": [
              "Text(0.5, 1.0, \"Train data's exceprt word count KDE plot\")"
            ]
          },
          "metadata": {
            "tags": []
          },
          "execution_count": 48
        },
        {
          "output_type": "display_data",
          "data": {
            "image/png": "[encoded data removed]",
            "text/plain": [
              "<Figure size 864x288 with 1 Axes>"
            ]
          },
          "metadata": {
            "tags": []
          }
        }
      ]
    },
    {
      "cell_type": "code",
      "metadata": {
        "colab": {
          "base_uri": "https://localhost:8080/",
          "height": 314
        },
        "id": "wUTE4bnCXV2k",
        "outputId": "931c9a4a-4c03-49cc-8727-aa92d8eb7eb3"
      },
      "source": [
        "plt.figure(figsize=(12,4))\n",
        "sns.kdeplot(train_data[\"excerpt\"].str.len())\n",
        "plt.title(\"Train data's excerpt length KDE plot\", weight=\"bold\")"
      ],
      "execution_count": null,
      "outputs": [
        {
          "output_type": "execute_result",
          "data": {
            "text/plain": [
              "Text(0.5, 1.0, \"Train data's excerpt length KDE plot\")"
            ]
          },
          "metadata": {
            "tags": []
          },
          "execution_count": 46
        },
        {
          "output_type": "display_data",
          "data": {
            "image/png": "[encoded data removed]",
            "text/plain": [
              "<Figure size 864x288 with 1 Axes>"
            ]
          },
          "metadata": {
            "tags": []
          }
        }
      ]
    },
    {
      "cell_type": "code",
      "metadata": {
        "colab": {
          "base_uri": "https://localhost:8080/",
          "height": 314
        },
        "id": "4nryqG7YXV5d",
        "outputId": "78a675e1-0e9e-4a0a-9844-e2a53e892148"
      },
      "source": [
        "# License 분포 확인\n",
        "plt.figure(figsize=(12,4))\n",
        "sns.countplot(y=\"license\", data=train_data, palette=\"crest\")\n",
        "plt.title(\"Train data's License Distribution\")"
      ],
      "execution_count": null,
      "outputs": [
        {
          "output_type": "execute_result",
          "data": {
            "text/plain": [
              "Text(0.5, 1.0, \"Train data's License Distribution\")"
            ]
          },
          "metadata": {
            "tags": []
          },
          "execution_count": 55
        },
        {
          "output_type": "display_data",
          "data": {
            "image/png": "[encoded data removed]",
            "text/plain": [
              "<Figure size 864x288 with 1 Axes>"
            ]
          },
          "metadata": {
            "tags": []
          }
        }
      ]
    },
    {
      "cell_type": "code",
      "metadata": {
        "colab": {
          "base_uri": "https://localhost:8080/"
        },
        "id": "VbFe5TAsXV8c",
        "outputId": "3e571d75-a3db-48f4-d47b-2e4971e94970"
      },
      "source": [
        "# collections의 Counter 함수를 사용한 전체 단어 개수 구하기\n",
        "\n",
        "word_count = Counter()\n",
        "train_data[\"excerpt\"].str.lower().str.split().apply(word_count.update)\n",
        "print(\"Unique Whole Word : \", len(word_count.keys()))"
      ],
      "execution_count": null,
      "outputs": [
        {
          "output_type": "stream",
          "text": [
            "Unique Whole Word :  51038\n"
          ],
          "name": "stdout"
        }
      ]
    },
    {
      "cell_type": "code",
      "metadata": {
        "colab": {
          "base_uri": "https://localhost:8080/"
        },
        "id": "JVnxCGJWdJYR",
        "outputId": "2060a8bb-e4bf-4bd8-bc83-3de111bd1657"
      },
      "source": [
        "# 가장 긴 단어와 가장 짧은 단어 확인\n",
        "longest_word = max(word_count.keys(), key=len)\n",
        "print(\"Longest word : \", longest_word)\n",
        "print(\"Length of Longest word : \", len(longest_word), \"\\n\")\n",
        "\n",
        "shortest_word = min(word_count.keys(), key=len)\n",
        "print(\"Shortest word : \", shortest_word)\n",
        "print(\"Length of Shortest word : \", len(shortest_word))"
      ],
      "execution_count": null,
      "outputs": [
        {
          "output_type": "stream",
          "text": [
            "Longest word :  doi:10.1016/j.iheduc.2008.03.001\n",
            "Length of Longest word :  32 \n",
            "\n",
            "Shortest word :  a\n",
            "Length of Shortest word :  1\n"
          ],
          "name": "stdout"
        }
      ]
    },
    {
      "cell_type": "code",
      "metadata": {
        "colab": {
          "base_uri": "https://localhost:8080/"
        },
        "id": "nayWx-Zwd_xo",
        "outputId": "9b92a912-e7ff-46e1-c5a4-ffc53f051fc9"
      },
      "source": [
        "sorted_word = sorted(word_count.keys(), key=len)\n",
        "print(\"5 Longest words : \", sorted_word[-5:])\n",
        "print(\"5 Shortest words : \", sorted_word[:5])"
      ],
      "execution_count": null,
      "outputs": [
        {
          "output_type": "stream",
          "text": [
            "5 Longest words :  ['storing/retrieval/processing', 'polyhedron(pol-ee-hee-dron).', 'doi:10.1016/j.iheduc.2008.03.001', 'scream—whew-ew-ew-ew-bang!—broke', 'hundred—going—going—going—gone!\"']\n",
            "5 Shortest words :  ['a', 'i', '—', 'o', '5']\n"
          ],
          "name": "stdout"
        }
      ]
    },
    {
      "cell_type": "code",
      "metadata": {
        "colab": {
          "base_uri": "https://localhost:8080/"
        },
        "id": "XrtYfF8ZgkfU",
        "outputId": "8f1e8f5b-be10-4262-e219-f28063948fa9"
      },
      "source": [
        "# Target 점수가 가장 낮은 excerpt 확인 (readibility score가 낮을수록 읽기 어려운 문장)\n",
        "train_data.head()\n",
        "hardest_excerpt = train_data.loc[train_data[\"target\"] == train_data[\"target\"].min()].excerpt\n",
        "list(hardest_excerpt)"
      ],
      "execution_count": null,
      "outputs": [
        {
          "output_type": "execute_result",
          "data": {
            "text/plain": [
              "['The commutator is peculiar, consisting of only three segments of a copper ring, while in the simplest of other continuous current generators several times that number exist, and frequently 120! segments are to be found. These three segments are made so as to be removable in a moment for cleaning or replacement. They are mounted upon a metal support, and are surrounded on all sides by a free air space, and cannot, therefore, lose their insulated condition. This feature of air insulation is peculiar to this system, and is very important as a factor in the durability of the commutator. Besides this, the commutator is sustained by supports carried in flanges upon the shaft, which flanges, as an additional safeguard, are coated all over with hard rubber, one of the finest known insulators. It may be stated, without fear of contradiction, that no other commutator made is so thoroughly insulated and protected. The three commutator segments virtually constitute a single copper ring, mounted in free air, and cut into three equal pieces by slots across its face.']"
            ]
          },
          "metadata": {
            "tags": []
          },
          "execution_count": 96
        }
      ]
    },
    {
      "cell_type": "code",
      "metadata": {
        "colab": {
          "base_uri": "https://localhost:8080/"
        },
        "id": "LpZW6xf1jUaw",
        "outputId": "93ff918c-7315-4890-d6c9-be4c122ac33c"
      },
      "source": [
        "# Target 점수가 가장 높은 excerpt 확인 (가장 읽기 쉬운 문장)\n",
        "easiest_excerpt = train_data.loc[train_data[\"target\"] == train_data[\"target\"].max()].excerpt\n",
        "list(easiest_excerpt)"
      ],
      "execution_count": null,
      "outputs": [
        {
          "output_type": "execute_result",
          "data": {
            "text/plain": [
              "['When you think of dinosaurs and where they lived, what do you picture? Do you see hot, steamy swamps, thick jungles, or sunny plains? Dinosaurs lived in those places, yes. But did you know that some dinosaurs lived in the cold and the darkness near the North and South Poles?\\nThis surprised scientists, too. Paleontologists used to believe that dinosaurs lived only in the warmest parts of the world. They thought that dinosaurs could only have lived in places where turtles, crocodiles, and snakes live today. Later, these dinosaur scientists began finding bones in surprising places.\\nOne of those surprising fossil beds is a place called Dinosaur Cove, Australia. One hundred million years ago, Australia was connected to Antarctica. Both continents were located near the South Pole. Today, paleontologists dig dinosaur fossils out of the ground. They think about what those ancient bones must mean.']"
            ]
          },
          "metadata": {
            "tags": []
          },
          "execution_count": 97
        }
      ]
    },
    {
      "cell_type": "markdown",
      "metadata": {
        "id": "l7tbk9a4ksYy"
      },
      "source": [
        "## Data Preprocessing"
      ]
    },
    {
      "cell_type": "markdown",
      "metadata": {
        "id": "Er8CtewTjpie"
      },
      "source": [
        "### Data Cleaning"
      ]
    },
    {
      "cell_type": "code",
      "metadata": {
        "colab": {
          "base_uri": "https://localhost:8080/"
        },
        "id": "sAlJEfA1k5Ay",
        "outputId": "dc8203a2-38b3-4950-c832-8e127c7f197c"
      },
      "source": [
        "# stop word 제거\n",
        "def removeStopwords(text):\n",
        "    document = nlp(text)\n",
        "    clean_text = ' '\n",
        "    for txt in document:\n",
        "        if (txt.is_stop == False):\n",
        "            clean_text += \" \" + str(txt)        \n",
        "    return clean_text\n",
        "\n",
        "print(\"\\033[1mText before removeStopwords function: \\033[0m\" + train_data['excerpt'][1] + \"\\n\")\n",
        "print(\"\\033[1mText after removeStopwords function: \\033[0m\" + removeStopwords(train_data['excerpt'][1]))"
      ],
      "execution_count": 8,
      "outputs": [
        {
          "output_type": "stream",
          "text": [
            "\u001b[1mText before removeStopwords function: \u001b[0mAll through dinner time, Mrs. Fayre was somewhat silent, her eyes resting on Dolly with a wistful, uncertain expression. She wanted to give the child the pleasure she craved, but she had hard work to bring herself to the point of overcoming her own objections.\n",
            "At last, however, when the meal was nearly over, she smiled at her little daughter, and said, \"All right, Dolly, you may go.\"\n",
            "\"Oh, mother!\" Dolly cried, overwhelmed with sudden delight. \"Really?\n",
            "Oh, I am so glad! Are you sure you're willing?\"\n",
            "\"I've persuaded myself to be willing, against my will,\" returned Mrs. Fayre, whimsically. \"I confess I just hate to have you go, but I can't bear to deprive you of the pleasure trip. And, as you say, it would also keep Dotty at home, and so, altogether, I think I shall have to give in.\"\n",
            "\"Oh, you angel mother! You blessed lady! How good you are!\" And Dolly flew around the table and gave her mother a hug that nearly suffocated her.\n",
            "\n",
            "\u001b[1mText after removeStopwords function: \u001b[0m  dinner time , Mrs. Fayre somewhat silent , eyes resting Dolly wistful , uncertain expression . wanted child pleasure craved , hard work bring point overcoming objections . \n",
            " , , meal nearly , smiled little daughter , said , \" right , Dolly , . \" \n",
            " \" Oh , mother ! \" Dolly cried , overwhelmed sudden delight . \" ? \n",
            " Oh , glad ! sure willing ? \" \n",
            " \" persuaded willing , , \" returned Mrs. Fayre , whimsically . \" confess hate , bear deprive pleasure trip . , , Dotty home , , altogether , think shall . \" \n",
            " \" Oh , angel mother ! blessed lady ! good ! \" Dolly flew table gave mother hug nearly suffocated .\n"
          ],
          "name": "stdout"
        }
      ]
    },
    {
      "cell_type": "code",
      "metadata": {
        "colab": {
          "base_uri": "https://localhost:8080/"
        },
        "id": "CookqAK1qs07",
        "outputId": "85d5ad8c-b6d7-495f-b214-b78af82cfa17"
      },
      "source": [
        "# 문장기호 제거(. , ! ? \" ')\n",
        "def removePunctuations(text):\n",
        "    return text.translate(str.maketrans('', '', string.punctuation))\n",
        "\n",
        "print(\"\\033[1mText before removePunctuations function: \\033[0m\" + train_data['excerpt'][1] + \"\\n\")\n",
        "print(\"\\033[1mText after removePunctuations function: \\033[0m\" + removePunctuations(train_data['excerpt'][1]))"
      ],
      "execution_count": 9,
      "outputs": [
        {
          "output_type": "stream",
          "text": [
            "\u001b[1mText before removePunctuations function: \u001b[0mAll through dinner time, Mrs. Fayre was somewhat silent, her eyes resting on Dolly with a wistful, uncertain expression. She wanted to give the child the pleasure she craved, but she had hard work to bring herself to the point of overcoming her own objections.\n",
            "At last, however, when the meal was nearly over, she smiled at her little daughter, and said, \"All right, Dolly, you may go.\"\n",
            "\"Oh, mother!\" Dolly cried, overwhelmed with sudden delight. \"Really?\n",
            "Oh, I am so glad! Are you sure you're willing?\"\n",
            "\"I've persuaded myself to be willing, against my will,\" returned Mrs. Fayre, whimsically. \"I confess I just hate to have you go, but I can't bear to deprive you of the pleasure trip. And, as you say, it would also keep Dotty at home, and so, altogether, I think I shall have to give in.\"\n",
            "\"Oh, you angel mother! You blessed lady! How good you are!\" And Dolly flew around the table and gave her mother a hug that nearly suffocated her.\n",
            "\n",
            "\u001b[1mText after removePunctuations function: \u001b[0mAll through dinner time Mrs Fayre was somewhat silent her eyes resting on Dolly with a wistful uncertain expression She wanted to give the child the pleasure she craved but she had hard work to bring herself to the point of overcoming her own objections\n",
            "At last however when the meal was nearly over she smiled at her little daughter and said All right Dolly you may go\n",
            "Oh mother Dolly cried overwhelmed with sudden delight Really\n",
            "Oh I am so glad Are you sure youre willing\n",
            "Ive persuaded myself to be willing against my will returned Mrs Fayre whimsically I confess I just hate to have you go but I cant bear to deprive you of the pleasure trip And as you say it would also keep Dotty at home and so altogether I think I shall have to give in\n",
            "Oh you angel mother You blessed lady How good you are And Dolly flew around the table and gave her mother a hug that nearly suffocated her\n"
          ],
          "name": "stdout"
        }
      ]
    },
    {
      "cell_type": "markdown",
      "metadata": {
        "id": "Ak4HFweaqs7m"
      },
      "source": [
        "thinking...\n",
        "\n",
        "* 문장기호와 readibility score와의 관계? 문장기호가 더 많으면 상대적으로 읽기 쉬운 문장이지 않을까?\n",
        "* 문장 길이/문자 길이와 score의 관계? 문장 길이가 길수록 읽기 힘드니까, 긴 글자도 마찬가지 (안녕! vs 안녕하셨습니까)\n",
        "* "
      ]
    },
    {
      "cell_type": "code",
      "metadata": {
        "colab": {
          "base_uri": "https://localhost:8080/"
        },
        "id": "-_2xGptiqtBo",
        "outputId": "65e4e0b5-f8e1-422f-c68e-32e75e07c4b5"
      },
      "source": [
        "# 링크 주소 제거\n",
        "def removeLinks(text):\n",
        "    clean_text = re.sub('https?://\\S+|www\\.\\S+', '', text)\n",
        "    return clean_text\n",
        "\n",
        "test_string = \"http://www.youtube.com/ and https://www.youtube.com/ should be removed \"\n",
        "(test_string,removeLinks(test_string))"
      ],
      "execution_count": 10,
      "outputs": [
        {
          "output_type": "execute_result",
          "data": {
            "text/plain": [
              "('http://www.youtube.com/ and https://www.youtube.com/ should be removed ',\n",
              " ' and  should be removed ')"
            ]
          },
          "metadata": {
            "tags": []
          },
          "execution_count": 10
        }
      ]
    },
    {
      "cell_type": "code",
      "metadata": {
        "colab": {
          "base_uri": "https://localhost:8080/"
        },
        "id": "T5NuBmhutIMk",
        "outputId": "c820919e-0bfd-49ef-d1dc-66d172329523"
      },
      "source": [
        "# 숫자 제거\n",
        "def removeNumbers(text):\n",
        "    clean_text = re.sub(r'\\d+', '', text)\n",
        "    return clean_text\n",
        "\n",
        "test_string = \"Hi 🙈 99 girls are running\"\n",
        "(test_string,removeNumbers(test_string))"
      ],
      "execution_count": 11,
      "outputs": [
        {
          "output_type": "execute_result",
          "data": {
            "text/plain": [
              "('Hi 🙈 99 girls are running', 'Hi 🙈  girls are running')"
            ]
          },
          "metadata": {
            "tags": []
          },
          "execution_count": 11
        }
      ]
    },
    {
      "cell_type": "code",
      "metadata": {
        "id": "cUJJ3U6stIQD"
      },
      "source": [
        "# 함수 하나로 통합\n",
        "def clean(text):\n",
        "    text = text.lower() #Lets make it lowercase\n",
        "    text = removeStopwords(text)\n",
        "    text = removePunctuations(text)\n",
        "    text = removeNumbers(text)\n",
        "    text = removeLinks(text)\n",
        "    return text"
      ],
      "execution_count": 12,
      "outputs": []
    },
    {
      "cell_type": "code",
      "metadata": {
        "colab": {
          "base_uri": "https://localhost:8080/",
          "height": 288
        },
        "id": "TRUBozLptITi",
        "outputId": "d54d488c-bd8d-47b6-abd2-53587e7cd2c1"
      },
      "source": [
        "# train 데이터에 정보 추가\n",
        "\n",
        "train_data['excerpt_len'] = train_data['excerpt'].apply(\n",
        "    lambda x : len(x)\n",
        ")\n",
        "train_data['excerpt_word_count'] = train_data['excerpt'].apply(\n",
        "    lambda x : len(x.split(' '))\n",
        ")\n",
        "train_data['excerpt_clean'] = train_data['excerpt'].apply(clean)\n",
        "train_data.head()"
      ],
      "execution_count": 13,
      "outputs": [
        {
          "output_type": "execute_result",
          "data": {
            "text/html": [
              "<div>\n",
              "<style scoped>\n",
              "    .dataframe tbody tr th:only-of-type {\n",
              "        vertical-align: middle;\n",
              "    }\n",
              "\n",
              "    .dataframe tbody tr th {\n",
              "        vertical-align: top;\n",
              "    }\n",
              "\n",
              "    .dataframe thead th {\n",
              "        text-align: right;\n",
              "    }\n",
              "</style>\n",
              "<table border=\"1\" class=\"dataframe\">\n",
              "  <thead>\n",
              "    <tr style=\"text-align: right;\">\n",
              "      <th></th>\n",
              "      <th>id</th>\n",
              "      <th>url_legal</th>\n",
              "      <th>license</th>\n",
              "      <th>excerpt</th>\n",
              "      <th>target</th>\n",
              "      <th>standard_error</th>\n",
              "      <th>excerpt_len</th>\n",
              "      <th>excerpt_word_count</th>\n",
              "      <th>excerpt_clean</th>\n",
              "    </tr>\n",
              "  </thead>\n",
              "  <tbody>\n",
              "    <tr>\n",
              "      <th>0</th>\n",
              "      <td>c12129c31</td>\n",
              "      <td>NaN</td>\n",
              "      <td>NaN</td>\n",
              "      <td>When the young people returned to the ballroom...</td>\n",
              "      <td>-0.340259</td>\n",
              "      <td>0.464009</td>\n",
              "      <td>992</td>\n",
              "      <td>174</td>\n",
              "      <td>young people returned ballroom  presented de...</td>\n",
              "    </tr>\n",
              "    <tr>\n",
              "      <th>1</th>\n",
              "      <td>85aa80a4c</td>\n",
              "      <td>NaN</td>\n",
              "      <td>NaN</td>\n",
              "      <td>All through dinner time, Mrs. Fayre was somewh...</td>\n",
              "      <td>-0.315372</td>\n",
              "      <td>0.480805</td>\n",
              "      <td>937</td>\n",
              "      <td>164</td>\n",
              "      <td>dinner time  mrs  fayre somewhat silent  eye...</td>\n",
              "    </tr>\n",
              "    <tr>\n",
              "      <th>2</th>\n",
              "      <td>b69ac6792</td>\n",
              "      <td>NaN</td>\n",
              "      <td>NaN</td>\n",
              "      <td>As Roger had predicted, the snow departed as q...</td>\n",
              "      <td>-0.580118</td>\n",
              "      <td>0.476676</td>\n",
              "      <td>908</td>\n",
              "      <td>162</td>\n",
              "      <td>roger predicted  snow departed quickly came ...</td>\n",
              "    </tr>\n",
              "    <tr>\n",
              "      <th>3</th>\n",
              "      <td>dd1000b26</td>\n",
              "      <td>NaN</td>\n",
              "      <td>NaN</td>\n",
              "      <td>And outside before the palace a great garden w...</td>\n",
              "      <td>-1.054013</td>\n",
              "      <td>0.450007</td>\n",
              "      <td>909</td>\n",
              "      <td>163</td>\n",
              "      <td>outside palace great garden walled round  fi...</td>\n",
              "    </tr>\n",
              "    <tr>\n",
              "      <th>4</th>\n",
              "      <td>37c1b32fb</td>\n",
              "      <td>NaN</td>\n",
              "      <td>NaN</td>\n",
              "      <td>Once upon a time there were Three Bears who li...</td>\n",
              "      <td>0.247197</td>\n",
              "      <td>0.510845</td>\n",
              "      <td>723</td>\n",
              "      <td>147</td>\n",
              "      <td>time bears lived house wood  little  small  ...</td>\n",
              "    </tr>\n",
              "  </tbody>\n",
              "</table>\n",
              "</div>"
            ],
            "text/plain": [
              "          id  ...                                      excerpt_clean\n",
              "0  c12129c31  ...    young people returned ballroom  presented de...\n",
              "1  85aa80a4c  ...    dinner time  mrs  fayre somewhat silent  eye...\n",
              "2  b69ac6792  ...    roger predicted  snow departed quickly came ...\n",
              "3  dd1000b26  ...    outside palace great garden walled round  fi...\n",
              "4  37c1b32fb  ...    time bears lived house wood  little  small  ...\n",
              "\n",
              "[5 rows x 9 columns]"
            ]
          },
          "metadata": {
            "tags": []
          },
          "execution_count": 13
        }
      ]
    },
    {
      "cell_type": "code",
      "metadata": {
        "colab": {
          "base_uri": "https://localhost:8080/",
          "height": 204
        },
        "id": "UtU6Pe5NxM4y",
        "outputId": "bcf73cc1-eeeb-46ea-b93e-8254f4f36767"
      },
      "source": [
        "# test 데이터에도 똑같이 적용 \n",
        "test_data['excerpt_clean'] = test_data['excerpt'].apply(clean)\n",
        "test_data.head()"
      ],
      "execution_count": 14,
      "outputs": [
        {
          "output_type": "execute_result",
          "data": {
            "text/html": [
              "<div>\n",
              "<style scoped>\n",
              "    .dataframe tbody tr th:only-of-type {\n",
              "        vertical-align: middle;\n",
              "    }\n",
              "\n",
              "    .dataframe tbody tr th {\n",
              "        vertical-align: top;\n",
              "    }\n",
              "\n",
              "    .dataframe thead th {\n",
              "        text-align: right;\n",
              "    }\n",
              "</style>\n",
              "<table border=\"1\" class=\"dataframe\">\n",
              "  <thead>\n",
              "    <tr style=\"text-align: right;\">\n",
              "      <th></th>\n",
              "      <th>id</th>\n",
              "      <th>url_legal</th>\n",
              "      <th>license</th>\n",
              "      <th>excerpt</th>\n",
              "      <th>excerpt_clean</th>\n",
              "    </tr>\n",
              "  </thead>\n",
              "  <tbody>\n",
              "    <tr>\n",
              "      <th>0</th>\n",
              "      <td>c0f722661</td>\n",
              "      <td>NaN</td>\n",
              "      <td>NaN</td>\n",
              "      <td>My hope lay in Jack's promise that he would ke...</td>\n",
              "      <td>hope lay jack promise bright light burning u...</td>\n",
              "    </tr>\n",
              "    <tr>\n",
              "      <th>1</th>\n",
              "      <td>f0953f0a5</td>\n",
              "      <td>NaN</td>\n",
              "      <td>NaN</td>\n",
              "      <td>Dotty continued to go to Mrs. Gray's every nig...</td>\n",
              "      <td>dotty continued mrs  gray night milk  katie ...</td>\n",
              "    </tr>\n",
              "    <tr>\n",
              "      <th>2</th>\n",
              "      <td>0df072751</td>\n",
              "      <td>NaN</td>\n",
              "      <td>NaN</td>\n",
              "      <td>It was a bright and cheerful scene that greete...</td>\n",
              "      <td>bright cheerful scene greeted eyes captain r...</td>\n",
              "    </tr>\n",
              "    <tr>\n",
              "      <th>3</th>\n",
              "      <td>04caf4e0c</td>\n",
              "      <td>https://en.wikipedia.org/wiki/Cell_division</td>\n",
              "      <td>CC BY-SA 3.0</td>\n",
              "      <td>Cell division is the process by which a parent...</td>\n",
              "      <td>cell division process parent cell divides da...</td>\n",
              "    </tr>\n",
              "    <tr>\n",
              "      <th>4</th>\n",
              "      <td>0e63f8bea</td>\n",
              "      <td>https://en.wikipedia.org/wiki/Debugging</td>\n",
              "      <td>CC BY-SA 3.0</td>\n",
              "      <td>Debugging is the process of finding and resolv...</td>\n",
              "      <td>debugging process finding resolving defects ...</td>\n",
              "    </tr>\n",
              "  </tbody>\n",
              "</table>\n",
              "</div>"
            ],
            "text/plain": [
              "          id  ...                                      excerpt_clean\n",
              "0  c0f722661  ...    hope lay jack promise bright light burning u...\n",
              "1  f0953f0a5  ...    dotty continued mrs  gray night milk  katie ...\n",
              "2  0df072751  ...    bright cheerful scene greeted eyes captain r...\n",
              "3  04caf4e0c  ...    cell division process parent cell divides da...\n",
              "4  0e63f8bea  ...    debugging process finding resolving defects ...\n",
              "\n",
              "[5 rows x 5 columns]"
            ]
          },
          "metadata": {
            "tags": []
          },
          "execution_count": 14
        }
      ]
    },
    {
      "cell_type": "code",
      "metadata": {
        "colab": {
          "base_uri": "https://localhost:8080/"
        },
        "id": "aq5cJKxNuOls",
        "outputId": "856c8f08-bfd2-4f3e-ec93-7276a806f9ce"
      },
      "source": [
        "# cleaning 된 excerpt의 단어 개수 확인\n",
        "results = Counter()\n",
        "train_data['excerpt_clean'].str.lower().str.split().apply(results.update)\n",
        "print(len(results.keys()))"
      ],
      "execution_count": 15,
      "outputs": [
        {
          "output_type": "stream",
          "text": [
            "26154\n"
          ],
          "name": "stdout"
        }
      ]
    },
    {
      "cell_type": "code",
      "metadata": {
        "colab": {
          "base_uri": "https://localhost:8080/"
        },
        "id": "gBo69ba0uOyj",
        "outputId": "5f0c099f-f1e2-47b5-8f88-da54be56608d"
      },
      "source": [
        "train_data.excerpt_clean"
      ],
      "execution_count": 16,
      "outputs": [
        {
          "output_type": "execute_result",
          "data": {
            "text/plain": [
              "0         young people returned ballroom  presented de...\n",
              "1         dinner time  mrs  fayre somewhat silent  eye...\n",
              "2         roger predicted  snow departed quickly came ...\n",
              "3         outside palace great garden walled round  fi...\n",
              "4         time bears lived house wood  little  small  ...\n",
              "                              ...                        \n",
              "2829      think dinosaurs lived  picture  hot  steamy ...\n",
              "2830      solid  solids usually hard molecules packed ...\n",
              "2831      second state matter discuss liquid  solids h...\n",
              "2832      solids shapes actually touch  dimensions  me...\n",
              "2833      animals cells  eat things digest inside  ani...\n",
              "Name: excerpt_clean, Length: 2834, dtype: object"
            ]
          },
          "metadata": {
            "tags": []
          },
          "execution_count": 16
        }
      ]
    },
    {
      "cell_type": "markdown",
      "metadata": {
        "id": "mCE41St0EjnD"
      },
      "source": [
        "### N-gram preprocessing"
      ]
    },
    {
      "cell_type": "code",
      "metadata": {
        "id": "8yzfyn5Xm1N1"
      },
      "source": [
        "# sklearn의 CountVectorizer를 사용해 단어 빈도수 구하기 (Unigram)\n",
        "\n",
        "vec = CountVectorizer().fit(train_data['excerpt_clean'])\n",
        "bag_of_words = vec.transform(train_data['excerpt_clean'])\n",
        "sum_words = bag_of_words.sum(axis=0) # sum_words: (1, 26040) matrix"
      ],
      "execution_count": 21,
      "outputs": []
    },
    {
      "cell_type": "code",
      "metadata": {
        "colab": {
          "base_uri": "https://localhost:8080/"
        },
        "id": "gwvVLj6VnRDE",
        "outputId": "c19d7a59-2b67-4023-efb5-de464d664dfc"
      },
      "source": [
        "# train dataset의 전체 단어 빈도수 상위 10개 출력\n",
        "\n",
        "words_freq = [(word, sum_words[0, idx]) for word, idx in vec.vocabulary_.items()]\n",
        "freq_sorted = sorted(words_freq, key = lambda x: x[1], reverse=True)\n",
        "freq_sorted[:10]"
      ],
      "execution_count": 42,
      "outputs": [
        {
          "output_type": "execute_result",
          "data": {
            "text/plain": [
              "[('little', 1137),\n",
              " ('said', 1112),\n",
              " ('time', 919),\n",
              " ('like', 837),\n",
              " ('people', 750),\n",
              " ('great', 702),\n",
              " ('water', 672),\n",
              " ('day', 662),\n",
              " ('called', 647),\n",
              " ('old', 625)]"
            ]
          },
          "metadata": {
            "tags": []
          },
          "execution_count": 42
        }
      ]
    },
    {
      "cell_type": "code",
      "metadata": {
        "id": "t7LXJWx_oZOB"
      },
      "source": [
        "# sklearn의 CountVectorizer를 사용해 Bi-gram 빈도수 구하기 \n",
        "\n",
        "vec_bigram = CountVectorizer(ngram_range = (2,2)).fit(train_data['excerpt_clean']) # bigram\n",
        "bag_of_bigram = vec_bigram.transform(train_data['excerpt_clean'])\n",
        "sum_bigram = bag_of_bigram.sum(axis=0) # sum_bigram: (1, 192993) matrix"
      ],
      "execution_count": 44,
      "outputs": []
    },
    {
      "cell_type": "code",
      "metadata": {
        "colab": {
          "base_uri": "https://localhost:8080/"
        },
        "id": "qO_XYWpxpvn1",
        "outputId": "eb1a55b8-619e-43ce-f50b-06135459945f"
      },
      "source": [
        "# unigram --> bigram으로 바뀌며 Ngram 개수 변화\n",
        "np.shape(sum_bigram)"
      ],
      "execution_count": 45,
      "outputs": [
        {
          "output_type": "execute_result",
          "data": {
            "text/plain": [
              "(1, 192993)"
            ]
          },
          "metadata": {
            "tags": []
          },
          "execution_count": 45
        }
      ]
    },
    {
      "cell_type": "code",
      "metadata": {
        "colab": {
          "base_uri": "https://localhost:8080/"
        },
        "id": "hA9nBKp-pcyw",
        "outputId": "76c5ec09-7361-4255-b304-ba62e06b118e"
      },
      "source": [
        "# bigram 빈도수 상위 10개 출력 \n",
        "bigram_freq = [(word, sum_bigram[0, idx]) for word, idx in vec_bigram.vocabulary_.items()]\n",
        "bigram_freq_sorted = sorted(bigram_freq, key = lambda x: x[1], reverse=True)\n",
        "bigram_freq_sorted[:10]"
      ],
      "execution_count": 48,
      "outputs": [
        {
          "output_type": "execute_result",
          "data": {
            "text/plain": [
              "[('united states', 100),\n",
              " ('years ago', 77),\n",
              " ('years old', 58),\n",
              " ('long time', 58),\n",
              " ('little girl', 56),\n",
              " ('th century', 55),\n",
              " ('old man', 49),\n",
              " ('new york', 46),\n",
              " ('little boy', 44),\n",
              " ('carbon dioxide', 38)]"
            ]
          },
          "metadata": {
            "tags": []
          },
          "execution_count": 48
        }
      ]
    },
    {
      "cell_type": "code",
      "metadata": {
        "id": "5tzsd9GQvEnV"
      },
      "source": [
        "# Top N개 Unigram, Bigram 빈도수 구하는 함수\n",
        "def get_top_n_words(corpus, n = None):\n",
        "    \"\"\"\n",
        "    A function that returns the top 'n' unigrams used in the corpus\n",
        "    \"\"\"\n",
        "    vec = CountVectorizer().fit(corpus)\n",
        "    bag_of_words = vec.transform(corpus) \n",
        "    sum_words = bag_of_words.sum(axis=0) \n",
        "    words_freq = [(word, sum_words[0, idx]) for word, idx in vec.vocabulary_.items()] \n",
        "    freq_sorted = sorted(words_freq, key = lambda x: x[1], reverse = True)\n",
        "    return freq_sorted[:n]\n",
        "\n",
        "def get_top_n_bigram(corpus, n = None):\n",
        "    \"\"\"\n",
        "    A function that returns the top 'n' bigrams used in the corpus\n",
        "    \"\"\"\n",
        "    vec = CountVectorizer(ngram_range = (2, 2)).fit(corpus)\n",
        "    bag_of_words = vec.transform(corpus)\n",
        "    sum_words = bag_of_words.sum(axis = 0) \n",
        "    words_freq = [(word, sum_words[0, idx]) for word, idx in vec.vocabulary_.items()]\n",
        "    freq_sorted = sorted(words_freq, key = lambda x: x[1], reverse=True)\n",
        "    return freq_sorted[:n]"
      ],
      "execution_count": 51,
      "outputs": []
    },
    {
      "cell_type": "code",
      "metadata": {
        "id": "G6AhLqyKuaV7",
        "colab": {
          "base_uri": "https://localhost:8080/",
          "height": 417
        },
        "outputId": "699977af-0113-4654-8423-6df18e6e1f72"
      },
      "source": [
        "top_unigram = get_top_n_words(train_data['excerpt_clean'], 20)\n",
        "words = [i[0] for i in top_unigram]\n",
        "count = [i[1] for i in top_unigram]\n",
        "source = ColumnDataSource(data = dict(Word = words, counts = count, color = ['#6baed6'] * 20))\n",
        "\n",
        "p = figure(x_range = words, plot_height = 400, plot_width = 800, title = \"Top Unigrams\", tools = \"hover\", tooltips = \"@Word: @counts\")\n",
        "p.vbar(x = 'Word', top = 'counts', width = 0.8, source = source, color = 'color')\n",
        "curdoc().theme = 'dark_minimal'\n",
        "p.xgrid.grid_line_color = None\n",
        "p.y_range.start = 0\n",
        "p.title.align = 'center'\n",
        "p.xaxis.major_label_orientation = \"vertical\"\n",
        "show(p)"
      ],
      "execution_count": 52,
      "outputs": [
        {
          "output_type": "display_data",
          "data": {
            "application/javascript": [
              "\n",
              "(function(root) {\n",
              "  function now() {\n",
              "    return new Date();\n",
              "  }\n",
              "\n",
              "  var force = true;\n",
              "\n",
              "  if (typeof root._bokeh_onload_callbacks === \"undefined\" || force === true) {\n",
              "    root._bokeh_onload_callbacks = [];\n",
              "    root._bokeh_is_loading = undefined;\n",
              "  }\n",
              "\n",
              "  var JS_MIME_TYPE = 'application/javascript';\n",
              "  var HTML_MIME_TYPE = 'text/html';\n",
              "  var EXEC_MIME_TYPE = 'application/vnd.bokehjs_exec.v0+json';\n",
              "  var CLASS_NAME = 'output_bokeh rendered_html';\n",
              "\n",
              "  /**\n",
              "   * Render data to the DOM node\n",
              "   */\n",
              "  function render(props, node) {\n",
              "    var script = document.createElement(\"script\");\n",
              "    node.appendChild(script);\n",
              "  }\n",
              "\n",
              "  /**\n",
              "   * Handle when an output is cleared or removed\n",
              "   */\n",
              "  function handleClearOutput(event, handle) {\n",
              "    var cell = handle.cell;\n",
              "\n",
              "    var id = cell.output_area._bokeh_element_id;\n",
              "    var server_id = cell.output_area._bokeh_server_id;\n",
              "    // Clean up Bokeh references\n",
              "    if (id != null && id in Bokeh.index) {\n",
              "      Bokeh.index[id].model.document.clear();\n",
              "      delete Bokeh.index[id];\n",
              "    }\n",
              "\n",
              "    if (server_id !== undefined) {\n",
              "      // Clean up Bokeh references\n",
              "      var cmd = \"from bokeh.io.state import curstate; print(curstate().uuid_to_server['\" + server_id + \"'].get_sessions()[0].document.roots[0]._id)\";\n",
              "      cell.notebook.kernel.execute(cmd, {\n",
              "        iopub: {\n",
              "          output: function(msg) {\n",
              "            var id = msg.content.text.trim();\n",
              "            if (id in Bokeh.index) {\n",
              "              Bokeh.index[id].model.document.clear();\n",
              "              delete Bokeh.index[id];\n",
              "            }\n",
              "          }\n",
              "        }\n",
              "      });\n",
              "      // Destroy server and session\n",
              "      var cmd = \"import bokeh.io.notebook as ion; ion.destroy_server('\" + server_id + \"')\";\n",
              "      cell.notebook.kernel.execute(cmd);\n",
              "    }\n",
              "  }\n",
              "\n",
              "  /**\n",
              "   * Handle when a new output is added\n",
              "   */\n",
              "  function handleAddOutput(event, handle) {\n",
              "    var output_area = handle.output_area;\n",
              "    var output = handle.output;\n",
              "\n",
              "    // limit handleAddOutput to display_data with EXEC_MIME_TYPE content only\n",
              "    if ((output.output_type != \"display_data\") || (!Object.prototype.hasOwnProperty.call(output.data, EXEC_MIME_TYPE))) {\n",
              "      return\n",
              "    }\n",
              "\n",
              "    var toinsert = output_area.element.find(\".\" + CLASS_NAME.split(' ')[0]);\n",
              "\n",
              "    if (output.metadata[EXEC_MIME_TYPE][\"id\"] !== undefined) {\n",
              "      toinsert[toinsert.length - 1].firstChild.textContent = output.data[JS_MIME_TYPE];\n",
              "      // store reference to embed id on output_area\n",
              "      output_area._bokeh_element_id = output.metadata[EXEC_MIME_TYPE][\"id\"];\n",
              "    }\n",
              "    if (output.metadata[EXEC_MIME_TYPE][\"server_id\"] !== undefined) {\n",
              "      var bk_div = document.createElement(\"div\");\n",
              "      bk_div.innerHTML = output.data[HTML_MIME_TYPE];\n",
              "      var script_attrs = bk_div.children[0].attributes;\n",
              "      for (var i = 0; i < script_attrs.length; i++) {\n",
              "        toinsert[toinsert.length - 1].firstChild.setAttribute(script_attrs[i].name, script_attrs[i].value);\n",
              "        toinsert[toinsert.length - 1].firstChild.textContent = bk_div.children[0].textContent\n",
              "      }\n",
              "      // store reference to server id on output_area\n",
              "      output_area._bokeh_server_id = output.metadata[EXEC_MIME_TYPE][\"server_id\"];\n",
              "    }\n",
              "  }\n",
              "\n",
              "  function register_renderer(events, OutputArea) {\n",
              "\n",
              "    function append_mime(data, metadata, element) {\n",
              "      // create a DOM node to render to\n",
              "      var toinsert = this.create_output_subarea(\n",
              "        metadata,\n",
              "        CLASS_NAME,\n",
              "        EXEC_MIME_TYPE\n",
              "      );\n",
              "      this.keyboard_manager.register_events(toinsert);\n",
              "      // Render to node\n",
              "      var props = {data: data, metadata: metadata[EXEC_MIME_TYPE]};\n",
              "      render(props, toinsert[toinsert.length - 1]);\n",
              "      element.append(toinsert);\n",
              "      return toinsert\n",
              "    }\n",
              "\n",
              "    /* Handle when an output is cleared or removed */\n",
              "    events.on('clear_output.CodeCell', handleClearOutput);\n",
              "    events.on('delete.Cell', handleClearOutput);\n",
              "\n",
              "    /* Handle when a new output is added */\n",
              "    events.on('output_added.OutputArea', handleAddOutput);\n",
              "\n",
              "    /**\n",
              "     * Register the mime type and append_mime function with output_area\n",
              "     */\n",
              "    OutputArea.prototype.register_mime_type(EXEC_MIME_TYPE, append_mime, {\n",
              "      /* Is output safe? */\n",
              "      safe: true,\n",
              "      /* Index of renderer in `output_area.display_order` */\n",
              "      index: 0\n",
              "    });\n",
              "  }\n",
              "\n",
              "  // register the mime type if in Jupyter Notebook environment and previously unregistered\n",
              "  if (root.Jupyter !== undefined) {\n",
              "    var events = require('base/js/events');\n",
              "    var OutputArea = require('notebook/js/outputarea').OutputArea;\n",
              "\n",
              "    if (OutputArea.prototype.mime_types().indexOf(EXEC_MIME_TYPE) == -1) {\n",
              "      register_renderer(events, OutputArea);\n",
              "    }\n",
              "  }\n",
              "\n",
              "  \n",
              "  if (typeof (root._bokeh_timeout) === \"undefined\" || force === true) {\n",
              "    root._bokeh_timeout = Date.now() + 5000;\n",
              "    root._bokeh_failed_load = false;\n",
              "  }\n",
              "\n",
              "  var NB_LOAD_WARNING = {'data': {'text/html':\n",
              "     \"<div style='background-color: #fdd'>\\n\"+\n",
              "     \"<p>\\n\"+\n",
              "     \"BokehJS does not appear to have successfully loaded. If loading BokehJS from CDN, this \\n\"+\n",
              "     \"may be due to a slow or bad network connection. Possible fixes:\\n\"+\n",
              "     \"</p>\\n\"+\n",
              "     \"<ul>\\n\"+\n",
              "     \"<li>re-rerun `output_notebook()` to attempt to load from CDN again, or</li>\\n\"+\n",
              "     \"<li>use INLINE resources instead, as so:</li>\\n\"+\n",
              "     \"</ul>\\n\"+\n",
              "     \"<code>\\n\"+\n",
              "     \"from bokeh.resources import INLINE\\n\"+\n",
              "     \"output_notebook(resources=INLINE)\\n\"+\n",
              "     \"</code>\\n\"+\n",
              "     \"</div>\"}};\n",
              "\n",
              "  function display_loaded() {\n",
              "    var el = document.getElementById(null);\n",
              "    if (el != null) {\n",
              "      el.textContent = \"BokehJS is loading...\";\n",
              "    }\n",
              "    if (root.Bokeh !== undefined) {\n",
              "      if (el != null) {\n",
              "        el.textContent = \"BokehJS \" + root.Bokeh.version + \" successfully loaded.\";\n",
              "      }\n",
              "    } else if (Date.now() < root._bokeh_timeout) {\n",
              "      setTimeout(display_loaded, 100)\n",
              "    }\n",
              "  }\n",
              "\n",
              "\n",
              "  function run_callbacks() {\n",
              "    try {\n",
              "      root._bokeh_onload_callbacks.forEach(function(callback) {\n",
              "        if (callback != null)\n",
              "          callback();\n",
              "      });\n",
              "    } finally {\n",
              "      delete root._bokeh_onload_callbacks\n",
              "    }\n",
              "    console.debug(\"Bokeh: all callbacks have finished\");\n",
              "  }\n",
              "\n",
              "  function load_libs(css_urls, js_urls, callback) {\n",
              "    if (css_urls == null) css_urls = [];\n",
              "    if (js_urls == null) js_urls = [];\n",
              "\n",
              "    root._bokeh_onload_callbacks.push(callback);\n",
              "    if (root._bokeh_is_loading > 0) {\n",
              "      console.debug(\"Bokeh: BokehJS is being loaded, scheduling callback at\", now());\n",
              "      return null;\n",
              "    }\n",
              "    if (js_urls == null || js_urls.length === 0) {\n",
              "      run_callbacks();\n",
              "      return null;\n",
              "    }\n",
              "    console.debug(\"Bokeh: BokehJS not loaded, scheduling load and callback at\", now());\n",
              "    root._bokeh_is_loading = css_urls.length + js_urls.length;\n",
              "\n",
              "    function on_load() {\n",
              "      root._bokeh_is_loading--;\n",
              "      if (root._bokeh_is_loading === 0) {\n",
              "        console.debug(\"Bokeh: all BokehJS libraries/stylesheets loaded\");\n",
              "        run_callbacks()\n",
              "      }\n",
              "    }\n",
              "\n",
              "    function on_error(url) {\n",
              "      console.error(\"failed to load \" + url);\n",
              "    }\n",
              "\n",
              "    for (let i = 0; i < css_urls.length; i++) {\n",
              "      const url = css_urls[i];\n",
              "      const element = document.createElement(\"link\");\n",
              "      element.onload = on_load;\n",
              "      element.onerror = on_error.bind(null, url);\n",
              "      element.rel = \"stylesheet\";\n",
              "      element.type = \"text/css\";\n",
              "      element.href = url;\n",
              "      console.debug(\"Bokeh: injecting link tag for BokehJS stylesheet: \", url);\n",
              "      document.body.appendChild(element);\n",
              "    }\n",
              "\n",
              "    const hashes = {\"https://cdn.bokeh.org/bokeh/release/bokeh-2.3.2.min.js\": \"XypntL49z55iwGVUW4qsEu83zKL3XEcz0MjuGOQ9SlaaQ68X/g+k1FcioZi7oQAc\", \"https://cdn.bokeh.org/bokeh/release/bokeh-tables-2.3.2.min.js\": \"bEsM86IHGDTLCS0Zod8a8WM6Y4+lafAL/eSiyQcuPzinmWNgNO2/olUF0Z2Dkn5i\", \"https://cdn.bokeh.org/bokeh/release/bokeh-widgets-2.3.2.min.js\": \"TX0gSQTdXTTeScqxj6PVQxTiRW8DOoGVwinyi1D3kxv7wuxQ02XkOxv0xwiypcAH\"};\n",
              "\n",
              "    for (let i = 0; i < js_urls.length; i++) {\n",
              "      const url = js_urls[i];\n",
              "      const element = document.createElement('script');\n",
              "      element.onload = on_load;\n",
              "      element.onerror = on_error.bind(null, url);\n",
              "      element.async = false;\n",
              "      element.src = url;\n",
              "      if (url in hashes) {\n",
              "        element.crossOrigin = \"anonymous\";\n",
              "        element.integrity = \"sha384-\" + hashes[url];\n",
              "      }\n",
              "      console.debug(\"Bokeh: injecting script tag for BokehJS library: \", url);\n",
              "      document.head.appendChild(element);\n",
              "    }\n",
              "  };\n",
              "\n",
              "  function inject_raw_css(css) {\n",
              "    const element = document.createElement(\"style\");\n",
              "    element.appendChild(document.createTextNode(css));\n",
              "    document.body.appendChild(element);\n",
              "  }\n",
              "\n",
              "  \n",
              "  var js_urls = [\"https://cdn.bokeh.org/bokeh/release/bokeh-2.3.2.min.js\", \"https://cdn.bokeh.org/bokeh/release/bokeh-widgets-2.3.2.min.js\", \"https://cdn.bokeh.org/bokeh/release/bokeh-tables-2.3.2.min.js\"];\n",
              "  var css_urls = [];\n",
              "  \n",
              "\n",
              "  var inline_js = [\n",
              "    function(Bokeh) {\n",
              "      Bokeh.set_log_level(\"info\");\n",
              "    },\n",
              "    function(Bokeh) {\n",
              "    \n",
              "    \n",
              "    }\n",
              "  ];\n",
              "\n",
              "  function run_inline_js() {\n",
              "    \n",
              "    if (root.Bokeh !== undefined || force === true) {\n",
              "      \n",
              "    for (var i = 0; i < inline_js.length; i++) {\n",
              "      inline_js[i].call(root, root.Bokeh);\n",
              "    }\n",
              "    } else if (Date.now() < root._bokeh_timeout) {\n",
              "      setTimeout(run_inline_js, 100);\n",
              "    } else if (!root._bokeh_failed_load) {\n",
              "      console.log(\"Bokeh: BokehJS failed to load within specified timeout.\");\n",
              "      root._bokeh_failed_load = true;\n",
              "    } else if (force !== true) {\n",
              "      var cell = $(document.getElementById(null)).parents('.cell').data().cell;\n",
              "      cell.output_area.append_execute_result(NB_LOAD_WARNING)\n",
              "    }\n",
              "\n",
              "  }\n",
              "\n",
              "  if (root._bokeh_is_loading === 0) {\n",
              "    console.debug(\"Bokeh: BokehJS loaded, going straight to plotting\");\n",
              "    run_inline_js();\n",
              "  } else {\n",
              "    load_libs(css_urls, js_urls, function() {\n",
              "      console.debug(\"Bokeh: BokehJS plotting callback run at\", now());\n",
              "      run_inline_js();\n",
              "    });\n",
              "  }\n",
              "}(window));"
            ],
            "application/vnd.bokehjs_load.v0+json": "\n(function(root) {\n  function now() {\n    return new Date();\n  }\n\n  var force = true;\n\n  if (typeof root._bokeh_onload_callbacks === \"undefined\" || force === true) {\n    root._bokeh_onload_callbacks = [];\n    root._bokeh_is_loading = undefined;\n  }\n\n  \n\n  \n  if (typeof (root._bokeh_timeout) === \"undefined\" || force === true) {\n    root._bokeh_timeout = Date.now() + 5000;\n    root._bokeh_failed_load = false;\n  }\n\n  var NB_LOAD_WARNING = {'data': {'text/html':\n     \"<div style='background-color: #fdd'>\\n\"+\n     \"<p>\\n\"+\n     \"BokehJS does not appear to have successfully loaded. If loading BokehJS from CDN, this \\n\"+\n     \"may be due to a slow or bad network connection. Possible fixes:\\n\"+\n     \"</p>\\n\"+\n     \"<ul>\\n\"+\n     \"<li>re-rerun `output_notebook()` to attempt to load from CDN again, or</li>\\n\"+\n     \"<li>use INLINE resources instead, as so:</li>\\n\"+\n     \"</ul>\\n\"+\n     \"<code>\\n\"+\n     \"from bokeh.resources import INLINE\\n\"+\n     \"output_notebook(resources=INLINE)\\n\"+\n     \"</code>\\n\"+\n     \"</div>\"}};\n\n  function display_loaded() {\n    var el = document.getElementById(null);\n    if (el != null) {\n      el.textContent = \"BokehJS is loading...\";\n    }\n    if (root.Bokeh !== undefined) {\n      if (el != null) {\n        el.textContent = \"BokehJS \" + root.Bokeh.version + \" successfully loaded.\";\n      }\n    } else if (Date.now() < root._bokeh_timeout) {\n      setTimeout(display_loaded, 100)\n    }\n  }\n\n\n  function run_callbacks() {\n    try {\n      root._bokeh_onload_callbacks.forEach(function(callback) {\n        if (callback != null)\n          callback();\n      });\n    } finally {\n      delete root._bokeh_onload_callbacks\n    }\n    console.debug(\"Bokeh: all callbacks have finished\");\n  }\n\n  function load_libs(css_urls, js_urls, callback) {\n    if (css_urls == null) css_urls = [];\n    if (js_urls == null) js_urls = [];\n\n    root._bokeh_onload_callbacks.push(callback);\n    if (root._bokeh_is_loading > 0) {\n      console.debug(\"Bokeh: BokehJS is being loaded, scheduling callback at\", now());\n      return null;\n    }\n    if (js_urls == null || js_urls.length === 0) {\n      run_callbacks();\n      return null;\n    }\n    console.debug(\"Bokeh: BokehJS not loaded, scheduling load and callback at\", now());\n    root._bokeh_is_loading = css_urls.length + js_urls.length;\n\n    function on_load() {\n      root._bokeh_is_loading--;\n      if (root._bokeh_is_loading === 0) {\n        console.debug(\"Bokeh: all BokehJS libraries/stylesheets loaded\");\n        run_callbacks()\n      }\n    }\n\n    function on_error(url) {\n      console.error(\"failed to load \" + url);\n    }\n\n    for (let i = 0; i < css_urls.length; i++) {\n      const url = css_urls[i];\n      const element = document.createElement(\"link\");\n      element.onload = on_load;\n      element.onerror = on_error.bind(null, url);\n      element.rel = \"stylesheet\";\n      element.type = \"text/css\";\n      element.href = url;\n      console.debug(\"Bokeh: injecting link tag for BokehJS stylesheet: \", url);\n      document.body.appendChild(element);\n    }\n\n    const hashes = {\"https://cdn.bokeh.org/bokeh/release/bokeh-2.3.2.min.js\": \"XypntL49z55iwGVUW4qsEu83zKL3XEcz0MjuGOQ9SlaaQ68X/g+k1FcioZi7oQAc\", \"https://cdn.bokeh.org/bokeh/release/bokeh-tables-2.3.2.min.js\": \"bEsM86IHGDTLCS0Zod8a8WM6Y4+lafAL/eSiyQcuPzinmWNgNO2/olUF0Z2Dkn5i\", \"https://cdn.bokeh.org/bokeh/release/bokeh-widgets-2.3.2.min.js\": \"TX0gSQTdXTTeScqxj6PVQxTiRW8DOoGVwinyi1D3kxv7wuxQ02XkOxv0xwiypcAH\"};\n\n    for (let i = 0; i < js_urls.length; i++) {\n      const url = js_urls[i];\n      const element = document.createElement('script');\n      element.onload = on_load;\n      element.onerror = on_error.bind(null, url);\n      element.async = false;\n      element.src = url;\n      if (url in hashes) {\n        element.crossOrigin = \"anonymous\";\n        element.integrity = \"sha384-\" + hashes[url];\n      }\n      console.debug(\"Bokeh: injecting script tag for BokehJS library: \", url);\n      document.head.appendChild(element);\n    }\n  };\n\n  function inject_raw_css(css) {\n    const element = document.createElement(\"style\");\n    element.appendChild(document.createTextNode(css));\n    document.body.appendChild(element);\n  }\n\n  \n  var js_urls = [\"https://cdn.bokeh.org/bokeh/release/bokeh-2.3.2.min.js\", \"https://cdn.bokeh.org/bokeh/release/bokeh-widgets-2.3.2.min.js\", \"https://cdn.bokeh.org/bokeh/release/bokeh-tables-2.3.2.min.js\"];\n  var css_urls = [];\n  \n\n  var inline_js = [\n    function(Bokeh) {\n      Bokeh.set_log_level(\"info\");\n    },\n    function(Bokeh) {\n    \n    \n    }\n  ];\n\n  function run_inline_js() {\n    \n    if (root.Bokeh !== undefined || force === true) {\n      \n    for (var i = 0; i < inline_js.length; i++) {\n      inline_js[i].call(root, root.Bokeh);\n    }\n    } else if (Date.now() < root._bokeh_timeout) {\n      setTimeout(run_inline_js, 100);\n    } else if (!root._bokeh_failed_load) {\n      console.log(\"Bokeh: BokehJS failed to load within specified timeout.\");\n      root._bokeh_failed_load = true;\n    } else if (force !== true) {\n      var cell = $(document.getElementById(null)).parents('.cell').data().cell;\n      cell.output_area.append_execute_result(NB_LOAD_WARNING)\n    }\n\n  }\n\n  if (root._bokeh_is_loading === 0) {\n    console.debug(\"Bokeh: BokehJS loaded, going straight to plotting\");\n    run_inline_js();\n  } else {\n    load_libs(css_urls, js_urls, function() {\n      console.debug(\"Bokeh: BokehJS plotting callback run at\", now());\n      run_inline_js();\n    });\n  }\n}(window));"
          },
          "metadata": {
            "tags": []
          }
        },
        {
          "output_type": "display_data",
          "data": {
            "text/html": [
              "\n",
              "\n",
              "\n",
              "\n",
              "\n",
              "\n",
              "  <div class=\"bk-root\" id=\"a6e34313-a920-45ef-897b-0443462aee77\" data-root-id=\"1084\"></div>\n"
            ]
          },
          "metadata": {
            "tags": []
          }
        },
        {
          "output_type": "display_data",
          "data": {
            "application/javascript": [
              "(function(root) {\n",
              "  function embed_document(root) {\n",
              "    \n",
              "  var docs_json = {\"43d61c25-f4a3-4ac7-b20c-44244a0a3d0f\":{\"defs\":[],\"roots\":{\"references\":[{\"attributes\":{\"background_fill_color\":\"#20262B\",\"below\":[{\"id\":\"1095\"}],\"border_fill_color\":\"#15191C\",\"center\":[{\"id\":\"1097\"},{\"id\":\"1101\"}],\"height\":400,\"left\":[{\"id\":\"1098\"}],\"outline_line_alpha\":0.25,\"outline_line_color\":\"#E0E0E0\",\"renderers\":[{\"id\":\"1108\"}],\"title\":{\"id\":\"1085\"},\"toolbar\":{\"id\":\"1103\"},\"width\":800,\"x_range\":{\"id\":\"1087\"},\"x_scale\":{\"id\":\"1091\"},\"y_range\":{\"id\":\"1089\"},\"y_scale\":{\"id\":\"1093\"}},\"id\":\"1084\",\"subtype\":\"Figure\",\"type\":\"Plot\"},{\"attributes\":{\"active_multi\":null,\"tools\":[{\"id\":\"1102\"}]},\"id\":\"1103\",\"type\":\"Toolbar\"},{\"attributes\":{\"callback\":null,\"tooltips\":\"@Word: @counts\"},\"id\":\"1102\",\"type\":\"HoverTool\"},{\"attributes\":{\"start\":0},\"id\":\"1089\",\"type\":\"DataRange1d\"},{\"attributes\":{},\"id\":\"1091\",\"type\":\"CategoricalScale\"},{\"attributes\":{},\"id\":\"1099\",\"type\":\"BasicTicker\"},{\"attributes\":{},\"id\":\"1096\",\"type\":\"CategoricalTicker\"},{\"attributes\":{\"axis_label_standoff\":10,\"axis_label_text_color\":\"#E0E0E0\",\"axis_label_text_font\":\"Helvetica\",\"axis_label_text_font_size\":\"1.25em\",\"axis_label_text_font_style\":\"normal\",\"axis_line_alpha\":0,\"axis_line_color\":\"#E0E0E0\",\"formatter\":{\"id\":\"1122\"},\"major_label_policy\":{\"id\":\"1121\"},\"major_label_text_color\":\"#E0E0E0\",\"major_label_text_font\":\"Helvetica\",\"major_label_text_font_size\":\"1.025em\",\"major_tick_line_alpha\":0,\"major_tick_line_color\":\"#E0E0E0\",\"minor_tick_line_alpha\":0,\"minor_tick_line_color\":\"#E0E0E0\",\"ticker\":{\"id\":\"1099\"}},\"id\":\"1098\",\"type\":\"LinearAxis\"},{\"attributes\":{},\"id\":\"1121\",\"type\":\"AllLabels\"},{\"attributes\":{},\"id\":\"1125\",\"type\":\"CategoricalTickFormatter\"},{\"attributes\":{\"data_source\":{\"id\":\"1083\"},\"glyph\":{\"id\":\"1106\"},\"hover_glyph\":null,\"muted_glyph\":null,\"nonselection_glyph\":{\"id\":\"1107\"},\"view\":{\"id\":\"1109\"}},\"id\":\"1108\",\"type\":\"GlyphRenderer\"},{\"attributes\":{\"axis\":{\"id\":\"1098\"},\"dimension\":1,\"grid_line_alpha\":0.25,\"grid_line_color\":\"#E0E0E0\",\"ticker\":null},\"id\":\"1101\",\"type\":\"Grid\"},{\"attributes\":{\"fill_color\":{\"field\":\"color\"},\"line_color\":{\"field\":\"color\"},\"top\":{\"field\":\"counts\"},\"width\":{\"value\":0.8},\"x\":{\"field\":\"Word\"}},\"id\":\"1106\",\"type\":\"VBar\"},{\"attributes\":{\"data\":{\"Word\":[\"little\",\"said\",\"time\",\"like\",\"people\",\"great\",\"water\",\"day\",\"called\",\"old\",\"came\",\"way\",\"went\",\"long\",\"man\",\"good\",\"new\",\"come\",\"found\",\"away\"],\"color\":[\"#6baed6\",\"#6baed6\",\"#6baed6\",\"#6baed6\",\"#6baed6\",\"#6baed6\",\"#6baed6\",\"#6baed6\",\"#6baed6\",\"#6baed6\",\"#6baed6\",\"#6baed6\",\"#6baed6\",\"#6baed6\",\"#6baed6\",\"#6baed6\",\"#6baed6\",\"#6baed6\",\"#6baed6\",\"#6baed6\"],\"counts\":[1137,1112,919,837,750,702,672,662,647,625,609,589,578,576,548,542,459,450,439,439]},\"selected\":{\"id\":\"1127\"},\"selection_policy\":{\"id\":\"1126\"}},\"id\":\"1083\",\"type\":\"ColumnDataSource\"},{\"attributes\":{\"fill_alpha\":{\"value\":0.1},\"fill_color\":{\"field\":\"color\"},\"line_alpha\":{\"value\":0.1},\"line_color\":{\"field\":\"color\"},\"top\":{\"field\":\"counts\"},\"width\":{\"value\":0.8},\"x\":{\"field\":\"Word\"}},\"id\":\"1107\",\"type\":\"VBar\"},{\"attributes\":{\"factors\":[\"little\",\"said\",\"time\",\"like\",\"people\",\"great\",\"water\",\"day\",\"called\",\"old\",\"came\",\"way\",\"went\",\"long\",\"man\",\"good\",\"new\",\"come\",\"found\",\"away\"]},\"id\":\"1087\",\"type\":\"FactorRange\"},{\"attributes\":{},\"id\":\"1093\",\"type\":\"LinearScale\"},{\"attributes\":{\"axis_label_standoff\":10,\"axis_label_text_color\":\"#E0E0E0\",\"axis_label_text_font\":\"Helvetica\",\"axis_label_text_font_size\":\"1.25em\",\"axis_label_text_font_style\":\"normal\",\"axis_line_alpha\":0,\"axis_line_color\":\"#E0E0E0\",\"formatter\":{\"id\":\"1125\"},\"major_label_orientation\":\"vertical\",\"major_label_policy\":{\"id\":\"1124\"},\"major_label_text_color\":\"#E0E0E0\",\"major_label_text_font\":\"Helvetica\",\"major_label_text_font_size\":\"1.025em\",\"major_tick_line_alpha\":0,\"major_tick_line_color\":\"#E0E0E0\",\"minor_tick_line_alpha\":0,\"minor_tick_line_color\":\"#E0E0E0\",\"ticker\":{\"id\":\"1096\"}},\"id\":\"1095\",\"type\":\"CategoricalAxis\"},{\"attributes\":{\"axis\":{\"id\":\"1095\"},\"grid_line_alpha\":0.25,\"grid_line_color\":null,\"ticker\":null},\"id\":\"1097\",\"type\":\"Grid\"},{\"attributes\":{},\"id\":\"1127\",\"type\":\"Selection\"},{\"attributes\":{},\"id\":\"1126\",\"type\":\"UnionRenderers\"},{\"attributes\":{},\"id\":\"1124\",\"type\":\"AllLabels\"},{\"attributes\":{\"source\":{\"id\":\"1083\"}},\"id\":\"1109\",\"type\":\"CDSView\"},{\"attributes\":{\"align\":\"center\",\"text\":\"Top Unigrams\",\"text_color\":\"#E0E0E0\",\"text_font\":\"Helvetica\",\"text_font_size\":\"1.15em\"},\"id\":\"1085\",\"type\":\"Title\"},{\"attributes\":{},\"id\":\"1122\",\"type\":\"BasicTickFormatter\"}],\"root_ids\":[\"1084\"]},\"title\":\"Bokeh Application\",\"version\":\"2.3.2\"}};\n",
              "  var render_items = [{\"docid\":\"43d61c25-f4a3-4ac7-b20c-44244a0a3d0f\",\"root_ids\":[\"1084\"],\"roots\":{\"1084\":\"a6e34313-a920-45ef-897b-0443462aee77\"}}];\n",
              "  root.Bokeh.embed.embed_items_notebook(docs_json, render_items);\n",
              "\n",
              "  }\n",
              "  if (root.Bokeh !== undefined) {\n",
              "    embed_document(root);\n",
              "  } else {\n",
              "    var attempts = 0;\n",
              "    var timer = setInterval(function(root) {\n",
              "      if (root.Bokeh !== undefined) {\n",
              "        clearInterval(timer);\n",
              "        embed_document(root);\n",
              "      } else {\n",
              "        attempts++;\n",
              "        if (attempts > 100) {\n",
              "          clearInterval(timer);\n",
              "          console.log(\"Bokeh: ERROR: Unable to run BokehJS code because BokehJS library is missing\");\n",
              "        }\n",
              "      }\n",
              "    }, 10, root)\n",
              "  }\n",
              "})(window);"
            ],
            "application/vnd.bokehjs_exec.v0+json": ""
          },
          "metadata": {
            "tags": [],
            "application/vnd.bokehjs_exec.v0+json": {
              "id": "1084"
            }
          }
        }
      ]
    },
    {
      "cell_type": "code",
      "metadata": {
        "id": "YYrWnTY0uaYg",
        "colab": {
          "base_uri": "https://localhost:8080/",
          "height": 417
        },
        "outputId": "d56a1c60-8195-48b8-c763-9cc687832010"
      },
      "source": [
        "top_bigram = get_top_n_bigram(train_data['excerpt_clean'], 20)\n",
        "words = [i[0] for i in top_bigram]\n",
        "count = [i[1] for i in top_bigram]\n",
        "source = ColumnDataSource(data = dict(Word = words, counts = count, color = ['#a1dab4'] * 20))\n",
        "\n",
        "p1 = figure(x_range = words, plot_height = 400, plot_width = 800, title = \"Top Bigrams\", tools = \"hover\", tooltips = \"@Word: @counts\")\n",
        "p1.vbar(x = 'Word', top = 'counts', width = 0.8, source = source, color = 'color')\n",
        "# curdoc().theme = 'dark_minimal'\n",
        "p1.xgrid.grid_line_color = None\n",
        "p1.title.align = 'center'\n",
        "p1.y_range.start = 0\n",
        "p1.xaxis.major_label_orientation = \"vertical\"\n",
        "show(p1)"
      ],
      "execution_count": 53,
      "outputs": [
        {
          "output_type": "display_data",
          "data": {
            "application/javascript": [
              "\n",
              "(function(root) {\n",
              "  function now() {\n",
              "    return new Date();\n",
              "  }\n",
              "\n",
              "  var force = true;\n",
              "\n",
              "  if (typeof root._bokeh_onload_callbacks === \"undefined\" || force === true) {\n",
              "    root._bokeh_onload_callbacks = [];\n",
              "    root._bokeh_is_loading = undefined;\n",
              "  }\n",
              "\n",
              "  var JS_MIME_TYPE = 'application/javascript';\n",
              "  var HTML_MIME_TYPE = 'text/html';\n",
              "  var EXEC_MIME_TYPE = 'application/vnd.bokehjs_exec.v0+json';\n",
              "  var CLASS_NAME = 'output_bokeh rendered_html';\n",
              "\n",
              "  /**\n",
              "   * Render data to the DOM node\n",
              "   */\n",
              "  function render(props, node) {\n",
              "    var script = document.createElement(\"script\");\n",
              "    node.appendChild(script);\n",
              "  }\n",
              "\n",
              "  /**\n",
              "   * Handle when an output is cleared or removed\n",
              "   */\n",
              "  function handleClearOutput(event, handle) {\n",
              "    var cell = handle.cell;\n",
              "\n",
              "    var id = cell.output_area._bokeh_element_id;\n",
              "    var server_id = cell.output_area._bokeh_server_id;\n",
              "    // Clean up Bokeh references\n",
              "    if (id != null && id in Bokeh.index) {\n",
              "      Bokeh.index[id].model.document.clear();\n",
              "      delete Bokeh.index[id];\n",
              "    }\n",
              "\n",
              "    if (server_id !== undefined) {\n",
              "      // Clean up Bokeh references\n",
              "      var cmd = \"from bokeh.io.state import curstate; print(curstate().uuid_to_server['\" + server_id + \"'].get_sessions()[0].document.roots[0]._id)\";\n",
              "      cell.notebook.kernel.execute(cmd, {\n",
              "        iopub: {\n",
              "          output: function(msg) {\n",
              "            var id = msg.content.text.trim();\n",
              "            if (id in Bokeh.index) {\n",
              "              Bokeh.index[id].model.document.clear();\n",
              "              delete Bokeh.index[id];\n",
              "            }\n",
              "          }\n",
              "        }\n",
              "      });\n",
              "      // Destroy server and session\n",
              "      var cmd = \"import bokeh.io.notebook as ion; ion.destroy_server('\" + server_id + \"')\";\n",
              "      cell.notebook.kernel.execute(cmd);\n",
              "    }\n",
              "  }\n",
              "\n",
              "  /**\n",
              "   * Handle when a new output is added\n",
              "   */\n",
              "  function handleAddOutput(event, handle) {\n",
              "    var output_area = handle.output_area;\n",
              "    var output = handle.output;\n",
              "\n",
              "    // limit handleAddOutput to display_data with EXEC_MIME_TYPE content only\n",
              "    if ((output.output_type != \"display_data\") || (!Object.prototype.hasOwnProperty.call(output.data, EXEC_MIME_TYPE))) {\n",
              "      return\n",
              "    }\n",
              "\n",
              "    var toinsert = output_area.element.find(\".\" + CLASS_NAME.split(' ')[0]);\n",
              "\n",
              "    if (output.metadata[EXEC_MIME_TYPE][\"id\"] !== undefined) {\n",
              "      toinsert[toinsert.length - 1].firstChild.textContent = output.data[JS_MIME_TYPE];\n",
              "      // store reference to embed id on output_area\n",
              "      output_area._bokeh_element_id = output.metadata[EXEC_MIME_TYPE][\"id\"];\n",
              "    }\n",
              "    if (output.metadata[EXEC_MIME_TYPE][\"server_id\"] !== undefined) {\n",
              "      var bk_div = document.createElement(\"div\");\n",
              "      bk_div.innerHTML = output.data[HTML_MIME_TYPE];\n",
              "      var script_attrs = bk_div.children[0].attributes;\n",
              "      for (var i = 0; i < script_attrs.length; i++) {\n",
              "        toinsert[toinsert.length - 1].firstChild.setAttribute(script_attrs[i].name, script_attrs[i].value);\n",
              "        toinsert[toinsert.length - 1].firstChild.textContent = bk_div.children[0].textContent\n",
              "      }\n",
              "      // store reference to server id on output_area\n",
              "      output_area._bokeh_server_id = output.metadata[EXEC_MIME_TYPE][\"server_id\"];\n",
              "    }\n",
              "  }\n",
              "\n",
              "  function register_renderer(events, OutputArea) {\n",
              "\n",
              "    function append_mime(data, metadata, element) {\n",
              "      // create a DOM node to render to\n",
              "      var toinsert = this.create_output_subarea(\n",
              "        metadata,\n",
              "        CLASS_NAME,\n",
              "        EXEC_MIME_TYPE\n",
              "      );\n",
              "      this.keyboard_manager.register_events(toinsert);\n",
              "      // Render to node\n",
              "      var props = {data: data, metadata: metadata[EXEC_MIME_TYPE]};\n",
              "      render(props, toinsert[toinsert.length - 1]);\n",
              "      element.append(toinsert);\n",
              "      return toinsert\n",
              "    }\n",
              "\n",
              "    /* Handle when an output is cleared or removed */\n",
              "    events.on('clear_output.CodeCell', handleClearOutput);\n",
              "    events.on('delete.Cell', handleClearOutput);\n",
              "\n",
              "    /* Handle when a new output is added */\n",
              "    events.on('output_added.OutputArea', handleAddOutput);\n",
              "\n",
              "    /**\n",
              "     * Register the mime type and append_mime function with output_area\n",
              "     */\n",
              "    OutputArea.prototype.register_mime_type(EXEC_MIME_TYPE, append_mime, {\n",
              "      /* Is output safe? */\n",
              "      safe: true,\n",
              "      /* Index of renderer in `output_area.display_order` */\n",
              "      index: 0\n",
              "    });\n",
              "  }\n",
              "\n",
              "  // register the mime type if in Jupyter Notebook environment and previously unregistered\n",
              "  if (root.Jupyter !== undefined) {\n",
              "    var events = require('base/js/events');\n",
              "    var OutputArea = require('notebook/js/outputarea').OutputArea;\n",
              "\n",
              "    if (OutputArea.prototype.mime_types().indexOf(EXEC_MIME_TYPE) == -1) {\n",
              "      register_renderer(events, OutputArea);\n",
              "    }\n",
              "  }\n",
              "\n",
              "  \n",
              "  if (typeof (root._bokeh_timeout) === \"undefined\" || force === true) {\n",
              "    root._bokeh_timeout = Date.now() + 5000;\n",
              "    root._bokeh_failed_load = false;\n",
              "  }\n",
              "\n",
              "  var NB_LOAD_WARNING = {'data': {'text/html':\n",
              "     \"<div style='background-color: #fdd'>\\n\"+\n",
              "     \"<p>\\n\"+\n",
              "     \"BokehJS does not appear to have successfully loaded. If loading BokehJS from CDN, this \\n\"+\n",
              "     \"may be due to a slow or bad network connection. Possible fixes:\\n\"+\n",
              "     \"</p>\\n\"+\n",
              "     \"<ul>\\n\"+\n",
              "     \"<li>re-rerun `output_notebook()` to attempt to load from CDN again, or</li>\\n\"+\n",
              "     \"<li>use INLINE resources instead, as so:</li>\\n\"+\n",
              "     \"</ul>\\n\"+\n",
              "     \"<code>\\n\"+\n",
              "     \"from bokeh.resources import INLINE\\n\"+\n",
              "     \"output_notebook(resources=INLINE)\\n\"+\n",
              "     \"</code>\\n\"+\n",
              "     \"</div>\"}};\n",
              "\n",
              "  function display_loaded() {\n",
              "    var el = document.getElementById(null);\n",
              "    if (el != null) {\n",
              "      el.textContent = \"BokehJS is loading...\";\n",
              "    }\n",
              "    if (root.Bokeh !== undefined) {\n",
              "      if (el != null) {\n",
              "        el.textContent = \"BokehJS \" + root.Bokeh.version + \" successfully loaded.\";\n",
              "      }\n",
              "    } else if (Date.now() < root._bokeh_timeout) {\n",
              "      setTimeout(display_loaded, 100)\n",
              "    }\n",
              "  }\n",
              "\n",
              "\n",
              "  function run_callbacks() {\n",
              "    try {\n",
              "      root._bokeh_onload_callbacks.forEach(function(callback) {\n",
              "        if (callback != null)\n",
              "          callback();\n",
              "      });\n",
              "    } finally {\n",
              "      delete root._bokeh_onload_callbacks\n",
              "    }\n",
              "    console.debug(\"Bokeh: all callbacks have finished\");\n",
              "  }\n",
              "\n",
              "  function load_libs(css_urls, js_urls, callback) {\n",
              "    if (css_urls == null) css_urls = [];\n",
              "    if (js_urls == null) js_urls = [];\n",
              "\n",
              "    root._bokeh_onload_callbacks.push(callback);\n",
              "    if (root._bokeh_is_loading > 0) {\n",
              "      console.debug(\"Bokeh: BokehJS is being loaded, scheduling callback at\", now());\n",
              "      return null;\n",
              "    }\n",
              "    if (js_urls == null || js_urls.length === 0) {\n",
              "      run_callbacks();\n",
              "      return null;\n",
              "    }\n",
              "    console.debug(\"Bokeh: BokehJS not loaded, scheduling load and callback at\", now());\n",
              "    root._bokeh_is_loading = css_urls.length + js_urls.length;\n",
              "\n",
              "    function on_load() {\n",
              "      root._bokeh_is_loading--;\n",
              "      if (root._bokeh_is_loading === 0) {\n",
              "        console.debug(\"Bokeh: all BokehJS libraries/stylesheets loaded\");\n",
              "        run_callbacks()\n",
              "      }\n",
              "    }\n",
              "\n",
              "    function on_error(url) {\n",
              "      console.error(\"failed to load \" + url);\n",
              "    }\n",
              "\n",
              "    for (let i = 0; i < css_urls.length; i++) {\n",
              "      const url = css_urls[i];\n",
              "      const element = document.createElement(\"link\");\n",
              "      element.onload = on_load;\n",
              "      element.onerror = on_error.bind(null, url);\n",
              "      element.rel = \"stylesheet\";\n",
              "      element.type = \"text/css\";\n",
              "      element.href = url;\n",
              "      console.debug(\"Bokeh: injecting link tag for BokehJS stylesheet: \", url);\n",
              "      document.body.appendChild(element);\n",
              "    }\n",
              "\n",
              "    const hashes = {\"https://cdn.bokeh.org/bokeh/release/bokeh-2.3.2.min.js\": \"XypntL49z55iwGVUW4qsEu83zKL3XEcz0MjuGOQ9SlaaQ68X/g+k1FcioZi7oQAc\", \"https://cdn.bokeh.org/bokeh/release/bokeh-tables-2.3.2.min.js\": \"bEsM86IHGDTLCS0Zod8a8WM6Y4+lafAL/eSiyQcuPzinmWNgNO2/olUF0Z2Dkn5i\", \"https://cdn.bokeh.org/bokeh/release/bokeh-widgets-2.3.2.min.js\": \"TX0gSQTdXTTeScqxj6PVQxTiRW8DOoGVwinyi1D3kxv7wuxQ02XkOxv0xwiypcAH\"};\n",
              "\n",
              "    for (let i = 0; i < js_urls.length; i++) {\n",
              "      const url = js_urls[i];\n",
              "      const element = document.createElement('script');\n",
              "      element.onload = on_load;\n",
              "      element.onerror = on_error.bind(null, url);\n",
              "      element.async = false;\n",
              "      element.src = url;\n",
              "      if (url in hashes) {\n",
              "        element.crossOrigin = \"anonymous\";\n",
              "        element.integrity = \"sha384-\" + hashes[url];\n",
              "      }\n",
              "      console.debug(\"Bokeh: injecting script tag for BokehJS library: \", url);\n",
              "      document.head.appendChild(element);\n",
              "    }\n",
              "  };\n",
              "\n",
              "  function inject_raw_css(css) {\n",
              "    const element = document.createElement(\"style\");\n",
              "    element.appendChild(document.createTextNode(css));\n",
              "    document.body.appendChild(element);\n",
              "  }\n",
              "\n",
              "  \n",
              "  var js_urls = [\"https://cdn.bokeh.org/bokeh/release/bokeh-2.3.2.min.js\", \"https://cdn.bokeh.org/bokeh/release/bokeh-widgets-2.3.2.min.js\", \"https://cdn.bokeh.org/bokeh/release/bokeh-tables-2.3.2.min.js\"];\n",
              "  var css_urls = [];\n",
              "  \n",
              "\n",
              "  var inline_js = [\n",
              "    function(Bokeh) {\n",
              "      Bokeh.set_log_level(\"info\");\n",
              "    },\n",
              "    function(Bokeh) {\n",
              "    \n",
              "    \n",
              "    }\n",
              "  ];\n",
              "\n",
              "  function run_inline_js() {\n",
              "    \n",
              "    if (root.Bokeh !== undefined || force === true) {\n",
              "      \n",
              "    for (var i = 0; i < inline_js.length; i++) {\n",
              "      inline_js[i].call(root, root.Bokeh);\n",
              "    }\n",
              "    } else if (Date.now() < root._bokeh_timeout) {\n",
              "      setTimeout(run_inline_js, 100);\n",
              "    } else if (!root._bokeh_failed_load) {\n",
              "      console.log(\"Bokeh: BokehJS failed to load within specified timeout.\");\n",
              "      root._bokeh_failed_load = true;\n",
              "    } else if (force !== true) {\n",
              "      var cell = $(document.getElementById(null)).parents('.cell').data().cell;\n",
              "      cell.output_area.append_execute_result(NB_LOAD_WARNING)\n",
              "    }\n",
              "\n",
              "  }\n",
              "\n",
              "  if (root._bokeh_is_loading === 0) {\n",
              "    console.debug(\"Bokeh: BokehJS loaded, going straight to plotting\");\n",
              "    run_inline_js();\n",
              "  } else {\n",
              "    load_libs(css_urls, js_urls, function() {\n",
              "      console.debug(\"Bokeh: BokehJS plotting callback run at\", now());\n",
              "      run_inline_js();\n",
              "    });\n",
              "  }\n",
              "}(window));"
            ],
            "application/vnd.bokehjs_load.v0+json": "\n(function(root) {\n  function now() {\n    return new Date();\n  }\n\n  var force = true;\n\n  if (typeof root._bokeh_onload_callbacks === \"undefined\" || force === true) {\n    root._bokeh_onload_callbacks = [];\n    root._bokeh_is_loading = undefined;\n  }\n\n  \n\n  \n  if (typeof (root._bokeh_timeout) === \"undefined\" || force === true) {\n    root._bokeh_timeout = Date.now() + 5000;\n    root._bokeh_failed_load = false;\n  }\n\n  var NB_LOAD_WARNING = {'data': {'text/html':\n     \"<div style='background-color: #fdd'>\\n\"+\n     \"<p>\\n\"+\n     \"BokehJS does not appear to have successfully loaded. If loading BokehJS from CDN, this \\n\"+\n     \"may be due to a slow or bad network connection. Possible fixes:\\n\"+\n     \"</p>\\n\"+\n     \"<ul>\\n\"+\n     \"<li>re-rerun `output_notebook()` to attempt to load from CDN again, or</li>\\n\"+\n     \"<li>use INLINE resources instead, as so:</li>\\n\"+\n     \"</ul>\\n\"+\n     \"<code>\\n\"+\n     \"from bokeh.resources import INLINE\\n\"+\n     \"output_notebook(resources=INLINE)\\n\"+\n     \"</code>\\n\"+\n     \"</div>\"}};\n\n  function display_loaded() {\n    var el = document.getElementById(null);\n    if (el != null) {\n      el.textContent = \"BokehJS is loading...\";\n    }\n    if (root.Bokeh !== undefined) {\n      if (el != null) {\n        el.textContent = \"BokehJS \" + root.Bokeh.version + \" successfully loaded.\";\n      }\n    } else if (Date.now() < root._bokeh_timeout) {\n      setTimeout(display_loaded, 100)\n    }\n  }\n\n\n  function run_callbacks() {\n    try {\n      root._bokeh_onload_callbacks.forEach(function(callback) {\n        if (callback != null)\n          callback();\n      });\n    } finally {\n      delete root._bokeh_onload_callbacks\n    }\n    console.debug(\"Bokeh: all callbacks have finished\");\n  }\n\n  function load_libs(css_urls, js_urls, callback) {\n    if (css_urls == null) css_urls = [];\n    if (js_urls == null) js_urls = [];\n\n    root._bokeh_onload_callbacks.push(callback);\n    if (root._bokeh_is_loading > 0) {\n      console.debug(\"Bokeh: BokehJS is being loaded, scheduling callback at\", now());\n      return null;\n    }\n    if (js_urls == null || js_urls.length === 0) {\n      run_callbacks();\n      return null;\n    }\n    console.debug(\"Bokeh: BokehJS not loaded, scheduling load and callback at\", now());\n    root._bokeh_is_loading = css_urls.length + js_urls.length;\n\n    function on_load() {\n      root._bokeh_is_loading--;\n      if (root._bokeh_is_loading === 0) {\n        console.debug(\"Bokeh: all BokehJS libraries/stylesheets loaded\");\n        run_callbacks()\n      }\n    }\n\n    function on_error(url) {\n      console.error(\"failed to load \" + url);\n    }\n\n    for (let i = 0; i < css_urls.length; i++) {\n      const url = css_urls[i];\n      const element = document.createElement(\"link\");\n      element.onload = on_load;\n      element.onerror = on_error.bind(null, url);\n      element.rel = \"stylesheet\";\n      element.type = \"text/css\";\n      element.href = url;\n      console.debug(\"Bokeh: injecting link tag for BokehJS stylesheet: \", url);\n      document.body.appendChild(element);\n    }\n\n    const hashes = {\"https://cdn.bokeh.org/bokeh/release/bokeh-2.3.2.min.js\": \"XypntL49z55iwGVUW4qsEu83zKL3XEcz0MjuGOQ9SlaaQ68X/g+k1FcioZi7oQAc\", \"https://cdn.bokeh.org/bokeh/release/bokeh-tables-2.3.2.min.js\": \"bEsM86IHGDTLCS0Zod8a8WM6Y4+lafAL/eSiyQcuPzinmWNgNO2/olUF0Z2Dkn5i\", \"https://cdn.bokeh.org/bokeh/release/bokeh-widgets-2.3.2.min.js\": \"TX0gSQTdXTTeScqxj6PVQxTiRW8DOoGVwinyi1D3kxv7wuxQ02XkOxv0xwiypcAH\"};\n\n    for (let i = 0; i < js_urls.length; i++) {\n      const url = js_urls[i];\n      const element = document.createElement('script');\n      element.onload = on_load;\n      element.onerror = on_error.bind(null, url);\n      element.async = false;\n      element.src = url;\n      if (url in hashes) {\n        element.crossOrigin = \"anonymous\";\n        element.integrity = \"sha384-\" + hashes[url];\n      }\n      console.debug(\"Bokeh: injecting script tag for BokehJS library: \", url);\n      document.head.appendChild(element);\n    }\n  };\n\n  function inject_raw_css(css) {\n    const element = document.createElement(\"style\");\n    element.appendChild(document.createTextNode(css));\n    document.body.appendChild(element);\n  }\n\n  \n  var js_urls = [\"https://cdn.bokeh.org/bokeh/release/bokeh-2.3.2.min.js\", \"https://cdn.bokeh.org/bokeh/release/bokeh-widgets-2.3.2.min.js\", \"https://cdn.bokeh.org/bokeh/release/bokeh-tables-2.3.2.min.js\"];\n  var css_urls = [];\n  \n\n  var inline_js = [\n    function(Bokeh) {\n      Bokeh.set_log_level(\"info\");\n    },\n    function(Bokeh) {\n    \n    \n    }\n  ];\n\n  function run_inline_js() {\n    \n    if (root.Bokeh !== undefined || force === true) {\n      \n    for (var i = 0; i < inline_js.length; i++) {\n      inline_js[i].call(root, root.Bokeh);\n    }\n    } else if (Date.now() < root._bokeh_timeout) {\n      setTimeout(run_inline_js, 100);\n    } else if (!root._bokeh_failed_load) {\n      console.log(\"Bokeh: BokehJS failed to load within specified timeout.\");\n      root._bokeh_failed_load = true;\n    } else if (force !== true) {\n      var cell = $(document.getElementById(null)).parents('.cell').data().cell;\n      cell.output_area.append_execute_result(NB_LOAD_WARNING)\n    }\n\n  }\n\n  if (root._bokeh_is_loading === 0) {\n    console.debug(\"Bokeh: BokehJS loaded, going straight to plotting\");\n    run_inline_js();\n  } else {\n    load_libs(css_urls, js_urls, function() {\n      console.debug(\"Bokeh: BokehJS plotting callback run at\", now());\n      run_inline_js();\n    });\n  }\n}(window));"
          },
          "metadata": {
            "tags": []
          }
        },
        {
          "output_type": "display_data",
          "data": {
            "text/html": [
              "\n",
              "\n",
              "\n",
              "\n",
              "\n",
              "\n",
              "  <div class=\"bk-root\" id=\"2cb626b8-1df9-4f46-8d22-7769328f26d3\" data-root-id=\"1174\"></div>\n"
            ]
          },
          "metadata": {
            "tags": []
          }
        },
        {
          "output_type": "display_data",
          "data": {
            "application/javascript": [
              "(function(root) {\n",
              "  function embed_document(root) {\n",
              "    \n",
              "  var docs_json = {\"fb19327d-f1bc-4ca9-96aa-7b311da438bd\":{\"defs\":[],\"roots\":{\"references\":[{\"attributes\":{\"background_fill_color\":\"#20262B\",\"below\":[{\"id\":\"1185\"}],\"border_fill_color\":\"#15191C\",\"center\":[{\"id\":\"1187\"},{\"id\":\"1191\"}],\"height\":400,\"left\":[{\"id\":\"1188\"}],\"outline_line_alpha\":0.25,\"outline_line_color\":\"#E0E0E0\",\"renderers\":[{\"id\":\"1198\"}],\"title\":{\"id\":\"1175\"},\"toolbar\":{\"id\":\"1193\"},\"width\":800,\"x_range\":{\"id\":\"1177\"},\"x_scale\":{\"id\":\"1181\"},\"y_range\":{\"id\":\"1179\"},\"y_scale\":{\"id\":\"1183\"}},\"id\":\"1174\",\"subtype\":\"Figure\",\"type\":\"Plot\"},{\"attributes\":{\"axis_label_standoff\":10,\"axis_label_text_color\":\"#E0E0E0\",\"axis_label_text_font\":\"Helvetica\",\"axis_label_text_font_size\":\"1.25em\",\"axis_label_text_font_style\":\"normal\",\"axis_line_alpha\":0,\"axis_line_color\":\"#E0E0E0\",\"formatter\":{\"id\":\"1224\"},\"major_label_orientation\":\"vertical\",\"major_label_policy\":{\"id\":\"1223\"},\"major_label_text_color\":\"#E0E0E0\",\"major_label_text_font\":\"Helvetica\",\"major_label_text_font_size\":\"1.025em\",\"major_tick_line_alpha\":0,\"major_tick_line_color\":\"#E0E0E0\",\"minor_tick_line_alpha\":0,\"minor_tick_line_color\":\"#E0E0E0\",\"ticker\":{\"id\":\"1186\"}},\"id\":\"1185\",\"type\":\"CategoricalAxis\"},{\"attributes\":{},\"id\":\"1226\",\"type\":\"Selection\"},{\"attributes\":{\"data_source\":{\"id\":\"1173\"},\"glyph\":{\"id\":\"1196\"},\"hover_glyph\":null,\"muted_glyph\":null,\"nonselection_glyph\":{\"id\":\"1197\"},\"view\":{\"id\":\"1199\"}},\"id\":\"1198\",\"type\":\"GlyphRenderer\"},{\"attributes\":{\"start\":0},\"id\":\"1179\",\"type\":\"DataRange1d\"},{\"attributes\":{},\"id\":\"1189\",\"type\":\"BasicTicker\"},{\"attributes\":{},\"id\":\"1186\",\"type\":\"CategoricalTicker\"},{\"attributes\":{},\"id\":\"1183\",\"type\":\"LinearScale\"},{\"attributes\":{},\"id\":\"1223\",\"type\":\"AllLabels\"},{\"attributes\":{\"factors\":[\"united states\",\"years ago\",\"years old\",\"long time\",\"little girl\",\"th century\",\"old man\",\"new york\",\"little boy\",\"carbon dioxide\",\"old woman\",\"young man\",\"far away\",\"world war\",\"poor little\",\"living things\",\"great deal\",\"great britain\",\"solar system\",\"said mother\"]},\"id\":\"1177\",\"type\":\"FactorRange\"},{\"attributes\":{\"axis_label_standoff\":10,\"axis_label_text_color\":\"#E0E0E0\",\"axis_label_text_font\":\"Helvetica\",\"axis_label_text_font_size\":\"1.25em\",\"axis_label_text_font_style\":\"normal\",\"axis_line_alpha\":0,\"axis_line_color\":\"#E0E0E0\",\"formatter\":{\"id\":\"1221\"},\"major_label_policy\":{\"id\":\"1220\"},\"major_label_text_color\":\"#E0E0E0\",\"major_label_text_font\":\"Helvetica\",\"major_label_text_font_size\":\"1.025em\",\"major_tick_line_alpha\":0,\"major_tick_line_color\":\"#E0E0E0\",\"minor_tick_line_alpha\":0,\"minor_tick_line_color\":\"#E0E0E0\",\"ticker\":{\"id\":\"1189\"}},\"id\":\"1188\",\"type\":\"LinearAxis\"},{\"attributes\":{\"active_multi\":null,\"tools\":[{\"id\":\"1192\"}]},\"id\":\"1193\",\"type\":\"Toolbar\"},{\"attributes\":{},\"id\":\"1220\",\"type\":\"AllLabels\"},{\"attributes\":{\"fill_alpha\":{\"value\":0.1},\"fill_color\":{\"field\":\"color\"},\"line_alpha\":{\"value\":0.1},\"line_color\":{\"field\":\"color\"},\"top\":{\"field\":\"counts\"},\"width\":{\"value\":0.8},\"x\":{\"field\":\"Word\"}},\"id\":\"1197\",\"type\":\"VBar\"},{\"attributes\":{\"align\":\"center\",\"text\":\"Top Bigrams\",\"text_color\":\"#E0E0E0\",\"text_font\":\"Helvetica\",\"text_font_size\":\"1.15em\"},\"id\":\"1175\",\"type\":\"Title\"},{\"attributes\":{},\"id\":\"1221\",\"type\":\"BasicTickFormatter\"},{\"attributes\":{},\"id\":\"1181\",\"type\":\"CategoricalScale\"},{\"attributes\":{\"fill_color\":{\"field\":\"color\"},\"line_color\":{\"field\":\"color\"},\"top\":{\"field\":\"counts\"},\"width\":{\"value\":0.8},\"x\":{\"field\":\"Word\"}},\"id\":\"1196\",\"type\":\"VBar\"},{\"attributes\":{},\"id\":\"1224\",\"type\":\"CategoricalTickFormatter\"},{\"attributes\":{\"callback\":null,\"tooltips\":\"@Word: @counts\"},\"id\":\"1192\",\"type\":\"HoverTool\"},{\"attributes\":{\"axis\":{\"id\":\"1185\"},\"grid_line_alpha\":0.25,\"grid_line_color\":null,\"ticker\":null},\"id\":\"1187\",\"type\":\"Grid\"},{\"attributes\":{\"source\":{\"id\":\"1173\"}},\"id\":\"1199\",\"type\":\"CDSView\"},{\"attributes\":{},\"id\":\"1225\",\"type\":\"UnionRenderers\"},{\"attributes\":{\"data\":{\"Word\":[\"united states\",\"years ago\",\"years old\",\"long time\",\"little girl\",\"th century\",\"old man\",\"new york\",\"little boy\",\"carbon dioxide\",\"old woman\",\"young man\",\"far away\",\"world war\",\"poor little\",\"living things\",\"great deal\",\"great britain\",\"solar system\",\"said mother\"],\"color\":[\"#a1dab4\",\"#a1dab4\",\"#a1dab4\",\"#a1dab4\",\"#a1dab4\",\"#a1dab4\",\"#a1dab4\",\"#a1dab4\",\"#a1dab4\",\"#a1dab4\",\"#a1dab4\",\"#a1dab4\",\"#a1dab4\",\"#a1dab4\",\"#a1dab4\",\"#a1dab4\",\"#a1dab4\",\"#a1dab4\",\"#a1dab4\",\"#a1dab4\"],\"counts\":[100,77,58,58,56,55,49,46,44,38,31,30,29,29,27,27,26,26,26,25]},\"selected\":{\"id\":\"1226\"},\"selection_policy\":{\"id\":\"1225\"}},\"id\":\"1173\",\"type\":\"ColumnDataSource\"},{\"attributes\":{\"axis\":{\"id\":\"1188\"},\"dimension\":1,\"grid_line_alpha\":0.25,\"grid_line_color\":\"#E0E0E0\",\"ticker\":null},\"id\":\"1191\",\"type\":\"Grid\"}],\"root_ids\":[\"1174\"]},\"title\":\"Bokeh Application\",\"version\":\"2.3.2\"}};\n",
              "  var render_items = [{\"docid\":\"fb19327d-f1bc-4ca9-96aa-7b311da438bd\",\"root_ids\":[\"1174\"],\"roots\":{\"1174\":\"2cb626b8-1df9-4f46-8d22-7769328f26d3\"}}];\n",
              "  root.Bokeh.embed.embed_items_notebook(docs_json, render_items);\n",
              "\n",
              "  }\n",
              "  if (root.Bokeh !== undefined) {\n",
              "    embed_document(root);\n",
              "  } else {\n",
              "    var attempts = 0;\n",
              "    var timer = setInterval(function(root) {\n",
              "      if (root.Bokeh !== undefined) {\n",
              "        clearInterval(timer);\n",
              "        embed_document(root);\n",
              "      } else {\n",
              "        attempts++;\n",
              "        if (attempts > 100) {\n",
              "          clearInterval(timer);\n",
              "          console.log(\"Bokeh: ERROR: Unable to run BokehJS code because BokehJS library is missing\");\n",
              "        }\n",
              "      }\n",
              "    }, 10, root)\n",
              "  }\n",
              "})(window);"
            ],
            "application/vnd.bokehjs_exec.v0+json": ""
          },
          "metadata": {
            "tags": [],
            "application/vnd.bokehjs_exec.v0+json": {
              "id": "1174"
            }
          }
        }
      ]
    },
    {
      "cell_type": "markdown",
      "metadata": {
        "id": "e7CGJ0EqunXl"
      },
      "source": [
        "### Stemming"
      ]
    },
    {
      "cell_type": "markdown",
      "metadata": {
        "id": "sOtC27bdrKsi"
      },
      "source": [
        "Stemming : 어간 추출\n",
        "* Stemming은 정해진 규칙만 보고 단어의 어미를 자르는 어림짐작의 작업입니다.  \n",
        "* 섬세한 작업이 아닌 룰베이스에 기반한 작업이기 때문에, 어간 추출 후에 나오는 결과 단어는 사전에 존재하지 않는 단어일 수도 있습니다.\n",
        "* NLTK의 Stemmer에는 Porter Stemmer 와 Snowball stemmer가 있는데, Snowball stemmer가 Porter보다 살짝 높은 버전이고, 보다 많이 사용되는 Stemmer이기 때문에 이번 전처리 작업에서는 Snowball을 사용했습니다.\n",
        "* Stemming과 Lemmatization은 둘 다 변형된 단어를 원래 형태로 바꿔줍니다. 차이점은, Stemming은 속도가 빠르나 간혹 존재하지 않는 단어가 나올 수 있고, Lemmatization은 실제 단어 원형을 가져온다는 점입니다.\n",
        "\n"
      ]
    },
    {
      "cell_type": "code",
      "metadata": {
        "id": "QcWaWjXwunbQ",
        "colab": {
          "base_uri": "https://localhost:8080/"
        },
        "outputId": "578fb8df-f559-417d-b180-b51b6c236812"
      },
      "source": [
        "stemmer = SnowballStemmer(language='english')\n",
        "\n",
        "tokens = train_data['excerpt'][1].split()\n",
        "clean_text = ' '\n",
        "\n",
        "for token in tokens[:20]:\n",
        "    print(token + ' --> ' + stemmer.stem(token))"
      ],
      "execution_count": 57,
      "outputs": [
        {
          "output_type": "stream",
          "text": [
            "All --> all\n",
            "through --> through\n",
            "dinner --> dinner\n",
            "time, --> time,\n",
            "Mrs. --> mrs.\n",
            "Fayre --> fayr\n",
            "was --> was\n",
            "somewhat --> somewhat\n",
            "silent, --> silent,\n",
            "her --> her\n",
            "eyes --> eye\n",
            "resting --> rest\n",
            "on --> on\n",
            "Dolly --> dolli\n",
            "with --> with\n",
            "a --> a\n",
            "wistful, --> wistful,\n",
            "uncertain --> uncertain\n",
            "expression. --> expression.\n",
            "She --> she\n"
          ],
          "name": "stdout"
        }
      ]
    },
    {
      "cell_type": "code",
      "metadata": {
        "id": "Akyz5PDquneW",
        "colab": {
          "base_uri": "https://localhost:8080/"
        },
        "outputId": "8a9168e8-b0c2-4da3-a849-e604e95e08c7"
      },
      "source": [
        "def stemWord(text):\n",
        "    stemmer = SnowballStemmer(language='english')\n",
        "    tokens = text.split()\n",
        "    clean_text = ' '\n",
        "    for token in tokens:\n",
        "        clean_text = clean_text + \" \" + stemmer.stem(token)      \n",
        "    \n",
        "    return clean_text\n",
        "\n",
        "print(\"\\033[1mText before stemWord function: \\033[0m\" + train_data['excerpt'][1] + \"\\n\")\n",
        "print(\"\\033[1mText after stemWord function: \\033[0m\" + stemWord(train_data['excerpt'][1]))"
      ],
      "execution_count": 59,
      "outputs": [
        {
          "output_type": "stream",
          "text": [
            "\u001b[1mText before stemWord function: \u001b[0mAll through dinner time, Mrs. Fayre was somewhat silent, her eyes resting on Dolly with a wistful, uncertain expression. She wanted to give the child the pleasure she craved, but she had hard work to bring herself to the point of overcoming her own objections.\n",
            "At last, however, when the meal was nearly over, she smiled at her little daughter, and said, \"All right, Dolly, you may go.\"\n",
            "\"Oh, mother!\" Dolly cried, overwhelmed with sudden delight. \"Really?\n",
            "Oh, I am so glad! Are you sure you're willing?\"\n",
            "\"I've persuaded myself to be willing, against my will,\" returned Mrs. Fayre, whimsically. \"I confess I just hate to have you go, but I can't bear to deprive you of the pleasure trip. And, as you say, it would also keep Dotty at home, and so, altogether, I think I shall have to give in.\"\n",
            "\"Oh, you angel mother! You blessed lady! How good you are!\" And Dolly flew around the table and gave her mother a hug that nearly suffocated her.\n",
            "\n",
            "\u001b[1mText after stemWord function: \u001b[0m  all through dinner time, mrs. fayr was somewhat silent, her eye rest on dolli with a wistful, uncertain expression. she want to give the child the pleasur she craved, but she had hard work to bring herself to the point of overcom her own objections. at last, however, when the meal was near over, she smile at her littl daughter, and said, \"all right, dolly, you may go.\" \"oh, mother!\" dolli cried, overwhelm with sudden delight. \"really? oh, i am so glad! are you sure you'r willing?\" \"i'v persuad myself to be willing, against my will,\" return mrs. fayre, whimsically. \"i confess i just hate to have you go, but i can't bear to depriv you of the pleasur trip. and, as you say, it would also keep dotti at home, and so, altogether, i think i shall have to give in.\" \"oh, you angel mother! you bless lady! how good you are!\" and dolli flew around the tabl and gave her mother a hug that near suffoc her.\n"
          ],
          "name": "stdout"
        }
      ]
    },
    {
      "cell_type": "code",
      "metadata": {
        "id": "BYvI_eVNpBk3"
      },
      "source": [
        "train_data['excerpt_clean'] = train_data['excerpt_clean'].apply(stemWord)\n",
        "train_data['excerpt_clean'] = train_data['excerpt_clean'].apply(stemWord)"
      ],
      "execution_count": 76,
      "outputs": []
    },
    {
      "cell_type": "code",
      "metadata": {
        "id": "6IEwxMYvpE_M",
        "colab": {
          "base_uri": "https://localhost:8080/"
        },
        "outputId": "233f445f-9173-4268-9d97-28de83584a15"
      },
      "source": [
        "results = Counter()\n",
        "train_data['excerpt_clean'].str.lower().str.split().apply(results.update)\n",
        "print(len(results.keys()))"
      ],
      "execution_count": 77,
      "outputs": [
        {
          "output_type": "stream",
          "text": [
            "16539\n"
          ],
          "name": "stdout"
        }
      ]
    },
    {
      "cell_type": "markdown",
      "metadata": {
        "id": "uPRnXy26o59j"
      },
      "source": [
        "### Lemmatization"
      ]
    },
    {
      "cell_type": "code",
      "metadata": {
        "id": "IfbHET98o6Ek",
        "colab": {
          "base_uri": "https://localhost:8080/"
        },
        "outputId": "5bb6a72f-47f8-4725-8186-d1912936c8de"
      },
      "source": [
        "doc = nlp(\"Apple is looking at buying U.K. startup for $1 billion\")\n",
        "#for token in doc:\n",
        "   # print(token.lemma_)\n",
        "for noun in doc.noun_chunks:\n",
        "    print(noun.text)"
      ],
      "execution_count": 60,
      "outputs": [
        {
          "output_type": "stream",
          "text": [
            "Apple\n",
            "U.K. startup\n"
          ],
          "name": "stdout"
        }
      ]
    },
    {
      "cell_type": "code",
      "metadata": {
        "id": "n5ecmOw4o6Jb",
        "colab": {
          "base_uri": "https://localhost:8080/"
        },
        "outputId": "1db9cc30-2990-4c7f-a4b8-ad56e2080e43"
      },
      "source": [
        "# origin text vs after lemma\n",
        "for word in doc:\n",
        "    print(word.text, word.lemma_)"
      ],
      "execution_count": 71,
      "outputs": [
        {
          "output_type": "stream",
          "text": [
            "Apple Apple\n",
            "is be\n",
            "looking look\n",
            "at at\n",
            "buying buy\n",
            "U.K. U.K.\n",
            "startup startup\n",
            "for for\n",
            "$ $\n",
            "1 1\n",
            "billion billion\n"
          ],
          "name": "stdout"
        }
      ]
    },
    {
      "cell_type": "code",
      "metadata": {
        "id": "AfXcI2oyo6RO",
        "colab": {
          "base_uri": "https://localhost:8080/",
          "height": 298
        },
        "outputId": "91909cd7-5598-4e0e-b340-9a3204cd7613"
      },
      "source": [
        "def lemmatizeWord(text):\n",
        "    tokens=nlp(text)\n",
        "    clean_text = ' '\n",
        "    for token in tokens:\n",
        "        clean_text = clean_text + \" \" + token.lemma_      \n",
        "    \n",
        "    return clean_text\n",
        "\n",
        "print(\"Text before lemmatizeWord function: \" + train_data['excerpt'][1] + \"\\n\")\n",
        "print(\"Text after lemmatizeWord function: \" + lemmatizeWord(train_data['excerpt'][1]))\n",
        "\n",
        "doc = \"Apple is looking at buying U.K. startup for $1 billion\"\n",
        "lemmatizeWord(doc)"
      ],
      "execution_count": 73,
      "outputs": [
        {
          "output_type": "stream",
          "text": [
            "Text before lemmatizeWord function: All through dinner time, Mrs. Fayre was somewhat silent, her eyes resting on Dolly with a wistful, uncertain expression. She wanted to give the child the pleasure she craved, but she had hard work to bring herself to the point of overcoming her own objections.\n",
            "At last, however, when the meal was nearly over, she smiled at her little daughter, and said, \"All right, Dolly, you may go.\"\n",
            "\"Oh, mother!\" Dolly cried, overwhelmed with sudden delight. \"Really?\n",
            "Oh, I am so glad! Are you sure you're willing?\"\n",
            "\"I've persuaded myself to be willing, against my will,\" returned Mrs. Fayre, whimsically. \"I confess I just hate to have you go, but I can't bear to deprive you of the pleasure trip. And, as you say, it would also keep Dotty at home, and so, altogether, I think I shall have to give in.\"\n",
            "\"Oh, you angel mother! You blessed lady! How good you are!\" And Dolly flew around the table and gave her mother a hug that nearly suffocated her.\n",
            "\n",
            "Text after lemmatizeWord function:   all through dinner time , Mrs. Fayre be somewhat silent , -PRON- eye rest on Dolly with a wistful , uncertain expression . -PRON- want to give the child the pleasure -PRON- crave , but -PRON- have hard work to bring -PRON- to the point of overcome -PRON- own objection . \n",
            " at last , however , when the meal be nearly over , -PRON- smile at -PRON- little daughter , and say , \" all right , Dolly , -PRON- may go . \" \n",
            " \" oh , mother ! \" Dolly cry , overwhelm with sudden delight . \" really ? \n",
            " oh , -PRON- be so glad ! be -PRON- sure -PRON- be willing ? \" \n",
            " \" -PRON- have persuade -PRON- to be willing , against -PRON- will , \" return Mrs. Fayre , whimsically . \" -PRON- confess -PRON- just hate to have -PRON- go , but -PRON- can not bear to deprive -PRON- of the pleasure trip . and , as -PRON- say , -PRON- would also keep Dotty at home , and so , altogether , -PRON- think -PRON- shall have to give in . \" \n",
            " \" oh , -PRON- angel mother ! -PRON- bless lady ! how good -PRON- be ! \" and Dolly fly around the table and give -PRON- mother a hug that nearly suffocate -PRON- .\n"
          ],
          "name": "stdout"
        },
        {
          "output_type": "execute_result",
          "data": {
            "application/vnd.google.colaboratory.intrinsic+json": {
              "type": "string"
            },
            "text/plain": [
              "'  Apple be look at buy U.K. startup for $ 1 billion'"
            ]
          },
          "metadata": {
            "tags": []
          },
          "execution_count": 73
        }
      ]
    },
    {
      "cell_type": "markdown",
      "metadata": {
        "id": "dF391DJCv2EM"
      },
      "source": [
        "### Part-Of-Speech Tagging"
      ]
    },
    {
      "cell_type": "markdown",
      "metadata": {
        "id": "c_lYq0MXv5lF"
      },
      "source": [
        "POS 태그는 단어의 정의와 맥락을 기반으로 말뭉치에 명사, 동사, 형용사 등의 명칭을 태그하는 방법이다."
      ]
    },
    {
      "cell_type": "code",
      "metadata": {
        "id": "rs2F_ZEMwpnm"
      },
      "source": [
        "train_data['pos_tags'] = train_data['excerpt_clean'].str.split().map(pos_tag)"
      ],
      "execution_count": 83,
      "outputs": []
    },
    {
      "cell_type": "code",
      "metadata": {
        "colab": {
          "base_uri": "https://localhost:8080/"
        },
        "id": "SokWvlCOxJjL",
        "outputId": "7982b766-63bb-4fed-9e65-47bc453566a6"
      },
      "source": [
        "train_data['pos_tags']"
      ],
      "execution_count": 84,
      "outputs": [
        {
          "output_type": "execute_result",
          "data": {
            "text/plain": [
              "0       [(young, JJ), (peopl, VBP), (return, NN), (bal...\n",
              "1       [(dinner, NN), (time, NN), (mrs, JJ), (fayr, N...\n",
              "2       [(roger, NN), (predict, NN), (snow, VBP), (dep...\n",
              "3       [(outsid, NN), (palac, NN), (great, JJ), (gard...\n",
              "4       [(time, NN), (bear, JJ), (live, VBP), (hous, J...\n",
              "                              ...                        \n",
              "2829    [(think, VB), (dinosaur, NNS), (live, VBP), (p...\n",
              "2830    [(solid, JJ), (solid, JJ), (usual, JJ), (hard,...\n",
              "2831    [(second, JJ), (state, NN), (matter, NN), (dis...\n",
              "2832    [(solid, JJ), (shape, NN), (actual, JJ), (touc...\n",
              "2833    [(anim, NN), (cell, NN), (eat, JJ), (thing, NN...\n",
              "Name: pos_tags, Length: 2834, dtype: object"
            ]
          },
          "metadata": {
            "tags": []
          },
          "execution_count": 84
        }
      ]
    },
    {
      "cell_type": "code",
      "metadata": {
        "id": "UN0ACxYNxWG2"
      },
      "source": [
        "def count_tags(pos_tags):\n",
        "    tag_count = {}\n",
        "    for word,tag in pos_tags:\n",
        "        if tag in tag_count:\n",
        "            tag_count[tag] += 1\n",
        "        else:\n",
        "            tag_count[tag] = 1\n",
        "    return tag_count\n",
        "\n",
        "train_data['tag_counts'] = train_data['pos_tags'].map(count_tags)"
      ],
      "execution_count": 85,
      "outputs": []
    },
    {
      "cell_type": "code",
      "metadata": {
        "colab": {
          "base_uri": "https://localhost:8080/"
        },
        "id": "a35U_lg-xanJ",
        "outputId": "123ed418-cf1c-4ed3-b720-43659892cfde"
      },
      "source": [
        "train_data['tag_counts']"
      ],
      "execution_count": 86,
      "outputs": [
        {
          "output_type": "execute_result",
          "data": {
            "text/plain": [
              "0       {'JJ': 27, 'VBP': 3, 'NN': 46, 'RB': 1, 'VBD':...\n",
              "1       {'NN': 37, 'JJ': 13, 'RB': 2, 'VBP': 5, 'NNS':...\n",
              "2       {'NN': 40, 'VBP': 4, 'JJ': 16, 'VBD': 2, 'IN':...\n",
              "3       {'NN': 54, 'JJ': 17, 'VBP': 3, 'IN': 3, 'RB': ...\n",
              "4       {'NN': 32, 'JJ': 26, 'VBP': 5, 'NNS': 2, 'IN':...\n",
              "                              ...                        \n",
              "2829    {'VB': 2, 'NNS': 4, 'VBP': 6, 'NN': 36, 'JJ': ...\n",
              "2830    {'JJ': 19, 'NN': 37, 'RBR': 1, 'VBP': 4, 'IN':...\n",
              "2831    {'JJ': 15, 'NN': 45, 'VB': 2, 'VBD': 2, 'VBP':...\n",
              "2832    {'JJ': 17, 'NN': 44, 'NNS': 2, 'VBP': 3, 'VBD'...\n",
              "2833    {'NN': 46, 'JJ': 16, 'JJS': 1, 'VBD': 3, 'IN':...\n",
              "Name: tag_counts, Length: 2834, dtype: object"
            ]
          },
          "metadata": {
            "tags": []
          },
          "execution_count": 86
        }
      ]
    },
    {
      "cell_type": "code",
      "metadata": {
        "id": "2KbzyF0YxpCw"
      },
      "source": [
        "set_pos = set([tag for tags in train_data['tag_counts'] for tag in tags])\n",
        "tag_cols = list(set_pos)\n",
        "\n",
        "for tag in tag_cols:\n",
        "    train_data[tag] = train_data['tag_counts'].map(lambda x: x.get(tag, 0))"
      ],
      "execution_count": 87,
      "outputs": []
    },
    {
      "cell_type": "code",
      "metadata": {
        "colab": {
          "base_uri": "https://localhost:8080/"
        },
        "id": "CI7yQSjJx0BQ",
        "outputId": "59a47ae6-e458-425d-9dd3-a0413d8e1b33"
      },
      "source": [
        "# tagging된 데이터 확인\n",
        "train_data.loc[0]"
      ],
      "execution_count": 96,
      "outputs": [
        {
          "output_type": "execute_result",
          "data": {
            "text/plain": [
              "id                                                            c12129c31\n",
              "url_legal                                                           NaN\n",
              "license                                                             NaN\n",
              "excerpt               When the young people returned to the ballroom...\n",
              "target                                                        -0.340259\n",
              "standard_error                                                 0.464009\n",
              "excerpt_len                                                         992\n",
              "excerpt_word_count                                                  174\n",
              "excerpt_clean           young peopl return ballroom present decid ch...\n",
              "pos_tags              [(young, JJ), (peopl, VBP), (return, NN), (bal...\n",
              "tag_counts            {'JJ': 27, 'VBP': 3, 'NN': 46, 'RB': 1, 'VBD':...\n",
              "JJ                                                                   27\n",
              "PDT                                                                   0\n",
              "JJS                                                                   0\n",
              "VBD                                                                   2\n",
              "PRP                                                                   0\n",
              "TO                                                                    0\n",
              "CC                                                                    0\n",
              "VB                                                                    2\n",
              "PRP$                                                                  0\n",
              "VBN                                                                   1\n",
              "VBZ                                                                   0\n",
              "RP                                                                    0\n",
              "NNP                                                                   0\n",
              "NNS                                                                   0\n",
              "FW                                                                    0\n",
              "POS                                                                   0\n",
              "''                                                                    0\n",
              "VBP                                                                   3\n",
              "WRB                                                                   0\n",
              "EX                                                                    0\n",
              "RBR                                                                   0\n",
              "DT                                                                    0\n",
              "IN                                                                    3\n",
              "JJR                                                                   0\n",
              "UH                                                                    0\n",
              "WP                                                                    0\n",
              "CD                                                                    0\n",
              "WDT                                                                   0\n",
              "NN                                                                   46\n",
              "SYM                                                                   0\n",
              "RB                                                                    1\n",
              "RBS                                                                   0\n",
              "MD                                                                    0\n",
              "VBG                                                                   0\n",
              "Name: 0, dtype: object"
            ]
          },
          "metadata": {
            "tags": []
          },
          "execution_count": 96
        }
      ]
    },
    {
      "cell_type": "code",
      "metadata": {
        "colab": {
          "base_uri": "https://localhost:8080/",
          "height": 623
        },
        "id": "LEMlL-EsyjHr",
        "outputId": "0d098b69-a025-42c2-fe0e-d5db9ef06b89"
      },
      "source": [
        "# POS 빈도 그래프\n",
        "pos = train_data[tag_cols].sum().sort_values(ascending = False)\n",
        "sns.set_style(\"whitegrid\")\n",
        "plt.figure(figsize=(16,10))\n",
        "ax = sns.barplot(x=pos.index, y=pos.values,palette=\"flare\")\n",
        "plt.xticks(rotation = 50)\n",
        "ax.set_yscale('log')\n",
        "plt.title('Part-Of-Speech tags frequency')\n",
        "plt.show()"
      ],
      "execution_count": 98,
      "outputs": [
        {
          "output_type": "display_data",
          "data": {
            "image/png": "[encoded data removed]",
            "text/plain": [
              "<Figure size 1152x720 with 1 Axes>"
            ]
          },
          "metadata": {
            "tags": []
          }
        }
      ]
    },
    {
      "cell_type": "code",
      "metadata": {
        "colab": {
          "base_uri": "https://localhost:8080/",
          "height": 36
        },
        "id": "ZZvPQIFFy5DY",
        "outputId": "29caa483-a089-417a-9eb3-64a42b9c21a7"
      },
      "source": [
        "train_data.loc[train_data['target'] == train_data['target'].max()].excerpt.to_string()"
      ],
      "execution_count": 100,
      "outputs": [
        {
          "output_type": "execute_result",
          "data": {
            "application/vnd.google.colaboratory.intrinsic+json": {
              "type": "string"
            },
            "text/plain": [
              "'2829    When you think of dinosaurs and where they liv...'"
            ]
          },
          "metadata": {
            "tags": []
          },
          "execution_count": 100
        }
      ]
    },
    {
      "cell_type": "code",
      "metadata": {
        "id": "f3ZOpw4DzNYh"
      },
      "source": [
        "sent = str()\n",
        "for word in train_data.loc[train_data['target'] == train_data['target'].max()].excerpt:\n",
        "    sent += word"
      ],
      "execution_count": 101,
      "outputs": []
    },
    {
      "cell_type": "code",
      "metadata": {
        "colab": {
          "base_uri": "https://localhost:8080/",
          "height": 110
        },
        "id": "o0meTSRU2pFg",
        "outputId": "5410ffba-d480-4ae2-db5b-dd305ba4e0a0"
      },
      "source": [
        "sent"
      ],
      "execution_count": 102,
      "outputs": [
        {
          "output_type": "execute_result",
          "data": {
            "application/vnd.google.colaboratory.intrinsic+json": {
              "type": "string"
            },
            "text/plain": [
              "'When you think of dinosaurs and where they lived, what do you picture? Do you see hot, steamy swamps, thick jungles, or sunny plains? Dinosaurs lived in those places, yes. But did you know that some dinosaurs lived in the cold and the darkness near the North and South Poles?\\nThis surprised scientists, too. Paleontologists used to believe that dinosaurs lived only in the warmest parts of the world. They thought that dinosaurs could only have lived in places where turtles, crocodiles, and snakes live today. Later, these dinosaur scientists began finding bones in surprising places.\\nOne of those surprising fossil beds is a place called Dinosaur Cove, Australia. One hundred million years ago, Australia was connected to Antarctica. Both continents were located near the South Pole. Today, paleontologists dig dinosaur fossils out of the ground. They think about what those ancient bones must mean.'"
            ]
          },
          "metadata": {
            "tags": []
          },
          "execution_count": 102
        }
      ]
    },
    {
      "cell_type": "code",
      "metadata": {
        "id": "QspIIBfy3QMB"
      },
      "source": [
        "doc1 = nlp(sent)"
      ],
      "execution_count": 107,
      "outputs": []
    },
    {
      "cell_type": "code",
      "metadata": {
        "colab": {
          "base_uri": "https://localhost:8080/",
          "height": 776
        },
        "id": "gAlECxJe328r",
        "outputId": "5f85d6d4-6224-4a05-d286-b39aba92159a"
      },
      "source": [
        "# 단어들간의 관계와 품사 시각화하기\n",
        "displacy.render(doc1, style=\"dep\", jupyter=\"True\", options={'distance': 150})"
      ],
      "execution_count": 113,
      "outputs": [
        {
          "output_type": "display_data",
          "data": {
            "text/html": [
              "<span class=\"tex2jax_ignore\"><svg xmlns=\"http://www.w3.org/2000/svg\" xmlns:xlink=\"http://www.w3.org/1999/xlink\" xml:lang=\"en\" id=\"5cb2cd0950314536bf3ec50c792bf8b7-0\" class=\"displacy\" width=\"22100\" height=\"737.0\" direction=\"ltr\" style=\"max-width: none; height: 737.0px; color: #000000; background: #ffffff; font-family: Arial; direction: ltr\">\n",
              "<text class=\"displacy-token\" fill=\"currentColor\" text-anchor=\"middle\" y=\"647.0\">\n",
              "    <tspan class=\"displacy-word\" fill=\"currentColor\" x=\"50\">When</tspan>\n",
              "    <tspan class=\"displacy-tag\" dy=\"2em\" fill=\"currentColor\" x=\"50\">ADV</tspan>\n",
              "</text>\n",
              "\n",
              "<text class=\"displacy-token\" fill=\"currentColor\" text-anchor=\"middle\" y=\"647.0\">\n",
              "    <tspan class=\"displacy-word\" fill=\"currentColor\" x=\"200\">you</tspan>\n",
              "    <tspan class=\"displacy-tag\" dy=\"2em\" fill=\"currentColor\" x=\"200\">PRON</tspan>\n",
              "</text>\n",
              "\n",
              "<text class=\"displacy-token\" fill=\"currentColor\" text-anchor=\"middle\" y=\"647.0\">\n",
              "    <tspan class=\"displacy-word\" fill=\"currentColor\" x=\"350\">think</tspan>\n",
              "    <tspan class=\"displacy-tag\" dy=\"2em\" fill=\"currentColor\" x=\"350\">VERB</tspan>\n",
              "</text>\n",
              "\n",
              "<text class=\"displacy-token\" fill=\"currentColor\" text-anchor=\"middle\" y=\"647.0\">\n",
              "    <tspan class=\"displacy-word\" fill=\"currentColor\" x=\"500\">of</tspan>\n",
              "    <tspan class=\"displacy-tag\" dy=\"2em\" fill=\"currentColor\" x=\"500\">ADP</tspan>\n",
              "</text>\n",
              "\n",
              "<text class=\"displacy-token\" fill=\"currentColor\" text-anchor=\"middle\" y=\"647.0\">\n",
              "    <tspan class=\"displacy-word\" fill=\"currentColor\" x=\"650\">dinosaurs</tspan>\n",
              "    <tspan class=\"displacy-tag\" dy=\"2em\" fill=\"currentColor\" x=\"650\">NOUN</tspan>\n",
              "</text>\n",
              "\n",
              "<text class=\"displacy-token\" fill=\"currentColor\" text-anchor=\"middle\" y=\"647.0\">\n",
              "    <tspan class=\"displacy-word\" fill=\"currentColor\" x=\"800\">and</tspan>\n",
              "    <tspan class=\"displacy-tag\" dy=\"2em\" fill=\"currentColor\" x=\"800\">CCONJ</tspan>\n",
              "</text>\n",
              "\n",
              "<text class=\"displacy-token\" fill=\"currentColor\" text-anchor=\"middle\" y=\"647.0\">\n",
              "    <tspan class=\"displacy-word\" fill=\"currentColor\" x=\"950\">where</tspan>\n",
              "    <tspan class=\"displacy-tag\" dy=\"2em\" fill=\"currentColor\" x=\"950\">ADV</tspan>\n",
              "</text>\n",
              "\n",
              "<text class=\"displacy-token\" fill=\"currentColor\" text-anchor=\"middle\" y=\"647.0\">\n",
              "    <tspan class=\"displacy-word\" fill=\"currentColor\" x=\"1100\">they</tspan>\n",
              "    <tspan class=\"displacy-tag\" dy=\"2em\" fill=\"currentColor\" x=\"1100\">PRON</tspan>\n",
              "</text>\n",
              "\n",
              "<text class=\"displacy-token\" fill=\"currentColor\" text-anchor=\"middle\" y=\"647.0\">\n",
              "    <tspan class=\"displacy-word\" fill=\"currentColor\" x=\"1250\">lived,</tspan>\n",
              "    <tspan class=\"displacy-tag\" dy=\"2em\" fill=\"currentColor\" x=\"1250\">VERB</tspan>\n",
              "</text>\n",
              "\n",
              "<text class=\"displacy-token\" fill=\"currentColor\" text-anchor=\"middle\" y=\"647.0\">\n",
              "    <tspan class=\"displacy-word\" fill=\"currentColor\" x=\"1400\">what</tspan>\n",
              "    <tspan class=\"displacy-tag\" dy=\"2em\" fill=\"currentColor\" x=\"1400\">PRON</tspan>\n",
              "</text>\n",
              "\n",
              "<text class=\"displacy-token\" fill=\"currentColor\" text-anchor=\"middle\" y=\"647.0\">\n",
              "    <tspan class=\"displacy-word\" fill=\"currentColor\" x=\"1550\">do</tspan>\n",
              "    <tspan class=\"displacy-tag\" dy=\"2em\" fill=\"currentColor\" x=\"1550\">AUX</tspan>\n",
              "</text>\n",
              "\n",
              "<text class=\"displacy-token\" fill=\"currentColor\" text-anchor=\"middle\" y=\"647.0\">\n",
              "    <tspan class=\"displacy-word\" fill=\"currentColor\" x=\"1700\">you</tspan>\n",
              "    <tspan class=\"displacy-tag\" dy=\"2em\" fill=\"currentColor\" x=\"1700\">PRON</tspan>\n",
              "</text>\n",
              "\n",
              "<text class=\"displacy-token\" fill=\"currentColor\" text-anchor=\"middle\" y=\"647.0\">\n",
              "    <tspan class=\"displacy-word\" fill=\"currentColor\" x=\"1850\">picture?</tspan>\n",
              "    <tspan class=\"displacy-tag\" dy=\"2em\" fill=\"currentColor\" x=\"1850\">VERB</tspan>\n",
              "</text>\n",
              "\n",
              "<text class=\"displacy-token\" fill=\"currentColor\" text-anchor=\"middle\" y=\"647.0\">\n",
              "    <tspan class=\"displacy-word\" fill=\"currentColor\" x=\"2000\">Do</tspan>\n",
              "    <tspan class=\"displacy-tag\" dy=\"2em\" fill=\"currentColor\" x=\"2000\">AUX</tspan>\n",
              "</text>\n",
              "\n",
              "<text class=\"displacy-token\" fill=\"currentColor\" text-anchor=\"middle\" y=\"647.0\">\n",
              "    <tspan class=\"displacy-word\" fill=\"currentColor\" x=\"2150\">you</tspan>\n",
              "    <tspan class=\"displacy-tag\" dy=\"2em\" fill=\"currentColor\" x=\"2150\">PRON</tspan>\n",
              "</text>\n",
              "\n",
              "<text class=\"displacy-token\" fill=\"currentColor\" text-anchor=\"middle\" y=\"647.0\">\n",
              "    <tspan class=\"displacy-word\" fill=\"currentColor\" x=\"2300\">see</tspan>\n",
              "    <tspan class=\"displacy-tag\" dy=\"2em\" fill=\"currentColor\" x=\"2300\">VERB</tspan>\n",
              "</text>\n",
              "\n",
              "<text class=\"displacy-token\" fill=\"currentColor\" text-anchor=\"middle\" y=\"647.0\">\n",
              "    <tspan class=\"displacy-word\" fill=\"currentColor\" x=\"2450\">hot,</tspan>\n",
              "    <tspan class=\"displacy-tag\" dy=\"2em\" fill=\"currentColor\" x=\"2450\">ADJ</tspan>\n",
              "</text>\n",
              "\n",
              "<text class=\"displacy-token\" fill=\"currentColor\" text-anchor=\"middle\" y=\"647.0\">\n",
              "    <tspan class=\"displacy-word\" fill=\"currentColor\" x=\"2600\">steamy</tspan>\n",
              "    <tspan class=\"displacy-tag\" dy=\"2em\" fill=\"currentColor\" x=\"2600\">ADJ</tspan>\n",
              "</text>\n",
              "\n",
              "<text class=\"displacy-token\" fill=\"currentColor\" text-anchor=\"middle\" y=\"647.0\">\n",
              "    <tspan class=\"displacy-word\" fill=\"currentColor\" x=\"2750\">swamps,</tspan>\n",
              "    <tspan class=\"displacy-tag\" dy=\"2em\" fill=\"currentColor\" x=\"2750\">NOUN</tspan>\n",
              "</text>\n",
              "\n",
              "<text class=\"displacy-token\" fill=\"currentColor\" text-anchor=\"middle\" y=\"647.0\">\n",
              "    <tspan class=\"displacy-word\" fill=\"currentColor\" x=\"2900\">thick</tspan>\n",
              "    <tspan class=\"displacy-tag\" dy=\"2em\" fill=\"currentColor\" x=\"2900\">ADJ</tspan>\n",
              "</text>\n",
              "\n",
              "<text class=\"displacy-token\" fill=\"currentColor\" text-anchor=\"middle\" y=\"647.0\">\n",
              "    <tspan class=\"displacy-word\" fill=\"currentColor\" x=\"3050\">jungles,</tspan>\n",
              "    <tspan class=\"displacy-tag\" dy=\"2em\" fill=\"currentColor\" x=\"3050\">NOUN</tspan>\n",
              "</text>\n",
              "\n",
              "<text class=\"displacy-token\" fill=\"currentColor\" text-anchor=\"middle\" y=\"647.0\">\n",
              "    <tspan class=\"displacy-word\" fill=\"currentColor\" x=\"3200\">or</tspan>\n",
              "    <tspan class=\"displacy-tag\" dy=\"2em\" fill=\"currentColor\" x=\"3200\">CCONJ</tspan>\n",
              "</text>\n",
              "\n",
              "<text class=\"displacy-token\" fill=\"currentColor\" text-anchor=\"middle\" y=\"647.0\">\n",
              "    <tspan class=\"displacy-word\" fill=\"currentColor\" x=\"3350\">sunny</tspan>\n",
              "    <tspan class=\"displacy-tag\" dy=\"2em\" fill=\"currentColor\" x=\"3350\">ADJ</tspan>\n",
              "</text>\n",
              "\n",
              "<text class=\"displacy-token\" fill=\"currentColor\" text-anchor=\"middle\" y=\"647.0\">\n",
              "    <tspan class=\"displacy-word\" fill=\"currentColor\" x=\"3500\">plains?</tspan>\n",
              "    <tspan class=\"displacy-tag\" dy=\"2em\" fill=\"currentColor\" x=\"3500\">NOUN</tspan>\n",
              "</text>\n",
              "\n",
              "<text class=\"displacy-token\" fill=\"currentColor\" text-anchor=\"middle\" y=\"647.0\">\n",
              "    <tspan class=\"displacy-word\" fill=\"currentColor\" x=\"3650\">Dinosaurs</tspan>\n",
              "    <tspan class=\"displacy-tag\" dy=\"2em\" fill=\"currentColor\" x=\"3650\">NOUN</tspan>\n",
              "</text>\n",
              "\n",
              "<text class=\"displacy-token\" fill=\"currentColor\" text-anchor=\"middle\" y=\"647.0\">\n",
              "    <tspan class=\"displacy-word\" fill=\"currentColor\" x=\"3800\">lived</tspan>\n",
              "    <tspan class=\"displacy-tag\" dy=\"2em\" fill=\"currentColor\" x=\"3800\">VERB</tspan>\n",
              "</text>\n",
              "\n",
              "<text class=\"displacy-token\" fill=\"currentColor\" text-anchor=\"middle\" y=\"647.0\">\n",
              "    <tspan class=\"displacy-word\" fill=\"currentColor\" x=\"3950\">in</tspan>\n",
              "    <tspan class=\"displacy-tag\" dy=\"2em\" fill=\"currentColor\" x=\"3950\">ADP</tspan>\n",
              "</text>\n",
              "\n",
              "<text class=\"displacy-token\" fill=\"currentColor\" text-anchor=\"middle\" y=\"647.0\">\n",
              "    <tspan class=\"displacy-word\" fill=\"currentColor\" x=\"4100\">those</tspan>\n",
              "    <tspan class=\"displacy-tag\" dy=\"2em\" fill=\"currentColor\" x=\"4100\">DET</tspan>\n",
              "</text>\n",
              "\n",
              "<text class=\"displacy-token\" fill=\"currentColor\" text-anchor=\"middle\" y=\"647.0\">\n",
              "    <tspan class=\"displacy-word\" fill=\"currentColor\" x=\"4250\">places,</tspan>\n",
              "    <tspan class=\"displacy-tag\" dy=\"2em\" fill=\"currentColor\" x=\"4250\">NOUN</tspan>\n",
              "</text>\n",
              "\n",
              "<text class=\"displacy-token\" fill=\"currentColor\" text-anchor=\"middle\" y=\"647.0\">\n",
              "    <tspan class=\"displacy-word\" fill=\"currentColor\" x=\"4400\">yes.</tspan>\n",
              "    <tspan class=\"displacy-tag\" dy=\"2em\" fill=\"currentColor\" x=\"4400\">INTJ</tspan>\n",
              "</text>\n",
              "\n",
              "<text class=\"displacy-token\" fill=\"currentColor\" text-anchor=\"middle\" y=\"647.0\">\n",
              "    <tspan class=\"displacy-word\" fill=\"currentColor\" x=\"4550\">But</tspan>\n",
              "    <tspan class=\"displacy-tag\" dy=\"2em\" fill=\"currentColor\" x=\"4550\">CCONJ</tspan>\n",
              "</text>\n",
              "\n",
              "<text class=\"displacy-token\" fill=\"currentColor\" text-anchor=\"middle\" y=\"647.0\">\n",
              "    <tspan class=\"displacy-word\" fill=\"currentColor\" x=\"4700\">did</tspan>\n",
              "    <tspan class=\"displacy-tag\" dy=\"2em\" fill=\"currentColor\" x=\"4700\">AUX</tspan>\n",
              "</text>\n",
              "\n",
              "<text class=\"displacy-token\" fill=\"currentColor\" text-anchor=\"middle\" y=\"647.0\">\n",
              "    <tspan class=\"displacy-word\" fill=\"currentColor\" x=\"4850\">you</tspan>\n",
              "    <tspan class=\"displacy-tag\" dy=\"2em\" fill=\"currentColor\" x=\"4850\">PRON</tspan>\n",
              "</text>\n",
              "\n",
              "<text class=\"displacy-token\" fill=\"currentColor\" text-anchor=\"middle\" y=\"647.0\">\n",
              "    <tspan class=\"displacy-word\" fill=\"currentColor\" x=\"5000\">know</tspan>\n",
              "    <tspan class=\"displacy-tag\" dy=\"2em\" fill=\"currentColor\" x=\"5000\">VERB</tspan>\n",
              "</text>\n",
              "\n",
              "<text class=\"displacy-token\" fill=\"currentColor\" text-anchor=\"middle\" y=\"647.0\">\n",
              "    <tspan class=\"displacy-word\" fill=\"currentColor\" x=\"5150\">that</tspan>\n",
              "    <tspan class=\"displacy-tag\" dy=\"2em\" fill=\"currentColor\" x=\"5150\">SCONJ</tspan>\n",
              "</text>\n",
              "\n",
              "<text class=\"displacy-token\" fill=\"currentColor\" text-anchor=\"middle\" y=\"647.0\">\n",
              "    <tspan class=\"displacy-word\" fill=\"currentColor\" x=\"5300\">some</tspan>\n",
              "    <tspan class=\"displacy-tag\" dy=\"2em\" fill=\"currentColor\" x=\"5300\">DET</tspan>\n",
              "</text>\n",
              "\n",
              "<text class=\"displacy-token\" fill=\"currentColor\" text-anchor=\"middle\" y=\"647.0\">\n",
              "    <tspan class=\"displacy-word\" fill=\"currentColor\" x=\"5450\">dinosaurs</tspan>\n",
              "    <tspan class=\"displacy-tag\" dy=\"2em\" fill=\"currentColor\" x=\"5450\">NOUN</tspan>\n",
              "</text>\n",
              "\n",
              "<text class=\"displacy-token\" fill=\"currentColor\" text-anchor=\"middle\" y=\"647.0\">\n",
              "    <tspan class=\"displacy-word\" fill=\"currentColor\" x=\"5600\">lived</tspan>\n",
              "    <tspan class=\"displacy-tag\" dy=\"2em\" fill=\"currentColor\" x=\"5600\">VERB</tspan>\n",
              "</text>\n",
              "\n",
              "<text class=\"displacy-token\" fill=\"currentColor\" text-anchor=\"middle\" y=\"647.0\">\n",
              "    <tspan class=\"displacy-word\" fill=\"currentColor\" x=\"5750\">in</tspan>\n",
              "    <tspan class=\"displacy-tag\" dy=\"2em\" fill=\"currentColor\" x=\"5750\">ADP</tspan>\n",
              "</text>\n",
              "\n",
              "<text class=\"displacy-token\" fill=\"currentColor\" text-anchor=\"middle\" y=\"647.0\">\n",
              "    <tspan class=\"displacy-word\" fill=\"currentColor\" x=\"5900\">the</tspan>\n",
              "    <tspan class=\"displacy-tag\" dy=\"2em\" fill=\"currentColor\" x=\"5900\">DET</tspan>\n",
              "</text>\n",
              "\n",
              "<text class=\"displacy-token\" fill=\"currentColor\" text-anchor=\"middle\" y=\"647.0\">\n",
              "    <tspan class=\"displacy-word\" fill=\"currentColor\" x=\"6050\">cold</tspan>\n",
              "    <tspan class=\"displacy-tag\" dy=\"2em\" fill=\"currentColor\" x=\"6050\">NOUN</tspan>\n",
              "</text>\n",
              "\n",
              "<text class=\"displacy-token\" fill=\"currentColor\" text-anchor=\"middle\" y=\"647.0\">\n",
              "    <tspan class=\"displacy-word\" fill=\"currentColor\" x=\"6200\">and</tspan>\n",
              "    <tspan class=\"displacy-tag\" dy=\"2em\" fill=\"currentColor\" x=\"6200\">CCONJ</tspan>\n",
              "</text>\n",
              "\n",
              "<text class=\"displacy-token\" fill=\"currentColor\" text-anchor=\"middle\" y=\"647.0\">\n",
              "    <tspan class=\"displacy-word\" fill=\"currentColor\" x=\"6350\">the</tspan>\n",
              "    <tspan class=\"displacy-tag\" dy=\"2em\" fill=\"currentColor\" x=\"6350\">DET</tspan>\n",
              "</text>\n",
              "\n",
              "<text class=\"displacy-token\" fill=\"currentColor\" text-anchor=\"middle\" y=\"647.0\">\n",
              "    <tspan class=\"displacy-word\" fill=\"currentColor\" x=\"6500\">darkness</tspan>\n",
              "    <tspan class=\"displacy-tag\" dy=\"2em\" fill=\"currentColor\" x=\"6500\">NOUN</tspan>\n",
              "</text>\n",
              "\n",
              "<text class=\"displacy-token\" fill=\"currentColor\" text-anchor=\"middle\" y=\"647.0\">\n",
              "    <tspan class=\"displacy-word\" fill=\"currentColor\" x=\"6650\">near</tspan>\n",
              "    <tspan class=\"displacy-tag\" dy=\"2em\" fill=\"currentColor\" x=\"6650\">SCONJ</tspan>\n",
              "</text>\n",
              "\n",
              "<text class=\"displacy-token\" fill=\"currentColor\" text-anchor=\"middle\" y=\"647.0\">\n",
              "    <tspan class=\"displacy-word\" fill=\"currentColor\" x=\"6800\">the</tspan>\n",
              "    <tspan class=\"displacy-tag\" dy=\"2em\" fill=\"currentColor\" x=\"6800\">DET</tspan>\n",
              "</text>\n",
              "\n",
              "<text class=\"displacy-token\" fill=\"currentColor\" text-anchor=\"middle\" y=\"647.0\">\n",
              "    <tspan class=\"displacy-word\" fill=\"currentColor\" x=\"6950\">North</tspan>\n",
              "    <tspan class=\"displacy-tag\" dy=\"2em\" fill=\"currentColor\" x=\"6950\">PROPN</tspan>\n",
              "</text>\n",
              "\n",
              "<text class=\"displacy-token\" fill=\"currentColor\" text-anchor=\"middle\" y=\"647.0\">\n",
              "    <tspan class=\"displacy-word\" fill=\"currentColor\" x=\"7100\">and</tspan>\n",
              "    <tspan class=\"displacy-tag\" dy=\"2em\" fill=\"currentColor\" x=\"7100\">CCONJ</tspan>\n",
              "</text>\n",
              "\n",
              "<text class=\"displacy-token\" fill=\"currentColor\" text-anchor=\"middle\" y=\"647.0\">\n",
              "    <tspan class=\"displacy-word\" fill=\"currentColor\" x=\"7250\">South</tspan>\n",
              "    <tspan class=\"displacy-tag\" dy=\"2em\" fill=\"currentColor\" x=\"7250\">PROPN</tspan>\n",
              "</text>\n",
              "\n",
              "<text class=\"displacy-token\" fill=\"currentColor\" text-anchor=\"middle\" y=\"647.0\">\n",
              "    <tspan class=\"displacy-word\" fill=\"currentColor\" x=\"7400\">Poles?</tspan>\n",
              "    <tspan class=\"displacy-tag\" dy=\"2em\" fill=\"currentColor\" x=\"7400\">PROPN</tspan>\n",
              "</text>\n",
              "\n",
              "<text class=\"displacy-token\" fill=\"currentColor\" text-anchor=\"middle\" y=\"647.0\">\n",
              "    <tspan class=\"displacy-word\" fill=\"currentColor\" x=\"7550\">\n",
              "</tspan>\n",
              "    <tspan class=\"displacy-tag\" dy=\"2em\" fill=\"currentColor\" x=\"7550\">SPACE</tspan>\n",
              "</text>\n",
              "\n",
              "<text class=\"displacy-token\" fill=\"currentColor\" text-anchor=\"middle\" y=\"647.0\">\n",
              "    <tspan class=\"displacy-word\" fill=\"currentColor\" x=\"7700\">This</tspan>\n",
              "    <tspan class=\"displacy-tag\" dy=\"2em\" fill=\"currentColor\" x=\"7700\">DET</tspan>\n",
              "</text>\n",
              "\n",
              "<text class=\"displacy-token\" fill=\"currentColor\" text-anchor=\"middle\" y=\"647.0\">\n",
              "    <tspan class=\"displacy-word\" fill=\"currentColor\" x=\"7850\">surprised</tspan>\n",
              "    <tspan class=\"displacy-tag\" dy=\"2em\" fill=\"currentColor\" x=\"7850\">ADJ</tspan>\n",
              "</text>\n",
              "\n",
              "<text class=\"displacy-token\" fill=\"currentColor\" text-anchor=\"middle\" y=\"647.0\">\n",
              "    <tspan class=\"displacy-word\" fill=\"currentColor\" x=\"8000\">scientists,</tspan>\n",
              "    <tspan class=\"displacy-tag\" dy=\"2em\" fill=\"currentColor\" x=\"8000\">NOUN</tspan>\n",
              "</text>\n",
              "\n",
              "<text class=\"displacy-token\" fill=\"currentColor\" text-anchor=\"middle\" y=\"647.0\">\n",
              "    <tspan class=\"displacy-word\" fill=\"currentColor\" x=\"8150\">too.</tspan>\n",
              "    <tspan class=\"displacy-tag\" dy=\"2em\" fill=\"currentColor\" x=\"8150\">ADV</tspan>\n",
              "</text>\n",
              "\n",
              "<text class=\"displacy-token\" fill=\"currentColor\" text-anchor=\"middle\" y=\"647.0\">\n",
              "    <tspan class=\"displacy-word\" fill=\"currentColor\" x=\"8300\">Paleontologists</tspan>\n",
              "    <tspan class=\"displacy-tag\" dy=\"2em\" fill=\"currentColor\" x=\"8300\">NOUN</tspan>\n",
              "</text>\n",
              "\n",
              "<text class=\"displacy-token\" fill=\"currentColor\" text-anchor=\"middle\" y=\"647.0\">\n",
              "    <tspan class=\"displacy-word\" fill=\"currentColor\" x=\"8450\">used</tspan>\n",
              "    <tspan class=\"displacy-tag\" dy=\"2em\" fill=\"currentColor\" x=\"8450\">VERB</tspan>\n",
              "</text>\n",
              "\n",
              "<text class=\"displacy-token\" fill=\"currentColor\" text-anchor=\"middle\" y=\"647.0\">\n",
              "    <tspan class=\"displacy-word\" fill=\"currentColor\" x=\"8600\">to</tspan>\n",
              "    <tspan class=\"displacy-tag\" dy=\"2em\" fill=\"currentColor\" x=\"8600\">PART</tspan>\n",
              "</text>\n",
              "\n",
              "<text class=\"displacy-token\" fill=\"currentColor\" text-anchor=\"middle\" y=\"647.0\">\n",
              "    <tspan class=\"displacy-word\" fill=\"currentColor\" x=\"8750\">believe</tspan>\n",
              "    <tspan class=\"displacy-tag\" dy=\"2em\" fill=\"currentColor\" x=\"8750\">VERB</tspan>\n",
              "</text>\n",
              "\n",
              "<text class=\"displacy-token\" fill=\"currentColor\" text-anchor=\"middle\" y=\"647.0\">\n",
              "    <tspan class=\"displacy-word\" fill=\"currentColor\" x=\"8900\">that</tspan>\n",
              "    <tspan class=\"displacy-tag\" dy=\"2em\" fill=\"currentColor\" x=\"8900\">SCONJ</tspan>\n",
              "</text>\n",
              "\n",
              "<text class=\"displacy-token\" fill=\"currentColor\" text-anchor=\"middle\" y=\"647.0\">\n",
              "    <tspan class=\"displacy-word\" fill=\"currentColor\" x=\"9050\">dinosaurs</tspan>\n",
              "    <tspan class=\"displacy-tag\" dy=\"2em\" fill=\"currentColor\" x=\"9050\">NOUN</tspan>\n",
              "</text>\n",
              "\n",
              "<text class=\"displacy-token\" fill=\"currentColor\" text-anchor=\"middle\" y=\"647.0\">\n",
              "    <tspan class=\"displacy-word\" fill=\"currentColor\" x=\"9200\">lived</tspan>\n",
              "    <tspan class=\"displacy-tag\" dy=\"2em\" fill=\"currentColor\" x=\"9200\">VERB</tspan>\n",
              "</text>\n",
              "\n",
              "<text class=\"displacy-token\" fill=\"currentColor\" text-anchor=\"middle\" y=\"647.0\">\n",
              "    <tspan class=\"displacy-word\" fill=\"currentColor\" x=\"9350\">only</tspan>\n",
              "    <tspan class=\"displacy-tag\" dy=\"2em\" fill=\"currentColor\" x=\"9350\">ADV</tspan>\n",
              "</text>\n",
              "\n",
              "<text class=\"displacy-token\" fill=\"currentColor\" text-anchor=\"middle\" y=\"647.0\">\n",
              "    <tspan class=\"displacy-word\" fill=\"currentColor\" x=\"9500\">in</tspan>\n",
              "    <tspan class=\"displacy-tag\" dy=\"2em\" fill=\"currentColor\" x=\"9500\">ADP</tspan>\n",
              "</text>\n",
              "\n",
              "<text class=\"displacy-token\" fill=\"currentColor\" text-anchor=\"middle\" y=\"647.0\">\n",
              "    <tspan class=\"displacy-word\" fill=\"currentColor\" x=\"9650\">the</tspan>\n",
              "    <tspan class=\"displacy-tag\" dy=\"2em\" fill=\"currentColor\" x=\"9650\">DET</tspan>\n",
              "</text>\n",
              "\n",
              "<text class=\"displacy-token\" fill=\"currentColor\" text-anchor=\"middle\" y=\"647.0\">\n",
              "    <tspan class=\"displacy-word\" fill=\"currentColor\" x=\"9800\">warmest</tspan>\n",
              "    <tspan class=\"displacy-tag\" dy=\"2em\" fill=\"currentColor\" x=\"9800\">ADJ</tspan>\n",
              "</text>\n",
              "\n",
              "<text class=\"displacy-token\" fill=\"currentColor\" text-anchor=\"middle\" y=\"647.0\">\n",
              "    <tspan class=\"displacy-word\" fill=\"currentColor\" x=\"9950\">parts</tspan>\n",
              "    <tspan class=\"displacy-tag\" dy=\"2em\" fill=\"currentColor\" x=\"9950\">NOUN</tspan>\n",
              "</text>\n",
              "\n",
              "<text class=\"displacy-token\" fill=\"currentColor\" text-anchor=\"middle\" y=\"647.0\">\n",
              "    <tspan class=\"displacy-word\" fill=\"currentColor\" x=\"10100\">of</tspan>\n",
              "    <tspan class=\"displacy-tag\" dy=\"2em\" fill=\"currentColor\" x=\"10100\">ADP</tspan>\n",
              "</text>\n",
              "\n",
              "<text class=\"displacy-token\" fill=\"currentColor\" text-anchor=\"middle\" y=\"647.0\">\n",
              "    <tspan class=\"displacy-word\" fill=\"currentColor\" x=\"10250\">the</tspan>\n",
              "    <tspan class=\"displacy-tag\" dy=\"2em\" fill=\"currentColor\" x=\"10250\">DET</tspan>\n",
              "</text>\n",
              "\n",
              "<text class=\"displacy-token\" fill=\"currentColor\" text-anchor=\"middle\" y=\"647.0\">\n",
              "    <tspan class=\"displacy-word\" fill=\"currentColor\" x=\"10400\">world.</tspan>\n",
              "    <tspan class=\"displacy-tag\" dy=\"2em\" fill=\"currentColor\" x=\"10400\">NOUN</tspan>\n",
              "</text>\n",
              "\n",
              "<text class=\"displacy-token\" fill=\"currentColor\" text-anchor=\"middle\" y=\"647.0\">\n",
              "    <tspan class=\"displacy-word\" fill=\"currentColor\" x=\"10550\">They</tspan>\n",
              "    <tspan class=\"displacy-tag\" dy=\"2em\" fill=\"currentColor\" x=\"10550\">PRON</tspan>\n",
              "</text>\n",
              "\n",
              "<text class=\"displacy-token\" fill=\"currentColor\" text-anchor=\"middle\" y=\"647.0\">\n",
              "    <tspan class=\"displacy-word\" fill=\"currentColor\" x=\"10700\">thought</tspan>\n",
              "    <tspan class=\"displacy-tag\" dy=\"2em\" fill=\"currentColor\" x=\"10700\">VERB</tspan>\n",
              "</text>\n",
              "\n",
              "<text class=\"displacy-token\" fill=\"currentColor\" text-anchor=\"middle\" y=\"647.0\">\n",
              "    <tspan class=\"displacy-word\" fill=\"currentColor\" x=\"10850\">that</tspan>\n",
              "    <tspan class=\"displacy-tag\" dy=\"2em\" fill=\"currentColor\" x=\"10850\">SCONJ</tspan>\n",
              "</text>\n",
              "\n",
              "<text class=\"displacy-token\" fill=\"currentColor\" text-anchor=\"middle\" y=\"647.0\">\n",
              "    <tspan class=\"displacy-word\" fill=\"currentColor\" x=\"11000\">dinosaurs</tspan>\n",
              "    <tspan class=\"displacy-tag\" dy=\"2em\" fill=\"currentColor\" x=\"11000\">NOUN</tspan>\n",
              "</text>\n",
              "\n",
              "<text class=\"displacy-token\" fill=\"currentColor\" text-anchor=\"middle\" y=\"647.0\">\n",
              "    <tspan class=\"displacy-word\" fill=\"currentColor\" x=\"11150\">could</tspan>\n",
              "    <tspan class=\"displacy-tag\" dy=\"2em\" fill=\"currentColor\" x=\"11150\">VERB</tspan>\n",
              "</text>\n",
              "\n",
              "<text class=\"displacy-token\" fill=\"currentColor\" text-anchor=\"middle\" y=\"647.0\">\n",
              "    <tspan class=\"displacy-word\" fill=\"currentColor\" x=\"11300\">only</tspan>\n",
              "    <tspan class=\"displacy-tag\" dy=\"2em\" fill=\"currentColor\" x=\"11300\">ADV</tspan>\n",
              "</text>\n",
              "\n",
              "<text class=\"displacy-token\" fill=\"currentColor\" text-anchor=\"middle\" y=\"647.0\">\n",
              "    <tspan class=\"displacy-word\" fill=\"currentColor\" x=\"11450\">have</tspan>\n",
              "    <tspan class=\"displacy-tag\" dy=\"2em\" fill=\"currentColor\" x=\"11450\">AUX</tspan>\n",
              "</text>\n",
              "\n",
              "<text class=\"displacy-token\" fill=\"currentColor\" text-anchor=\"middle\" y=\"647.0\">\n",
              "    <tspan class=\"displacy-word\" fill=\"currentColor\" x=\"11600\">lived</tspan>\n",
              "    <tspan class=\"displacy-tag\" dy=\"2em\" fill=\"currentColor\" x=\"11600\">VERB</tspan>\n",
              "</text>\n",
              "\n",
              "<text class=\"displacy-token\" fill=\"currentColor\" text-anchor=\"middle\" y=\"647.0\">\n",
              "    <tspan class=\"displacy-word\" fill=\"currentColor\" x=\"11750\">in</tspan>\n",
              "    <tspan class=\"displacy-tag\" dy=\"2em\" fill=\"currentColor\" x=\"11750\">ADP</tspan>\n",
              "</text>\n",
              "\n",
              "<text class=\"displacy-token\" fill=\"currentColor\" text-anchor=\"middle\" y=\"647.0\">\n",
              "    <tspan class=\"displacy-word\" fill=\"currentColor\" x=\"11900\">places</tspan>\n",
              "    <tspan class=\"displacy-tag\" dy=\"2em\" fill=\"currentColor\" x=\"11900\">NOUN</tspan>\n",
              "</text>\n",
              "\n",
              "<text class=\"displacy-token\" fill=\"currentColor\" text-anchor=\"middle\" y=\"647.0\">\n",
              "    <tspan class=\"displacy-word\" fill=\"currentColor\" x=\"12050\">where</tspan>\n",
              "    <tspan class=\"displacy-tag\" dy=\"2em\" fill=\"currentColor\" x=\"12050\">ADV</tspan>\n",
              "</text>\n",
              "\n",
              "<text class=\"displacy-token\" fill=\"currentColor\" text-anchor=\"middle\" y=\"647.0\">\n",
              "    <tspan class=\"displacy-word\" fill=\"currentColor\" x=\"12200\">turtles,</tspan>\n",
              "    <tspan class=\"displacy-tag\" dy=\"2em\" fill=\"currentColor\" x=\"12200\">NOUN</tspan>\n",
              "</text>\n",
              "\n",
              "<text class=\"displacy-token\" fill=\"currentColor\" text-anchor=\"middle\" y=\"647.0\">\n",
              "    <tspan class=\"displacy-word\" fill=\"currentColor\" x=\"12350\">crocodiles,</tspan>\n",
              "    <tspan class=\"displacy-tag\" dy=\"2em\" fill=\"currentColor\" x=\"12350\">NOUN</tspan>\n",
              "</text>\n",
              "\n",
              "<text class=\"displacy-token\" fill=\"currentColor\" text-anchor=\"middle\" y=\"647.0\">\n",
              "    <tspan class=\"displacy-word\" fill=\"currentColor\" x=\"12500\">and</tspan>\n",
              "    <tspan class=\"displacy-tag\" dy=\"2em\" fill=\"currentColor\" x=\"12500\">CCONJ</tspan>\n",
              "</text>\n",
              "\n",
              "<text class=\"displacy-token\" fill=\"currentColor\" text-anchor=\"middle\" y=\"647.0\">\n",
              "    <tspan class=\"displacy-word\" fill=\"currentColor\" x=\"12650\">snakes</tspan>\n",
              "    <tspan class=\"displacy-tag\" dy=\"2em\" fill=\"currentColor\" x=\"12650\">NOUN</tspan>\n",
              "</text>\n",
              "\n",
              "<text class=\"displacy-token\" fill=\"currentColor\" text-anchor=\"middle\" y=\"647.0\">\n",
              "    <tspan class=\"displacy-word\" fill=\"currentColor\" x=\"12800\">live</tspan>\n",
              "    <tspan class=\"displacy-tag\" dy=\"2em\" fill=\"currentColor\" x=\"12800\">VERB</tspan>\n",
              "</text>\n",
              "\n",
              "<text class=\"displacy-token\" fill=\"currentColor\" text-anchor=\"middle\" y=\"647.0\">\n",
              "    <tspan class=\"displacy-word\" fill=\"currentColor\" x=\"12950\">today.</tspan>\n",
              "    <tspan class=\"displacy-tag\" dy=\"2em\" fill=\"currentColor\" x=\"12950\">NOUN</tspan>\n",
              "</text>\n",
              "\n",
              "<text class=\"displacy-token\" fill=\"currentColor\" text-anchor=\"middle\" y=\"647.0\">\n",
              "    <tspan class=\"displacy-word\" fill=\"currentColor\" x=\"13100\">Later,</tspan>\n",
              "    <tspan class=\"displacy-tag\" dy=\"2em\" fill=\"currentColor\" x=\"13100\">ADV</tspan>\n",
              "</text>\n",
              "\n",
              "<text class=\"displacy-token\" fill=\"currentColor\" text-anchor=\"middle\" y=\"647.0\">\n",
              "    <tspan class=\"displacy-word\" fill=\"currentColor\" x=\"13250\">these</tspan>\n",
              "    <tspan class=\"displacy-tag\" dy=\"2em\" fill=\"currentColor\" x=\"13250\">DET</tspan>\n",
              "</text>\n",
              "\n",
              "<text class=\"displacy-token\" fill=\"currentColor\" text-anchor=\"middle\" y=\"647.0\">\n",
              "    <tspan class=\"displacy-word\" fill=\"currentColor\" x=\"13400\">dinosaur</tspan>\n",
              "    <tspan class=\"displacy-tag\" dy=\"2em\" fill=\"currentColor\" x=\"13400\">NOUN</tspan>\n",
              "</text>\n",
              "\n",
              "<text class=\"displacy-token\" fill=\"currentColor\" text-anchor=\"middle\" y=\"647.0\">\n",
              "    <tspan class=\"displacy-word\" fill=\"currentColor\" x=\"13550\">scientists</tspan>\n",
              "    <tspan class=\"displacy-tag\" dy=\"2em\" fill=\"currentColor\" x=\"13550\">NOUN</tspan>\n",
              "</text>\n",
              "\n",
              "<text class=\"displacy-token\" fill=\"currentColor\" text-anchor=\"middle\" y=\"647.0\">\n",
              "    <tspan class=\"displacy-word\" fill=\"currentColor\" x=\"13700\">began</tspan>\n",
              "    <tspan class=\"displacy-tag\" dy=\"2em\" fill=\"currentColor\" x=\"13700\">VERB</tspan>\n",
              "</text>\n",
              "\n",
              "<text class=\"displacy-token\" fill=\"currentColor\" text-anchor=\"middle\" y=\"647.0\">\n",
              "    <tspan class=\"displacy-word\" fill=\"currentColor\" x=\"13850\">finding</tspan>\n",
              "    <tspan class=\"displacy-tag\" dy=\"2em\" fill=\"currentColor\" x=\"13850\">VERB</tspan>\n",
              "</text>\n",
              "\n",
              "<text class=\"displacy-token\" fill=\"currentColor\" text-anchor=\"middle\" y=\"647.0\">\n",
              "    <tspan class=\"displacy-word\" fill=\"currentColor\" x=\"14000\">bones</tspan>\n",
              "    <tspan class=\"displacy-tag\" dy=\"2em\" fill=\"currentColor\" x=\"14000\">NOUN</tspan>\n",
              "</text>\n",
              "\n",
              "<text class=\"displacy-token\" fill=\"currentColor\" text-anchor=\"middle\" y=\"647.0\">\n",
              "    <tspan class=\"displacy-word\" fill=\"currentColor\" x=\"14150\">in</tspan>\n",
              "    <tspan class=\"displacy-tag\" dy=\"2em\" fill=\"currentColor\" x=\"14150\">ADP</tspan>\n",
              "</text>\n",
              "\n",
              "<text class=\"displacy-token\" fill=\"currentColor\" text-anchor=\"middle\" y=\"647.0\">\n",
              "    <tspan class=\"displacy-word\" fill=\"currentColor\" x=\"14300\">surprising</tspan>\n",
              "    <tspan class=\"displacy-tag\" dy=\"2em\" fill=\"currentColor\" x=\"14300\">ADJ</tspan>\n",
              "</text>\n",
              "\n",
              "<text class=\"displacy-token\" fill=\"currentColor\" text-anchor=\"middle\" y=\"647.0\">\n",
              "    <tspan class=\"displacy-word\" fill=\"currentColor\" x=\"14450\">places.</tspan>\n",
              "    <tspan class=\"displacy-tag\" dy=\"2em\" fill=\"currentColor\" x=\"14450\">NOUN</tspan>\n",
              "</text>\n",
              "\n",
              "<text class=\"displacy-token\" fill=\"currentColor\" text-anchor=\"middle\" y=\"647.0\">\n",
              "    <tspan class=\"displacy-word\" fill=\"currentColor\" x=\"14600\">\n",
              "</tspan>\n",
              "    <tspan class=\"displacy-tag\" dy=\"2em\" fill=\"currentColor\" x=\"14600\">SPACE</tspan>\n",
              "</text>\n",
              "\n",
              "<text class=\"displacy-token\" fill=\"currentColor\" text-anchor=\"middle\" y=\"647.0\">\n",
              "    <tspan class=\"displacy-word\" fill=\"currentColor\" x=\"14750\">One</tspan>\n",
              "    <tspan class=\"displacy-tag\" dy=\"2em\" fill=\"currentColor\" x=\"14750\">NUM</tspan>\n",
              "</text>\n",
              "\n",
              "<text class=\"displacy-token\" fill=\"currentColor\" text-anchor=\"middle\" y=\"647.0\">\n",
              "    <tspan class=\"displacy-word\" fill=\"currentColor\" x=\"14900\">of</tspan>\n",
              "    <tspan class=\"displacy-tag\" dy=\"2em\" fill=\"currentColor\" x=\"14900\">ADP</tspan>\n",
              "</text>\n",
              "\n",
              "<text class=\"displacy-token\" fill=\"currentColor\" text-anchor=\"middle\" y=\"647.0\">\n",
              "    <tspan class=\"displacy-word\" fill=\"currentColor\" x=\"15050\">those</tspan>\n",
              "    <tspan class=\"displacy-tag\" dy=\"2em\" fill=\"currentColor\" x=\"15050\">DET</tspan>\n",
              "</text>\n",
              "\n",
              "<text class=\"displacy-token\" fill=\"currentColor\" text-anchor=\"middle\" y=\"647.0\">\n",
              "    <tspan class=\"displacy-word\" fill=\"currentColor\" x=\"15200\">surprising</tspan>\n",
              "    <tspan class=\"displacy-tag\" dy=\"2em\" fill=\"currentColor\" x=\"15200\">ADJ</tspan>\n",
              "</text>\n",
              "\n",
              "<text class=\"displacy-token\" fill=\"currentColor\" text-anchor=\"middle\" y=\"647.0\">\n",
              "    <tspan class=\"displacy-word\" fill=\"currentColor\" x=\"15350\">fossil</tspan>\n",
              "    <tspan class=\"displacy-tag\" dy=\"2em\" fill=\"currentColor\" x=\"15350\">NOUN</tspan>\n",
              "</text>\n",
              "\n",
              "<text class=\"displacy-token\" fill=\"currentColor\" text-anchor=\"middle\" y=\"647.0\">\n",
              "    <tspan class=\"displacy-word\" fill=\"currentColor\" x=\"15500\">beds</tspan>\n",
              "    <tspan class=\"displacy-tag\" dy=\"2em\" fill=\"currentColor\" x=\"15500\">NOUN</tspan>\n",
              "</text>\n",
              "\n",
              "<text class=\"displacy-token\" fill=\"currentColor\" text-anchor=\"middle\" y=\"647.0\">\n",
              "    <tspan class=\"displacy-word\" fill=\"currentColor\" x=\"15650\">is</tspan>\n",
              "    <tspan class=\"displacy-tag\" dy=\"2em\" fill=\"currentColor\" x=\"15650\">AUX</tspan>\n",
              "</text>\n",
              "\n",
              "<text class=\"displacy-token\" fill=\"currentColor\" text-anchor=\"middle\" y=\"647.0\">\n",
              "    <tspan class=\"displacy-word\" fill=\"currentColor\" x=\"15800\">a</tspan>\n",
              "    <tspan class=\"displacy-tag\" dy=\"2em\" fill=\"currentColor\" x=\"15800\">DET</tspan>\n",
              "</text>\n",
              "\n",
              "<text class=\"displacy-token\" fill=\"currentColor\" text-anchor=\"middle\" y=\"647.0\">\n",
              "    <tspan class=\"displacy-word\" fill=\"currentColor\" x=\"15950\">place</tspan>\n",
              "    <tspan class=\"displacy-tag\" dy=\"2em\" fill=\"currentColor\" x=\"15950\">NOUN</tspan>\n",
              "</text>\n",
              "\n",
              "<text class=\"displacy-token\" fill=\"currentColor\" text-anchor=\"middle\" y=\"647.0\">\n",
              "    <tspan class=\"displacy-word\" fill=\"currentColor\" x=\"16100\">called</tspan>\n",
              "    <tspan class=\"displacy-tag\" dy=\"2em\" fill=\"currentColor\" x=\"16100\">VERB</tspan>\n",
              "</text>\n",
              "\n",
              "<text class=\"displacy-token\" fill=\"currentColor\" text-anchor=\"middle\" y=\"647.0\">\n",
              "    <tspan class=\"displacy-word\" fill=\"currentColor\" x=\"16250\">Dinosaur</tspan>\n",
              "    <tspan class=\"displacy-tag\" dy=\"2em\" fill=\"currentColor\" x=\"16250\">PROPN</tspan>\n",
              "</text>\n",
              "\n",
              "<text class=\"displacy-token\" fill=\"currentColor\" text-anchor=\"middle\" y=\"647.0\">\n",
              "    <tspan class=\"displacy-word\" fill=\"currentColor\" x=\"16400\">Cove,</tspan>\n",
              "    <tspan class=\"displacy-tag\" dy=\"2em\" fill=\"currentColor\" x=\"16400\">PROPN</tspan>\n",
              "</text>\n",
              "\n",
              "<text class=\"displacy-token\" fill=\"currentColor\" text-anchor=\"middle\" y=\"647.0\">\n",
              "    <tspan class=\"displacy-word\" fill=\"currentColor\" x=\"16550\">Australia.</tspan>\n",
              "    <tspan class=\"displacy-tag\" dy=\"2em\" fill=\"currentColor\" x=\"16550\">PROPN</tspan>\n",
              "</text>\n",
              "\n",
              "<text class=\"displacy-token\" fill=\"currentColor\" text-anchor=\"middle\" y=\"647.0\">\n",
              "    <tspan class=\"displacy-word\" fill=\"currentColor\" x=\"16700\">One</tspan>\n",
              "    <tspan class=\"displacy-tag\" dy=\"2em\" fill=\"currentColor\" x=\"16700\">NUM</tspan>\n",
              "</text>\n",
              "\n",
              "<text class=\"displacy-token\" fill=\"currentColor\" text-anchor=\"middle\" y=\"647.0\">\n",
              "    <tspan class=\"displacy-word\" fill=\"currentColor\" x=\"16850\">hundred</tspan>\n",
              "    <tspan class=\"displacy-tag\" dy=\"2em\" fill=\"currentColor\" x=\"16850\">NUM</tspan>\n",
              "</text>\n",
              "\n",
              "<text class=\"displacy-token\" fill=\"currentColor\" text-anchor=\"middle\" y=\"647.0\">\n",
              "    <tspan class=\"displacy-word\" fill=\"currentColor\" x=\"17000\">million</tspan>\n",
              "    <tspan class=\"displacy-tag\" dy=\"2em\" fill=\"currentColor\" x=\"17000\">NUM</tspan>\n",
              "</text>\n",
              "\n",
              "<text class=\"displacy-token\" fill=\"currentColor\" text-anchor=\"middle\" y=\"647.0\">\n",
              "    <tspan class=\"displacy-word\" fill=\"currentColor\" x=\"17150\">years</tspan>\n",
              "    <tspan class=\"displacy-tag\" dy=\"2em\" fill=\"currentColor\" x=\"17150\">NOUN</tspan>\n",
              "</text>\n",
              "\n",
              "<text class=\"displacy-token\" fill=\"currentColor\" text-anchor=\"middle\" y=\"647.0\">\n",
              "    <tspan class=\"displacy-word\" fill=\"currentColor\" x=\"17300\">ago,</tspan>\n",
              "    <tspan class=\"displacy-tag\" dy=\"2em\" fill=\"currentColor\" x=\"17300\">ADV</tspan>\n",
              "</text>\n",
              "\n",
              "<text class=\"displacy-token\" fill=\"currentColor\" text-anchor=\"middle\" y=\"647.0\">\n",
              "    <tspan class=\"displacy-word\" fill=\"currentColor\" x=\"17450\">Australia</tspan>\n",
              "    <tspan class=\"displacy-tag\" dy=\"2em\" fill=\"currentColor\" x=\"17450\">PROPN</tspan>\n",
              "</text>\n",
              "\n",
              "<text class=\"displacy-token\" fill=\"currentColor\" text-anchor=\"middle\" y=\"647.0\">\n",
              "    <tspan class=\"displacy-word\" fill=\"currentColor\" x=\"17600\">was</tspan>\n",
              "    <tspan class=\"displacy-tag\" dy=\"2em\" fill=\"currentColor\" x=\"17600\">AUX</tspan>\n",
              "</text>\n",
              "\n",
              "<text class=\"displacy-token\" fill=\"currentColor\" text-anchor=\"middle\" y=\"647.0\">\n",
              "    <tspan class=\"displacy-word\" fill=\"currentColor\" x=\"17750\">connected</tspan>\n",
              "    <tspan class=\"displacy-tag\" dy=\"2em\" fill=\"currentColor\" x=\"17750\">VERB</tspan>\n",
              "</text>\n",
              "\n",
              "<text class=\"displacy-token\" fill=\"currentColor\" text-anchor=\"middle\" y=\"647.0\">\n",
              "    <tspan class=\"displacy-word\" fill=\"currentColor\" x=\"17900\">to</tspan>\n",
              "    <tspan class=\"displacy-tag\" dy=\"2em\" fill=\"currentColor\" x=\"17900\">ADP</tspan>\n",
              "</text>\n",
              "\n",
              "<text class=\"displacy-token\" fill=\"currentColor\" text-anchor=\"middle\" y=\"647.0\">\n",
              "    <tspan class=\"displacy-word\" fill=\"currentColor\" x=\"18050\">Antarctica.</tspan>\n",
              "    <tspan class=\"displacy-tag\" dy=\"2em\" fill=\"currentColor\" x=\"18050\">PROPN</tspan>\n",
              "</text>\n",
              "\n",
              "<text class=\"displacy-token\" fill=\"currentColor\" text-anchor=\"middle\" y=\"647.0\">\n",
              "    <tspan class=\"displacy-word\" fill=\"currentColor\" x=\"18200\">Both</tspan>\n",
              "    <tspan class=\"displacy-tag\" dy=\"2em\" fill=\"currentColor\" x=\"18200\">DET</tspan>\n",
              "</text>\n",
              "\n",
              "<text class=\"displacy-token\" fill=\"currentColor\" text-anchor=\"middle\" y=\"647.0\">\n",
              "    <tspan class=\"displacy-word\" fill=\"currentColor\" x=\"18350\">continents</tspan>\n",
              "    <tspan class=\"displacy-tag\" dy=\"2em\" fill=\"currentColor\" x=\"18350\">NOUN</tspan>\n",
              "</text>\n",
              "\n",
              "<text class=\"displacy-token\" fill=\"currentColor\" text-anchor=\"middle\" y=\"647.0\">\n",
              "    <tspan class=\"displacy-word\" fill=\"currentColor\" x=\"18500\">were</tspan>\n",
              "    <tspan class=\"displacy-tag\" dy=\"2em\" fill=\"currentColor\" x=\"18500\">AUX</tspan>\n",
              "</text>\n",
              "\n",
              "<text class=\"displacy-token\" fill=\"currentColor\" text-anchor=\"middle\" y=\"647.0\">\n",
              "    <tspan class=\"displacy-word\" fill=\"currentColor\" x=\"18650\">located</tspan>\n",
              "    <tspan class=\"displacy-tag\" dy=\"2em\" fill=\"currentColor\" x=\"18650\">VERB</tspan>\n",
              "</text>\n",
              "\n",
              "<text class=\"displacy-token\" fill=\"currentColor\" text-anchor=\"middle\" y=\"647.0\">\n",
              "    <tspan class=\"displacy-word\" fill=\"currentColor\" x=\"18800\">near</tspan>\n",
              "    <tspan class=\"displacy-tag\" dy=\"2em\" fill=\"currentColor\" x=\"18800\">SCONJ</tspan>\n",
              "</text>\n",
              "\n",
              "<text class=\"displacy-token\" fill=\"currentColor\" text-anchor=\"middle\" y=\"647.0\">\n",
              "    <tspan class=\"displacy-word\" fill=\"currentColor\" x=\"18950\">the</tspan>\n",
              "    <tspan class=\"displacy-tag\" dy=\"2em\" fill=\"currentColor\" x=\"18950\">DET</tspan>\n",
              "</text>\n",
              "\n",
              "<text class=\"displacy-token\" fill=\"currentColor\" text-anchor=\"middle\" y=\"647.0\">\n",
              "    <tspan class=\"displacy-word\" fill=\"currentColor\" x=\"19100\">South</tspan>\n",
              "    <tspan class=\"displacy-tag\" dy=\"2em\" fill=\"currentColor\" x=\"19100\">PROPN</tspan>\n",
              "</text>\n",
              "\n",
              "<text class=\"displacy-token\" fill=\"currentColor\" text-anchor=\"middle\" y=\"647.0\">\n",
              "    <tspan class=\"displacy-word\" fill=\"currentColor\" x=\"19250\">Pole.</tspan>\n",
              "    <tspan class=\"displacy-tag\" dy=\"2em\" fill=\"currentColor\" x=\"19250\">PROPN</tspan>\n",
              "</text>\n",
              "\n",
              "<text class=\"displacy-token\" fill=\"currentColor\" text-anchor=\"middle\" y=\"647.0\">\n",
              "    <tspan class=\"displacy-word\" fill=\"currentColor\" x=\"19400\">Today,</tspan>\n",
              "    <tspan class=\"displacy-tag\" dy=\"2em\" fill=\"currentColor\" x=\"19400\">NOUN</tspan>\n",
              "</text>\n",
              "\n",
              "<text class=\"displacy-token\" fill=\"currentColor\" text-anchor=\"middle\" y=\"647.0\">\n",
              "    <tspan class=\"displacy-word\" fill=\"currentColor\" x=\"19550\">paleontologists</tspan>\n",
              "    <tspan class=\"displacy-tag\" dy=\"2em\" fill=\"currentColor\" x=\"19550\">NOUN</tspan>\n",
              "</text>\n",
              "\n",
              "<text class=\"displacy-token\" fill=\"currentColor\" text-anchor=\"middle\" y=\"647.0\">\n",
              "    <tspan class=\"displacy-word\" fill=\"currentColor\" x=\"19700\">dig</tspan>\n",
              "    <tspan class=\"displacy-tag\" dy=\"2em\" fill=\"currentColor\" x=\"19700\">VERB</tspan>\n",
              "</text>\n",
              "\n",
              "<text class=\"displacy-token\" fill=\"currentColor\" text-anchor=\"middle\" y=\"647.0\">\n",
              "    <tspan class=\"displacy-word\" fill=\"currentColor\" x=\"19850\">dinosaur</tspan>\n",
              "    <tspan class=\"displacy-tag\" dy=\"2em\" fill=\"currentColor\" x=\"19850\">NOUN</tspan>\n",
              "</text>\n",
              "\n",
              "<text class=\"displacy-token\" fill=\"currentColor\" text-anchor=\"middle\" y=\"647.0\">\n",
              "    <tspan class=\"displacy-word\" fill=\"currentColor\" x=\"20000\">fossils</tspan>\n",
              "    <tspan class=\"displacy-tag\" dy=\"2em\" fill=\"currentColor\" x=\"20000\">NOUN</tspan>\n",
              "</text>\n",
              "\n",
              "<text class=\"displacy-token\" fill=\"currentColor\" text-anchor=\"middle\" y=\"647.0\">\n",
              "    <tspan class=\"displacy-word\" fill=\"currentColor\" x=\"20150\">out</tspan>\n",
              "    <tspan class=\"displacy-tag\" dy=\"2em\" fill=\"currentColor\" x=\"20150\">SCONJ</tspan>\n",
              "</text>\n",
              "\n",
              "<text class=\"displacy-token\" fill=\"currentColor\" text-anchor=\"middle\" y=\"647.0\">\n",
              "    <tspan class=\"displacy-word\" fill=\"currentColor\" x=\"20300\">of</tspan>\n",
              "    <tspan class=\"displacy-tag\" dy=\"2em\" fill=\"currentColor\" x=\"20300\">ADP</tspan>\n",
              "</text>\n",
              "\n",
              "<text class=\"displacy-token\" fill=\"currentColor\" text-anchor=\"middle\" y=\"647.0\">\n",
              "    <tspan class=\"displacy-word\" fill=\"currentColor\" x=\"20450\">the</tspan>\n",
              "    <tspan class=\"displacy-tag\" dy=\"2em\" fill=\"currentColor\" x=\"20450\">DET</tspan>\n",
              "</text>\n",
              "\n",
              "<text class=\"displacy-token\" fill=\"currentColor\" text-anchor=\"middle\" y=\"647.0\">\n",
              "    <tspan class=\"displacy-word\" fill=\"currentColor\" x=\"20600\">ground.</tspan>\n",
              "    <tspan class=\"displacy-tag\" dy=\"2em\" fill=\"currentColor\" x=\"20600\">NOUN</tspan>\n",
              "</text>\n",
              "\n",
              "<text class=\"displacy-token\" fill=\"currentColor\" text-anchor=\"middle\" y=\"647.0\">\n",
              "    <tspan class=\"displacy-word\" fill=\"currentColor\" x=\"20750\">They</tspan>\n",
              "    <tspan class=\"displacy-tag\" dy=\"2em\" fill=\"currentColor\" x=\"20750\">PRON</tspan>\n",
              "</text>\n",
              "\n",
              "<text class=\"displacy-token\" fill=\"currentColor\" text-anchor=\"middle\" y=\"647.0\">\n",
              "    <tspan class=\"displacy-word\" fill=\"currentColor\" x=\"20900\">think</tspan>\n",
              "    <tspan class=\"displacy-tag\" dy=\"2em\" fill=\"currentColor\" x=\"20900\">VERB</tspan>\n",
              "</text>\n",
              "\n",
              "<text class=\"displacy-token\" fill=\"currentColor\" text-anchor=\"middle\" y=\"647.0\">\n",
              "    <tspan class=\"displacy-word\" fill=\"currentColor\" x=\"21050\">about</tspan>\n",
              "    <tspan class=\"displacy-tag\" dy=\"2em\" fill=\"currentColor\" x=\"21050\">ADP</tspan>\n",
              "</text>\n",
              "\n",
              "<text class=\"displacy-token\" fill=\"currentColor\" text-anchor=\"middle\" y=\"647.0\">\n",
              "    <tspan class=\"displacy-word\" fill=\"currentColor\" x=\"21200\">what</tspan>\n",
              "    <tspan class=\"displacy-tag\" dy=\"2em\" fill=\"currentColor\" x=\"21200\">PRON</tspan>\n",
              "</text>\n",
              "\n",
              "<text class=\"displacy-token\" fill=\"currentColor\" text-anchor=\"middle\" y=\"647.0\">\n",
              "    <tspan class=\"displacy-word\" fill=\"currentColor\" x=\"21350\">those</tspan>\n",
              "    <tspan class=\"displacy-tag\" dy=\"2em\" fill=\"currentColor\" x=\"21350\">DET</tspan>\n",
              "</text>\n",
              "\n",
              "<text class=\"displacy-token\" fill=\"currentColor\" text-anchor=\"middle\" y=\"647.0\">\n",
              "    <tspan class=\"displacy-word\" fill=\"currentColor\" x=\"21500\">ancient</tspan>\n",
              "    <tspan class=\"displacy-tag\" dy=\"2em\" fill=\"currentColor\" x=\"21500\">ADJ</tspan>\n",
              "</text>\n",
              "\n",
              "<text class=\"displacy-token\" fill=\"currentColor\" text-anchor=\"middle\" y=\"647.0\">\n",
              "    <tspan class=\"displacy-word\" fill=\"currentColor\" x=\"21650\">bones</tspan>\n",
              "    <tspan class=\"displacy-tag\" dy=\"2em\" fill=\"currentColor\" x=\"21650\">NOUN</tspan>\n",
              "</text>\n",
              "\n",
              "<text class=\"displacy-token\" fill=\"currentColor\" text-anchor=\"middle\" y=\"647.0\">\n",
              "    <tspan class=\"displacy-word\" fill=\"currentColor\" x=\"21800\">must</tspan>\n",
              "    <tspan class=\"displacy-tag\" dy=\"2em\" fill=\"currentColor\" x=\"21800\">VERB</tspan>\n",
              "</text>\n",
              "\n",
              "<text class=\"displacy-token\" fill=\"currentColor\" text-anchor=\"middle\" y=\"647.0\">\n",
              "    <tspan class=\"displacy-word\" fill=\"currentColor\" x=\"21950\">mean.</tspan>\n",
              "    <tspan class=\"displacy-tag\" dy=\"2em\" fill=\"currentColor\" x=\"21950\">VERB</tspan>\n",
              "</text>\n",
              "\n",
              "<g class=\"displacy-arrow\">\n",
              "    <path class=\"displacy-arc\" id=\"arrow-5cb2cd0950314536bf3ec50c792bf8b7-0-0\" stroke-width=\"2px\" d=\"M70,602.0 C70,452.0 320.0,452.0 320.0,602.0\" fill=\"none\" stroke=\"currentColor\"/>\n",
              "    <text dy=\"1.25em\" style=\"font-size: 0.8em; letter-spacing: 1px\">\n",
              "        <textPath xlink:href=\"#arrow-5cb2cd0950314536bf3ec50c792bf8b7-0-0\" class=\"displacy-label\" startOffset=\"50%\" side=\"left\" fill=\"currentColor\" text-anchor=\"middle\">advmod</textPath>\n",
              "    </text>\n",
              "    <path class=\"displacy-arrowhead\" d=\"M70,604.0 L62,592.0 78,592.0\" fill=\"currentColor\"/>\n",
              "</g>\n",
              "\n",
              "<g class=\"displacy-arrow\">\n",
              "    <path class=\"displacy-arc\" id=\"arrow-5cb2cd0950314536bf3ec50c792bf8b7-0-1\" stroke-width=\"2px\" d=\"M220,602.0 C220,527.0 315.0,527.0 315.0,602.0\" fill=\"none\" stroke=\"currentColor\"/>\n",
              "    <text dy=\"1.25em\" style=\"font-size: 0.8em; letter-spacing: 1px\">\n",
              "        <textPath xlink:href=\"#arrow-5cb2cd0950314536bf3ec50c792bf8b7-0-1\" class=\"displacy-label\" startOffset=\"50%\" side=\"left\" fill=\"currentColor\" text-anchor=\"middle\">nsubj</textPath>\n",
              "    </text>\n",
              "    <path class=\"displacy-arrowhead\" d=\"M220,604.0 L212,592.0 228,592.0\" fill=\"currentColor\"/>\n",
              "</g>\n",
              "\n",
              "<g class=\"displacy-arrow\">\n",
              "    <path class=\"displacy-arc\" id=\"arrow-5cb2cd0950314536bf3ec50c792bf8b7-0-2\" stroke-width=\"2px\" d=\"M370,602.0 C370,77.0 1845.0,77.0 1845.0,602.0\" fill=\"none\" stroke=\"currentColor\"/>\n",
              "    <text dy=\"1.25em\" style=\"font-size: 0.8em; letter-spacing: 1px\">\n",
              "        <textPath xlink:href=\"#arrow-5cb2cd0950314536bf3ec50c792bf8b7-0-2\" class=\"displacy-label\" startOffset=\"50%\" side=\"left\" fill=\"currentColor\" text-anchor=\"middle\">advcl</textPath>\n",
              "    </text>\n",
              "    <path class=\"displacy-arrowhead\" d=\"M370,604.0 L362,592.0 378,592.0\" fill=\"currentColor\"/>\n",
              "</g>\n",
              "\n",
              "<g class=\"displacy-arrow\">\n",
              "    <path class=\"displacy-arc\" id=\"arrow-5cb2cd0950314536bf3ec50c792bf8b7-0-3\" stroke-width=\"2px\" d=\"M370,602.0 C370,527.0 465.0,527.0 465.0,602.0\" fill=\"none\" stroke=\"currentColor\"/>\n",
              "    <text dy=\"1.25em\" style=\"font-size: 0.8em; letter-spacing: 1px\">\n",
              "        <textPath xlink:href=\"#arrow-5cb2cd0950314536bf3ec50c792bf8b7-0-3\" class=\"displacy-label\" startOffset=\"50%\" side=\"left\" fill=\"currentColor\" text-anchor=\"middle\">prep</textPath>\n",
              "    </text>\n",
              "    <path class=\"displacy-arrowhead\" d=\"M465.0,604.0 L473.0,592.0 457.0,592.0\" fill=\"currentColor\"/>\n",
              "</g>\n",
              "\n",
              "<g class=\"displacy-arrow\">\n",
              "    <path class=\"displacy-arc\" id=\"arrow-5cb2cd0950314536bf3ec50c792bf8b7-0-4\" stroke-width=\"2px\" d=\"M520,602.0 C520,527.0 615.0,527.0 615.0,602.0\" fill=\"none\" stroke=\"currentColor\"/>\n",
              "    <text dy=\"1.25em\" style=\"font-size: 0.8em; letter-spacing: 1px\">\n",
              "        <textPath xlink:href=\"#arrow-5cb2cd0950314536bf3ec50c792bf8b7-0-4\" class=\"displacy-label\" startOffset=\"50%\" side=\"left\" fill=\"currentColor\" text-anchor=\"middle\">pobj</textPath>\n",
              "    </text>\n",
              "    <path class=\"displacy-arrowhead\" d=\"M615.0,604.0 L623.0,592.0 607.0,592.0\" fill=\"currentColor\"/>\n",
              "</g>\n",
              "\n",
              "<g class=\"displacy-arrow\">\n",
              "    <path class=\"displacy-arc\" id=\"arrow-5cb2cd0950314536bf3ec50c792bf8b7-0-5\" stroke-width=\"2px\" d=\"M370,602.0 C370,377.0 775.0,377.0 775.0,602.0\" fill=\"none\" stroke=\"currentColor\"/>\n",
              "    <text dy=\"1.25em\" style=\"font-size: 0.8em; letter-spacing: 1px\">\n",
              "        <textPath xlink:href=\"#arrow-5cb2cd0950314536bf3ec50c792bf8b7-0-5\" class=\"displacy-label\" startOffset=\"50%\" side=\"left\" fill=\"currentColor\" text-anchor=\"middle\">cc</textPath>\n",
              "    </text>\n",
              "    <path class=\"displacy-arrowhead\" d=\"M775.0,604.0 L783.0,592.0 767.0,592.0\" fill=\"currentColor\"/>\n",
              "</g>\n",
              "\n",
              "<g class=\"displacy-arrow\">\n",
              "    <path class=\"displacy-arc\" id=\"arrow-5cb2cd0950314536bf3ec50c792bf8b7-0-6\" stroke-width=\"2px\" d=\"M970,602.0 C970,452.0 1220.0,452.0 1220.0,602.0\" fill=\"none\" stroke=\"currentColor\"/>\n",
              "    <text dy=\"1.25em\" style=\"font-size: 0.8em; letter-spacing: 1px\">\n",
              "        <textPath xlink:href=\"#arrow-5cb2cd0950314536bf3ec50c792bf8b7-0-6\" class=\"displacy-label\" startOffset=\"50%\" side=\"left\" fill=\"currentColor\" text-anchor=\"middle\">advmod</textPath>\n",
              "    </text>\n",
              "    <path class=\"displacy-arrowhead\" d=\"M970,604.0 L962,592.0 978,592.0\" fill=\"currentColor\"/>\n",
              "</g>\n",
              "\n",
              "<g class=\"displacy-arrow\">\n",
              "    <path class=\"displacy-arc\" id=\"arrow-5cb2cd0950314536bf3ec50c792bf8b7-0-7\" stroke-width=\"2px\" d=\"M1120,602.0 C1120,527.0 1215.0,527.0 1215.0,602.0\" fill=\"none\" stroke=\"currentColor\"/>\n",
              "    <text dy=\"1.25em\" style=\"font-size: 0.8em; letter-spacing: 1px\">\n",
              "        <textPath xlink:href=\"#arrow-5cb2cd0950314536bf3ec50c792bf8b7-0-7\" class=\"displacy-label\" startOffset=\"50%\" side=\"left\" fill=\"currentColor\" text-anchor=\"middle\">nsubj</textPath>\n",
              "    </text>\n",
              "    <path class=\"displacy-arrowhead\" d=\"M1120,604.0 L1112,592.0 1128,592.0\" fill=\"currentColor\"/>\n",
              "</g>\n",
              "\n",
              "<g class=\"displacy-arrow\">\n",
              "    <path class=\"displacy-arc\" id=\"arrow-5cb2cd0950314536bf3ec50c792bf8b7-0-8\" stroke-width=\"2px\" d=\"M370,602.0 C370,152.0 1240.0,152.0 1240.0,602.0\" fill=\"none\" stroke=\"currentColor\"/>\n",
              "    <text dy=\"1.25em\" style=\"font-size: 0.8em; letter-spacing: 1px\">\n",
              "        <textPath xlink:href=\"#arrow-5cb2cd0950314536bf3ec50c792bf8b7-0-8\" class=\"displacy-label\" startOffset=\"50%\" side=\"left\" fill=\"currentColor\" text-anchor=\"middle\">conj</textPath>\n",
              "    </text>\n",
              "    <path class=\"displacy-arrowhead\" d=\"M1240.0,604.0 L1248.0,592.0 1232.0,592.0\" fill=\"currentColor\"/>\n",
              "</g>\n",
              "\n",
              "<g class=\"displacy-arrow\">\n",
              "    <path class=\"displacy-arc\" id=\"arrow-5cb2cd0950314536bf3ec50c792bf8b7-0-9\" stroke-width=\"2px\" d=\"M1420,602.0 C1420,377.0 1825.0,377.0 1825.0,602.0\" fill=\"none\" stroke=\"currentColor\"/>\n",
              "    <text dy=\"1.25em\" style=\"font-size: 0.8em; letter-spacing: 1px\">\n",
              "        <textPath xlink:href=\"#arrow-5cb2cd0950314536bf3ec50c792bf8b7-0-9\" class=\"displacy-label\" startOffset=\"50%\" side=\"left\" fill=\"currentColor\" text-anchor=\"middle\">dobj</textPath>\n",
              "    </text>\n",
              "    <path class=\"displacy-arrowhead\" d=\"M1420,604.0 L1412,592.0 1428,592.0\" fill=\"currentColor\"/>\n",
              "</g>\n",
              "\n",
              "<g class=\"displacy-arrow\">\n",
              "    <path class=\"displacy-arc\" id=\"arrow-5cb2cd0950314536bf3ec50c792bf8b7-0-10\" stroke-width=\"2px\" d=\"M1570,602.0 C1570,452.0 1820.0,452.0 1820.0,602.0\" fill=\"none\" stroke=\"currentColor\"/>\n",
              "    <text dy=\"1.25em\" style=\"font-size: 0.8em; letter-spacing: 1px\">\n",
              "        <textPath xlink:href=\"#arrow-5cb2cd0950314536bf3ec50c792bf8b7-0-10\" class=\"displacy-label\" startOffset=\"50%\" side=\"left\" fill=\"currentColor\" text-anchor=\"middle\">aux</textPath>\n",
              "    </text>\n",
              "    <path class=\"displacy-arrowhead\" d=\"M1570,604.0 L1562,592.0 1578,592.0\" fill=\"currentColor\"/>\n",
              "</g>\n",
              "\n",
              "<g class=\"displacy-arrow\">\n",
              "    <path class=\"displacy-arc\" id=\"arrow-5cb2cd0950314536bf3ec50c792bf8b7-0-11\" stroke-width=\"2px\" d=\"M1720,602.0 C1720,527.0 1815.0,527.0 1815.0,602.0\" fill=\"none\" stroke=\"currentColor\"/>\n",
              "    <text dy=\"1.25em\" style=\"font-size: 0.8em; letter-spacing: 1px\">\n",
              "        <textPath xlink:href=\"#arrow-5cb2cd0950314536bf3ec50c792bf8b7-0-11\" class=\"displacy-label\" startOffset=\"50%\" side=\"left\" fill=\"currentColor\" text-anchor=\"middle\">nsubj</textPath>\n",
              "    </text>\n",
              "    <path class=\"displacy-arrowhead\" d=\"M1720,604.0 L1712,592.0 1728,592.0\" fill=\"currentColor\"/>\n",
              "</g>\n",
              "\n",
              "<g class=\"displacy-arrow\">\n",
              "    <path class=\"displacy-arc\" id=\"arrow-5cb2cd0950314536bf3ec50c792bf8b7-0-12\" stroke-width=\"2px\" d=\"M2020,602.0 C2020,452.0 2270.0,452.0 2270.0,602.0\" fill=\"none\" stroke=\"currentColor\"/>\n",
              "    <text dy=\"1.25em\" style=\"font-size: 0.8em; letter-spacing: 1px\">\n",
              "        <textPath xlink:href=\"#arrow-5cb2cd0950314536bf3ec50c792bf8b7-0-12\" class=\"displacy-label\" startOffset=\"50%\" side=\"left\" fill=\"currentColor\" text-anchor=\"middle\">aux</textPath>\n",
              "    </text>\n",
              "    <path class=\"displacy-arrowhead\" d=\"M2020,604.0 L2012,592.0 2028,592.0\" fill=\"currentColor\"/>\n",
              "</g>\n",
              "\n",
              "<g class=\"displacy-arrow\">\n",
              "    <path class=\"displacy-arc\" id=\"arrow-5cb2cd0950314536bf3ec50c792bf8b7-0-13\" stroke-width=\"2px\" d=\"M2170,602.0 C2170,527.0 2265.0,527.0 2265.0,602.0\" fill=\"none\" stroke=\"currentColor\"/>\n",
              "    <text dy=\"1.25em\" style=\"font-size: 0.8em; letter-spacing: 1px\">\n",
              "        <textPath xlink:href=\"#arrow-5cb2cd0950314536bf3ec50c792bf8b7-0-13\" class=\"displacy-label\" startOffset=\"50%\" side=\"left\" fill=\"currentColor\" text-anchor=\"middle\">nsubj</textPath>\n",
              "    </text>\n",
              "    <path class=\"displacy-arrowhead\" d=\"M2170,604.0 L2162,592.0 2178,592.0\" fill=\"currentColor\"/>\n",
              "</g>\n",
              "\n",
              "<g class=\"displacy-arrow\">\n",
              "    <path class=\"displacy-arc\" id=\"arrow-5cb2cd0950314536bf3ec50c792bf8b7-0-14\" stroke-width=\"2px\" d=\"M2470,602.0 C2470,452.0 2720.0,452.0 2720.0,602.0\" fill=\"none\" stroke=\"currentColor\"/>\n",
              "    <text dy=\"1.25em\" style=\"font-size: 0.8em; letter-spacing: 1px\">\n",
              "        <textPath xlink:href=\"#arrow-5cb2cd0950314536bf3ec50c792bf8b7-0-14\" class=\"displacy-label\" startOffset=\"50%\" side=\"left\" fill=\"currentColor\" text-anchor=\"middle\">amod</textPath>\n",
              "    </text>\n",
              "    <path class=\"displacy-arrowhead\" d=\"M2470,604.0 L2462,592.0 2478,592.0\" fill=\"currentColor\"/>\n",
              "</g>\n",
              "\n",
              "<g class=\"displacy-arrow\">\n",
              "    <path class=\"displacy-arc\" id=\"arrow-5cb2cd0950314536bf3ec50c792bf8b7-0-15\" stroke-width=\"2px\" d=\"M2620,602.0 C2620,527.0 2715.0,527.0 2715.0,602.0\" fill=\"none\" stroke=\"currentColor\"/>\n",
              "    <text dy=\"1.25em\" style=\"font-size: 0.8em; letter-spacing: 1px\">\n",
              "        <textPath xlink:href=\"#arrow-5cb2cd0950314536bf3ec50c792bf8b7-0-15\" class=\"displacy-label\" startOffset=\"50%\" side=\"left\" fill=\"currentColor\" text-anchor=\"middle\">amod</textPath>\n",
              "    </text>\n",
              "    <path class=\"displacy-arrowhead\" d=\"M2620,604.0 L2612,592.0 2628,592.0\" fill=\"currentColor\"/>\n",
              "</g>\n",
              "\n",
              "<g class=\"displacy-arrow\">\n",
              "    <path class=\"displacy-arc\" id=\"arrow-5cb2cd0950314536bf3ec50c792bf8b7-0-16\" stroke-width=\"2px\" d=\"M2320,602.0 C2320,377.0 2725.0,377.0 2725.0,602.0\" fill=\"none\" stroke=\"currentColor\"/>\n",
              "    <text dy=\"1.25em\" style=\"font-size: 0.8em; letter-spacing: 1px\">\n",
              "        <textPath xlink:href=\"#arrow-5cb2cd0950314536bf3ec50c792bf8b7-0-16\" class=\"displacy-label\" startOffset=\"50%\" side=\"left\" fill=\"currentColor\" text-anchor=\"middle\">dobj</textPath>\n",
              "    </text>\n",
              "    <path class=\"displacy-arrowhead\" d=\"M2725.0,604.0 L2733.0,592.0 2717.0,592.0\" fill=\"currentColor\"/>\n",
              "</g>\n",
              "\n",
              "<g class=\"displacy-arrow\">\n",
              "    <path class=\"displacy-arc\" id=\"arrow-5cb2cd0950314536bf3ec50c792bf8b7-0-17\" stroke-width=\"2px\" d=\"M2920,602.0 C2920,527.0 3015.0,527.0 3015.0,602.0\" fill=\"none\" stroke=\"currentColor\"/>\n",
              "    <text dy=\"1.25em\" style=\"font-size: 0.8em; letter-spacing: 1px\">\n",
              "        <textPath xlink:href=\"#arrow-5cb2cd0950314536bf3ec50c792bf8b7-0-17\" class=\"displacy-label\" startOffset=\"50%\" side=\"left\" fill=\"currentColor\" text-anchor=\"middle\">amod</textPath>\n",
              "    </text>\n",
              "    <path class=\"displacy-arrowhead\" d=\"M2920,604.0 L2912,592.0 2928,592.0\" fill=\"currentColor\"/>\n",
              "</g>\n",
              "\n",
              "<g class=\"displacy-arrow\">\n",
              "    <path class=\"displacy-arc\" id=\"arrow-5cb2cd0950314536bf3ec50c792bf8b7-0-18\" stroke-width=\"2px\" d=\"M2770,602.0 C2770,452.0 3020.0,452.0 3020.0,602.0\" fill=\"none\" stroke=\"currentColor\"/>\n",
              "    <text dy=\"1.25em\" style=\"font-size: 0.8em; letter-spacing: 1px\">\n",
              "        <textPath xlink:href=\"#arrow-5cb2cd0950314536bf3ec50c792bf8b7-0-18\" class=\"displacy-label\" startOffset=\"50%\" side=\"left\" fill=\"currentColor\" text-anchor=\"middle\">conj</textPath>\n",
              "    </text>\n",
              "    <path class=\"displacy-arrowhead\" d=\"M3020.0,604.0 L3028.0,592.0 3012.0,592.0\" fill=\"currentColor\"/>\n",
              "</g>\n",
              "\n",
              "<g class=\"displacy-arrow\">\n",
              "    <path class=\"displacy-arc\" id=\"arrow-5cb2cd0950314536bf3ec50c792bf8b7-0-19\" stroke-width=\"2px\" d=\"M3070,602.0 C3070,527.0 3165.0,527.0 3165.0,602.0\" fill=\"none\" stroke=\"currentColor\"/>\n",
              "    <text dy=\"1.25em\" style=\"font-size: 0.8em; letter-spacing: 1px\">\n",
              "        <textPath xlink:href=\"#arrow-5cb2cd0950314536bf3ec50c792bf8b7-0-19\" class=\"displacy-label\" startOffset=\"50%\" side=\"left\" fill=\"currentColor\" text-anchor=\"middle\">cc</textPath>\n",
              "    </text>\n",
              "    <path class=\"displacy-arrowhead\" d=\"M3165.0,604.0 L3173.0,592.0 3157.0,592.0\" fill=\"currentColor\"/>\n",
              "</g>\n",
              "\n",
              "<g class=\"displacy-arrow\">\n",
              "    <path class=\"displacy-arc\" id=\"arrow-5cb2cd0950314536bf3ec50c792bf8b7-0-20\" stroke-width=\"2px\" d=\"M3370,602.0 C3370,527.0 3465.0,527.0 3465.0,602.0\" fill=\"none\" stroke=\"currentColor\"/>\n",
              "    <text dy=\"1.25em\" style=\"font-size: 0.8em; letter-spacing: 1px\">\n",
              "        <textPath xlink:href=\"#arrow-5cb2cd0950314536bf3ec50c792bf8b7-0-20\" class=\"displacy-label\" startOffset=\"50%\" side=\"left\" fill=\"currentColor\" text-anchor=\"middle\">amod</textPath>\n",
              "    </text>\n",
              "    <path class=\"displacy-arrowhead\" d=\"M3370,604.0 L3362,592.0 3378,592.0\" fill=\"currentColor\"/>\n",
              "</g>\n",
              "\n",
              "<g class=\"displacy-arrow\">\n",
              "    <path class=\"displacy-arc\" id=\"arrow-5cb2cd0950314536bf3ec50c792bf8b7-0-21\" stroke-width=\"2px\" d=\"M3070,602.0 C3070,377.0 3475.0,377.0 3475.0,602.0\" fill=\"none\" stroke=\"currentColor\"/>\n",
              "    <text dy=\"1.25em\" style=\"font-size: 0.8em; letter-spacing: 1px\">\n",
              "        <textPath xlink:href=\"#arrow-5cb2cd0950314536bf3ec50c792bf8b7-0-21\" class=\"displacy-label\" startOffset=\"50%\" side=\"left\" fill=\"currentColor\" text-anchor=\"middle\">conj</textPath>\n",
              "    </text>\n",
              "    <path class=\"displacy-arrowhead\" d=\"M3475.0,604.0 L3483.0,592.0 3467.0,592.0\" fill=\"currentColor\"/>\n",
              "</g>\n",
              "\n",
              "<g class=\"displacy-arrow\">\n",
              "    <path class=\"displacy-arc\" id=\"arrow-5cb2cd0950314536bf3ec50c792bf8b7-0-22\" stroke-width=\"2px\" d=\"M3670,602.0 C3670,527.0 3765.0,527.0 3765.0,602.0\" fill=\"none\" stroke=\"currentColor\"/>\n",
              "    <text dy=\"1.25em\" style=\"font-size: 0.8em; letter-spacing: 1px\">\n",
              "        <textPath xlink:href=\"#arrow-5cb2cd0950314536bf3ec50c792bf8b7-0-22\" class=\"displacy-label\" startOffset=\"50%\" side=\"left\" fill=\"currentColor\" text-anchor=\"middle\">nsubj</textPath>\n",
              "    </text>\n",
              "    <path class=\"displacy-arrowhead\" d=\"M3670,604.0 L3662,592.0 3678,592.0\" fill=\"currentColor\"/>\n",
              "</g>\n",
              "\n",
              "<g class=\"displacy-arrow\">\n",
              "    <path class=\"displacy-arc\" id=\"arrow-5cb2cd0950314536bf3ec50c792bf8b7-0-23\" stroke-width=\"2px\" d=\"M3820,602.0 C3820,527.0 3915.0,527.0 3915.0,602.0\" fill=\"none\" stroke=\"currentColor\"/>\n",
              "    <text dy=\"1.25em\" style=\"font-size: 0.8em; letter-spacing: 1px\">\n",
              "        <textPath xlink:href=\"#arrow-5cb2cd0950314536bf3ec50c792bf8b7-0-23\" class=\"displacy-label\" startOffset=\"50%\" side=\"left\" fill=\"currentColor\" text-anchor=\"middle\">prep</textPath>\n",
              "    </text>\n",
              "    <path class=\"displacy-arrowhead\" d=\"M3915.0,604.0 L3923.0,592.0 3907.0,592.0\" fill=\"currentColor\"/>\n",
              "</g>\n",
              "\n",
              "<g class=\"displacy-arrow\">\n",
              "    <path class=\"displacy-arc\" id=\"arrow-5cb2cd0950314536bf3ec50c792bf8b7-0-24\" stroke-width=\"2px\" d=\"M4120,602.0 C4120,527.0 4215.0,527.0 4215.0,602.0\" fill=\"none\" stroke=\"currentColor\"/>\n",
              "    <text dy=\"1.25em\" style=\"font-size: 0.8em; letter-spacing: 1px\">\n",
              "        <textPath xlink:href=\"#arrow-5cb2cd0950314536bf3ec50c792bf8b7-0-24\" class=\"displacy-label\" startOffset=\"50%\" side=\"left\" fill=\"currentColor\" text-anchor=\"middle\">det</textPath>\n",
              "    </text>\n",
              "    <path class=\"displacy-arrowhead\" d=\"M4120,604.0 L4112,592.0 4128,592.0\" fill=\"currentColor\"/>\n",
              "</g>\n",
              "\n",
              "<g class=\"displacy-arrow\">\n",
              "    <path class=\"displacy-arc\" id=\"arrow-5cb2cd0950314536bf3ec50c792bf8b7-0-25\" stroke-width=\"2px\" d=\"M3970,602.0 C3970,452.0 4220.0,452.0 4220.0,602.0\" fill=\"none\" stroke=\"currentColor\"/>\n",
              "    <text dy=\"1.25em\" style=\"font-size: 0.8em; letter-spacing: 1px\">\n",
              "        <textPath xlink:href=\"#arrow-5cb2cd0950314536bf3ec50c792bf8b7-0-25\" class=\"displacy-label\" startOffset=\"50%\" side=\"left\" fill=\"currentColor\" text-anchor=\"middle\">pobj</textPath>\n",
              "    </text>\n",
              "    <path class=\"displacy-arrowhead\" d=\"M4220.0,604.0 L4228.0,592.0 4212.0,592.0\" fill=\"currentColor\"/>\n",
              "</g>\n",
              "\n",
              "<g class=\"displacy-arrow\">\n",
              "    <path class=\"displacy-arc\" id=\"arrow-5cb2cd0950314536bf3ec50c792bf8b7-0-26\" stroke-width=\"2px\" d=\"M3820,602.0 C3820,302.0 4380.0,302.0 4380.0,602.0\" fill=\"none\" stroke=\"currentColor\"/>\n",
              "    <text dy=\"1.25em\" style=\"font-size: 0.8em; letter-spacing: 1px\">\n",
              "        <textPath xlink:href=\"#arrow-5cb2cd0950314536bf3ec50c792bf8b7-0-26\" class=\"displacy-label\" startOffset=\"50%\" side=\"left\" fill=\"currentColor\" text-anchor=\"middle\">intj</textPath>\n",
              "    </text>\n",
              "    <path class=\"displacy-arrowhead\" d=\"M4380.0,604.0 L4388.0,592.0 4372.0,592.0\" fill=\"currentColor\"/>\n",
              "</g>\n",
              "\n",
              "<g class=\"displacy-arrow\">\n",
              "    <path class=\"displacy-arc\" id=\"arrow-5cb2cd0950314536bf3ec50c792bf8b7-0-27\" stroke-width=\"2px\" d=\"M4570,602.0 C4570,377.0 4975.0,377.0 4975.0,602.0\" fill=\"none\" stroke=\"currentColor\"/>\n",
              "    <text dy=\"1.25em\" style=\"font-size: 0.8em; letter-spacing: 1px\">\n",
              "        <textPath xlink:href=\"#arrow-5cb2cd0950314536bf3ec50c792bf8b7-0-27\" class=\"displacy-label\" startOffset=\"50%\" side=\"left\" fill=\"currentColor\" text-anchor=\"middle\">cc</textPath>\n",
              "    </text>\n",
              "    <path class=\"displacy-arrowhead\" d=\"M4570,604.0 L4562,592.0 4578,592.0\" fill=\"currentColor\"/>\n",
              "</g>\n",
              "\n",
              "<g class=\"displacy-arrow\">\n",
              "    <path class=\"displacy-arc\" id=\"arrow-5cb2cd0950314536bf3ec50c792bf8b7-0-28\" stroke-width=\"2px\" d=\"M4720,602.0 C4720,452.0 4970.0,452.0 4970.0,602.0\" fill=\"none\" stroke=\"currentColor\"/>\n",
              "    <text dy=\"1.25em\" style=\"font-size: 0.8em; letter-spacing: 1px\">\n",
              "        <textPath xlink:href=\"#arrow-5cb2cd0950314536bf3ec50c792bf8b7-0-28\" class=\"displacy-label\" startOffset=\"50%\" side=\"left\" fill=\"currentColor\" text-anchor=\"middle\">aux</textPath>\n",
              "    </text>\n",
              "    <path class=\"displacy-arrowhead\" d=\"M4720,604.0 L4712,592.0 4728,592.0\" fill=\"currentColor\"/>\n",
              "</g>\n",
              "\n",
              "<g class=\"displacy-arrow\">\n",
              "    <path class=\"displacy-arc\" id=\"arrow-5cb2cd0950314536bf3ec50c792bf8b7-0-29\" stroke-width=\"2px\" d=\"M4870,602.0 C4870,527.0 4965.0,527.0 4965.0,602.0\" fill=\"none\" stroke=\"currentColor\"/>\n",
              "    <text dy=\"1.25em\" style=\"font-size: 0.8em; letter-spacing: 1px\">\n",
              "        <textPath xlink:href=\"#arrow-5cb2cd0950314536bf3ec50c792bf8b7-0-29\" class=\"displacy-label\" startOffset=\"50%\" side=\"left\" fill=\"currentColor\" text-anchor=\"middle\">nsubj</textPath>\n",
              "    </text>\n",
              "    <path class=\"displacy-arrowhead\" d=\"M4870,604.0 L4862,592.0 4878,592.0\" fill=\"currentColor\"/>\n",
              "</g>\n",
              "\n",
              "<g class=\"displacy-arrow\">\n",
              "    <path class=\"displacy-arc\" id=\"arrow-5cb2cd0950314536bf3ec50c792bf8b7-0-30\" stroke-width=\"2px\" d=\"M5170,602.0 C5170,377.0 5575.0,377.0 5575.0,602.0\" fill=\"none\" stroke=\"currentColor\"/>\n",
              "    <text dy=\"1.25em\" style=\"font-size: 0.8em; letter-spacing: 1px\">\n",
              "        <textPath xlink:href=\"#arrow-5cb2cd0950314536bf3ec50c792bf8b7-0-30\" class=\"displacy-label\" startOffset=\"50%\" side=\"left\" fill=\"currentColor\" text-anchor=\"middle\">mark</textPath>\n",
              "    </text>\n",
              "    <path class=\"displacy-arrowhead\" d=\"M5170,604.0 L5162,592.0 5178,592.0\" fill=\"currentColor\"/>\n",
              "</g>\n",
              "\n",
              "<g class=\"displacy-arrow\">\n",
              "    <path class=\"displacy-arc\" id=\"arrow-5cb2cd0950314536bf3ec50c792bf8b7-0-31\" stroke-width=\"2px\" d=\"M5320,602.0 C5320,527.0 5415.0,527.0 5415.0,602.0\" fill=\"none\" stroke=\"currentColor\"/>\n",
              "    <text dy=\"1.25em\" style=\"font-size: 0.8em; letter-spacing: 1px\">\n",
              "        <textPath xlink:href=\"#arrow-5cb2cd0950314536bf3ec50c792bf8b7-0-31\" class=\"displacy-label\" startOffset=\"50%\" side=\"left\" fill=\"currentColor\" text-anchor=\"middle\">det</textPath>\n",
              "    </text>\n",
              "    <path class=\"displacy-arrowhead\" d=\"M5320,604.0 L5312,592.0 5328,592.0\" fill=\"currentColor\"/>\n",
              "</g>\n",
              "\n",
              "<g class=\"displacy-arrow\">\n",
              "    <path class=\"displacy-arc\" id=\"arrow-5cb2cd0950314536bf3ec50c792bf8b7-0-32\" stroke-width=\"2px\" d=\"M5470,602.0 C5470,527.0 5565.0,527.0 5565.0,602.0\" fill=\"none\" stroke=\"currentColor\"/>\n",
              "    <text dy=\"1.25em\" style=\"font-size: 0.8em; letter-spacing: 1px\">\n",
              "        <textPath xlink:href=\"#arrow-5cb2cd0950314536bf3ec50c792bf8b7-0-32\" class=\"displacy-label\" startOffset=\"50%\" side=\"left\" fill=\"currentColor\" text-anchor=\"middle\">nsubj</textPath>\n",
              "    </text>\n",
              "    <path class=\"displacy-arrowhead\" d=\"M5470,604.0 L5462,592.0 5478,592.0\" fill=\"currentColor\"/>\n",
              "</g>\n",
              "\n",
              "<g class=\"displacy-arrow\">\n",
              "    <path class=\"displacy-arc\" id=\"arrow-5cb2cd0950314536bf3ec50c792bf8b7-0-33\" stroke-width=\"2px\" d=\"M5020,602.0 C5020,302.0 5580.0,302.0 5580.0,602.0\" fill=\"none\" stroke=\"currentColor\"/>\n",
              "    <text dy=\"1.25em\" style=\"font-size: 0.8em; letter-spacing: 1px\">\n",
              "        <textPath xlink:href=\"#arrow-5cb2cd0950314536bf3ec50c792bf8b7-0-33\" class=\"displacy-label\" startOffset=\"50%\" side=\"left\" fill=\"currentColor\" text-anchor=\"middle\">ccomp</textPath>\n",
              "    </text>\n",
              "    <path class=\"displacy-arrowhead\" d=\"M5580.0,604.0 L5588.0,592.0 5572.0,592.0\" fill=\"currentColor\"/>\n",
              "</g>\n",
              "\n",
              "<g class=\"displacy-arrow\">\n",
              "    <path class=\"displacy-arc\" id=\"arrow-5cb2cd0950314536bf3ec50c792bf8b7-0-34\" stroke-width=\"2px\" d=\"M5620,602.0 C5620,527.0 5715.0,527.0 5715.0,602.0\" fill=\"none\" stroke=\"currentColor\"/>\n",
              "    <text dy=\"1.25em\" style=\"font-size: 0.8em; letter-spacing: 1px\">\n",
              "        <textPath xlink:href=\"#arrow-5cb2cd0950314536bf3ec50c792bf8b7-0-34\" class=\"displacy-label\" startOffset=\"50%\" side=\"left\" fill=\"currentColor\" text-anchor=\"middle\">prep</textPath>\n",
              "    </text>\n",
              "    <path class=\"displacy-arrowhead\" d=\"M5715.0,604.0 L5723.0,592.0 5707.0,592.0\" fill=\"currentColor\"/>\n",
              "</g>\n",
              "\n",
              "<g class=\"displacy-arrow\">\n",
              "    <path class=\"displacy-arc\" id=\"arrow-5cb2cd0950314536bf3ec50c792bf8b7-0-35\" stroke-width=\"2px\" d=\"M5920,602.0 C5920,527.0 6015.0,527.0 6015.0,602.0\" fill=\"none\" stroke=\"currentColor\"/>\n",
              "    <text dy=\"1.25em\" style=\"font-size: 0.8em; letter-spacing: 1px\">\n",
              "        <textPath xlink:href=\"#arrow-5cb2cd0950314536bf3ec50c792bf8b7-0-35\" class=\"displacy-label\" startOffset=\"50%\" side=\"left\" fill=\"currentColor\" text-anchor=\"middle\">det</textPath>\n",
              "    </text>\n",
              "    <path class=\"displacy-arrowhead\" d=\"M5920,604.0 L5912,592.0 5928,592.0\" fill=\"currentColor\"/>\n",
              "</g>\n",
              "\n",
              "<g class=\"displacy-arrow\">\n",
              "    <path class=\"displacy-arc\" id=\"arrow-5cb2cd0950314536bf3ec50c792bf8b7-0-36\" stroke-width=\"2px\" d=\"M5770,602.0 C5770,452.0 6020.0,452.0 6020.0,602.0\" fill=\"none\" stroke=\"currentColor\"/>\n",
              "    <text dy=\"1.25em\" style=\"font-size: 0.8em; letter-spacing: 1px\">\n",
              "        <textPath xlink:href=\"#arrow-5cb2cd0950314536bf3ec50c792bf8b7-0-36\" class=\"displacy-label\" startOffset=\"50%\" side=\"left\" fill=\"currentColor\" text-anchor=\"middle\">pobj</textPath>\n",
              "    </text>\n",
              "    <path class=\"displacy-arrowhead\" d=\"M6020.0,604.0 L6028.0,592.0 6012.0,592.0\" fill=\"currentColor\"/>\n",
              "</g>\n",
              "\n",
              "<g class=\"displacy-arrow\">\n",
              "    <path class=\"displacy-arc\" id=\"arrow-5cb2cd0950314536bf3ec50c792bf8b7-0-37\" stroke-width=\"2px\" d=\"M6070,602.0 C6070,527.0 6165.0,527.0 6165.0,602.0\" fill=\"none\" stroke=\"currentColor\"/>\n",
              "    <text dy=\"1.25em\" style=\"font-size: 0.8em; letter-spacing: 1px\">\n",
              "        <textPath xlink:href=\"#arrow-5cb2cd0950314536bf3ec50c792bf8b7-0-37\" class=\"displacy-label\" startOffset=\"50%\" side=\"left\" fill=\"currentColor\" text-anchor=\"middle\">cc</textPath>\n",
              "    </text>\n",
              "    <path class=\"displacy-arrowhead\" d=\"M6165.0,604.0 L6173.0,592.0 6157.0,592.0\" fill=\"currentColor\"/>\n",
              "</g>\n",
              "\n",
              "<g class=\"displacy-arrow\">\n",
              "    <path class=\"displacy-arc\" id=\"arrow-5cb2cd0950314536bf3ec50c792bf8b7-0-38\" stroke-width=\"2px\" d=\"M6370,602.0 C6370,527.0 6465.0,527.0 6465.0,602.0\" fill=\"none\" stroke=\"currentColor\"/>\n",
              "    <text dy=\"1.25em\" style=\"font-size: 0.8em; letter-spacing: 1px\">\n",
              "        <textPath xlink:href=\"#arrow-5cb2cd0950314536bf3ec50c792bf8b7-0-38\" class=\"displacy-label\" startOffset=\"50%\" side=\"left\" fill=\"currentColor\" text-anchor=\"middle\">det</textPath>\n",
              "    </text>\n",
              "    <path class=\"displacy-arrowhead\" d=\"M6370,604.0 L6362,592.0 6378,592.0\" fill=\"currentColor\"/>\n",
              "</g>\n",
              "\n",
              "<g class=\"displacy-arrow\">\n",
              "    <path class=\"displacy-arc\" id=\"arrow-5cb2cd0950314536bf3ec50c792bf8b7-0-39\" stroke-width=\"2px\" d=\"M6070,602.0 C6070,377.0 6475.0,377.0 6475.0,602.0\" fill=\"none\" stroke=\"currentColor\"/>\n",
              "    <text dy=\"1.25em\" style=\"font-size: 0.8em; letter-spacing: 1px\">\n",
              "        <textPath xlink:href=\"#arrow-5cb2cd0950314536bf3ec50c792bf8b7-0-39\" class=\"displacy-label\" startOffset=\"50%\" side=\"left\" fill=\"currentColor\" text-anchor=\"middle\">conj</textPath>\n",
              "    </text>\n",
              "    <path class=\"displacy-arrowhead\" d=\"M6475.0,604.0 L6483.0,592.0 6467.0,592.0\" fill=\"currentColor\"/>\n",
              "</g>\n",
              "\n",
              "<g class=\"displacy-arrow\">\n",
              "    <path class=\"displacy-arc\" id=\"arrow-5cb2cd0950314536bf3ec50c792bf8b7-0-40\" stroke-width=\"2px\" d=\"M6520,602.0 C6520,527.0 6615.0,527.0 6615.0,602.0\" fill=\"none\" stroke=\"currentColor\"/>\n",
              "    <text dy=\"1.25em\" style=\"font-size: 0.8em; letter-spacing: 1px\">\n",
              "        <textPath xlink:href=\"#arrow-5cb2cd0950314536bf3ec50c792bf8b7-0-40\" class=\"displacy-label\" startOffset=\"50%\" side=\"left\" fill=\"currentColor\" text-anchor=\"middle\">prep</textPath>\n",
              "    </text>\n",
              "    <path class=\"displacy-arrowhead\" d=\"M6615.0,604.0 L6623.0,592.0 6607.0,592.0\" fill=\"currentColor\"/>\n",
              "</g>\n",
              "\n",
              "<g class=\"displacy-arrow\">\n",
              "    <path class=\"displacy-arc\" id=\"arrow-5cb2cd0950314536bf3ec50c792bf8b7-0-41\" stroke-width=\"2px\" d=\"M6820,602.0 C6820,302.0 7380.0,302.0 7380.0,602.0\" fill=\"none\" stroke=\"currentColor\"/>\n",
              "    <text dy=\"1.25em\" style=\"font-size: 0.8em; letter-spacing: 1px\">\n",
              "        <textPath xlink:href=\"#arrow-5cb2cd0950314536bf3ec50c792bf8b7-0-41\" class=\"displacy-label\" startOffset=\"50%\" side=\"left\" fill=\"currentColor\" text-anchor=\"middle\">det</textPath>\n",
              "    </text>\n",
              "    <path class=\"displacy-arrowhead\" d=\"M6820,604.0 L6812,592.0 6828,592.0\" fill=\"currentColor\"/>\n",
              "</g>\n",
              "\n",
              "<g class=\"displacy-arrow\">\n",
              "    <path class=\"displacy-arc\" id=\"arrow-5cb2cd0950314536bf3ec50c792bf8b7-0-42\" stroke-width=\"2px\" d=\"M6970,602.0 C6970,377.0 7375.0,377.0 7375.0,602.0\" fill=\"none\" stroke=\"currentColor\"/>\n",
              "    <text dy=\"1.25em\" style=\"font-size: 0.8em; letter-spacing: 1px\">\n",
              "        <textPath xlink:href=\"#arrow-5cb2cd0950314536bf3ec50c792bf8b7-0-42\" class=\"displacy-label\" startOffset=\"50%\" side=\"left\" fill=\"currentColor\" text-anchor=\"middle\">nmod</textPath>\n",
              "    </text>\n",
              "    <path class=\"displacy-arrowhead\" d=\"M6970,604.0 L6962,592.0 6978,592.0\" fill=\"currentColor\"/>\n",
              "</g>\n",
              "\n",
              "<g class=\"displacy-arrow\">\n",
              "    <path class=\"displacy-arc\" id=\"arrow-5cb2cd0950314536bf3ec50c792bf8b7-0-43\" stroke-width=\"2px\" d=\"M6970,602.0 C6970,527.0 7065.0,527.0 7065.0,602.0\" fill=\"none\" stroke=\"currentColor\"/>\n",
              "    <text dy=\"1.25em\" style=\"font-size: 0.8em; letter-spacing: 1px\">\n",
              "        <textPath xlink:href=\"#arrow-5cb2cd0950314536bf3ec50c792bf8b7-0-43\" class=\"displacy-label\" startOffset=\"50%\" side=\"left\" fill=\"currentColor\" text-anchor=\"middle\">cc</textPath>\n",
              "    </text>\n",
              "    <path class=\"displacy-arrowhead\" d=\"M7065.0,604.0 L7073.0,592.0 7057.0,592.0\" fill=\"currentColor\"/>\n",
              "</g>\n",
              "\n",
              "<g class=\"displacy-arrow\">\n",
              "    <path class=\"displacy-arc\" id=\"arrow-5cb2cd0950314536bf3ec50c792bf8b7-0-44\" stroke-width=\"2px\" d=\"M6970,602.0 C6970,452.0 7220.0,452.0 7220.0,602.0\" fill=\"none\" stroke=\"currentColor\"/>\n",
              "    <text dy=\"1.25em\" style=\"font-size: 0.8em; letter-spacing: 1px\">\n",
              "        <textPath xlink:href=\"#arrow-5cb2cd0950314536bf3ec50c792bf8b7-0-44\" class=\"displacy-label\" startOffset=\"50%\" side=\"left\" fill=\"currentColor\" text-anchor=\"middle\">conj</textPath>\n",
              "    </text>\n",
              "    <path class=\"displacy-arrowhead\" d=\"M7220.0,604.0 L7228.0,592.0 7212.0,592.0\" fill=\"currentColor\"/>\n",
              "</g>\n",
              "\n",
              "<g class=\"displacy-arrow\">\n",
              "    <path class=\"displacy-arc\" id=\"arrow-5cb2cd0950314536bf3ec50c792bf8b7-0-45\" stroke-width=\"2px\" d=\"M5020,602.0 C5020,2.0 7400.0,2.0 7400.0,602.0\" fill=\"none\" stroke=\"currentColor\"/>\n",
              "    <text dy=\"1.25em\" style=\"font-size: 0.8em; letter-spacing: 1px\">\n",
              "        <textPath xlink:href=\"#arrow-5cb2cd0950314536bf3ec50c792bf8b7-0-45\" class=\"displacy-label\" startOffset=\"50%\" side=\"left\" fill=\"currentColor\" text-anchor=\"middle\">punct</textPath>\n",
              "    </text>\n",
              "    <path class=\"displacy-arrowhead\" d=\"M7400.0,604.0 L7408.0,592.0 7392.0,592.0\" fill=\"currentColor\"/>\n",
              "</g>\n",
              "\n",
              "<g class=\"displacy-arrow\">\n",
              "    <path class=\"displacy-arc\" id=\"arrow-5cb2cd0950314536bf3ec50c792bf8b7-0-46\" stroke-width=\"2px\" d=\"M7420,602.0 C7420,527.0 7515.0,527.0 7515.0,602.0\" fill=\"none\" stroke=\"currentColor\"/>\n",
              "    <text dy=\"1.25em\" style=\"font-size: 0.8em; letter-spacing: 1px\">\n",
              "        <textPath xlink:href=\"#arrow-5cb2cd0950314536bf3ec50c792bf8b7-0-46\" class=\"displacy-label\" startOffset=\"50%\" side=\"left\" fill=\"currentColor\" text-anchor=\"middle\"></textPath>\n",
              "    </text>\n",
              "    <path class=\"displacy-arrowhead\" d=\"M7515.0,604.0 L7523.0,592.0 7507.0,592.0\" fill=\"currentColor\"/>\n",
              "</g>\n",
              "\n",
              "<g class=\"displacy-arrow\">\n",
              "    <path class=\"displacy-arc\" id=\"arrow-5cb2cd0950314536bf3ec50c792bf8b7-0-47\" stroke-width=\"2px\" d=\"M7720,602.0 C7720,527.0 7815.0,527.0 7815.0,602.0\" fill=\"none\" stroke=\"currentColor\"/>\n",
              "    <text dy=\"1.25em\" style=\"font-size: 0.8em; letter-spacing: 1px\">\n",
              "        <textPath xlink:href=\"#arrow-5cb2cd0950314536bf3ec50c792bf8b7-0-47\" class=\"displacy-label\" startOffset=\"50%\" side=\"left\" fill=\"currentColor\" text-anchor=\"middle\">nsubj</textPath>\n",
              "    </text>\n",
              "    <path class=\"displacy-arrowhead\" d=\"M7720,604.0 L7712,592.0 7728,592.0\" fill=\"currentColor\"/>\n",
              "</g>\n",
              "\n",
              "<g class=\"displacy-arrow\">\n",
              "    <path class=\"displacy-arc\" id=\"arrow-5cb2cd0950314536bf3ec50c792bf8b7-0-48\" stroke-width=\"2px\" d=\"M7870,602.0 C7870,527.0 7965.0,527.0 7965.0,602.0\" fill=\"none\" stroke=\"currentColor\"/>\n",
              "    <text dy=\"1.25em\" style=\"font-size: 0.8em; letter-spacing: 1px\">\n",
              "        <textPath xlink:href=\"#arrow-5cb2cd0950314536bf3ec50c792bf8b7-0-48\" class=\"displacy-label\" startOffset=\"50%\" side=\"left\" fill=\"currentColor\" text-anchor=\"middle\">amod</textPath>\n",
              "    </text>\n",
              "    <path class=\"displacy-arrowhead\" d=\"M7870,604.0 L7862,592.0 7878,592.0\" fill=\"currentColor\"/>\n",
              "</g>\n",
              "\n",
              "<g class=\"displacy-arrow\">\n",
              "    <path class=\"displacy-arc\" id=\"arrow-5cb2cd0950314536bf3ec50c792bf8b7-0-49\" stroke-width=\"2px\" d=\"M8020,602.0 C8020,527.0 8115.0,527.0 8115.0,602.0\" fill=\"none\" stroke=\"currentColor\"/>\n",
              "    <text dy=\"1.25em\" style=\"font-size: 0.8em; letter-spacing: 1px\">\n",
              "        <textPath xlink:href=\"#arrow-5cb2cd0950314536bf3ec50c792bf8b7-0-49\" class=\"displacy-label\" startOffset=\"50%\" side=\"left\" fill=\"currentColor\" text-anchor=\"middle\">advmod</textPath>\n",
              "    </text>\n",
              "    <path class=\"displacy-arrowhead\" d=\"M8115.0,604.0 L8123.0,592.0 8107.0,592.0\" fill=\"currentColor\"/>\n",
              "</g>\n",
              "\n",
              "<g class=\"displacy-arrow\">\n",
              "    <path class=\"displacy-arc\" id=\"arrow-5cb2cd0950314536bf3ec50c792bf8b7-0-50\" stroke-width=\"2px\" d=\"M8320,602.0 C8320,527.0 8415.0,527.0 8415.0,602.0\" fill=\"none\" stroke=\"currentColor\"/>\n",
              "    <text dy=\"1.25em\" style=\"font-size: 0.8em; letter-spacing: 1px\">\n",
              "        <textPath xlink:href=\"#arrow-5cb2cd0950314536bf3ec50c792bf8b7-0-50\" class=\"displacy-label\" startOffset=\"50%\" side=\"left\" fill=\"currentColor\" text-anchor=\"middle\">nsubj</textPath>\n",
              "    </text>\n",
              "    <path class=\"displacy-arrowhead\" d=\"M8320,604.0 L8312,592.0 8328,592.0\" fill=\"currentColor\"/>\n",
              "</g>\n",
              "\n",
              "<g class=\"displacy-arrow\">\n",
              "    <path class=\"displacy-arc\" id=\"arrow-5cb2cd0950314536bf3ec50c792bf8b7-0-51\" stroke-width=\"2px\" d=\"M8620,602.0 C8620,527.0 8715.0,527.0 8715.0,602.0\" fill=\"none\" stroke=\"currentColor\"/>\n",
              "    <text dy=\"1.25em\" style=\"font-size: 0.8em; letter-spacing: 1px\">\n",
              "        <textPath xlink:href=\"#arrow-5cb2cd0950314536bf3ec50c792bf8b7-0-51\" class=\"displacy-label\" startOffset=\"50%\" side=\"left\" fill=\"currentColor\" text-anchor=\"middle\">aux</textPath>\n",
              "    </text>\n",
              "    <path class=\"displacy-arrowhead\" d=\"M8620,604.0 L8612,592.0 8628,592.0\" fill=\"currentColor\"/>\n",
              "</g>\n",
              "\n",
              "<g class=\"displacy-arrow\">\n",
              "    <path class=\"displacy-arc\" id=\"arrow-5cb2cd0950314536bf3ec50c792bf8b7-0-52\" stroke-width=\"2px\" d=\"M8470,602.0 C8470,452.0 8720.0,452.0 8720.0,602.0\" fill=\"none\" stroke=\"currentColor\"/>\n",
              "    <text dy=\"1.25em\" style=\"font-size: 0.8em; letter-spacing: 1px\">\n",
              "        <textPath xlink:href=\"#arrow-5cb2cd0950314536bf3ec50c792bf8b7-0-52\" class=\"displacy-label\" startOffset=\"50%\" side=\"left\" fill=\"currentColor\" text-anchor=\"middle\">xcomp</textPath>\n",
              "    </text>\n",
              "    <path class=\"displacy-arrowhead\" d=\"M8720.0,604.0 L8728.0,592.0 8712.0,592.0\" fill=\"currentColor\"/>\n",
              "</g>\n",
              "\n",
              "<g class=\"displacy-arrow\">\n",
              "    <path class=\"displacy-arc\" id=\"arrow-5cb2cd0950314536bf3ec50c792bf8b7-0-53\" stroke-width=\"2px\" d=\"M8920,602.0 C8920,452.0 9170.0,452.0 9170.0,602.0\" fill=\"none\" stroke=\"currentColor\"/>\n",
              "    <text dy=\"1.25em\" style=\"font-size: 0.8em; letter-spacing: 1px\">\n",
              "        <textPath xlink:href=\"#arrow-5cb2cd0950314536bf3ec50c792bf8b7-0-53\" class=\"displacy-label\" startOffset=\"50%\" side=\"left\" fill=\"currentColor\" text-anchor=\"middle\">mark</textPath>\n",
              "    </text>\n",
              "    <path class=\"displacy-arrowhead\" d=\"M8920,604.0 L8912,592.0 8928,592.0\" fill=\"currentColor\"/>\n",
              "</g>\n",
              "\n",
              "<g class=\"displacy-arrow\">\n",
              "    <path class=\"displacy-arc\" id=\"arrow-5cb2cd0950314536bf3ec50c792bf8b7-0-54\" stroke-width=\"2px\" d=\"M9070,602.0 C9070,527.0 9165.0,527.0 9165.0,602.0\" fill=\"none\" stroke=\"currentColor\"/>\n",
              "    <text dy=\"1.25em\" style=\"font-size: 0.8em; letter-spacing: 1px\">\n",
              "        <textPath xlink:href=\"#arrow-5cb2cd0950314536bf3ec50c792bf8b7-0-54\" class=\"displacy-label\" startOffset=\"50%\" side=\"left\" fill=\"currentColor\" text-anchor=\"middle\">nsubj</textPath>\n",
              "    </text>\n",
              "    <path class=\"displacy-arrowhead\" d=\"M9070,604.0 L9062,592.0 9078,592.0\" fill=\"currentColor\"/>\n",
              "</g>\n",
              "\n",
              "<g class=\"displacy-arrow\">\n",
              "    <path class=\"displacy-arc\" id=\"arrow-5cb2cd0950314536bf3ec50c792bf8b7-0-55\" stroke-width=\"2px\" d=\"M8770,602.0 C8770,377.0 9175.0,377.0 9175.0,602.0\" fill=\"none\" stroke=\"currentColor\"/>\n",
              "    <text dy=\"1.25em\" style=\"font-size: 0.8em; letter-spacing: 1px\">\n",
              "        <textPath xlink:href=\"#arrow-5cb2cd0950314536bf3ec50c792bf8b7-0-55\" class=\"displacy-label\" startOffset=\"50%\" side=\"left\" fill=\"currentColor\" text-anchor=\"middle\">ccomp</textPath>\n",
              "    </text>\n",
              "    <path class=\"displacy-arrowhead\" d=\"M9175.0,604.0 L9183.0,592.0 9167.0,592.0\" fill=\"currentColor\"/>\n",
              "</g>\n",
              "\n",
              "<g class=\"displacy-arrow\">\n",
              "    <path class=\"displacy-arc\" id=\"arrow-5cb2cd0950314536bf3ec50c792bf8b7-0-56\" stroke-width=\"2px\" d=\"M9370,602.0 C9370,527.0 9465.0,527.0 9465.0,602.0\" fill=\"none\" stroke=\"currentColor\"/>\n",
              "    <text dy=\"1.25em\" style=\"font-size: 0.8em; letter-spacing: 1px\">\n",
              "        <textPath xlink:href=\"#arrow-5cb2cd0950314536bf3ec50c792bf8b7-0-56\" class=\"displacy-label\" startOffset=\"50%\" side=\"left\" fill=\"currentColor\" text-anchor=\"middle\">advmod</textPath>\n",
              "    </text>\n",
              "    <path class=\"displacy-arrowhead\" d=\"M9370,604.0 L9362,592.0 9378,592.0\" fill=\"currentColor\"/>\n",
              "</g>\n",
              "\n",
              "<g class=\"displacy-arrow\">\n",
              "    <path class=\"displacy-arc\" id=\"arrow-5cb2cd0950314536bf3ec50c792bf8b7-0-57\" stroke-width=\"2px\" d=\"M9220,602.0 C9220,452.0 9470.0,452.0 9470.0,602.0\" fill=\"none\" stroke=\"currentColor\"/>\n",
              "    <text dy=\"1.25em\" style=\"font-size: 0.8em; letter-spacing: 1px\">\n",
              "        <textPath xlink:href=\"#arrow-5cb2cd0950314536bf3ec50c792bf8b7-0-57\" class=\"displacy-label\" startOffset=\"50%\" side=\"left\" fill=\"currentColor\" text-anchor=\"middle\">prep</textPath>\n",
              "    </text>\n",
              "    <path class=\"displacy-arrowhead\" d=\"M9470.0,604.0 L9478.0,592.0 9462.0,592.0\" fill=\"currentColor\"/>\n",
              "</g>\n",
              "\n",
              "<g class=\"displacy-arrow\">\n",
              "    <path class=\"displacy-arc\" id=\"arrow-5cb2cd0950314536bf3ec50c792bf8b7-0-58\" stroke-width=\"2px\" d=\"M9670,602.0 C9670,452.0 9920.0,452.0 9920.0,602.0\" fill=\"none\" stroke=\"currentColor\"/>\n",
              "    <text dy=\"1.25em\" style=\"font-size: 0.8em; letter-spacing: 1px\">\n",
              "        <textPath xlink:href=\"#arrow-5cb2cd0950314536bf3ec50c792bf8b7-0-58\" class=\"displacy-label\" startOffset=\"50%\" side=\"left\" fill=\"currentColor\" text-anchor=\"middle\">det</textPath>\n",
              "    </text>\n",
              "    <path class=\"displacy-arrowhead\" d=\"M9670,604.0 L9662,592.0 9678,592.0\" fill=\"currentColor\"/>\n",
              "</g>\n",
              "\n",
              "<g class=\"displacy-arrow\">\n",
              "    <path class=\"displacy-arc\" id=\"arrow-5cb2cd0950314536bf3ec50c792bf8b7-0-59\" stroke-width=\"2px\" d=\"M9820,602.0 C9820,527.0 9915.0,527.0 9915.0,602.0\" fill=\"none\" stroke=\"currentColor\"/>\n",
              "    <text dy=\"1.25em\" style=\"font-size: 0.8em; letter-spacing: 1px\">\n",
              "        <textPath xlink:href=\"#arrow-5cb2cd0950314536bf3ec50c792bf8b7-0-59\" class=\"displacy-label\" startOffset=\"50%\" side=\"left\" fill=\"currentColor\" text-anchor=\"middle\">amod</textPath>\n",
              "    </text>\n",
              "    <path class=\"displacy-arrowhead\" d=\"M9820,604.0 L9812,592.0 9828,592.0\" fill=\"currentColor\"/>\n",
              "</g>\n",
              "\n",
              "<g class=\"displacy-arrow\">\n",
              "    <path class=\"displacy-arc\" id=\"arrow-5cb2cd0950314536bf3ec50c792bf8b7-0-60\" stroke-width=\"2px\" d=\"M9520,602.0 C9520,377.0 9925.0,377.0 9925.0,602.0\" fill=\"none\" stroke=\"currentColor\"/>\n",
              "    <text dy=\"1.25em\" style=\"font-size: 0.8em; letter-spacing: 1px\">\n",
              "        <textPath xlink:href=\"#arrow-5cb2cd0950314536bf3ec50c792bf8b7-0-60\" class=\"displacy-label\" startOffset=\"50%\" side=\"left\" fill=\"currentColor\" text-anchor=\"middle\">pobj</textPath>\n",
              "    </text>\n",
              "    <path class=\"displacy-arrowhead\" d=\"M9925.0,604.0 L9933.0,592.0 9917.0,592.0\" fill=\"currentColor\"/>\n",
              "</g>\n",
              "\n",
              "<g class=\"displacy-arrow\">\n",
              "    <path class=\"displacy-arc\" id=\"arrow-5cb2cd0950314536bf3ec50c792bf8b7-0-61\" stroke-width=\"2px\" d=\"M9970,602.0 C9970,527.0 10065.0,527.0 10065.0,602.0\" fill=\"none\" stroke=\"currentColor\"/>\n",
              "    <text dy=\"1.25em\" style=\"font-size: 0.8em; letter-spacing: 1px\">\n",
              "        <textPath xlink:href=\"#arrow-5cb2cd0950314536bf3ec50c792bf8b7-0-61\" class=\"displacy-label\" startOffset=\"50%\" side=\"left\" fill=\"currentColor\" text-anchor=\"middle\">prep</textPath>\n",
              "    </text>\n",
              "    <path class=\"displacy-arrowhead\" d=\"M10065.0,604.0 L10073.0,592.0 10057.0,592.0\" fill=\"currentColor\"/>\n",
              "</g>\n",
              "\n",
              "<g class=\"displacy-arrow\">\n",
              "    <path class=\"displacy-arc\" id=\"arrow-5cb2cd0950314536bf3ec50c792bf8b7-0-62\" stroke-width=\"2px\" d=\"M10270,602.0 C10270,527.0 10365.0,527.0 10365.0,602.0\" fill=\"none\" stroke=\"currentColor\"/>\n",
              "    <text dy=\"1.25em\" style=\"font-size: 0.8em; letter-spacing: 1px\">\n",
              "        <textPath xlink:href=\"#arrow-5cb2cd0950314536bf3ec50c792bf8b7-0-62\" class=\"displacy-label\" startOffset=\"50%\" side=\"left\" fill=\"currentColor\" text-anchor=\"middle\">det</textPath>\n",
              "    </text>\n",
              "    <path class=\"displacy-arrowhead\" d=\"M10270,604.0 L10262,592.0 10278,592.0\" fill=\"currentColor\"/>\n",
              "</g>\n",
              "\n",
              "<g class=\"displacy-arrow\">\n",
              "    <path class=\"displacy-arc\" id=\"arrow-5cb2cd0950314536bf3ec50c792bf8b7-0-63\" stroke-width=\"2px\" d=\"M10120,602.0 C10120,452.0 10370.0,452.0 10370.0,602.0\" fill=\"none\" stroke=\"currentColor\"/>\n",
              "    <text dy=\"1.25em\" style=\"font-size: 0.8em; letter-spacing: 1px\">\n",
              "        <textPath xlink:href=\"#arrow-5cb2cd0950314536bf3ec50c792bf8b7-0-63\" class=\"displacy-label\" startOffset=\"50%\" side=\"left\" fill=\"currentColor\" text-anchor=\"middle\">pobj</textPath>\n",
              "    </text>\n",
              "    <path class=\"displacy-arrowhead\" d=\"M10370.0,604.0 L10378.0,592.0 10362.0,592.0\" fill=\"currentColor\"/>\n",
              "</g>\n",
              "\n",
              "<g class=\"displacy-arrow\">\n",
              "    <path class=\"displacy-arc\" id=\"arrow-5cb2cd0950314536bf3ec50c792bf8b7-0-64\" stroke-width=\"2px\" d=\"M10570,602.0 C10570,527.0 10665.0,527.0 10665.0,602.0\" fill=\"none\" stroke=\"currentColor\"/>\n",
              "    <text dy=\"1.25em\" style=\"font-size: 0.8em; letter-spacing: 1px\">\n",
              "        <textPath xlink:href=\"#arrow-5cb2cd0950314536bf3ec50c792bf8b7-0-64\" class=\"displacy-label\" startOffset=\"50%\" side=\"left\" fill=\"currentColor\" text-anchor=\"middle\">nsubj</textPath>\n",
              "    </text>\n",
              "    <path class=\"displacy-arrowhead\" d=\"M10570,604.0 L10562,592.0 10578,592.0\" fill=\"currentColor\"/>\n",
              "</g>\n",
              "\n",
              "<g class=\"displacy-arrow\">\n",
              "    <path class=\"displacy-arc\" id=\"arrow-5cb2cd0950314536bf3ec50c792bf8b7-0-65\" stroke-width=\"2px\" d=\"M10870,602.0 C10870,227.0 11585.0,227.0 11585.0,602.0\" fill=\"none\" stroke=\"currentColor\"/>\n",
              "    <text dy=\"1.25em\" style=\"font-size: 0.8em; letter-spacing: 1px\">\n",
              "        <textPath xlink:href=\"#arrow-5cb2cd0950314536bf3ec50c792bf8b7-0-65\" class=\"displacy-label\" startOffset=\"50%\" side=\"left\" fill=\"currentColor\" text-anchor=\"middle\">mark</textPath>\n",
              "    </text>\n",
              "    <path class=\"displacy-arrowhead\" d=\"M10870,604.0 L10862,592.0 10878,592.0\" fill=\"currentColor\"/>\n",
              "</g>\n",
              "\n",
              "<g class=\"displacy-arrow\">\n",
              "    <path class=\"displacy-arc\" id=\"arrow-5cb2cd0950314536bf3ec50c792bf8b7-0-66\" stroke-width=\"2px\" d=\"M11020,602.0 C11020,302.0 11580.0,302.0 11580.0,602.0\" fill=\"none\" stroke=\"currentColor\"/>\n",
              "    <text dy=\"1.25em\" style=\"font-size: 0.8em; letter-spacing: 1px\">\n",
              "        <textPath xlink:href=\"#arrow-5cb2cd0950314536bf3ec50c792bf8b7-0-66\" class=\"displacy-label\" startOffset=\"50%\" side=\"left\" fill=\"currentColor\" text-anchor=\"middle\">nsubj</textPath>\n",
              "    </text>\n",
              "    <path class=\"displacy-arrowhead\" d=\"M11020,604.0 L11012,592.0 11028,592.0\" fill=\"currentColor\"/>\n",
              "</g>\n",
              "\n",
              "<g class=\"displacy-arrow\">\n",
              "    <path class=\"displacy-arc\" id=\"arrow-5cb2cd0950314536bf3ec50c792bf8b7-0-67\" stroke-width=\"2px\" d=\"M11170,602.0 C11170,377.0 11575.0,377.0 11575.0,602.0\" fill=\"none\" stroke=\"currentColor\"/>\n",
              "    <text dy=\"1.25em\" style=\"font-size: 0.8em; letter-spacing: 1px\">\n",
              "        <textPath xlink:href=\"#arrow-5cb2cd0950314536bf3ec50c792bf8b7-0-67\" class=\"displacy-label\" startOffset=\"50%\" side=\"left\" fill=\"currentColor\" text-anchor=\"middle\">aux</textPath>\n",
              "    </text>\n",
              "    <path class=\"displacy-arrowhead\" d=\"M11170,604.0 L11162,592.0 11178,592.0\" fill=\"currentColor\"/>\n",
              "</g>\n",
              "\n",
              "<g class=\"displacy-arrow\">\n",
              "    <path class=\"displacy-arc\" id=\"arrow-5cb2cd0950314536bf3ec50c792bf8b7-0-68\" stroke-width=\"2px\" d=\"M11320,602.0 C11320,452.0 11570.0,452.0 11570.0,602.0\" fill=\"none\" stroke=\"currentColor\"/>\n",
              "    <text dy=\"1.25em\" style=\"font-size: 0.8em; letter-spacing: 1px\">\n",
              "        <textPath xlink:href=\"#arrow-5cb2cd0950314536bf3ec50c792bf8b7-0-68\" class=\"displacy-label\" startOffset=\"50%\" side=\"left\" fill=\"currentColor\" text-anchor=\"middle\">advmod</textPath>\n",
              "    </text>\n",
              "    <path class=\"displacy-arrowhead\" d=\"M11320,604.0 L11312,592.0 11328,592.0\" fill=\"currentColor\"/>\n",
              "</g>\n",
              "\n",
              "<g class=\"displacy-arrow\">\n",
              "    <path class=\"displacy-arc\" id=\"arrow-5cb2cd0950314536bf3ec50c792bf8b7-0-69\" stroke-width=\"2px\" d=\"M11470,602.0 C11470,527.0 11565.0,527.0 11565.0,602.0\" fill=\"none\" stroke=\"currentColor\"/>\n",
              "    <text dy=\"1.25em\" style=\"font-size: 0.8em; letter-spacing: 1px\">\n",
              "        <textPath xlink:href=\"#arrow-5cb2cd0950314536bf3ec50c792bf8b7-0-69\" class=\"displacy-label\" startOffset=\"50%\" side=\"left\" fill=\"currentColor\" text-anchor=\"middle\">aux</textPath>\n",
              "    </text>\n",
              "    <path class=\"displacy-arrowhead\" d=\"M11470,604.0 L11462,592.0 11478,592.0\" fill=\"currentColor\"/>\n",
              "</g>\n",
              "\n",
              "<g class=\"displacy-arrow\">\n",
              "    <path class=\"displacy-arc\" id=\"arrow-5cb2cd0950314536bf3ec50c792bf8b7-0-70\" stroke-width=\"2px\" d=\"M10720,602.0 C10720,152.0 11590.0,152.0 11590.0,602.0\" fill=\"none\" stroke=\"currentColor\"/>\n",
              "    <text dy=\"1.25em\" style=\"font-size: 0.8em; letter-spacing: 1px\">\n",
              "        <textPath xlink:href=\"#arrow-5cb2cd0950314536bf3ec50c792bf8b7-0-70\" class=\"displacy-label\" startOffset=\"50%\" side=\"left\" fill=\"currentColor\" text-anchor=\"middle\">ccomp</textPath>\n",
              "    </text>\n",
              "    <path class=\"displacy-arrowhead\" d=\"M11590.0,604.0 L11598.0,592.0 11582.0,592.0\" fill=\"currentColor\"/>\n",
              "</g>\n",
              "\n",
              "<g class=\"displacy-arrow\">\n",
              "    <path class=\"displacy-arc\" id=\"arrow-5cb2cd0950314536bf3ec50c792bf8b7-0-71\" stroke-width=\"2px\" d=\"M11620,602.0 C11620,527.0 11715.0,527.0 11715.0,602.0\" fill=\"none\" stroke=\"currentColor\"/>\n",
              "    <text dy=\"1.25em\" style=\"font-size: 0.8em; letter-spacing: 1px\">\n",
              "        <textPath xlink:href=\"#arrow-5cb2cd0950314536bf3ec50c792bf8b7-0-71\" class=\"displacy-label\" startOffset=\"50%\" side=\"left\" fill=\"currentColor\" text-anchor=\"middle\">prep</textPath>\n",
              "    </text>\n",
              "    <path class=\"displacy-arrowhead\" d=\"M11715.0,604.0 L11723.0,592.0 11707.0,592.0\" fill=\"currentColor\"/>\n",
              "</g>\n",
              "\n",
              "<g class=\"displacy-arrow\">\n",
              "    <path class=\"displacy-arc\" id=\"arrow-5cb2cd0950314536bf3ec50c792bf8b7-0-72\" stroke-width=\"2px\" d=\"M11770,602.0 C11770,527.0 11865.0,527.0 11865.0,602.0\" fill=\"none\" stroke=\"currentColor\"/>\n",
              "    <text dy=\"1.25em\" style=\"font-size: 0.8em; letter-spacing: 1px\">\n",
              "        <textPath xlink:href=\"#arrow-5cb2cd0950314536bf3ec50c792bf8b7-0-72\" class=\"displacy-label\" startOffset=\"50%\" side=\"left\" fill=\"currentColor\" text-anchor=\"middle\">pobj</textPath>\n",
              "    </text>\n",
              "    <path class=\"displacy-arrowhead\" d=\"M11865.0,604.0 L11873.0,592.0 11857.0,592.0\" fill=\"currentColor\"/>\n",
              "</g>\n",
              "\n",
              "<g class=\"displacy-arrow\">\n",
              "    <path class=\"displacy-arc\" id=\"arrow-5cb2cd0950314536bf3ec50c792bf8b7-0-73\" stroke-width=\"2px\" d=\"M12070,602.0 C12070,227.0 12785.0,227.0 12785.0,602.0\" fill=\"none\" stroke=\"currentColor\"/>\n",
              "    <text dy=\"1.25em\" style=\"font-size: 0.8em; letter-spacing: 1px\">\n",
              "        <textPath xlink:href=\"#arrow-5cb2cd0950314536bf3ec50c792bf8b7-0-73\" class=\"displacy-label\" startOffset=\"50%\" side=\"left\" fill=\"currentColor\" text-anchor=\"middle\">advmod</textPath>\n",
              "    </text>\n",
              "    <path class=\"displacy-arrowhead\" d=\"M12070,604.0 L12062,592.0 12078,592.0\" fill=\"currentColor\"/>\n",
              "</g>\n",
              "\n",
              "<g class=\"displacy-arrow\">\n",
              "    <path class=\"displacy-arc\" id=\"arrow-5cb2cd0950314536bf3ec50c792bf8b7-0-74\" stroke-width=\"2px\" d=\"M12220,602.0 C12220,302.0 12780.0,302.0 12780.0,602.0\" fill=\"none\" stroke=\"currentColor\"/>\n",
              "    <text dy=\"1.25em\" style=\"font-size: 0.8em; letter-spacing: 1px\">\n",
              "        <textPath xlink:href=\"#arrow-5cb2cd0950314536bf3ec50c792bf8b7-0-74\" class=\"displacy-label\" startOffset=\"50%\" side=\"left\" fill=\"currentColor\" text-anchor=\"middle\">nsubj</textPath>\n",
              "    </text>\n",
              "    <path class=\"displacy-arrowhead\" d=\"M12220,604.0 L12212,592.0 12228,592.0\" fill=\"currentColor\"/>\n",
              "</g>\n",
              "\n",
              "<g class=\"displacy-arrow\">\n",
              "    <path class=\"displacy-arc\" id=\"arrow-5cb2cd0950314536bf3ec50c792bf8b7-0-75\" stroke-width=\"2px\" d=\"M12220,602.0 C12220,527.0 12315.0,527.0 12315.0,602.0\" fill=\"none\" stroke=\"currentColor\"/>\n",
              "    <text dy=\"1.25em\" style=\"font-size: 0.8em; letter-spacing: 1px\">\n",
              "        <textPath xlink:href=\"#arrow-5cb2cd0950314536bf3ec50c792bf8b7-0-75\" class=\"displacy-label\" startOffset=\"50%\" side=\"left\" fill=\"currentColor\" text-anchor=\"middle\">conj</textPath>\n",
              "    </text>\n",
              "    <path class=\"displacy-arrowhead\" d=\"M12315.0,604.0 L12323.0,592.0 12307.0,592.0\" fill=\"currentColor\"/>\n",
              "</g>\n",
              "\n",
              "<g class=\"displacy-arrow\">\n",
              "    <path class=\"displacy-arc\" id=\"arrow-5cb2cd0950314536bf3ec50c792bf8b7-0-76\" stroke-width=\"2px\" d=\"M12370,602.0 C12370,527.0 12465.0,527.0 12465.0,602.0\" fill=\"none\" stroke=\"currentColor\"/>\n",
              "    <text dy=\"1.25em\" style=\"font-size: 0.8em; letter-spacing: 1px\">\n",
              "        <textPath xlink:href=\"#arrow-5cb2cd0950314536bf3ec50c792bf8b7-0-76\" class=\"displacy-label\" startOffset=\"50%\" side=\"left\" fill=\"currentColor\" text-anchor=\"middle\">cc</textPath>\n",
              "    </text>\n",
              "    <path class=\"displacy-arrowhead\" d=\"M12465.0,604.0 L12473.0,592.0 12457.0,592.0\" fill=\"currentColor\"/>\n",
              "</g>\n",
              "\n",
              "<g class=\"displacy-arrow\">\n",
              "    <path class=\"displacy-arc\" id=\"arrow-5cb2cd0950314536bf3ec50c792bf8b7-0-77\" stroke-width=\"2px\" d=\"M12370,602.0 C12370,452.0 12620.0,452.0 12620.0,602.0\" fill=\"none\" stroke=\"currentColor\"/>\n",
              "    <text dy=\"1.25em\" style=\"font-size: 0.8em; letter-spacing: 1px\">\n",
              "        <textPath xlink:href=\"#arrow-5cb2cd0950314536bf3ec50c792bf8b7-0-77\" class=\"displacy-label\" startOffset=\"50%\" side=\"left\" fill=\"currentColor\" text-anchor=\"middle\">conj</textPath>\n",
              "    </text>\n",
              "    <path class=\"displacy-arrowhead\" d=\"M12620.0,604.0 L12628.0,592.0 12612.0,592.0\" fill=\"currentColor\"/>\n",
              "</g>\n",
              "\n",
              "<g class=\"displacy-arrow\">\n",
              "    <path class=\"displacy-arc\" id=\"arrow-5cb2cd0950314536bf3ec50c792bf8b7-0-78\" stroke-width=\"2px\" d=\"M11920,602.0 C11920,152.0 12790.0,152.0 12790.0,602.0\" fill=\"none\" stroke=\"currentColor\"/>\n",
              "    <text dy=\"1.25em\" style=\"font-size: 0.8em; letter-spacing: 1px\">\n",
              "        <textPath xlink:href=\"#arrow-5cb2cd0950314536bf3ec50c792bf8b7-0-78\" class=\"displacy-label\" startOffset=\"50%\" side=\"left\" fill=\"currentColor\" text-anchor=\"middle\">relcl</textPath>\n",
              "    </text>\n",
              "    <path class=\"displacy-arrowhead\" d=\"M12790.0,604.0 L12798.0,592.0 12782.0,592.0\" fill=\"currentColor\"/>\n",
              "</g>\n",
              "\n",
              "<g class=\"displacy-arrow\">\n",
              "    <path class=\"displacy-arc\" id=\"arrow-5cb2cd0950314536bf3ec50c792bf8b7-0-79\" stroke-width=\"2px\" d=\"M12820,602.0 C12820,527.0 12915.0,527.0 12915.0,602.0\" fill=\"none\" stroke=\"currentColor\"/>\n",
              "    <text dy=\"1.25em\" style=\"font-size: 0.8em; letter-spacing: 1px\">\n",
              "        <textPath xlink:href=\"#arrow-5cb2cd0950314536bf3ec50c792bf8b7-0-79\" class=\"displacy-label\" startOffset=\"50%\" side=\"left\" fill=\"currentColor\" text-anchor=\"middle\">npadvmod</textPath>\n",
              "    </text>\n",
              "    <path class=\"displacy-arrowhead\" d=\"M12915.0,604.0 L12923.0,592.0 12907.0,592.0\" fill=\"currentColor\"/>\n",
              "</g>\n",
              "\n",
              "<g class=\"displacy-arrow\">\n",
              "    <path class=\"displacy-arc\" id=\"arrow-5cb2cd0950314536bf3ec50c792bf8b7-0-80\" stroke-width=\"2px\" d=\"M13120,602.0 C13120,302.0 13680.0,302.0 13680.0,602.0\" fill=\"none\" stroke=\"currentColor\"/>\n",
              "    <text dy=\"1.25em\" style=\"font-size: 0.8em; letter-spacing: 1px\">\n",
              "        <textPath xlink:href=\"#arrow-5cb2cd0950314536bf3ec50c792bf8b7-0-80\" class=\"displacy-label\" startOffset=\"50%\" side=\"left\" fill=\"currentColor\" text-anchor=\"middle\">advmod</textPath>\n",
              "    </text>\n",
              "    <path class=\"displacy-arrowhead\" d=\"M13120,604.0 L13112,592.0 13128,592.0\" fill=\"currentColor\"/>\n",
              "</g>\n",
              "\n",
              "<g class=\"displacy-arrow\">\n",
              "    <path class=\"displacy-arc\" id=\"arrow-5cb2cd0950314536bf3ec50c792bf8b7-0-81\" stroke-width=\"2px\" d=\"M13270,602.0 C13270,452.0 13520.0,452.0 13520.0,602.0\" fill=\"none\" stroke=\"currentColor\"/>\n",
              "    <text dy=\"1.25em\" style=\"font-size: 0.8em; letter-spacing: 1px\">\n",
              "        <textPath xlink:href=\"#arrow-5cb2cd0950314536bf3ec50c792bf8b7-0-81\" class=\"displacy-label\" startOffset=\"50%\" side=\"left\" fill=\"currentColor\" text-anchor=\"middle\">det</textPath>\n",
              "    </text>\n",
              "    <path class=\"displacy-arrowhead\" d=\"M13270,604.0 L13262,592.0 13278,592.0\" fill=\"currentColor\"/>\n",
              "</g>\n",
              "\n",
              "<g class=\"displacy-arrow\">\n",
              "    <path class=\"displacy-arc\" id=\"arrow-5cb2cd0950314536bf3ec50c792bf8b7-0-82\" stroke-width=\"2px\" d=\"M13420,602.0 C13420,527.0 13515.0,527.0 13515.0,602.0\" fill=\"none\" stroke=\"currentColor\"/>\n",
              "    <text dy=\"1.25em\" style=\"font-size: 0.8em; letter-spacing: 1px\">\n",
              "        <textPath xlink:href=\"#arrow-5cb2cd0950314536bf3ec50c792bf8b7-0-82\" class=\"displacy-label\" startOffset=\"50%\" side=\"left\" fill=\"currentColor\" text-anchor=\"middle\">compound</textPath>\n",
              "    </text>\n",
              "    <path class=\"displacy-arrowhead\" d=\"M13420,604.0 L13412,592.0 13428,592.0\" fill=\"currentColor\"/>\n",
              "</g>\n",
              "\n",
              "<g class=\"displacy-arrow\">\n",
              "    <path class=\"displacy-arc\" id=\"arrow-5cb2cd0950314536bf3ec50c792bf8b7-0-83\" stroke-width=\"2px\" d=\"M13570,602.0 C13570,527.0 13665.0,527.0 13665.0,602.0\" fill=\"none\" stroke=\"currentColor\"/>\n",
              "    <text dy=\"1.25em\" style=\"font-size: 0.8em; letter-spacing: 1px\">\n",
              "        <textPath xlink:href=\"#arrow-5cb2cd0950314536bf3ec50c792bf8b7-0-83\" class=\"displacy-label\" startOffset=\"50%\" side=\"left\" fill=\"currentColor\" text-anchor=\"middle\">nsubj</textPath>\n",
              "    </text>\n",
              "    <path class=\"displacy-arrowhead\" d=\"M13570,604.0 L13562,592.0 13578,592.0\" fill=\"currentColor\"/>\n",
              "</g>\n",
              "\n",
              "<g class=\"displacy-arrow\">\n",
              "    <path class=\"displacy-arc\" id=\"arrow-5cb2cd0950314536bf3ec50c792bf8b7-0-84\" stroke-width=\"2px\" d=\"M13720,602.0 C13720,527.0 13815.0,527.0 13815.0,602.0\" fill=\"none\" stroke=\"currentColor\"/>\n",
              "    <text dy=\"1.25em\" style=\"font-size: 0.8em; letter-spacing: 1px\">\n",
              "        <textPath xlink:href=\"#arrow-5cb2cd0950314536bf3ec50c792bf8b7-0-84\" class=\"displacy-label\" startOffset=\"50%\" side=\"left\" fill=\"currentColor\" text-anchor=\"middle\">xcomp</textPath>\n",
              "    </text>\n",
              "    <path class=\"displacy-arrowhead\" d=\"M13815.0,604.0 L13823.0,592.0 13807.0,592.0\" fill=\"currentColor\"/>\n",
              "</g>\n",
              "\n",
              "<g class=\"displacy-arrow\">\n",
              "    <path class=\"displacy-arc\" id=\"arrow-5cb2cd0950314536bf3ec50c792bf8b7-0-85\" stroke-width=\"2px\" d=\"M13870,602.0 C13870,527.0 13965.0,527.0 13965.0,602.0\" fill=\"none\" stroke=\"currentColor\"/>\n",
              "    <text dy=\"1.25em\" style=\"font-size: 0.8em; letter-spacing: 1px\">\n",
              "        <textPath xlink:href=\"#arrow-5cb2cd0950314536bf3ec50c792bf8b7-0-85\" class=\"displacy-label\" startOffset=\"50%\" side=\"left\" fill=\"currentColor\" text-anchor=\"middle\">dobj</textPath>\n",
              "    </text>\n",
              "    <path class=\"displacy-arrowhead\" d=\"M13965.0,604.0 L13973.0,592.0 13957.0,592.0\" fill=\"currentColor\"/>\n",
              "</g>\n",
              "\n",
              "<g class=\"displacy-arrow\">\n",
              "    <path class=\"displacy-arc\" id=\"arrow-5cb2cd0950314536bf3ec50c792bf8b7-0-86\" stroke-width=\"2px\" d=\"M13870,602.0 C13870,452.0 14120.0,452.0 14120.0,602.0\" fill=\"none\" stroke=\"currentColor\"/>\n",
              "    <text dy=\"1.25em\" style=\"font-size: 0.8em; letter-spacing: 1px\">\n",
              "        <textPath xlink:href=\"#arrow-5cb2cd0950314536bf3ec50c792bf8b7-0-86\" class=\"displacy-label\" startOffset=\"50%\" side=\"left\" fill=\"currentColor\" text-anchor=\"middle\">prep</textPath>\n",
              "    </text>\n",
              "    <path class=\"displacy-arrowhead\" d=\"M14120.0,604.0 L14128.0,592.0 14112.0,592.0\" fill=\"currentColor\"/>\n",
              "</g>\n",
              "\n",
              "<g class=\"displacy-arrow\">\n",
              "    <path class=\"displacy-arc\" id=\"arrow-5cb2cd0950314536bf3ec50c792bf8b7-0-87\" stroke-width=\"2px\" d=\"M14320,602.0 C14320,527.0 14415.0,527.0 14415.0,602.0\" fill=\"none\" stroke=\"currentColor\"/>\n",
              "    <text dy=\"1.25em\" style=\"font-size: 0.8em; letter-spacing: 1px\">\n",
              "        <textPath xlink:href=\"#arrow-5cb2cd0950314536bf3ec50c792bf8b7-0-87\" class=\"displacy-label\" startOffset=\"50%\" side=\"left\" fill=\"currentColor\" text-anchor=\"middle\">amod</textPath>\n",
              "    </text>\n",
              "    <path class=\"displacy-arrowhead\" d=\"M14320,604.0 L14312,592.0 14328,592.0\" fill=\"currentColor\"/>\n",
              "</g>\n",
              "\n",
              "<g class=\"displacy-arrow\">\n",
              "    <path class=\"displacy-arc\" id=\"arrow-5cb2cd0950314536bf3ec50c792bf8b7-0-88\" stroke-width=\"2px\" d=\"M13720,602.0 C13720,227.0 14435.0,227.0 14435.0,602.0\" fill=\"none\" stroke=\"currentColor\"/>\n",
              "    <text dy=\"1.25em\" style=\"font-size: 0.8em; letter-spacing: 1px\">\n",
              "        <textPath xlink:href=\"#arrow-5cb2cd0950314536bf3ec50c792bf8b7-0-88\" class=\"displacy-label\" startOffset=\"50%\" side=\"left\" fill=\"currentColor\" text-anchor=\"middle\">punct</textPath>\n",
              "    </text>\n",
              "    <path class=\"displacy-arrowhead\" d=\"M14435.0,604.0 L14443.0,592.0 14427.0,592.0\" fill=\"currentColor\"/>\n",
              "</g>\n",
              "\n",
              "<g class=\"displacy-arrow\">\n",
              "    <path class=\"displacy-arc\" id=\"arrow-5cb2cd0950314536bf3ec50c792bf8b7-0-89\" stroke-width=\"2px\" d=\"M14470,602.0 C14470,527.0 14565.0,527.0 14565.0,602.0\" fill=\"none\" stroke=\"currentColor\"/>\n",
              "    <text dy=\"1.25em\" style=\"font-size: 0.8em; letter-spacing: 1px\">\n",
              "        <textPath xlink:href=\"#arrow-5cb2cd0950314536bf3ec50c792bf8b7-0-89\" class=\"displacy-label\" startOffset=\"50%\" side=\"left\" fill=\"currentColor\" text-anchor=\"middle\"></textPath>\n",
              "    </text>\n",
              "    <path class=\"displacy-arrowhead\" d=\"M14565.0,604.0 L14573.0,592.0 14557.0,592.0\" fill=\"currentColor\"/>\n",
              "</g>\n",
              "\n",
              "<g class=\"displacy-arrow\">\n",
              "    <path class=\"displacy-arc\" id=\"arrow-5cb2cd0950314536bf3ec50c792bf8b7-0-90\" stroke-width=\"2px\" d=\"M14770,602.0 C14770,152.0 15640.0,152.0 15640.0,602.0\" fill=\"none\" stroke=\"currentColor\"/>\n",
              "    <text dy=\"1.25em\" style=\"font-size: 0.8em; letter-spacing: 1px\">\n",
              "        <textPath xlink:href=\"#arrow-5cb2cd0950314536bf3ec50c792bf8b7-0-90\" class=\"displacy-label\" startOffset=\"50%\" side=\"left\" fill=\"currentColor\" text-anchor=\"middle\">nsubj</textPath>\n",
              "    </text>\n",
              "    <path class=\"displacy-arrowhead\" d=\"M14770,604.0 L14762,592.0 14778,592.0\" fill=\"currentColor\"/>\n",
              "</g>\n",
              "\n",
              "<g class=\"displacy-arrow\">\n",
              "    <path class=\"displacy-arc\" id=\"arrow-5cb2cd0950314536bf3ec50c792bf8b7-0-91\" stroke-width=\"2px\" d=\"M14770,602.0 C14770,527.0 14865.0,527.0 14865.0,602.0\" fill=\"none\" stroke=\"currentColor\"/>\n",
              "    <text dy=\"1.25em\" style=\"font-size: 0.8em; letter-spacing: 1px\">\n",
              "        <textPath xlink:href=\"#arrow-5cb2cd0950314536bf3ec50c792bf8b7-0-91\" class=\"displacy-label\" startOffset=\"50%\" side=\"left\" fill=\"currentColor\" text-anchor=\"middle\">prep</textPath>\n",
              "    </text>\n",
              "    <path class=\"displacy-arrowhead\" d=\"M14865.0,604.0 L14873.0,592.0 14857.0,592.0\" fill=\"currentColor\"/>\n",
              "</g>\n",
              "\n",
              "<g class=\"displacy-arrow\">\n",
              "    <path class=\"displacy-arc\" id=\"arrow-5cb2cd0950314536bf3ec50c792bf8b7-0-92\" stroke-width=\"2px\" d=\"M15070,602.0 C15070,377.0 15475.0,377.0 15475.0,602.0\" fill=\"none\" stroke=\"currentColor\"/>\n",
              "    <text dy=\"1.25em\" style=\"font-size: 0.8em; letter-spacing: 1px\">\n",
              "        <textPath xlink:href=\"#arrow-5cb2cd0950314536bf3ec50c792bf8b7-0-92\" class=\"displacy-label\" startOffset=\"50%\" side=\"left\" fill=\"currentColor\" text-anchor=\"middle\">det</textPath>\n",
              "    </text>\n",
              "    <path class=\"displacy-arrowhead\" d=\"M15070,604.0 L15062,592.0 15078,592.0\" fill=\"currentColor\"/>\n",
              "</g>\n",
              "\n",
              "<g class=\"displacy-arrow\">\n",
              "    <path class=\"displacy-arc\" id=\"arrow-5cb2cd0950314536bf3ec50c792bf8b7-0-93\" stroke-width=\"2px\" d=\"M15220,602.0 C15220,452.0 15470.0,452.0 15470.0,602.0\" fill=\"none\" stroke=\"currentColor\"/>\n",
              "    <text dy=\"1.25em\" style=\"font-size: 0.8em; letter-spacing: 1px\">\n",
              "        <textPath xlink:href=\"#arrow-5cb2cd0950314536bf3ec50c792bf8b7-0-93\" class=\"displacy-label\" startOffset=\"50%\" side=\"left\" fill=\"currentColor\" text-anchor=\"middle\">amod</textPath>\n",
              "    </text>\n",
              "    <path class=\"displacy-arrowhead\" d=\"M15220,604.0 L15212,592.0 15228,592.0\" fill=\"currentColor\"/>\n",
              "</g>\n",
              "\n",
              "<g class=\"displacy-arrow\">\n",
              "    <path class=\"displacy-arc\" id=\"arrow-5cb2cd0950314536bf3ec50c792bf8b7-0-94\" stroke-width=\"2px\" d=\"M15370,602.0 C15370,527.0 15465.0,527.0 15465.0,602.0\" fill=\"none\" stroke=\"currentColor\"/>\n",
              "    <text dy=\"1.25em\" style=\"font-size: 0.8em; letter-spacing: 1px\">\n",
              "        <textPath xlink:href=\"#arrow-5cb2cd0950314536bf3ec50c792bf8b7-0-94\" class=\"displacy-label\" startOffset=\"50%\" side=\"left\" fill=\"currentColor\" text-anchor=\"middle\">compound</textPath>\n",
              "    </text>\n",
              "    <path class=\"displacy-arrowhead\" d=\"M15370,604.0 L15362,592.0 15378,592.0\" fill=\"currentColor\"/>\n",
              "</g>\n",
              "\n",
              "<g class=\"displacy-arrow\">\n",
              "    <path class=\"displacy-arc\" id=\"arrow-5cb2cd0950314536bf3ec50c792bf8b7-0-95\" stroke-width=\"2px\" d=\"M14920,602.0 C14920,302.0 15480.0,302.0 15480.0,602.0\" fill=\"none\" stroke=\"currentColor\"/>\n",
              "    <text dy=\"1.25em\" style=\"font-size: 0.8em; letter-spacing: 1px\">\n",
              "        <textPath xlink:href=\"#arrow-5cb2cd0950314536bf3ec50c792bf8b7-0-95\" class=\"displacy-label\" startOffset=\"50%\" side=\"left\" fill=\"currentColor\" text-anchor=\"middle\">pobj</textPath>\n",
              "    </text>\n",
              "    <path class=\"displacy-arrowhead\" d=\"M15480.0,604.0 L15488.0,592.0 15472.0,592.0\" fill=\"currentColor\"/>\n",
              "</g>\n",
              "\n",
              "<g class=\"displacy-arrow\">\n",
              "    <path class=\"displacy-arc\" id=\"arrow-5cb2cd0950314536bf3ec50c792bf8b7-0-96\" stroke-width=\"2px\" d=\"M15820,602.0 C15820,527.0 15915.0,527.0 15915.0,602.0\" fill=\"none\" stroke=\"currentColor\"/>\n",
              "    <text dy=\"1.25em\" style=\"font-size: 0.8em; letter-spacing: 1px\">\n",
              "        <textPath xlink:href=\"#arrow-5cb2cd0950314536bf3ec50c792bf8b7-0-96\" class=\"displacy-label\" startOffset=\"50%\" side=\"left\" fill=\"currentColor\" text-anchor=\"middle\">det</textPath>\n",
              "    </text>\n",
              "    <path class=\"displacy-arrowhead\" d=\"M15820,604.0 L15812,592.0 15828,592.0\" fill=\"currentColor\"/>\n",
              "</g>\n",
              "\n",
              "<g class=\"displacy-arrow\">\n",
              "    <path class=\"displacy-arc\" id=\"arrow-5cb2cd0950314536bf3ec50c792bf8b7-0-97\" stroke-width=\"2px\" d=\"M15670,602.0 C15670,452.0 15920.0,452.0 15920.0,602.0\" fill=\"none\" stroke=\"currentColor\"/>\n",
              "    <text dy=\"1.25em\" style=\"font-size: 0.8em; letter-spacing: 1px\">\n",
              "        <textPath xlink:href=\"#arrow-5cb2cd0950314536bf3ec50c792bf8b7-0-97\" class=\"displacy-label\" startOffset=\"50%\" side=\"left\" fill=\"currentColor\" text-anchor=\"middle\">attr</textPath>\n",
              "    </text>\n",
              "    <path class=\"displacy-arrowhead\" d=\"M15920.0,604.0 L15928.0,592.0 15912.0,592.0\" fill=\"currentColor\"/>\n",
              "</g>\n",
              "\n",
              "<g class=\"displacy-arrow\">\n",
              "    <path class=\"displacy-arc\" id=\"arrow-5cb2cd0950314536bf3ec50c792bf8b7-0-98\" stroke-width=\"2px\" d=\"M15970,602.0 C15970,527.0 16065.0,527.0 16065.0,602.0\" fill=\"none\" stroke=\"currentColor\"/>\n",
              "    <text dy=\"1.25em\" style=\"font-size: 0.8em; letter-spacing: 1px\">\n",
              "        <textPath xlink:href=\"#arrow-5cb2cd0950314536bf3ec50c792bf8b7-0-98\" class=\"displacy-label\" startOffset=\"50%\" side=\"left\" fill=\"currentColor\" text-anchor=\"middle\">acl</textPath>\n",
              "    </text>\n",
              "    <path class=\"displacy-arrowhead\" d=\"M16065.0,604.0 L16073.0,592.0 16057.0,592.0\" fill=\"currentColor\"/>\n",
              "</g>\n",
              "\n",
              "<g class=\"displacy-arrow\">\n",
              "    <path class=\"displacy-arc\" id=\"arrow-5cb2cd0950314536bf3ec50c792bf8b7-0-99\" stroke-width=\"2px\" d=\"M16270,602.0 C16270,527.0 16365.0,527.0 16365.0,602.0\" fill=\"none\" stroke=\"currentColor\"/>\n",
              "    <text dy=\"1.25em\" style=\"font-size: 0.8em; letter-spacing: 1px\">\n",
              "        <textPath xlink:href=\"#arrow-5cb2cd0950314536bf3ec50c792bf8b7-0-99\" class=\"displacy-label\" startOffset=\"50%\" side=\"left\" fill=\"currentColor\" text-anchor=\"middle\">compound</textPath>\n",
              "    </text>\n",
              "    <path class=\"displacy-arrowhead\" d=\"M16270,604.0 L16262,592.0 16278,592.0\" fill=\"currentColor\"/>\n",
              "</g>\n",
              "\n",
              "<g class=\"displacy-arrow\">\n",
              "    <path class=\"displacy-arc\" id=\"arrow-5cb2cd0950314536bf3ec50c792bf8b7-0-100\" stroke-width=\"2px\" d=\"M16120,602.0 C16120,452.0 16370.0,452.0 16370.0,602.0\" fill=\"none\" stroke=\"currentColor\"/>\n",
              "    <text dy=\"1.25em\" style=\"font-size: 0.8em; letter-spacing: 1px\">\n",
              "        <textPath xlink:href=\"#arrow-5cb2cd0950314536bf3ec50c792bf8b7-0-100\" class=\"displacy-label\" startOffset=\"50%\" side=\"left\" fill=\"currentColor\" text-anchor=\"middle\">oprd</textPath>\n",
              "    </text>\n",
              "    <path class=\"displacy-arrowhead\" d=\"M16370.0,604.0 L16378.0,592.0 16362.0,592.0\" fill=\"currentColor\"/>\n",
              "</g>\n",
              "\n",
              "<g class=\"displacy-arrow\">\n",
              "    <path class=\"displacy-arc\" id=\"arrow-5cb2cd0950314536bf3ec50c792bf8b7-0-101\" stroke-width=\"2px\" d=\"M16420,602.0 C16420,527.0 16515.0,527.0 16515.0,602.0\" fill=\"none\" stroke=\"currentColor\"/>\n",
              "    <text dy=\"1.25em\" style=\"font-size: 0.8em; letter-spacing: 1px\">\n",
              "        <textPath xlink:href=\"#arrow-5cb2cd0950314536bf3ec50c792bf8b7-0-101\" class=\"displacy-label\" startOffset=\"50%\" side=\"left\" fill=\"currentColor\" text-anchor=\"middle\">appos</textPath>\n",
              "    </text>\n",
              "    <path class=\"displacy-arrowhead\" d=\"M16515.0,604.0 L16523.0,592.0 16507.0,592.0\" fill=\"currentColor\"/>\n",
              "</g>\n",
              "\n",
              "<g class=\"displacy-arrow\">\n",
              "    <path class=\"displacy-arc\" id=\"arrow-5cb2cd0950314536bf3ec50c792bf8b7-0-102\" stroke-width=\"2px\" d=\"M16720,602.0 C16720,452.0 16970.0,452.0 16970.0,602.0\" fill=\"none\" stroke=\"currentColor\"/>\n",
              "    <text dy=\"1.25em\" style=\"font-size: 0.8em; letter-spacing: 1px\">\n",
              "        <textPath xlink:href=\"#arrow-5cb2cd0950314536bf3ec50c792bf8b7-0-102\" class=\"displacy-label\" startOffset=\"50%\" side=\"left\" fill=\"currentColor\" text-anchor=\"middle\">compound</textPath>\n",
              "    </text>\n",
              "    <path class=\"displacy-arrowhead\" d=\"M16720,604.0 L16712,592.0 16728,592.0\" fill=\"currentColor\"/>\n",
              "</g>\n",
              "\n",
              "<g class=\"displacy-arrow\">\n",
              "    <path class=\"displacy-arc\" id=\"arrow-5cb2cd0950314536bf3ec50c792bf8b7-0-103\" stroke-width=\"2px\" d=\"M16870,602.0 C16870,527.0 16965.0,527.0 16965.0,602.0\" fill=\"none\" stroke=\"currentColor\"/>\n",
              "    <text dy=\"1.25em\" style=\"font-size: 0.8em; letter-spacing: 1px\">\n",
              "        <textPath xlink:href=\"#arrow-5cb2cd0950314536bf3ec50c792bf8b7-0-103\" class=\"displacy-label\" startOffset=\"50%\" side=\"left\" fill=\"currentColor\" text-anchor=\"middle\">compound</textPath>\n",
              "    </text>\n",
              "    <path class=\"displacy-arrowhead\" d=\"M16870,604.0 L16862,592.0 16878,592.0\" fill=\"currentColor\"/>\n",
              "</g>\n",
              "\n",
              "<g class=\"displacy-arrow\">\n",
              "    <path class=\"displacy-arc\" id=\"arrow-5cb2cd0950314536bf3ec50c792bf8b7-0-104\" stroke-width=\"2px\" d=\"M17020,602.0 C17020,527.0 17115.0,527.0 17115.0,602.0\" fill=\"none\" stroke=\"currentColor\"/>\n",
              "    <text dy=\"1.25em\" style=\"font-size: 0.8em; letter-spacing: 1px\">\n",
              "        <textPath xlink:href=\"#arrow-5cb2cd0950314536bf3ec50c792bf8b7-0-104\" class=\"displacy-label\" startOffset=\"50%\" side=\"left\" fill=\"currentColor\" text-anchor=\"middle\">nummod</textPath>\n",
              "    </text>\n",
              "    <path class=\"displacy-arrowhead\" d=\"M17020,604.0 L17012,592.0 17028,592.0\" fill=\"currentColor\"/>\n",
              "</g>\n",
              "\n",
              "<g class=\"displacy-arrow\">\n",
              "    <path class=\"displacy-arc\" id=\"arrow-5cb2cd0950314536bf3ec50c792bf8b7-0-105\" stroke-width=\"2px\" d=\"M17170,602.0 C17170,527.0 17265.0,527.0 17265.0,602.0\" fill=\"none\" stroke=\"currentColor\"/>\n",
              "    <text dy=\"1.25em\" style=\"font-size: 0.8em; letter-spacing: 1px\">\n",
              "        <textPath xlink:href=\"#arrow-5cb2cd0950314536bf3ec50c792bf8b7-0-105\" class=\"displacy-label\" startOffset=\"50%\" side=\"left\" fill=\"currentColor\" text-anchor=\"middle\">npadvmod</textPath>\n",
              "    </text>\n",
              "    <path class=\"displacy-arrowhead\" d=\"M17170,604.0 L17162,592.0 17178,592.0\" fill=\"currentColor\"/>\n",
              "</g>\n",
              "\n",
              "<g class=\"displacy-arrow\">\n",
              "    <path class=\"displacy-arc\" id=\"arrow-5cb2cd0950314536bf3ec50c792bf8b7-0-106\" stroke-width=\"2px\" d=\"M17320,602.0 C17320,377.0 17725.0,377.0 17725.0,602.0\" fill=\"none\" stroke=\"currentColor\"/>\n",
              "    <text dy=\"1.25em\" style=\"font-size: 0.8em; letter-spacing: 1px\">\n",
              "        <textPath xlink:href=\"#arrow-5cb2cd0950314536bf3ec50c792bf8b7-0-106\" class=\"displacy-label\" startOffset=\"50%\" side=\"left\" fill=\"currentColor\" text-anchor=\"middle\">advmod</textPath>\n",
              "    </text>\n",
              "    <path class=\"displacy-arrowhead\" d=\"M17320,604.0 L17312,592.0 17328,592.0\" fill=\"currentColor\"/>\n",
              "</g>\n",
              "\n",
              "<g class=\"displacy-arrow\">\n",
              "    <path class=\"displacy-arc\" id=\"arrow-5cb2cd0950314536bf3ec50c792bf8b7-0-107\" stroke-width=\"2px\" d=\"M17470,602.0 C17470,452.0 17720.0,452.0 17720.0,602.0\" fill=\"none\" stroke=\"currentColor\"/>\n",
              "    <text dy=\"1.25em\" style=\"font-size: 0.8em; letter-spacing: 1px\">\n",
              "        <textPath xlink:href=\"#arrow-5cb2cd0950314536bf3ec50c792bf8b7-0-107\" class=\"displacy-label\" startOffset=\"50%\" side=\"left\" fill=\"currentColor\" text-anchor=\"middle\">nsubjpass</textPath>\n",
              "    </text>\n",
              "    <path class=\"displacy-arrowhead\" d=\"M17470,604.0 L17462,592.0 17478,592.0\" fill=\"currentColor\"/>\n",
              "</g>\n",
              "\n",
              "<g class=\"displacy-arrow\">\n",
              "    <path class=\"displacy-arc\" id=\"arrow-5cb2cd0950314536bf3ec50c792bf8b7-0-108\" stroke-width=\"2px\" d=\"M17620,602.0 C17620,527.0 17715.0,527.0 17715.0,602.0\" fill=\"none\" stroke=\"currentColor\"/>\n",
              "    <text dy=\"1.25em\" style=\"font-size: 0.8em; letter-spacing: 1px\">\n",
              "        <textPath xlink:href=\"#arrow-5cb2cd0950314536bf3ec50c792bf8b7-0-108\" class=\"displacy-label\" startOffset=\"50%\" side=\"left\" fill=\"currentColor\" text-anchor=\"middle\">auxpass</textPath>\n",
              "    </text>\n",
              "    <path class=\"displacy-arrowhead\" d=\"M17620,604.0 L17612,592.0 17628,592.0\" fill=\"currentColor\"/>\n",
              "</g>\n",
              "\n",
              "<g class=\"displacy-arrow\">\n",
              "    <path class=\"displacy-arc\" id=\"arrow-5cb2cd0950314536bf3ec50c792bf8b7-0-109\" stroke-width=\"2px\" d=\"M17770,602.0 C17770,527.0 17865.0,527.0 17865.0,602.0\" fill=\"none\" stroke=\"currentColor\"/>\n",
              "    <text dy=\"1.25em\" style=\"font-size: 0.8em; letter-spacing: 1px\">\n",
              "        <textPath xlink:href=\"#arrow-5cb2cd0950314536bf3ec50c792bf8b7-0-109\" class=\"displacy-label\" startOffset=\"50%\" side=\"left\" fill=\"currentColor\" text-anchor=\"middle\">prep</textPath>\n",
              "    </text>\n",
              "    <path class=\"displacy-arrowhead\" d=\"M17865.0,604.0 L17873.0,592.0 17857.0,592.0\" fill=\"currentColor\"/>\n",
              "</g>\n",
              "\n",
              "<g class=\"displacy-arrow\">\n",
              "    <path class=\"displacy-arc\" id=\"arrow-5cb2cd0950314536bf3ec50c792bf8b7-0-110\" stroke-width=\"2px\" d=\"M17920,602.0 C17920,527.0 18015.0,527.0 18015.0,602.0\" fill=\"none\" stroke=\"currentColor\"/>\n",
              "    <text dy=\"1.25em\" style=\"font-size: 0.8em; letter-spacing: 1px\">\n",
              "        <textPath xlink:href=\"#arrow-5cb2cd0950314536bf3ec50c792bf8b7-0-110\" class=\"displacy-label\" startOffset=\"50%\" side=\"left\" fill=\"currentColor\" text-anchor=\"middle\">pobj</textPath>\n",
              "    </text>\n",
              "    <path class=\"displacy-arrowhead\" d=\"M18015.0,604.0 L18023.0,592.0 18007.0,592.0\" fill=\"currentColor\"/>\n",
              "</g>\n",
              "\n",
              "<g class=\"displacy-arrow\">\n",
              "    <path class=\"displacy-arc\" id=\"arrow-5cb2cd0950314536bf3ec50c792bf8b7-0-111\" stroke-width=\"2px\" d=\"M18220,602.0 C18220,527.0 18315.0,527.0 18315.0,602.0\" fill=\"none\" stroke=\"currentColor\"/>\n",
              "    <text dy=\"1.25em\" style=\"font-size: 0.8em; letter-spacing: 1px\">\n",
              "        <textPath xlink:href=\"#arrow-5cb2cd0950314536bf3ec50c792bf8b7-0-111\" class=\"displacy-label\" startOffset=\"50%\" side=\"left\" fill=\"currentColor\" text-anchor=\"middle\">det</textPath>\n",
              "    </text>\n",
              "    <path class=\"displacy-arrowhead\" d=\"M18220,604.0 L18212,592.0 18228,592.0\" fill=\"currentColor\"/>\n",
              "</g>\n",
              "\n",
              "<g class=\"displacy-arrow\">\n",
              "    <path class=\"displacy-arc\" id=\"arrow-5cb2cd0950314536bf3ec50c792bf8b7-0-112\" stroke-width=\"2px\" d=\"M18370,602.0 C18370,452.0 18620.0,452.0 18620.0,602.0\" fill=\"none\" stroke=\"currentColor\"/>\n",
              "    <text dy=\"1.25em\" style=\"font-size: 0.8em; letter-spacing: 1px\">\n",
              "        <textPath xlink:href=\"#arrow-5cb2cd0950314536bf3ec50c792bf8b7-0-112\" class=\"displacy-label\" startOffset=\"50%\" side=\"left\" fill=\"currentColor\" text-anchor=\"middle\">nsubjpass</textPath>\n",
              "    </text>\n",
              "    <path class=\"displacy-arrowhead\" d=\"M18370,604.0 L18362,592.0 18378,592.0\" fill=\"currentColor\"/>\n",
              "</g>\n",
              "\n",
              "<g class=\"displacy-arrow\">\n",
              "    <path class=\"displacy-arc\" id=\"arrow-5cb2cd0950314536bf3ec50c792bf8b7-0-113\" stroke-width=\"2px\" d=\"M18520,602.0 C18520,527.0 18615.0,527.0 18615.0,602.0\" fill=\"none\" stroke=\"currentColor\"/>\n",
              "    <text dy=\"1.25em\" style=\"font-size: 0.8em; letter-spacing: 1px\">\n",
              "        <textPath xlink:href=\"#arrow-5cb2cd0950314536bf3ec50c792bf8b7-0-113\" class=\"displacy-label\" startOffset=\"50%\" side=\"left\" fill=\"currentColor\" text-anchor=\"middle\">auxpass</textPath>\n",
              "    </text>\n",
              "    <path class=\"displacy-arrowhead\" d=\"M18520,604.0 L18512,592.0 18528,592.0\" fill=\"currentColor\"/>\n",
              "</g>\n",
              "\n",
              "<g class=\"displacy-arrow\">\n",
              "    <path class=\"displacy-arc\" id=\"arrow-5cb2cd0950314536bf3ec50c792bf8b7-0-114\" stroke-width=\"2px\" d=\"M18670,602.0 C18670,527.0 18765.0,527.0 18765.0,602.0\" fill=\"none\" stroke=\"currentColor\"/>\n",
              "    <text dy=\"1.25em\" style=\"font-size: 0.8em; letter-spacing: 1px\">\n",
              "        <textPath xlink:href=\"#arrow-5cb2cd0950314536bf3ec50c792bf8b7-0-114\" class=\"displacy-label\" startOffset=\"50%\" side=\"left\" fill=\"currentColor\" text-anchor=\"middle\">prep</textPath>\n",
              "    </text>\n",
              "    <path class=\"displacy-arrowhead\" d=\"M18765.0,604.0 L18773.0,592.0 18757.0,592.0\" fill=\"currentColor\"/>\n",
              "</g>\n",
              "\n",
              "<g class=\"displacy-arrow\">\n",
              "    <path class=\"displacy-arc\" id=\"arrow-5cb2cd0950314536bf3ec50c792bf8b7-0-115\" stroke-width=\"2px\" d=\"M18970,602.0 C18970,452.0 19220.0,452.0 19220.0,602.0\" fill=\"none\" stroke=\"currentColor\"/>\n",
              "    <text dy=\"1.25em\" style=\"font-size: 0.8em; letter-spacing: 1px\">\n",
              "        <textPath xlink:href=\"#arrow-5cb2cd0950314536bf3ec50c792bf8b7-0-115\" class=\"displacy-label\" startOffset=\"50%\" side=\"left\" fill=\"currentColor\" text-anchor=\"middle\">det</textPath>\n",
              "    </text>\n",
              "    <path class=\"displacy-arrowhead\" d=\"M18970,604.0 L18962,592.0 18978,592.0\" fill=\"currentColor\"/>\n",
              "</g>\n",
              "\n",
              "<g class=\"displacy-arrow\">\n",
              "    <path class=\"displacy-arc\" id=\"arrow-5cb2cd0950314536bf3ec50c792bf8b7-0-116\" stroke-width=\"2px\" d=\"M19120,602.0 C19120,527.0 19215.0,527.0 19215.0,602.0\" fill=\"none\" stroke=\"currentColor\"/>\n",
              "    <text dy=\"1.25em\" style=\"font-size: 0.8em; letter-spacing: 1px\">\n",
              "        <textPath xlink:href=\"#arrow-5cb2cd0950314536bf3ec50c792bf8b7-0-116\" class=\"displacy-label\" startOffset=\"50%\" side=\"left\" fill=\"currentColor\" text-anchor=\"middle\">compound</textPath>\n",
              "    </text>\n",
              "    <path class=\"displacy-arrowhead\" d=\"M19120,604.0 L19112,592.0 19128,592.0\" fill=\"currentColor\"/>\n",
              "</g>\n",
              "\n",
              "<g class=\"displacy-arrow\">\n",
              "    <path class=\"displacy-arc\" id=\"arrow-5cb2cd0950314536bf3ec50c792bf8b7-0-117\" stroke-width=\"2px\" d=\"M18820,602.0 C18820,377.0 19225.0,377.0 19225.0,602.0\" fill=\"none\" stroke=\"currentColor\"/>\n",
              "    <text dy=\"1.25em\" style=\"font-size: 0.8em; letter-spacing: 1px\">\n",
              "        <textPath xlink:href=\"#arrow-5cb2cd0950314536bf3ec50c792bf8b7-0-117\" class=\"displacy-label\" startOffset=\"50%\" side=\"left\" fill=\"currentColor\" text-anchor=\"middle\">pobj</textPath>\n",
              "    </text>\n",
              "    <path class=\"displacy-arrowhead\" d=\"M19225.0,604.0 L19233.0,592.0 19217.0,592.0\" fill=\"currentColor\"/>\n",
              "</g>\n",
              "\n",
              "<g class=\"displacy-arrow\">\n",
              "    <path class=\"displacy-arc\" id=\"arrow-5cb2cd0950314536bf3ec50c792bf8b7-0-118\" stroke-width=\"2px\" d=\"M19420,602.0 C19420,452.0 19670.0,452.0 19670.0,602.0\" fill=\"none\" stroke=\"currentColor\"/>\n",
              "    <text dy=\"1.25em\" style=\"font-size: 0.8em; letter-spacing: 1px\">\n",
              "        <textPath xlink:href=\"#arrow-5cb2cd0950314536bf3ec50c792bf8b7-0-118\" class=\"displacy-label\" startOffset=\"50%\" side=\"left\" fill=\"currentColor\" text-anchor=\"middle\">npadvmod</textPath>\n",
              "    </text>\n",
              "    <path class=\"displacy-arrowhead\" d=\"M19420,604.0 L19412,592.0 19428,592.0\" fill=\"currentColor\"/>\n",
              "</g>\n",
              "\n",
              "<g class=\"displacy-arrow\">\n",
              "    <path class=\"displacy-arc\" id=\"arrow-5cb2cd0950314536bf3ec50c792bf8b7-0-119\" stroke-width=\"2px\" d=\"M19570,602.0 C19570,527.0 19665.0,527.0 19665.0,602.0\" fill=\"none\" stroke=\"currentColor\"/>\n",
              "    <text dy=\"1.25em\" style=\"font-size: 0.8em; letter-spacing: 1px\">\n",
              "        <textPath xlink:href=\"#arrow-5cb2cd0950314536bf3ec50c792bf8b7-0-119\" class=\"displacy-label\" startOffset=\"50%\" side=\"left\" fill=\"currentColor\" text-anchor=\"middle\">nsubj</textPath>\n",
              "    </text>\n",
              "    <path class=\"displacy-arrowhead\" d=\"M19570,604.0 L19562,592.0 19578,592.0\" fill=\"currentColor\"/>\n",
              "</g>\n",
              "\n",
              "<g class=\"displacy-arrow\">\n",
              "    <path class=\"displacy-arc\" id=\"arrow-5cb2cd0950314536bf3ec50c792bf8b7-0-120\" stroke-width=\"2px\" d=\"M19870,602.0 C19870,527.0 19965.0,527.0 19965.0,602.0\" fill=\"none\" stroke=\"currentColor\"/>\n",
              "    <text dy=\"1.25em\" style=\"font-size: 0.8em; letter-spacing: 1px\">\n",
              "        <textPath xlink:href=\"#arrow-5cb2cd0950314536bf3ec50c792bf8b7-0-120\" class=\"displacy-label\" startOffset=\"50%\" side=\"left\" fill=\"currentColor\" text-anchor=\"middle\">compound</textPath>\n",
              "    </text>\n",
              "    <path class=\"displacy-arrowhead\" d=\"M19870,604.0 L19862,592.0 19878,592.0\" fill=\"currentColor\"/>\n",
              "</g>\n",
              "\n",
              "<g class=\"displacy-arrow\">\n",
              "    <path class=\"displacy-arc\" id=\"arrow-5cb2cd0950314536bf3ec50c792bf8b7-0-121\" stroke-width=\"2px\" d=\"M19720,602.0 C19720,452.0 19970.0,452.0 19970.0,602.0\" fill=\"none\" stroke=\"currentColor\"/>\n",
              "    <text dy=\"1.25em\" style=\"font-size: 0.8em; letter-spacing: 1px\">\n",
              "        <textPath xlink:href=\"#arrow-5cb2cd0950314536bf3ec50c792bf8b7-0-121\" class=\"displacy-label\" startOffset=\"50%\" side=\"left\" fill=\"currentColor\" text-anchor=\"middle\">dobj</textPath>\n",
              "    </text>\n",
              "    <path class=\"displacy-arrowhead\" d=\"M19970.0,604.0 L19978.0,592.0 19962.0,592.0\" fill=\"currentColor\"/>\n",
              "</g>\n",
              "\n",
              "<g class=\"displacy-arrow\">\n",
              "    <path class=\"displacy-arc\" id=\"arrow-5cb2cd0950314536bf3ec50c792bf8b7-0-122\" stroke-width=\"2px\" d=\"M19720,602.0 C19720,377.0 20125.0,377.0 20125.0,602.0\" fill=\"none\" stroke=\"currentColor\"/>\n",
              "    <text dy=\"1.25em\" style=\"font-size: 0.8em; letter-spacing: 1px\">\n",
              "        <textPath xlink:href=\"#arrow-5cb2cd0950314536bf3ec50c792bf8b7-0-122\" class=\"displacy-label\" startOffset=\"50%\" side=\"left\" fill=\"currentColor\" text-anchor=\"middle\">prep</textPath>\n",
              "    </text>\n",
              "    <path class=\"displacy-arrowhead\" d=\"M20125.0,604.0 L20133.0,592.0 20117.0,592.0\" fill=\"currentColor\"/>\n",
              "</g>\n",
              "\n",
              "<g class=\"displacy-arrow\">\n",
              "    <path class=\"displacy-arc\" id=\"arrow-5cb2cd0950314536bf3ec50c792bf8b7-0-123\" stroke-width=\"2px\" d=\"M20170,602.0 C20170,527.0 20265.0,527.0 20265.0,602.0\" fill=\"none\" stroke=\"currentColor\"/>\n",
              "    <text dy=\"1.25em\" style=\"font-size: 0.8em; letter-spacing: 1px\">\n",
              "        <textPath xlink:href=\"#arrow-5cb2cd0950314536bf3ec50c792bf8b7-0-123\" class=\"displacy-label\" startOffset=\"50%\" side=\"left\" fill=\"currentColor\" text-anchor=\"middle\">prep</textPath>\n",
              "    </text>\n",
              "    <path class=\"displacy-arrowhead\" d=\"M20265.0,604.0 L20273.0,592.0 20257.0,592.0\" fill=\"currentColor\"/>\n",
              "</g>\n",
              "\n",
              "<g class=\"displacy-arrow\">\n",
              "    <path class=\"displacy-arc\" id=\"arrow-5cb2cd0950314536bf3ec50c792bf8b7-0-124\" stroke-width=\"2px\" d=\"M20470,602.0 C20470,527.0 20565.0,527.0 20565.0,602.0\" fill=\"none\" stroke=\"currentColor\"/>\n",
              "    <text dy=\"1.25em\" style=\"font-size: 0.8em; letter-spacing: 1px\">\n",
              "        <textPath xlink:href=\"#arrow-5cb2cd0950314536bf3ec50c792bf8b7-0-124\" class=\"displacy-label\" startOffset=\"50%\" side=\"left\" fill=\"currentColor\" text-anchor=\"middle\">det</textPath>\n",
              "    </text>\n",
              "    <path class=\"displacy-arrowhead\" d=\"M20470,604.0 L20462,592.0 20478,592.0\" fill=\"currentColor\"/>\n",
              "</g>\n",
              "\n",
              "<g class=\"displacy-arrow\">\n",
              "    <path class=\"displacy-arc\" id=\"arrow-5cb2cd0950314536bf3ec50c792bf8b7-0-125\" stroke-width=\"2px\" d=\"M20320,602.0 C20320,452.0 20570.0,452.0 20570.0,602.0\" fill=\"none\" stroke=\"currentColor\"/>\n",
              "    <text dy=\"1.25em\" style=\"font-size: 0.8em; letter-spacing: 1px\">\n",
              "        <textPath xlink:href=\"#arrow-5cb2cd0950314536bf3ec50c792bf8b7-0-125\" class=\"displacy-label\" startOffset=\"50%\" side=\"left\" fill=\"currentColor\" text-anchor=\"middle\">pobj</textPath>\n",
              "    </text>\n",
              "    <path class=\"displacy-arrowhead\" d=\"M20570.0,604.0 L20578.0,592.0 20562.0,592.0\" fill=\"currentColor\"/>\n",
              "</g>\n",
              "\n",
              "<g class=\"displacy-arrow\">\n",
              "    <path class=\"displacy-arc\" id=\"arrow-5cb2cd0950314536bf3ec50c792bf8b7-0-126\" stroke-width=\"2px\" d=\"M20770,602.0 C20770,527.0 20865.0,527.0 20865.0,602.0\" fill=\"none\" stroke=\"currentColor\"/>\n",
              "    <text dy=\"1.25em\" style=\"font-size: 0.8em; letter-spacing: 1px\">\n",
              "        <textPath xlink:href=\"#arrow-5cb2cd0950314536bf3ec50c792bf8b7-0-126\" class=\"displacy-label\" startOffset=\"50%\" side=\"left\" fill=\"currentColor\" text-anchor=\"middle\">nsubj</textPath>\n",
              "    </text>\n",
              "    <path class=\"displacy-arrowhead\" d=\"M20770,604.0 L20762,592.0 20778,592.0\" fill=\"currentColor\"/>\n",
              "</g>\n",
              "\n",
              "<g class=\"displacy-arrow\">\n",
              "    <path class=\"displacy-arc\" id=\"arrow-5cb2cd0950314536bf3ec50c792bf8b7-0-127\" stroke-width=\"2px\" d=\"M20920,602.0 C20920,527.0 21015.0,527.0 21015.0,602.0\" fill=\"none\" stroke=\"currentColor\"/>\n",
              "    <text dy=\"1.25em\" style=\"font-size: 0.8em; letter-spacing: 1px\">\n",
              "        <textPath xlink:href=\"#arrow-5cb2cd0950314536bf3ec50c792bf8b7-0-127\" class=\"displacy-label\" startOffset=\"50%\" side=\"left\" fill=\"currentColor\" text-anchor=\"middle\">prep</textPath>\n",
              "    </text>\n",
              "    <path class=\"displacy-arrowhead\" d=\"M21015.0,604.0 L21023.0,592.0 21007.0,592.0\" fill=\"currentColor\"/>\n",
              "</g>\n",
              "\n",
              "<g class=\"displacy-arrow\">\n",
              "    <path class=\"displacy-arc\" id=\"arrow-5cb2cd0950314536bf3ec50c792bf8b7-0-128\" stroke-width=\"2px\" d=\"M21220,602.0 C21220,227.0 21935.0,227.0 21935.0,602.0\" fill=\"none\" stroke=\"currentColor\"/>\n",
              "    <text dy=\"1.25em\" style=\"font-size: 0.8em; letter-spacing: 1px\">\n",
              "        <textPath xlink:href=\"#arrow-5cb2cd0950314536bf3ec50c792bf8b7-0-128\" class=\"displacy-label\" startOffset=\"50%\" side=\"left\" fill=\"currentColor\" text-anchor=\"middle\">dobj</textPath>\n",
              "    </text>\n",
              "    <path class=\"displacy-arrowhead\" d=\"M21220,604.0 L21212,592.0 21228,592.0\" fill=\"currentColor\"/>\n",
              "</g>\n",
              "\n",
              "<g class=\"displacy-arrow\">\n",
              "    <path class=\"displacy-arc\" id=\"arrow-5cb2cd0950314536bf3ec50c792bf8b7-0-129\" stroke-width=\"2px\" d=\"M21370,602.0 C21370,452.0 21620.0,452.0 21620.0,602.0\" fill=\"none\" stroke=\"currentColor\"/>\n",
              "    <text dy=\"1.25em\" style=\"font-size: 0.8em; letter-spacing: 1px\">\n",
              "        <textPath xlink:href=\"#arrow-5cb2cd0950314536bf3ec50c792bf8b7-0-129\" class=\"displacy-label\" startOffset=\"50%\" side=\"left\" fill=\"currentColor\" text-anchor=\"middle\">det</textPath>\n",
              "    </text>\n",
              "    <path class=\"displacy-arrowhead\" d=\"M21370,604.0 L21362,592.0 21378,592.0\" fill=\"currentColor\"/>\n",
              "</g>\n",
              "\n",
              "<g class=\"displacy-arrow\">\n",
              "    <path class=\"displacy-arc\" id=\"arrow-5cb2cd0950314536bf3ec50c792bf8b7-0-130\" stroke-width=\"2px\" d=\"M21520,602.0 C21520,527.0 21615.0,527.0 21615.0,602.0\" fill=\"none\" stroke=\"currentColor\"/>\n",
              "    <text dy=\"1.25em\" style=\"font-size: 0.8em; letter-spacing: 1px\">\n",
              "        <textPath xlink:href=\"#arrow-5cb2cd0950314536bf3ec50c792bf8b7-0-130\" class=\"displacy-label\" startOffset=\"50%\" side=\"left\" fill=\"currentColor\" text-anchor=\"middle\">amod</textPath>\n",
              "    </text>\n",
              "    <path class=\"displacy-arrowhead\" d=\"M21520,604.0 L21512,592.0 21528,592.0\" fill=\"currentColor\"/>\n",
              "</g>\n",
              "\n",
              "<g class=\"displacy-arrow\">\n",
              "    <path class=\"displacy-arc\" id=\"arrow-5cb2cd0950314536bf3ec50c792bf8b7-0-131\" stroke-width=\"2px\" d=\"M21670,602.0 C21670,452.0 21920.0,452.0 21920.0,602.0\" fill=\"none\" stroke=\"currentColor\"/>\n",
              "    <text dy=\"1.25em\" style=\"font-size: 0.8em; letter-spacing: 1px\">\n",
              "        <textPath xlink:href=\"#arrow-5cb2cd0950314536bf3ec50c792bf8b7-0-131\" class=\"displacy-label\" startOffset=\"50%\" side=\"left\" fill=\"currentColor\" text-anchor=\"middle\">nsubj</textPath>\n",
              "    </text>\n",
              "    <path class=\"displacy-arrowhead\" d=\"M21670,604.0 L21662,592.0 21678,592.0\" fill=\"currentColor\"/>\n",
              "</g>\n",
              "\n",
              "<g class=\"displacy-arrow\">\n",
              "    <path class=\"displacy-arc\" id=\"arrow-5cb2cd0950314536bf3ec50c792bf8b7-0-132\" stroke-width=\"2px\" d=\"M21820,602.0 C21820,527.0 21915.0,527.0 21915.0,602.0\" fill=\"none\" stroke=\"currentColor\"/>\n",
              "    <text dy=\"1.25em\" style=\"font-size: 0.8em; letter-spacing: 1px\">\n",
              "        <textPath xlink:href=\"#arrow-5cb2cd0950314536bf3ec50c792bf8b7-0-132\" class=\"displacy-label\" startOffset=\"50%\" side=\"left\" fill=\"currentColor\" text-anchor=\"middle\">aux</textPath>\n",
              "    </text>\n",
              "    <path class=\"displacy-arrowhead\" d=\"M21820,604.0 L21812,592.0 21828,592.0\" fill=\"currentColor\"/>\n",
              "</g>\n",
              "\n",
              "<g class=\"displacy-arrow\">\n",
              "    <path class=\"displacy-arc\" id=\"arrow-5cb2cd0950314536bf3ec50c792bf8b7-0-133\" stroke-width=\"2px\" d=\"M21070,602.0 C21070,152.0 21940.0,152.0 21940.0,602.0\" fill=\"none\" stroke=\"currentColor\"/>\n",
              "    <text dy=\"1.25em\" style=\"font-size: 0.8em; letter-spacing: 1px\">\n",
              "        <textPath xlink:href=\"#arrow-5cb2cd0950314536bf3ec50c792bf8b7-0-133\" class=\"displacy-label\" startOffset=\"50%\" side=\"left\" fill=\"currentColor\" text-anchor=\"middle\">pcomp</textPath>\n",
              "    </text>\n",
              "    <path class=\"displacy-arrowhead\" d=\"M21940.0,604.0 L21948.0,592.0 21932.0,592.0\" fill=\"currentColor\"/>\n",
              "</g>\n",
              "</svg></span>"
            ],
            "text/plain": [
              "<IPython.core.display.HTML object>"
            ]
          },
          "metadata": {
            "tags": []
          }
        }
      ]
    },
    {
      "cell_type": "markdown",
      "metadata": {
        "id": "Hbx92JXO6R17"
      },
      "source": [
        "### Named Entity Recognition"
      ]
    },
    {
      "cell_type": "markdown",
      "metadata": {
        "id": "OWyzADD46X86"
      },
      "source": [
        "**spaCy** 는 자연어를 처리하는 매우 빠른 통계 기반 라이브러리입니다.\n",
        "\n",
        "회사, 장소, 조직, 제품 등의 고유명사를 식별하여 태깅할 수 있습니다. 통계 기반 프로세스이기 때문에 학습된 데이터에 따라 식별하는 정도가 달라질 수 있으며 필요한 경우 튜닝도 가능합니다.\n",
        "\n",
        "spaCy에 의해 명명된 단어는 문서의 ents 속성으로 사용할 수 있습니다."
      ]
    },
    {
      "cell_type": "code",
      "metadata": {
        "colab": {
          "base_uri": "https://localhost:8080/"
        },
        "id": "9vN3cYXX6YGh",
        "outputId": "77a18b05-b50a-4e08-d31f-0ae3cc52b5ab"
      },
      "source": [
        "doc1 = nlp(train_data['excerpt'][22]);doc1"
      ],
      "execution_count": 115,
      "outputs": [
        {
          "output_type": "execute_result",
          "data": {
            "text/plain": [
              "Were you ever on the coast of Maine? If so, you know how the rocky shores stretch out now and then clear into the ocean, and fret the salt waves till they are all in a foam. Old Ocean is not to be so set at defiance and have his rightful territory wrung from him, without taking his revenge after his own fashion. Far up into the land he sends his arms, and crooks and bends and makes his way amid the rocks, and finally falls asleep in some quiet harbor, where the tall pines stand by the shore to sing him a lullaby.\n",
              "In just such a spot as this the town we shall call Fairport was built. Axe in one hand and Bible in the other, stern settlers here found a home. Strong hard-featured sons, and fair rosy-cheeked daughters made glad the rude cabins that were soon scattered along the shore. The axe was plied in the woods, and the needle by the fireside, and yet grim Poverty was ever shaking her fist in the very faces of the settlers, and whispering sad things of what the uncertain future might have in store for them."
            ]
          },
          "metadata": {
            "tags": []
          },
          "execution_count": 115
        }
      ]
    },
    {
      "cell_type": "code",
      "metadata": {
        "colab": {
          "base_uri": "https://localhost:8080/"
        },
        "id": "Tg-IppeA8I1K",
        "outputId": "159bc04b-0fa1-4729-9a7f-33b2e8c0778b"
      },
      "source": [
        "# doc1에 속한 ents(Entity) 단어 확인\n",
        "doc1.ents"
      ],
      "execution_count": 117,
      "outputs": [
        {
          "output_type": "execute_result",
          "data": {
            "text/plain": [
              "(Maine, Ocean, Fairport, Bible)"
            ]
          },
          "metadata": {
            "tags": []
          },
          "execution_count": 117
        }
      ]
    },
    {
      "cell_type": "code",
      "metadata": {
        "colab": {
          "base_uri": "https://localhost:8080/",
          "height": 225
        },
        "id": "o9UeYJuJ6YMv",
        "outputId": "6efd9ec2-5cd7-4fcd-bbb0-0ed7f1fbb050"
      },
      "source": [
        "# spacy를 사용하여 고유명사 태깅하기\n",
        "\n",
        "displacy.render(doc1, style=\"ent\", jupyter=\"True\")\n",
        "# gpe = Geopolitical Entity\n",
        "# org = Organization"
      ],
      "execution_count": 116,
      "outputs": [
        {
          "output_type": "display_data",
          "data": {
            "text/html": [
              "<span class=\"tex2jax_ignore\"><div class=\"entities\" style=\"line-height: 2.5; direction: ltr\">Were you ever on the coast of \n",
              "<mark class=\"entity\" style=\"background: #feca74; padding: 0.45em 0.6em; margin: 0 0.25em; line-height: 1; border-radius: 0.35em;\">\n",
              "    Maine\n",
              "    <span style=\"font-size: 0.8em; font-weight: bold; line-height: 1; border-radius: 0.35em; text-transform: uppercase; vertical-align: middle; margin-left: 0.5rem\">GPE</span>\n",
              "</mark>\n",
              "? If so, you know how the rocky shores stretch out now and then clear into the ocean, and fret the salt waves till they are all in a foam. Old \n",
              "<mark class=\"entity\" style=\"background: #ff9561; padding: 0.45em 0.6em; margin: 0 0.25em; line-height: 1; border-radius: 0.35em;\">\n",
              "    Ocean\n",
              "    <span style=\"font-size: 0.8em; font-weight: bold; line-height: 1; border-radius: 0.35em; text-transform: uppercase; vertical-align: middle; margin-left: 0.5rem\">LOC</span>\n",
              "</mark>\n",
              " is not to be so set at defiance and have his rightful territory wrung from him, without taking his revenge after his own fashion. Far up into the land he sends his arms, and crooks and bends and makes his way amid the rocks, and finally falls asleep in some quiet harbor, where the tall pines stand by the shore to sing him a lullaby.</br>In just such a spot as this the town we shall call \n",
              "<mark class=\"entity\" style=\"background: #7aecec; padding: 0.45em 0.6em; margin: 0 0.25em; line-height: 1; border-radius: 0.35em;\">\n",
              "    Fairport\n",
              "    <span style=\"font-size: 0.8em; font-weight: bold; line-height: 1; border-radius: 0.35em; text-transform: uppercase; vertical-align: middle; margin-left: 0.5rem\">ORG</span>\n",
              "</mark>\n",
              " was built. Axe in one hand and \n",
              "<mark class=\"entity\" style=\"background: #f0d0ff; padding: 0.45em 0.6em; margin: 0 0.25em; line-height: 1; border-radius: 0.35em;\">\n",
              "    Bible\n",
              "    <span style=\"font-size: 0.8em; font-weight: bold; line-height: 1; border-radius: 0.35em; text-transform: uppercase; vertical-align: middle; margin-left: 0.5rem\">WORK_OF_ART</span>\n",
              "</mark>\n",
              " in the other, stern settlers here found a home. Strong hard-featured sons, and fair rosy-cheeked daughters made glad the rude cabins that were soon scattered along the shore. The axe was plied in the woods, and the needle by the fireside, and yet grim Poverty was ever shaking her fist in the very faces of the settlers, and whispering sad things of what the uncertain future might have in store for them.</div></span>"
            ],
            "text/plain": [
              "<IPython.core.display.HTML object>"
            ]
          },
          "metadata": {
            "tags": []
          }
        }
      ]
    },
    {
      "cell_type": "code",
      "metadata": {
        "colab": {
          "base_uri": "https://localhost:8080/"
        },
        "id": "HvXlU4Ui8p6A",
        "outputId": "f9e5aa08-464b-47cd-b707-cb0554a0d36d"
      },
      "source": [
        "for e in doc1.ents:\n",
        "  print(e.text, e.start_char, e.end_char, e.label_)"
      ],
      "execution_count": 124,
      "outputs": [
        {
          "output_type": "stream",
          "text": [
            "Maine 30 35 GPE\n",
            "Ocean 178 183 LOC\n",
            "Fairport 570 578 ORG\n",
            "Bible 610 615 WORK_OF_ART\n"
          ],
          "name": "stdout"
        }
      ]
    },
    {
      "cell_type": "markdown",
      "metadata": {
        "id": "9voyb8MXsaZr"
      },
      "source": [
        "## Bag of Words + Model"
      ]
    },
    {
      "cell_type": "markdown",
      "metadata": {
        "id": "40PsbMFu9uRJ"
      },
      "source": [
        "Bag of Words는 문서 내 단어의 발생 빈도를 표현하는 방식입니다. BoW를 만드는 과정은 다음과 같습니다.\n",
        "1. 문장의 각 단어에 고유한 인덱스를 부여합니다.\n",
        "2. 각 인덱스의 단어에 해당 단어의 출현 횟수를 기록한 벡터를 생성합니다."
      ]
    },
    {
      "cell_type": "code",
      "metadata": {
        "colab": {
          "base_uri": "https://localhost:8080/"
        },
        "id": "ge1FxfnGvG9t",
        "outputId": "2d5555ae-98d2-41dc-dc9d-98c0c6dd28f8"
      },
      "source": [
        "# Define Root Mean Squred Error\n",
        "rmse = lambda y_true, y_pred: np.sqrt(mse(y_true, y_pred))\n",
        "rmse_loss = lambda Estimator, X, y: rmse(y, Estimator.predict(X))\n",
        "\n",
        "# Split data into Train and Test sets\n",
        "x = train_data['excerpt_clean']\n",
        "y = train_data['target']\n",
        "\n",
        "print(len(x), len(y))\n",
        "\n",
        "x_train, x_test, y_train, y_test = train_test_split(x, y, random_state=42)\n",
        "print(len(x_train), len(y_train))\n",
        "print(len(x_test), len(y_test))"
      ],
      "execution_count": 78,
      "outputs": [
        {
          "output_type": "stream",
          "text": [
            "2834 2834\n",
            "2125 2125\n",
            "709 709\n"
          ],
          "name": "stdout"
        }
      ]
    },
    {
      "cell_type": "markdown",
      "metadata": {
        "id": "4ZwIs-Zbsaf8"
      },
      "source": [
        "### Linear Regression"
      ]
    },
    {
      "cell_type": "code",
      "metadata": {
        "id": "HU021Kmgsios",
        "colab": {
          "base_uri": "https://localhost:8080/"
        },
        "outputId": "835686e5-bd81-4971-e2a0-fb4bf55f24d9"
      },
      "source": [
        "# Unigram only\n",
        "# CountVectorizer(...ngram_range=(min_n, max_n))\n",
        "# only unigram: (1,1)\n",
        "# unigram & bigram: (1,2)\n",
        "# only bigram: (2,2)\n",
        "\n",
        "model = make_pipeline(\n",
        "    CountVectorizer(ngram_range=(1,1)), # unigram only\n",
        "    LinearRegression(),\n",
        ")\n",
        "\n",
        "val_score = cross_val_score(\n",
        "    model, \n",
        "    train_data['excerpt_clean'], \n",
        "    train_data['target'], \n",
        "    scoring=rmse_loss\n",
        ").mean()\n",
        "\n",
        "print(f'Train Score for CountVectorizer(1,1): {val_score}')"
      ],
      "execution_count": 127,
      "outputs": [
        {
          "output_type": "stream",
          "text": [
            "Train Score for CountVectorizer(1,1): 0.9262068130921135\n"
          ],
          "name": "stdout"
        }
      ]
    },
    {
      "cell_type": "code",
      "metadata": {
        "id": "k-UGLRLovpnL",
        "colab": {
          "base_uri": "https://localhost:8080/"
        },
        "outputId": "207f8cb7-b7a5-44d6-860a-f37cb183146e"
      },
      "source": [
        "# Bi-grams only\n",
        "\n",
        "model = make_pipeline(\n",
        "    CountVectorizer(ngram_range=(2,2)), # Bigram only\n",
        "    LinearRegression(),\n",
        ")\n",
        "\n",
        "val_score = cross_val_score(\n",
        "    model, \n",
        "    train_data['excerpt_clean'], \n",
        "    train_data['target'], \n",
        "    scoring=rmse_loss\n",
        ").mean()\n",
        "\n",
        "print(f'Train Score for CountVectorizer(2,2): {val_score}')"
      ],
      "execution_count": 128,
      "outputs": [
        {
          "output_type": "stream",
          "text": [
            "Train Score for CountVectorizer(2,2): 0.9869933820566695\n"
          ],
          "name": "stdout"
        }
      ]
    },
    {
      "cell_type": "code",
      "metadata": {
        "id": "CdBvErGuvw5g",
        "colab": {
          "base_uri": "https://localhost:8080/"
        },
        "outputId": "db28685d-c8d8-432a-ffbb-b33ecf7440b5"
      },
      "source": [
        "# Unigram + Bigram\n",
        "\n",
        "model = make_pipeline(\n",
        "    CountVectorizer(ngram_range=(1,2)), # Unigram + Bigram\n",
        "    LinearRegression(),\n",
        ")\n",
        "\n",
        "val_score = cross_val_score(\n",
        "    model, \n",
        "    train_data['excerpt_clean'], \n",
        "    train_data['target'], \n",
        "    scoring=rmse_loss\n",
        ").mean()\n",
        "\n",
        "print(f'Train Score for CountVectorizer(1,2): {val_score}')"
      ],
      "execution_count": 129,
      "outputs": [
        {
          "output_type": "stream",
          "text": [
            "Train Score for CountVectorizer(1,2): 0.8056790248654074\n"
          ],
          "name": "stdout"
        }
      ]
    },
    {
      "cell_type": "code",
      "metadata": {
        "colab": {
          "base_uri": "https://localhost:8080/"
        },
        "id": "hT1u9oStAt4K",
        "outputId": "f4e16233-c9c5-49d5-843c-3baf5093ba62"
      },
      "source": [
        "model"
      ],
      "execution_count": 130,
      "outputs": [
        {
          "output_type": "execute_result",
          "data": {
            "text/plain": [
              "Pipeline(steps=[('countvectorizer', CountVectorizer(ngram_range=(1, 2))),\n",
              "                ('linearregression', LinearRegression())])"
            ]
          },
          "metadata": {
            "tags": []
          },
          "execution_count": 130
        }
      ]
    },
    {
      "cell_type": "code",
      "metadata": {
        "id": "nb6_Pgoqv817",
        "colab": {
          "base_uri": "https://localhost:8080/"
        },
        "outputId": "5a976604-9619-400e-e412-4d4128c02094"
      },
      "source": [
        "# Unigram + Bigram + Trigram\n",
        "\n",
        "model = make_pipeline(\n",
        "    CountVectorizer(ngram_range=(1,3)),\n",
        "    LinearRegression(),\n",
        ")\n",
        "\n",
        "val_score = cross_val_score(\n",
        "    model, \n",
        "    train_data['excerpt_clean'], \n",
        "    train_data['target'], \n",
        "    scoring=rmse_loss\n",
        ").mean()\n",
        "\n",
        "print(f'Train Score for CountVectorizer(1,3): {val_score}')"
      ],
      "execution_count": 131,
      "outputs": [
        {
          "output_type": "stream",
          "text": [
            "Train Score for CountVectorizer(1,3): 0.80029988147739\n"
          ],
          "name": "stdout"
        }
      ]
    },
    {
      "cell_type": "markdown",
      "metadata": {
        "id": "nXZmdR7qsjQh"
      },
      "source": [
        "### Ridge Regression"
      ]
    },
    {
      "cell_type": "code",
      "metadata": {
        "id": "M4e8suQrsvV9",
        "colab": {
          "base_uri": "https://localhost:8080/"
        },
        "outputId": "aed3b41f-65a7-44b4-8e9a-fd1e86546e1e"
      },
      "source": [
        "# Ridge Regression with Unigram\n",
        "\n",
        "model = make_pipeline(\n",
        "    CountVectorizer(ngram_range=(1,1)),\n",
        "    Ridge(),\n",
        ")\n",
        "\n",
        "val_score = cross_val_score(\n",
        "    model, \n",
        "    train_data['excerpt_clean'], \n",
        "    train_data['target'], \n",
        "    scoring=rmse_loss\n",
        ").mean()\n",
        "\n",
        "print(f'Train Score for Ridge Regression: {val_score}')"
      ],
      "execution_count": 132,
      "outputs": [
        {
          "output_type": "stream",
          "text": [
            "Train Score for Ridge Regression: 0.9171236575608557\n"
          ],
          "name": "stdout"
        }
      ]
    },
    {
      "cell_type": "code",
      "metadata": {
        "id": "62prUZVKsmrM",
        "colab": {
          "base_uri": "https://localhost:8080/"
        },
        "outputId": "f9269fe4-fab3-4006-c165-7dc25f8b41bd"
      },
      "source": [
        "# Ridge Regression with Unigram + Bigram + Trigram\n",
        "\n",
        "model = make_pipeline(\n",
        "    CountVectorizer(ngram_range=(1,3)),\n",
        "    Ridge(),\n",
        ")\n",
        "\n",
        "val_score = cross_val_score(\n",
        "    model, \n",
        "    train_data['excerpt_clean'], \n",
        "    train_data['target'], \n",
        "    scoring=rmse_loss\n",
        ").mean()\n",
        "\n",
        "print(f'Train Score for Ridge Regression: {val_score}')"
      ],
      "execution_count": 133,
      "outputs": [
        {
          "output_type": "stream",
          "text": [
            "Train Score for Ridge Regression: 0.800328631450076\n"
          ],
          "name": "stdout"
        }
      ]
    },
    {
      "cell_type": "markdown",
      "metadata": {
        "id": "jVxC9HHwsn9d"
      },
      "source": [
        "### Extreme Gradient Boosting"
      ]
    },
    {
      "cell_type": "code",
      "metadata": {
        "id": "zwGI3MtMsrWI",
        "colab": {
          "base_uri": "https://localhost:8080/"
        },
        "outputId": "b88c0b76-fe50-458f-de23-9382f98b08c1"
      },
      "source": [
        "# xgb with Unigram\n",
        "\n",
        "model = make_pipeline(\n",
        "    CountVectorizer(ngram_range=(1,1)),\n",
        "    xgb.XGBRegressor() ,\n",
        ")\n",
        "\n",
        "val_score = cross_val_score(\n",
        "    model, \n",
        "    train_data['excerpt_clean'], \n",
        "    train_data['target'], \n",
        "    scoring=rmse_loss\n",
        ").mean()\n",
        "\n",
        "print(f'Train Score for Extreme Gradient Boosting: {val_score}')"
      ],
      "execution_count": 136,
      "outputs": [
        {
          "output_type": "stream",
          "text": [
            "[03:45:43] WARNING: /workspace/src/objective/regression_obj.cu:152: reg:linear is now deprecated in favor of reg:squarederror.\n",
            "[03:45:46] WARNING: /workspace/src/objective/regression_obj.cu:152: reg:linear is now deprecated in favor of reg:squarederror.\n",
            "[03:45:49] WARNING: /workspace/src/objective/regression_obj.cu:152: reg:linear is now deprecated in favor of reg:squarederror.\n",
            "[03:45:51] WARNING: /workspace/src/objective/regression_obj.cu:152: reg:linear is now deprecated in favor of reg:squarederror.\n",
            "[03:45:53] WARNING: /workspace/src/objective/regression_obj.cu:152: reg:linear is now deprecated in favor of reg:squarederror.\n",
            "Train Score for Extreme Gradient Boosting: 0.8917063633326539\n"
          ],
          "name": "stdout"
        }
      ]
    },
    {
      "cell_type": "code",
      "metadata": {
        "colab": {
          "base_uri": "https://localhost:8080/"
        },
        "id": "9HCkLszLBtVe",
        "outputId": "9bc14f4f-3703-4a13-fc14-c78e83293a1f"
      },
      "source": [
        "# xgb with Unigram + Bigram\n",
        "\n",
        "model = make_pipeline(\n",
        "    CountVectorizer(ngram_range=(1,2)),\n",
        "    xgb.XGBRegressor() ,\n",
        ")\n",
        "\n",
        "val_score = cross_val_score(\n",
        "    model, \n",
        "    train_data['excerpt_clean'], \n",
        "    train_data['target'], \n",
        "    scoring=rmse_loss\n",
        ").mean()\n",
        "\n",
        "print(f'Train Score for Extreme Gradient Boosting: {val_score}')"
      ],
      "execution_count": 139,
      "outputs": [
        {
          "output_type": "stream",
          "text": [
            "[03:52:08] WARNING: /workspace/src/objective/regression_obj.cu:152: reg:linear is now deprecated in favor of reg:squarederror.\n",
            "[03:52:23] WARNING: /workspace/src/objective/regression_obj.cu:152: reg:linear is now deprecated in favor of reg:squarederror.\n",
            "[03:52:37] WARNING: /workspace/src/objective/regression_obj.cu:152: reg:linear is now deprecated in favor of reg:squarederror.\n",
            "[03:52:52] WARNING: /workspace/src/objective/regression_obj.cu:152: reg:linear is now deprecated in favor of reg:squarederror.\n",
            "[03:53:07] WARNING: /workspace/src/objective/regression_obj.cu:152: reg:linear is now deprecated in favor of reg:squarederror.\n",
            "Train Score for Extreme Gradient Boosting: 0.8924020415154391\n"
          ],
          "name": "stdout"
        }
      ]
    },
    {
      "cell_type": "markdown",
      "metadata": {
        "id": "hcd1VZkUsr6d"
      },
      "source": [
        "## TF-IDF + Model"
      ]
    },
    {
      "cell_type": "code",
      "metadata": {
        "id": "NPbFNBASsw4c"
      },
      "source": [
        "def training(model, X_train, y_train, X_test, y_test, model_name, ngram_range):\n",
        "    t1 = time.time()\n",
        "    \n",
        "    model = make_pipeline(\n",
        "        TfidfVectorizer(binary=True, ngram_range=ngram_range),\n",
        "        model,\n",
        "    )\n",
        "    model.fit(X_train, y_train)\n",
        "    y_pred = model.predict(X_test)\n",
        "    MSE = mse(y_test, y_pred)\n",
        "    \n",
        "    t2 = time.time()\n",
        "    training_time = t2-t1 \n",
        "    \n",
        "    print(\"--- Model:\", model_name,\"---\")\n",
        "    print(\"MSE: \",MSE)\n",
        "    print(\"Training time:\",training_time)\n",
        "    print(\"\\n\")"
      ],
      "execution_count": null,
      "outputs": []
    },
    {
      "cell_type": "markdown",
      "metadata": {
        "id": "r0DfBwJnsxB_"
      },
      "source": [
        "### Linear Regression"
      ]
    },
    {
      "cell_type": "markdown",
      "metadata": {
        "id": "iNEOAqfdsxN7"
      },
      "source": [
        "### Ridge Regression"
      ]
    },
    {
      "cell_type": "code",
      "metadata": {
        "id": "g2Bneo4esxJC"
      },
      "source": [
        "ridge = Ridge(fit_intercept = True, normalize = False)\n",
        "lr = LinearRegression()\n",
        "xgbr = xgb.XGBRegressor()\n",
        "lasso = Lasso(alpha=0.1)\n",
        "tr = TweedieRegressor()\n",
        "hr = HuberRegressor(max_iter = 300)\n",
        "models = [ridge,lr,xgbr,lasso,tr,hr]\n",
        "\n",
        "modelnames = [\"Ridge Regression\",\"Linear Regression\",\"Extreme Gradient Boosting\", \"Lasso Regression\",\"Tweedie Regressor\",\"Huber Regressor\"]"
      ],
      "execution_count": null,
      "outputs": []
    },
    {
      "cell_type": "code",
      "metadata": {
        "id": "BvU9PNtys2oI"
      },
      "source": [
        ""
      ],
      "execution_count": null,
      "outputs": []
    },
    {
      "cell_type": "markdown",
      "metadata": {
        "id": "V4LvJScHs2t7"
      },
      "source": [
        "### Extreme Gradient Boosting"
      ]
    },
    {
      "cell_type": "code",
      "metadata": {
        "id": "SG89vBgqs6xZ"
      },
      "source": [
        "X = df_train[\"excerpt_clean\"]\n",
        "y = df_train['target']\n",
        "\n",
        "X_train, X_test, y_train, y_test = train_test_split(X, y, test_size=0.33, random_state=42)\n",
        "\n",
        "n_gram_dict = { \"Unigram\" : (1,1), \"Unigrams + Bigrams\": (1,2), \"Bigrams alone\": (2,2), \"Unigrams + Bigrams + Trigrams\": (1,3)}\n",
        "\n",
        "for n_gram in n_gram_dict.keys():\n",
        "    print(\"\\033[1m \" + n_gram + \" \\n \\033[0m\")\n",
        "    for i in range(0,len(models)):\n",
        "        training(model=models[i], X_train=X_train, y_train=y_train, X_test=X_test,y_test=y_test, model_name=modelnames[i],ngram_range=n_gram_dict[n_gram])\n",
        "    print(\"*\" * 40)"
      ],
      "execution_count": null,
      "outputs": []
    },
    {
      "cell_type": "markdown",
      "metadata": {
        "id": "XSeAf5mws60f"
      },
      "source": [
        "### Lasso Regression"
      ]
    },
    {
      "cell_type": "code",
      "metadata": {
        "id": "NNwwt04Ps65Z"
      },
      "source": [
        ""
      ],
      "execution_count": null,
      "outputs": []
    },
    {
      "cell_type": "markdown",
      "metadata": {
        "id": "tnPzAXcvs2yM"
      },
      "source": [
        "### Tweedie Regression"
      ]
    },
    {
      "cell_type": "code",
      "metadata": {
        "id": "3B_WJZ0ZtBZj"
      },
      "source": [
        ""
      ],
      "execution_count": null,
      "outputs": []
    },
    {
      "cell_type": "markdown",
      "metadata": {
        "id": "4Oeb-_YntBix"
      },
      "source": [
        "### Huber Regression"
      ]
    },
    {
      "cell_type": "code",
      "metadata": {
        "id": "WTi3dcwdtBzO"
      },
      "source": [
        ""
      ],
      "execution_count": null,
      "outputs": []
    },
    {
      "cell_type": "markdown",
      "metadata": {
        "id": "o8ZaGO3itB2d"
      },
      "source": [
        "## Embedding + Model"
      ]
    },
    {
      "cell_type": "markdown",
      "metadata": {
        "id": "vBAPR2tztB5g"
      },
      "source": [
        "### Simple Embedding"
      ]
    },
    {
      "cell_type": "code",
      "metadata": {
        "id": "mF3h1At3tB7t"
      },
      "source": [
        "learning_rate_reduction = ReduceLROnPlateau(monitor='val_root_mean_squared_error', \n",
        "                                            patience=3, \n",
        "                                            verbose=1, \n",
        "                                            factor=0.5, \n",
        "                                            min_lr=0.00001)\n",
        "\n",
        "\n",
        "early_stopping = EarlyStopping(\n",
        "    min_delta=0.001, # minimium amount of change to count as an improvement\n",
        "    patience=5, # how many epochs to wait before stopping\n",
        "    restore_best_weights=True,\n",
        ")"
      ],
      "execution_count": null,
      "outputs": []
    },
    {
      "cell_type": "code",
      "metadata": {
        "id": "4AegLjQP020k"
      },
      "source": [
        "def plot_graphs(history, string):\n",
        "  plt.plot(history.history[string])\n",
        "  plt.plot(history.history['val_'+string])\n",
        "  plt.xlabel(\"Epochs\")\n",
        "  plt.ylabel(string)\n",
        "  plt.legend([string, 'val_'+string])\n",
        "  plt.show()"
      ],
      "execution_count": null,
      "outputs": []
    },
    {
      "cell_type": "code",
      "metadata": {
        "id": "3YUiJO9m023I"
      },
      "source": [
        "def predict_complexity(model, excerpt):\n",
        "  # Create the sequences\n",
        "  padding_type='post'\n",
        "  sample_sequences = tokenizer.texts_to_sequences(excerpt)\n",
        "  excerpt_padded = pad_sequences(sample_sequences, padding=padding_type, \n",
        "                                 maxlen=max_length) \n",
        "  classes = model.predict(excerpt_padded)\n",
        "  for x in range(len(excerpt_padded)):\n",
        "    print(excerpt[x])\n",
        "    print(classes[x])\n",
        "    print('\\n')"
      ],
      "execution_count": null,
      "outputs": []
    },
    {
      "cell_type": "code",
      "metadata": {
        "id": "057Me3Jq025X"
      },
      "source": [
        "text = df_train.excerpt_clean\n",
        "vocab_size = 51038\n",
        "embedding_dim = 64\n",
        "max_length = 50\n",
        "trunc_type='post'\n",
        "pad_type='post'\n",
        "oov_tok = \"<OOV>\""
      ],
      "execution_count": null,
      "outputs": []
    },
    {
      "cell_type": "code",
      "metadata": {
        "id": "SGxy4QUT028u"
      },
      "source": [
        "tokenizer = Tokenizer(num_words = vocab_size, oov_token=oov_tok)\n",
        "tokenizer.fit_on_texts(text)\n",
        "word_index = tokenizer.word_index"
      ],
      "execution_count": null,
      "outputs": []
    },
    {
      "cell_type": "code",
      "metadata": {
        "id": "LLbr9DHv0_sP"
      },
      "source": [
        "training_sequences = tokenizer.texts_to_sequences(text)\n",
        "training_padded = pad_sequences(training_sequences,maxlen=max_length, \n",
        "                                truncating=trunc_type, padding=pad_type)\n",
        "\n",
        "#validation_sequences = tokenizer.texts_to_sequences(text[800:])\n",
        "#validation_padded = pad_sequences(validation_sequences,maxlen=max_length)\n",
        "\n",
        "training_labels_final = np.array(df_train.target)\n",
        "#validation_labels_final = np.array(df_train[800:].target)"
      ],
      "execution_count": null,
      "outputs": []
    },
    {
      "cell_type": "code",
      "metadata": {
        "id": "f1PkYvy40_vJ"
      },
      "source": [
        "# Simple Model\n",
        "\n",
        "model = tf.keras.Sequential([\n",
        "    tf.keras.layers.Embedding(vocab_size, embedding_dim, input_length=max_length),\n",
        "    tf.keras.layers.GlobalAveragePooling1D(),  \n",
        "    tf.keras.layers.Dense(1)\n",
        "])\n",
        "#model.compile(loss='binary_crossentropy',optimizer='adam',)#metrics=[rmse])\n",
        "model.compile(loss='mean_squared_error', metrics=[RootMeanSquaredError()])\n",
        "model.summary()"
      ],
      "execution_count": null,
      "outputs": []
    },
    {
      "cell_type": "code",
      "metadata": {
        "id": "lMTMXZDR0_xu"
      },
      "source": [
        "num_epochs = 35\n",
        "history = model.fit(training_padded, training_labels_final, epochs=num_epochs, \n",
        "                    validation_split=0.1,\n",
        "                    #validation_data=(validation_padded, validation_labels_final),\n",
        "                   callbacks=[early_stopping,learning_rate_reduction])"
      ],
      "execution_count": null,
      "outputs": []
    },
    {
      "cell_type": "code",
      "metadata": {
        "id": "rw3Oyf8E1LXa"
      },
      "source": [
        "def f(num):\n",
        "    return math.sqrt(math.sqrt(num))\n",
        "\n",
        "f(51308)"
      ],
      "execution_count": null,
      "outputs": []
    },
    {
      "cell_type": "code",
      "metadata": {
        "id": "VQ5pHHqa1O2r"
      },
      "source": [
        "xs=[]\n",
        "ys=[]\n",
        "current_item=1\n",
        "for item in text:\n",
        " xs.append(current_item)\n",
        " current_item=current_item+1\n",
        " ys.append(len(item))\n",
        "newys = sorted(ys)\n",
        "plt.xlabel('Excerpt')\n",
        "plt.ylabel('Word Length')\n",
        "plt.title('Length of Words in Excerpt')\n",
        "plt.plot(xs,newys)\n",
        "\n",
        "plt.show()"
      ],
      "execution_count": null,
      "outputs": []
    },
    {
      "cell_type": "code",
      "metadata": {
        "id": "Rq-G9xj51T0X"
      },
      "source": [
        "# Create model with Embedding\n",
        "\n",
        "model = tf.keras.Sequential([\n",
        "    tf.keras.layers.Embedding(vocab_size, embedding_dim, input_length=max_length),\n",
        "    tf.keras.layers.GlobalAveragePooling1D(),\n",
        "    tf.keras.layers.Dense(24, activation='relu', kernel_regularizer = tf.keras.regularizers.l2(0.01)),\n",
        "    tf.keras.layers.Dense(1)\n",
        "])\n",
        "model.compile(loss='mean_squared_error',optimizer='adam', metrics=[RootMeanSquaredError()])\n",
        "model.summary()"
      ],
      "execution_count": null,
      "outputs": []
    },
    {
      "cell_type": "code",
      "metadata": {
        "id": "go1tFH-q1T3f"
      },
      "source": [
        "num_epochs = 100\n",
        "history = model.fit(training_padded, training_labels_final, epochs=num_epochs, \n",
        "                    validation_split=0.1,\n",
        "                    #validation_data=(validation_padded, validation_labels_final),\n",
        "                   callbacks=[early_stopping,learning_rate_reduction])"
      ],
      "execution_count": null,
      "outputs": []
    },
    {
      "cell_type": "code",
      "metadata": {
        "id": "tgT8f0qC1ZCw"
      },
      "source": [
        "predict_complexity(model, df_test['excerpt'])\n",
        "plot_graphs(history, \"root_mean_squared_error\")\n",
        "plot_graphs(history, \"loss\")"
      ],
      "execution_count": null,
      "outputs": []
    },
    {
      "cell_type": "markdown",
      "metadata": {
        "id": "lGuEWKTMtM93"
      },
      "source": [
        "### Convolution Neural Networks"
      ]
    },
    {
      "cell_type": "code",
      "metadata": {
        "id": "5m6xM7JQtNBZ"
      },
      "source": [
        "model = tf.keras.Sequential([\n",
        "    tf.keras.layers.Embedding(vocab_size, embedding_dim, input_length=max_length),\n",
        "    tf.keras.layers.Conv1D(embedding_dim, 5, activation='relu'),\n",
        "    tf.keras.layers.GlobalMaxPooling1D(), \n",
        "    tf.keras.layers.Dense(24, activation='relu', kernel_regularizer = tf.keras.regularizers.l2(0.01)),\n",
        "    tf.keras.layers.Dense(1)\n",
        "])\n",
        "\n",
        "# Default learning rate for the Adam optimizer is 0.001\n",
        "# Let's slow down the learning rate by 10.\n",
        "learning_rate = 0.0001\n",
        "model.compile(loss='mean_squared_error',optimizer=tf.keras.optimizers.Adam(learning_rate), metrics=[RootMeanSquaredError()])\n",
        "model.summary()\n"
      ],
      "execution_count": null,
      "outputs": []
    },
    {
      "cell_type": "code",
      "metadata": {
        "id": "T_7sEKZn1eRz"
      },
      "source": [
        "num_epochs = 100\n",
        "history = model.fit(training_padded, training_labels_final, epochs=num_epochs, \n",
        "                    validation_split=0.1,\n",
        "                    #validation_data=(validation_padded, validation_labels_final),\n",
        "                   callbacks=[early_stopping,learning_rate_reduction])"
      ],
      "execution_count": null,
      "outputs": []
    },
    {
      "cell_type": "code",
      "metadata": {
        "id": "xBFOu8Dr1hDl"
      },
      "source": [
        "model.save(\"commonlitmodel.h5\")"
      ],
      "execution_count": null,
      "outputs": []
    },
    {
      "cell_type": "markdown",
      "metadata": {
        "id": "utm_GX61tNF1"
      },
      "source": [
        "### Gated Recurrent Units"
      ]
    },
    {
      "cell_type": "code",
      "metadata": {
        "id": "3XmAfOzZtNHz"
      },
      "source": [
        "model = tf.keras.Sequential([\n",
        "    tf.keras.layers.Embedding(vocab_size, embedding_dim, input_length=max_length),\n",
        "    tf.keras.layers.Bidirectional(tf.keras.layers.GRU(32)),\n",
        "    tf.keras.layers.Dense(1)\n",
        "])\n",
        "\n",
        "# Default learning rate for the Adam optimizer is 0.001\n",
        "# Let's slow down the learning rate by 10.\n",
        "learning_rate = 0.00003\n",
        "model.compile(loss='mean_squared_error',optimizer=tf.keras.optimizers.Adam(learning_rate), metrics=[RootMeanSquaredError()])\n",
        "model.summary()"
      ],
      "execution_count": null,
      "outputs": []
    },
    {
      "cell_type": "code",
      "metadata": {
        "id": "HHpWBywc1lUP"
      },
      "source": [
        "num_epochs = 35\n",
        "history = model.fit(training_padded, training_labels_final, epochs=num_epochs, \n",
        "                    validation_split=0.1,\n",
        "                    #validation_data=(validation_padded, validation_labels_final),\n",
        "                   callbacks=[early_stopping,learning_rate_reduction])"
      ],
      "execution_count": null,
      "outputs": []
    },
    {
      "cell_type": "markdown",
      "metadata": {
        "id": "l0Ca1oqxtNKh"
      },
      "source": [
        "### Simple Bi-derectional Long Short Term Memory"
      ]
    },
    {
      "cell_type": "code",
      "metadata": {
        "id": "bnifunY7tdrX"
      },
      "source": [
        "model = tf.keras.Sequential([\n",
        "    tf.keras.layers.Embedding(vocab_size, embedding_dim, input_length=max_length),\n",
        "    tf.keras.layers.Bidirectional(tf.keras.layers.LSTM(embedding_dim)), \n",
        "    tf.keras.layers.Dense(1)\n",
        "])\n",
        "\n",
        "# Default learning rate for the Adam optimizer is 0.001\n",
        "# Let's slow down the learning rate by 10.\n",
        "learning_rate = 0.00003\n",
        "model.compile(loss='mean_squared_error',optimizer=tf.keras.optimizers.Adam(learning_rate), metrics=[RootMeanSquaredError()])\n",
        "model.summary()"
      ],
      "execution_count": null,
      "outputs": []
    },
    {
      "cell_type": "code",
      "metadata": {
        "id": "nzWPDx1M1sH7"
      },
      "source": [
        "num_epochs = 35\n",
        "history = model.fit(training_padded, training_labels_final, epochs=num_epochs, \n",
        "                    validation_split=0.1,\n",
        "                    #validation_data=(validation_padded, validation_labels_final),\n",
        "                   callbacks=[early_stopping,learning_rate_reduction])"
      ],
      "execution_count": null,
      "outputs": []
    },
    {
      "cell_type": "markdown",
      "metadata": {
        "id": "UgMxvhLPtdvp"
      },
      "source": [
        "### Multiple Bi-derectional Long Short Term Memory"
      ]
    },
    {
      "cell_type": "code",
      "metadata": {
        "id": "KQtlqW6ytd0y"
      },
      "source": [
        "model = tf.keras.Sequential([\n",
        "    tf.keras.layers.Embedding(vocab_size, embedding_dim, input_length=max_length),\n",
        "    tf.keras.layers.Bidirectional(tf.keras.layers.LSTM(embedding_dim, \n",
        "                                                       return_sequences=True)),\n",
        "    tf.keras.layers.Bidirectional(tf.keras.layers.LSTM(embedding_dim)),\n",
        "    tf.keras.layers.Dense(1)\n",
        "])\n",
        "\n",
        "# Default learning rate for the Adam optimizer is 0.001\n",
        "# Let's slow down the learning rate by 10.\n",
        "learning_rate = 0.00003\n",
        "model.compile(loss='mean_squared_error',optimizer=tf.keras.optimizers.Adam(learning_rate), metrics=[RootMeanSquaredError()])\n",
        "model.summary()"
      ],
      "execution_count": null,
      "outputs": []
    },
    {
      "cell_type": "code",
      "metadata": {
        "id": "lo5bzags19dd"
      },
      "source": [
        "num_epochs = 35\n",
        "history = model.fit(training_padded, training_labels_final, epochs=num_epochs, \n",
        "                    validation_split=0.1,\n",
        "                    #validation_data=(validation_padded, validation_labels_final),\n",
        "                   callbacks=[early_stopping,learning_rate_reduction])"
      ],
      "execution_count": null,
      "outputs": []
    },
    {
      "cell_type": "markdown",
      "metadata": {
        "id": "YBMKhd_etd4Z"
      },
      "source": [
        "## Hyper Parameters Tuning"
      ]
    },
    {
      "cell_type": "code",
      "metadata": {
        "id": "pdyVXU69tmw1"
      },
      "source": [
        "def model_builder(hp):\n",
        "  model = keras.Sequential()\n",
        "  model.add(tf.keras.layers.Embedding(vocab_size, embedding_dim, input_length=max_length))\n",
        "\n",
        "  # Tune the number of units in the first Dense layer\n",
        "  # Choose an optimal value between 32-512\n",
        "  hp_units = hp.Int('units', min_value=16, max_value=256, step=8)\n",
        "  model.add(keras.layers.Dense(units=hp_units, activation='relu'))\n",
        "  model.add(keras.layers.Dense(1))\n",
        "\n",
        "  # Tune the learning rate for the optimizer\n",
        "  # Choose an optimal value from 0.01, 0.001, or 0.0001\n",
        "  hp_learning_rate = hp.Choice('learning_rate', values=[1e-3, 1e-4])\n",
        "\n",
        "  model.compile(optimizer=keras.optimizers.Adam(learning_rate=hp_learning_rate),\n",
        "                loss=keras.losses.MeanSquaredError(),\n",
        "                metrics=[RootMeanSquaredError()])\n",
        "\n",
        "  return model"
      ],
      "execution_count": null,
      "outputs": []
    },
    {
      "cell_type": "markdown",
      "metadata": {
        "id": "EfFJz5_EtmtB"
      },
      "source": [
        "### Random Search"
      ]
    },
    {
      "cell_type": "code",
      "metadata": {
        "id": "Uw862VZd2Csz"
      },
      "source": [
        "tuner_search=kt.RandomSearch(model_builder,\n",
        "                       objective = kt.Objective(\"val_root_mean_squared_error\", direction=\"min\"),\n",
        "                       max_trials=5,directory='output',project_name=\"nlp\")\n"
      ],
      "execution_count": null,
      "outputs": []
    },
    {
      "cell_type": "markdown",
      "metadata": {
        "id": "rZiyHRmstm2e"
      },
      "source": [
        "### Hyperband"
      ]
    },
    {
      "cell_type": "code",
      "metadata": {
        "id": "ByCvhA7rtm4V"
      },
      "source": [
        "tuner = kt.Hyperband(model_builder,\n",
        "                     max_epochs=10,\n",
        "                     objective = kt.Objective(\"val_root_mean_squared_error\", direction=\"min\"),\n",
        "                     factor=3,\n",
        "                     directory='my_dir',\n",
        "                     project_name='intro_to_kt')"
      ],
      "execution_count": null,
      "outputs": []
    },
    {
      "cell_type": "code",
      "metadata": {
        "id": "lFHFT0WV2HnX"
      },
      "source": [
        "stop_early = tf.keras.callbacks.EarlyStopping(monitor='val_loss', patience=5)"
      ],
      "execution_count": null,
      "outputs": []
    },
    {
      "cell_type": "markdown",
      "metadata": {
        "id": "upaZD_94tt68"
      },
      "source": [
        "## Glove Embeddings"
      ]
    },
    {
      "cell_type": "code",
      "metadata": {
        "id": "LTJkv81s2LxQ"
      },
      "source": [
        "glove_embeddings = dict()\n",
        "f = open('/kaggle/input/glove6b/glove.6B.50d.txt')\n",
        "for line in f:\n",
        " values = line.split()\n",
        " word = values[0]\n",
        " coefs = np.asarray(values[1:], dtype='float32')\n",
        " glove_embeddings[word] = coefs\n",
        "f.close()"
      ],
      "execution_count": null,
      "outputs": []
    },
    {
      "cell_type": "code",
      "metadata": {
        "id": "KIeRoUdg2Mw5"
      },
      "source": [
        "glove_embeddings['frog']"
      ],
      "execution_count": null,
      "outputs": []
    },
    {
      "cell_type": "code",
      "metadata": {
        "id": "2YSJAP742P6K"
      },
      "source": [
        "# this function creates a normalized vector for the whole sentence\n",
        "def sent2vec(s):\n",
        "    words = str(s).lower()\n",
        "    words = word_tokenize(words)\n",
        "    words = [w for w in words if not w in stop_words]\n",
        "    words = [w for w in words if w.isalpha()]\n",
        "    M = []\n",
        "    for w in words:\n",
        "        try:\n",
        "            M.append(glove_embeddings[w])\n",
        "        except:\n",
        "            continue\n",
        "    M = np.array(M)\n",
        "    v = M.sum(axis=0)\n",
        "    if type(v) != np.ndarray:\n",
        "        return np.zeros(50)\n",
        "    return v / np.sqrt((v ** 2).sum())"
      ],
      "execution_count": null,
      "outputs": []
    },
    {
      "cell_type": "markdown",
      "metadata": {
        "id": "09yjFHXdtt-G"
      },
      "source": [
        "### Extreme Gradient Boosting"
      ]
    },
    {
      "cell_type": "code",
      "metadata": {
        "id": "qs6a-g7NtuBV"
      },
      "source": [
        "xtrain, xvalid, ytrain, yvalid = train_test_split(df_train.excerpt_clean, df_train.target, \n",
        " \n",
        "                                                  random_state=42, \n",
        "                                                  test_size=0.1, shuffle=True)"
      ],
      "execution_count": null,
      "outputs": []
    },
    {
      "cell_type": "code",
      "metadata": {
        "id": "t1AJ1hRl2Tui"
      },
      "source": [
        "# create sentence vectors using the above function for training and validation set\n",
        "xtrain_glove = [sent2vec(x) for x in xtrain]\n",
        "xvalid_glove = [sent2vec(x) for x in xvalid]"
      ],
      "execution_count": null,
      "outputs": []
    },
    {
      "cell_type": "code",
      "metadata": {
        "id": "6NSdjj112Vbr"
      },
      "source": [
        "xtrain_glove = np.array(xtrain_glove)\n",
        "xvalid_glove = np.array(xvalid_glove)"
      ],
      "execution_count": null,
      "outputs": []
    },
    {
      "cell_type": "code",
      "metadata": {
        "id": "Voot5apM2XPX"
      },
      "source": [
        "# Fitting a simple xgboost on glove features\n",
        "clf = xgb.XGBRegressor(max_depth=7, n_estimators=200, colsample_bytree=0.8, \n",
        "                        subsample=0.8, nthread=10, learning_rate=0.1, silent=False)\n",
        "clf.fit(xtrain_glove, ytrain)\n",
        "predictions = clf.predict(xvalid_glove)\n",
        "\n",
        "print (\"MSE: %f \" % mse(yvalid, predictions))"
      ],
      "execution_count": null,
      "outputs": []
    },
    {
      "cell_type": "markdown",
      "metadata": {
        "id": "uz5t8ZLUtuGY"
      },
      "source": [
        "### Stacked LSTM"
      ]
    },
    {
      "cell_type": "code",
      "metadata": {
        "id": "dmGtHrlzt8NA"
      },
      "source": [
        "embedding_dim = 50\n",
        "vocab_size = 51308"
      ],
      "execution_count": null,
      "outputs": []
    },
    {
      "cell_type": "code",
      "metadata": {
        "id": "RWMWEs8B2Z4j"
      },
      "source": [
        "embedding_matrix = np.zeros((vocab_size, embedding_dim))\n",
        "for word, index in tokenizer.word_index.items():\n",
        " if index > vocab_size - 1:\n",
        "     break\n",
        " else:\n",
        "     embedding_vector = glove_embeddings.get(word)\n",
        " if embedding_vector is not None:\n",
        "     embedding_matrix[index] = embedding_vector"
      ],
      "execution_count": null,
      "outputs": []
    },
    {
      "cell_type": "code",
      "metadata": {
        "id": "k_hHjjJ-2Z9p"
      },
      "source": [
        "model = tf.keras.Sequential([\n",
        " tf.keras.layers.Embedding(vocab_size, embedding_dim, weights=[embedding_matrix], trainable=False),\n",
        " tf.keras.layers.Bidirectional(tf.keras.layers.LSTM(embedding_dim,\n",
        " return_sequences=True)),\n",
        " tf.keras.layers.Bidirectional(tf.keras.layers.LSTM(embedding_dim)),\n",
        " tf.keras.layers.Dense(24, activation='relu'),\n",
        " tf.keras.layers.Dense(1)\n",
        "])"
      ],
      "execution_count": null,
      "outputs": []
    },
    {
      "cell_type": "code",
      "metadata": {
        "id": "B-0VMeFC2aBj"
      },
      "source": [
        "learning_rate = 0.00003\n",
        "model.compile(loss='mean_squared_error',optimizer=tf.keras.optimizers.Adam(learning_rate), metrics=[RootMeanSquaredError()])\n",
        "model.summary()"
      ],
      "execution_count": null,
      "outputs": []
    },
    {
      "cell_type": "code",
      "metadata": {
        "id": "de6RKOSR2gQh"
      },
      "source": [
        "num_epochs = 100\n",
        "history = model.fit(training_padded, training_labels_final, epochs=num_epochs, \n",
        "                    validation_split=0.3,\n",
        "                    #validation_data=(validation_padded, validation_labels_final),\n",
        "                   callbacks=[early_stopping,learning_rate_reduction])"
      ],
      "execution_count": null,
      "outputs": []
    },
    {
      "cell_type": "code",
      "metadata": {
        "id": "0hHf5s6Q2jBY"
      },
      "source": [
        "xs=[]\n",
        "ys=[]\n",
        "cumulative_x=[]\n",
        "cumulative_y=[]\n",
        "total_y=0\n",
        "for word, index in tokenizer.word_index.items():\n",
        " xs.append(index)\n",
        " cumulative_x.append(index)\n",
        " if glove_embeddings.get(word) is not None:\n",
        "     total_y = total_y + 1\n",
        "     ys.append(1)\n",
        " else:\n",
        "     ys.append(0)\n",
        " cumulative_y.append(total_y / index)"
      ],
      "execution_count": null,
      "outputs": []
    },
    {
      "cell_type": "code",
      "metadata": {
        "id": "NLz8nH5I2lPM"
      },
      "source": [
        "fig, ax = plt.subplots(figsize=(12,2))\n",
        "ax.spines['top'].set_visible(False)\n",
        "plt.margins(x=0, y=None, tight=True)\n",
        "#plt.axis([13000, 14000, 0, 1])\n",
        "plt.fill(ys)"
      ],
      "execution_count": null,
      "outputs": []
    },
    {
      "cell_type": "code",
      "metadata": {
        "id": "QhgjWs9F2np5"
      },
      "source": [
        "plt.plot(cumulative_x, cumulative_y)\n",
        "plt.axis([0, 25000, .915, .985])\n"
      ],
      "execution_count": null,
      "outputs": []
    },
    {
      "cell_type": "markdown",
      "metadata": {
        "id": "Kz4M-qPNt9FR"
      },
      "source": [
        "## BERT HuggingFace Transformer"
      ]
    },
    {
      "cell_type": "code",
      "metadata": {
        "id": "LideTQBBt9Jc"
      },
      "source": [
        "tokenizer = BertTokenizer.from_pretrained('bert-large-uncased', do_lower_case=True)"
      ],
      "execution_count": null,
      "outputs": []
    },
    {
      "cell_type": "code",
      "metadata": {
        "id": "CV6RfZqc2xfE"
      },
      "source": [
        "def bert_encode(data,maximum_length) :\n",
        "  input_ids = []\n",
        "  attention_masks = []\n",
        "  \n",
        "\n",
        "  for i in range(len(data.excerpt)):\n",
        "      encoded = tokenizer.encode_plus(\n",
        "        \n",
        "        data.excerpt[i],\n",
        "        add_special_tokens=True,\n",
        "        max_length=maximum_length,\n",
        "        pad_to_max_length=True,\n",
        "        \n",
        "        return_attention_mask=True,\n",
        "        \n",
        "      )\n",
        "      \n",
        "      input_ids.append(encoded['input_ids'])\n",
        "      attention_masks.append(encoded['attention_mask'])\n",
        "  return np.array(input_ids),np.array(attention_masks)\n"
      ],
      "execution_count": null,
      "outputs": []
    },
    {
      "cell_type": "code",
      "metadata": {
        "id": "4ShyvBCI2zqQ"
      },
      "source": [
        "train_input_ids,train_attention_masks = bert_encode(df_train,60)\n",
        "test_input_ids,test_attention_masks = bert_encode(df_test,60)"
      ],
      "execution_count": null,
      "outputs": []
    },
    {
      "cell_type": "code",
      "metadata": {
        "id": "Z91_4z4r22Ox"
      },
      "source": [
        "def create_model(bert_model):\n",
        "  input_ids = tf.keras.Input(shape=(60,),dtype='int32')\n",
        "  attention_masks = tf.keras.Input(shape=(60,),dtype='int32')\n",
        "  \n",
        "  output = bert_model([input_ids,attention_masks])\n",
        "  output = output[1]\n",
        "  #output = tf.keras.layers.Dense(32,activation='relu')(output)\n",
        "  #output = tf.keras.layers.Dropout(0.2)(output)\n",
        "\n",
        "  output = tf.keras.layers.Dense(1)(output)\n",
        "  model = tf.keras.models.Model(inputs = [input_ids,attention_masks],outputs = output)\n",
        "  model.compile(tf.keras.optimizers.Adam(lr=6e-6), loss='mean_squared_error', metrics=[RootMeanSquaredError()])\n",
        "  return model"
      ],
      "execution_count": null,
      "outputs": []
    },
    {
      "cell_type": "code",
      "metadata": {
        "id": "9jP0MH4u24sX"
      },
      "source": [
        "bert_model = TFBertModel.from_pretrained('bert-large-uncased')"
      ],
      "execution_count": null,
      "outputs": []
    },
    {
      "cell_type": "code",
      "metadata": {
        "id": "TgKnjzR426Fm"
      },
      "source": [
        "model = create_model(bert_model)\n",
        "model.summary()"
      ],
      "execution_count": null,
      "outputs": []
    },
    {
      "cell_type": "code",
      "metadata": {
        "id": "reOkzsnn27ul"
      },
      "source": [
        "history = model.fit([train_input_ids,train_attention_masks],df_train.target,validation_split=0.3, epochs=2,batch_size=10)"
      ],
      "execution_count": null,
      "outputs": []
    },
    {
      "cell_type": "code",
      "metadata": {
        "id": "TiUMq3Fx29Uz"
      },
      "source": [
        "plt.plot(history.history['loss'])\n",
        "plt.plot(history.history['val_loss'])\n",
        "plt.title('model loss')\n",
        "plt.ylabel('loss')\n",
        "plt.xlabel('epoch')\n",
        "plt.legend(['train', 'test'], loc='upper left')\n",
        "plt.show()"
      ],
      "execution_count": null,
      "outputs": []
    },
    {
      "cell_type": "markdown",
      "metadata": {
        "id": "KnHoqUYjt9Pa"
      },
      "source": [
        "## RoBerta HuggingFace Transformer"
      ]
    },
    {
      "cell_type": "code",
      "metadata": {
        "id": "qCwRhVESt9Ro"
      },
      "source": [
        "tokenizer = RobertaTokenizer.from_pretrained('roberta-base')\n",
        "BASE_MODEL = TFRobertaModel.from_pretrained('roberta-base')"
      ],
      "execution_count": null,
      "outputs": []
    },
    {
      "cell_type": "code",
      "metadata": {
        "id": "yKYArR7juMOh"
      },
      "source": [
        "def create_model(bert_model):\n",
        "  input_ids = tf.keras.Input(shape=(60,),dtype='int32')\n",
        "  attention_masks = tf.keras.Input(shape=(60,),dtype='int32')\n",
        "  \n",
        "  output = bert_model([input_ids,attention_masks])\n",
        "  output = output[1]\n",
        "  output = tf.keras.layers.Dense(32,activation='relu')(output)\n",
        "  output = tf.keras.layers.Dropout(0.2)(output)\n",
        "\n",
        "  output = tf.keras.layers.Dense(1)(output)\n",
        "  model = tf.keras.models.Model(inputs = [input_ids,attention_masks],outputs = output)\n",
        "  \n",
        "  return model\n",
        "\n",
        "\n",
        "\n",
        "model = create_model(BASE_MODEL)\n",
        "model.compile(tf.keras.optimizers.Adam(lr=6e-6), loss='mean_squared_error', metrics=[RootMeanSquaredError()])\n",
        "    \n",
        "model.summary()"
      ],
      "execution_count": null,
      "outputs": []
    },
    {
      "cell_type": "code",
      "metadata": {
        "id": "y8GipvUeuMUZ"
      },
      "source": [
        "history = model.fit([train_input_ids,train_attention_masks],df_train.target,validation_split=0.3, epochs=2,batch_size=10)"
      ],
      "execution_count": null,
      "outputs": []
    },
    {
      "cell_type": "code",
      "metadata": {
        "id": "d2Dz80w13DaZ"
      },
      "source": [
        ""
      ],
      "execution_count": null,
      "outputs": []
    },
    {
      "cell_type": "code",
      "metadata": {
        "id": "wv0H9NyS3Ddf"
      },
      "source": [
        ""
      ],
      "execution_count": null,
      "outputs": []
    },
    {
      "cell_type": "code",
      "metadata": {
        "id": "awBt1xTB3DgW"
      },
      "source": [
        ""
      ],
      "execution_count": null,
      "outputs": []
    }
  ]
}